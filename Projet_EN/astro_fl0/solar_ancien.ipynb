{
 "cells": [
  {
   "cell_type": "code",
   "execution_count": 2,
   "metadata": {},
   "outputs": [
    {
     "ename": "FileNotFoundError",
     "evalue": "[WinError 2] Le fichier spécifié est introuvable: './solar_data'",
     "output_type": "error",
     "traceback": [
      "\u001b[1;31m---------------------------------------------------------------------------\u001b[0m",
      "\u001b[1;31mFileNotFoundError\u001b[0m                         Traceback (most recent call last)",
      "Cell \u001b[1;32mIn[2], line 5\u001b[0m\n\u001b[0;32m      2\u001b[0m \u001b[38;5;28;01mimport\u001b[39;00m \u001b[38;5;21;01mos\u001b[39;00m\n\u001b[0;32m      3\u001b[0m \u001b[38;5;28;01mimport\u001b[39;00m \u001b[38;5;21;01mpandas\u001b[39;00m \u001b[38;5;28;01mas\u001b[39;00m \u001b[38;5;21;01mpd\u001b[39;00m\n\u001b[1;32m----> 5\u001b[0m \u001b[43mos\u001b[49m\u001b[38;5;241;43m.\u001b[39;49m\u001b[43mchdir\u001b[49m\u001b[43m(\u001b[49m\u001b[38;5;124;43m'\u001b[39;49m\u001b[38;5;124;43m./solar_data\u001b[39;49m\u001b[38;5;124;43m'\u001b[39;49m\u001b[43m)\u001b[49m\n\u001b[0;32m      7\u001b[0m \u001b[38;5;28;01mfrom\u001b[39;00m \u001b[38;5;21;01msklearn\u001b[39;00m\u001b[38;5;21;01m.\u001b[39;00m\u001b[38;5;21;01mlinear_model\u001b[39;00m \u001b[38;5;28;01mimport\u001b[39;00m LinearRegression\n\u001b[0;32m      8\u001b[0m \u001b[38;5;28;01mfrom\u001b[39;00m \u001b[38;5;21;01msklearn\u001b[39;00m\u001b[38;5;21;01m.\u001b[39;00m\u001b[38;5;21;01mmetrics\u001b[39;00m \u001b[38;5;28;01mimport\u001b[39;00m mean_absolute_error, mean_squared_error\n",
      "\u001b[1;31mFileNotFoundError\u001b[0m: [WinError 2] Le fichier spécifié est introuvable: './solar_data'"
     ]
    }
   ],
   "source": [
    "#imports\n",
    "import os\n",
    "import pandas as pd\n",
    "\n",
    "os.chdir('./solar_data')\n",
    "\n",
    "from sklearn.linear_model import LinearRegression\n",
    "from sklearn.metrics import mean_absolute_error, mean_squared_error\n",
    "from lightgbm import LGBMRegressor\n",
    "import numpy as np\n",
    "import itertools\n",
    "\n",
    "\n",
    "\n",
    "from sktime.forecasting.compose import make_reduction\n",
    "from sktime.forecasting.model_selection import temporal_train_test_split\n",
    "from sktime.forecasting.arima import AutoARIMA\n",
    "from sktime.forecasting.ets import AutoETS\n",
    "\n",
    "import matplotlib.pyplot as plt\n",
    "import seaborn as sns\n",
    "from statsmodels.graphics.tsaplots import plot_acf\n",
    "import plotly.express as px\n",
    "\n",
    "import warnings\n",
    "warnings.filterwarnings('ignore')\n",
    "\n",
    "seed_value = 123"
   ]
  },
  {
   "cell_type": "code",
   "execution_count": 2,
   "metadata": {},
   "outputs": [],
   "source": [
    "energy_production = pd.read_csv('Solar_Energy_Production.csv')\n",
    "energy_production_sites = pd.read_csv('Solar_Photovoltaic_Sites.csv')\n"
   ]
  },
  {
   "cell_type": "code",
   "execution_count": null,
   "metadata": {},
   "outputs": [],
   "source": [
    "energy_production_sites.head(5)"
   ]
  },
  {
   "cell_type": "code",
   "execution_count": null,
   "metadata": {},
   "outputs": [],
   "source": [
    "energy_production"
   ]
  },
  {
   "cell_type": "markdown",
   "metadata": {},
   "source": [
    "### Null values "
   ]
  },
  {
   "cell_type": "code",
   "execution_count": null,
   "metadata": {},
   "outputs": [],
   "source": [
    "nulls = pd.DataFrame(energy_production.isna().mean() * 100, columns=['percentage_of_nulls'])\n",
    "nulls"
   ]
  },
  {
   "cell_type": "code",
   "execution_count": null,
   "metadata": {},
   "outputs": [],
   "source": [
    "nulls_sites = pd.DataFrame(energy_production_sites.isna().mean() * 100, columns=['percentage_of_nulls'])\n",
    "nulls_sites"
   ]
  },
  {
   "cell_type": "markdown",
   "metadata": {},
   "source": [
    "### check if each id in your DataFrame corresponds to only one site_name"
   ]
  },
  {
   "cell_type": "code",
   "execution_count": null,
   "metadata": {},
   "outputs": [],
   "source": [
    "energy_production.groupby('id')['name'].agg(lambda x: ', '.join(set(x)))"
   ]
  },
  {
   "cell_type": "code",
   "execution_count": null,
   "metadata": {},
   "outputs": [],
   "source": [
    "energy_production_sites.groupby('id')['name'].agg(lambda x: ', '.join(set(x)))"
   ]
  },
  {
   "cell_type": "code",
   "execution_count": null,
   "metadata": {},
   "outputs": [],
   "source": [
    "array2 = set(energy_production['id'].unique())\n",
    "array1 = set(energy_production_sites['id'].unique())\n",
    "same_elements = set(array1) - set(array2)\n",
    "same_elements"
   ]
  },
  {
   "cell_type": "markdown",
   "metadata": {},
   "source": [
    "### Merge datasets on id"
   ]
  },
  {
   "cell_type": "code",
   "execution_count": 10,
   "metadata": {},
   "outputs": [],
   "source": [
    "energy_production.columns\n",
    "energy_production = energy_production[['name', 'id', 'address', 'date', 'kWh']]"
   ]
  },
  {
   "cell_type": "code",
   "execution_count": null,
   "metadata": {},
   "outputs": [],
   "source": [
    "energy_production_sites.columns\n",
    "energy_production_sites = energy_production_sites[['id', 'latitude', 'longitude']]\n",
    "energy_production_sites"
   ]
  },
  {
   "cell_type": "code",
   "execution_count": null,
   "metadata": {},
   "outputs": [],
   "source": [
    "merged_df = pd.merge(energy_production, energy_production_sites,on='id', how='left')\n",
    "merged_df"
   ]
  },
  {
   "cell_type": "markdown",
   "metadata": {},
   "source": [
    "#### convert date column to datetime "
   ]
  },
  {
   "cell_type": "code",
   "execution_count": 18,
   "metadata": {},
   "outputs": [],
   "source": [
    "merged_df['date'] = pd.to_datetime(merged_df['date'])\n",
    "merged_df.rename(columns={'kWh': 'GHI'}, inplace=True)\n",
    "merged_df = merged_df.sort_values(by=['name', 'date'])\n"
   ]
  },
  {
   "cell_type": "markdown",
   "metadata": {},
   "source": [
    "### visualisation "
   ]
  },
  {
   "cell_type": "code",
   "execution_count": null,
   "metadata": {},
   "outputs": [],
   "source": [
    "m1 = merged_df[merged_df['id'] == 164440 ]\n",
    "m1"
   ]
  },
  {
   "cell_type": "code",
   "execution_count": null,
   "metadata": {},
   "outputs": [],
   "source": [
    "m2 = m1.sort_values(by='date')\n",
    "m2"
   ]
  },
  {
   "cell_type": "code",
   "execution_count": null,
   "metadata": {},
   "outputs": [],
   "source": [
    "fig = px.line(\n",
    "    merged_df, \n",
    "    x='date', \n",
    "    y='GHI', \n",
    "    color='name', \n",
    "    facet_col='name',  \n",
    "    facet_col_wrap=2,  \n",
    "    title=\"Solar Generation Time Series for All Sites\"\n",
    ")\n",
    "\n",
    "fig.update_layout(\n",
    "    xaxis_title='Datetime',\n",
    "    yaxis_title='Solar Generation (kWh)',\n",
    "    template='plotly_dark',  \n",
    "    height=900,  # Adjust height to accommodate multiple plots\n",
    "    width=1200\n",
    ")\n",
    "\n",
    "# Show the plot\n",
    "fig.show()"
   ]
  },
  {
   "cell_type": "code",
   "execution_count": 31,
   "metadata": {},
   "outputs": [],
   "source": [
    "import openmeteo_requests\n",
    "\n",
    "import requests_cache\n",
    "from retry_requests import retry\n",
    "from datetime import datetime\n",
    "import requests"
   ]
  },
  {
   "cell_type": "code",
   "execution_count": 32,
   "metadata": {},
   "outputs": [],
   "source": [
    "def api(start_date, end_date, latitude, longitude):\n",
    "    \"\"\"api call function.\n",
    "\n",
    "    Keyword arguments:\n",
    "    time -- desired date in \"%Y-%m-%d format\n",
    "    latitude -- gps coordinate\n",
    "    longitude -- gps coordinate\n",
    "    \"\"\"\n",
    "\n",
    "    date_string_1 = start_date + \"T\" + \"00:00\"\n",
    "    date_string_2 = end_date + \"T\" + \"00:00\"\n",
    "\n",
    "    date_object1 = datetime.strptime(date_string_1, \"%Y-%m-%dT%H:%M\")\n",
    "    date_object2 = datetime.strptime(date_string_2, \"%Y-%m-%dT%H:%M\")\n",
    "\n",
    "    date_only1 = date_object1.date()\n",
    "    date_only2 = date_object2.date()\n",
    "    date_string_1 = str(date_only1)\n",
    "    date_string_2 = str(date_only2)\n",
    "    # import dataset from API\n",
    "    x = [(latitude, longitude)]\n",
    "\n",
    "    li = []\n",
    "    for i in x:\n",
    "        params = {\n",
    "            \"latitude\": i[0],\n",
    "            \"longitude\": i[1],\n",
    "            \"start_date\": date_string_1,\n",
    "            \"end_date\": date_string_2,\n",
    "            \"timezone\": \"auto\",\n",
    "            \"temperature_unit\": \"fahrenheit\",  #  units\n",
    "            \"windspeed_unit\": \"mph\",\n",
    "            \"precipitation_unit\t\": \"inch\",\n",
    "            \"hourly\": {\n",
    "                \"precipitation\",\n",
    "                \"snowfall\",\n",
    "                \"temperature_2m\",\n",
    "                \"relativehumidity_2m\",\n",
    "                \"surface_pressure\",\n",
    "                \"windspeed_10m\",\n",
    "                \"winddirection_10m\",\n",
    "                \"windgusts_10m\",\n",
    "                \"cloudcover\",\n",
    "            },\n",
    "            \"daily\": {\"sunrise\", \"sunset\"},\n",
    "        }\n",
    "\n",
    "        response = requests.get(\n",
    "            \"https://archive-api.open-meteo.com/v1/era5\", params=params\n",
    "        )\n",
    "        res = response.json()\n",
    "\n",
    "\n",
    "    return  res"
   ]
  },
  {
   "cell_type": "code",
   "execution_count": 33,
   "metadata": {},
   "outputs": [],
   "source": [
    "start_time = str('2023-12-04')\n",
    "# last time stamp\n",
    "end_time = str('2024-01-04')\n",
    "lat = 46.999873\n",
    "lon = 6.498147\n",
    "res = api(start_time, end_time, lat, lon)"
   ]
  },
  {
   "cell_type": "code",
   "execution_count": null,
   "metadata": {},
   "outputs": [],
   "source": [
    "res"
   ]
  },
  {
   "cell_type": "code",
   "execution_count": null,
   "metadata": {},
   "outputs": [],
   "source": [
    "merged_df"
   ]
  },
  {
   "cell_type": "code",
   "execution_count": 40,
   "metadata": {},
   "outputs": [],
   "source": [
    "def api(start_date, end_date, latitude, longitude):\n",
    "    \"\"\"api call function.\n",
    "\n",
    "    Keyword arguments:\n",
    "    time -- desired date in \"%Y-%m-%d format\n",
    "    latitude -- gps coordinate\n",
    "    longitude -- gps coordinate\n",
    "    \"\"\"\n",
    "\n",
    "    date_string_1 = start_date + \"T\" + \"00:00\"\n",
    "    date_string_2 = end_date + \"T\" + \"00:00\"\n",
    "\n",
    "    date_object1 = datetime.strptime(date_string_1, \"%Y-%m-%dT%H:%M\")\n",
    "    date_object2 = datetime.strptime(date_string_2, \"%Y-%m-%dT%H:%M\")\n",
    "\n",
    "    date_only1 = date_object1.date()\n",
    "    date_only2 = date_object2.date()\n",
    "    date_string_1 = str(date_only1)\n",
    "    date_string_2 = str(date_only2)\n",
    "    # import dataset from API\n",
    "    x = [(latitude, longitude)]\n",
    "\n",
    "    li = []\n",
    "    for i in x:\n",
    "        params = {\n",
    "            \"latitude\": i[0],\n",
    "            \"longitude\": i[1],\n",
    "            \"start_date\": date_string_1,\n",
    "            \"end_date\": date_string_2,\n",
    "            \"timezone\": \"auto\",\n",
    "            \"temperature_unit\": \"fahrenheit\",  #  units\n",
    "            \"windspeed_unit\": \"mph\",\n",
    "            \"precipitation_unit\t\": \"inch\",\n",
    "            \"hourly\": {\n",
    "                \"precipitation\",\n",
    "                \"snowfall\",\n",
    "                \"temperature_2m\",\n",
    "                \"relativehumidity_2m\",\n",
    "                \"surface_pressure\",\n",
    "                \"windspeed_10m\",\n",
    "                \"winddirection_10m\",\n",
    "                \"windgusts_10m\",\n",
    "                \"cloudcover\",\n",
    "            },\n",
    "            \"daily\": {\"sunrise\", \"sunset\"},\n",
    "        }\n",
    "\n",
    "        response = requests.get(\n",
    "            \"https://archive-api.open-meteo.com/v1/era5\", params=params\n",
    "        )\n",
    "        res = response.json()\n",
    "\n",
    "        df3 = pd.DataFrame.from_dict(res[\"daily\"], orient=\"index\").T\n",
    "        df3 = df3.loc[df3.index.repeat(24)].reset_index(drop=True)\n",
    "        df2 = pd.DataFrame.from_dict(res[\"hourly\"], orient=\"index\").T\n",
    "        df2 = df2.assign(\n",
    "            elevation=res[\"elevation\"],\n",
    "            latitude=res[\"latitude\"],\n",
    "            longitude=res[\"longitude\"],\n",
    "            timezone=res[\"timezone_abbreviation\"],\n",
    "        )\n",
    "        df2[\"sunrise\"] = df3[\"sunrise\"]\n",
    "        df2[\"sunset\"] = df3[\"sunset\"]\n",
    "        li.append(df2)\n",
    "    frame = pd.concat(li, axis=0, ignore_index=True)\n",
    "    return frame, res"
   ]
  },
  {
   "cell_type": "code",
   "execution_count": null,
   "metadata": {},
   "outputs": [],
   "source": [
    "grouped_conc = merged_df.groupby(\"id\")\n",
    "frames = []\n",
    "for id, group in grouped_conc:\n",
    "\n",
    "    \n",
    "    start_time = str(group[\"date\"].iloc[0].date())\n",
    "    print(start_time)\n",
    "    end_time = str(group[\"date\"].iloc[len(group) - 1].date())\n",
    "    print(end_time)\n",
    "    lat = group[\"latitude\"].iloc[0]\n",
    "    print(lat)\n",
    "    lon = group[\"longitude\"].iloc[0]\n",
    "    print(lon)\n",
    "    frame ,res = api(start_time, end_time, lat, lon)\n",
    "\n",
    "    frames.append(frame)"
   ]
  },
  {
   "cell_type": "code",
   "execution_count": null,
   "metadata": {},
   "outputs": [],
   "source": [
    "frame"
   ]
  },
  {
   "cell_type": "code",
   "execution_count": 43,
   "metadata": {},
   "outputs": [],
   "source": [
    "def predict(data):\n",
    "    \"\"\"Solar radiation prediction function and weather data extraction.\n",
    "\n",
    "    Keyword arguments:\n",
    "\n",
    "    data -- merged hourly data frame from inventory and SBAP using merging fonction\n",
    "    \"\"\"\n",
    "\n",
    "    data[\"snowfall\"] = 0\n",
    "    data[\"precipitation\"] = 0\n",
    "    data[\"cloudcover\"] = 0\n",
    "\n",
    "    data[\"surface_pressure\"] = 0\n",
    "    data[\"winddirection_10m\"] = 0\n",
    "    data[\"windgusts_10m\"] = 0\n",
    "    data[\"windspeed_10m\"] = 0\n",
    "    data[\"relativehumidity_2m\"] = 0\n",
    "    data[\"temperature_2m\"] = 0\n",
    "    data[\"elevation\"] = 0\n",
    "    data[\"Solar_radiation\"] = 0\n",
    "\n",
    "    devices = []\n",
    "\n",
    "    grouped_conc = data.groupby(\"id\")\n",
    "\n",
    "    for id, group in grouped_conc:\n",
    "\n",
    "        start_time = str(group[\"date\"].iloc[0].date())\n",
    "        # last time stamp\n",
    "        end_time = str(group[\"date\"].iloc[len(group) - 1].date())\n",
    "        lat = group[\"latitude\"].iloc[0]\n",
    "        lon = group[\"longitude\"].iloc[0]\n",
    "        frame, res = api(start_time, end_time, lat, lon)\n",
    "        for i in range(len(group)):\n",
    "\n",
    "            times = str(group[\"date\"].iloc[i].date())\n",
    "\n",
    "            hour2 = group[\"date\"].iloc[i].strftime(\"%H:00\")\n",
    "\n",
    "            snowfall = frame.query(\"time=='{}'\".format(times + \"T\" + hour2))[\n",
    "                \"snowfall\"\n",
    "            ].values[0]\n",
    "            precipitation = frame.query(\"time=='{}'\".format(times + \"T\" + hour2))[\n",
    "                \"precipitation\"\n",
    "            ].values[0]\n",
    "            cloudcover = frame.query(\"time=='{}'\".format(times + \"T\" + hour2))[\n",
    "                \"cloudcover\"\n",
    "            ].values[0]\n",
    "\n",
    "            surface_pressure = frame.query(\"time=='{}'\".format(times + \"T\" + hour2))[\n",
    "                \"surface_pressure\"\n",
    "            ].values[0]\n",
    "            winddirection_10m = frame.query(\"time=='{}'\".format(times + \"T\" + hour2))[\n",
    "                \"winddirection_10m\"\n",
    "            ].values[0]\n",
    "            windgusts_10m = frame.query(\"time=='{}'\".format(times + \"T\" + hour2))[\n",
    "                \"windgusts_10m\"\n",
    "            ].values[0]\n",
    "            windspeed_10m = frame.query(\"time=='{}'\".format(times + \"T\" + hour2))[\n",
    "                \"windspeed_10m\"\n",
    "            ].values[0]\n",
    "            relativehumidity_2m = frame.query(\"time=='{}'\".format(times + \"T\" + hour2))[\n",
    "                \"relativehumidity_2m\"\n",
    "            ].values[0]\n",
    "            temperature_2m = frame.query(\"time=='{}'\".format(times + \"T\" + hour2))[\n",
    "                \"temperature_2m\"\n",
    "            ].values[0]\n",
    "            elevation = frame.query(\"time=='{}'\".format(times + \"T\" + hour2))[\n",
    "                \"elevation\"\n",
    "            ].values[0]\n",
    "\n",
    "            group[\"snowfall\"].iloc[i] = snowfall\n",
    "            group[\"cloudcover\"].iloc[i] = cloudcover\n",
    "\n",
    "            group[\"surface_pressure\"].iloc[i] = surface_pressure\n",
    "            group[\"winddirection_10m\"].iloc[i] = winddirection_10m\n",
    "            group[\"windspeed_10m\"].iloc[i] = windspeed_10m\n",
    "\n",
    "            group[\"relativehumidity_2m\"].iloc[i] = relativehumidity_2m\n",
    "            group[\"temperature_2m\"].iloc[i] = temperature_2m\n",
    "            group[\"elevation\"].iloc[i] = elevation\n",
    "\n",
    "           \n",
    "\n",
    "        devices.append(group)\n",
    "\n",
    "    conc = pd.concat(devices, ignore_index=True)\n",
    "\n",
    "    return conc"
   ]
  },
  {
   "cell_type": "code",
   "execution_count": null,
   "metadata": {},
   "outputs": [],
   "source": [
    "concatenated = predict(merged_df)"
   ]
  }
 ],
 "metadata": {
  "kernelspec": {
   "display_name": "Python 3",
   "language": "python",
   "name": "python3"
  },
  "language_info": {
   "codemirror_mode": {
    "name": "ipython",
    "version": 3
   },
   "file_extension": ".py",
   "mimetype": "text/x-python",
   "name": "python",
   "nbconvert_exporter": "python",
   "pygments_lexer": "ipython3",
   "version": "3.11.9"
  },
  "orig_nbformat": 4
 },
 "nbformat": 4,
 "nbformat_minor": 2
}
