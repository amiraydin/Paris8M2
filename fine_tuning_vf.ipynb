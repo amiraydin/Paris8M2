{
  "cells": [
    {
      "cell_type": "markdown",
      "metadata": {
        "id": "Tx8s7tZ1jiS0"
      },
      "source": [
        "# **PROJET FINE-TUNING LLM**"
      ]
    },
    {
      "cell_type": "markdown",
      "metadata": {
        "id": "_tXe5c7ijiS5"
      },
      "source": [
        "## ***Importer les librairies usuelles*** ##"
      ]
    },
    {
      "cell_type": "code",
      "source": [
        "!pip install bitsandbytes\n",
        "!pip install git+https://github.com/huggingface/transformers.git\n",
        "!pip install git+https://github.com/huggingface/peft.git\n",
        "!pip install git+https://github.com/huggingface/accelerate.git\n",
        "!pip install trl\n",
        "!pip install rouge-score"
      ],
      "metadata": {
        "colab": {
          "base_uri": "https://localhost:8080/"
        },
        "id": "Z7lCl6Ypm4jl",
        "outputId": "3d5a0e4a-cf41-4f5f-b1a6-b8e4f6d83394"
      },
      "execution_count": 1,
      "outputs": [
        {
          "output_type": "stream",
          "name": "stdout",
          "text": [
            "Requirement already satisfied: bitsandbytes in /usr/local/lib/python3.11/dist-packages (0.45.0)\n",
            "Requirement already satisfied: torch in /usr/local/lib/python3.11/dist-packages (from bitsandbytes) (2.5.1+cu121)\n",
            "Requirement already satisfied: numpy in /usr/local/lib/python3.11/dist-packages (from bitsandbytes) (1.26.4)\n",
            "Requirement already satisfied: typing_extensions>=4.8.0 in /usr/local/lib/python3.11/dist-packages (from bitsandbytes) (4.12.2)\n",
            "Requirement already satisfied: filelock in /usr/local/lib/python3.11/dist-packages (from torch->bitsandbytes) (3.16.1)\n",
            "Requirement already satisfied: networkx in /usr/local/lib/python3.11/dist-packages (from torch->bitsandbytes) (3.4.2)\n",
            "Requirement already satisfied: jinja2 in /usr/local/lib/python3.11/dist-packages (from torch->bitsandbytes) (3.1.5)\n",
            "Requirement already satisfied: fsspec in /usr/local/lib/python3.11/dist-packages (from torch->bitsandbytes) (2024.9.0)\n",
            "Requirement already satisfied: nvidia-cuda-nvrtc-cu12==12.1.105 in /usr/local/lib/python3.11/dist-packages (from torch->bitsandbytes) (12.1.105)\n",
            "Requirement already satisfied: nvidia-cuda-runtime-cu12==12.1.105 in /usr/local/lib/python3.11/dist-packages (from torch->bitsandbytes) (12.1.105)\n",
            "Requirement already satisfied: nvidia-cuda-cupti-cu12==12.1.105 in /usr/local/lib/python3.11/dist-packages (from torch->bitsandbytes) (12.1.105)\n",
            "Requirement already satisfied: nvidia-cudnn-cu12==9.1.0.70 in /usr/local/lib/python3.11/dist-packages (from torch->bitsandbytes) (9.1.0.70)\n",
            "Requirement already satisfied: nvidia-cublas-cu12==12.1.3.1 in /usr/local/lib/python3.11/dist-packages (from torch->bitsandbytes) (12.1.3.1)\n",
            "Requirement already satisfied: nvidia-cufft-cu12==11.0.2.54 in /usr/local/lib/python3.11/dist-packages (from torch->bitsandbytes) (11.0.2.54)\n",
            "Requirement already satisfied: nvidia-curand-cu12==10.3.2.106 in /usr/local/lib/python3.11/dist-packages (from torch->bitsandbytes) (10.3.2.106)\n",
            "Requirement already satisfied: nvidia-cusolver-cu12==11.4.5.107 in /usr/local/lib/python3.11/dist-packages (from torch->bitsandbytes) (11.4.5.107)\n",
            "Requirement already satisfied: nvidia-cusparse-cu12==12.1.0.106 in /usr/local/lib/python3.11/dist-packages (from torch->bitsandbytes) (12.1.0.106)\n",
            "Requirement already satisfied: nvidia-nccl-cu12==2.21.5 in /usr/local/lib/python3.11/dist-packages (from torch->bitsandbytes) (2.21.5)\n",
            "Requirement already satisfied: nvidia-nvtx-cu12==12.1.105 in /usr/local/lib/python3.11/dist-packages (from torch->bitsandbytes) (12.1.105)\n",
            "Requirement already satisfied: triton==3.1.0 in /usr/local/lib/python3.11/dist-packages (from torch->bitsandbytes) (3.1.0)\n",
            "Requirement already satisfied: sympy==1.13.1 in /usr/local/lib/python3.11/dist-packages (from torch->bitsandbytes) (1.13.1)\n",
            "Requirement already satisfied: nvidia-nvjitlink-cu12 in /usr/local/lib/python3.11/dist-packages (from nvidia-cusolver-cu12==11.4.5.107->torch->bitsandbytes) (12.6.85)\n",
            "Requirement already satisfied: mpmath<1.4,>=1.1.0 in /usr/local/lib/python3.11/dist-packages (from sympy==1.13.1->torch->bitsandbytes) (1.3.0)\n",
            "Requirement already satisfied: MarkupSafe>=2.0 in /usr/local/lib/python3.11/dist-packages (from jinja2->torch->bitsandbytes) (3.0.2)\n",
            "Collecting git+https://github.com/huggingface/transformers.git\n",
            "  Cloning https://github.com/huggingface/transformers.git to /tmp/pip-req-build-4274nomo\n",
            "  Running command git clone --filter=blob:none --quiet https://github.com/huggingface/transformers.git /tmp/pip-req-build-4274nomo\n",
            "  Resolved https://github.com/huggingface/transformers.git to commit 5fa35344755d8d9c29610b57d175efd03776ae9e\n",
            "  Installing build dependencies ... \u001b[?25l\u001b[?25hdone\n",
            "  Getting requirements to build wheel ... \u001b[?25l\u001b[?25hdone\n",
            "  Preparing metadata (pyproject.toml) ... \u001b[?25l\u001b[?25hdone\n",
            "Requirement already satisfied: filelock in /usr/local/lib/python3.11/dist-packages (from transformers==4.49.0.dev0) (3.16.1)\n",
            "Requirement already satisfied: huggingface-hub<1.0,>=0.24.0 in /usr/local/lib/python3.11/dist-packages (from transformers==4.49.0.dev0) (0.27.1)\n",
            "Requirement already satisfied: numpy>=1.17 in /usr/local/lib/python3.11/dist-packages (from transformers==4.49.0.dev0) (1.26.4)\n",
            "Requirement already satisfied: packaging>=20.0 in /usr/local/lib/python3.11/dist-packages (from transformers==4.49.0.dev0) (24.2)\n",
            "Requirement already satisfied: pyyaml>=5.1 in /usr/local/lib/python3.11/dist-packages (from transformers==4.49.0.dev0) (6.0.2)\n",
            "Requirement already satisfied: regex!=2019.12.17 in /usr/local/lib/python3.11/dist-packages (from transformers==4.49.0.dev0) (2024.11.6)\n",
            "Requirement already satisfied: requests in /usr/local/lib/python3.11/dist-packages (from transformers==4.49.0.dev0) (2.32.3)\n",
            "Requirement already satisfied: tokenizers<0.22,>=0.21 in /usr/local/lib/python3.11/dist-packages (from transformers==4.49.0.dev0) (0.21.0)\n",
            "Requirement already satisfied: safetensors>=0.4.1 in /usr/local/lib/python3.11/dist-packages (from transformers==4.49.0.dev0) (0.5.2)\n",
            "Requirement already satisfied: tqdm>=4.27 in /usr/local/lib/python3.11/dist-packages (from transformers==4.49.0.dev0) (4.67.1)\n",
            "Requirement already satisfied: fsspec>=2023.5.0 in /usr/local/lib/python3.11/dist-packages (from huggingface-hub<1.0,>=0.24.0->transformers==4.49.0.dev0) (2024.9.0)\n",
            "Requirement already satisfied: typing-extensions>=3.7.4.3 in /usr/local/lib/python3.11/dist-packages (from huggingface-hub<1.0,>=0.24.0->transformers==4.49.0.dev0) (4.12.2)\n",
            "Requirement already satisfied: charset-normalizer<4,>=2 in /usr/local/lib/python3.11/dist-packages (from requests->transformers==4.49.0.dev0) (3.4.1)\n",
            "Requirement already satisfied: idna<4,>=2.5 in /usr/local/lib/python3.11/dist-packages (from requests->transformers==4.49.0.dev0) (3.10)\n",
            "Requirement already satisfied: urllib3<3,>=1.21.1 in /usr/local/lib/python3.11/dist-packages (from requests->transformers==4.49.0.dev0) (2.3.0)\n",
            "Requirement already satisfied: certifi>=2017.4.17 in /usr/local/lib/python3.11/dist-packages (from requests->transformers==4.49.0.dev0) (2024.12.14)\n",
            "Collecting git+https://github.com/huggingface/peft.git\n",
            "  Cloning https://github.com/huggingface/peft.git to /tmp/pip-req-build-e6wauzq7\n",
            "  Running command git clone --filter=blob:none --quiet https://github.com/huggingface/peft.git /tmp/pip-req-build-e6wauzq7\n",
            "  Resolved https://github.com/huggingface/peft.git to commit aa3f41f7529ed078e9225b2fc1edbb8c71f58f99\n",
            "  Installing build dependencies ... \u001b[?25l\u001b[?25hdone\n",
            "  Getting requirements to build wheel ... \u001b[?25l\u001b[?25hdone\n",
            "  Preparing metadata (pyproject.toml) ... \u001b[?25l\u001b[?25hdone\n",
            "Requirement already satisfied: numpy>=1.17 in /usr/local/lib/python3.11/dist-packages (from peft==0.14.1.dev0) (1.26.4)\n",
            "Requirement already satisfied: packaging>=20.0 in /usr/local/lib/python3.11/dist-packages (from peft==0.14.1.dev0) (24.2)\n",
            "Requirement already satisfied: psutil in /usr/local/lib/python3.11/dist-packages (from peft==0.14.1.dev0) (5.9.5)\n",
            "Requirement already satisfied: pyyaml in /usr/local/lib/python3.11/dist-packages (from peft==0.14.1.dev0) (6.0.2)\n",
            "Requirement already satisfied: torch>=1.13.0 in /usr/local/lib/python3.11/dist-packages (from peft==0.14.1.dev0) (2.5.1+cu121)\n",
            "Requirement already satisfied: transformers in /usr/local/lib/python3.11/dist-packages (from peft==0.14.1.dev0) (4.49.0.dev0)\n",
            "Requirement already satisfied: tqdm in /usr/local/lib/python3.11/dist-packages (from peft==0.14.1.dev0) (4.67.1)\n",
            "Requirement already satisfied: accelerate>=0.21.0 in /usr/local/lib/python3.11/dist-packages (from peft==0.14.1.dev0) (1.4.0.dev0)\n",
            "Requirement already satisfied: safetensors in /usr/local/lib/python3.11/dist-packages (from peft==0.14.1.dev0) (0.5.2)\n",
            "Requirement already satisfied: huggingface_hub>=0.25.0 in /usr/local/lib/python3.11/dist-packages (from peft==0.14.1.dev0) (0.27.1)\n",
            "Requirement already satisfied: filelock in /usr/local/lib/python3.11/dist-packages (from huggingface_hub>=0.25.0->peft==0.14.1.dev0) (3.16.1)\n",
            "Requirement already satisfied: fsspec>=2023.5.0 in /usr/local/lib/python3.11/dist-packages (from huggingface_hub>=0.25.0->peft==0.14.1.dev0) (2024.9.0)\n",
            "Requirement already satisfied: requests in /usr/local/lib/python3.11/dist-packages (from huggingface_hub>=0.25.0->peft==0.14.1.dev0) (2.32.3)\n",
            "Requirement already satisfied: typing-extensions>=3.7.4.3 in /usr/local/lib/python3.11/dist-packages (from huggingface_hub>=0.25.0->peft==0.14.1.dev0) (4.12.2)\n",
            "Requirement already satisfied: networkx in /usr/local/lib/python3.11/dist-packages (from torch>=1.13.0->peft==0.14.1.dev0) (3.4.2)\n",
            "Requirement already satisfied: jinja2 in /usr/local/lib/python3.11/dist-packages (from torch>=1.13.0->peft==0.14.1.dev0) (3.1.5)\n",
            "Requirement already satisfied: nvidia-cuda-nvrtc-cu12==12.1.105 in /usr/local/lib/python3.11/dist-packages (from torch>=1.13.0->peft==0.14.1.dev0) (12.1.105)\n",
            "Requirement already satisfied: nvidia-cuda-runtime-cu12==12.1.105 in /usr/local/lib/python3.11/dist-packages (from torch>=1.13.0->peft==0.14.1.dev0) (12.1.105)\n",
            "Requirement already satisfied: nvidia-cuda-cupti-cu12==12.1.105 in /usr/local/lib/python3.11/dist-packages (from torch>=1.13.0->peft==0.14.1.dev0) (12.1.105)\n",
            "Requirement already satisfied: nvidia-cudnn-cu12==9.1.0.70 in /usr/local/lib/python3.11/dist-packages (from torch>=1.13.0->peft==0.14.1.dev0) (9.1.0.70)\n",
            "Requirement already satisfied: nvidia-cublas-cu12==12.1.3.1 in /usr/local/lib/python3.11/dist-packages (from torch>=1.13.0->peft==0.14.1.dev0) (12.1.3.1)\n",
            "Requirement already satisfied: nvidia-cufft-cu12==11.0.2.54 in /usr/local/lib/python3.11/dist-packages (from torch>=1.13.0->peft==0.14.1.dev0) (11.0.2.54)\n",
            "Requirement already satisfied: nvidia-curand-cu12==10.3.2.106 in /usr/local/lib/python3.11/dist-packages (from torch>=1.13.0->peft==0.14.1.dev0) (10.3.2.106)\n",
            "Requirement already satisfied: nvidia-cusolver-cu12==11.4.5.107 in /usr/local/lib/python3.11/dist-packages (from torch>=1.13.0->peft==0.14.1.dev0) (11.4.5.107)\n",
            "Requirement already satisfied: nvidia-cusparse-cu12==12.1.0.106 in /usr/local/lib/python3.11/dist-packages (from torch>=1.13.0->peft==0.14.1.dev0) (12.1.0.106)\n",
            "Requirement already satisfied: nvidia-nccl-cu12==2.21.5 in /usr/local/lib/python3.11/dist-packages (from torch>=1.13.0->peft==0.14.1.dev0) (2.21.5)\n",
            "Requirement already satisfied: nvidia-nvtx-cu12==12.1.105 in /usr/local/lib/python3.11/dist-packages (from torch>=1.13.0->peft==0.14.1.dev0) (12.1.105)\n",
            "Requirement already satisfied: triton==3.1.0 in /usr/local/lib/python3.11/dist-packages (from torch>=1.13.0->peft==0.14.1.dev0) (3.1.0)\n",
            "Requirement already satisfied: sympy==1.13.1 in /usr/local/lib/python3.11/dist-packages (from torch>=1.13.0->peft==0.14.1.dev0) (1.13.1)\n",
            "Requirement already satisfied: nvidia-nvjitlink-cu12 in /usr/local/lib/python3.11/dist-packages (from nvidia-cusolver-cu12==11.4.5.107->torch>=1.13.0->peft==0.14.1.dev0) (12.6.85)\n",
            "Requirement already satisfied: mpmath<1.4,>=1.1.0 in /usr/local/lib/python3.11/dist-packages (from sympy==1.13.1->torch>=1.13.0->peft==0.14.1.dev0) (1.3.0)\n",
            "Requirement already satisfied: regex!=2019.12.17 in /usr/local/lib/python3.11/dist-packages (from transformers->peft==0.14.1.dev0) (2024.11.6)\n",
            "Requirement already satisfied: tokenizers<0.22,>=0.21 in /usr/local/lib/python3.11/dist-packages (from transformers->peft==0.14.1.dev0) (0.21.0)\n",
            "Requirement already satisfied: MarkupSafe>=2.0 in /usr/local/lib/python3.11/dist-packages (from jinja2->torch>=1.13.0->peft==0.14.1.dev0) (3.0.2)\n",
            "Requirement already satisfied: charset-normalizer<4,>=2 in /usr/local/lib/python3.11/dist-packages (from requests->huggingface_hub>=0.25.0->peft==0.14.1.dev0) (3.4.1)\n",
            "Requirement already satisfied: idna<4,>=2.5 in /usr/local/lib/python3.11/dist-packages (from requests->huggingface_hub>=0.25.0->peft==0.14.1.dev0) (3.10)\n",
            "Requirement already satisfied: urllib3<3,>=1.21.1 in /usr/local/lib/python3.11/dist-packages (from requests->huggingface_hub>=0.25.0->peft==0.14.1.dev0) (2.3.0)\n",
            "Requirement already satisfied: certifi>=2017.4.17 in /usr/local/lib/python3.11/dist-packages (from requests->huggingface_hub>=0.25.0->peft==0.14.1.dev0) (2024.12.14)\n",
            "Collecting git+https://github.com/huggingface/accelerate.git\n",
            "  Cloning https://github.com/huggingface/accelerate.git to /tmp/pip-req-build-1ky5gpyo\n",
            "  Running command git clone --filter=blob:none --quiet https://github.com/huggingface/accelerate.git /tmp/pip-req-build-1ky5gpyo\n",
            "  Resolved https://github.com/huggingface/accelerate.git to commit 78b8126bff9882a66074a082cb2a80aa89026118\n",
            "  Installing build dependencies ... \u001b[?25l\u001b[?25hdone\n",
            "  Getting requirements to build wheel ... \u001b[?25l\u001b[?25hdone\n",
            "  Preparing metadata (pyproject.toml) ... \u001b[?25l\u001b[?25hdone\n",
            "Requirement already satisfied: numpy<3.0.0,>=1.17 in /usr/local/lib/python3.11/dist-packages (from accelerate==1.4.0.dev0) (1.26.4)\n",
            "Requirement already satisfied: packaging>=20.0 in /usr/local/lib/python3.11/dist-packages (from accelerate==1.4.0.dev0) (24.2)\n",
            "Requirement already satisfied: psutil in /usr/local/lib/python3.11/dist-packages (from accelerate==1.4.0.dev0) (5.9.5)\n",
            "Requirement already satisfied: pyyaml in /usr/local/lib/python3.11/dist-packages (from accelerate==1.4.0.dev0) (6.0.2)\n",
            "Requirement already satisfied: torch>=2.0.0 in /usr/local/lib/python3.11/dist-packages (from accelerate==1.4.0.dev0) (2.5.1+cu121)\n",
            "Requirement already satisfied: huggingface_hub>=0.21.0 in /usr/local/lib/python3.11/dist-packages (from accelerate==1.4.0.dev0) (0.27.1)\n",
            "Requirement already satisfied: safetensors>=0.4.3 in /usr/local/lib/python3.11/dist-packages (from accelerate==1.4.0.dev0) (0.5.2)\n",
            "Requirement already satisfied: filelock in /usr/local/lib/python3.11/dist-packages (from huggingface_hub>=0.21.0->accelerate==1.4.0.dev0) (3.16.1)\n",
            "Requirement already satisfied: fsspec>=2023.5.0 in /usr/local/lib/python3.11/dist-packages (from huggingface_hub>=0.21.0->accelerate==1.4.0.dev0) (2024.9.0)\n",
            "Requirement already satisfied: requests in /usr/local/lib/python3.11/dist-packages (from huggingface_hub>=0.21.0->accelerate==1.4.0.dev0) (2.32.3)\n",
            "Requirement already satisfied: tqdm>=4.42.1 in /usr/local/lib/python3.11/dist-packages (from huggingface_hub>=0.21.0->accelerate==1.4.0.dev0) (4.67.1)\n",
            "Requirement already satisfied: typing-extensions>=3.7.4.3 in /usr/local/lib/python3.11/dist-packages (from huggingface_hub>=0.21.0->accelerate==1.4.0.dev0) (4.12.2)\n",
            "Requirement already satisfied: networkx in /usr/local/lib/python3.11/dist-packages (from torch>=2.0.0->accelerate==1.4.0.dev0) (3.4.2)\n",
            "Requirement already satisfied: jinja2 in /usr/local/lib/python3.11/dist-packages (from torch>=2.0.0->accelerate==1.4.0.dev0) (3.1.5)\n",
            "Requirement already satisfied: nvidia-cuda-nvrtc-cu12==12.1.105 in /usr/local/lib/python3.11/dist-packages (from torch>=2.0.0->accelerate==1.4.0.dev0) (12.1.105)\n",
            "Requirement already satisfied: nvidia-cuda-runtime-cu12==12.1.105 in /usr/local/lib/python3.11/dist-packages (from torch>=2.0.0->accelerate==1.4.0.dev0) (12.1.105)\n",
            "Requirement already satisfied: nvidia-cuda-cupti-cu12==12.1.105 in /usr/local/lib/python3.11/dist-packages (from torch>=2.0.0->accelerate==1.4.0.dev0) (12.1.105)\n",
            "Requirement already satisfied: nvidia-cudnn-cu12==9.1.0.70 in /usr/local/lib/python3.11/dist-packages (from torch>=2.0.0->accelerate==1.4.0.dev0) (9.1.0.70)\n",
            "Requirement already satisfied: nvidia-cublas-cu12==12.1.3.1 in /usr/local/lib/python3.11/dist-packages (from torch>=2.0.0->accelerate==1.4.0.dev0) (12.1.3.1)\n",
            "Requirement already satisfied: nvidia-cufft-cu12==11.0.2.54 in /usr/local/lib/python3.11/dist-packages (from torch>=2.0.0->accelerate==1.4.0.dev0) (11.0.2.54)\n",
            "Requirement already satisfied: nvidia-curand-cu12==10.3.2.106 in /usr/local/lib/python3.11/dist-packages (from torch>=2.0.0->accelerate==1.4.0.dev0) (10.3.2.106)\n",
            "Requirement already satisfied: nvidia-cusolver-cu12==11.4.5.107 in /usr/local/lib/python3.11/dist-packages (from torch>=2.0.0->accelerate==1.4.0.dev0) (11.4.5.107)\n",
            "Requirement already satisfied: nvidia-cusparse-cu12==12.1.0.106 in /usr/local/lib/python3.11/dist-packages (from torch>=2.0.0->accelerate==1.4.0.dev0) (12.1.0.106)\n",
            "Requirement already satisfied: nvidia-nccl-cu12==2.21.5 in /usr/local/lib/python3.11/dist-packages (from torch>=2.0.0->accelerate==1.4.0.dev0) (2.21.5)\n",
            "Requirement already satisfied: nvidia-nvtx-cu12==12.1.105 in /usr/local/lib/python3.11/dist-packages (from torch>=2.0.0->accelerate==1.4.0.dev0) (12.1.105)\n",
            "Requirement already satisfied: triton==3.1.0 in /usr/local/lib/python3.11/dist-packages (from torch>=2.0.0->accelerate==1.4.0.dev0) (3.1.0)\n",
            "Requirement already satisfied: sympy==1.13.1 in /usr/local/lib/python3.11/dist-packages (from torch>=2.0.0->accelerate==1.4.0.dev0) (1.13.1)\n",
            "Requirement already satisfied: nvidia-nvjitlink-cu12 in /usr/local/lib/python3.11/dist-packages (from nvidia-cusolver-cu12==11.4.5.107->torch>=2.0.0->accelerate==1.4.0.dev0) (12.6.85)\n",
            "Requirement already satisfied: mpmath<1.4,>=1.1.0 in /usr/local/lib/python3.11/dist-packages (from sympy==1.13.1->torch>=2.0.0->accelerate==1.4.0.dev0) (1.3.0)\n",
            "Requirement already satisfied: MarkupSafe>=2.0 in /usr/local/lib/python3.11/dist-packages (from jinja2->torch>=2.0.0->accelerate==1.4.0.dev0) (3.0.2)\n",
            "Requirement already satisfied: charset-normalizer<4,>=2 in /usr/local/lib/python3.11/dist-packages (from requests->huggingface_hub>=0.21.0->accelerate==1.4.0.dev0) (3.4.1)\n",
            "Requirement already satisfied: idna<4,>=2.5 in /usr/local/lib/python3.11/dist-packages (from requests->huggingface_hub>=0.21.0->accelerate==1.4.0.dev0) (3.10)\n",
            "Requirement already satisfied: urllib3<3,>=1.21.1 in /usr/local/lib/python3.11/dist-packages (from requests->huggingface_hub>=0.21.0->accelerate==1.4.0.dev0) (2.3.0)\n",
            "Requirement already satisfied: certifi>=2017.4.17 in /usr/local/lib/python3.11/dist-packages (from requests->huggingface_hub>=0.21.0->accelerate==1.4.0.dev0) (2024.12.14)\n",
            "Requirement already satisfied: trl in /usr/local/lib/python3.11/dist-packages (0.13.0)\n",
            "Requirement already satisfied: accelerate>=0.34.0 in /usr/local/lib/python3.11/dist-packages (from trl) (1.4.0.dev0)\n",
            "Requirement already satisfied: datasets>=2.21.0 in /usr/local/lib/python3.11/dist-packages (from trl) (3.2.0)\n",
            "Requirement already satisfied: rich in /usr/local/lib/python3.11/dist-packages (from trl) (13.9.4)\n",
            "Requirement already satisfied: transformers>=4.46.0 in /usr/local/lib/python3.11/dist-packages (from trl) (4.49.0.dev0)\n",
            "Requirement already satisfied: numpy<3.0.0,>=1.17 in /usr/local/lib/python3.11/dist-packages (from accelerate>=0.34.0->trl) (1.26.4)\n",
            "Requirement already satisfied: packaging>=20.0 in /usr/local/lib/python3.11/dist-packages (from accelerate>=0.34.0->trl) (24.2)\n",
            "Requirement already satisfied: psutil in /usr/local/lib/python3.11/dist-packages (from accelerate>=0.34.0->trl) (5.9.5)\n",
            "Requirement already satisfied: pyyaml in /usr/local/lib/python3.11/dist-packages (from accelerate>=0.34.0->trl) (6.0.2)\n",
            "Requirement already satisfied: torch>=2.0.0 in /usr/local/lib/python3.11/dist-packages (from accelerate>=0.34.0->trl) (2.5.1+cu121)\n",
            "Requirement already satisfied: huggingface_hub>=0.21.0 in /usr/local/lib/python3.11/dist-packages (from accelerate>=0.34.0->trl) (0.27.1)\n",
            "Requirement already satisfied: safetensors>=0.4.3 in /usr/local/lib/python3.11/dist-packages (from accelerate>=0.34.0->trl) (0.5.2)\n",
            "Requirement already satisfied: filelock in /usr/local/lib/python3.11/dist-packages (from datasets>=2.21.0->trl) (3.16.1)\n",
            "Requirement already satisfied: pyarrow>=15.0.0 in /usr/local/lib/python3.11/dist-packages (from datasets>=2.21.0->trl) (17.0.0)\n",
            "Requirement already satisfied: dill<0.3.9,>=0.3.0 in /usr/local/lib/python3.11/dist-packages (from datasets>=2.21.0->trl) (0.3.8)\n",
            "Requirement already satisfied: pandas in /usr/local/lib/python3.11/dist-packages (from datasets>=2.21.0->trl) (2.2.2)\n",
            "Requirement already satisfied: requests>=2.32.2 in /usr/local/lib/python3.11/dist-packages (from datasets>=2.21.0->trl) (2.32.3)\n",
            "Requirement already satisfied: tqdm>=4.66.3 in /usr/local/lib/python3.11/dist-packages (from datasets>=2.21.0->trl) (4.67.1)\n",
            "Requirement already satisfied: xxhash in /usr/local/lib/python3.11/dist-packages (from datasets>=2.21.0->trl) (3.5.0)\n",
            "Requirement already satisfied: multiprocess<0.70.17 in /usr/local/lib/python3.11/dist-packages (from datasets>=2.21.0->trl) (0.70.16)\n",
            "Requirement already satisfied: fsspec<=2024.9.0,>=2023.1.0 in /usr/local/lib/python3.11/dist-packages (from fsspec[http]<=2024.9.0,>=2023.1.0->datasets>=2.21.0->trl) (2024.9.0)\n",
            "Requirement already satisfied: aiohttp in /usr/local/lib/python3.11/dist-packages (from datasets>=2.21.0->trl) (3.11.11)\n",
            "Requirement already satisfied: regex!=2019.12.17 in /usr/local/lib/python3.11/dist-packages (from transformers>=4.46.0->trl) (2024.11.6)\n",
            "Requirement already satisfied: tokenizers<0.22,>=0.21 in /usr/local/lib/python3.11/dist-packages (from transformers>=4.46.0->trl) (0.21.0)\n",
            "Requirement already satisfied: markdown-it-py>=2.2.0 in /usr/local/lib/python3.11/dist-packages (from rich->trl) (3.0.0)\n",
            "Requirement already satisfied: pygments<3.0.0,>=2.13.0 in /usr/local/lib/python3.11/dist-packages (from rich->trl) (2.18.0)\n",
            "Requirement already satisfied: aiohappyeyeballs>=2.3.0 in /usr/local/lib/python3.11/dist-packages (from aiohttp->datasets>=2.21.0->trl) (2.4.4)\n",
            "Requirement already satisfied: aiosignal>=1.1.2 in /usr/local/lib/python3.11/dist-packages (from aiohttp->datasets>=2.21.0->trl) (1.3.2)\n",
            "Requirement already satisfied: attrs>=17.3.0 in /usr/local/lib/python3.11/dist-packages (from aiohttp->datasets>=2.21.0->trl) (24.3.0)\n",
            "Requirement already satisfied: frozenlist>=1.1.1 in /usr/local/lib/python3.11/dist-packages (from aiohttp->datasets>=2.21.0->trl) (1.5.0)\n",
            "Requirement already satisfied: multidict<7.0,>=4.5 in /usr/local/lib/python3.11/dist-packages (from aiohttp->datasets>=2.21.0->trl) (6.1.0)\n",
            "Requirement already satisfied: propcache>=0.2.0 in /usr/local/lib/python3.11/dist-packages (from aiohttp->datasets>=2.21.0->trl) (0.2.1)\n",
            "Requirement already satisfied: yarl<2.0,>=1.17.0 in /usr/local/lib/python3.11/dist-packages (from aiohttp->datasets>=2.21.0->trl) (1.18.3)\n",
            "Requirement already satisfied: typing-extensions>=3.7.4.3 in /usr/local/lib/python3.11/dist-packages (from huggingface_hub>=0.21.0->accelerate>=0.34.0->trl) (4.12.2)\n",
            "Requirement already satisfied: mdurl~=0.1 in /usr/local/lib/python3.11/dist-packages (from markdown-it-py>=2.2.0->rich->trl) (0.1.2)\n",
            "Requirement already satisfied: charset-normalizer<4,>=2 in /usr/local/lib/python3.11/dist-packages (from requests>=2.32.2->datasets>=2.21.0->trl) (3.4.1)\n",
            "Requirement already satisfied: idna<4,>=2.5 in /usr/local/lib/python3.11/dist-packages (from requests>=2.32.2->datasets>=2.21.0->trl) (3.10)\n",
            "Requirement already satisfied: urllib3<3,>=1.21.1 in /usr/local/lib/python3.11/dist-packages (from requests>=2.32.2->datasets>=2.21.0->trl) (2.3.0)\n",
            "Requirement already satisfied: certifi>=2017.4.17 in /usr/local/lib/python3.11/dist-packages (from requests>=2.32.2->datasets>=2.21.0->trl) (2024.12.14)\n",
            "Requirement already satisfied: networkx in /usr/local/lib/python3.11/dist-packages (from torch>=2.0.0->accelerate>=0.34.0->trl) (3.4.2)\n",
            "Requirement already satisfied: jinja2 in /usr/local/lib/python3.11/dist-packages (from torch>=2.0.0->accelerate>=0.34.0->trl) (3.1.5)\n",
            "Requirement already satisfied: nvidia-cuda-nvrtc-cu12==12.1.105 in /usr/local/lib/python3.11/dist-packages (from torch>=2.0.0->accelerate>=0.34.0->trl) (12.1.105)\n",
            "Requirement already satisfied: nvidia-cuda-runtime-cu12==12.1.105 in /usr/local/lib/python3.11/dist-packages (from torch>=2.0.0->accelerate>=0.34.0->trl) (12.1.105)\n",
            "Requirement already satisfied: nvidia-cuda-cupti-cu12==12.1.105 in /usr/local/lib/python3.11/dist-packages (from torch>=2.0.0->accelerate>=0.34.0->trl) (12.1.105)\n",
            "Requirement already satisfied: nvidia-cudnn-cu12==9.1.0.70 in /usr/local/lib/python3.11/dist-packages (from torch>=2.0.0->accelerate>=0.34.0->trl) (9.1.0.70)\n",
            "Requirement already satisfied: nvidia-cublas-cu12==12.1.3.1 in /usr/local/lib/python3.11/dist-packages (from torch>=2.0.0->accelerate>=0.34.0->trl) (12.1.3.1)\n",
            "Requirement already satisfied: nvidia-cufft-cu12==11.0.2.54 in /usr/local/lib/python3.11/dist-packages (from torch>=2.0.0->accelerate>=0.34.0->trl) (11.0.2.54)\n",
            "Requirement already satisfied: nvidia-curand-cu12==10.3.2.106 in /usr/local/lib/python3.11/dist-packages (from torch>=2.0.0->accelerate>=0.34.0->trl) (10.3.2.106)\n",
            "Requirement already satisfied: nvidia-cusolver-cu12==11.4.5.107 in /usr/local/lib/python3.11/dist-packages (from torch>=2.0.0->accelerate>=0.34.0->trl) (11.4.5.107)\n",
            "Requirement already satisfied: nvidia-cusparse-cu12==12.1.0.106 in /usr/local/lib/python3.11/dist-packages (from torch>=2.0.0->accelerate>=0.34.0->trl) (12.1.0.106)\n",
            "Requirement already satisfied: nvidia-nccl-cu12==2.21.5 in /usr/local/lib/python3.11/dist-packages (from torch>=2.0.0->accelerate>=0.34.0->trl) (2.21.5)\n",
            "Requirement already satisfied: nvidia-nvtx-cu12==12.1.105 in /usr/local/lib/python3.11/dist-packages (from torch>=2.0.0->accelerate>=0.34.0->trl) (12.1.105)\n",
            "Requirement already satisfied: triton==3.1.0 in /usr/local/lib/python3.11/dist-packages (from torch>=2.0.0->accelerate>=0.34.0->trl) (3.1.0)\n",
            "Requirement already satisfied: sympy==1.13.1 in /usr/local/lib/python3.11/dist-packages (from torch>=2.0.0->accelerate>=0.34.0->trl) (1.13.1)\n",
            "Requirement already satisfied: nvidia-nvjitlink-cu12 in /usr/local/lib/python3.11/dist-packages (from nvidia-cusolver-cu12==11.4.5.107->torch>=2.0.0->accelerate>=0.34.0->trl) (12.6.85)\n",
            "Requirement already satisfied: mpmath<1.4,>=1.1.0 in /usr/local/lib/python3.11/dist-packages (from sympy==1.13.1->torch>=2.0.0->accelerate>=0.34.0->trl) (1.3.0)\n",
            "Requirement already satisfied: python-dateutil>=2.8.2 in /usr/local/lib/python3.11/dist-packages (from pandas->datasets>=2.21.0->trl) (2.8.2)\n",
            "Requirement already satisfied: pytz>=2020.1 in /usr/local/lib/python3.11/dist-packages (from pandas->datasets>=2.21.0->trl) (2024.2)\n",
            "Requirement already satisfied: tzdata>=2022.7 in /usr/local/lib/python3.11/dist-packages (from pandas->datasets>=2.21.0->trl) (2024.2)\n",
            "Requirement already satisfied: six>=1.5 in /usr/local/lib/python3.11/dist-packages (from python-dateutil>=2.8.2->pandas->datasets>=2.21.0->trl) (1.17.0)\n",
            "Requirement already satisfied: MarkupSafe>=2.0 in /usr/local/lib/python3.11/dist-packages (from jinja2->torch>=2.0.0->accelerate>=0.34.0->trl) (3.0.2)\n",
            "Requirement already satisfied: rouge-score in /usr/local/lib/python3.11/dist-packages (0.1.2)\n",
            "Requirement already satisfied: absl-py in /usr/local/lib/python3.11/dist-packages (from rouge-score) (1.4.0)\n",
            "Requirement already satisfied: nltk in /usr/local/lib/python3.11/dist-packages (from rouge-score) (3.9.1)\n",
            "Requirement already satisfied: numpy in /usr/local/lib/python3.11/dist-packages (from rouge-score) (1.26.4)\n",
            "Requirement already satisfied: six>=1.14.0 in /usr/local/lib/python3.11/dist-packages (from rouge-score) (1.17.0)\n",
            "Requirement already satisfied: click in /usr/local/lib/python3.11/dist-packages (from nltk->rouge-score) (8.1.8)\n",
            "Requirement already satisfied: joblib in /usr/local/lib/python3.11/dist-packages (from nltk->rouge-score) (1.4.2)\n",
            "Requirement already satisfied: regex>=2021.8.3 in /usr/local/lib/python3.11/dist-packages (from nltk->rouge-score) (2024.11.6)\n",
            "Requirement already satisfied: tqdm in /usr/local/lib/python3.11/dist-packages (from nltk->rouge-score) (4.67.1)\n"
          ]
        }
      ]
    },
    {
      "cell_type": "code",
      "execution_count": 2,
      "metadata": {
        "id": "dENoJ5nnjiS6"
      },
      "outputs": [],
      "source": [
        "import pandas as pd\n",
        "import numpy as np\n",
        "import os\n",
        "from datasets import load_dataset\n",
        "import random\n",
        "\n",
        "from transformers import GPT2LMHeadModel, GPTNeoForCausalLM, GPT2Tokenizer\n",
        "from nltk.translate.bleu_score import sentence_bleu\n",
        "from nltk.translate.bleu_score import SmoothingFunction\n",
        "from rouge_score import rouge_scorer\n"
      ]
    },
    {
      "cell_type": "markdown",
      "metadata": {
        "id": "8NR_IF9YjiTb"
      },
      "source": [
        "## ***Importer le datset*** ##"
      ]
    },
    {
      "cell_type": "code",
      "execution_count": 3,
      "metadata": {
        "colab": {
          "base_uri": "https://localhost:8080/"
        },
        "id": "yfEOeqS1jiTd",
        "outputId": "cc23ca32-c5c5-4a83-d6fe-4c032c192401"
      },
      "outputs": [
        {
          "output_type": "stream",
          "name": "stderr",
          "text": [
            "/usr/local/lib/python3.11/dist-packages/huggingface_hub/utils/_auth.py:94: UserWarning: \n",
            "The secret `HF_TOKEN` does not exist in your Colab secrets.\n",
            "To authenticate with the Hugging Face Hub, create a token in your settings tab (https://huggingface.co/settings/tokens), set it as secret in your Google Colab and restart your session.\n",
            "You will be able to reuse this secret in all of your notebooks.\n",
            "Please note that authentication is recommended but still optional to access public models or datasets.\n",
            "  warnings.warn(\n"
          ]
        }
      ],
      "source": [
        "dataset = load_dataset(\"manu/french_poetry\")"
      ]
    },
    {
      "cell_type": "code",
      "execution_count": 4,
      "metadata": {
        "colab": {
          "base_uri": "https://localhost:8080/",
          "height": 206
        },
        "id": "jMYWyFfojiTf",
        "outputId": "2539ac0d-fc0f-42d3-ecf8-8892f2b5d5c9"
      },
      "outputs": [
        {
          "output_type": "execute_result",
          "data": {
            "text/plain": [
              "                                           title  \\\n",
              "0                         Les deux bonnes soeurs   \n",
              "1                     Ami, j'ai quitté vos fêtes   \n",
              "2  Je ne vois pas pourquoi je ferais autre chose   \n",
              "3                              À Mlle Fanny de P   \n",
              "4                             L'angélus du matin   \n",
              "\n",
              "                             poet  \\\n",
              "0  Charles Baudelaire (1821-1867)   \n",
              "1         Victor Hugo (1802-1885)   \n",
              "2         Victor Hugo (1802-1885)   \n",
              "3         Victor Hugo (1802-1885)   \n",
              "4       Paul Verlaine (1844-1896)   \n",
              "\n",
              "                                                text  \\\n",
              "0  Poésie : Les deux bonnes soeurs\\nTitre : Les d...   \n",
              "1  Poésie : Ami, j'ai quitté vos fêtes\\nTitre : A...   \n",
              "2  Poésie : Je ne vois pas pourquoi je ferais aut...   \n",
              "3  Poésie : À Mlle Fanny de P\\nTitre : À Mlle Fan...   \n",
              "4  Poésie : L'angélus du matin\\nTitre : L'angélus...   \n",
              "\n",
              "                                                link  \\\n",
              "0  https://www.poesie-francaise.fr/charles-baudel...   \n",
              "1  https://www.poesie-francaise.fr/victor-hugo/po...   \n",
              "2  https://www.poesie-francaise.fr/victor-hugo/po...   \n",
              "3  https://www.poesie-francaise.fr/victor-hugo/po...   \n",
              "4  https://www.poesie-francaise.fr/paul-verlaine/...   \n",
              "\n",
              "                                                  id  \n",
              "0    charles-baudelaire-poeme-les-deux-bonnes-soeurs  \n",
              "1        victor-hugo-poeme-ami-j-ai-quitte-vos-fetes  \n",
              "2  victor-hugo-poeme-je-ne-vois-pas-pourquoi-je-f...  \n",
              "3                victor-hugo-poeme-a-Mlle-Fanny-de-P  \n",
              "4              paul-verlaine-poeme-langelus-du-matin  "
            ],
            "text/html": [
              "\n",
              "  <div id=\"df-7c272c3c-c259-44e5-848d-5a5026439877\" class=\"colab-df-container\">\n",
              "    <div>\n",
              "<style scoped>\n",
              "    .dataframe tbody tr th:only-of-type {\n",
              "        vertical-align: middle;\n",
              "    }\n",
              "\n",
              "    .dataframe tbody tr th {\n",
              "        vertical-align: top;\n",
              "    }\n",
              "\n",
              "    .dataframe thead th {\n",
              "        text-align: right;\n",
              "    }\n",
              "</style>\n",
              "<table border=\"1\" class=\"dataframe\">\n",
              "  <thead>\n",
              "    <tr style=\"text-align: right;\">\n",
              "      <th></th>\n",
              "      <th>title</th>\n",
              "      <th>poet</th>\n",
              "      <th>text</th>\n",
              "      <th>link</th>\n",
              "      <th>id</th>\n",
              "    </tr>\n",
              "  </thead>\n",
              "  <tbody>\n",
              "    <tr>\n",
              "      <th>0</th>\n",
              "      <td>Les deux bonnes soeurs</td>\n",
              "      <td>Charles Baudelaire (1821-1867)</td>\n",
              "      <td>Poésie : Les deux bonnes soeurs\\nTitre : Les d...</td>\n",
              "      <td>https://www.poesie-francaise.fr/charles-baudel...</td>\n",
              "      <td>charles-baudelaire-poeme-les-deux-bonnes-soeurs</td>\n",
              "    </tr>\n",
              "    <tr>\n",
              "      <th>1</th>\n",
              "      <td>Ami, j'ai quitté vos fêtes</td>\n",
              "      <td>Victor Hugo (1802-1885)</td>\n",
              "      <td>Poésie : Ami, j'ai quitté vos fêtes\\nTitre : A...</td>\n",
              "      <td>https://www.poesie-francaise.fr/victor-hugo/po...</td>\n",
              "      <td>victor-hugo-poeme-ami-j-ai-quitte-vos-fetes</td>\n",
              "    </tr>\n",
              "    <tr>\n",
              "      <th>2</th>\n",
              "      <td>Je ne vois pas pourquoi je ferais autre chose</td>\n",
              "      <td>Victor Hugo (1802-1885)</td>\n",
              "      <td>Poésie : Je ne vois pas pourquoi je ferais aut...</td>\n",
              "      <td>https://www.poesie-francaise.fr/victor-hugo/po...</td>\n",
              "      <td>victor-hugo-poeme-je-ne-vois-pas-pourquoi-je-f...</td>\n",
              "    </tr>\n",
              "    <tr>\n",
              "      <th>3</th>\n",
              "      <td>À Mlle Fanny de P</td>\n",
              "      <td>Victor Hugo (1802-1885)</td>\n",
              "      <td>Poésie : À Mlle Fanny de P\\nTitre : À Mlle Fan...</td>\n",
              "      <td>https://www.poesie-francaise.fr/victor-hugo/po...</td>\n",
              "      <td>victor-hugo-poeme-a-Mlle-Fanny-de-P</td>\n",
              "    </tr>\n",
              "    <tr>\n",
              "      <th>4</th>\n",
              "      <td>L'angélus du matin</td>\n",
              "      <td>Paul Verlaine (1844-1896)</td>\n",
              "      <td>Poésie : L'angélus du matin\\nTitre : L'angélus...</td>\n",
              "      <td>https://www.poesie-francaise.fr/paul-verlaine/...</td>\n",
              "      <td>paul-verlaine-poeme-langelus-du-matin</td>\n",
              "    </tr>\n",
              "  </tbody>\n",
              "</table>\n",
              "</div>\n",
              "    <div class=\"colab-df-buttons\">\n",
              "\n",
              "  <div class=\"colab-df-container\">\n",
              "    <button class=\"colab-df-convert\" onclick=\"convertToInteractive('df-7c272c3c-c259-44e5-848d-5a5026439877')\"\n",
              "            title=\"Convert this dataframe to an interactive table.\"\n",
              "            style=\"display:none;\">\n",
              "\n",
              "  <svg xmlns=\"http://www.w3.org/2000/svg\" height=\"24px\" viewBox=\"0 -960 960 960\">\n",
              "    <path d=\"M120-120v-720h720v720H120Zm60-500h600v-160H180v160Zm220 220h160v-160H400v160Zm0 220h160v-160H400v160ZM180-400h160v-160H180v160Zm440 0h160v-160H620v160ZM180-180h160v-160H180v160Zm440 0h160v-160H620v160Z\"/>\n",
              "  </svg>\n",
              "    </button>\n",
              "\n",
              "  <style>\n",
              "    .colab-df-container {\n",
              "      display:flex;\n",
              "      gap: 12px;\n",
              "    }\n",
              "\n",
              "    .colab-df-convert {\n",
              "      background-color: #E8F0FE;\n",
              "      border: none;\n",
              "      border-radius: 50%;\n",
              "      cursor: pointer;\n",
              "      display: none;\n",
              "      fill: #1967D2;\n",
              "      height: 32px;\n",
              "      padding: 0 0 0 0;\n",
              "      width: 32px;\n",
              "    }\n",
              "\n",
              "    .colab-df-convert:hover {\n",
              "      background-color: #E2EBFA;\n",
              "      box-shadow: 0px 1px 2px rgba(60, 64, 67, 0.3), 0px 1px 3px 1px rgba(60, 64, 67, 0.15);\n",
              "      fill: #174EA6;\n",
              "    }\n",
              "\n",
              "    .colab-df-buttons div {\n",
              "      margin-bottom: 4px;\n",
              "    }\n",
              "\n",
              "    [theme=dark] .colab-df-convert {\n",
              "      background-color: #3B4455;\n",
              "      fill: #D2E3FC;\n",
              "    }\n",
              "\n",
              "    [theme=dark] .colab-df-convert:hover {\n",
              "      background-color: #434B5C;\n",
              "      box-shadow: 0px 1px 3px 1px rgba(0, 0, 0, 0.15);\n",
              "      filter: drop-shadow(0px 1px 2px rgba(0, 0, 0, 0.3));\n",
              "      fill: #FFFFFF;\n",
              "    }\n",
              "  </style>\n",
              "\n",
              "    <script>\n",
              "      const buttonEl =\n",
              "        document.querySelector('#df-7c272c3c-c259-44e5-848d-5a5026439877 button.colab-df-convert');\n",
              "      buttonEl.style.display =\n",
              "        google.colab.kernel.accessAllowed ? 'block' : 'none';\n",
              "\n",
              "      async function convertToInteractive(key) {\n",
              "        const element = document.querySelector('#df-7c272c3c-c259-44e5-848d-5a5026439877');\n",
              "        const dataTable =\n",
              "          await google.colab.kernel.invokeFunction('convertToInteractive',\n",
              "                                                    [key], {});\n",
              "        if (!dataTable) return;\n",
              "\n",
              "        const docLinkHtml = 'Like what you see? Visit the ' +\n",
              "          '<a target=\"_blank\" href=https://colab.research.google.com/notebooks/data_table.ipynb>data table notebook</a>'\n",
              "          + ' to learn more about interactive tables.';\n",
              "        element.innerHTML = '';\n",
              "        dataTable['output_type'] = 'display_data';\n",
              "        await google.colab.output.renderOutput(dataTable, element);\n",
              "        const docLink = document.createElement('div');\n",
              "        docLink.innerHTML = docLinkHtml;\n",
              "        element.appendChild(docLink);\n",
              "      }\n",
              "    </script>\n",
              "  </div>\n",
              "\n",
              "\n",
              "<div id=\"df-e6934d30-bdbd-44c9-85ca-2466ccc9a777\">\n",
              "  <button class=\"colab-df-quickchart\" onclick=\"quickchart('df-e6934d30-bdbd-44c9-85ca-2466ccc9a777')\"\n",
              "            title=\"Suggest charts\"\n",
              "            style=\"display:none;\">\n",
              "\n",
              "<svg xmlns=\"http://www.w3.org/2000/svg\" height=\"24px\"viewBox=\"0 0 24 24\"\n",
              "     width=\"24px\">\n",
              "    <g>\n",
              "        <path d=\"M19 3H5c-1.1 0-2 .9-2 2v14c0 1.1.9 2 2 2h14c1.1 0 2-.9 2-2V5c0-1.1-.9-2-2-2zM9 17H7v-7h2v7zm4 0h-2V7h2v10zm4 0h-2v-4h2v4z\"/>\n",
              "    </g>\n",
              "</svg>\n",
              "  </button>\n",
              "\n",
              "<style>\n",
              "  .colab-df-quickchart {\n",
              "      --bg-color: #E8F0FE;\n",
              "      --fill-color: #1967D2;\n",
              "      --hover-bg-color: #E2EBFA;\n",
              "      --hover-fill-color: #174EA6;\n",
              "      --disabled-fill-color: #AAA;\n",
              "      --disabled-bg-color: #DDD;\n",
              "  }\n",
              "\n",
              "  [theme=dark] .colab-df-quickchart {\n",
              "      --bg-color: #3B4455;\n",
              "      --fill-color: #D2E3FC;\n",
              "      --hover-bg-color: #434B5C;\n",
              "      --hover-fill-color: #FFFFFF;\n",
              "      --disabled-bg-color: #3B4455;\n",
              "      --disabled-fill-color: #666;\n",
              "  }\n",
              "\n",
              "  .colab-df-quickchart {\n",
              "    background-color: var(--bg-color);\n",
              "    border: none;\n",
              "    border-radius: 50%;\n",
              "    cursor: pointer;\n",
              "    display: none;\n",
              "    fill: var(--fill-color);\n",
              "    height: 32px;\n",
              "    padding: 0;\n",
              "    width: 32px;\n",
              "  }\n",
              "\n",
              "  .colab-df-quickchart:hover {\n",
              "    background-color: var(--hover-bg-color);\n",
              "    box-shadow: 0 1px 2px rgba(60, 64, 67, 0.3), 0 1px 3px 1px rgba(60, 64, 67, 0.15);\n",
              "    fill: var(--button-hover-fill-color);\n",
              "  }\n",
              "\n",
              "  .colab-df-quickchart-complete:disabled,\n",
              "  .colab-df-quickchart-complete:disabled:hover {\n",
              "    background-color: var(--disabled-bg-color);\n",
              "    fill: var(--disabled-fill-color);\n",
              "    box-shadow: none;\n",
              "  }\n",
              "\n",
              "  .colab-df-spinner {\n",
              "    border: 2px solid var(--fill-color);\n",
              "    border-color: transparent;\n",
              "    border-bottom-color: var(--fill-color);\n",
              "    animation:\n",
              "      spin 1s steps(1) infinite;\n",
              "  }\n",
              "\n",
              "  @keyframes spin {\n",
              "    0% {\n",
              "      border-color: transparent;\n",
              "      border-bottom-color: var(--fill-color);\n",
              "      border-left-color: var(--fill-color);\n",
              "    }\n",
              "    20% {\n",
              "      border-color: transparent;\n",
              "      border-left-color: var(--fill-color);\n",
              "      border-top-color: var(--fill-color);\n",
              "    }\n",
              "    30% {\n",
              "      border-color: transparent;\n",
              "      border-left-color: var(--fill-color);\n",
              "      border-top-color: var(--fill-color);\n",
              "      border-right-color: var(--fill-color);\n",
              "    }\n",
              "    40% {\n",
              "      border-color: transparent;\n",
              "      border-right-color: var(--fill-color);\n",
              "      border-top-color: var(--fill-color);\n",
              "    }\n",
              "    60% {\n",
              "      border-color: transparent;\n",
              "      border-right-color: var(--fill-color);\n",
              "    }\n",
              "    80% {\n",
              "      border-color: transparent;\n",
              "      border-right-color: var(--fill-color);\n",
              "      border-bottom-color: var(--fill-color);\n",
              "    }\n",
              "    90% {\n",
              "      border-color: transparent;\n",
              "      border-bottom-color: var(--fill-color);\n",
              "    }\n",
              "  }\n",
              "</style>\n",
              "\n",
              "  <script>\n",
              "    async function quickchart(key) {\n",
              "      const quickchartButtonEl =\n",
              "        document.querySelector('#' + key + ' button');\n",
              "      quickchartButtonEl.disabled = true;  // To prevent multiple clicks.\n",
              "      quickchartButtonEl.classList.add('colab-df-spinner');\n",
              "      try {\n",
              "        const charts = await google.colab.kernel.invokeFunction(\n",
              "            'suggestCharts', [key], {});\n",
              "      } catch (error) {\n",
              "        console.error('Error during call to suggestCharts:', error);\n",
              "      }\n",
              "      quickchartButtonEl.classList.remove('colab-df-spinner');\n",
              "      quickchartButtonEl.classList.add('colab-df-quickchart-complete');\n",
              "    }\n",
              "    (() => {\n",
              "      let quickchartButtonEl =\n",
              "        document.querySelector('#df-e6934d30-bdbd-44c9-85ca-2466ccc9a777 button');\n",
              "      quickchartButtonEl.style.display =\n",
              "        google.colab.kernel.accessAllowed ? 'block' : 'none';\n",
              "    })();\n",
              "  </script>\n",
              "</div>\n",
              "\n",
              "    </div>\n",
              "  </div>\n"
            ],
            "application/vnd.google.colaboratory.intrinsic+json": {
              "type": "dataframe",
              "variable_name": "df",
              "summary": "{\n  \"name\": \"df\",\n  \"rows\": 1821,\n  \"fields\": [\n    {\n      \"column\": \"title\",\n      \"properties\": {\n        \"dtype\": \"string\",\n        \"num_unique_values\": 1767,\n        \"samples\": [\n          \"R\\u00e9flexion amoureuse\",\n          \"\\u00c0 Andr\\u00e9 Ch\\u00e9nier\",\n          \"Laetitia rerum\"\n        ],\n        \"semantic_type\": \"\",\n        \"description\": \"\"\n      }\n    },\n    {\n      \"column\": \"poet\",\n      \"properties\": {\n        \"dtype\": \"category\",\n        \"num_unique_values\": 56,\n        \"samples\": [\n          \"Charles Baudelaire (1821-1867)\",\n          \"Alphonse Beauregard (1881-1924)\",\n          \"\\u00c9mile Verhaeren (1855-1916)\"\n        ],\n        \"semantic_type\": \"\",\n        \"description\": \"\"\n      }\n    },\n    {\n      \"column\": \"text\",\n      \"properties\": {\n        \"dtype\": \"string\",\n        \"num_unique_values\": 1819,\n        \"samples\": [\n          \"Po\\u00e9sie : Dante \\u00e9crit deux vers\\nTitre : Dante \\u00e9crit deux vers\\nPo\\u00e8te : Victor Hugo (1802-1885)\\nRecueil : Religions et Religion (1880).\\nDante \\u00e9crit deux vers, puis il sort ; et les deux vers\\nSe parlent. Le premier dit : - Les cieux sont ouverts.\\nCieux ! je suis immortel. - Moi, je suis p\\u00e9rissable.\\nDit l'autre. - je suis l'astre. - Et moi le grain de sable.\\n- Quoi ! tu doutes \\u00e9tant fils d'un enfant du ciel !\\n- Je me sens mort. - Et moi, je me sens \\u00e9ternel.\\nQuelqu'un rentre et relit ces vers, Dante lui-m\\u00eame :\\nIl garde le premier et barre le deuxi\\u00e8me.\\nLa rature est la haute et fatale cloison.\\nL'un meurt, et l'autre vit. Tous deux avaient raison.\",\n          \"Po\\u00e9sie : Claire\\nTitre : Claire\\nPo\\u00e8te : Victor Hugo (1802-1885)\\nQuoi donc ! la v\\u00f4tre aussi ! la v\\u00f4tre suit la mienne !\\n\\u00d4 m\\u00e8re au coeur profond, m\\u00e8re, vous avez beau\\nLaisser la porte ouverte afin qu'elle revienne,\\nCette pierre l\\u00e0-bas dans l'herbe est un tombeau !\\nLa mienne disparut dans les flots qui se m\\u00ealent ;\\nAlors, ce fut ton tour, Claire, et tu t'envolas.\\nEst-ce donc que l\\u00e0-haut dans l'ombre elles s'appellent,\\nQu'elles s'en vont ainsi l'une apr\\u00e8s l'autre, h\\u00e9las ?\\nEnfant qui rayonnais, qui chassais la tristesse,\\nQue ta m\\u00e8re jadis ber\\u00e7ait de sa chanson,\\nQui d'abord la charmas avec ta petitesse\\nEt plus tard lui remplis de clart\\u00e9 l'horizon,\\nVoil\\u00e0 donc que tu dors sous cette pierre grise !\\nVoil\\u00e0 que tu n'es plus, ayant \\u00e0 peine \\u00e9t\\u00e9 !\\nL'astre attire le lys, et te voil\\u00e0 reprise,\\n\\u00d4 vierge, par l'azur, cette virginit\\u00e9 !\\nTe voil\\u00e0 remont\\u00e9e au firmament sublime,\\n\\u00c9chapp\\u00e9e aux grands cieux comme la grive aux bois,\\nEt, flamme, aile, hymne, odeur, replong\\u00e9e \\u00e0 l'ab\\u00eeme\\nDes rayons, des amours, des parfums et des voix !\\nNous ne t'entendrons plus rire en notre nuit noire.\\nNous voyons seulement, comme pour nous b\\u00e9nir,\\nErrer dans notre ciel et dans notre m\\u00e9moire\\nTa figure, nuage, et ton nom, souvenir !\\nPressentais-tu d\\u00e9j\\u00e0 ton sombre \\u00e9pithalame ?\\nMarchant sur notre monde \\u00e0 pas silencieux,\\nDe tous les id\\u00e9als tu composais ton \\u00e2me,\\nComme si tu faisais un bouquet pour les cieux !\\nEn te voyant si calme et toute lumineuse,\\nLes coeurs les plus saignants ne ha\\u00efssaient plus rien.\\nTu passais parmi nous comme Ruth la glaneuse,\\nEt, comme Ruth l'\\u00e9pi, tu ramassais le bien.\\nLa nature, \\u00f4 front pur, versait sur toi sa gr\\u00e2ce,\\nL'aurore sa candeur, et les champs leur bont\\u00e9 ;\\nEt nous retrouvions, nous sur qui la douleur passe,\\nToute cette douceur dans toute ta beaut\\u00e9 !\\nChaste, elle paraissait ne pas \\u00eatre autre chose\\nQue la forme qui sort des cieux \\u00e9blouissants ;\\nEt de tous les rosiers elle semblait la rose,\\nEt de tous les amours elle semblait l'encens.\\nCeux qui n'ont pas connu cette charmante fille\\nNe peuvent pas savoir ce qu'\\u00e9tait ce regard\\nTransparent comme l'eau qui s'\\u00e9gaie et qui brille\\nQuand l'\\u00e9toile surgit sur l'oc\\u00e9an hagard.\\nElle \\u00e9tait simple, franche, humble, na\\u00efve et bonne ;\\nChantant \\u00e0 demi-voix son chant d'illusion,\\nAyant je ne sais quoi dans toute sa personne\\nDe vague et de lointain comme la vision.\\nOn sentait qu'elle avait peu de temps sur la terre,\\nQu'elle n'apparaissait que pour s'\\u00e9vanouir,\\nEt qu'elle acceptait peu sa vie involontaire ;\\nEt la tombe semblait par moments l'\\u00e9blouir.\\nElle a pass\\u00e9 dans l'ombre o\\u00f9 l'homme se r\\u00e9signe ;\\nLe vent sombre soufflait ; elle a pass\\u00e9 sans bruit,\\nBelle, candide, ainsi qu'une plume de cygne\\nQui reste blanche, m\\u00eame en traversant la nuit !\\nElle s'en est all\\u00e9e \\u00e0 l'aube qui se l\\u00e8ve,\\nLueur dans le matin, vertu dans le ciel bleu,\\nBouche qui n'a connu que le baiser du r\\u00eave,\\nAme qui n'a dormi que dans le lit de Dieu !\\nNous voici maintenant en proie aux deuils sans bornes,\\nM\\u00e8re, \\u00e0 genoux tous deux sur des cercueils sacr\\u00e9s,\\nRegardant \\u00e0 jamais dans les t\\u00e9n\\u00e8bres mornes\\nLa disparition des \\u00eatres ador\\u00e9s !\\nCroire qu'ils resteraient ! quel songe ! Dieu les presse.\\nM\\u00eame quand leurs bras blancs sont autour de nos cous,\\nUn vent du ciel profond fait frissonner sans cesse\\nCes fant\\u00f4mes charmants que nous croyons \\u00e0 nous.\\nIls sont l\\u00e0, pr\\u00e8s de nous, jouant sur notre route ;\\nIls ne d\\u00e9daignent pas notre soleil obscur,\\nEt derri\\u00e8re eux, et sans que leur candeur s'en doute,\\nLeurs ailes font parfois de l'ombre sur le mur.\\nIls viennent sous nos toits ; avec nous ils demeurent ;\\nNous leur disons : Ma fille, ou : Mon fils ; ils sont doux,\\nRiants, joyeux, nous font une caresse, et meurent.\\n\\u00d4 m\\u00e8re, ce sont l\\u00e0 les anges, voyez-vous !\\nC'est une volont\\u00e9 du sort, pour nous s\\u00e9v\\u00e8re,\\nQu'ils rentrent vite au ciel rest\\u00e9 pour eux ouvert ;\\nEt qu'avant d'avoir mis leur l\\u00e8vre \\u00e0 notre verre,\\nAvant d'avoir rien fait et d'avoir rien souffert,\\nIls partent radieux ; et qu'ignorant l'envie,\\nL'erreur, l'orgueil, le mal, la haine, la douleur,\\nTous ces \\u00eatres b\\u00e9nis s'envolent de la vie\\nA l'\\u00e2ge o\\u00f9 la prunelle innocente est en fleur !\\nNous qui sommes d\\u00e9mons ou qui sommes ap\\u00f4tres,\\nNous devons travailler, attendre, pr\\u00e9parer ;\\nPensifs, nous expions pour nous-m\\u00eame ou pour d'autres ;\\nNotre chair doit saigner, nos yeux doivent pleurer.\\nEux, ils sont l'air qui fuit, l'oiseau qui ne se pose\\nQu'un instant, le soupir qui vole, avril vermeil\\nQui brille et passe ; ils sont le parfum de la rose\\nQui va rejoindre aux cieux le rayon du soleil !\\nIls ont ce grand d\\u00e9go\\u00fbt myst\\u00e9rieux de l'\\u00e2me\\nPour notre chair coupable et pour notre destin ;\\nIls ont, \\u00eatres r\\u00eaveurs qu'un autre azur r\\u00e9clame,\\nJe ne sais quelle soif de mourir le matin !\\nIls sont l'\\u00e9toile d'or se couchant dans l'aurore,\\nMourant pour nous, naissant pour l'autre firmament ;\\nCar la mort, quand un astre en son sein vient \\u00e9clore,\\nContinue, au del\\u00e0, l'\\u00e9panouissement !\\nOui, m\\u00e8re, ce sont l\\u00e0 les \\u00e9lus du myst\\u00e8re,\\nLes envoy\\u00e9s divins, les ail\\u00e9s, les vainqueurs,\\nA qui Dieu n'a permis que d'effleurer la terre\\nPour faire un peu de joie \\u00e0 quelques pauvres coeurs.\\nComme l'ange \\u00e0 Jacob, comme J\\u00e9sus \\u00e0 Pierre,\\nIls viennent jusqu'\\u00e0 nous qui loin d'eux \\u00e9touffons,\\nBeaux, purs, et chacun d'eux portant sous sa paupi\\u00e8re\\nLa sereine clart\\u00e9 des paradis profonds.\\nPuis, quand ils ont, pieux, bais\\u00e9 toutes nos plaies,\\nPans\\u00e9 notre douleur, azur\\u00e9 nos raisons,\\nEt fait luire un moment l'aube \\u00e0 travers nos claies,\\nEt chant\\u00e9 la chanson du ciel dam nos maisons,\\nIls retournent l\\u00e0-haut parler \\u00e0 Dieu des hommes,\\nEt, pour lui faire voir quel est notre chemin,\\nTout ce que nous souffrons et tout ce que nous sommes,\\nS'en vont avec un peu de terre dans la main.\\nIls s'en vont ; c'est tant\\u00f4t l'\\u00e9clair qui les emporte,\\nTant\\u00f4t un mal plus fort que nos soins superflus.\\nAlors, nous, p\\u00e2les, froids, l'oeil fix\\u00e9 sur la porte,\\nNous ne savons plus rien, sinon qu'ils ne sont plus.\\nNous disons : - A quoi bon l'\\u00e2tre sans \\u00e9tincelles ?\\nA quoi bon la maison o\\u00f9 ne sont plus leurs pas ?\\nA quoi bon la ram\\u00e9e o\\u00f9 ne sont plus les ailes ?\\nQui donc attendons-nous s'ils ne reviendront pas ?\\nIls sont partis, pareils au bruit qui sort des lyres.\\nEt nous restons l\\u00e0, seuls, pr\\u00e8s du gouffre o\\u00f9 tout fuit,\\nTristes ; et la lueur de leurs charmants sourires\\nParfois nous appara\\u00eet vaguement dans la nuit.\\nCar ils sont revenus, et c'est l\\u00e0 le myst\\u00e8re ;\\nNous entendons quelqu'un flotter, un souffle errer,\\nDes robes effleurer notre seuil solitaire,\\nEt cela fait alors que nous pouvons pleurer.\\nNous sentons frissonner leurs cheveux dans notre ombre ;\\nNous sentons, lorsqu'ayant la lassitude en nous,\\nNous nous levons apr\\u00e8s quelque pri\\u00e8re sombre,\\nLeurs blanches mains toucher doucement nos genoux.\\nIls nous disent tout bas de leur voix la plus tendre :\\n\\\"Mon p\\u00e8re, encore un peu ! ma m\\u00e8re, encore un jour !\\n\\\"M'entends-tu ? je suis l\\u00e0, je reste pour t'attendre\\n\\\"Sur l'\\u00e9chelon d'en bas de l'\\u00e9chelle d'amour.\\n\\\"Je t'attends pour pouvoir nous en aller ensemble.\\n\\\"Cette vie est am\\u00e8re, et tu vas en sortir.\\n\\\"Pauvre coeur, ne crains rien, Dieu vit ! la mort rassemble.\\n\\\"Tu redeviendras ange ayant \\u00e9t\\u00e9 martyr.\\\"\\nOh ! quand donc viendrez-vous ? Vous retrouver, c'est na\\u00eetre.\\nQuand verrons-nous, ainsi qu'un id\\u00e9al flambeau,\\nLa douce \\u00e9toile mort, rayonnante, appara\\u00eetre\\nA ce noir horizon qu'on nomme le tombeau ?\\nQuand nous en irons-nous o\\u00f9 vous \\u00eates, colombes !\\nO\\u00f9 sont les enfants morts et les printemps enfuis,\\nEt tous les chers amours dont nous sommes les tombes,\\nEt toutes les clart\\u00e9s dont nous sommes les nuits ?\\nVers ce grand ciel cl\\u00e9ment o\\u00f9 sont tous les dictames,\\nLes aim\\u00e9s, les absents, les \\u00eatres purs et doux,\\nLes baisers des esprits et les regards des \\u00e2mes,\\nQuand nous en irons-nous ? quand nous en irons-nous ?\\nQuand nous en irons-nous o\\u00f9 sont l'aube et la foudre ?\\nQuand verrons-nous, d\\u00e9j\\u00e0 libres, hommes encor,\\nNotre chair t\\u00e9n\\u00e9breuse en rayons se dissoudre,\\nEt nos pieds faits de nuit \\u00e9clore en ailes d'or ?\\nQuand nous enfuirons-nous dans la joie infinie\\nO\\u00f9 les hymnes vivants sont des anges voil\\u00e9s,\\nO\\u00f9 l'on voit, \\u00e0 travers l'azur de l'harmonie,\\nLa strophe bleue errer sur les luths \\u00e9toil\\u00e9s ?\\nQuand viendrez-vous chercher notre humble coeur qui sombre ?\\nQuand nous reprendrez-vous \\u00e0 ce monde charnel,\\nPour nous bercer ensemble aux profondeurs de l'ombre,\\nSous l'\\u00e9blouissement du regard \\u00e9ternel ?\",\n          \"Po\\u00e9sie : Cariatides\\nTitre : Cariatides\\nPo\\u00e8te : Th\\u00e9ophile Gautier (1811-1872)\\nUn sculpteur m'a pr\\u00eat\\u00e9 l'\\u0153uvre de Michel-Ange,\\nLa chapelle Sixtine et le grand Jugement ;\\nJe restai stup\\u00e9fait \\u00e0 ce spectacle \\u00e9trange\\nEt me sentis ployer sous mon \\u00e9tonnement.\\nCe sont des corps tordus dans toutes les postures,\\nDes faces de lion avec des cols de b\\u0153uf,\\nDes chairs comme du marbre et des musculatures\\n\\u00c0 pouvoir d'un seul coup rompre un c\\u00e2ble tout neuf.\\nRien ne p\\u00e8se sur eux, ni coupole ni vo\\u00fbtes,\\nPourtant leurs nerfs d'acier s'\\u00e9puisent en efforts,\\nLa sueur de leurs bras semble pleuvoir en gouttes ;\\nQui donc les courbe ainsi, puisqu'ils sont aussi forts ?\\nC'est qu'ils portent un poids \\u00e0 fatiguer Alcide :\\nIls portent ta pens\\u00e9e, \\u00f4 ma\\u00eetre, sur leurs dos ;\\nSous un entablement, jamais cariatide\\nNe tendit son \\u00e9paule \\u00e0 de plus lourds fardeaux.\"\n        ],\n        \"semantic_type\": \"\",\n        \"description\": \"\"\n      }\n    },\n    {\n      \"column\": \"link\",\n      \"properties\": {\n        \"dtype\": \"string\",\n        \"num_unique_values\": 1821,\n        \"samples\": [\n          \"https://www.poesie-francaise.fr/paul-verlaine/poeme-spleen.php\",\n          \"https://www.poesie-francaise.fr/charles-baudelaire/poeme-l-irreparable.php\",\n          \"https://www.poesie-francaise.fr/theophile-gautier/poeme-cariatides.php\"\n        ],\n        \"semantic_type\": \"\",\n        \"description\": \"\"\n      }\n    },\n    {\n      \"column\": \"id\",\n      \"properties\": {\n        \"dtype\": \"string\",\n        \"num_unique_values\": 1821,\n        \"samples\": [\n          \"paul-verlaine-poeme-spleen\",\n          \"charles-baudelaire-poeme-l-irreparable\",\n          \"theophile-gautier-poeme-cariatides\"\n        ],\n        \"semantic_type\": \"\",\n        \"description\": \"\"\n      }\n    }\n  ]\n}"
            }
          },
          "metadata": {},
          "execution_count": 4
        }
      ],
      "source": [
        "# Extraire le Datset grâce à la clé \"train\"\n",
        "df = dataset['train'].to_pandas()\n",
        "df.head()"
      ]
    },
    {
      "cell_type": "markdown",
      "metadata": {
        "id": "1xnMFbZkjiTu"
      },
      "source": [
        "## ***Explorer le Dataset***"
      ]
    },
    {
      "cell_type": "code",
      "execution_count": 5,
      "metadata": {
        "colab": {
          "base_uri": "https://localhost:8080/",
          "height": 241
        },
        "id": "NOBIrq_AjiT3",
        "outputId": "ceb7e8c3-bb81-483e-aac7-365e3378decf"
      },
      "outputs": [
        {
          "output_type": "execute_result",
          "data": {
            "text/plain": [
              "title    object\n",
              "poet     object\n",
              "text     object\n",
              "link     object\n",
              "id       object\n",
              "dtype: object"
            ],
            "text/html": [
              "<div>\n",
              "<style scoped>\n",
              "    .dataframe tbody tr th:only-of-type {\n",
              "        vertical-align: middle;\n",
              "    }\n",
              "\n",
              "    .dataframe tbody tr th {\n",
              "        vertical-align: top;\n",
              "    }\n",
              "\n",
              "    .dataframe thead th {\n",
              "        text-align: right;\n",
              "    }\n",
              "</style>\n",
              "<table border=\"1\" class=\"dataframe\">\n",
              "  <thead>\n",
              "    <tr style=\"text-align: right;\">\n",
              "      <th></th>\n",
              "      <th>0</th>\n",
              "    </tr>\n",
              "  </thead>\n",
              "  <tbody>\n",
              "    <tr>\n",
              "      <th>title</th>\n",
              "      <td>object</td>\n",
              "    </tr>\n",
              "    <tr>\n",
              "      <th>poet</th>\n",
              "      <td>object</td>\n",
              "    </tr>\n",
              "    <tr>\n",
              "      <th>text</th>\n",
              "      <td>object</td>\n",
              "    </tr>\n",
              "    <tr>\n",
              "      <th>link</th>\n",
              "      <td>object</td>\n",
              "    </tr>\n",
              "    <tr>\n",
              "      <th>id</th>\n",
              "      <td>object</td>\n",
              "    </tr>\n",
              "  </tbody>\n",
              "</table>\n",
              "</div><br><label><b>dtype:</b> object</label>"
            ]
          },
          "metadata": {},
          "execution_count": 5
        }
      ],
      "source": [
        "df.dtypes"
      ]
    },
    {
      "cell_type": "code",
      "execution_count": 6,
      "metadata": {
        "colab": {
          "base_uri": "https://localhost:8080/"
        },
        "id": "Q_4C1L6zjiT8",
        "outputId": "75dfbbaf-f5f8-4fe2-9404-15d6672686c9"
      },
      "outputs": [
        {
          "output_type": "execute_result",
          "data": {
            "text/plain": [
              "(1821, 5)"
            ]
          },
          "metadata": {},
          "execution_count": 6
        }
      ],
      "source": [
        "df.shape"
      ]
    },
    {
      "cell_type": "code",
      "execution_count": 7,
      "metadata": {
        "colab": {
          "base_uri": "https://localhost:8080/",
          "height": 89
        },
        "id": "TseiPDlnjiT_",
        "outputId": "82dd687c-8768-4da8-f215-1a5bff3b1847"
      },
      "outputs": [
        {
          "output_type": "execute_result",
          "data": {
            "text/plain": [
              "\"Poésie : Un dahlia\\nTitre : Un dahlia\\nPoète : Paul Verlaine (1844-1896)\\nRecueil : Poèmes saturniens (1866).\\nCourtisane au sein dur, à l'oeil opaque et brun\\nS'ouvrant avec lenteur comme celui d'un boeuf,\\nTon grand torse reluit ainsi qu'un marbre neuf.\\nFleur grasse et riche, autour de toi ne flotte aucun\\nArôme, et la beauté sereine de ton corps\\nDéroule, mate, ses impeccables accords.\\nTu ne sens même pas la chair, ce goût qu'au moins\\nExhalent celles-là qui vont fanant les foins,\\nEt tu trônes, Idole insensible à l'encens.\\n— Ainsi le Dahlia, roi vêtu de splendeur,\\nElève sans orgueil sa tête sans odeur,\\nIrritant au milieu des jasmins agaçants !\""
            ],
            "application/vnd.google.colaboratory.intrinsic+json": {
              "type": "string"
            }
          },
          "metadata": {},
          "execution_count": 7
        }
      ],
      "source": [
        "df['text'].iloc[50]"
      ]
    },
    {
      "cell_type": "markdown",
      "metadata": {
        "id": "d5yK4soXjiUA"
      },
      "source": [
        "## ***Effectuer le preprocessing sur le dataset*** ##"
      ]
    },
    {
      "cell_type": "code",
      "execution_count": 8,
      "metadata": {
        "id": "jixMJlHQjiUC"
      },
      "outputs": [],
      "source": [
        "# Récupérer la section poème positionnée à l'indice 4\n",
        "df['text'] = df['text'].str.split(':').str[4]\n",
        "\n",
        "# Garder la section poème positionnée après le premier \"\\n\"\n",
        "df['text'] = df['text'].str.split('\\n', n=1).str[1]\n",
        "\n",
        "# Supprimer l'intégralité des NAN (poèmes structure non conforme)\n",
        "df['text'] = df['text'].dropna()"
      ]
    },
    {
      "cell_type": "code",
      "execution_count": 9,
      "metadata": {
        "colab": {
          "base_uri": "https://localhost:8080/",
          "height": 641
        },
        "id": "Rvft1IrJjiUD",
        "outputId": "3f5184e1-616b-4340-b742-1ddb068f9194"
      },
      "outputs": [
        {
          "output_type": "execute_result",
          "data": {
            "text/plain": [
              "                                            title  \\\n",
              "0                          Les deux bonnes soeurs   \n",
              "1                      Ami, j'ai quitté vos fêtes   \n",
              "2   Je ne vois pas pourquoi je ferais autre chose   \n",
              "3                               À Mlle Fanny de P   \n",
              "4                              L'angélus du matin   \n",
              "5                       J'ai tout donné pour rien   \n",
              "6                        La dure épreuve va finir   \n",
              "7                               À deux beaux yeux   \n",
              "8                                   Écrit en 1827   \n",
              "9                         Lorsque l'enfant paraît   \n",
              "10                                         Prière   \n",
              "11                                   Nouvel amour   \n",
              "12                      C'est une émotion étrange   \n",
              "13                           Le balcon sur la mer   \n",
              "14                              Adieu à Graziella   \n",
              "\n",
              "                                         poet  \\\n",
              "0              Charles Baudelaire (1821-1867)   \n",
              "1                     Victor Hugo (1802-1885)   \n",
              "2                     Victor Hugo (1802-1885)   \n",
              "3                     Victor Hugo (1802-1885)   \n",
              "4                   Paul Verlaine (1844-1896)   \n",
              "5               Théophile Gautier (1811-1872)   \n",
              "6                   Paul Verlaine (1844-1896)   \n",
              "7               Théophile Gautier (1811-1872)   \n",
              "8                     Victor Hugo (1802-1885)   \n",
              "9                     Victor Hugo (1802-1885)   \n",
              "10  René-François Sully Prudhomme (1839-1907)   \n",
              "11            Alphonse Beauregard (1881-1924)   \n",
              "12                    Victor Hugo (1802-1885)   \n",
              "13              Auguste Angellier (1848-1911)   \n",
              "14          Alphonse de Lamartine (1790-1869)   \n",
              "\n",
              "                                                 text  \\\n",
              "0   Sonnet.\\nLa Débauche et la Mort sont deux aima...   \n",
              "1                                                 NaN   \n",
              "2   Je ne vois pas pourquoi je ferais autre chose\\...   \n",
              "3                                                 NaN   \n",
              "4                                                 NaN   \n",
              "5   On peut m'aimer sans honte,\\nLa couronne de co...   \n",
              "6                           La dure épreuve va finir    \n",
              "7   Vous avez un regard singulier et charmant ;\\nC...   \n",
              "8                                                 NaN   \n",
              "9                                                 NaN   \n",
              "10  Ah ! Si vous saviez comme on pleure\\nDe vivre ...   \n",
              "11                                                NaN   \n",
              "12  On sent on ne sait quelle émotion sacrée,\\nEt ...   \n",
              "13                                                NaN   \n",
              "14                                                NaN   \n",
              "\n",
              "                                                 link  \\\n",
              "0   https://www.poesie-francaise.fr/charles-baudel...   \n",
              "1   https://www.poesie-francaise.fr/victor-hugo/po...   \n",
              "2   https://www.poesie-francaise.fr/victor-hugo/po...   \n",
              "3   https://www.poesie-francaise.fr/victor-hugo/po...   \n",
              "4   https://www.poesie-francaise.fr/paul-verlaine/...   \n",
              "5   https://www.poesie-francaise.fr/theophile-gaut...   \n",
              "6   https://www.poesie-francaise.fr/paul-verlaine/...   \n",
              "7   https://www.poesie-francaise.fr/theophile-gaut...   \n",
              "8   https://www.poesie-francaise.fr/victor-hugo/po...   \n",
              "9   https://www.poesie-francaise.fr/victor-hugo/po...   \n",
              "10  https://www.poesie-francaise.fr/rene-francois-...   \n",
              "11  https://www.poesie-francaise.fr/alphonse-beaur...   \n",
              "12  https://www.poesie-francaise.fr/victor-hugo/po...   \n",
              "13  https://www.poesie-francaise.fr/auguste-angell...   \n",
              "14  https://www.poesie-francaise.fr/alphonse-de-la...   \n",
              "\n",
              "                                                   id  \n",
              "0     charles-baudelaire-poeme-les-deux-bonnes-soeurs  \n",
              "1         victor-hugo-poeme-ami-j-ai-quitte-vos-fetes  \n",
              "2   victor-hugo-poeme-je-ne-vois-pas-pourquoi-je-f...  \n",
              "3                 victor-hugo-poeme-a-Mlle-Fanny-de-P  \n",
              "4               paul-verlaine-poeme-langelus-du-matin  \n",
              "5    theophile-gautier-poeme-jai-tout-donne-pour-rien  \n",
              "6        paul-verlaine-poeme-la-dure-epreuve-va-finir  \n",
              "7           theophile-gautier-poeme-a-deux-beaux-yeux  \n",
              "8                     victor-hugo-poeme-ecrit-en-1827  \n",
              "9           victor-hugo-poeme-lorsque-l-enfant-parait  \n",
              "10         rene-francois-sully-prudhomme-poeme-priere  \n",
              "11             alphonse-beauregard-poeme-nouvel-amour  \n",
              "12        victor-hugo-poeme-c-est-une-emotion-etrange  \n",
              "13       auguste-angellier-poeme-le-balcon-sur-la-mer  \n",
              "14      alphonse-de-lamartine-poeme-adieu-a-graziella  "
            ],
            "text/html": [
              "\n",
              "  <div id=\"df-e20fd9fc-a535-4594-aed2-7b4c71a4dfa0\" class=\"colab-df-container\">\n",
              "    <div>\n",
              "<style scoped>\n",
              "    .dataframe tbody tr th:only-of-type {\n",
              "        vertical-align: middle;\n",
              "    }\n",
              "\n",
              "    .dataframe tbody tr th {\n",
              "        vertical-align: top;\n",
              "    }\n",
              "\n",
              "    .dataframe thead th {\n",
              "        text-align: right;\n",
              "    }\n",
              "</style>\n",
              "<table border=\"1\" class=\"dataframe\">\n",
              "  <thead>\n",
              "    <tr style=\"text-align: right;\">\n",
              "      <th></th>\n",
              "      <th>title</th>\n",
              "      <th>poet</th>\n",
              "      <th>text</th>\n",
              "      <th>link</th>\n",
              "      <th>id</th>\n",
              "    </tr>\n",
              "  </thead>\n",
              "  <tbody>\n",
              "    <tr>\n",
              "      <th>0</th>\n",
              "      <td>Les deux bonnes soeurs</td>\n",
              "      <td>Charles Baudelaire (1821-1867)</td>\n",
              "      <td>Sonnet.\\nLa Débauche et la Mort sont deux aima...</td>\n",
              "      <td>https://www.poesie-francaise.fr/charles-baudel...</td>\n",
              "      <td>charles-baudelaire-poeme-les-deux-bonnes-soeurs</td>\n",
              "    </tr>\n",
              "    <tr>\n",
              "      <th>1</th>\n",
              "      <td>Ami, j'ai quitté vos fêtes</td>\n",
              "      <td>Victor Hugo (1802-1885)</td>\n",
              "      <td>NaN</td>\n",
              "      <td>https://www.poesie-francaise.fr/victor-hugo/po...</td>\n",
              "      <td>victor-hugo-poeme-ami-j-ai-quitte-vos-fetes</td>\n",
              "    </tr>\n",
              "    <tr>\n",
              "      <th>2</th>\n",
              "      <td>Je ne vois pas pourquoi je ferais autre chose</td>\n",
              "      <td>Victor Hugo (1802-1885)</td>\n",
              "      <td>Je ne vois pas pourquoi je ferais autre chose\\...</td>\n",
              "      <td>https://www.poesie-francaise.fr/victor-hugo/po...</td>\n",
              "      <td>victor-hugo-poeme-je-ne-vois-pas-pourquoi-je-f...</td>\n",
              "    </tr>\n",
              "    <tr>\n",
              "      <th>3</th>\n",
              "      <td>À Mlle Fanny de P</td>\n",
              "      <td>Victor Hugo (1802-1885)</td>\n",
              "      <td>NaN</td>\n",
              "      <td>https://www.poesie-francaise.fr/victor-hugo/po...</td>\n",
              "      <td>victor-hugo-poeme-a-Mlle-Fanny-de-P</td>\n",
              "    </tr>\n",
              "    <tr>\n",
              "      <th>4</th>\n",
              "      <td>L'angélus du matin</td>\n",
              "      <td>Paul Verlaine (1844-1896)</td>\n",
              "      <td>NaN</td>\n",
              "      <td>https://www.poesie-francaise.fr/paul-verlaine/...</td>\n",
              "      <td>paul-verlaine-poeme-langelus-du-matin</td>\n",
              "    </tr>\n",
              "    <tr>\n",
              "      <th>5</th>\n",
              "      <td>J'ai tout donné pour rien</td>\n",
              "      <td>Théophile Gautier (1811-1872)</td>\n",
              "      <td>On peut m'aimer sans honte,\\nLa couronne de co...</td>\n",
              "      <td>https://www.poesie-francaise.fr/theophile-gaut...</td>\n",
              "      <td>theophile-gautier-poeme-jai-tout-donne-pour-rien</td>\n",
              "    </tr>\n",
              "    <tr>\n",
              "      <th>6</th>\n",
              "      <td>La dure épreuve va finir</td>\n",
              "      <td>Paul Verlaine (1844-1896)</td>\n",
              "      <td>La dure épreuve va finir</td>\n",
              "      <td>https://www.poesie-francaise.fr/paul-verlaine/...</td>\n",
              "      <td>paul-verlaine-poeme-la-dure-epreuve-va-finir</td>\n",
              "    </tr>\n",
              "    <tr>\n",
              "      <th>7</th>\n",
              "      <td>À deux beaux yeux</td>\n",
              "      <td>Théophile Gautier (1811-1872)</td>\n",
              "      <td>Vous avez un regard singulier et charmant ;\\nC...</td>\n",
              "      <td>https://www.poesie-francaise.fr/theophile-gaut...</td>\n",
              "      <td>theophile-gautier-poeme-a-deux-beaux-yeux</td>\n",
              "    </tr>\n",
              "    <tr>\n",
              "      <th>8</th>\n",
              "      <td>Écrit en 1827</td>\n",
              "      <td>Victor Hugo (1802-1885)</td>\n",
              "      <td>NaN</td>\n",
              "      <td>https://www.poesie-francaise.fr/victor-hugo/po...</td>\n",
              "      <td>victor-hugo-poeme-ecrit-en-1827</td>\n",
              "    </tr>\n",
              "    <tr>\n",
              "      <th>9</th>\n",
              "      <td>Lorsque l'enfant paraît</td>\n",
              "      <td>Victor Hugo (1802-1885)</td>\n",
              "      <td>NaN</td>\n",
              "      <td>https://www.poesie-francaise.fr/victor-hugo/po...</td>\n",
              "      <td>victor-hugo-poeme-lorsque-l-enfant-parait</td>\n",
              "    </tr>\n",
              "    <tr>\n",
              "      <th>10</th>\n",
              "      <td>Prière</td>\n",
              "      <td>René-François Sully Prudhomme (1839-1907)</td>\n",
              "      <td>Ah ! Si vous saviez comme on pleure\\nDe vivre ...</td>\n",
              "      <td>https://www.poesie-francaise.fr/rene-francois-...</td>\n",
              "      <td>rene-francois-sully-prudhomme-poeme-priere</td>\n",
              "    </tr>\n",
              "    <tr>\n",
              "      <th>11</th>\n",
              "      <td>Nouvel amour</td>\n",
              "      <td>Alphonse Beauregard (1881-1924)</td>\n",
              "      <td>NaN</td>\n",
              "      <td>https://www.poesie-francaise.fr/alphonse-beaur...</td>\n",
              "      <td>alphonse-beauregard-poeme-nouvel-amour</td>\n",
              "    </tr>\n",
              "    <tr>\n",
              "      <th>12</th>\n",
              "      <td>C'est une émotion étrange</td>\n",
              "      <td>Victor Hugo (1802-1885)</td>\n",
              "      <td>On sent on ne sait quelle émotion sacrée,\\nEt ...</td>\n",
              "      <td>https://www.poesie-francaise.fr/victor-hugo/po...</td>\n",
              "      <td>victor-hugo-poeme-c-est-une-emotion-etrange</td>\n",
              "    </tr>\n",
              "    <tr>\n",
              "      <th>13</th>\n",
              "      <td>Le balcon sur la mer</td>\n",
              "      <td>Auguste Angellier (1848-1911)</td>\n",
              "      <td>NaN</td>\n",
              "      <td>https://www.poesie-francaise.fr/auguste-angell...</td>\n",
              "      <td>auguste-angellier-poeme-le-balcon-sur-la-mer</td>\n",
              "    </tr>\n",
              "    <tr>\n",
              "      <th>14</th>\n",
              "      <td>Adieu à Graziella</td>\n",
              "      <td>Alphonse de Lamartine (1790-1869)</td>\n",
              "      <td>NaN</td>\n",
              "      <td>https://www.poesie-francaise.fr/alphonse-de-la...</td>\n",
              "      <td>alphonse-de-lamartine-poeme-adieu-a-graziella</td>\n",
              "    </tr>\n",
              "  </tbody>\n",
              "</table>\n",
              "</div>\n",
              "    <div class=\"colab-df-buttons\">\n",
              "\n",
              "  <div class=\"colab-df-container\">\n",
              "    <button class=\"colab-df-convert\" onclick=\"convertToInteractive('df-e20fd9fc-a535-4594-aed2-7b4c71a4dfa0')\"\n",
              "            title=\"Convert this dataframe to an interactive table.\"\n",
              "            style=\"display:none;\">\n",
              "\n",
              "  <svg xmlns=\"http://www.w3.org/2000/svg\" height=\"24px\" viewBox=\"0 -960 960 960\">\n",
              "    <path d=\"M120-120v-720h720v720H120Zm60-500h600v-160H180v160Zm220 220h160v-160H400v160Zm0 220h160v-160H400v160ZM180-400h160v-160H180v160Zm440 0h160v-160H620v160ZM180-180h160v-160H180v160Zm440 0h160v-160H620v160Z\"/>\n",
              "  </svg>\n",
              "    </button>\n",
              "\n",
              "  <style>\n",
              "    .colab-df-container {\n",
              "      display:flex;\n",
              "      gap: 12px;\n",
              "    }\n",
              "\n",
              "    .colab-df-convert {\n",
              "      background-color: #E8F0FE;\n",
              "      border: none;\n",
              "      border-radius: 50%;\n",
              "      cursor: pointer;\n",
              "      display: none;\n",
              "      fill: #1967D2;\n",
              "      height: 32px;\n",
              "      padding: 0 0 0 0;\n",
              "      width: 32px;\n",
              "    }\n",
              "\n",
              "    .colab-df-convert:hover {\n",
              "      background-color: #E2EBFA;\n",
              "      box-shadow: 0px 1px 2px rgba(60, 64, 67, 0.3), 0px 1px 3px 1px rgba(60, 64, 67, 0.15);\n",
              "      fill: #174EA6;\n",
              "    }\n",
              "\n",
              "    .colab-df-buttons div {\n",
              "      margin-bottom: 4px;\n",
              "    }\n",
              "\n",
              "    [theme=dark] .colab-df-convert {\n",
              "      background-color: #3B4455;\n",
              "      fill: #D2E3FC;\n",
              "    }\n",
              "\n",
              "    [theme=dark] .colab-df-convert:hover {\n",
              "      background-color: #434B5C;\n",
              "      box-shadow: 0px 1px 3px 1px rgba(0, 0, 0, 0.15);\n",
              "      filter: drop-shadow(0px 1px 2px rgba(0, 0, 0, 0.3));\n",
              "      fill: #FFFFFF;\n",
              "    }\n",
              "  </style>\n",
              "\n",
              "    <script>\n",
              "      const buttonEl =\n",
              "        document.querySelector('#df-e20fd9fc-a535-4594-aed2-7b4c71a4dfa0 button.colab-df-convert');\n",
              "      buttonEl.style.display =\n",
              "        google.colab.kernel.accessAllowed ? 'block' : 'none';\n",
              "\n",
              "      async function convertToInteractive(key) {\n",
              "        const element = document.querySelector('#df-e20fd9fc-a535-4594-aed2-7b4c71a4dfa0');\n",
              "        const dataTable =\n",
              "          await google.colab.kernel.invokeFunction('convertToInteractive',\n",
              "                                                    [key], {});\n",
              "        if (!dataTable) return;\n",
              "\n",
              "        const docLinkHtml = 'Like what you see? Visit the ' +\n",
              "          '<a target=\"_blank\" href=https://colab.research.google.com/notebooks/data_table.ipynb>data table notebook</a>'\n",
              "          + ' to learn more about interactive tables.';\n",
              "        element.innerHTML = '';\n",
              "        dataTable['output_type'] = 'display_data';\n",
              "        await google.colab.output.renderOutput(dataTable, element);\n",
              "        const docLink = document.createElement('div');\n",
              "        docLink.innerHTML = docLinkHtml;\n",
              "        element.appendChild(docLink);\n",
              "      }\n",
              "    </script>\n",
              "  </div>\n",
              "\n",
              "\n",
              "<div id=\"df-746ff589-24c9-4e47-b1d5-98e2e72135e8\">\n",
              "  <button class=\"colab-df-quickchart\" onclick=\"quickchart('df-746ff589-24c9-4e47-b1d5-98e2e72135e8')\"\n",
              "            title=\"Suggest charts\"\n",
              "            style=\"display:none;\">\n",
              "\n",
              "<svg xmlns=\"http://www.w3.org/2000/svg\" height=\"24px\"viewBox=\"0 0 24 24\"\n",
              "     width=\"24px\">\n",
              "    <g>\n",
              "        <path d=\"M19 3H5c-1.1 0-2 .9-2 2v14c0 1.1.9 2 2 2h14c1.1 0 2-.9 2-2V5c0-1.1-.9-2-2-2zM9 17H7v-7h2v7zm4 0h-2V7h2v10zm4 0h-2v-4h2v4z\"/>\n",
              "    </g>\n",
              "</svg>\n",
              "  </button>\n",
              "\n",
              "<style>\n",
              "  .colab-df-quickchart {\n",
              "      --bg-color: #E8F0FE;\n",
              "      --fill-color: #1967D2;\n",
              "      --hover-bg-color: #E2EBFA;\n",
              "      --hover-fill-color: #174EA6;\n",
              "      --disabled-fill-color: #AAA;\n",
              "      --disabled-bg-color: #DDD;\n",
              "  }\n",
              "\n",
              "  [theme=dark] .colab-df-quickchart {\n",
              "      --bg-color: #3B4455;\n",
              "      --fill-color: #D2E3FC;\n",
              "      --hover-bg-color: #434B5C;\n",
              "      --hover-fill-color: #FFFFFF;\n",
              "      --disabled-bg-color: #3B4455;\n",
              "      --disabled-fill-color: #666;\n",
              "  }\n",
              "\n",
              "  .colab-df-quickchart {\n",
              "    background-color: var(--bg-color);\n",
              "    border: none;\n",
              "    border-radius: 50%;\n",
              "    cursor: pointer;\n",
              "    display: none;\n",
              "    fill: var(--fill-color);\n",
              "    height: 32px;\n",
              "    padding: 0;\n",
              "    width: 32px;\n",
              "  }\n",
              "\n",
              "  .colab-df-quickchart:hover {\n",
              "    background-color: var(--hover-bg-color);\n",
              "    box-shadow: 0 1px 2px rgba(60, 64, 67, 0.3), 0 1px 3px 1px rgba(60, 64, 67, 0.15);\n",
              "    fill: var(--button-hover-fill-color);\n",
              "  }\n",
              "\n",
              "  .colab-df-quickchart-complete:disabled,\n",
              "  .colab-df-quickchart-complete:disabled:hover {\n",
              "    background-color: var(--disabled-bg-color);\n",
              "    fill: var(--disabled-fill-color);\n",
              "    box-shadow: none;\n",
              "  }\n",
              "\n",
              "  .colab-df-spinner {\n",
              "    border: 2px solid var(--fill-color);\n",
              "    border-color: transparent;\n",
              "    border-bottom-color: var(--fill-color);\n",
              "    animation:\n",
              "      spin 1s steps(1) infinite;\n",
              "  }\n",
              "\n",
              "  @keyframes spin {\n",
              "    0% {\n",
              "      border-color: transparent;\n",
              "      border-bottom-color: var(--fill-color);\n",
              "      border-left-color: var(--fill-color);\n",
              "    }\n",
              "    20% {\n",
              "      border-color: transparent;\n",
              "      border-left-color: var(--fill-color);\n",
              "      border-top-color: var(--fill-color);\n",
              "    }\n",
              "    30% {\n",
              "      border-color: transparent;\n",
              "      border-left-color: var(--fill-color);\n",
              "      border-top-color: var(--fill-color);\n",
              "      border-right-color: var(--fill-color);\n",
              "    }\n",
              "    40% {\n",
              "      border-color: transparent;\n",
              "      border-right-color: var(--fill-color);\n",
              "      border-top-color: var(--fill-color);\n",
              "    }\n",
              "    60% {\n",
              "      border-color: transparent;\n",
              "      border-right-color: var(--fill-color);\n",
              "    }\n",
              "    80% {\n",
              "      border-color: transparent;\n",
              "      border-right-color: var(--fill-color);\n",
              "      border-bottom-color: var(--fill-color);\n",
              "    }\n",
              "    90% {\n",
              "      border-color: transparent;\n",
              "      border-bottom-color: var(--fill-color);\n",
              "    }\n",
              "  }\n",
              "</style>\n",
              "\n",
              "  <script>\n",
              "    async function quickchart(key) {\n",
              "      const quickchartButtonEl =\n",
              "        document.querySelector('#' + key + ' button');\n",
              "      quickchartButtonEl.disabled = true;  // To prevent multiple clicks.\n",
              "      quickchartButtonEl.classList.add('colab-df-spinner');\n",
              "      try {\n",
              "        const charts = await google.colab.kernel.invokeFunction(\n",
              "            'suggestCharts', [key], {});\n",
              "      } catch (error) {\n",
              "        console.error('Error during call to suggestCharts:', error);\n",
              "      }\n",
              "      quickchartButtonEl.classList.remove('colab-df-spinner');\n",
              "      quickchartButtonEl.classList.add('colab-df-quickchart-complete');\n",
              "    }\n",
              "    (() => {\n",
              "      let quickchartButtonEl =\n",
              "        document.querySelector('#df-746ff589-24c9-4e47-b1d5-98e2e72135e8 button');\n",
              "      quickchartButtonEl.style.display =\n",
              "        google.colab.kernel.accessAllowed ? 'block' : 'none';\n",
              "    })();\n",
              "  </script>\n",
              "</div>\n",
              "\n",
              "    </div>\n",
              "  </div>\n"
            ],
            "application/vnd.google.colaboratory.intrinsic+json": {
              "type": "dataframe",
              "variable_name": "df",
              "summary": "{\n  \"name\": \"df\",\n  \"rows\": 1821,\n  \"fields\": [\n    {\n      \"column\": \"title\",\n      \"properties\": {\n        \"dtype\": \"string\",\n        \"num_unique_values\": 1767,\n        \"samples\": [\n          \"R\\u00e9flexion amoureuse\",\n          \"\\u00c0 Andr\\u00e9 Ch\\u00e9nier\",\n          \"Laetitia rerum\"\n        ],\n        \"semantic_type\": \"\",\n        \"description\": \"\"\n      }\n    },\n    {\n      \"column\": \"poet\",\n      \"properties\": {\n        \"dtype\": \"category\",\n        \"num_unique_values\": 56,\n        \"samples\": [\n          \"Charles Baudelaire (1821-1867)\",\n          \"Alphonse Beauregard (1881-1924)\",\n          \"\\u00c9mile Verhaeren (1855-1916)\"\n        ],\n        \"semantic_type\": \"\",\n        \"description\": \"\"\n      }\n    },\n    {\n      \"column\": \"text\",\n      \"properties\": {\n        \"dtype\": \"string\",\n        \"num_unique_values\": 1399,\n        \"samples\": [\n          \"Tous deux, pour nos amours invoquons le myst\\u00e8re,\\nFran\\u00e7ois-Marie Robert-Dutertre.\\nTous deux, pour nos amours invoquons le myst\\u00e8re,\\nCachons \\u00e0 tous les yeux nos entretiens si doux ;\\nCar l'amour, vois-tu bien, c'est la fleur solitaire,\\nC'est l'oiseau qui s'enfuit au regard des jaloux.\\nTous deux, quand le printemps ornera les prairies,\\nPour mieux nous sentir seuls loin des bruits d'ici-bas,\\nNous irons \\u00e9pancher nos douces r\\u00eaveries\\nSous les bosquets en fleurs o\\u00f9 l'on parle tout bas.\\nTous deux, nous go\\u00fbterons des amours infinies,\\nMa main pressant ta main, mes yeux cherchant tes yeux,\\nNos c\\u0153urs se parleront sur nos l\\u00e8vres unies\\nEt nous irons un jour ensemble vers les cieux.\",\n          \"Sonnet.\\n\\u00d4 Rhin, sais-tu pourquoi les amants insens\\u00e9s,\\nAbandonnant leur \\u00e2me aux tendres r\\u00eaveries,\\nPar tes bois verdoyants, par tes larges prairies\\nS'en vont par leur folie incessamment pouss\\u00e9s ?\\nSais-tu pourquoi jamais les tristes railleries,\\nLes exemples d'hier, ni ceux des temps pass\\u00e9s,\\nDe tes monts ador\\u00e9s, de tes rives ch\\u00e9ries,\\nNe les ont fait descendre et ne les ont chass\\u00e9s ?\\nC'est que, dans tous les temps, ceux que l'homme s\\u00e9pare\\nEt que Dieu r\\u00e9unit iront chercher les bois,\\nEt des vastes torrents \\u00e9couteront les voix.\\nL'homme libre viendra, loin d'un monde barbare,\\nSur les rocs et les monts, comme au pied d'un autel,\\nProtester contre l'homme en regardant le ciel.\",\n          \"L'autre, obscur b\\u00e9ga\\u00eement. L'\\u00e9l\\u00e9phant aux pieds lourds,\\nLe lion, ce grand front de l'antre, l'aigle, l'ours,\\nLe taureau, le cheval, le tigre au bond superbe,\\nSont le langage altier et splendide, le verbe ;\\nEt la chauve-souris, le crapaud, le putois,\\nLe crabe, le hibou, le porc, sont le patois.\\nOr, j'\\u00e9tais l\\u00e0, pensif, bienveillant, presque tendre,\\n\\u00c9pelant ce squelette, et t\\u00e2chant de comprendre\\nCe qu'entre les trois clous o\\u00f9 son spectre pendait,\\nAux vivants, aux souffrants, au b\\u0153uf triste, au baudet,\\nDisait, h\\u00e9las ! la pauvre et sinistre chouette,\\nDu c\\u00f4t\\u00e9 noir de l'\\u00eatre informe silhouette.\\nElle disait \"\n        ],\n        \"semantic_type\": \"\",\n        \"description\": \"\"\n      }\n    },\n    {\n      \"column\": \"link\",\n      \"properties\": {\n        \"dtype\": \"string\",\n        \"num_unique_values\": 1821,\n        \"samples\": [\n          \"https://www.poesie-francaise.fr/paul-verlaine/poeme-spleen.php\",\n          \"https://www.poesie-francaise.fr/charles-baudelaire/poeme-l-irreparable.php\",\n          \"https://www.poesie-francaise.fr/theophile-gautier/poeme-cariatides.php\"\n        ],\n        \"semantic_type\": \"\",\n        \"description\": \"\"\n      }\n    },\n    {\n      \"column\": \"id\",\n      \"properties\": {\n        \"dtype\": \"string\",\n        \"num_unique_values\": 1821,\n        \"samples\": [\n          \"paul-verlaine-poeme-spleen\",\n          \"charles-baudelaire-poeme-l-irreparable\",\n          \"theophile-gautier-poeme-cariatides\"\n        ],\n        \"semantic_type\": \"\",\n        \"description\": \"\"\n      }\n    }\n  ]\n}"
            }
          },
          "metadata": {},
          "execution_count": 9
        }
      ],
      "source": [
        "df.head(15)"
      ]
    },
    {
      "cell_type": "code",
      "execution_count": 10,
      "metadata": {
        "colab": {
          "base_uri": "https://localhost:8080/"
        },
        "id": "-90bt1_HjiUD",
        "outputId": "6108c122-f68f-400b-ca0f-38bd0bd41db2"
      },
      "outputs": [
        {
          "output_type": "execute_result",
          "data": {
            "text/plain": [
              "(1821, 5)"
            ]
          },
          "metadata": {},
          "execution_count": 10
        }
      ],
      "source": [
        "df.shape"
      ]
    },
    {
      "cell_type": "markdown",
      "metadata": {
        "id": "JtpYQJ8kjiUE"
      },
      "source": [
        "## ***Suppression des valeurs NaN aprés transformation ne respectant pas la structure globale***"
      ]
    },
    {
      "cell_type": "code",
      "execution_count": 11,
      "metadata": {
        "colab": {
          "base_uri": "https://localhost:8080/"
        },
        "id": "5Xs1wliAjiUN",
        "outputId": "cc77bf8a-6c14-429f-a211-44927c42a1ad"
      },
      "outputs": [
        {
          "output_type": "stream",
          "name": "stdout",
          "text": [
            "412\n"
          ]
        }
      ],
      "source": [
        "# Détecter les valeurs NaN\n",
        "missing_values = df.text.isnull().sum()\n",
        "print(missing_values)"
      ]
    },
    {
      "cell_type": "code",
      "execution_count": 12,
      "metadata": {
        "id": "6Krf3hltjiUR"
      },
      "outputs": [],
      "source": [
        "# Supprimer les valeurs Nan\n",
        "df = df.dropna(subset=['text']).reset_index(drop =True)"
      ]
    },
    {
      "cell_type": "code",
      "execution_count": 13,
      "metadata": {
        "colab": {
          "base_uri": "https://localhost:8080/"
        },
        "id": "YtLMlf-ijiUX",
        "outputId": "50b07365-9398-4e59-b021-f5ee6d412660"
      },
      "outputs": [
        {
          "output_type": "execute_result",
          "data": {
            "text/plain": [
              "(1409, 5)"
            ]
          },
          "metadata": {},
          "execution_count": 13
        }
      ],
      "source": [
        "df.shape"
      ]
    },
    {
      "cell_type": "code",
      "execution_count": 14,
      "metadata": {
        "colab": {
          "base_uri": "https://localhost:8080/"
        },
        "id": "3_wmu4bDjiUb",
        "outputId": "5a5a1873-44ce-4d46-cf70-2c1a4fbda43d"
      },
      "outputs": [
        {
          "output_type": "stream",
          "name": "stdout",
          "text": [
            "0\n"
          ]
        }
      ],
      "source": [
        "# Compter les valeurs NaN après suppression\n",
        "missing_values = df.text.isnull().sum()\n",
        "print(missing_values)"
      ]
    },
    {
      "cell_type": "code",
      "execution_count": 15,
      "metadata": {
        "colab": {
          "base_uri": "https://localhost:8080/"
        },
        "id": "wtJCT3YtjiUc",
        "outputId": "be6549ab-88d0-45b5-df0e-f553c4249e0b"
      },
      "outputs": [
        {
          "output_type": "execute_result",
          "data": {
            "text/plain": [
              "(1409, 5)"
            ]
          },
          "metadata": {},
          "execution_count": 15
        }
      ],
      "source": [
        "df.shape"
      ]
    },
    {
      "cell_type": "code",
      "execution_count": 16,
      "metadata": {
        "colab": {
          "base_uri": "https://localhost:8080/",
          "height": 89
        },
        "id": "i37EIEECjiUd",
        "outputId": "fe57f663-8ec5-4732-a7ad-b5c23b7f81c1"
      },
      "outputs": [
        {
          "output_type": "execute_result",
          "data": {
            "text/plain": [
              "\"Et nos longs entretiens qui font les soirs si courts,\\nTon vénérable amour que jamais rien n'émousse\\nPour toute belle chose et toute chose douce !\\nMaint poème charmant que nous disait ta voix\\nM'apparaît... — Mon esprit, admirant à la fois\\nTant de jours sur ton front, tant de grâce en ton style,\\nCroit voir un patriarche au milieu d'une idylle !\\nAinsi tu n'es jamais loin de mon âme, et puis\\nTout me parle de toi dans ces champs où je suis ;\\nJe compare, en mon coeur que ton ombre accompagne,\\nTa verte poésie et la fraîche campagne ;\\nJe t'évoque partout ; il me semble souvent\\nQue je vais te trouver dans quelque coin rêvant,\\nEt que, dans le bois sombre ouvrant ses ailes blanches,\\nTon vers jeune et vivant chante au milieu des branches.\\nJe m'attends à te voir sous un arbre endormi.\\nJe dis \""
            ],
            "application/vnd.google.colaboratory.intrinsic+json": {
              "type": "string"
            }
          },
          "metadata": {},
          "execution_count": 16
        }
      ],
      "source": [
        "df['text'].iloc[100]"
      ]
    },
    {
      "cell_type": "code",
      "execution_count": 17,
      "metadata": {
        "id": "Gph9OLj2jiUe"
      },
      "outputs": [],
      "source": [
        "# Suppression des colonnes inutiles\n",
        "df = df.drop(columns = ['poet', 'link', 'id'])"
      ]
    },
    {
      "cell_type": "code",
      "execution_count": 18,
      "metadata": {
        "id": "tgxBkrwKjiUf"
      },
      "outputs": [],
      "source": [
        "# Dictionnaire des prompts utilisés pour améliorer la robustesse du dataset\n",
        "prompt_variance = [\n",
        "    \"Écris un poème sur le thème : {title}\",\n",
        "    \"Compose un poème intitulé : {title}\",\n",
        "    \"Imagine un poème ayant pour sujet : {title}\",\n",
        "    \"Crée un poème autour de : {title}\",\n",
        "    \"Un poème inspiré de {title}, s'il te plaît\",\n",
        "    \"{title}\",\n",
        "    \"Rédige un poème poétique à propos de : {title}\",\n",
        "    \"Propose un poème sur le sujet suivant : {title}\",\n",
        "    \"Donne-moi un poème avec pour thème principal : {title}\",\n",
        "    \"Développe un poème basé sur : {title}\",\n",
        "    \"Invente un poème portant sur : {title}\",\n",
        "    \"Un poème intitulé {title}\",\n",
        "    \"Sur le thème {title}, écris un poème captivant\",\n",
        "    \"Conçois un poème ayant comme sujet : {title}\",\n",
        "    \"Pour {title}, écris un poème unique\",\n",
        "    \"À partir du sujet '{title}', rédige un poème\",\n",
        "    \"Avec {title}, inspire-toi pour créer un poème\",\n",
        "    \"Un poème autour de {title}, si possible\",\n",
        "    \"Donne-moi un poème avec pour thème {title}\",\n",
        "    \"Fais un poème en explorant le thème {title}\",\n",
        "    \"Compose une œuvre poétique sur {title}\",\n",
        "    \"Rédige un poème à propos de {title}\"\n",
        "]"
      ]
    },
    {
      "cell_type": "code",
      "execution_count": 19,
      "metadata": {
        "id": "bsyGxt51jiUg"
      },
      "outputs": [],
      "source": [
        "# Fixer une seed pour la reproductibilité des résultats\n",
        "random.seed(42)\n",
        "\n",
        "# Applqiuer les différents prompt aléatoirement sur les titres des poèmes\n",
        "df['prompt'] = df['title'].apply(lambda title: random.choice(prompt_variance).format(title=title))"
      ]
    },
    {
      "cell_type": "code",
      "execution_count": 20,
      "metadata": {
        "id": "7GdX2oUBjiUh"
      },
      "outputs": [],
      "source": [
        "# Conserver uniquement les colonnes prompt et text\n",
        "df = df[['prompt', 'text']]"
      ]
    },
    {
      "cell_type": "code",
      "execution_count": 21,
      "metadata": {
        "colab": {
          "base_uri": "https://localhost:8080/",
          "height": 206
        },
        "id": "hF0uWRcxjiUo",
        "outputId": "54223869-1bde-4182-b636-95de6b288bf9"
      },
      "outputs": [
        {
          "output_type": "execute_result",
          "data": {
            "text/plain": [
              "                                              prompt  \\\n",
              "0  Compose une œuvre poétique sur Les deux bonnes...   \n",
              "1  Crée un poème autour de : Je ne vois pas pourq...   \n",
              "2  Écris un poème sur le thème : J'ai tout donné ...   \n",
              "3  Donne-moi un poème avec pour thème principal :...   \n",
              "4  Propose un poème sur le sujet suivant : À deux...   \n",
              "\n",
              "                                                text  \n",
              "0  Sonnet.\\nLa Débauche et la Mort sont deux aima...  \n",
              "1  Je ne vois pas pourquoi je ferais autre chose\\...  \n",
              "2  On peut m'aimer sans honte,\\nLa couronne de co...  \n",
              "3                          La dure épreuve va finir   \n",
              "4  Vous avez un regard singulier et charmant ;\\nC...  "
            ],
            "text/html": [
              "\n",
              "  <div id=\"df-c162d53b-98e5-4b23-8627-456aceff8666\" class=\"colab-df-container\">\n",
              "    <div>\n",
              "<style scoped>\n",
              "    .dataframe tbody tr th:only-of-type {\n",
              "        vertical-align: middle;\n",
              "    }\n",
              "\n",
              "    .dataframe tbody tr th {\n",
              "        vertical-align: top;\n",
              "    }\n",
              "\n",
              "    .dataframe thead th {\n",
              "        text-align: right;\n",
              "    }\n",
              "</style>\n",
              "<table border=\"1\" class=\"dataframe\">\n",
              "  <thead>\n",
              "    <tr style=\"text-align: right;\">\n",
              "      <th></th>\n",
              "      <th>prompt</th>\n",
              "      <th>text</th>\n",
              "    </tr>\n",
              "  </thead>\n",
              "  <tbody>\n",
              "    <tr>\n",
              "      <th>0</th>\n",
              "      <td>Compose une œuvre poétique sur Les deux bonnes...</td>\n",
              "      <td>Sonnet.\\nLa Débauche et la Mort sont deux aima...</td>\n",
              "    </tr>\n",
              "    <tr>\n",
              "      <th>1</th>\n",
              "      <td>Crée un poème autour de : Je ne vois pas pourq...</td>\n",
              "      <td>Je ne vois pas pourquoi je ferais autre chose\\...</td>\n",
              "    </tr>\n",
              "    <tr>\n",
              "      <th>2</th>\n",
              "      <td>Écris un poème sur le thème : J'ai tout donné ...</td>\n",
              "      <td>On peut m'aimer sans honte,\\nLa couronne de co...</td>\n",
              "    </tr>\n",
              "    <tr>\n",
              "      <th>3</th>\n",
              "      <td>Donne-moi un poème avec pour thème principal :...</td>\n",
              "      <td>La dure épreuve va finir</td>\n",
              "    </tr>\n",
              "    <tr>\n",
              "      <th>4</th>\n",
              "      <td>Propose un poème sur le sujet suivant : À deux...</td>\n",
              "      <td>Vous avez un regard singulier et charmant ;\\nC...</td>\n",
              "    </tr>\n",
              "  </tbody>\n",
              "</table>\n",
              "</div>\n",
              "    <div class=\"colab-df-buttons\">\n",
              "\n",
              "  <div class=\"colab-df-container\">\n",
              "    <button class=\"colab-df-convert\" onclick=\"convertToInteractive('df-c162d53b-98e5-4b23-8627-456aceff8666')\"\n",
              "            title=\"Convert this dataframe to an interactive table.\"\n",
              "            style=\"display:none;\">\n",
              "\n",
              "  <svg xmlns=\"http://www.w3.org/2000/svg\" height=\"24px\" viewBox=\"0 -960 960 960\">\n",
              "    <path d=\"M120-120v-720h720v720H120Zm60-500h600v-160H180v160Zm220 220h160v-160H400v160Zm0 220h160v-160H400v160ZM180-400h160v-160H180v160Zm440 0h160v-160H620v160ZM180-180h160v-160H180v160Zm440 0h160v-160H620v160Z\"/>\n",
              "  </svg>\n",
              "    </button>\n",
              "\n",
              "  <style>\n",
              "    .colab-df-container {\n",
              "      display:flex;\n",
              "      gap: 12px;\n",
              "    }\n",
              "\n",
              "    .colab-df-convert {\n",
              "      background-color: #E8F0FE;\n",
              "      border: none;\n",
              "      border-radius: 50%;\n",
              "      cursor: pointer;\n",
              "      display: none;\n",
              "      fill: #1967D2;\n",
              "      height: 32px;\n",
              "      padding: 0 0 0 0;\n",
              "      width: 32px;\n",
              "    }\n",
              "\n",
              "    .colab-df-convert:hover {\n",
              "      background-color: #E2EBFA;\n",
              "      box-shadow: 0px 1px 2px rgba(60, 64, 67, 0.3), 0px 1px 3px 1px rgba(60, 64, 67, 0.15);\n",
              "      fill: #174EA6;\n",
              "    }\n",
              "\n",
              "    .colab-df-buttons div {\n",
              "      margin-bottom: 4px;\n",
              "    }\n",
              "\n",
              "    [theme=dark] .colab-df-convert {\n",
              "      background-color: #3B4455;\n",
              "      fill: #D2E3FC;\n",
              "    }\n",
              "\n",
              "    [theme=dark] .colab-df-convert:hover {\n",
              "      background-color: #434B5C;\n",
              "      box-shadow: 0px 1px 3px 1px rgba(0, 0, 0, 0.15);\n",
              "      filter: drop-shadow(0px 1px 2px rgba(0, 0, 0, 0.3));\n",
              "      fill: #FFFFFF;\n",
              "    }\n",
              "  </style>\n",
              "\n",
              "    <script>\n",
              "      const buttonEl =\n",
              "        document.querySelector('#df-c162d53b-98e5-4b23-8627-456aceff8666 button.colab-df-convert');\n",
              "      buttonEl.style.display =\n",
              "        google.colab.kernel.accessAllowed ? 'block' : 'none';\n",
              "\n",
              "      async function convertToInteractive(key) {\n",
              "        const element = document.querySelector('#df-c162d53b-98e5-4b23-8627-456aceff8666');\n",
              "        const dataTable =\n",
              "          await google.colab.kernel.invokeFunction('convertToInteractive',\n",
              "                                                    [key], {});\n",
              "        if (!dataTable) return;\n",
              "\n",
              "        const docLinkHtml = 'Like what you see? Visit the ' +\n",
              "          '<a target=\"_blank\" href=https://colab.research.google.com/notebooks/data_table.ipynb>data table notebook</a>'\n",
              "          + ' to learn more about interactive tables.';\n",
              "        element.innerHTML = '';\n",
              "        dataTable['output_type'] = 'display_data';\n",
              "        await google.colab.output.renderOutput(dataTable, element);\n",
              "        const docLink = document.createElement('div');\n",
              "        docLink.innerHTML = docLinkHtml;\n",
              "        element.appendChild(docLink);\n",
              "      }\n",
              "    </script>\n",
              "  </div>\n",
              "\n",
              "\n",
              "<div id=\"df-79f1906d-41aa-4dd2-bf7a-00975a6eba07\">\n",
              "  <button class=\"colab-df-quickchart\" onclick=\"quickchart('df-79f1906d-41aa-4dd2-bf7a-00975a6eba07')\"\n",
              "            title=\"Suggest charts\"\n",
              "            style=\"display:none;\">\n",
              "\n",
              "<svg xmlns=\"http://www.w3.org/2000/svg\" height=\"24px\"viewBox=\"0 0 24 24\"\n",
              "     width=\"24px\">\n",
              "    <g>\n",
              "        <path d=\"M19 3H5c-1.1 0-2 .9-2 2v14c0 1.1.9 2 2 2h14c1.1 0 2-.9 2-2V5c0-1.1-.9-2-2-2zM9 17H7v-7h2v7zm4 0h-2V7h2v10zm4 0h-2v-4h2v4z\"/>\n",
              "    </g>\n",
              "</svg>\n",
              "  </button>\n",
              "\n",
              "<style>\n",
              "  .colab-df-quickchart {\n",
              "      --bg-color: #E8F0FE;\n",
              "      --fill-color: #1967D2;\n",
              "      --hover-bg-color: #E2EBFA;\n",
              "      --hover-fill-color: #174EA6;\n",
              "      --disabled-fill-color: #AAA;\n",
              "      --disabled-bg-color: #DDD;\n",
              "  }\n",
              "\n",
              "  [theme=dark] .colab-df-quickchart {\n",
              "      --bg-color: #3B4455;\n",
              "      --fill-color: #D2E3FC;\n",
              "      --hover-bg-color: #434B5C;\n",
              "      --hover-fill-color: #FFFFFF;\n",
              "      --disabled-bg-color: #3B4455;\n",
              "      --disabled-fill-color: #666;\n",
              "  }\n",
              "\n",
              "  .colab-df-quickchart {\n",
              "    background-color: var(--bg-color);\n",
              "    border: none;\n",
              "    border-radius: 50%;\n",
              "    cursor: pointer;\n",
              "    display: none;\n",
              "    fill: var(--fill-color);\n",
              "    height: 32px;\n",
              "    padding: 0;\n",
              "    width: 32px;\n",
              "  }\n",
              "\n",
              "  .colab-df-quickchart:hover {\n",
              "    background-color: var(--hover-bg-color);\n",
              "    box-shadow: 0 1px 2px rgba(60, 64, 67, 0.3), 0 1px 3px 1px rgba(60, 64, 67, 0.15);\n",
              "    fill: var(--button-hover-fill-color);\n",
              "  }\n",
              "\n",
              "  .colab-df-quickchart-complete:disabled,\n",
              "  .colab-df-quickchart-complete:disabled:hover {\n",
              "    background-color: var(--disabled-bg-color);\n",
              "    fill: var(--disabled-fill-color);\n",
              "    box-shadow: none;\n",
              "  }\n",
              "\n",
              "  .colab-df-spinner {\n",
              "    border: 2px solid var(--fill-color);\n",
              "    border-color: transparent;\n",
              "    border-bottom-color: var(--fill-color);\n",
              "    animation:\n",
              "      spin 1s steps(1) infinite;\n",
              "  }\n",
              "\n",
              "  @keyframes spin {\n",
              "    0% {\n",
              "      border-color: transparent;\n",
              "      border-bottom-color: var(--fill-color);\n",
              "      border-left-color: var(--fill-color);\n",
              "    }\n",
              "    20% {\n",
              "      border-color: transparent;\n",
              "      border-left-color: var(--fill-color);\n",
              "      border-top-color: var(--fill-color);\n",
              "    }\n",
              "    30% {\n",
              "      border-color: transparent;\n",
              "      border-left-color: var(--fill-color);\n",
              "      border-top-color: var(--fill-color);\n",
              "      border-right-color: var(--fill-color);\n",
              "    }\n",
              "    40% {\n",
              "      border-color: transparent;\n",
              "      border-right-color: var(--fill-color);\n",
              "      border-top-color: var(--fill-color);\n",
              "    }\n",
              "    60% {\n",
              "      border-color: transparent;\n",
              "      border-right-color: var(--fill-color);\n",
              "    }\n",
              "    80% {\n",
              "      border-color: transparent;\n",
              "      border-right-color: var(--fill-color);\n",
              "      border-bottom-color: var(--fill-color);\n",
              "    }\n",
              "    90% {\n",
              "      border-color: transparent;\n",
              "      border-bottom-color: var(--fill-color);\n",
              "    }\n",
              "  }\n",
              "</style>\n",
              "\n",
              "  <script>\n",
              "    async function quickchart(key) {\n",
              "      const quickchartButtonEl =\n",
              "        document.querySelector('#' + key + ' button');\n",
              "      quickchartButtonEl.disabled = true;  // To prevent multiple clicks.\n",
              "      quickchartButtonEl.classList.add('colab-df-spinner');\n",
              "      try {\n",
              "        const charts = await google.colab.kernel.invokeFunction(\n",
              "            'suggestCharts', [key], {});\n",
              "      } catch (error) {\n",
              "        console.error('Error during call to suggestCharts:', error);\n",
              "      }\n",
              "      quickchartButtonEl.classList.remove('colab-df-spinner');\n",
              "      quickchartButtonEl.classList.add('colab-df-quickchart-complete');\n",
              "    }\n",
              "    (() => {\n",
              "      let quickchartButtonEl =\n",
              "        document.querySelector('#df-79f1906d-41aa-4dd2-bf7a-00975a6eba07 button');\n",
              "      quickchartButtonEl.style.display =\n",
              "        google.colab.kernel.accessAllowed ? 'block' : 'none';\n",
              "    })();\n",
              "  </script>\n",
              "</div>\n",
              "\n",
              "    </div>\n",
              "  </div>\n"
            ],
            "application/vnd.google.colaboratory.intrinsic+json": {
              "type": "dataframe",
              "variable_name": "df",
              "summary": "{\n  \"name\": \"df\",\n  \"rows\": 1409,\n  \"fields\": [\n    {\n      \"column\": \"prompt\",\n      \"properties\": {\n        \"dtype\": \"string\",\n        \"num_unique_values\": 1408,\n        \"samples\": [\n          \"D\\u00e9veloppe un po\\u00e8me bas\\u00e9 sur : Soleil et chair\",\n          \"Avec Chose vue un jour de printemps, inspire-toi pour cr\\u00e9er un po\\u00e8me\",\n          \"Un po\\u00e8me autour de \\u00c0 George Sand VI, si possible\"\n        ],\n        \"semantic_type\": \"\",\n        \"description\": \"\"\n      }\n    },\n    {\n      \"column\": \"text\",\n      \"properties\": {\n        \"dtype\": \"string\",\n        \"num_unique_values\": 1399,\n        \"samples\": [\n          \"Tous deux, pour nos amours invoquons le myst\\u00e8re,\\nFran\\u00e7ois-Marie Robert-Dutertre.\\nTous deux, pour nos amours invoquons le myst\\u00e8re,\\nCachons \\u00e0 tous les yeux nos entretiens si doux ;\\nCar l'amour, vois-tu bien, c'est la fleur solitaire,\\nC'est l'oiseau qui s'enfuit au regard des jaloux.\\nTous deux, quand le printemps ornera les prairies,\\nPour mieux nous sentir seuls loin des bruits d'ici-bas,\\nNous irons \\u00e9pancher nos douces r\\u00eaveries\\nSous les bosquets en fleurs o\\u00f9 l'on parle tout bas.\\nTous deux, nous go\\u00fbterons des amours infinies,\\nMa main pressant ta main, mes yeux cherchant tes yeux,\\nNos c\\u0153urs se parleront sur nos l\\u00e8vres unies\\nEt nous irons un jour ensemble vers les cieux.\",\n          \"Sonnet.\\n\\u00d4 Rhin, sais-tu pourquoi les amants insens\\u00e9s,\\nAbandonnant leur \\u00e2me aux tendres r\\u00eaveries,\\nPar tes bois verdoyants, par tes larges prairies\\nS'en vont par leur folie incessamment pouss\\u00e9s ?\\nSais-tu pourquoi jamais les tristes railleries,\\nLes exemples d'hier, ni ceux des temps pass\\u00e9s,\\nDe tes monts ador\\u00e9s, de tes rives ch\\u00e9ries,\\nNe les ont fait descendre et ne les ont chass\\u00e9s ?\\nC'est que, dans tous les temps, ceux que l'homme s\\u00e9pare\\nEt que Dieu r\\u00e9unit iront chercher les bois,\\nEt des vastes torrents \\u00e9couteront les voix.\\nL'homme libre viendra, loin d'un monde barbare,\\nSur les rocs et les monts, comme au pied d'un autel,\\nProtester contre l'homme en regardant le ciel.\",\n          \"L'autre, obscur b\\u00e9ga\\u00eement. L'\\u00e9l\\u00e9phant aux pieds lourds,\\nLe lion, ce grand front de l'antre, l'aigle, l'ours,\\nLe taureau, le cheval, le tigre au bond superbe,\\nSont le langage altier et splendide, le verbe ;\\nEt la chauve-souris, le crapaud, le putois,\\nLe crabe, le hibou, le porc, sont le patois.\\nOr, j'\\u00e9tais l\\u00e0, pensif, bienveillant, presque tendre,\\n\\u00c9pelant ce squelette, et t\\u00e2chant de comprendre\\nCe qu'entre les trois clous o\\u00f9 son spectre pendait,\\nAux vivants, aux souffrants, au b\\u0153uf triste, au baudet,\\nDisait, h\\u00e9las ! la pauvre et sinistre chouette,\\nDu c\\u00f4t\\u00e9 noir de l'\\u00eatre informe silhouette.\\nElle disait \"\n        ],\n        \"semantic_type\": \"\",\n        \"description\": \"\"\n      }\n    }\n  ]\n}"
            }
          },
          "metadata": {},
          "execution_count": 21
        }
      ],
      "source": [
        "df.head()"
      ]
    },
    {
      "cell_type": "code",
      "execution_count": 22,
      "metadata": {
        "id": "orbJ54a0jiUp"
      },
      "outputs": [],
      "source": [
        "# Créer une colonne avec la longueur de chaque séquence\n",
        "df['text_length'] = df['text'].apply(len)"
      ]
    },
    {
      "cell_type": "code",
      "execution_count": 23,
      "metadata": {
        "colab": {
          "base_uri": "https://localhost:8080/",
          "height": 542
        },
        "id": "venXBO7sjiUp",
        "outputId": "f42aff95-b18a-4aa5-e37e-2c57ee9fcdc9"
      },
      "outputs": [
        {
          "output_type": "display_data",
          "data": {
            "text/html": [
              "<html>\n",
              "<head><meta charset=\"utf-8\" /></head>\n",
              "<body>\n",
              "    <div>            <script src=\"https://cdnjs.cloudflare.com/ajax/libs/mathjax/2.7.5/MathJax.js?config=TeX-AMS-MML_SVG\"></script><script type=\"text/javascript\">if (window.MathJax && window.MathJax.Hub && window.MathJax.Hub.Config) {window.MathJax.Hub.Config({SVG: {font: \"STIX-Web\"}});}</script>                <script type=\"text/javascript\">window.PlotlyConfig = {MathJaxConfig: 'local'};</script>\n",
              "        <script charset=\"utf-8\" src=\"https://cdn.plot.ly/plotly-2.35.2.min.js\"></script>                <div id=\"ad9025c5-bc16-4a4b-9992-f5d2af630044\" class=\"plotly-graph-div\" style=\"height:525px; width:100%;\"></div>            <script type=\"text/javascript\">                                    window.PLOTLYENV=window.PLOTLYENV || {};                                    if (document.getElementById(\"ad9025c5-bc16-4a4b-9992-f5d2af630044\")) {                    Plotly.newPlot(                        \"ad9025c5-bc16-4a4b-9992-f5d2af630044\",                        [{\"alignmentgroup\":\"True\",\"bingroup\":\"x\",\"hovertemplate\":\"text_length=%{x}\\u003cbr\\u003ecount=%{y}\\u003cextra\\u003e\\u003c\\u002fextra\\u003e\",\"legendgroup\":\"\",\"marker\":{\"color\":\"#636efa\",\"pattern\":{\"shape\":\"\"}},\"name\":\"\",\"nbinsx\":30,\"offsetgroup\":\"\",\"orientation\":\"v\",\"showlegend\":false,\"x\":[667,448,141,25,654,450,278,699,418,1272,603,222,24,90,490,237,269,527,637,575,552,677,577,175,726,63,125,557,249,104,1554,707,551,538,674,584,575,125,135,400,1318,536,2337,176,176,632,28,374,648,35,115,122,659,650,718,463,39,410,269,527,426,658,493,624,563,619,1781,695,573,629,510,410,187,539,536,1120,142,646,44,669,664,580,370,876,319,368,855,748,598,250,557,546,643,789,14,537,620,627,255,890,790,134,59,606,691,119,623,25,635,921,862,653,602,185,100,607,387,1879,491,684,681,657,508,187,308,714,452,649,1984,651,164,498,13,681,46,56,3128,325,288,666,75,112,530,139,519,810,113,365,548,635,864,195,750,692,45,283,237,634,469,352,93,121,1108,1032,701,108,104,140,613,200,443,664,167,26,528,297,20,106,630,403,664,653,611,1489,2319,69,658,272,2217,653,658,332,124,421,295,500,531,78,832,304,581,679,463,643,672,687,633,435,688,3058,205,690,2390,649,485,710,704,398,796,351,171,370,1791,592,309,401,73,461,12,171,906,404,178,846,435,268,539,153,307,89,579,20,22,466,463,741,459,273,24,439,1151,230,441,562,329,733,83,254,687,3871,9,248,450,6,438,6,634,203,688,238,897,883,237,678,727,220,265,82,730,1217,493,57,604,33,108,341,589,496,1518,515,737,233,652,500,732,99,505,988,94,865,592,137,492,476,686,437,4319,576,2412,85,663,1455,265,433,2071,648,490,440,261,891,650,3006,700,378,2107,568,6,615,1572,166,2690,707,187,631,643,142,624,609,199,439,1349,95,523,648,409,656,600,730,42,6,887,577,582,2208,77,375,134,675,284,399,210,536,560,245,697,454,196,628,614,546,518,444,143,643,1023,422,2362,1761,621,612,505,531,337,197,39,115,611,812,209,93,445,647,945,363,520,263,672,472,90,276,266,70,547,649,577,662,934,170,485,659,462,1294,298,507,145,1014,832,64,461,808,161,664,637,674,681,83,196,611,540,577,724,417,469,101,562,67,766,59,623,665,134,223,561,380,497,739,39,387,385,802,908,201,633,83,688,525,412,2252,514,650,193,851,102,333,398,687,650,393,301,248,566,1559,753,627,156,400,636,16,95,189,84,596,527,564,458,242,26,449,269,572,245,278,119,673,713,89,552,6,667,164,660,472,662,439,20,63,547,653,358,3183,669,426,648,679,98,27,654,47,418,201,176,692,625,586,982,713,2549,39,273,6550,255,636,185,385,1013,676,209,677,428,662,662,634,650,365,656,282,424,458,474,445,738,1211,2258,419,682,398,392,411,188,726,645,87,746,1024,3321,874,241,466,667,635,224,499,695,312,612,601,24,3224,249,560,197,6,967,485,312,386,140,71,1573,646,197,76,527,1128,930,247,672,403,665,106,119,696,992,279,438,649,680,683,2132,398,55,475,2101,927,322,584,423,519,395,194,172,696,700,734,220,474,376,389,709,673,476,638,1588,448,670,970,662,373,625,91,510,1768,334,722,665,670,429,515,571,328,184,101,1799,392,330,553,453,642,663,399,4894,381,685,223,489,663,711,590,428,20,673,4628,1557,565,249,630,246,234,672,292,40,229,2336,522,353,1178,658,36,451,412,472,313,82,45,544,89,240,309,312,648,54,598,685,6,614,86,299,435,308,96,698,1417,494,559,300,543,489,641,34,264,251,660,258,553,194,95,573,654,88,102,31,160,658,440,813,560,836,143,621,833,589,183,469,1312,738,617,65,729,144,448,327,664,821,419,1478,559,639,553,166,1051,326,602,483,658,798,716,510,608,602,561,276,1186,309,649,933,671,536,960,661,661,427,500,397,529,12,700,103,532,657,631,728,239,650,137,533,16,691,136,1339,1751,59,675,274,71,61,666,457,5277,110,70,85,1145,625,4339,27,1136,1755,1008,118,639,404,525,318,406,524,112,551,419,71,650,523,318,395,680,1161,639,582,181,494,500,553,684,1660,942,644,271,1077,745,1960,663,469,627,31,376,1632,280,1030,581,686,672,640,135,636,373,117,206,359,976,160,445,487,493,729,777,601,631,303,598,80,157,910,620,546,737,238,47,550,34,216,207,634,63,732,669,260,653,470,645,615,618,443,1447,1293,3067,654,149,530,465,413,189,1623,115,100,1035,732,80,501,524,557,345,629,115,219,56,752,80,228,419,751,103,306,426,642,448,543,90,379,2182,487,156,570,708,510,118,129,718,461,905,446,517,673,408,439,618,921,1150,440,16,115,2527,79,179,562,16,315,424,2484,148,49,89,489,49,249,536,93,1829,274,308,17,637,663,1040,1333,455,61,612,217,545,600,236,248,353,156,1688,504,663,1555,22,383,137,4002,600,81,557,321,124,679,595,2219,552,544,291,178,1034,574,1832,173,617,95,236,606,403,706,242,606,311,317,151,534,661,443,1026,869,517,97,79,383,47,167,443,436,358,575,1501,722,641,688,729,526,1435,6,73,4146,740,278,663,540,2132,4112,537,66,679,422,639,673,1349,504,1430,8,434,572,915,504,662,655,372,123,1055,1059,649,348,409,518,183,589,528,159,1170,252,300,1302,493,446,53,445,44,154,628,671,110,230,713,535,661,706,232,803,147,689,333,645,580,395,680,234,516,313,62,18,436,631,240,407,523,517,680,96,667,225,221,174,626,1349,458,91,467,616,340,723,347,525,487,331,293,470,330,430,247,2586,519,138,395,468,517,662,514,553,648,847,170,572,475,454,500,208,121,144,847,483,636,689,992,651,880,287,34,750,1105,796,604,404,126,360,82,145,403,193,398,81,678,1329,516,436,657,296,415,2765,89,1338,560,1146,632,579,537,201,67,1643,438,662,593,671,465,595,290,362,57,498,335,530,466,653,1267,685,224,449,1227,105,148,740,145,1356,674,344,1230,175,847,597,610,172,502,311,356,1619,583,431,436,125,40,189,276,360,665,426,415,560,1228,26,379,352,532,539,269,94,305,268,671,404,787,713,665,327,48,434,1400,1536,665,506,1929,835,732,574,647,801,133,801,320,502,182,651,127,1488,601,26,97,81,175,1247,535,1752,240,750,120,1100,426,671,1739,464,1063,733,426,149,419,1089,194,181,1971,580,235,663,600,66,529,607,2595,170,1611,667,405,119,582,983,542,521,740,352,255,319,647,701,627,186,2667,546,345,130,1196,453,219,589,663,1411,223,428,410,84,53,378,356,131,14,216,524,2916,607,573,186,572,1263,197,105,662,352,1830,259,282,434,505,144,631,1240,1872,41,496,862,499,154,1199,3337,633,35,962,370,577,292,659,546,603,349,1293,673,268,404,497,648,644,99,638,28,399],\"xaxis\":\"x\",\"yaxis\":\"y\",\"type\":\"histogram\"}],                        {\"template\":{\"data\":{\"histogram2dcontour\":[{\"type\":\"histogram2dcontour\",\"colorbar\":{\"outlinewidth\":0,\"ticks\":\"\"},\"colorscale\":[[0.0,\"#0d0887\"],[0.1111111111111111,\"#46039f\"],[0.2222222222222222,\"#7201a8\"],[0.3333333333333333,\"#9c179e\"],[0.4444444444444444,\"#bd3786\"],[0.5555555555555556,\"#d8576b\"],[0.6666666666666666,\"#ed7953\"],[0.7777777777777778,\"#fb9f3a\"],[0.8888888888888888,\"#fdca26\"],[1.0,\"#f0f921\"]]}],\"choropleth\":[{\"type\":\"choropleth\",\"colorbar\":{\"outlinewidth\":0,\"ticks\":\"\"}}],\"histogram2d\":[{\"type\":\"histogram2d\",\"colorbar\":{\"outlinewidth\":0,\"ticks\":\"\"},\"colorscale\":[[0.0,\"#0d0887\"],[0.1111111111111111,\"#46039f\"],[0.2222222222222222,\"#7201a8\"],[0.3333333333333333,\"#9c179e\"],[0.4444444444444444,\"#bd3786\"],[0.5555555555555556,\"#d8576b\"],[0.6666666666666666,\"#ed7953\"],[0.7777777777777778,\"#fb9f3a\"],[0.8888888888888888,\"#fdca26\"],[1.0,\"#f0f921\"]]}],\"heatmap\":[{\"type\":\"heatmap\",\"colorbar\":{\"outlinewidth\":0,\"ticks\":\"\"},\"colorscale\":[[0.0,\"#0d0887\"],[0.1111111111111111,\"#46039f\"],[0.2222222222222222,\"#7201a8\"],[0.3333333333333333,\"#9c179e\"],[0.4444444444444444,\"#bd3786\"],[0.5555555555555556,\"#d8576b\"],[0.6666666666666666,\"#ed7953\"],[0.7777777777777778,\"#fb9f3a\"],[0.8888888888888888,\"#fdca26\"],[1.0,\"#f0f921\"]]}],\"heatmapgl\":[{\"type\":\"heatmapgl\",\"colorbar\":{\"outlinewidth\":0,\"ticks\":\"\"},\"colorscale\":[[0.0,\"#0d0887\"],[0.1111111111111111,\"#46039f\"],[0.2222222222222222,\"#7201a8\"],[0.3333333333333333,\"#9c179e\"],[0.4444444444444444,\"#bd3786\"],[0.5555555555555556,\"#d8576b\"],[0.6666666666666666,\"#ed7953\"],[0.7777777777777778,\"#fb9f3a\"],[0.8888888888888888,\"#fdca26\"],[1.0,\"#f0f921\"]]}],\"contourcarpet\":[{\"type\":\"contourcarpet\",\"colorbar\":{\"outlinewidth\":0,\"ticks\":\"\"}}],\"contour\":[{\"type\":\"contour\",\"colorbar\":{\"outlinewidth\":0,\"ticks\":\"\"},\"colorscale\":[[0.0,\"#0d0887\"],[0.1111111111111111,\"#46039f\"],[0.2222222222222222,\"#7201a8\"],[0.3333333333333333,\"#9c179e\"],[0.4444444444444444,\"#bd3786\"],[0.5555555555555556,\"#d8576b\"],[0.6666666666666666,\"#ed7953\"],[0.7777777777777778,\"#fb9f3a\"],[0.8888888888888888,\"#fdca26\"],[1.0,\"#f0f921\"]]}],\"surface\":[{\"type\":\"surface\",\"colorbar\":{\"outlinewidth\":0,\"ticks\":\"\"},\"colorscale\":[[0.0,\"#0d0887\"],[0.1111111111111111,\"#46039f\"],[0.2222222222222222,\"#7201a8\"],[0.3333333333333333,\"#9c179e\"],[0.4444444444444444,\"#bd3786\"],[0.5555555555555556,\"#d8576b\"],[0.6666666666666666,\"#ed7953\"],[0.7777777777777778,\"#fb9f3a\"],[0.8888888888888888,\"#fdca26\"],[1.0,\"#f0f921\"]]}],\"mesh3d\":[{\"type\":\"mesh3d\",\"colorbar\":{\"outlinewidth\":0,\"ticks\":\"\"}}],\"scatter\":[{\"fillpattern\":{\"fillmode\":\"overlay\",\"size\":10,\"solidity\":0.2},\"type\":\"scatter\"}],\"parcoords\":[{\"type\":\"parcoords\",\"line\":{\"colorbar\":{\"outlinewidth\":0,\"ticks\":\"\"}}}],\"scatterpolargl\":[{\"type\":\"scatterpolargl\",\"marker\":{\"colorbar\":{\"outlinewidth\":0,\"ticks\":\"\"}}}],\"bar\":[{\"error_x\":{\"color\":\"#2a3f5f\"},\"error_y\":{\"color\":\"#2a3f5f\"},\"marker\":{\"line\":{\"color\":\"#E5ECF6\",\"width\":0.5},\"pattern\":{\"fillmode\":\"overlay\",\"size\":10,\"solidity\":0.2}},\"type\":\"bar\"}],\"scattergeo\":[{\"type\":\"scattergeo\",\"marker\":{\"colorbar\":{\"outlinewidth\":0,\"ticks\":\"\"}}}],\"scatterpolar\":[{\"type\":\"scatterpolar\",\"marker\":{\"colorbar\":{\"outlinewidth\":0,\"ticks\":\"\"}}}],\"histogram\":[{\"marker\":{\"pattern\":{\"fillmode\":\"overlay\",\"size\":10,\"solidity\":0.2}},\"type\":\"histogram\"}],\"scattergl\":[{\"type\":\"scattergl\",\"marker\":{\"colorbar\":{\"outlinewidth\":0,\"ticks\":\"\"}}}],\"scatter3d\":[{\"type\":\"scatter3d\",\"line\":{\"colorbar\":{\"outlinewidth\":0,\"ticks\":\"\"}},\"marker\":{\"colorbar\":{\"outlinewidth\":0,\"ticks\":\"\"}}}],\"scattermapbox\":[{\"type\":\"scattermapbox\",\"marker\":{\"colorbar\":{\"outlinewidth\":0,\"ticks\":\"\"}}}],\"scatterternary\":[{\"type\":\"scatterternary\",\"marker\":{\"colorbar\":{\"outlinewidth\":0,\"ticks\":\"\"}}}],\"scattercarpet\":[{\"type\":\"scattercarpet\",\"marker\":{\"colorbar\":{\"outlinewidth\":0,\"ticks\":\"\"}}}],\"carpet\":[{\"aaxis\":{\"endlinecolor\":\"#2a3f5f\",\"gridcolor\":\"white\",\"linecolor\":\"white\",\"minorgridcolor\":\"white\",\"startlinecolor\":\"#2a3f5f\"},\"baxis\":{\"endlinecolor\":\"#2a3f5f\",\"gridcolor\":\"white\",\"linecolor\":\"white\",\"minorgridcolor\":\"white\",\"startlinecolor\":\"#2a3f5f\"},\"type\":\"carpet\"}],\"table\":[{\"cells\":{\"fill\":{\"color\":\"#EBF0F8\"},\"line\":{\"color\":\"white\"}},\"header\":{\"fill\":{\"color\":\"#C8D4E3\"},\"line\":{\"color\":\"white\"}},\"type\":\"table\"}],\"barpolar\":[{\"marker\":{\"line\":{\"color\":\"#E5ECF6\",\"width\":0.5},\"pattern\":{\"fillmode\":\"overlay\",\"size\":10,\"solidity\":0.2}},\"type\":\"barpolar\"}],\"pie\":[{\"automargin\":true,\"type\":\"pie\"}]},\"layout\":{\"autotypenumbers\":\"strict\",\"colorway\":[\"#636efa\",\"#EF553B\",\"#00cc96\",\"#ab63fa\",\"#FFA15A\",\"#19d3f3\",\"#FF6692\",\"#B6E880\",\"#FF97FF\",\"#FECB52\"],\"font\":{\"color\":\"#2a3f5f\"},\"hovermode\":\"closest\",\"hoverlabel\":{\"align\":\"left\"},\"paper_bgcolor\":\"white\",\"plot_bgcolor\":\"#E5ECF6\",\"polar\":{\"bgcolor\":\"#E5ECF6\",\"angularaxis\":{\"gridcolor\":\"white\",\"linecolor\":\"white\",\"ticks\":\"\"},\"radialaxis\":{\"gridcolor\":\"white\",\"linecolor\":\"white\",\"ticks\":\"\"}},\"ternary\":{\"bgcolor\":\"#E5ECF6\",\"aaxis\":{\"gridcolor\":\"white\",\"linecolor\":\"white\",\"ticks\":\"\"},\"baxis\":{\"gridcolor\":\"white\",\"linecolor\":\"white\",\"ticks\":\"\"},\"caxis\":{\"gridcolor\":\"white\",\"linecolor\":\"white\",\"ticks\":\"\"}},\"coloraxis\":{\"colorbar\":{\"outlinewidth\":0,\"ticks\":\"\"}},\"colorscale\":{\"sequential\":[[0.0,\"#0d0887\"],[0.1111111111111111,\"#46039f\"],[0.2222222222222222,\"#7201a8\"],[0.3333333333333333,\"#9c179e\"],[0.4444444444444444,\"#bd3786\"],[0.5555555555555556,\"#d8576b\"],[0.6666666666666666,\"#ed7953\"],[0.7777777777777778,\"#fb9f3a\"],[0.8888888888888888,\"#fdca26\"],[1.0,\"#f0f921\"]],\"sequentialminus\":[[0.0,\"#0d0887\"],[0.1111111111111111,\"#46039f\"],[0.2222222222222222,\"#7201a8\"],[0.3333333333333333,\"#9c179e\"],[0.4444444444444444,\"#bd3786\"],[0.5555555555555556,\"#d8576b\"],[0.6666666666666666,\"#ed7953\"],[0.7777777777777778,\"#fb9f3a\"],[0.8888888888888888,\"#fdca26\"],[1.0,\"#f0f921\"]],\"diverging\":[[0,\"#8e0152\"],[0.1,\"#c51b7d\"],[0.2,\"#de77ae\"],[0.3,\"#f1b6da\"],[0.4,\"#fde0ef\"],[0.5,\"#f7f7f7\"],[0.6,\"#e6f5d0\"],[0.7,\"#b8e186\"],[0.8,\"#7fbc41\"],[0.9,\"#4d9221\"],[1,\"#276419\"]]},\"xaxis\":{\"gridcolor\":\"white\",\"linecolor\":\"white\",\"ticks\":\"\",\"title\":{\"standoff\":15},\"zerolinecolor\":\"white\",\"automargin\":true,\"zerolinewidth\":2},\"yaxis\":{\"gridcolor\":\"white\",\"linecolor\":\"white\",\"ticks\":\"\",\"title\":{\"standoff\":15},\"zerolinecolor\":\"white\",\"automargin\":true,\"zerolinewidth\":2},\"scene\":{\"xaxis\":{\"backgroundcolor\":\"#E5ECF6\",\"gridcolor\":\"white\",\"linecolor\":\"white\",\"showbackground\":true,\"ticks\":\"\",\"zerolinecolor\":\"white\",\"gridwidth\":2},\"yaxis\":{\"backgroundcolor\":\"#E5ECF6\",\"gridcolor\":\"white\",\"linecolor\":\"white\",\"showbackground\":true,\"ticks\":\"\",\"zerolinecolor\":\"white\",\"gridwidth\":2},\"zaxis\":{\"backgroundcolor\":\"#E5ECF6\",\"gridcolor\":\"white\",\"linecolor\":\"white\",\"showbackground\":true,\"ticks\":\"\",\"zerolinecolor\":\"white\",\"gridwidth\":2}},\"shapedefaults\":{\"line\":{\"color\":\"#2a3f5f\"}},\"annotationdefaults\":{\"arrowcolor\":\"#2a3f5f\",\"arrowhead\":0,\"arrowwidth\":1},\"geo\":{\"bgcolor\":\"white\",\"landcolor\":\"#E5ECF6\",\"subunitcolor\":\"white\",\"showland\":true,\"showlakes\":true,\"lakecolor\":\"white\"},\"title\":{\"x\":0.05},\"mapbox\":{\"style\":\"light\"}}},\"xaxis\":{\"anchor\":\"y\",\"domain\":[0.0,1.0],\"title\":{\"text\":\"text_length\"}},\"yaxis\":{\"anchor\":\"x\",\"domain\":[0.0,1.0],\"title\":{\"text\":\"count\"}},\"legend\":{\"tracegroupgap\":0},\"title\":{\"text\":\"Histogramme de répartition des longuers de séquence\"},\"barmode\":\"relative\"},                        {\"responsive\": true}                    ).then(function(){\n",
              "                            \n",
              "var gd = document.getElementById('ad9025c5-bc16-4a4b-9992-f5d2af630044');\n",
              "var x = new MutationObserver(function (mutations, observer) {{\n",
              "        var display = window.getComputedStyle(gd).display;\n",
              "        if (!display || display === 'none') {{\n",
              "            console.log([gd, 'removed!']);\n",
              "            Plotly.purge(gd);\n",
              "            observer.disconnect();\n",
              "        }}\n",
              "}});\n",
              "\n",
              "// Listen for the removal of the full notebook cells\n",
              "var notebookContainer = gd.closest('#notebook-container');\n",
              "if (notebookContainer) {{\n",
              "    x.observe(notebookContainer, {childList: true});\n",
              "}}\n",
              "\n",
              "// Listen for the clearing of the current output cell\n",
              "var outputEl = gd.closest('.output');\n",
              "if (outputEl) {{\n",
              "    x.observe(outputEl, {childList: true});\n",
              "}}\n",
              "\n",
              "                        })                };                            </script>        </div>\n",
              "</body>\n",
              "</html>"
            ]
          },
          "metadata": {}
        }
      ],
      "source": [
        "import plotly.express as px\n",
        "\n",
        "# Etudier la répartition des length pour trouver la taille de séquence optimale\n",
        "fig = px.histogram(\n",
        "    df,\n",
        "    x=\"text_length\",\n",
        "    title=\"Histogramme de répartition des longuers de séquence\",\n",
        "    labels={\"values\": \"Valeurs\"},\n",
        "    nbins=30\n",
        ")\n",
        "fig.show()\n"
      ]
    },
    {
      "cell_type": "code",
      "execution_count": 24,
      "metadata": {
        "id": "nxpNpERqjiU-"
      },
      "outputs": [],
      "source": [
        "# Créer un mask pour garder les séquences inferieur à 1500 caractères\n",
        "mask = df['text_length'] < 1500\n",
        "row_lenght_threshold = df[mask]"
      ]
    },
    {
      "cell_type": "code",
      "execution_count": 25,
      "metadata": {
        "colab": {
          "base_uri": "https://localhost:8080/"
        },
        "id": "mdxIR16MjiU_",
        "outputId": "22526bcf-fcf8-4d41-e9f1-964c205da95e"
      },
      "outputs": [
        {
          "output_type": "execute_result",
          "data": {
            "text/plain": [
              "1330"
            ]
          },
          "metadata": {},
          "execution_count": 25
        }
      ],
      "source": [
        "row_lenght_threshold.shape[0]"
      ]
    },
    {
      "cell_type": "code",
      "execution_count": 26,
      "metadata": {
        "id": "nWewOud6jiVA"
      },
      "outputs": [],
      "source": [
        "# Appliquer le mask sur le dataset\n",
        "df = df[mask]"
      ]
    },
    {
      "cell_type": "code",
      "execution_count": 27,
      "metadata": {
        "colab": {
          "base_uri": "https://localhost:8080/"
        },
        "id": "I2gFkLRMjiVB",
        "outputId": "2f1af1bc-0c77-483e-a853-efd159769038"
      },
      "outputs": [
        {
          "output_type": "execute_result",
          "data": {
            "text/plain": [
              "1489"
            ]
          },
          "metadata": {},
          "execution_count": 27
        }
      ],
      "source": [
        "# Longueur de séquence maximale\n",
        "df.text_length.max()"
      ]
    },
    {
      "cell_type": "code",
      "execution_count": 28,
      "metadata": {
        "colab": {
          "base_uri": "https://localhost:8080/"
        },
        "id": "LIZ5hQibjiVB",
        "outputId": "9d5a1408-7898-47f6-dffe-ea22e1b82627"
      },
      "outputs": [
        {
          "output_type": "execute_result",
          "data": {
            "text/plain": [
              "(1330, 3)"
            ]
          },
          "metadata": {},
          "execution_count": 28
        }
      ],
      "source": [
        "df.shape"
      ]
    },
    {
      "cell_type": "code",
      "execution_count": 29,
      "metadata": {
        "colab": {
          "base_uri": "https://localhost:8080/",
          "height": 206
        },
        "id": "-s1jRrQhjiVC",
        "outputId": "641ebc7c-e679-4a20-c67a-017ebbf09dd0"
      },
      "outputs": [
        {
          "output_type": "execute_result",
          "data": {
            "text/plain": [
              "                                              prompt  \\\n",
              "0  Compose une œuvre poétique sur Les deux bonnes...   \n",
              "1  Crée un poème autour de : Je ne vois pas pourq...   \n",
              "2  Écris un poème sur le thème : J'ai tout donné ...   \n",
              "3  Donne-moi un poème avec pour thème principal :...   \n",
              "4  Propose un poème sur le sujet suivant : À deux...   \n",
              "\n",
              "                                                text  text_length  \n",
              "0  Sonnet.\\nLa Débauche et la Mort sont deux aima...          667  \n",
              "1  Je ne vois pas pourquoi je ferais autre chose\\...          448  \n",
              "2  On peut m'aimer sans honte,\\nLa couronne de co...          141  \n",
              "3                          La dure épreuve va finir            25  \n",
              "4  Vous avez un regard singulier et charmant ;\\nC...          654  "
            ],
            "text/html": [
              "\n",
              "  <div id=\"df-e1948198-3a16-4081-8c87-65579ca71bfe\" class=\"colab-df-container\">\n",
              "    <div>\n",
              "<style scoped>\n",
              "    .dataframe tbody tr th:only-of-type {\n",
              "        vertical-align: middle;\n",
              "    }\n",
              "\n",
              "    .dataframe tbody tr th {\n",
              "        vertical-align: top;\n",
              "    }\n",
              "\n",
              "    .dataframe thead th {\n",
              "        text-align: right;\n",
              "    }\n",
              "</style>\n",
              "<table border=\"1\" class=\"dataframe\">\n",
              "  <thead>\n",
              "    <tr style=\"text-align: right;\">\n",
              "      <th></th>\n",
              "      <th>prompt</th>\n",
              "      <th>text</th>\n",
              "      <th>text_length</th>\n",
              "    </tr>\n",
              "  </thead>\n",
              "  <tbody>\n",
              "    <tr>\n",
              "      <th>0</th>\n",
              "      <td>Compose une œuvre poétique sur Les deux bonnes...</td>\n",
              "      <td>Sonnet.\\nLa Débauche et la Mort sont deux aima...</td>\n",
              "      <td>667</td>\n",
              "    </tr>\n",
              "    <tr>\n",
              "      <th>1</th>\n",
              "      <td>Crée un poème autour de : Je ne vois pas pourq...</td>\n",
              "      <td>Je ne vois pas pourquoi je ferais autre chose\\...</td>\n",
              "      <td>448</td>\n",
              "    </tr>\n",
              "    <tr>\n",
              "      <th>2</th>\n",
              "      <td>Écris un poème sur le thème : J'ai tout donné ...</td>\n",
              "      <td>On peut m'aimer sans honte,\\nLa couronne de co...</td>\n",
              "      <td>141</td>\n",
              "    </tr>\n",
              "    <tr>\n",
              "      <th>3</th>\n",
              "      <td>Donne-moi un poème avec pour thème principal :...</td>\n",
              "      <td>La dure épreuve va finir</td>\n",
              "      <td>25</td>\n",
              "    </tr>\n",
              "    <tr>\n",
              "      <th>4</th>\n",
              "      <td>Propose un poème sur le sujet suivant : À deux...</td>\n",
              "      <td>Vous avez un regard singulier et charmant ;\\nC...</td>\n",
              "      <td>654</td>\n",
              "    </tr>\n",
              "  </tbody>\n",
              "</table>\n",
              "</div>\n",
              "    <div class=\"colab-df-buttons\">\n",
              "\n",
              "  <div class=\"colab-df-container\">\n",
              "    <button class=\"colab-df-convert\" onclick=\"convertToInteractive('df-e1948198-3a16-4081-8c87-65579ca71bfe')\"\n",
              "            title=\"Convert this dataframe to an interactive table.\"\n",
              "            style=\"display:none;\">\n",
              "\n",
              "  <svg xmlns=\"http://www.w3.org/2000/svg\" height=\"24px\" viewBox=\"0 -960 960 960\">\n",
              "    <path d=\"M120-120v-720h720v720H120Zm60-500h600v-160H180v160Zm220 220h160v-160H400v160Zm0 220h160v-160H400v160ZM180-400h160v-160H180v160Zm440 0h160v-160H620v160ZM180-180h160v-160H180v160Zm440 0h160v-160H620v160Z\"/>\n",
              "  </svg>\n",
              "    </button>\n",
              "\n",
              "  <style>\n",
              "    .colab-df-container {\n",
              "      display:flex;\n",
              "      gap: 12px;\n",
              "    }\n",
              "\n",
              "    .colab-df-convert {\n",
              "      background-color: #E8F0FE;\n",
              "      border: none;\n",
              "      border-radius: 50%;\n",
              "      cursor: pointer;\n",
              "      display: none;\n",
              "      fill: #1967D2;\n",
              "      height: 32px;\n",
              "      padding: 0 0 0 0;\n",
              "      width: 32px;\n",
              "    }\n",
              "\n",
              "    .colab-df-convert:hover {\n",
              "      background-color: #E2EBFA;\n",
              "      box-shadow: 0px 1px 2px rgba(60, 64, 67, 0.3), 0px 1px 3px 1px rgba(60, 64, 67, 0.15);\n",
              "      fill: #174EA6;\n",
              "    }\n",
              "\n",
              "    .colab-df-buttons div {\n",
              "      margin-bottom: 4px;\n",
              "    }\n",
              "\n",
              "    [theme=dark] .colab-df-convert {\n",
              "      background-color: #3B4455;\n",
              "      fill: #D2E3FC;\n",
              "    }\n",
              "\n",
              "    [theme=dark] .colab-df-convert:hover {\n",
              "      background-color: #434B5C;\n",
              "      box-shadow: 0px 1px 3px 1px rgba(0, 0, 0, 0.15);\n",
              "      filter: drop-shadow(0px 1px 2px rgba(0, 0, 0, 0.3));\n",
              "      fill: #FFFFFF;\n",
              "    }\n",
              "  </style>\n",
              "\n",
              "    <script>\n",
              "      const buttonEl =\n",
              "        document.querySelector('#df-e1948198-3a16-4081-8c87-65579ca71bfe button.colab-df-convert');\n",
              "      buttonEl.style.display =\n",
              "        google.colab.kernel.accessAllowed ? 'block' : 'none';\n",
              "\n",
              "      async function convertToInteractive(key) {\n",
              "        const element = document.querySelector('#df-e1948198-3a16-4081-8c87-65579ca71bfe');\n",
              "        const dataTable =\n",
              "          await google.colab.kernel.invokeFunction('convertToInteractive',\n",
              "                                                    [key], {});\n",
              "        if (!dataTable) return;\n",
              "\n",
              "        const docLinkHtml = 'Like what you see? Visit the ' +\n",
              "          '<a target=\"_blank\" href=https://colab.research.google.com/notebooks/data_table.ipynb>data table notebook</a>'\n",
              "          + ' to learn more about interactive tables.';\n",
              "        element.innerHTML = '';\n",
              "        dataTable['output_type'] = 'display_data';\n",
              "        await google.colab.output.renderOutput(dataTable, element);\n",
              "        const docLink = document.createElement('div');\n",
              "        docLink.innerHTML = docLinkHtml;\n",
              "        element.appendChild(docLink);\n",
              "      }\n",
              "    </script>\n",
              "  </div>\n",
              "\n",
              "\n",
              "<div id=\"df-f8706e59-0b07-407c-b977-c73f536c8023\">\n",
              "  <button class=\"colab-df-quickchart\" onclick=\"quickchart('df-f8706e59-0b07-407c-b977-c73f536c8023')\"\n",
              "            title=\"Suggest charts\"\n",
              "            style=\"display:none;\">\n",
              "\n",
              "<svg xmlns=\"http://www.w3.org/2000/svg\" height=\"24px\"viewBox=\"0 0 24 24\"\n",
              "     width=\"24px\">\n",
              "    <g>\n",
              "        <path d=\"M19 3H5c-1.1 0-2 .9-2 2v14c0 1.1.9 2 2 2h14c1.1 0 2-.9 2-2V5c0-1.1-.9-2-2-2zM9 17H7v-7h2v7zm4 0h-2V7h2v10zm4 0h-2v-4h2v4z\"/>\n",
              "    </g>\n",
              "</svg>\n",
              "  </button>\n",
              "\n",
              "<style>\n",
              "  .colab-df-quickchart {\n",
              "      --bg-color: #E8F0FE;\n",
              "      --fill-color: #1967D2;\n",
              "      --hover-bg-color: #E2EBFA;\n",
              "      --hover-fill-color: #174EA6;\n",
              "      --disabled-fill-color: #AAA;\n",
              "      --disabled-bg-color: #DDD;\n",
              "  }\n",
              "\n",
              "  [theme=dark] .colab-df-quickchart {\n",
              "      --bg-color: #3B4455;\n",
              "      --fill-color: #D2E3FC;\n",
              "      --hover-bg-color: #434B5C;\n",
              "      --hover-fill-color: #FFFFFF;\n",
              "      --disabled-bg-color: #3B4455;\n",
              "      --disabled-fill-color: #666;\n",
              "  }\n",
              "\n",
              "  .colab-df-quickchart {\n",
              "    background-color: var(--bg-color);\n",
              "    border: none;\n",
              "    border-radius: 50%;\n",
              "    cursor: pointer;\n",
              "    display: none;\n",
              "    fill: var(--fill-color);\n",
              "    height: 32px;\n",
              "    padding: 0;\n",
              "    width: 32px;\n",
              "  }\n",
              "\n",
              "  .colab-df-quickchart:hover {\n",
              "    background-color: var(--hover-bg-color);\n",
              "    box-shadow: 0 1px 2px rgba(60, 64, 67, 0.3), 0 1px 3px 1px rgba(60, 64, 67, 0.15);\n",
              "    fill: var(--button-hover-fill-color);\n",
              "  }\n",
              "\n",
              "  .colab-df-quickchart-complete:disabled,\n",
              "  .colab-df-quickchart-complete:disabled:hover {\n",
              "    background-color: var(--disabled-bg-color);\n",
              "    fill: var(--disabled-fill-color);\n",
              "    box-shadow: none;\n",
              "  }\n",
              "\n",
              "  .colab-df-spinner {\n",
              "    border: 2px solid var(--fill-color);\n",
              "    border-color: transparent;\n",
              "    border-bottom-color: var(--fill-color);\n",
              "    animation:\n",
              "      spin 1s steps(1) infinite;\n",
              "  }\n",
              "\n",
              "  @keyframes spin {\n",
              "    0% {\n",
              "      border-color: transparent;\n",
              "      border-bottom-color: var(--fill-color);\n",
              "      border-left-color: var(--fill-color);\n",
              "    }\n",
              "    20% {\n",
              "      border-color: transparent;\n",
              "      border-left-color: var(--fill-color);\n",
              "      border-top-color: var(--fill-color);\n",
              "    }\n",
              "    30% {\n",
              "      border-color: transparent;\n",
              "      border-left-color: var(--fill-color);\n",
              "      border-top-color: var(--fill-color);\n",
              "      border-right-color: var(--fill-color);\n",
              "    }\n",
              "    40% {\n",
              "      border-color: transparent;\n",
              "      border-right-color: var(--fill-color);\n",
              "      border-top-color: var(--fill-color);\n",
              "    }\n",
              "    60% {\n",
              "      border-color: transparent;\n",
              "      border-right-color: var(--fill-color);\n",
              "    }\n",
              "    80% {\n",
              "      border-color: transparent;\n",
              "      border-right-color: var(--fill-color);\n",
              "      border-bottom-color: var(--fill-color);\n",
              "    }\n",
              "    90% {\n",
              "      border-color: transparent;\n",
              "      border-bottom-color: var(--fill-color);\n",
              "    }\n",
              "  }\n",
              "</style>\n",
              "\n",
              "  <script>\n",
              "    async function quickchart(key) {\n",
              "      const quickchartButtonEl =\n",
              "        document.querySelector('#' + key + ' button');\n",
              "      quickchartButtonEl.disabled = true;  // To prevent multiple clicks.\n",
              "      quickchartButtonEl.classList.add('colab-df-spinner');\n",
              "      try {\n",
              "        const charts = await google.colab.kernel.invokeFunction(\n",
              "            'suggestCharts', [key], {});\n",
              "      } catch (error) {\n",
              "        console.error('Error during call to suggestCharts:', error);\n",
              "      }\n",
              "      quickchartButtonEl.classList.remove('colab-df-spinner');\n",
              "      quickchartButtonEl.classList.add('colab-df-quickchart-complete');\n",
              "    }\n",
              "    (() => {\n",
              "      let quickchartButtonEl =\n",
              "        document.querySelector('#df-f8706e59-0b07-407c-b977-c73f536c8023 button');\n",
              "      quickchartButtonEl.style.display =\n",
              "        google.colab.kernel.accessAllowed ? 'block' : 'none';\n",
              "    })();\n",
              "  </script>\n",
              "</div>\n",
              "\n",
              "    </div>\n",
              "  </div>\n"
            ],
            "application/vnd.google.colaboratory.intrinsic+json": {
              "type": "dataframe",
              "variable_name": "df",
              "summary": "{\n  \"name\": \"df\",\n  \"rows\": 1330,\n  \"fields\": [\n    {\n      \"column\": \"prompt\",\n      \"properties\": {\n        \"dtype\": \"string\",\n        \"num_unique_values\": 1329,\n        \"samples\": [\n          \"\\u00c9cris un po\\u00e8me sur le th\\u00e8me : Printemps\",\n          \"Con\\u00e7ois un po\\u00e8me ayant comme sujet : II ne faut s'\\u00e9bahir, disaient ces bons vieillards\",\n          \"R\\u00e9dige un po\\u00e8me \\u00e0 propos de Croquis parisien\"\n        ],\n        \"semantic_type\": \"\",\n        \"description\": \"\"\n      }\n    },\n    {\n      \"column\": \"text\",\n      \"properties\": {\n        \"dtype\": \"string\",\n        \"num_unique_values\": 1320,\n        \"samples\": [\n          \"Car le petit pr\\u00e9sent qu'un loyal ami donne,\\nPasse des puissants rois le sceptre et la couronne.\",\n          \"Heureux l'homme, occup\\u00e9 de l'\\u00e9ternel destin,\\nQui, tel qu'un voyageur qui part de grand matin,\\nSe r\\u00e9veille, l'esprit rempli de r\\u00eaverie,\\nEt, d\\u00e8s l'aube du jour, se met \\u00e0 lire et prie !\\nA mesure qu'il lit, le jour vient lentement\\nEt se fait dans son \\u00e2me ainsi qu'au firmament.\\nIl voit distinctement, \\u00e0 cette clart\\u00e9 bl\\u00eame,\\nDes choses dans sa chambre et d'autres en lui-m\\u00eame ;\\nTout dort dans la maison ; il est seul, il le croit ;\\nEt, cependant, fermant leur bouche de leur doigt,\\nDerri\\u00e8re lui, tandis que l'extase l'enivre,\\nLes anges souriants se penchent sur son livre.\\nParis, septembre 1842.\",\n          \"Sur le vieux pont verdi de mousse,\\nEt tout rong\\u00e9 de lichens roux,\\nDeux amants parlaient \\u00e0 voix douce \"\n        ],\n        \"semantic_type\": \"\",\n        \"description\": \"\"\n      }\n    },\n    {\n      \"column\": \"text_length\",\n      \"properties\": {\n        \"dtype\": \"number\",\n        \"std\": 290,\n        \"min\": 6,\n        \"max\": 1489,\n        \"num_unique_values\": 702,\n        \"samples\": [\n          671,\n          124,\n          658\n        ],\n        \"semantic_type\": \"\",\n        \"description\": \"\"\n      }\n    }\n  ]\n}"
            }
          },
          "metadata": {},
          "execution_count": 29
        }
      ],
      "source": [
        "df.head()"
      ]
    },
    {
      "cell_type": "markdown",
      "metadata": {
        "id": "Yira75v3jiVD"
      },
      "source": [
        "Tokens spéciaux : {'bos_token': '<|endoftext|>', 'eos_token': '<|endoftext|>', 'unk_token': '<|endoftext|>'}"
      ]
    },
    {
      "cell_type": "markdown",
      "metadata": {
        "id": "mPVX_Z6WjiVG"
      },
      "source": [
        "## ***Ajouter les token spéciaux au dataset qui ne sont pas présent par déafut dans le tokenizer*** ##"
      ]
    },
    {
      "cell_type": "code",
      "execution_count": 30,
      "metadata": {
        "id": "sq-M1SpdjiVI"
      },
      "outputs": [],
      "source": [
        "# token saut de ligne\n",
        "df['text'] = df[\"text\"].str.replace(\"\\n\", \"<|newline|>\", regex = False)\n",
        "\n",
        "# token padding\n",
        "# Ajouter des tokens <|pad|> pour chaque ligne\n",
        "target_length = 1489\n",
        "\n",
        "df[\"padded_text\"] = df[\"text\"] + df.apply(\n",
        "    lambda row: \" \" + \" \".join([\"<|pad|>\"] * (target_length - row[\"text_length\"]))\n",
        "    if row[\"text_length\"] < target_length else \"\", axis=1\n",
        ")"
      ]
    },
    {
      "cell_type": "code",
      "execution_count": 31,
      "metadata": {
        "id": "9KqXyzqpjiVK"
      },
      "outputs": [],
      "source": [
        "# Conserver uniquement les colonnes prompt et text\n",
        "df = df[['prompt', 'text']]"
      ]
    },
    {
      "cell_type": "code",
      "execution_count": 32,
      "metadata": {
        "colab": {
          "base_uri": "https://localhost:8080/",
          "height": 206
        },
        "id": "ffTILMGojiVO",
        "outputId": "ddcc924b-1f2c-4738-cde1-1d7106363bee"
      },
      "outputs": [
        {
          "output_type": "execute_result",
          "data": {
            "text/plain": [
              "                                              prompt  \\\n",
              "0  Compose une œuvre poétique sur Les deux bonnes...   \n",
              "1  Crée un poème autour de : Je ne vois pas pourq...   \n",
              "2  Écris un poème sur le thème : J'ai tout donné ...   \n",
              "3  Donne-moi un poème avec pour thème principal :...   \n",
              "4  Propose un poème sur le sujet suivant : À deux...   \n",
              "\n",
              "                                                text  \n",
              "0  Sonnet.<|newline|>La Débauche et la Mort sont ...  \n",
              "1  Je ne vois pas pourquoi je ferais autre chose<...  \n",
              "2  On peut m'aimer sans honte,<|newline|>La couro...  \n",
              "3                          La dure épreuve va finir   \n",
              "4  Vous avez un regard singulier et charmant ;<|n...  "
            ],
            "text/html": [
              "\n",
              "  <div id=\"df-f5d9370f-9a23-43f0-8829-c5cde17df946\" class=\"colab-df-container\">\n",
              "    <div>\n",
              "<style scoped>\n",
              "    .dataframe tbody tr th:only-of-type {\n",
              "        vertical-align: middle;\n",
              "    }\n",
              "\n",
              "    .dataframe tbody tr th {\n",
              "        vertical-align: top;\n",
              "    }\n",
              "\n",
              "    .dataframe thead th {\n",
              "        text-align: right;\n",
              "    }\n",
              "</style>\n",
              "<table border=\"1\" class=\"dataframe\">\n",
              "  <thead>\n",
              "    <tr style=\"text-align: right;\">\n",
              "      <th></th>\n",
              "      <th>prompt</th>\n",
              "      <th>text</th>\n",
              "    </tr>\n",
              "  </thead>\n",
              "  <tbody>\n",
              "    <tr>\n",
              "      <th>0</th>\n",
              "      <td>Compose une œuvre poétique sur Les deux bonnes...</td>\n",
              "      <td>Sonnet.&lt;|newline|&gt;La Débauche et la Mort sont ...</td>\n",
              "    </tr>\n",
              "    <tr>\n",
              "      <th>1</th>\n",
              "      <td>Crée un poème autour de : Je ne vois pas pourq...</td>\n",
              "      <td>Je ne vois pas pourquoi je ferais autre chose&lt;...</td>\n",
              "    </tr>\n",
              "    <tr>\n",
              "      <th>2</th>\n",
              "      <td>Écris un poème sur le thème : J'ai tout donné ...</td>\n",
              "      <td>On peut m'aimer sans honte,&lt;|newline|&gt;La couro...</td>\n",
              "    </tr>\n",
              "    <tr>\n",
              "      <th>3</th>\n",
              "      <td>Donne-moi un poème avec pour thème principal :...</td>\n",
              "      <td>La dure épreuve va finir</td>\n",
              "    </tr>\n",
              "    <tr>\n",
              "      <th>4</th>\n",
              "      <td>Propose un poème sur le sujet suivant : À deux...</td>\n",
              "      <td>Vous avez un regard singulier et charmant ;&lt;|n...</td>\n",
              "    </tr>\n",
              "  </tbody>\n",
              "</table>\n",
              "</div>\n",
              "    <div class=\"colab-df-buttons\">\n",
              "\n",
              "  <div class=\"colab-df-container\">\n",
              "    <button class=\"colab-df-convert\" onclick=\"convertToInteractive('df-f5d9370f-9a23-43f0-8829-c5cde17df946')\"\n",
              "            title=\"Convert this dataframe to an interactive table.\"\n",
              "            style=\"display:none;\">\n",
              "\n",
              "  <svg xmlns=\"http://www.w3.org/2000/svg\" height=\"24px\" viewBox=\"0 -960 960 960\">\n",
              "    <path d=\"M120-120v-720h720v720H120Zm60-500h600v-160H180v160Zm220 220h160v-160H400v160Zm0 220h160v-160H400v160ZM180-400h160v-160H180v160Zm440 0h160v-160H620v160ZM180-180h160v-160H180v160Zm440 0h160v-160H620v160Z\"/>\n",
              "  </svg>\n",
              "    </button>\n",
              "\n",
              "  <style>\n",
              "    .colab-df-container {\n",
              "      display:flex;\n",
              "      gap: 12px;\n",
              "    }\n",
              "\n",
              "    .colab-df-convert {\n",
              "      background-color: #E8F0FE;\n",
              "      border: none;\n",
              "      border-radius: 50%;\n",
              "      cursor: pointer;\n",
              "      display: none;\n",
              "      fill: #1967D2;\n",
              "      height: 32px;\n",
              "      padding: 0 0 0 0;\n",
              "      width: 32px;\n",
              "    }\n",
              "\n",
              "    .colab-df-convert:hover {\n",
              "      background-color: #E2EBFA;\n",
              "      box-shadow: 0px 1px 2px rgba(60, 64, 67, 0.3), 0px 1px 3px 1px rgba(60, 64, 67, 0.15);\n",
              "      fill: #174EA6;\n",
              "    }\n",
              "\n",
              "    .colab-df-buttons div {\n",
              "      margin-bottom: 4px;\n",
              "    }\n",
              "\n",
              "    [theme=dark] .colab-df-convert {\n",
              "      background-color: #3B4455;\n",
              "      fill: #D2E3FC;\n",
              "    }\n",
              "\n",
              "    [theme=dark] .colab-df-convert:hover {\n",
              "      background-color: #434B5C;\n",
              "      box-shadow: 0px 1px 3px 1px rgba(0, 0, 0, 0.15);\n",
              "      filter: drop-shadow(0px 1px 2px rgba(0, 0, 0, 0.3));\n",
              "      fill: #FFFFFF;\n",
              "    }\n",
              "  </style>\n",
              "\n",
              "    <script>\n",
              "      const buttonEl =\n",
              "        document.querySelector('#df-f5d9370f-9a23-43f0-8829-c5cde17df946 button.colab-df-convert');\n",
              "      buttonEl.style.display =\n",
              "        google.colab.kernel.accessAllowed ? 'block' : 'none';\n",
              "\n",
              "      async function convertToInteractive(key) {\n",
              "        const element = document.querySelector('#df-f5d9370f-9a23-43f0-8829-c5cde17df946');\n",
              "        const dataTable =\n",
              "          await google.colab.kernel.invokeFunction('convertToInteractive',\n",
              "                                                    [key], {});\n",
              "        if (!dataTable) return;\n",
              "\n",
              "        const docLinkHtml = 'Like what you see? Visit the ' +\n",
              "          '<a target=\"_blank\" href=https://colab.research.google.com/notebooks/data_table.ipynb>data table notebook</a>'\n",
              "          + ' to learn more about interactive tables.';\n",
              "        element.innerHTML = '';\n",
              "        dataTable['output_type'] = 'display_data';\n",
              "        await google.colab.output.renderOutput(dataTable, element);\n",
              "        const docLink = document.createElement('div');\n",
              "        docLink.innerHTML = docLinkHtml;\n",
              "        element.appendChild(docLink);\n",
              "      }\n",
              "    </script>\n",
              "  </div>\n",
              "\n",
              "\n",
              "<div id=\"df-307043b4-ecd8-478a-989b-aa7ec9b49647\">\n",
              "  <button class=\"colab-df-quickchart\" onclick=\"quickchart('df-307043b4-ecd8-478a-989b-aa7ec9b49647')\"\n",
              "            title=\"Suggest charts\"\n",
              "            style=\"display:none;\">\n",
              "\n",
              "<svg xmlns=\"http://www.w3.org/2000/svg\" height=\"24px\"viewBox=\"0 0 24 24\"\n",
              "     width=\"24px\">\n",
              "    <g>\n",
              "        <path d=\"M19 3H5c-1.1 0-2 .9-2 2v14c0 1.1.9 2 2 2h14c1.1 0 2-.9 2-2V5c0-1.1-.9-2-2-2zM9 17H7v-7h2v7zm4 0h-2V7h2v10zm4 0h-2v-4h2v4z\"/>\n",
              "    </g>\n",
              "</svg>\n",
              "  </button>\n",
              "\n",
              "<style>\n",
              "  .colab-df-quickchart {\n",
              "      --bg-color: #E8F0FE;\n",
              "      --fill-color: #1967D2;\n",
              "      --hover-bg-color: #E2EBFA;\n",
              "      --hover-fill-color: #174EA6;\n",
              "      --disabled-fill-color: #AAA;\n",
              "      --disabled-bg-color: #DDD;\n",
              "  }\n",
              "\n",
              "  [theme=dark] .colab-df-quickchart {\n",
              "      --bg-color: #3B4455;\n",
              "      --fill-color: #D2E3FC;\n",
              "      --hover-bg-color: #434B5C;\n",
              "      --hover-fill-color: #FFFFFF;\n",
              "      --disabled-bg-color: #3B4455;\n",
              "      --disabled-fill-color: #666;\n",
              "  }\n",
              "\n",
              "  .colab-df-quickchart {\n",
              "    background-color: var(--bg-color);\n",
              "    border: none;\n",
              "    border-radius: 50%;\n",
              "    cursor: pointer;\n",
              "    display: none;\n",
              "    fill: var(--fill-color);\n",
              "    height: 32px;\n",
              "    padding: 0;\n",
              "    width: 32px;\n",
              "  }\n",
              "\n",
              "  .colab-df-quickchart:hover {\n",
              "    background-color: var(--hover-bg-color);\n",
              "    box-shadow: 0 1px 2px rgba(60, 64, 67, 0.3), 0 1px 3px 1px rgba(60, 64, 67, 0.15);\n",
              "    fill: var(--button-hover-fill-color);\n",
              "  }\n",
              "\n",
              "  .colab-df-quickchart-complete:disabled,\n",
              "  .colab-df-quickchart-complete:disabled:hover {\n",
              "    background-color: var(--disabled-bg-color);\n",
              "    fill: var(--disabled-fill-color);\n",
              "    box-shadow: none;\n",
              "  }\n",
              "\n",
              "  .colab-df-spinner {\n",
              "    border: 2px solid var(--fill-color);\n",
              "    border-color: transparent;\n",
              "    border-bottom-color: var(--fill-color);\n",
              "    animation:\n",
              "      spin 1s steps(1) infinite;\n",
              "  }\n",
              "\n",
              "  @keyframes spin {\n",
              "    0% {\n",
              "      border-color: transparent;\n",
              "      border-bottom-color: var(--fill-color);\n",
              "      border-left-color: var(--fill-color);\n",
              "    }\n",
              "    20% {\n",
              "      border-color: transparent;\n",
              "      border-left-color: var(--fill-color);\n",
              "      border-top-color: var(--fill-color);\n",
              "    }\n",
              "    30% {\n",
              "      border-color: transparent;\n",
              "      border-left-color: var(--fill-color);\n",
              "      border-top-color: var(--fill-color);\n",
              "      border-right-color: var(--fill-color);\n",
              "    }\n",
              "    40% {\n",
              "      border-color: transparent;\n",
              "      border-right-color: var(--fill-color);\n",
              "      border-top-color: var(--fill-color);\n",
              "    }\n",
              "    60% {\n",
              "      border-color: transparent;\n",
              "      border-right-color: var(--fill-color);\n",
              "    }\n",
              "    80% {\n",
              "      border-color: transparent;\n",
              "      border-right-color: var(--fill-color);\n",
              "      border-bottom-color: var(--fill-color);\n",
              "    }\n",
              "    90% {\n",
              "      border-color: transparent;\n",
              "      border-bottom-color: var(--fill-color);\n",
              "    }\n",
              "  }\n",
              "</style>\n",
              "\n",
              "  <script>\n",
              "    async function quickchart(key) {\n",
              "      const quickchartButtonEl =\n",
              "        document.querySelector('#' + key + ' button');\n",
              "      quickchartButtonEl.disabled = true;  // To prevent multiple clicks.\n",
              "      quickchartButtonEl.classList.add('colab-df-spinner');\n",
              "      try {\n",
              "        const charts = await google.colab.kernel.invokeFunction(\n",
              "            'suggestCharts', [key], {});\n",
              "      } catch (error) {\n",
              "        console.error('Error during call to suggestCharts:', error);\n",
              "      }\n",
              "      quickchartButtonEl.classList.remove('colab-df-spinner');\n",
              "      quickchartButtonEl.classList.add('colab-df-quickchart-complete');\n",
              "    }\n",
              "    (() => {\n",
              "      let quickchartButtonEl =\n",
              "        document.querySelector('#df-307043b4-ecd8-478a-989b-aa7ec9b49647 button');\n",
              "      quickchartButtonEl.style.display =\n",
              "        google.colab.kernel.accessAllowed ? 'block' : 'none';\n",
              "    })();\n",
              "  </script>\n",
              "</div>\n",
              "\n",
              "    </div>\n",
              "  </div>\n"
            ],
            "application/vnd.google.colaboratory.intrinsic+json": {
              "type": "dataframe",
              "variable_name": "df",
              "summary": "{\n  \"name\": \"df\",\n  \"rows\": 1330,\n  \"fields\": [\n    {\n      \"column\": \"prompt\",\n      \"properties\": {\n        \"dtype\": \"string\",\n        \"num_unique_values\": 1329,\n        \"samples\": [\n          \"\\u00c9cris un po\\u00e8me sur le th\\u00e8me : Printemps\",\n          \"Con\\u00e7ois un po\\u00e8me ayant comme sujet : II ne faut s'\\u00e9bahir, disaient ces bons vieillards\",\n          \"R\\u00e9dige un po\\u00e8me \\u00e0 propos de Croquis parisien\"\n        ],\n        \"semantic_type\": \"\",\n        \"description\": \"\"\n      }\n    },\n    {\n      \"column\": \"text\",\n      \"properties\": {\n        \"dtype\": \"string\",\n        \"num_unique_values\": 1320,\n        \"samples\": [\n          \"Car le petit pr\\u00e9sent qu'un loyal ami donne,<|newline|>Passe des puissants rois le sceptre et la couronne.\",\n          \"Heureux l'homme, occup\\u00e9 de l'\\u00e9ternel destin,<|newline|>Qui, tel qu'un voyageur qui part de grand matin,<|newline|>Se r\\u00e9veille, l'esprit rempli de r\\u00eaverie,<|newline|>Et, d\\u00e8s l'aube du jour, se met \\u00e0 lire et prie !<|newline|>A mesure qu'il lit, le jour vient lentement<|newline|>Et se fait dans son \\u00e2me ainsi qu'au firmament.<|newline|>Il voit distinctement, \\u00e0 cette clart\\u00e9 bl\\u00eame,<|newline|>Des choses dans sa chambre et d'autres en lui-m\\u00eame ;<|newline|>Tout dort dans la maison ; il est seul, il le croit ;<|newline|>Et, cependant, fermant leur bouche de leur doigt,<|newline|>Derri\\u00e8re lui, tandis que l'extase l'enivre,<|newline|>Les anges souriants se penchent sur son livre.<|newline|>Paris, septembre 1842.\",\n          \"Sur le vieux pont verdi de mousse,<|newline|>Et tout rong\\u00e9 de lichens roux,<|newline|>Deux amants parlaient \\u00e0 voix douce \"\n        ],\n        \"semantic_type\": \"\",\n        \"description\": \"\"\n      }\n    }\n  ]\n}"
            }
          },
          "metadata": {},
          "execution_count": 32
        }
      ],
      "source": [
        "df.head()"
      ]
    },
    {
      "cell_type": "code",
      "execution_count": 33,
      "metadata": {
        "colab": {
          "base_uri": "https://localhost:8080/",
          "height": 71
        },
        "id": "dXsU1on6jiVR",
        "outputId": "236dfc12-a11f-4368-cfd5-f7af7f6d9d84"
      },
      "outputs": [
        {
          "output_type": "execute_result",
          "data": {
            "text/plain": [
              "\"Ah ! Si vous saviez comme on pleure<|newline|>De vivre seul et sans foyers,<|newline|>Quelquefois devant ma demeure<|newline|>Vous passeriez.<|newline|>Si vous saviez ce que fait naître<|newline|>Dans l'âme triste un pur regard,<|newline|>Vous regarderiez ma fenêtre<|newline|>Comme au hasard.<|newline|>Si vous saviez quel baume apporte<|newline|>Au cœur la présence d'un cœur,<|newline|>Vous vous assoiriez sous ma porte<|newline|>Comme une sœur.<|newline|>Si vous saviez que je vous aime,<|newline|>Surtout si vous saviez comment,<|newline|>Vous entreriez peut-être même<|newline|>Tout simplement.\""
            ],
            "application/vnd.google.colaboratory.intrinsic+json": {
              "type": "string"
            }
          },
          "metadata": {},
          "execution_count": 33
        }
      ],
      "source": [
        "df.text[5]"
      ]
    },
    {
      "cell_type": "code",
      "execution_count": 34,
      "metadata": {
        "id": "ZUfy2M19jiVT"
      },
      "outputs": [],
      "source": [
        "# Convertir le dataset en CSV\n",
        "df.to_csv('poems_prompts_dataset.csv', index=False, encoding='utf-8')"
      ]
    },
    {
      "cell_type": "markdown",
      "metadata": {
        "id": "T6b4J9SKjiVW"
      },
      "source": [
        "## ***Importer le modèle pour le tester sans fine-tuning*** ##"
      ]
    },
    {
      "cell_type": "code",
      "source": [
        "#df = pd.read_csv('poems_prompts_dataset.csv')"
      ],
      "metadata": {
        "id": "tvpSy6252iaK"
      },
      "execution_count": 35,
      "outputs": []
    },
    {
      "cell_type": "code",
      "execution_count": 36,
      "metadata": {
        "colab": {
          "base_uri": "https://localhost:8080/"
        },
        "id": "tefo3icbjiVc",
        "outputId": "75d17a39-d1ca-48d4-a917-198961d55d24"
      },
      "outputs": [
        {
          "output_type": "stream",
          "name": "stderr",
          "text": [
            "Device set to use cpu\n",
            "Setting `pad_token_id` to `eos_token_id`:50256 for open-end generation.\n"
          ]
        },
        {
          "output_type": "execute_result",
          "data": {
            "text/plain": [
              "[{'generated_text': \"EleutherAI has a similar effect, but their interaction with the nonhuman primates shows that they have a larger range of learning and memory for more mundane tasks that are not directly related to the animal's environment.\\n\\nWhen asked to identify new behaviours\"}]"
            ]
          },
          "metadata": {},
          "execution_count": 36
        }
      ],
      "source": [
        "from transformers import pipeline\n",
        "generator = pipeline('text-generation', model='gpt2')\n",
        "generator(\"EleutherAI has\", do_sample=True, min_length=50)"
      ]
    },
    {
      "cell_type": "markdown",
      "metadata": {
        "id": "eA5d-FudjiVg"
      },
      "source": [
        "location model on machine : C:\\Users\\33760\\.cache\\huggingface\\transformers\\"
      ]
    },
    {
      "cell_type": "code",
      "execution_count": 37,
      "metadata": {
        "colab": {
          "base_uri": "https://localhost:8080/"
        },
        "id": "-w_OoN71jiVh",
        "outputId": "8ba6da14-f6ba-4e9b-91fa-68ff8ebed42a"
      },
      "outputs": [
        {
          "output_type": "stream",
          "name": "stderr",
          "text": [
            "Truncation was not explicitly activated but `max_length` is provided a specific value, please use `truncation=True` to explicitly truncate examples to max length. Defaulting to 'longest_first' truncation strategy. If you encode pairs of sequences (GLUE-style) with the tokenizer you can select this strategy more precisely by providing a specific strategy to `truncation`.\n",
            "Setting `pad_token_id` to `eos_token_id`:50256 for open-end generation.\n"
          ]
        },
        {
          "output_type": "stream",
          "name": "stdout",
          "text": [
            "Génère un poème sur l'amitiément du ne pas de quelques sur jettison, tout que vous le dix àvez nouvelles.\n",
            "\n",
            "Paris, 1757\n",
            "\n",
            "Fancy. Paris has a large city and a charming town, and I come to admire it better than I would any other place of the world. The French town consists of four districts:\n",
            "\n",
            "L'Amiens, 1756.\n",
            "\n",
            "Cais dans le pouvoir (L.'s, 1760).\n",
            "\n",
            "D'enfant l'Ouverage (D.'s, 1757).\n",
            "\n",
            "Anejourner, 1767.\n",
            "\n",
            "Mâme et l'évolution (M.s, 1767).\n",
            "\n",
            "The only two districts (Tac) do not even exist in this place:\n",
            "\n",
            "Cie nouveau.\n",
            "\n",
            "Mouveau.\n"
          ]
        }
      ],
      "source": [
        "prompt = \"Génère un poème sur l'amitié\"\n",
        "res = generator(prompt, max_length = 200, top_k = 80, top_p = 0.90, do_sample = True, temperature = 1.1)\n",
        "\n",
        "print(res[0]['generated_text'])"
      ]
    },
    {
      "cell_type": "code",
      "execution_count": 38,
      "metadata": {
        "colab": {
          "base_uri": "https://localhost:8080/"
        },
        "id": "nM7SzTbPjiVh",
        "outputId": "2f598cb3-1f76-402c-c74f-a7c5d740b176"
      },
      "outputs": [
        {
          "output_type": "stream",
          "name": "stderr",
          "text": [
            "Setting `pad_token_id` to `eos_token_id`:50256 for open-end generation.\n"
          ]
        },
        {
          "output_type": "execute_result",
          "data": {
            "text/plain": [
              "[{'generated_text': \"Génère un poème sur le thème du courage par l'onnes l'agitation d'études, et l'invitation sur la mort en travail de l'imperse ; il mousquetie ne peut pas la mort (part d'aviation, part à la rechercheuse) avons là dessus pour cette suivest une suivre ; dans le rien au mort tout au leur l'exile au premier.\\n\\nL'activité en ouvragement de quelque, les environnement en environnement de pour un président tout dans le viergie ce sont sont aussières que cette quelques peubert au salut de se part en lui ; faut pense, tout, d'alliance, la vie il n'est pas\"}]"
            ]
          },
          "metadata": {},
          "execution_count": 38
        }
      ],
      "source": [
        "generator(\"Génère un poème sur le thème du courage\", do_sample = True, max_length = 200, min_length = 150, temperature = 1, top_k = 80)"
      ]
    },
    {
      "cell_type": "code",
      "execution_count": 39,
      "metadata": {
        "colab": {
          "base_uri": "https://localhost:8080/",
          "height": 206
        },
        "id": "njV1ejiOjiVh",
        "outputId": "39c48236-8a94-41fe-a4eb-298585cba880"
      },
      "outputs": [
        {
          "output_type": "execute_result",
          "data": {
            "text/plain": [
              "                                              prompt  \\\n",
              "0  Compose une œuvre poétique sur Les deux bonnes...   \n",
              "1  Crée un poème autour de : Je ne vois pas pourq...   \n",
              "2  Écris un poème sur le thème : J'ai tout donné ...   \n",
              "3  Donne-moi un poème avec pour thème principal :...   \n",
              "4  Propose un poème sur le sujet suivant : À deux...   \n",
              "\n",
              "                                                text  \n",
              "0  Sonnet.<|newline|>La Débauche et la Mort sont ...  \n",
              "1  Je ne vois pas pourquoi je ferais autre chose<...  \n",
              "2  On peut m'aimer sans honte,<|newline|>La couro...  \n",
              "3                          La dure épreuve va finir   \n",
              "4  Vous avez un regard singulier et charmant ;<|n...  "
            ],
            "text/html": [
              "\n",
              "  <div id=\"df-17dba9f7-6b17-44e2-afbc-06f8b9a867ee\" class=\"colab-df-container\">\n",
              "    <div>\n",
              "<style scoped>\n",
              "    .dataframe tbody tr th:only-of-type {\n",
              "        vertical-align: middle;\n",
              "    }\n",
              "\n",
              "    .dataframe tbody tr th {\n",
              "        vertical-align: top;\n",
              "    }\n",
              "\n",
              "    .dataframe thead th {\n",
              "        text-align: right;\n",
              "    }\n",
              "</style>\n",
              "<table border=\"1\" class=\"dataframe\">\n",
              "  <thead>\n",
              "    <tr style=\"text-align: right;\">\n",
              "      <th></th>\n",
              "      <th>prompt</th>\n",
              "      <th>text</th>\n",
              "    </tr>\n",
              "  </thead>\n",
              "  <tbody>\n",
              "    <tr>\n",
              "      <th>0</th>\n",
              "      <td>Compose une œuvre poétique sur Les deux bonnes...</td>\n",
              "      <td>Sonnet.&lt;|newline|&gt;La Débauche et la Mort sont ...</td>\n",
              "    </tr>\n",
              "    <tr>\n",
              "      <th>1</th>\n",
              "      <td>Crée un poème autour de : Je ne vois pas pourq...</td>\n",
              "      <td>Je ne vois pas pourquoi je ferais autre chose&lt;...</td>\n",
              "    </tr>\n",
              "    <tr>\n",
              "      <th>2</th>\n",
              "      <td>Écris un poème sur le thème : J'ai tout donné ...</td>\n",
              "      <td>On peut m'aimer sans honte,&lt;|newline|&gt;La couro...</td>\n",
              "    </tr>\n",
              "    <tr>\n",
              "      <th>3</th>\n",
              "      <td>Donne-moi un poème avec pour thème principal :...</td>\n",
              "      <td>La dure épreuve va finir</td>\n",
              "    </tr>\n",
              "    <tr>\n",
              "      <th>4</th>\n",
              "      <td>Propose un poème sur le sujet suivant : À deux...</td>\n",
              "      <td>Vous avez un regard singulier et charmant ;&lt;|n...</td>\n",
              "    </tr>\n",
              "  </tbody>\n",
              "</table>\n",
              "</div>\n",
              "    <div class=\"colab-df-buttons\">\n",
              "\n",
              "  <div class=\"colab-df-container\">\n",
              "    <button class=\"colab-df-convert\" onclick=\"convertToInteractive('df-17dba9f7-6b17-44e2-afbc-06f8b9a867ee')\"\n",
              "            title=\"Convert this dataframe to an interactive table.\"\n",
              "            style=\"display:none;\">\n",
              "\n",
              "  <svg xmlns=\"http://www.w3.org/2000/svg\" height=\"24px\" viewBox=\"0 -960 960 960\">\n",
              "    <path d=\"M120-120v-720h720v720H120Zm60-500h600v-160H180v160Zm220 220h160v-160H400v160Zm0 220h160v-160H400v160ZM180-400h160v-160H180v160Zm440 0h160v-160H620v160ZM180-180h160v-160H180v160Zm440 0h160v-160H620v160Z\"/>\n",
              "  </svg>\n",
              "    </button>\n",
              "\n",
              "  <style>\n",
              "    .colab-df-container {\n",
              "      display:flex;\n",
              "      gap: 12px;\n",
              "    }\n",
              "\n",
              "    .colab-df-convert {\n",
              "      background-color: #E8F0FE;\n",
              "      border: none;\n",
              "      border-radius: 50%;\n",
              "      cursor: pointer;\n",
              "      display: none;\n",
              "      fill: #1967D2;\n",
              "      height: 32px;\n",
              "      padding: 0 0 0 0;\n",
              "      width: 32px;\n",
              "    }\n",
              "\n",
              "    .colab-df-convert:hover {\n",
              "      background-color: #E2EBFA;\n",
              "      box-shadow: 0px 1px 2px rgba(60, 64, 67, 0.3), 0px 1px 3px 1px rgba(60, 64, 67, 0.15);\n",
              "      fill: #174EA6;\n",
              "    }\n",
              "\n",
              "    .colab-df-buttons div {\n",
              "      margin-bottom: 4px;\n",
              "    }\n",
              "\n",
              "    [theme=dark] .colab-df-convert {\n",
              "      background-color: #3B4455;\n",
              "      fill: #D2E3FC;\n",
              "    }\n",
              "\n",
              "    [theme=dark] .colab-df-convert:hover {\n",
              "      background-color: #434B5C;\n",
              "      box-shadow: 0px 1px 3px 1px rgba(0, 0, 0, 0.15);\n",
              "      filter: drop-shadow(0px 1px 2px rgba(0, 0, 0, 0.3));\n",
              "      fill: #FFFFFF;\n",
              "    }\n",
              "  </style>\n",
              "\n",
              "    <script>\n",
              "      const buttonEl =\n",
              "        document.querySelector('#df-17dba9f7-6b17-44e2-afbc-06f8b9a867ee button.colab-df-convert');\n",
              "      buttonEl.style.display =\n",
              "        google.colab.kernel.accessAllowed ? 'block' : 'none';\n",
              "\n",
              "      async function convertToInteractive(key) {\n",
              "        const element = document.querySelector('#df-17dba9f7-6b17-44e2-afbc-06f8b9a867ee');\n",
              "        const dataTable =\n",
              "          await google.colab.kernel.invokeFunction('convertToInteractive',\n",
              "                                                    [key], {});\n",
              "        if (!dataTable) return;\n",
              "\n",
              "        const docLinkHtml = 'Like what you see? Visit the ' +\n",
              "          '<a target=\"_blank\" href=https://colab.research.google.com/notebooks/data_table.ipynb>data table notebook</a>'\n",
              "          + ' to learn more about interactive tables.';\n",
              "        element.innerHTML = '';\n",
              "        dataTable['output_type'] = 'display_data';\n",
              "        await google.colab.output.renderOutput(dataTable, element);\n",
              "        const docLink = document.createElement('div');\n",
              "        docLink.innerHTML = docLinkHtml;\n",
              "        element.appendChild(docLink);\n",
              "      }\n",
              "    </script>\n",
              "  </div>\n",
              "\n",
              "\n",
              "<div id=\"df-49813134-c47f-4836-866f-ed2488f8cb51\">\n",
              "  <button class=\"colab-df-quickchart\" onclick=\"quickchart('df-49813134-c47f-4836-866f-ed2488f8cb51')\"\n",
              "            title=\"Suggest charts\"\n",
              "            style=\"display:none;\">\n",
              "\n",
              "<svg xmlns=\"http://www.w3.org/2000/svg\" height=\"24px\"viewBox=\"0 0 24 24\"\n",
              "     width=\"24px\">\n",
              "    <g>\n",
              "        <path d=\"M19 3H5c-1.1 0-2 .9-2 2v14c0 1.1.9 2 2 2h14c1.1 0 2-.9 2-2V5c0-1.1-.9-2-2-2zM9 17H7v-7h2v7zm4 0h-2V7h2v10zm4 0h-2v-4h2v4z\"/>\n",
              "    </g>\n",
              "</svg>\n",
              "  </button>\n",
              "\n",
              "<style>\n",
              "  .colab-df-quickchart {\n",
              "      --bg-color: #E8F0FE;\n",
              "      --fill-color: #1967D2;\n",
              "      --hover-bg-color: #E2EBFA;\n",
              "      --hover-fill-color: #174EA6;\n",
              "      --disabled-fill-color: #AAA;\n",
              "      --disabled-bg-color: #DDD;\n",
              "  }\n",
              "\n",
              "  [theme=dark] .colab-df-quickchart {\n",
              "      --bg-color: #3B4455;\n",
              "      --fill-color: #D2E3FC;\n",
              "      --hover-bg-color: #434B5C;\n",
              "      --hover-fill-color: #FFFFFF;\n",
              "      --disabled-bg-color: #3B4455;\n",
              "      --disabled-fill-color: #666;\n",
              "  }\n",
              "\n",
              "  .colab-df-quickchart {\n",
              "    background-color: var(--bg-color);\n",
              "    border: none;\n",
              "    border-radius: 50%;\n",
              "    cursor: pointer;\n",
              "    display: none;\n",
              "    fill: var(--fill-color);\n",
              "    height: 32px;\n",
              "    padding: 0;\n",
              "    width: 32px;\n",
              "  }\n",
              "\n",
              "  .colab-df-quickchart:hover {\n",
              "    background-color: var(--hover-bg-color);\n",
              "    box-shadow: 0 1px 2px rgba(60, 64, 67, 0.3), 0 1px 3px 1px rgba(60, 64, 67, 0.15);\n",
              "    fill: var(--button-hover-fill-color);\n",
              "  }\n",
              "\n",
              "  .colab-df-quickchart-complete:disabled,\n",
              "  .colab-df-quickchart-complete:disabled:hover {\n",
              "    background-color: var(--disabled-bg-color);\n",
              "    fill: var(--disabled-fill-color);\n",
              "    box-shadow: none;\n",
              "  }\n",
              "\n",
              "  .colab-df-spinner {\n",
              "    border: 2px solid var(--fill-color);\n",
              "    border-color: transparent;\n",
              "    border-bottom-color: var(--fill-color);\n",
              "    animation:\n",
              "      spin 1s steps(1) infinite;\n",
              "  }\n",
              "\n",
              "  @keyframes spin {\n",
              "    0% {\n",
              "      border-color: transparent;\n",
              "      border-bottom-color: var(--fill-color);\n",
              "      border-left-color: var(--fill-color);\n",
              "    }\n",
              "    20% {\n",
              "      border-color: transparent;\n",
              "      border-left-color: var(--fill-color);\n",
              "      border-top-color: var(--fill-color);\n",
              "    }\n",
              "    30% {\n",
              "      border-color: transparent;\n",
              "      border-left-color: var(--fill-color);\n",
              "      border-top-color: var(--fill-color);\n",
              "      border-right-color: var(--fill-color);\n",
              "    }\n",
              "    40% {\n",
              "      border-color: transparent;\n",
              "      border-right-color: var(--fill-color);\n",
              "      border-top-color: var(--fill-color);\n",
              "    }\n",
              "    60% {\n",
              "      border-color: transparent;\n",
              "      border-right-color: var(--fill-color);\n",
              "    }\n",
              "    80% {\n",
              "      border-color: transparent;\n",
              "      border-right-color: var(--fill-color);\n",
              "      border-bottom-color: var(--fill-color);\n",
              "    }\n",
              "    90% {\n",
              "      border-color: transparent;\n",
              "      border-bottom-color: var(--fill-color);\n",
              "    }\n",
              "  }\n",
              "</style>\n",
              "\n",
              "  <script>\n",
              "    async function quickchart(key) {\n",
              "      const quickchartButtonEl =\n",
              "        document.querySelector('#' + key + ' button');\n",
              "      quickchartButtonEl.disabled = true;  // To prevent multiple clicks.\n",
              "      quickchartButtonEl.classList.add('colab-df-spinner');\n",
              "      try {\n",
              "        const charts = await google.colab.kernel.invokeFunction(\n",
              "            'suggestCharts', [key], {});\n",
              "      } catch (error) {\n",
              "        console.error('Error during call to suggestCharts:', error);\n",
              "      }\n",
              "      quickchartButtonEl.classList.remove('colab-df-spinner');\n",
              "      quickchartButtonEl.classList.add('colab-df-quickchart-complete');\n",
              "    }\n",
              "    (() => {\n",
              "      let quickchartButtonEl =\n",
              "        document.querySelector('#df-49813134-c47f-4836-866f-ed2488f8cb51 button');\n",
              "      quickchartButtonEl.style.display =\n",
              "        google.colab.kernel.accessAllowed ? 'block' : 'none';\n",
              "    })();\n",
              "  </script>\n",
              "</div>\n",
              "\n",
              "    </div>\n",
              "  </div>\n"
            ],
            "application/vnd.google.colaboratory.intrinsic+json": {
              "type": "dataframe",
              "variable_name": "df",
              "summary": "{\n  \"name\": \"df\",\n  \"rows\": 1330,\n  \"fields\": [\n    {\n      \"column\": \"prompt\",\n      \"properties\": {\n        \"dtype\": \"string\",\n        \"num_unique_values\": 1329,\n        \"samples\": [\n          \"\\u00c9cris un po\\u00e8me sur le th\\u00e8me : Printemps\",\n          \"Con\\u00e7ois un po\\u00e8me ayant comme sujet : II ne faut s'\\u00e9bahir, disaient ces bons vieillards\",\n          \"R\\u00e9dige un po\\u00e8me \\u00e0 propos de Croquis parisien\"\n        ],\n        \"semantic_type\": \"\",\n        \"description\": \"\"\n      }\n    },\n    {\n      \"column\": \"text\",\n      \"properties\": {\n        \"dtype\": \"string\",\n        \"num_unique_values\": 1320,\n        \"samples\": [\n          \"Car le petit pr\\u00e9sent qu'un loyal ami donne,<|newline|>Passe des puissants rois le sceptre et la couronne.\",\n          \"Heureux l'homme, occup\\u00e9 de l'\\u00e9ternel destin,<|newline|>Qui, tel qu'un voyageur qui part de grand matin,<|newline|>Se r\\u00e9veille, l'esprit rempli de r\\u00eaverie,<|newline|>Et, d\\u00e8s l'aube du jour, se met \\u00e0 lire et prie !<|newline|>A mesure qu'il lit, le jour vient lentement<|newline|>Et se fait dans son \\u00e2me ainsi qu'au firmament.<|newline|>Il voit distinctement, \\u00e0 cette clart\\u00e9 bl\\u00eame,<|newline|>Des choses dans sa chambre et d'autres en lui-m\\u00eame ;<|newline|>Tout dort dans la maison ; il est seul, il le croit ;<|newline|>Et, cependant, fermant leur bouche de leur doigt,<|newline|>Derri\\u00e8re lui, tandis que l'extase l'enivre,<|newline|>Les anges souriants se penchent sur son livre.<|newline|>Paris, septembre 1842.\",\n          \"Sur le vieux pont verdi de mousse,<|newline|>Et tout rong\\u00e9 de lichens roux,<|newline|>Deux amants parlaient \\u00e0 voix douce \"\n        ],\n        \"semantic_type\": \"\",\n        \"description\": \"\"\n      }\n    }\n  ]\n}"
            }
          },
          "metadata": {},
          "execution_count": 39
        }
      ],
      "source": [
        "df.head()"
      ]
    },
    {
      "cell_type": "code",
      "execution_count": 40,
      "metadata": {
        "colab": {
          "base_uri": "https://localhost:8080/"
        },
        "id": "ZpWYkCCWjiVi",
        "outputId": "68bbe053-16dd-4e08-c4ca-17e8aed3bc40"
      },
      "outputs": [
        {
          "output_type": "execute_result",
          "data": {
            "text/plain": [
              "(1330, 2)"
            ]
          },
          "metadata": {},
          "execution_count": 40
        }
      ],
      "source": [
        "df.shape"
      ]
    },
    {
      "cell_type": "code",
      "execution_count": 41,
      "metadata": {
        "colab": {
          "base_uri": "https://localhost:8080/",
          "height": 89
        },
        "id": "QtrZ7KspjiVo",
        "outputId": "c9543104-d94b-4546-fac1-8592e06a9e7d"
      },
      "outputs": [
        {
          "output_type": "execute_result",
          "data": {
            "text/plain": [
              "\"Sonnet.<|newline|>La Débauche et la Mort sont deux aimables filles,<|newline|>Prodigues de baisers et riches de santé,<|newline|>Dont le flanc toujours vierge et drapé de guenilles<|newline|>Sous l'éternel labeur n'a jamais enfanté.<|newline|>Au poète sinistre, ennemi des familles,<|newline|>Favori de l'enfer, courtisan mal tenté,<|newline|>Tombeaux et lupanars montrent sous leurs charmilles<|newline|>Un lit que le remords n'a jamais fréquenté.<|newline|>Et la bière et l'alcôve en blasphèmes fécondes<|newline|>Nous offrent tour à tour, comme deux bonnes soeurs,<|newline|>De terribles plaisirs et d'affreuses douceurs.<|newline|>Quand veux-tu m'enterrer, Débauche aux bras immondes ?<|newline|>Ô Mort, quand viendras-tu, sa rivale en attraits,<|newline|>Sur ses myrtes infects enter tes noirs cyprès ?\""
            ],
            "application/vnd.google.colaboratory.intrinsic+json": {
              "type": "string"
            }
          },
          "metadata": {},
          "execution_count": 41
        }
      ],
      "source": [
        "df.text[0]"
      ]
    },
    {
      "cell_type": "markdown",
      "metadata": {
        "id": "cgLsapXNjiVs"
      },
      "source": [
        "## ***Importer le tokenizer*** ##"
      ]
    },
    {
      "cell_type": "code",
      "source": [
        "from transformers import GPT2LMHeadModel, GPT2Tokenizer, TrainingArguments, Trainer, default_data_collator"
      ],
      "metadata": {
        "id": "ULfDwxexSsH8"
      },
      "execution_count": 128,
      "outputs": []
    },
    {
      "cell_type": "code",
      "execution_count": 119,
      "metadata": {
        "colab": {
          "base_uri": "https://localhost:8080/"
        },
        "id": "SJfB5NgbjiVt",
        "outputId": "298ef384-6a59-4042-d73e-01188aeb0188"
      },
      "outputs": [
        {
          "output_type": "stream",
          "name": "stdout",
          "text": [
            "Tokens spéciaux par défaut : {'bos_token': '<|endoftext|>', 'eos_token': '<|endoftext|>', 'unk_token': '<|endoftext|>'}\n"
          ]
        }
      ],
      "source": [
        "from transformers import AutoTokenizer\n",
        "\n",
        "# Charger le tokenizer\n",
        "#tokenizer = AutoTokenizer.from_pretrained(\"EleutherAI/gpt-neo-125M\")\n",
        "tokenizer = GPT2Tokenizer.from_pretrained('gpt2')\n",
        "\n",
        "# Afficher les token par défaut\n",
        "# Afficher les tokens spéciaux par défaut\n",
        "print(\"Tokens spéciaux par défaut :\", tokenizer.special_tokens_map)"
      ]
    },
    {
      "cell_type": "markdown",
      "metadata": {
        "id": "OPKMnxpfjiVu"
      },
      "source": [
        "## ***Charger le modèle et séparer le token unk_token (par défaut <|endoftext|>) et le redéfinir comme <|unknown|>***"
      ]
    },
    {
      "cell_type": "code",
      "execution_count": 120,
      "metadata": {
        "id": "lx1EiXY7jiVu"
      },
      "outputs": [],
      "source": [
        "from transformers import AutoModelForCausalLM\n",
        "# Ajouter un nouveau token spécial\n",
        "#tokenizer.add_special_tokens({\"unk_token\": \"<|unknown|>\"})\n",
        "#tokenizer.add_special_tokens({\"pad_token\": \"<|unknown|>\"})\n",
        "\n",
        "# Charger le modèle\n",
        "#model = AutoModelForCausalLM.from_pretrained(\"EleutherAI/gpt-neo-125M\")\n",
        "model = GPT2LMHeadModel.from_pretrained('gpt2', pad_token_id=tokenizer.eos_token_id)"
      ]
    },
    {
      "cell_type": "code",
      "source": [
        "print(\"The max model length is {} for this model\".format(tokenizer.model_max_length))\n",
        "print(\"The beginning of sequence token {} token has the id {}\".format(tokenizer.convert_ids_to_tokens(tokenizer.bos_token_id), tokenizer.bos_token_id))\n",
        "print(\"The end of sequence token {} has the id {}\".format(tokenizer.convert_ids_to_tokens(tokenizer.eos_token_id), tokenizer.eos_token_id))"
      ],
      "metadata": {
        "colab": {
          "base_uri": "https://localhost:8080/"
        },
        "id": "9hO1-bJ7R6W1",
        "outputId": "7c1af0cb-3beb-4850-bcfb-37b85fbf940b"
      },
      "execution_count": 121,
      "outputs": [
        {
          "output_type": "stream",
          "name": "stdout",
          "text": [
            "The max model length is 1024 for this model\n",
            "The beginning of sequence token <|endoftext|> token has the id 50256\n",
            "The end of sequence token <|endoftext|> has the id 50256\n"
          ]
        }
      ]
    },
    {
      "cell_type": "code",
      "source": [
        "tokenizer.vocab_size"
      ],
      "metadata": {
        "colab": {
          "base_uri": "https://localhost:8080/"
        },
        "id": "7vTv9-snSNNd",
        "outputId": "82e117e2-be04-47a1-8462-a8c6e2d4936f"
      },
      "execution_count": 122,
      "outputs": [
        {
          "output_type": "execute_result",
          "data": {
            "text/plain": [
              "50257"
            ]
          },
          "metadata": {},
          "execution_count": 122
        }
      ]
    },
    {
      "cell_type": "code",
      "source": [
        "tokenizer"
      ],
      "metadata": {
        "colab": {
          "base_uri": "https://localhost:8080/"
        },
        "id": "1iIDzoj8SQsy",
        "outputId": "48e2488e-0718-476e-9ee1-4ffdd1d5586e"
      },
      "execution_count": 123,
      "outputs": [
        {
          "output_type": "execute_result",
          "data": {
            "text/plain": [
              "GPT2Tokenizer(name_or_path='gpt2', vocab_size=50257, model_max_length=1024, is_fast=False, padding_side='right', truncation_side='right', special_tokens={'bos_token': '<|endoftext|>', 'eos_token': '<|endoftext|>', 'unk_token': '<|endoftext|>'}, clean_up_tokenization_spaces=False, added_tokens_decoder={\n",
              "\t50256: AddedToken(\"<|endoftext|>\", rstrip=False, lstrip=False, single_word=False, normalized=True, special=True),\n",
              "}\n",
              ")"
            ]
          },
          "metadata": {},
          "execution_count": 123
        }
      ]
    },
    {
      "cell_type": "code",
      "source": [
        "tokenizer.all_special_tokens"
      ],
      "metadata": {
        "colab": {
          "base_uri": "https://localhost:8080/"
        },
        "id": "SgSAqNGeSUFG",
        "outputId": "a2f378bd-38ad-4eab-a30a-a504f0b81434"
      },
      "execution_count": 124,
      "outputs": [
        {
          "output_type": "execute_result",
          "data": {
            "text/plain": [
              "['<|endoftext|>']"
            ]
          },
          "metadata": {},
          "execution_count": 124
        }
      ]
    },
    {
      "cell_type": "code",
      "source": [
        "tokenizer.eos_token_id"
      ],
      "metadata": {
        "colab": {
          "base_uri": "https://localhost:8080/"
        },
        "id": "7f5soFVySZpA",
        "outputId": "41a36752-af00-4381-bd3a-dc90f186ee0a"
      },
      "execution_count": 125,
      "outputs": [
        {
          "output_type": "execute_result",
          "data": {
            "text/plain": [
              "50256"
            ]
          },
          "metadata": {},
          "execution_count": 125
        }
      ]
    },
    {
      "cell_type": "code",
      "source": [
        "#tokenizer.max_model_input_sizes"
      ],
      "metadata": {
        "id": "lbER3N3iSdtW"
      },
      "execution_count": 136,
      "outputs": []
    },
    {
      "cell_type": "code",
      "source": [
        "sentence = 'I am a Data Science and Artificial Inteligence Dev who know to train a model'\n",
        "input_ids  = tokenizer.encode(sentence, return_tensors = 'pt')"
      ],
      "metadata": {
        "id": "JV9fkW3DS43M"
      },
      "execution_count": 133,
      "outputs": []
    },
    {
      "cell_type": "code",
      "source": [
        "input_ids"
      ],
      "metadata": {
        "colab": {
          "base_uri": "https://localhost:8080/"
        },
        "id": "pwhgJKrSS4yo",
        "outputId": "13aba030-2134-4b90-e2d8-aeb3d35aae7d"
      },
      "execution_count": 134,
      "outputs": [
        {
          "output_type": "execute_result",
          "data": {
            "text/plain": [
              "tensor([[   40,   716,   257,  6060,  5800,   290, 35941,  8180,   328,   594,\n",
              "          6245,   508,   760,   284,  4512,   257,  2746]])"
            ]
          },
          "metadata": {},
          "execution_count": 134
        }
      ]
    },
    {
      "cell_type": "code",
      "source": [
        "tokenizer.decode(input_ids[0][7])"
      ],
      "metadata": {
        "colab": {
          "base_uri": "https://localhost:8080/",
          "height": 35
        },
        "id": "wgEzOntxTBYj",
        "outputId": "477a5cf1-1853-4a46-c40b-9df069f4a2b1"
      },
      "execution_count": 137,
      "outputs": [
        {
          "output_type": "execute_result",
          "data": {
            "text/plain": [
              "' Intel'"
            ],
            "application/vnd.google.colaboratory.intrinsic+json": {
              "type": "string"
            }
          },
          "metadata": {},
          "execution_count": 137
        }
      ]
    },
    {
      "cell_type": "code",
      "source": [
        "greedy_output = model.generate(input_ids, max_length=100, no_repeat_ngram_size=2)"
      ],
      "metadata": {
        "colab": {
          "base_uri": "https://localhost:8080/"
        },
        "id": "L5dRgRkJTBU5",
        "outputId": "0a542b83-29f8-4d53-e418-57551cdffeff"
      },
      "execution_count": 138,
      "outputs": [
        {
          "output_type": "stream",
          "name": "stderr",
          "text": [
            "The attention mask is not set and cannot be inferred from input because pad token is same as eos token. As a consequence, you may observe unexpected behavior. Please pass your input's `attention_mask` to obtain reliable results.\n"
          ]
        }
      ]
    },
    {
      "cell_type": "code",
      "source": [
        "for i, output in enumerate(greedy_output):\n",
        "  print(\"{}: {}...\".format(i, tokenizer.decode(output, skip_special_tokens=True)))\n",
        "  print('#'*50)"
      ],
      "metadata": {
        "colab": {
          "base_uri": "https://localhost:8080/"
        },
        "id": "d1MgMEZbTBOz",
        "outputId": "2854c292-c2d4-4dc2-ccf2-433ebd0edf82"
      },
      "execution_count": 139,
      "outputs": [
        {
          "output_type": "stream",
          "name": "stdout",
          "text": [
            "0: I am a Data Science and Artificial Inteligence Dev who know to train a model to be able to do things like this. I am also a data scientist who has been working on this for a long time.\n",
            "\n",
            "I have been doing this since I was a kid. It is a very hard job. You have to learn how to use data to make predictions. The best way to get a good idea of what you are doing is to look at the data. If you look, you...\n",
            "##################################################\n"
          ]
        }
      ]
    },
    {
      "cell_type": "code",
      "source": [],
      "metadata": {
        "id": "T27BPYRNSdo-"
      },
      "execution_count": null,
      "outputs": []
    },
    {
      "cell_type": "code",
      "source": [
        "tokenizer.add_special_tokens({\"additional_special_tokens\": [\"<|newline|>\", \"<|pad|>\"]})\n",
        "\n",
        "# Vérifie et ajoute le token de padding si nécessaire\n",
        "if tokenizer.pad_token is None:\n",
        "    tokenizer.add_special_tokens({\"pad_token\": \"<|pad|>\"})\n",
        "\n",
        "# Redimensionne les embeddings pour inclure les nouveaux tokens\n",
        "model.resize_token_embeddings(len(tokenizer))\n",
        "\n",
        "# Vérifier les tokens spéciaux après modification\n",
        "print(\"Tokens spéciaux :\", tokenizer.special_tokens_map)\n",
        "\n",
        "# Vérifier si le token '<|unknown|>' a été ajouté au vocabulaire\n",
        "print(\"ID du token '<|pad|>' :\", tokenizer.convert_tokens_to_ids(\"<|pad|>\"))"
      ],
      "metadata": {
        "id": "Xhg4Ug41SBrm"
      },
      "execution_count": null,
      "outputs": []
    },
    {
      "cell_type": "code",
      "source": [],
      "metadata": {
        "id": "EOvzkHmQSBlE"
      },
      "execution_count": null,
      "outputs": []
    },
    {
      "cell_type": "code",
      "execution_count": 77,
      "metadata": {
        "colab": {
          "base_uri": "https://localhost:8080/"
        },
        "id": "DdEjvoTljiVv",
        "outputId": "04aaf2ab-9e44-44e8-e8a0-c54c6001066f"
      },
      "outputs": [
        {
          "output_type": "execute_result",
          "data": {
            "text/plain": [
              "Embedding(50260, 768)"
            ]
          },
          "metadata": {},
          "execution_count": 77
        }
      ],
      "source": [
        "model.resize_token_embeddings(len(tokenizer))"
      ]
    },
    {
      "cell_type": "code",
      "execution_count": 78,
      "metadata": {
        "colab": {
          "base_uri": "https://localhost:8080/"
        },
        "id": "8gSKFFp4jiVw",
        "outputId": "52fac23d-2b37-4a13-bb07-5ce9b8303ba0"
      },
      "outputs": [
        {
          "output_type": "stream",
          "name": "stdout",
          "text": [
            "Taille du vocabulaire du tokenizer : 50260\n",
            "Taille du vocabulaire du modèle : 50260\n"
          ]
        }
      ],
      "source": [
        "print(\"Taille du vocabulaire du tokenizer :\", len(tokenizer))\n",
        "print(\"Taille du vocabulaire du modèle :\", model.config.vocab_size)"
      ]
    },
    {
      "cell_type": "markdown",
      "metadata": {
        "id": "zKJ_4LXWjiVw"
      },
      "source": [
        "## ***Ajouter les tokens préalablement créés au tokenizer***"
      ]
    },
    {
      "cell_type": "code",
      "execution_count": 79,
      "metadata": {
        "colab": {
          "base_uri": "https://localhost:8080/"
        },
        "id": "Hz6LLVtRjiVw",
        "outputId": "c7ff7da8-4bcd-43e5-cdff-d532cb253414"
      },
      "outputs": [
        {
          "output_type": "stream",
          "name": "stdout",
          "text": [
            "Tokens spéciaux : {'bos_token': '<|endoftext|>', 'eos_token': '<|endoftext|>', 'unk_token': '<|unknown|>', 'pad_token': '<|unknown|>', 'additional_special_tokens': ['<|newline|>', '<|pad|>']}\n"
          ]
        }
      ],
      "source": [
        "# Ajouter les nouveaux tokens\n",
        "new_tokens = {\"additional_special_tokens\": [\"<|newline|>\", \"<|pad|>\"]}\n",
        "\n",
        "# Vérifier et ajouter le token de padding s'il n'existe pas\n",
        "if tokenizer.pad_token is None:\n",
        "    new_tokens[\"pad_token\"] = \"<|pad|>\"\n",
        "\n",
        "# Ajouter les tokens au tokenizer\n",
        "tokenizer.add_special_tokens(new_tokens)\n",
        "\n",
        "# Vérifier que les tokens ont été ajoutés\n",
        "print(\"Tokens spéciaux :\", tokenizer.special_tokens_map)\n"
      ]
    },
    {
      "cell_type": "markdown",
      "metadata": {
        "id": "SuKF08m1jiVx"
      },
      "source": [
        "## ***Redimensionner le modèle*** ##"
      ]
    },
    {
      "cell_type": "markdown",
      "metadata": {
        "id": "L9IM5Zm2jiVx"
      },
      "source": [
        "Après avoir ajouté les nouveaux tokens au tokenizer, il est essentiel de redimensionner les embeddings du modèle pour inclure les nouveaux tokens"
      ]
    },
    {
      "cell_type": "code",
      "execution_count": 80,
      "metadata": {
        "colab": {
          "base_uri": "https://localhost:8080/"
        },
        "id": "p74mlOBOjiVy",
        "outputId": "6c722398-ec4d-48d1-e4af-d8d3d8af0157"
      },
      "outputs": [
        {
          "output_type": "stream",
          "name": "stdout",
          "text": [
            "Taille du vocabulaire du tokenizer : 50260\n",
            "Taille du vocabulaire du modèle : 50260\n"
          ]
        }
      ],
      "source": [
        "# Redimensionner les embeddings du modèle\n",
        "model.resize_token_embeddings(len(tokenizer))\n",
        "\n",
        "# Vérifier la taille du vocabulaire après modification\n",
        "print(\"Taille du vocabulaire du tokenizer :\", len(tokenizer))\n",
        "print(\"Taille du vocabulaire du modèle :\", model.config.vocab_size)"
      ]
    },
    {
      "cell_type": "code",
      "execution_count": 48,
      "metadata": {
        "colab": {
          "base_uri": "https://localhost:8080/",
          "height": 206
        },
        "id": "PHdcniFOjiVy",
        "outputId": "e308cd1c-4747-45b5-adc9-07f52fa9a14c"
      },
      "outputs": [
        {
          "output_type": "execute_result",
          "data": {
            "text/plain": [
              "                                              prompt  \\\n",
              "0  Compose une œuvre poétique sur Les deux bonnes...   \n",
              "1  Crée un poème autour de : Je ne vois pas pourq...   \n",
              "2  Écris un poème sur le thème : J'ai tout donné ...   \n",
              "3  Donne-moi un poème avec pour thème principal :...   \n",
              "4  Propose un poème sur le sujet suivant : À deux...   \n",
              "\n",
              "                                                text  \n",
              "0  Sonnet.<|newline|>La Débauche et la Mort sont ...  \n",
              "1  Je ne vois pas pourquoi je ferais autre chose<...  \n",
              "2  On peut m'aimer sans honte,<|newline|>La couro...  \n",
              "3                          La dure épreuve va finir   \n",
              "4  Vous avez un regard singulier et charmant ;<|n...  "
            ],
            "text/html": [
              "\n",
              "  <div id=\"df-5ec771c4-5db4-41bb-8c3a-520407648933\" class=\"colab-df-container\">\n",
              "    <div>\n",
              "<style scoped>\n",
              "    .dataframe tbody tr th:only-of-type {\n",
              "        vertical-align: middle;\n",
              "    }\n",
              "\n",
              "    .dataframe tbody tr th {\n",
              "        vertical-align: top;\n",
              "    }\n",
              "\n",
              "    .dataframe thead th {\n",
              "        text-align: right;\n",
              "    }\n",
              "</style>\n",
              "<table border=\"1\" class=\"dataframe\">\n",
              "  <thead>\n",
              "    <tr style=\"text-align: right;\">\n",
              "      <th></th>\n",
              "      <th>prompt</th>\n",
              "      <th>text</th>\n",
              "    </tr>\n",
              "  </thead>\n",
              "  <tbody>\n",
              "    <tr>\n",
              "      <th>0</th>\n",
              "      <td>Compose une œuvre poétique sur Les deux bonnes...</td>\n",
              "      <td>Sonnet.&lt;|newline|&gt;La Débauche et la Mort sont ...</td>\n",
              "    </tr>\n",
              "    <tr>\n",
              "      <th>1</th>\n",
              "      <td>Crée un poème autour de : Je ne vois pas pourq...</td>\n",
              "      <td>Je ne vois pas pourquoi je ferais autre chose&lt;...</td>\n",
              "    </tr>\n",
              "    <tr>\n",
              "      <th>2</th>\n",
              "      <td>Écris un poème sur le thème : J'ai tout donné ...</td>\n",
              "      <td>On peut m'aimer sans honte,&lt;|newline|&gt;La couro...</td>\n",
              "    </tr>\n",
              "    <tr>\n",
              "      <th>3</th>\n",
              "      <td>Donne-moi un poème avec pour thème principal :...</td>\n",
              "      <td>La dure épreuve va finir</td>\n",
              "    </tr>\n",
              "    <tr>\n",
              "      <th>4</th>\n",
              "      <td>Propose un poème sur le sujet suivant : À deux...</td>\n",
              "      <td>Vous avez un regard singulier et charmant ;&lt;|n...</td>\n",
              "    </tr>\n",
              "  </tbody>\n",
              "</table>\n",
              "</div>\n",
              "    <div class=\"colab-df-buttons\">\n",
              "\n",
              "  <div class=\"colab-df-container\">\n",
              "    <button class=\"colab-df-convert\" onclick=\"convertToInteractive('df-5ec771c4-5db4-41bb-8c3a-520407648933')\"\n",
              "            title=\"Convert this dataframe to an interactive table.\"\n",
              "            style=\"display:none;\">\n",
              "\n",
              "  <svg xmlns=\"http://www.w3.org/2000/svg\" height=\"24px\" viewBox=\"0 -960 960 960\">\n",
              "    <path d=\"M120-120v-720h720v720H120Zm60-500h600v-160H180v160Zm220 220h160v-160H400v160Zm0 220h160v-160H400v160ZM180-400h160v-160H180v160Zm440 0h160v-160H620v160ZM180-180h160v-160H180v160Zm440 0h160v-160H620v160Z\"/>\n",
              "  </svg>\n",
              "    </button>\n",
              "\n",
              "  <style>\n",
              "    .colab-df-container {\n",
              "      display:flex;\n",
              "      gap: 12px;\n",
              "    }\n",
              "\n",
              "    .colab-df-convert {\n",
              "      background-color: #E8F0FE;\n",
              "      border: none;\n",
              "      border-radius: 50%;\n",
              "      cursor: pointer;\n",
              "      display: none;\n",
              "      fill: #1967D2;\n",
              "      height: 32px;\n",
              "      padding: 0 0 0 0;\n",
              "      width: 32px;\n",
              "    }\n",
              "\n",
              "    .colab-df-convert:hover {\n",
              "      background-color: #E2EBFA;\n",
              "      box-shadow: 0px 1px 2px rgba(60, 64, 67, 0.3), 0px 1px 3px 1px rgba(60, 64, 67, 0.15);\n",
              "      fill: #174EA6;\n",
              "    }\n",
              "\n",
              "    .colab-df-buttons div {\n",
              "      margin-bottom: 4px;\n",
              "    }\n",
              "\n",
              "    [theme=dark] .colab-df-convert {\n",
              "      background-color: #3B4455;\n",
              "      fill: #D2E3FC;\n",
              "    }\n",
              "\n",
              "    [theme=dark] .colab-df-convert:hover {\n",
              "      background-color: #434B5C;\n",
              "      box-shadow: 0px 1px 3px 1px rgba(0, 0, 0, 0.15);\n",
              "      filter: drop-shadow(0px 1px 2px rgba(0, 0, 0, 0.3));\n",
              "      fill: #FFFFFF;\n",
              "    }\n",
              "  </style>\n",
              "\n",
              "    <script>\n",
              "      const buttonEl =\n",
              "        document.querySelector('#df-5ec771c4-5db4-41bb-8c3a-520407648933 button.colab-df-convert');\n",
              "      buttonEl.style.display =\n",
              "        google.colab.kernel.accessAllowed ? 'block' : 'none';\n",
              "\n",
              "      async function convertToInteractive(key) {\n",
              "        const element = document.querySelector('#df-5ec771c4-5db4-41bb-8c3a-520407648933');\n",
              "        const dataTable =\n",
              "          await google.colab.kernel.invokeFunction('convertToInteractive',\n",
              "                                                    [key], {});\n",
              "        if (!dataTable) return;\n",
              "\n",
              "        const docLinkHtml = 'Like what you see? Visit the ' +\n",
              "          '<a target=\"_blank\" href=https://colab.research.google.com/notebooks/data_table.ipynb>data table notebook</a>'\n",
              "          + ' to learn more about interactive tables.';\n",
              "        element.innerHTML = '';\n",
              "        dataTable['output_type'] = 'display_data';\n",
              "        await google.colab.output.renderOutput(dataTable, element);\n",
              "        const docLink = document.createElement('div');\n",
              "        docLink.innerHTML = docLinkHtml;\n",
              "        element.appendChild(docLink);\n",
              "      }\n",
              "    </script>\n",
              "  </div>\n",
              "\n",
              "\n",
              "<div id=\"df-87760b4c-6ccd-407f-95a8-41df3e0c8f4e\">\n",
              "  <button class=\"colab-df-quickchart\" onclick=\"quickchart('df-87760b4c-6ccd-407f-95a8-41df3e0c8f4e')\"\n",
              "            title=\"Suggest charts\"\n",
              "            style=\"display:none;\">\n",
              "\n",
              "<svg xmlns=\"http://www.w3.org/2000/svg\" height=\"24px\"viewBox=\"0 0 24 24\"\n",
              "     width=\"24px\">\n",
              "    <g>\n",
              "        <path d=\"M19 3H5c-1.1 0-2 .9-2 2v14c0 1.1.9 2 2 2h14c1.1 0 2-.9 2-2V5c0-1.1-.9-2-2-2zM9 17H7v-7h2v7zm4 0h-2V7h2v10zm4 0h-2v-4h2v4z\"/>\n",
              "    </g>\n",
              "</svg>\n",
              "  </button>\n",
              "\n",
              "<style>\n",
              "  .colab-df-quickchart {\n",
              "      --bg-color: #E8F0FE;\n",
              "      --fill-color: #1967D2;\n",
              "      --hover-bg-color: #E2EBFA;\n",
              "      --hover-fill-color: #174EA6;\n",
              "      --disabled-fill-color: #AAA;\n",
              "      --disabled-bg-color: #DDD;\n",
              "  }\n",
              "\n",
              "  [theme=dark] .colab-df-quickchart {\n",
              "      --bg-color: #3B4455;\n",
              "      --fill-color: #D2E3FC;\n",
              "      --hover-bg-color: #434B5C;\n",
              "      --hover-fill-color: #FFFFFF;\n",
              "      --disabled-bg-color: #3B4455;\n",
              "      --disabled-fill-color: #666;\n",
              "  }\n",
              "\n",
              "  .colab-df-quickchart {\n",
              "    background-color: var(--bg-color);\n",
              "    border: none;\n",
              "    border-radius: 50%;\n",
              "    cursor: pointer;\n",
              "    display: none;\n",
              "    fill: var(--fill-color);\n",
              "    height: 32px;\n",
              "    padding: 0;\n",
              "    width: 32px;\n",
              "  }\n",
              "\n",
              "  .colab-df-quickchart:hover {\n",
              "    background-color: var(--hover-bg-color);\n",
              "    box-shadow: 0 1px 2px rgba(60, 64, 67, 0.3), 0 1px 3px 1px rgba(60, 64, 67, 0.15);\n",
              "    fill: var(--button-hover-fill-color);\n",
              "  }\n",
              "\n",
              "  .colab-df-quickchart-complete:disabled,\n",
              "  .colab-df-quickchart-complete:disabled:hover {\n",
              "    background-color: var(--disabled-bg-color);\n",
              "    fill: var(--disabled-fill-color);\n",
              "    box-shadow: none;\n",
              "  }\n",
              "\n",
              "  .colab-df-spinner {\n",
              "    border: 2px solid var(--fill-color);\n",
              "    border-color: transparent;\n",
              "    border-bottom-color: var(--fill-color);\n",
              "    animation:\n",
              "      spin 1s steps(1) infinite;\n",
              "  }\n",
              "\n",
              "  @keyframes spin {\n",
              "    0% {\n",
              "      border-color: transparent;\n",
              "      border-bottom-color: var(--fill-color);\n",
              "      border-left-color: var(--fill-color);\n",
              "    }\n",
              "    20% {\n",
              "      border-color: transparent;\n",
              "      border-left-color: var(--fill-color);\n",
              "      border-top-color: var(--fill-color);\n",
              "    }\n",
              "    30% {\n",
              "      border-color: transparent;\n",
              "      border-left-color: var(--fill-color);\n",
              "      border-top-color: var(--fill-color);\n",
              "      border-right-color: var(--fill-color);\n",
              "    }\n",
              "    40% {\n",
              "      border-color: transparent;\n",
              "      border-right-color: var(--fill-color);\n",
              "      border-top-color: var(--fill-color);\n",
              "    }\n",
              "    60% {\n",
              "      border-color: transparent;\n",
              "      border-right-color: var(--fill-color);\n",
              "    }\n",
              "    80% {\n",
              "      border-color: transparent;\n",
              "      border-right-color: var(--fill-color);\n",
              "      border-bottom-color: var(--fill-color);\n",
              "    }\n",
              "    90% {\n",
              "      border-color: transparent;\n",
              "      border-bottom-color: var(--fill-color);\n",
              "    }\n",
              "  }\n",
              "</style>\n",
              "\n",
              "  <script>\n",
              "    async function quickchart(key) {\n",
              "      const quickchartButtonEl =\n",
              "        document.querySelector('#' + key + ' button');\n",
              "      quickchartButtonEl.disabled = true;  // To prevent multiple clicks.\n",
              "      quickchartButtonEl.classList.add('colab-df-spinner');\n",
              "      try {\n",
              "        const charts = await google.colab.kernel.invokeFunction(\n",
              "            'suggestCharts', [key], {});\n",
              "      } catch (error) {\n",
              "        console.error('Error during call to suggestCharts:', error);\n",
              "      }\n",
              "      quickchartButtonEl.classList.remove('colab-df-spinner');\n",
              "      quickchartButtonEl.classList.add('colab-df-quickchart-complete');\n",
              "    }\n",
              "    (() => {\n",
              "      let quickchartButtonEl =\n",
              "        document.querySelector('#df-87760b4c-6ccd-407f-95a8-41df3e0c8f4e button');\n",
              "      quickchartButtonEl.style.display =\n",
              "        google.colab.kernel.accessAllowed ? 'block' : 'none';\n",
              "    })();\n",
              "  </script>\n",
              "</div>\n",
              "\n",
              "    </div>\n",
              "  </div>\n"
            ],
            "application/vnd.google.colaboratory.intrinsic+json": {
              "type": "dataframe",
              "variable_name": "df",
              "summary": "{\n  \"name\": \"df\",\n  \"rows\": 1330,\n  \"fields\": [\n    {\n      \"column\": \"prompt\",\n      \"properties\": {\n        \"dtype\": \"string\",\n        \"num_unique_values\": 1329,\n        \"samples\": [\n          \"\\u00c9cris un po\\u00e8me sur le th\\u00e8me : Printemps\",\n          \"Con\\u00e7ois un po\\u00e8me ayant comme sujet : II ne faut s'\\u00e9bahir, disaient ces bons vieillards\",\n          \"R\\u00e9dige un po\\u00e8me \\u00e0 propos de Croquis parisien\"\n        ],\n        \"semantic_type\": \"\",\n        \"description\": \"\"\n      }\n    },\n    {\n      \"column\": \"text\",\n      \"properties\": {\n        \"dtype\": \"string\",\n        \"num_unique_values\": 1320,\n        \"samples\": [\n          \"Car le petit pr\\u00e9sent qu'un loyal ami donne,<|newline|>Passe des puissants rois le sceptre et la couronne.\",\n          \"Heureux l'homme, occup\\u00e9 de l'\\u00e9ternel destin,<|newline|>Qui, tel qu'un voyageur qui part de grand matin,<|newline|>Se r\\u00e9veille, l'esprit rempli de r\\u00eaverie,<|newline|>Et, d\\u00e8s l'aube du jour, se met \\u00e0 lire et prie !<|newline|>A mesure qu'il lit, le jour vient lentement<|newline|>Et se fait dans son \\u00e2me ainsi qu'au firmament.<|newline|>Il voit distinctement, \\u00e0 cette clart\\u00e9 bl\\u00eame,<|newline|>Des choses dans sa chambre et d'autres en lui-m\\u00eame ;<|newline|>Tout dort dans la maison ; il est seul, il le croit ;<|newline|>Et, cependant, fermant leur bouche de leur doigt,<|newline|>Derri\\u00e8re lui, tandis que l'extase l'enivre,<|newline|>Les anges souriants se penchent sur son livre.<|newline|>Paris, septembre 1842.\",\n          \"Sur le vieux pont verdi de mousse,<|newline|>Et tout rong\\u00e9 de lichens roux,<|newline|>Deux amants parlaient \\u00e0 voix douce \"\n        ],\n        \"semantic_type\": \"\",\n        \"description\": \"\"\n      }\n    }\n  ]\n}"
            }
          },
          "metadata": {},
          "execution_count": 48
        }
      ],
      "source": [
        "df.head()"
      ]
    },
    {
      "cell_type": "code",
      "execution_count": 49,
      "metadata": {
        "colab": {
          "base_uri": "https://localhost:8080/"
        },
        "id": "RNWhfweMjiVz",
        "outputId": "c9602768-2254-4186-d18c-17ab41edca31"
      },
      "outputs": [
        {
          "output_type": "stream",
          "name": "stdout",
          "text": [
            "Index(['prompt', 'text'], dtype='object')\n"
          ]
        }
      ],
      "source": [
        "print(df.columns)"
      ]
    },
    {
      "cell_type": "code",
      "execution_count": 50,
      "metadata": {
        "colab": {
          "base_uri": "https://localhost:8080/",
          "height": 459
        },
        "id": "OwjRIcPOjiVz",
        "outputId": "13ae8b70-0770-40f6-fdd6-add9332ded09"
      },
      "outputs": [
        {
          "output_type": "execute_result",
          "data": {
            "text/plain": [
              "0       Compose une œuvre poétique sur Les deux bonnes...\n",
              "1       Crée un poème autour de : Je ne vois pas pourq...\n",
              "2       Écris un poème sur le thème : J'ai tout donné ...\n",
              "3       Donne-moi un poème avec pour thème principal :...\n",
              "4       Propose un poème sur le sujet suivant : À deux...\n",
              "                              ...                        \n",
              "1404    Donne-moi un poème avec pour thème principal :...\n",
              "1405    Un poème inspiré de La mort d'une libellule, s...\n",
              "1406    Un poème inspiré de À Mademoiselle ***, s'il t...\n",
              "1407    Un poème autour de J'ai rêvé de toi cette nuit...\n",
              "1408    Donne-moi un poème avec pour thème principal :...\n",
              "Name: prompt, Length: 1330, dtype: object"
            ],
            "text/html": [
              "<div>\n",
              "<style scoped>\n",
              "    .dataframe tbody tr th:only-of-type {\n",
              "        vertical-align: middle;\n",
              "    }\n",
              "\n",
              "    .dataframe tbody tr th {\n",
              "        vertical-align: top;\n",
              "    }\n",
              "\n",
              "    .dataframe thead th {\n",
              "        text-align: right;\n",
              "    }\n",
              "</style>\n",
              "<table border=\"1\" class=\"dataframe\">\n",
              "  <thead>\n",
              "    <tr style=\"text-align: right;\">\n",
              "      <th></th>\n",
              "      <th>prompt</th>\n",
              "    </tr>\n",
              "  </thead>\n",
              "  <tbody>\n",
              "    <tr>\n",
              "      <th>0</th>\n",
              "      <td>Compose une œuvre poétique sur Les deux bonnes...</td>\n",
              "    </tr>\n",
              "    <tr>\n",
              "      <th>1</th>\n",
              "      <td>Crée un poème autour de : Je ne vois pas pourq...</td>\n",
              "    </tr>\n",
              "    <tr>\n",
              "      <th>2</th>\n",
              "      <td>Écris un poème sur le thème : J'ai tout donné ...</td>\n",
              "    </tr>\n",
              "    <tr>\n",
              "      <th>3</th>\n",
              "      <td>Donne-moi un poème avec pour thème principal :...</td>\n",
              "    </tr>\n",
              "    <tr>\n",
              "      <th>4</th>\n",
              "      <td>Propose un poème sur le sujet suivant : À deux...</td>\n",
              "    </tr>\n",
              "    <tr>\n",
              "      <th>...</th>\n",
              "      <td>...</td>\n",
              "    </tr>\n",
              "    <tr>\n",
              "      <th>1404</th>\n",
              "      <td>Donne-moi un poème avec pour thème principal :...</td>\n",
              "    </tr>\n",
              "    <tr>\n",
              "      <th>1405</th>\n",
              "      <td>Un poème inspiré de La mort d'une libellule, s...</td>\n",
              "    </tr>\n",
              "    <tr>\n",
              "      <th>1406</th>\n",
              "      <td>Un poème inspiré de À Mademoiselle ***, s'il t...</td>\n",
              "    </tr>\n",
              "    <tr>\n",
              "      <th>1407</th>\n",
              "      <td>Un poème autour de J'ai rêvé de toi cette nuit...</td>\n",
              "    </tr>\n",
              "    <tr>\n",
              "      <th>1408</th>\n",
              "      <td>Donne-moi un poème avec pour thème principal :...</td>\n",
              "    </tr>\n",
              "  </tbody>\n",
              "</table>\n",
              "<p>1330 rows × 1 columns</p>\n",
              "</div><br><label><b>dtype:</b> object</label>"
            ]
          },
          "metadata": {},
          "execution_count": 50
        }
      ],
      "source": [
        "df[\"prompt\"]"
      ]
    },
    {
      "cell_type": "markdown",
      "metadata": {
        "id": "pnKJCOVSjiV0"
      },
      "source": [
        "GPT-Neo n'accepte qu'une seule séquence d'entrée à la fois. Par conséquent, il est nécessaire de fusionner les deux colonnes de texte en une seule séquence avant de les fournir au modèle."
      ]
    },
    {
      "cell_type": "code",
      "execution_count": 81,
      "metadata": {
        "id": "psxdlRSgjiV0"
      },
      "outputs": [],
      "source": [
        "df['combined'] = df['prompt'] + ' ' + df['text']"
      ]
    },
    {
      "cell_type": "markdown",
      "metadata": {
        "id": "4pEKsRaWjiV1"
      },
      "source": [
        "## ***Train Test Split*** ##"
      ]
    },
    {
      "cell_type": "code",
      "execution_count": 103,
      "metadata": {
        "id": "EdUhZQJ4jiV1"
      },
      "outputs": [],
      "source": [
        "from sklearn.model_selection import train_test_split\n",
        "\n",
        "# Supposons que 'df' soit votre DataFrame contenant les données\n",
        "train_df, test_df = train_test_split(df, test_size=0.2, random_state=42)"
      ]
    },
    {
      "cell_type": "markdown",
      "metadata": {
        "id": "pASB8YY6jiV2"
      },
      "source": [
        "## ***Convertir le dataframe en hugging face dataframe*** ##"
      ]
    },
    {
      "cell_type": "code",
      "execution_count": 100,
      "metadata": {
        "id": "PE-qE_s4jiV4"
      },
      "outputs": [],
      "source": [
        "\"\"\"# Enlever l'index pour éviter que la création de la colonne '__index_level_0__'\n",
        "df_reset = df.reset_index(drop=True)\n",
        "\n",
        "# Convertir le dataset en datframe hugging face\n",
        "from datasets import Dataset\n",
        "\n",
        "train_dataset = Dataset.from_pandas(train_df, preserve_index=False)\n",
        "test_dataset = Dataset.from_pandas(test_df, preserve_index=False)\"\"\""
      ]
    },
    {
      "cell_type": "code",
      "source": [
        "# Réinitialiser l'index pour éviter l'ajout d'une colonne '__index_level_0__'\n",
        "train_df = train_df.reset_index(drop=True)\n",
        "test_df = test_df.reset_index(drop=True)\n"
      ],
      "metadata": {
        "id": "2g_GipygP7jx"
      },
      "execution_count": 104,
      "outputs": []
    },
    {
      "cell_type": "code",
      "source": [
        "# Convertir les DataFrames en datasets Hugging Face\n",
        "from datasets import Dataset\n",
        "\n",
        "train_dataset = Dataset.from_pandas(train_df, preserve_index=False)\n",
        "test_dataset = Dataset.from_pandas(test_df, preserve_index=False)\n"
      ],
      "metadata": {
        "id": "-8JdnTJ5P-dR"
      },
      "execution_count": 105,
      "outputs": []
    },
    {
      "cell_type": "code",
      "execution_count": 108,
      "metadata": {
        "colab": {
          "base_uri": "https://localhost:8080/"
        },
        "id": "DNjheBIvjiV7",
        "outputId": "fdc016c9-0143-4e6d-e4ba-bb3e5eb2f696"
      },
      "outputs": [
        {
          "output_type": "execute_result",
          "data": {
            "text/plain": [
              "{'prompt': \"Invente un poème portant sur : Chant d'amour (II)\",\n",
              " 'text': \"Telle, pour sommeiller, la blanche tourterelle<|newline|>Courbe son cou d'albâtre et ramène son aile<|newline|>Sur son oeil endormi !<|newline|>Le doux gémissement de son sein qui respire<|newline|>Se mêle au bruit plaintif de l'onde qui soupire<|newline|>À flots harmonieux ;<|newline|>Et l'ombre de ses cils, que le zéphyr soulève,<|newline|>Flotte légèrement comme l'ombre d'un rêve<|newline|>Qui passe sur ses yeux !<|newline|>.................................................<|newline|>Que ton sommeil est doux, ô vierge ! ô ma colombe !<|newline|>Comme d'un cours égal ton sein monte et retombe<|newline|>Avec un long soupir !<|newline|>Deux vagues que blanchit le rayon de la lune,<|newline|>D'un mouvement moins doux viennent l'une après l'une<|newline|>Murmurer et mourir !<|newline|>Laisse-moi respirer sur ces lèvres vermeilles<|newline|>Ce souffle parfumé !...Qu'ai-je fait ? Tu t'éveilles \",\n",
              " 'combined': \"Invente un poème portant sur : Chant d'amour (II) Telle, pour sommeiller, la blanche tourterelle<|newline|>Courbe son cou d'albâtre et ramène son aile<|newline|>Sur son oeil endormi !<|newline|>Le doux gémissement de son sein qui respire<|newline|>Se mêle au bruit plaintif de l'onde qui soupire<|newline|>À flots harmonieux ;<|newline|>Et l'ombre de ses cils, que le zéphyr soulève,<|newline|>Flotte légèrement comme l'ombre d'un rêve<|newline|>Qui passe sur ses yeux !<|newline|>.................................................<|newline|>Que ton sommeil est doux, ô vierge ! ô ma colombe !<|newline|>Comme d'un cours égal ton sein monte et retombe<|newline|>Avec un long soupir !<|newline|>Deux vagues que blanchit le rayon de la lune,<|newline|>D'un mouvement moins doux viennent l'une après l'une<|newline|>Murmurer et mourir !<|newline|>Laisse-moi respirer sur ces lèvres vermeilles<|newline|>Ce souffle parfumé !...Qu'ai-je fait ? Tu t'éveilles \"}"
            ]
          },
          "metadata": {},
          "execution_count": 108
        }
      ],
      "source": [
        "train_dataset[0]"
      ]
    },
    {
      "cell_type": "code",
      "execution_count": 109,
      "metadata": {
        "colab": {
          "base_uri": "https://localhost:8080/"
        },
        "id": "BdxXKx7hjiV8",
        "outputId": "c526bdd0-7667-456d-df3a-1e88ec2ef34f"
      },
      "outputs": [
        {
          "output_type": "execute_result",
          "data": {
            "text/plain": [
              "Dataset({\n",
              "    features: ['prompt', 'text', 'combined'],\n",
              "    num_rows: 1064\n",
              "})"
            ]
          },
          "metadata": {},
          "execution_count": 109
        }
      ],
      "source": [
        "train_dataset"
      ]
    },
    {
      "cell_type": "code",
      "execution_count": 96,
      "metadata": {
        "colab": {
          "base_uri": "https://localhost:8080/"
        },
        "id": "uKBC9WIUjiV9",
        "outputId": "8e1f07af-2fee-4d84-d5eb-ceeae7e33d8d"
      },
      "outputs": [
        {
          "output_type": "execute_result",
          "data": {
            "text/plain": [
              "Dataset({\n",
              "    features: ['prompt', 'text', 'combined'],\n",
              "    num_rows: 266\n",
              "})"
            ]
          },
          "metadata": {},
          "execution_count": 96
        }
      ],
      "source": [
        "test_dataset"
      ]
    },
    {
      "cell_type": "markdown",
      "metadata": {
        "id": "G_WGz3h3jiV_"
      },
      "source": [
        "## ***Appliquer le tokenizer sur la colonne combined*** ##"
      ]
    },
    {
      "cell_type": "code",
      "source": [
        "def tokenize_function(dataset):\n",
        "    return tokenizer(\n",
        "        dataset[\"combined\"],\n",
        "        truncation=True,\n",
        "        padding=\"max_length\",\n",
        "        max_length=1489  # Longueur maximale définie\n",
        "    )"
      ],
      "metadata": {
        "id": "qJQzGZ-BP-YB"
      },
      "execution_count": 110,
      "outputs": []
    },
    {
      "cell_type": "code",
      "source": [
        "\"\"\"def tokenize_function(dataset):\n",
        "  # Assurez-vous que prompt et text sont des chaînes\n",
        "  combined = \" \".join(dataset[\"prompt\"]) if isinstance(dataset[\"prompt\"], list) else dataset[\"prompt\"]\n",
        "  combined += \" \" + (\" \".join(dataset[\"text\"]) if isinstance(dataset[\"text\"], list) else dataset[\"text\"])\n",
        "\n",
        "  return tokenizer(\n",
        "      combined,\n",
        "      truncation=True,\n",
        "      padding=\"max_length\",\n",
        "      max_length=1489\n",
        "  )\n",
        "\"\"\""
      ],
      "metadata": {
        "id": "wc_acoPiNNZM"
      },
      "execution_count": 97,
      "outputs": []
    },
    {
      "cell_type": "code",
      "source": [
        "\"\"\"train_dataset = train_dataset.map(lambda x: {\n",
        "    \"combined\": \" \".join(x[\"prompt\"]) + \" \" + \" \".join(x[\"text\"])\n",
        "    if isinstance(x[\"prompt\"], list) or isinstance(x[\"text\"], list)\n",
        "    else x[\"prompt\"] + \" \" + x[\"text\"]\n",
        "})\"\"\""
      ],
      "metadata": {
        "colab": {
          "base_uri": "https://localhost:8080/",
          "height": 49,
          "referenced_widgets": [
            "3dcf0cf7059d484199a77bf20a2c696e",
            "15ff3b7490c14ef884284daa0d7a1350",
            "55da4272ef114710baff20a34a8e8091",
            "8ca314488a424c3eaf69f17d508d4458",
            "51fe387fe44545e3b7d716570236e6d5",
            "b94c225d1c8e44b8befde5a8b48a0c24",
            "21a9afffadf04fef929a594b18cec568",
            "fc873a5d3c9d4a6b8eb7437c9067d28d",
            "1aeaa8c83fa34e31b0b07991a50a7993",
            "7b93353c7e784ecc80a3b3ecec17b7c8",
            "dd9e7185db3443cda41cb80de89440fd"
          ]
        },
        "id": "DL2G9glQNfTt",
        "outputId": "66f8b705-3789-4675-d2b3-0a45e68fb3d8"
      },
      "execution_count": 98,
      "outputs": [
        {
          "output_type": "display_data",
          "data": {
            "text/plain": [
              "Map:   0%|          | 0/1064 [00:00<?, ? examples/s]"
            ],
            "application/vnd.jupyter.widget-view+json": {
              "version_major": 2,
              "version_minor": 0,
              "model_id": "3dcf0cf7059d484199a77bf20a2c696e"
            }
          },
          "metadata": {}
        }
      ]
    },
    {
      "cell_type": "code",
      "execution_count": 111,
      "metadata": {
        "colab": {
          "base_uri": "https://localhost:8080/",
          "height": 81,
          "referenced_widgets": [
            "2d42b3d58b694d0da7958a67793396a3",
            "e4962545d15c4963a419a40fe9d79c8a",
            "dae2e7838e7c4d57b14aa68fd43a8fc3",
            "dec44fd3cd4c495e8b4221967018827e",
            "921a43c3f93a43eaa27d6752b038d7c1",
            "131ded7649704d11a6f5ee8b733e0983",
            "894f8c0dd0024e0ab4c39c89b776714b",
            "057e2978227d4125b64ef07eaa1c28e5",
            "3e52875593fa45c19a506ac4cd1944ae",
            "19eabb8311d64548a3d96d51a518f0b1",
            "7f4959f1665044ecacd55c953cac72b8",
            "cb5b42014255480aadf0b35626880c30",
            "a7a030bb7dec4531897cb24ce22e57fb",
            "940f31613a2e4082a36656a3e450a1a7",
            "57c06d8974f442f1ac79c2bfbe365a0b",
            "c796cb7b040d42d39e8a00475aaf372c",
            "48d495c60ce74b27a1775199ac69e831",
            "3b084796145946c684b2da44838312f3",
            "82b4ca24057c439783cf29279c2a4ac9",
            "f5d359f980f14422ba3243d2ca7cc8e4",
            "844bfb1432bb4eafac12b82c5ed7040c",
            "073974ea91f24aef8a7158de3c051736"
          ]
        },
        "id": "iMPeTc0IjiV_",
        "outputId": "e6fe048c-73e5-48b4-b1ed-3ec514059b1b"
      },
      "outputs": [
        {
          "output_type": "display_data",
          "data": {
            "text/plain": [
              "Map:   0%|          | 0/1064 [00:00<?, ? examples/s]"
            ],
            "application/vnd.jupyter.widget-view+json": {
              "version_major": 2,
              "version_minor": 0,
              "model_id": "2d42b3d58b694d0da7958a67793396a3"
            }
          },
          "metadata": {}
        },
        {
          "output_type": "display_data",
          "data": {
            "text/plain": [
              "Map:   0%|          | 0/266 [00:00<?, ? examples/s]"
            ],
            "application/vnd.jupyter.widget-view+json": {
              "version_major": 2,
              "version_minor": 0,
              "model_id": "cb5b42014255480aadf0b35626880c30"
            }
          },
          "metadata": {}
        }
      ],
      "source": [
        "# Appliquer la fonction de tokenization à tout le dataset\n",
        "# La méthode `map` applique `tokenize_function` à chaque exemple du dataset, avec une option batched\n",
        "# (traitement de plusieurs exemples à la fois pour une meilleure efficacité).\n",
        "tokenized_train_dataset = train_dataset.map(tokenize_function, batched=True, , desc=\"Running tokenizer on train dataset\")\n",
        "tokenized_test_dataset = test_dataset.map(tokenize_function, batched=True, , desc=\"Running tokenizer on test dataset\")"
      ]
    },
    {
      "cell_type": "code",
      "source": [
        "print(max(len(sample[\"input_ids\"]) for sample in tokenized_train_dataset))\n"
      ],
      "metadata": {
        "colab": {
          "base_uri": "https://localhost:8080/"
        },
        "id": "QKL4neW6PM_8",
        "outputId": "e023eac5-e6ff-442f-9042-5090b66880e5"
      },
      "execution_count": 112,
      "outputs": [
        {
          "output_type": "stream",
          "name": "stdout",
          "text": [
            "1489\n"
          ]
        }
      ]
    },
    {
      "cell_type": "code",
      "source": [
        "for example in tokenized_train_dataset[\"input_ids\"]:\n",
        "  if max(example) >= len(tokenizer):\n",
        "    print(f\"Token ID invalide détecté : {max(example)}\")\n",
        "  if len(example) > 1489:  # max_length spécifié\n",
        "    print(f\"Séquence trop longue détectée : {len(example)}\")\n"
      ],
      "metadata": {
        "id": "_iS_JXpbE--Q"
      },
      "execution_count": 113,
      "outputs": []
    },
    {
      "cell_type": "code",
      "source": [
        "max_token_id = len(tokenizer) - 1  # Le plus grand indice de token valide\n",
        "for example in tokenized_train_dataset[\"input_ids\"]:\n",
        "    if max(example) > max_token_id:\n",
        "        print(f\"Indice hors limite détecté : {max(example)}\")\n"
      ],
      "metadata": {
        "id": "tTBHJXUZHPZy"
      },
      "execution_count": 114,
      "outputs": []
    },
    {
      "cell_type": "code",
      "source": [
        "#tokenized_train_dataset.set_format(type='torch', columns=['input_ids', 'attention_mask', 'labels'])\n",
        "#tokenized_test_dataset.set_format(type='torch', columns=['input_ids', 'attention_mask', 'labels'])"
      ],
      "metadata": {
        "id": "L2O99gWHETPz"
      },
      "execution_count": 61,
      "outputs": []
    },
    {
      "cell_type": "markdown",
      "metadata": {
        "id": "TvzYqM56jiWA"
      },
      "source": [
        "## ***Définir les arguments du modèle et entraîner le modèle*** ##"
      ]
    },
    {
      "cell_type": "markdown",
      "metadata": {
        "id": "KbF9IzLEjiWA"
      },
      "source": [
        "ATTENTION !!!!!!!!!!! Avant d'efffectuer l'entraînement taper dans le termminal : \"accelerate config\" (série de question pour configurer GPU, TPU ou CPU)\n",
        "\n",
        "selectionner vaec les flèches et taper sur entrer (*)"
      ]
    },
    {
      "cell_type": "markdown",
      "metadata": {
        "id": "CJCVQEEzjiWB"
      },
      "source": [
        "emplacement fichier config : accelerate configuration saved at C:\\Users\\33760/.cache\\huggingface\\accelerate\\default_config.yaml"
      ]
    },
    {
      "cell_type": "code",
      "execution_count": 62,
      "metadata": {
        "colab": {
          "base_uri": "https://localhost:8080/"
        },
        "id": "VW84sa5IjiWC",
        "outputId": "e98c24c5-3b7e-4745-dd0d-e89b51b1044a"
      },
      "outputs": [
        {
          "output_type": "stream",
          "name": "stdout",
          "text": [
            "False\n",
            "0\n"
          ]
        }
      ],
      "source": [
        "import torch\n",
        "print(torch.cuda.is_available())\n",
        "print(torch.cuda.device_count())\n"
      ]
    },
    {
      "cell_type": "code",
      "execution_count": 63,
      "metadata": {
        "colab": {
          "base_uri": "https://localhost:8080/"
        },
        "id": "Vb1ctSZ1jiWC",
        "outputId": "87623b74-79dc-45ec-a8a4-c1c34507df42"
      },
      "outputs": [
        {
          "output_type": "stream",
          "name": "stdout",
          "text": [
            "Distributed environment: DistributedType.NO\n",
            "Num processes: 1\n",
            "Process index: 0\n",
            "Local process index: 0\n",
            "Device: cpu\n",
            "\n",
            "Mixed precision type: no\n",
            "\n"
          ]
        }
      ],
      "source": [
        "from accelerate import Accelerator\n",
        "\n",
        "accelerator = Accelerator()\n",
        "print(accelerator.state)"
      ]
    },
    {
      "cell_type": "code",
      "execution_count": 115,
      "metadata": {
        "colab": {
          "base_uri": "https://localhost:8080/",
          "height": 81,
          "referenced_widgets": [
            "503b04ce4b534555b361ee6f2294e354",
            "c9e92ae3ad534d11abb3a8c110125c30",
            "04e2c03af5f34d52a1b522560aee9ea6",
            "d6314f95ecd244278f83012e5cdfa652",
            "29770112c49045efb42cb69ab3f947b0",
            "3b8ec1e1a3c247bb9ac89a12af49af57",
            "a82e36413a734c68bbed411407712961",
            "dc7d2bd3f56149a2bcd4db0f9ff504a4",
            "0c32b8af9aff4141848c4eb155ea37b0",
            "6f69efbee6a847a69d5e4120d8617667",
            "a3c7b93f5670438da078c19f2350c9c8",
            "2265e538b547489a909e1a12c3715ace",
            "477a83dd618649aa8c650cec312f3c02",
            "bf1329bd02ff4b23952b03b61954ba9a",
            "16770f4155c74ba2afc1d5115efe8a02",
            "d553846aa58741128cf058079fa88b3c",
            "5ac2d3d8dab141a5bc79882f580a8ca7",
            "3c3c6dec64bf4fe2bc646c6b15853887",
            "cb3ef0a6ded546a1af1f11b4793be8a3",
            "be76bb574c4f43a0b6b2d8c915ffc7bc",
            "c2f9159c56cb47098c2df04eb2e9b75a",
            "5e43a6ed7ff7465e97fbeb1bfb1b8a83"
          ]
        },
        "id": "Z7yrDdQcjiWD",
        "outputId": "8db7af19-19fc-4e78-c051-d41af0860a1e"
      },
      "outputs": [
        {
          "output_type": "display_data",
          "data": {
            "text/plain": [
              "Map:   0%|          | 0/1064 [00:00<?, ? examples/s]"
            ],
            "application/vnd.jupyter.widget-view+json": {
              "version_major": 2,
              "version_minor": 0,
              "model_id": "503b04ce4b534555b361ee6f2294e354"
            }
          },
          "metadata": {}
        },
        {
          "output_type": "display_data",
          "data": {
            "text/plain": [
              "Map:   0%|          | 0/266 [00:00<?, ? examples/s]"
            ],
            "application/vnd.jupyter.widget-view+json": {
              "version_major": 2,
              "version_minor": 0,
              "model_id": "2265e538b547489a909e1a12c3715ace"
            }
          },
          "metadata": {}
        }
      ],
      "source": [
        "def add_labels(batch):\n",
        "    batch[\"labels\"] = batch[\"input_ids\"].copy()\n",
        "    return batch\n",
        "\n",
        "tokenized_train_dataset = tokenized_train_dataset.map(add_labels)\n",
        "tokenized_test_dataset = tokenized_test_dataset.map(add_labels)\n"
      ]
    },
    {
      "cell_type": "code",
      "source": [
        "for batch in tokenized_train_dataset:\n",
        "    assert len(batch[\"input_ids\"]) == len(batch[\"labels\"]), \"Mismatch entre input_ids et labels\"\n"
      ],
      "metadata": {
        "id": "WcSni78cGBul"
      },
      "execution_count": 116,
      "outputs": []
    },
    {
      "cell_type": "code",
      "source": [
        "# Ajoute les tokens spéciaux, si ce n'est pas déjà fait\n",
        "tokenizer.add_special_tokens({\"additional_special_tokens\": [\"<|newline|>\", \"<|pad|>\"]})\n",
        "\n",
        "# Vérifie si le token de padding est défini\n",
        "if tokenizer.pad_token is None:\n",
        "    tokenizer.add_special_tokens({\"pad_token\": \"<|pad|>\"})\n",
        "\n",
        "# Redimensionne les embeddings du modèle\n",
        "model.resize_token_embeddings(len(tokenizer))\n"
      ],
      "metadata": {
        "colab": {
          "base_uri": "https://localhost:8080/"
        },
        "id": "perpHieYHkSV",
        "outputId": "355848d4-f1f5-477c-bef7-f9d7d4701b44"
      },
      "execution_count": 117,
      "outputs": [
        {
          "output_type": "execute_result",
          "data": {
            "text/plain": [
              "Embedding(50260, 768)"
            ]
          },
          "metadata": {},
          "execution_count": 117
        }
      ]
    },
    {
      "cell_type": "code",
      "source": [
        "\"\"\"training_args = TrainingArguments(\n",
        "    output_dir=\"./gpt-neo-125M-fine-tuned-poetry\",             # Répertoire pour sauvegarder les résultats et checkpoints\n",
        "    eval_strategy=\"epoch\",       # Évaluer le modèle à la fin de chaque époque\n",
        "    learning_rate=5e-5,                # Taux d'apprentissage (learning rate)\n",
        "    per_device_train_batch_size=1,     # Taille du batch par appareil (GPU ou CPU)\n",
        "    num_train_epochs=1,                # Nombre total d'époques d'entraînement\n",
        "    save_steps=500,                    # Sauvegarder le modèle toutes les 500 étapes\n",
        "    save_total_limit=2,                # Conserver uniquement les 2 dernières sauvegardes\n",
        "    fp16=False,                        # Activer l'entraînement en virgule flottante 16 bits (plus rapide si GPU compatible)\n",
        "    logging_dir = \"./logs\",\n",
        ")\"\"\""
      ],
      "metadata": {
        "colab": {
          "base_uri": "https://localhost:8080/",
          "height": 106
        },
        "id": "5qDnLfVVqwVy",
        "outputId": "421e1e5e-5caa-4360-eb90-2d0c207d9b69"
      },
      "execution_count": 67,
      "outputs": [
        {
          "output_type": "execute_result",
          "data": {
            "text/plain": [
              "'training_args = TrainingArguments(\\n    output_dir=\"./gpt-neo-125M-fine-tuned-poetry\",             # Répertoire pour sauvegarder les résultats et checkpoints\\n    eval_strategy=\"epoch\",       # Évaluer le modèle à la fin de chaque époque\\n    learning_rate=5e-5,                # Taux d\\'apprentissage (learning rate)\\n    per_device_train_batch_size=1,     # Taille du batch par appareil (GPU ou CPU)\\n    num_train_epochs=1,                # Nombre total d\\'époques d\\'entraînement\\n    save_steps=500,                    # Sauvegarder le modèle toutes les 500 étapes\\n    save_total_limit=2,                # Conserver uniquement les 2 dernières sauvegardes\\n    fp16=False,                        # Activer l\\'entraînement en virgule flottante 16 bits (plus rapide si GPU compatible)\\n    logging_dir = \"./logs\",\\n)'"
            ],
            "application/vnd.google.colaboratory.intrinsic+json": {
              "type": "string"
            }
          },
          "metadata": {},
          "execution_count": 67
        }
      ]
    },
    {
      "cell_type": "code",
      "execution_count": 144,
      "metadata": {
        "colab": {
          "base_uri": "https://localhost:8080/",
          "height": 400
        },
        "id": "zgIfs_ZPjiWD",
        "outputId": "b22eeaad-c574-42de-98e4-2772c57b4dba"
      },
      "outputs": [
        {
          "output_type": "stream",
          "name": "stderr",
          "text": [
            "<ipython-input-144-ab33eb2d010d>:22: FutureWarning:\n",
            "\n",
            "`tokenizer` is deprecated and will be removed in version 5.0.0 for `Trainer.__init__`. Use `processing_class` instead.\n",
            "\n"
          ]
        },
        {
          "output_type": "error",
          "ename": "IndexError",
          "evalue": "index out of range in self",
          "traceback": [
            "\u001b[0;31m---------------------------------------------------------------------------\u001b[0m",
            "\u001b[0;31mIndexError\u001b[0m                                Traceback (most recent call last)",
            "\u001b[0;32m<ipython-input-144-ab33eb2d010d>\u001b[0m in \u001b[0;36m<cell line: 0>\u001b[0;34m()\u001b[0m\n\u001b[1;32m     30\u001b[0m \u001b[0;34m\u001b[0m\u001b[0m\n\u001b[1;32m     31\u001b[0m \u001b[0;31m# Lancer le processus d'entraînement\u001b[0m\u001b[0;34m\u001b[0m\u001b[0;34m\u001b[0m\u001b[0m\n\u001b[0;32m---> 32\u001b[0;31m \u001b[0mtrainer\u001b[0m\u001b[0;34m.\u001b[0m\u001b[0mtrain\u001b[0m\u001b[0;34m(\u001b[0m\u001b[0;34m)\u001b[0m\u001b[0;34m\u001b[0m\u001b[0;34m\u001b[0m\u001b[0m\n\u001b[0m",
            "\u001b[0;32m/usr/local/lib/python3.11/dist-packages/transformers/trainer.py\u001b[0m in \u001b[0;36mtrain\u001b[0;34m(self, resume_from_checkpoint, trial, ignore_keys_for_eval, **kwargs)\u001b[0m\n\u001b[1;32m   2174\u001b[0m                 \u001b[0mhf_hub_utils\u001b[0m\u001b[0;34m.\u001b[0m\u001b[0menable_progress_bars\u001b[0m\u001b[0;34m(\u001b[0m\u001b[0;34m)\u001b[0m\u001b[0;34m\u001b[0m\u001b[0;34m\u001b[0m\u001b[0m\n\u001b[1;32m   2175\u001b[0m         \u001b[0;32melse\u001b[0m\u001b[0;34m:\u001b[0m\u001b[0;34m\u001b[0m\u001b[0;34m\u001b[0m\u001b[0m\n\u001b[0;32m-> 2176\u001b[0;31m             return inner_training_loop(\n\u001b[0m\u001b[1;32m   2177\u001b[0m                 \u001b[0margs\u001b[0m\u001b[0;34m=\u001b[0m\u001b[0margs\u001b[0m\u001b[0;34m,\u001b[0m\u001b[0;34m\u001b[0m\u001b[0;34m\u001b[0m\u001b[0m\n\u001b[1;32m   2178\u001b[0m                 \u001b[0mresume_from_checkpoint\u001b[0m\u001b[0;34m=\u001b[0m\u001b[0mresume_from_checkpoint\u001b[0m\u001b[0;34m,\u001b[0m\u001b[0;34m\u001b[0m\u001b[0;34m\u001b[0m\u001b[0m\n",
            "\u001b[0;32m/usr/local/lib/python3.11/dist-packages/transformers/trainer.py\u001b[0m in \u001b[0;36m_inner_training_loop\u001b[0;34m(self, batch_size, args, resume_from_checkpoint, trial, ignore_keys_for_eval)\u001b[0m\n\u001b[1;32m   2534\u001b[0m                     )\n\u001b[1;32m   2535\u001b[0m                     \u001b[0;32mwith\u001b[0m \u001b[0mcontext\u001b[0m\u001b[0;34m(\u001b[0m\u001b[0;34m)\u001b[0m\u001b[0;34m:\u001b[0m\u001b[0;34m\u001b[0m\u001b[0;34m\u001b[0m\u001b[0m\n\u001b[0;32m-> 2536\u001b[0;31m                         \u001b[0mtr_loss_step\u001b[0m \u001b[0;34m=\u001b[0m \u001b[0mself\u001b[0m\u001b[0;34m.\u001b[0m\u001b[0mtraining_step\u001b[0m\u001b[0;34m(\u001b[0m\u001b[0mmodel\u001b[0m\u001b[0;34m,\u001b[0m \u001b[0minputs\u001b[0m\u001b[0;34m,\u001b[0m \u001b[0mnum_items_in_batch\u001b[0m\u001b[0;34m)\u001b[0m\u001b[0;34m\u001b[0m\u001b[0;34m\u001b[0m\u001b[0m\n\u001b[0m\u001b[1;32m   2537\u001b[0m \u001b[0;34m\u001b[0m\u001b[0m\n\u001b[1;32m   2538\u001b[0m                     if (\n",
            "\u001b[0;32m/usr/local/lib/python3.11/dist-packages/transformers/trainer.py\u001b[0m in \u001b[0;36mtraining_step\u001b[0;34m(self, model, inputs, num_items_in_batch)\u001b[0m\n\u001b[1;32m   3678\u001b[0m \u001b[0;34m\u001b[0m\u001b[0m\n\u001b[1;32m   3679\u001b[0m         \u001b[0;32mwith\u001b[0m \u001b[0mself\u001b[0m\u001b[0;34m.\u001b[0m\u001b[0mcompute_loss_context_manager\u001b[0m\u001b[0;34m(\u001b[0m\u001b[0;34m)\u001b[0m\u001b[0;34m:\u001b[0m\u001b[0;34m\u001b[0m\u001b[0;34m\u001b[0m\u001b[0m\n\u001b[0;32m-> 3680\u001b[0;31m             \u001b[0mloss\u001b[0m \u001b[0;34m=\u001b[0m \u001b[0mself\u001b[0m\u001b[0;34m.\u001b[0m\u001b[0mcompute_loss\u001b[0m\u001b[0;34m(\u001b[0m\u001b[0mmodel\u001b[0m\u001b[0;34m,\u001b[0m \u001b[0minputs\u001b[0m\u001b[0;34m,\u001b[0m \u001b[0mnum_items_in_batch\u001b[0m\u001b[0;34m=\u001b[0m\u001b[0mnum_items_in_batch\u001b[0m\u001b[0;34m)\u001b[0m\u001b[0;34m\u001b[0m\u001b[0;34m\u001b[0m\u001b[0m\n\u001b[0m\u001b[1;32m   3681\u001b[0m \u001b[0;34m\u001b[0m\u001b[0m\n\u001b[1;32m   3682\u001b[0m         \u001b[0;32mdel\u001b[0m \u001b[0minputs\u001b[0m\u001b[0;34m\u001b[0m\u001b[0;34m\u001b[0m\u001b[0m\n",
            "\u001b[0;32m/usr/local/lib/python3.11/dist-packages/transformers/trainer.py\u001b[0m in \u001b[0;36mcompute_loss\u001b[0;34m(self, model, inputs, return_outputs, num_items_in_batch)\u001b[0m\n\u001b[1;32m   3734\u001b[0m                 \u001b[0mloss_kwargs\u001b[0m\u001b[0;34m[\u001b[0m\u001b[0;34m\"num_items_in_batch\"\u001b[0m\u001b[0;34m]\u001b[0m \u001b[0;34m=\u001b[0m \u001b[0mnum_items_in_batch\u001b[0m\u001b[0;34m\u001b[0m\u001b[0;34m\u001b[0m\u001b[0m\n\u001b[1;32m   3735\u001b[0m             \u001b[0minputs\u001b[0m \u001b[0;34m=\u001b[0m \u001b[0;34m{\u001b[0m\u001b[0;34m**\u001b[0m\u001b[0minputs\u001b[0m\u001b[0;34m,\u001b[0m \u001b[0;34m**\u001b[0m\u001b[0mloss_kwargs\u001b[0m\u001b[0;34m}\u001b[0m\u001b[0;34m\u001b[0m\u001b[0;34m\u001b[0m\u001b[0m\n\u001b[0;32m-> 3736\u001b[0;31m         \u001b[0moutputs\u001b[0m \u001b[0;34m=\u001b[0m \u001b[0mmodel\u001b[0m\u001b[0;34m(\u001b[0m\u001b[0;34m**\u001b[0m\u001b[0minputs\u001b[0m\u001b[0;34m)\u001b[0m\u001b[0;34m\u001b[0m\u001b[0;34m\u001b[0m\u001b[0m\n\u001b[0m\u001b[1;32m   3737\u001b[0m         \u001b[0;31m# Save past state if it exists\u001b[0m\u001b[0;34m\u001b[0m\u001b[0;34m\u001b[0m\u001b[0m\n\u001b[1;32m   3738\u001b[0m         \u001b[0;31m# TODO: this needs to be fixed and made cleaner later.\u001b[0m\u001b[0;34m\u001b[0m\u001b[0;34m\u001b[0m\u001b[0m\n",
            "\u001b[0;32m/usr/local/lib/python3.11/dist-packages/torch/nn/modules/module.py\u001b[0m in \u001b[0;36m_wrapped_call_impl\u001b[0;34m(self, *args, **kwargs)\u001b[0m\n\u001b[1;32m   1734\u001b[0m             \u001b[0;32mreturn\u001b[0m \u001b[0mself\u001b[0m\u001b[0;34m.\u001b[0m\u001b[0m_compiled_call_impl\u001b[0m\u001b[0;34m(\u001b[0m\u001b[0;34m*\u001b[0m\u001b[0margs\u001b[0m\u001b[0;34m,\u001b[0m \u001b[0;34m**\u001b[0m\u001b[0mkwargs\u001b[0m\u001b[0;34m)\u001b[0m  \u001b[0;31m# type: ignore[misc]\u001b[0m\u001b[0;34m\u001b[0m\u001b[0;34m\u001b[0m\u001b[0m\n\u001b[1;32m   1735\u001b[0m         \u001b[0;32melse\u001b[0m\u001b[0;34m:\u001b[0m\u001b[0;34m\u001b[0m\u001b[0;34m\u001b[0m\u001b[0m\n\u001b[0;32m-> 1736\u001b[0;31m             \u001b[0;32mreturn\u001b[0m \u001b[0mself\u001b[0m\u001b[0;34m.\u001b[0m\u001b[0m_call_impl\u001b[0m\u001b[0;34m(\u001b[0m\u001b[0;34m*\u001b[0m\u001b[0margs\u001b[0m\u001b[0;34m,\u001b[0m \u001b[0;34m**\u001b[0m\u001b[0mkwargs\u001b[0m\u001b[0;34m)\u001b[0m\u001b[0;34m\u001b[0m\u001b[0;34m\u001b[0m\u001b[0m\n\u001b[0m\u001b[1;32m   1737\u001b[0m \u001b[0;34m\u001b[0m\u001b[0m\n\u001b[1;32m   1738\u001b[0m     \u001b[0;31m# torchrec tests the code consistency with the following code\u001b[0m\u001b[0;34m\u001b[0m\u001b[0;34m\u001b[0m\u001b[0m\n",
            "\u001b[0;32m/usr/local/lib/python3.11/dist-packages/torch/nn/modules/module.py\u001b[0m in \u001b[0;36m_call_impl\u001b[0;34m(self, *args, **kwargs)\u001b[0m\n\u001b[1;32m   1842\u001b[0m \u001b[0;34m\u001b[0m\u001b[0m\n\u001b[1;32m   1843\u001b[0m         \u001b[0;32mtry\u001b[0m\u001b[0;34m:\u001b[0m\u001b[0;34m\u001b[0m\u001b[0;34m\u001b[0m\u001b[0m\n\u001b[0;32m-> 1844\u001b[0;31m             \u001b[0;32mreturn\u001b[0m \u001b[0minner\u001b[0m\u001b[0;34m(\u001b[0m\u001b[0;34m)\u001b[0m\u001b[0;34m\u001b[0m\u001b[0;34m\u001b[0m\u001b[0m\n\u001b[0m\u001b[1;32m   1845\u001b[0m         \u001b[0;32mexcept\u001b[0m \u001b[0mException\u001b[0m\u001b[0;34m:\u001b[0m\u001b[0;34m\u001b[0m\u001b[0;34m\u001b[0m\u001b[0m\n\u001b[1;32m   1846\u001b[0m             \u001b[0;31m# run always called hooks if they have not already been run\u001b[0m\u001b[0;34m\u001b[0m\u001b[0;34m\u001b[0m\u001b[0m\n",
            "\u001b[0;32m/usr/local/lib/python3.11/dist-packages/torch/nn/modules/module.py\u001b[0m in \u001b[0;36minner\u001b[0;34m()\u001b[0m\n\u001b[1;32m   1788\u001b[0m                 \u001b[0margs\u001b[0m \u001b[0;34m=\u001b[0m \u001b[0mbw_hook\u001b[0m\u001b[0;34m.\u001b[0m\u001b[0msetup_input_hook\u001b[0m\u001b[0;34m(\u001b[0m\u001b[0margs\u001b[0m\u001b[0;34m)\u001b[0m\u001b[0;34m\u001b[0m\u001b[0;34m\u001b[0m\u001b[0m\n\u001b[1;32m   1789\u001b[0m \u001b[0;34m\u001b[0m\u001b[0m\n\u001b[0;32m-> 1790\u001b[0;31m             \u001b[0mresult\u001b[0m \u001b[0;34m=\u001b[0m \u001b[0mforward_call\u001b[0m\u001b[0;34m(\u001b[0m\u001b[0;34m*\u001b[0m\u001b[0margs\u001b[0m\u001b[0;34m,\u001b[0m \u001b[0;34m**\u001b[0m\u001b[0mkwargs\u001b[0m\u001b[0;34m)\u001b[0m\u001b[0;34m\u001b[0m\u001b[0;34m\u001b[0m\u001b[0m\n\u001b[0m\u001b[1;32m   1791\u001b[0m             \u001b[0;32mif\u001b[0m \u001b[0m_global_forward_hooks\u001b[0m \u001b[0;32mor\u001b[0m \u001b[0mself\u001b[0m\u001b[0;34m.\u001b[0m\u001b[0m_forward_hooks\u001b[0m\u001b[0;34m:\u001b[0m\u001b[0;34m\u001b[0m\u001b[0;34m\u001b[0m\u001b[0m\n\u001b[1;32m   1792\u001b[0m                 for hook_id, hook in (\n",
            "\u001b[0;32m/usr/local/lib/python3.11/dist-packages/transformers/models/gpt2/modeling_gpt2.py\u001b[0m in \u001b[0;36mforward\u001b[0;34m(self, input_ids, past_key_values, attention_mask, token_type_ids, position_ids, head_mask, inputs_embeds, encoder_hidden_states, encoder_attention_mask, labels, use_cache, output_attentions, output_hidden_states, return_dict)\u001b[0m\n\u001b[1;32m   1059\u001b[0m         \u001b[0mreturn_dict\u001b[0m \u001b[0;34m=\u001b[0m \u001b[0mreturn_dict\u001b[0m \u001b[0;32mif\u001b[0m \u001b[0mreturn_dict\u001b[0m \u001b[0;32mis\u001b[0m \u001b[0;32mnot\u001b[0m \u001b[0;32mNone\u001b[0m \u001b[0;32melse\u001b[0m \u001b[0mself\u001b[0m\u001b[0;34m.\u001b[0m\u001b[0mconfig\u001b[0m\u001b[0;34m.\u001b[0m\u001b[0muse_return_dict\u001b[0m\u001b[0;34m\u001b[0m\u001b[0;34m\u001b[0m\u001b[0m\n\u001b[1;32m   1060\u001b[0m \u001b[0;34m\u001b[0m\u001b[0m\n\u001b[0;32m-> 1061\u001b[0;31m         transformer_outputs = self.transformer(\n\u001b[0m\u001b[1;32m   1062\u001b[0m             \u001b[0minput_ids\u001b[0m\u001b[0;34m,\u001b[0m\u001b[0;34m\u001b[0m\u001b[0;34m\u001b[0m\u001b[0m\n\u001b[1;32m   1063\u001b[0m             \u001b[0mpast_key_values\u001b[0m\u001b[0;34m=\u001b[0m\u001b[0mpast_key_values\u001b[0m\u001b[0;34m,\u001b[0m\u001b[0;34m\u001b[0m\u001b[0;34m\u001b[0m\u001b[0m\n",
            "\u001b[0;32m/usr/local/lib/python3.11/dist-packages/torch/nn/modules/module.py\u001b[0m in \u001b[0;36m_wrapped_call_impl\u001b[0;34m(self, *args, **kwargs)\u001b[0m\n\u001b[1;32m   1734\u001b[0m             \u001b[0;32mreturn\u001b[0m \u001b[0mself\u001b[0m\u001b[0;34m.\u001b[0m\u001b[0m_compiled_call_impl\u001b[0m\u001b[0;34m(\u001b[0m\u001b[0;34m*\u001b[0m\u001b[0margs\u001b[0m\u001b[0;34m,\u001b[0m \u001b[0;34m**\u001b[0m\u001b[0mkwargs\u001b[0m\u001b[0;34m)\u001b[0m  \u001b[0;31m# type: ignore[misc]\u001b[0m\u001b[0;34m\u001b[0m\u001b[0;34m\u001b[0m\u001b[0m\n\u001b[1;32m   1735\u001b[0m         \u001b[0;32melse\u001b[0m\u001b[0;34m:\u001b[0m\u001b[0;34m\u001b[0m\u001b[0;34m\u001b[0m\u001b[0m\n\u001b[0;32m-> 1736\u001b[0;31m             \u001b[0;32mreturn\u001b[0m \u001b[0mself\u001b[0m\u001b[0;34m.\u001b[0m\u001b[0m_call_impl\u001b[0m\u001b[0;34m(\u001b[0m\u001b[0;34m*\u001b[0m\u001b[0margs\u001b[0m\u001b[0;34m,\u001b[0m \u001b[0;34m**\u001b[0m\u001b[0mkwargs\u001b[0m\u001b[0;34m)\u001b[0m\u001b[0;34m\u001b[0m\u001b[0;34m\u001b[0m\u001b[0m\n\u001b[0m\u001b[1;32m   1737\u001b[0m \u001b[0;34m\u001b[0m\u001b[0m\n\u001b[1;32m   1738\u001b[0m     \u001b[0;31m# torchrec tests the code consistency with the following code\u001b[0m\u001b[0;34m\u001b[0m\u001b[0;34m\u001b[0m\u001b[0m\n",
            "\u001b[0;32m/usr/local/lib/python3.11/dist-packages/torch/nn/modules/module.py\u001b[0m in \u001b[0;36m_call_impl\u001b[0;34m(self, *args, **kwargs)\u001b[0m\n\u001b[1;32m   1842\u001b[0m \u001b[0;34m\u001b[0m\u001b[0m\n\u001b[1;32m   1843\u001b[0m         \u001b[0;32mtry\u001b[0m\u001b[0;34m:\u001b[0m\u001b[0;34m\u001b[0m\u001b[0;34m\u001b[0m\u001b[0m\n\u001b[0;32m-> 1844\u001b[0;31m             \u001b[0;32mreturn\u001b[0m \u001b[0minner\u001b[0m\u001b[0;34m(\u001b[0m\u001b[0;34m)\u001b[0m\u001b[0;34m\u001b[0m\u001b[0;34m\u001b[0m\u001b[0m\n\u001b[0m\u001b[1;32m   1845\u001b[0m         \u001b[0;32mexcept\u001b[0m \u001b[0mException\u001b[0m\u001b[0;34m:\u001b[0m\u001b[0;34m\u001b[0m\u001b[0;34m\u001b[0m\u001b[0m\n\u001b[1;32m   1846\u001b[0m             \u001b[0;31m# run always called hooks if they have not already been run\u001b[0m\u001b[0;34m\u001b[0m\u001b[0;34m\u001b[0m\u001b[0m\n",
            "\u001b[0;32m/usr/local/lib/python3.11/dist-packages/torch/nn/modules/module.py\u001b[0m in \u001b[0;36minner\u001b[0;34m()\u001b[0m\n\u001b[1;32m   1788\u001b[0m                 \u001b[0margs\u001b[0m \u001b[0;34m=\u001b[0m \u001b[0mbw_hook\u001b[0m\u001b[0;34m.\u001b[0m\u001b[0msetup_input_hook\u001b[0m\u001b[0;34m(\u001b[0m\u001b[0margs\u001b[0m\u001b[0;34m)\u001b[0m\u001b[0;34m\u001b[0m\u001b[0;34m\u001b[0m\u001b[0m\n\u001b[1;32m   1789\u001b[0m \u001b[0;34m\u001b[0m\u001b[0m\n\u001b[0;32m-> 1790\u001b[0;31m             \u001b[0mresult\u001b[0m \u001b[0;34m=\u001b[0m \u001b[0mforward_call\u001b[0m\u001b[0;34m(\u001b[0m\u001b[0;34m*\u001b[0m\u001b[0margs\u001b[0m\u001b[0;34m,\u001b[0m \u001b[0;34m**\u001b[0m\u001b[0mkwargs\u001b[0m\u001b[0;34m)\u001b[0m\u001b[0;34m\u001b[0m\u001b[0;34m\u001b[0m\u001b[0m\n\u001b[0m\u001b[1;32m   1791\u001b[0m             \u001b[0;32mif\u001b[0m \u001b[0m_global_forward_hooks\u001b[0m \u001b[0;32mor\u001b[0m \u001b[0mself\u001b[0m\u001b[0;34m.\u001b[0m\u001b[0m_forward_hooks\u001b[0m\u001b[0;34m:\u001b[0m\u001b[0;34m\u001b[0m\u001b[0;34m\u001b[0m\u001b[0m\n\u001b[1;32m   1792\u001b[0m                 for hook_id, hook in (\n",
            "\u001b[0;32m/usr/local/lib/python3.11/dist-packages/transformers/models/gpt2/modeling_gpt2.py\u001b[0m in \u001b[0;36mforward\u001b[0;34m(self, input_ids, past_key_values, attention_mask, token_type_ids, position_ids, head_mask, inputs_embeds, encoder_hidden_states, encoder_attention_mask, use_cache, output_attentions, output_hidden_states, return_dict)\u001b[0m\n\u001b[1;32m    817\u001b[0m \u001b[0;34m\u001b[0m\u001b[0m\n\u001b[1;32m    818\u001b[0m         \u001b[0;32mif\u001b[0m \u001b[0minputs_embeds\u001b[0m \u001b[0;32mis\u001b[0m \u001b[0;32mNone\u001b[0m\u001b[0;34m:\u001b[0m\u001b[0;34m\u001b[0m\u001b[0;34m\u001b[0m\u001b[0m\n\u001b[0;32m--> 819\u001b[0;31m             \u001b[0minputs_embeds\u001b[0m \u001b[0;34m=\u001b[0m \u001b[0mself\u001b[0m\u001b[0;34m.\u001b[0m\u001b[0mwte\u001b[0m\u001b[0;34m(\u001b[0m\u001b[0minput_ids\u001b[0m\u001b[0;34m)\u001b[0m\u001b[0;34m\u001b[0m\u001b[0;34m\u001b[0m\u001b[0m\n\u001b[0m\u001b[1;32m    820\u001b[0m         \u001b[0mposition_embeds\u001b[0m \u001b[0;34m=\u001b[0m \u001b[0mself\u001b[0m\u001b[0;34m.\u001b[0m\u001b[0mwpe\u001b[0m\u001b[0;34m(\u001b[0m\u001b[0mposition_ids\u001b[0m\u001b[0;34m)\u001b[0m\u001b[0;34m\u001b[0m\u001b[0;34m\u001b[0m\u001b[0m\n\u001b[1;32m    821\u001b[0m         \u001b[0mhidden_states\u001b[0m \u001b[0;34m=\u001b[0m \u001b[0minputs_embeds\u001b[0m \u001b[0;34m+\u001b[0m \u001b[0mposition_embeds\u001b[0m\u001b[0;34m\u001b[0m\u001b[0;34m\u001b[0m\u001b[0m\n",
            "\u001b[0;32m/usr/local/lib/python3.11/dist-packages/torch/nn/modules/module.py\u001b[0m in \u001b[0;36m_wrapped_call_impl\u001b[0;34m(self, *args, **kwargs)\u001b[0m\n\u001b[1;32m   1734\u001b[0m             \u001b[0;32mreturn\u001b[0m \u001b[0mself\u001b[0m\u001b[0;34m.\u001b[0m\u001b[0m_compiled_call_impl\u001b[0m\u001b[0;34m(\u001b[0m\u001b[0;34m*\u001b[0m\u001b[0margs\u001b[0m\u001b[0;34m,\u001b[0m \u001b[0;34m**\u001b[0m\u001b[0mkwargs\u001b[0m\u001b[0;34m)\u001b[0m  \u001b[0;31m# type: ignore[misc]\u001b[0m\u001b[0;34m\u001b[0m\u001b[0;34m\u001b[0m\u001b[0m\n\u001b[1;32m   1735\u001b[0m         \u001b[0;32melse\u001b[0m\u001b[0;34m:\u001b[0m\u001b[0;34m\u001b[0m\u001b[0;34m\u001b[0m\u001b[0m\n\u001b[0;32m-> 1736\u001b[0;31m             \u001b[0;32mreturn\u001b[0m \u001b[0mself\u001b[0m\u001b[0;34m.\u001b[0m\u001b[0m_call_impl\u001b[0m\u001b[0;34m(\u001b[0m\u001b[0;34m*\u001b[0m\u001b[0margs\u001b[0m\u001b[0;34m,\u001b[0m \u001b[0;34m**\u001b[0m\u001b[0mkwargs\u001b[0m\u001b[0;34m)\u001b[0m\u001b[0;34m\u001b[0m\u001b[0;34m\u001b[0m\u001b[0m\n\u001b[0m\u001b[1;32m   1737\u001b[0m \u001b[0;34m\u001b[0m\u001b[0m\n\u001b[1;32m   1738\u001b[0m     \u001b[0;31m# torchrec tests the code consistency with the following code\u001b[0m\u001b[0;34m\u001b[0m\u001b[0;34m\u001b[0m\u001b[0m\n",
            "\u001b[0;32m/usr/local/lib/python3.11/dist-packages/torch/nn/modules/module.py\u001b[0m in \u001b[0;36m_call_impl\u001b[0;34m(self, *args, **kwargs)\u001b[0m\n\u001b[1;32m   1842\u001b[0m \u001b[0;34m\u001b[0m\u001b[0m\n\u001b[1;32m   1843\u001b[0m         \u001b[0;32mtry\u001b[0m\u001b[0;34m:\u001b[0m\u001b[0;34m\u001b[0m\u001b[0;34m\u001b[0m\u001b[0m\n\u001b[0;32m-> 1844\u001b[0;31m             \u001b[0;32mreturn\u001b[0m \u001b[0minner\u001b[0m\u001b[0;34m(\u001b[0m\u001b[0;34m)\u001b[0m\u001b[0;34m\u001b[0m\u001b[0;34m\u001b[0m\u001b[0m\n\u001b[0m\u001b[1;32m   1845\u001b[0m         \u001b[0;32mexcept\u001b[0m \u001b[0mException\u001b[0m\u001b[0;34m:\u001b[0m\u001b[0;34m\u001b[0m\u001b[0;34m\u001b[0m\u001b[0m\n\u001b[1;32m   1846\u001b[0m             \u001b[0;31m# run always called hooks if they have not already been run\u001b[0m\u001b[0;34m\u001b[0m\u001b[0;34m\u001b[0m\u001b[0m\n",
            "\u001b[0;32m/usr/local/lib/python3.11/dist-packages/torch/nn/modules/module.py\u001b[0m in \u001b[0;36minner\u001b[0;34m()\u001b[0m\n\u001b[1;32m   1788\u001b[0m                 \u001b[0margs\u001b[0m \u001b[0;34m=\u001b[0m \u001b[0mbw_hook\u001b[0m\u001b[0;34m.\u001b[0m\u001b[0msetup_input_hook\u001b[0m\u001b[0;34m(\u001b[0m\u001b[0margs\u001b[0m\u001b[0;34m)\u001b[0m\u001b[0;34m\u001b[0m\u001b[0;34m\u001b[0m\u001b[0m\n\u001b[1;32m   1789\u001b[0m \u001b[0;34m\u001b[0m\u001b[0m\n\u001b[0;32m-> 1790\u001b[0;31m             \u001b[0mresult\u001b[0m \u001b[0;34m=\u001b[0m \u001b[0mforward_call\u001b[0m\u001b[0;34m(\u001b[0m\u001b[0;34m*\u001b[0m\u001b[0margs\u001b[0m\u001b[0;34m,\u001b[0m \u001b[0;34m**\u001b[0m\u001b[0mkwargs\u001b[0m\u001b[0;34m)\u001b[0m\u001b[0;34m\u001b[0m\u001b[0;34m\u001b[0m\u001b[0m\n\u001b[0m\u001b[1;32m   1791\u001b[0m             \u001b[0;32mif\u001b[0m \u001b[0m_global_forward_hooks\u001b[0m \u001b[0;32mor\u001b[0m \u001b[0mself\u001b[0m\u001b[0;34m.\u001b[0m\u001b[0m_forward_hooks\u001b[0m\u001b[0;34m:\u001b[0m\u001b[0;34m\u001b[0m\u001b[0;34m\u001b[0m\u001b[0m\n\u001b[1;32m   1792\u001b[0m                 for hook_id, hook in (\n",
            "\u001b[0;32m/usr/local/lib/python3.11/dist-packages/torch/nn/modules/sparse.py\u001b[0m in \u001b[0;36mforward\u001b[0;34m(self, input)\u001b[0m\n\u001b[1;32m    188\u001b[0m \u001b[0;34m\u001b[0m\u001b[0m\n\u001b[1;32m    189\u001b[0m     \u001b[0;32mdef\u001b[0m \u001b[0mforward\u001b[0m\u001b[0;34m(\u001b[0m\u001b[0mself\u001b[0m\u001b[0;34m,\u001b[0m \u001b[0minput\u001b[0m\u001b[0;34m:\u001b[0m \u001b[0mTensor\u001b[0m\u001b[0;34m)\u001b[0m \u001b[0;34m->\u001b[0m \u001b[0mTensor\u001b[0m\u001b[0;34m:\u001b[0m\u001b[0;34m\u001b[0m\u001b[0;34m\u001b[0m\u001b[0m\n\u001b[0;32m--> 190\u001b[0;31m         return F.embedding(\n\u001b[0m\u001b[1;32m    191\u001b[0m             \u001b[0minput\u001b[0m\u001b[0;34m,\u001b[0m\u001b[0;34m\u001b[0m\u001b[0;34m\u001b[0m\u001b[0m\n\u001b[1;32m    192\u001b[0m             \u001b[0mself\u001b[0m\u001b[0;34m.\u001b[0m\u001b[0mweight\u001b[0m\u001b[0;34m,\u001b[0m\u001b[0;34m\u001b[0m\u001b[0;34m\u001b[0m\u001b[0m\n",
            "\u001b[0;32m/usr/local/lib/python3.11/dist-packages/torch/nn/functional.py\u001b[0m in \u001b[0;36membedding\u001b[0;34m(input, weight, padding_idx, max_norm, norm_type, scale_grad_by_freq, sparse)\u001b[0m\n\u001b[1;32m   2549\u001b[0m         \u001b[0;31m# remove once script supports set_grad_enabled\u001b[0m\u001b[0;34m\u001b[0m\u001b[0;34m\u001b[0m\u001b[0m\n\u001b[1;32m   2550\u001b[0m         \u001b[0m_no_grad_embedding_renorm_\u001b[0m\u001b[0;34m(\u001b[0m\u001b[0mweight\u001b[0m\u001b[0;34m,\u001b[0m \u001b[0minput\u001b[0m\u001b[0;34m,\u001b[0m \u001b[0mmax_norm\u001b[0m\u001b[0;34m,\u001b[0m \u001b[0mnorm_type\u001b[0m\u001b[0;34m)\u001b[0m\u001b[0;34m\u001b[0m\u001b[0;34m\u001b[0m\u001b[0m\n\u001b[0;32m-> 2551\u001b[0;31m     \u001b[0;32mreturn\u001b[0m \u001b[0mtorch\u001b[0m\u001b[0;34m.\u001b[0m\u001b[0membedding\u001b[0m\u001b[0;34m(\u001b[0m\u001b[0mweight\u001b[0m\u001b[0;34m,\u001b[0m \u001b[0minput\u001b[0m\u001b[0;34m,\u001b[0m \u001b[0mpadding_idx\u001b[0m\u001b[0;34m,\u001b[0m \u001b[0mscale_grad_by_freq\u001b[0m\u001b[0;34m,\u001b[0m \u001b[0msparse\u001b[0m\u001b[0;34m)\u001b[0m\u001b[0;34m\u001b[0m\u001b[0;34m\u001b[0m\u001b[0m\n\u001b[0m\u001b[1;32m   2552\u001b[0m \u001b[0;34m\u001b[0m\u001b[0m\n\u001b[1;32m   2553\u001b[0m \u001b[0;34m\u001b[0m\u001b[0m\n",
            "\u001b[0;31mIndexError\u001b[0m: index out of range in self"
          ]
        }
      ],
      "source": [
        "# Importer les modules nécessaires de la bibliothèque transformers\n",
        "from transformers import AutoModelForCausalLM, TrainingArguments, Trainer\n",
        "\n",
        "# Configurer les arguments d'entraînement pour le fine-tuning\n",
        "training_args = TrainingArguments(\n",
        "    output_dir=\"./results\",\n",
        "    overwrite_output_dir=True,\n",
        "    debug=\"underflow_overflow\",\n",
        "    eval_strategy=\"epoch\",\n",
        "    learning_rate=5e-5,\n",
        "    per_device_train_batch_size=5,\n",
        "    #per_device_eval_batch_size=1,\n",
        "    num_train_epochs=1,\n",
        "    save_steps=500,\n",
        "    save_total_limit=1,\n",
        "    fp16=True,  # Utiliser la précision mixte si disponible\n",
        "    logging_dir='./logs'\n",
        "    #logging_steps=10,\n",
        ")\n",
        "\n",
        "# Configurer le Trainer, une classe de Hugging Face pour gérer l'entraînement\n",
        "trainer = Trainer(\n",
        "    model=model,                       # Modèle à fine-tuner\n",
        "    args=training_args,                # Arguments d'entraînement configurés précédemment\n",
        "    train_dataset=tokenized_train_dataset,    # Jeu de données tokenisé utilisé pour l'entraînement\n",
        "    eval_dataset=tokenized_test_dataset,\n",
        "    tokenizer=tokenizer,\n",
        "    data_collator=default_data_collator\n",
        ")\n",
        "\n",
        "# Lancer le processus d'entraînement\n",
        "trainer.train()"
      ]
    },
    {
      "cell_type": "code",
      "execution_count": null,
      "metadata": {
        "id": "jViX0j1vjiWD"
      },
      "outputs": [],
      "source": [
        "# Sauvegarder le modèle fine-tuné dans le répertoire : ./gpt-neo-125M-fine-tuned-poetry\n",
        "trainer.save_model()"
      ]
    },
    {
      "cell_type": "code",
      "source": [
        "# Sauvegarder le modèle fine-tuné\n",
        "model.save_pretrained(\"./gpt2-poetry\")\n",
        "tokenizer.save_pretrained(\"./gpt2-poetry\")"
      ],
      "metadata": {
        "id": "qXm_6tbwA5YW"
      },
      "execution_count": null,
      "outputs": []
    },
    {
      "cell_type": "code",
      "source": [
        "generator = pipeline('text-generation', model='./gpt2-poetry', tokenizer='./gpt2-poetry')\n",
        "print(generator(\"Compose un poème sur le bonheur\", max_length=200, temperature=0.8))\n"
      ],
      "metadata": {
        "id": "VDVcpoMRBeC5"
      },
      "execution_count": null,
      "outputs": []
    },
    {
      "cell_type": "code",
      "execution_count": null,
      "metadata": {
        "id": "gEWWEf2tjiWD"
      },
      "outputs": [],
      "source": [
        "#tokenizer.save_pretrained(\"./gpt-neo-125M-fine-tuned-poetry/tokenizer\")"
      ]
    },
    {
      "cell_type": "code",
      "execution_count": null,
      "metadata": {
        "id": "vMFkOIDbjiWE"
      },
      "outputs": [],
      "source": [
        "def calculate_rouge(reference, candidate):\n",
        "    scorer = rouge_scorer.RougeScorer(['rouge1', 'rougeL'], use_stemmer=True)\n",
        "    scores = scorer.score(reference, candidate)\n",
        "    return scores['rouge1'].fmeasure\n"
      ]
    },
    {
      "cell_type": "code",
      "execution_count": null,
      "metadata": {
        "id": "dxe2SFpGjiWE"
      },
      "outputs": [],
      "source": [
        "def generate_poem(model, tokenizer, keyword, max_length=100):\n",
        "    if not keyword.strip():\n",
        "        raise ValueError(\"Le mot-clé ne peut pas être vide. Veuillez entrer un mot valide.\")\n",
        "\n",
        "    input_ids = tokenizer.encode(keyword, return_tensors=\"pt\")\n",
        "    output = model.generate(input_ids, max_length=max_length, num_return_sequences=1)\n",
        "    generated_poem = tokenizer.decode(output[0], skip_special_tokens=True)\n",
        "    return generated_poem\n"
      ]
    },
    {
      "cell_type": "code",
      "execution_count": null,
      "metadata": {
        "id": "lHmGn0zRjiWE"
      },
      "outputs": [],
      "source": [
        "def calculate_bleu(reference, candidate):\n",
        "    return sentence_bleu([reference], candidate, smoothing_function=SmoothingFunction().method1)\n"
      ]
    },
    {
      "cell_type": "code",
      "execution_count": null,
      "metadata": {
        "id": "Z8zBGcVTjiWF"
      },
      "outputs": [],
      "source": [
        "from transformers import GPT2LMHeadModel, GPTNeoForCausalLM, GPT2Tokenizer\n",
        "from nltk.translate.bleu_score import sentence_bleu\n",
        "from nltk.translate.bleu_score import SmoothingFunction\n",
        "#from rouge_score import rouge_scorer"
      ]
    },
    {
      "cell_type": "code",
      "execution_count": null,
      "metadata": {
        "id": "3PKj2ojEjiWF"
      },
      "outputs": [],
      "source": [
        "gpt2_model = GPT2LMHeadModel.from_pretrained(\"gpt2\")\n",
        "gpt2_tokenizer = GPT2Tokenizer.from_pretrained(\"gpt2\")\n",
        "\n",
        "gptneo_model = GPTNeoForCausalLM.from_pretrained(\"EleutherAI/gpt-neo-1.3B\")\n",
        "gptneo_tokenizer = GPT2Tokenizer.from_pretrained(\"EleutherAI/gpt-neo-1.3B\")\n",
        "\n",
        "tokenizer = AutoTokenizer.from_pretrained(\"./gpt-neo-125M-fine-tuned-poetry/tokenizer\")\n",
        "model = AutoModelForCausalLM.from_pretrained(\"./gpt-neo-125M-fine-tuned-poetry\")\n",
        "\n"
      ]
    },
    {
      "cell_type": "code",
      "execution_count": null,
      "metadata": {
        "id": "5w9tS5_tjiWG"
      },
      "outputs": [],
      "source": [
        "keyword = input(\"Entrez un mot-clé pour générer un poème : \").strip()\n",
        "\n",
        "print(keyword)\n",
        "\n",
        "if len(keyword) == 0:\n",
        "    print(\"Erreur : Le mot-clé ne peut pas être vide.\")\n",
        "    exit()\n",
        "\n",
        "if len(keyword) > 50:\n",
        "    print(\"Erreur : Le mot-clé est trop long. Veuillez entrer un mot ou une courte phrase.\")\n",
        "    exit()\n",
        "\n",
        "# Générer des poèmes pour chaque modèle\n",
        "gpt2_poem = generate_poem(gpt2_model, gpt2_tokenizer, keyword)\n",
        "#gptneo_poem = generate_poem(gptneo_model, gptneo_tokenizer, keyword)\n",
        "model_poem = generate_poem(model, gptneo_tokenizer, keyword)\n",
        "\n",
        "# Calculer les scores BLEU et ROUGE\n",
        "bleu_score = calculate_bleu(gpt2_poem, model_poem)\n",
        "rouge_score = calculate_rouge(gpt2_poem, model_poem)\n",
        "\n",
        "# Afficher les poèmes générés et les scores\n",
        "print(\"\\nPoème généré par GPT-2 :\\n\", gpt2_poem)\n",
        "#print(\"\\nPoème généré par GPT-Neo :\\n\", gptneo_poem)\n",
        "print(\"\\nPoème généré par model :\\n\", model_poem)\n",
        "print(\"\\nScore BLEU entre les poèmes générés : \", bleu_score)\n",
        "print(\"Score ROUGE entre les poèmes générés : \", rouge_score)\n"
      ]
    }
  ],
  "metadata": {
    "kernelspec": {
      "display_name": "Python 3",
      "name": "python3"
    },
    "language_info": {
      "codemirror_mode": {
        "name": "ipython",
        "version": 3
      },
      "file_extension": ".py",
      "mimetype": "text/x-python",
      "name": "python",
      "nbconvert_exporter": "python",
      "pygments_lexer": "ipython3",
      "version": "3.11.9"
    },
    "colab": {
      "provenance": [],
      "gpuType": "V28"
    },
    "accelerator": "TPU",
    "widgets": {
      "application/vnd.jupyter.widget-state+json": {
        "3dcf0cf7059d484199a77bf20a2c696e": {
          "model_module": "@jupyter-widgets/controls",
          "model_name": "HBoxModel",
          "model_module_version": "1.5.0",
          "state": {
            "_dom_classes": [],
            "_model_module": "@jupyter-widgets/controls",
            "_model_module_version": "1.5.0",
            "_model_name": "HBoxModel",
            "_view_count": null,
            "_view_module": "@jupyter-widgets/controls",
            "_view_module_version": "1.5.0",
            "_view_name": "HBoxView",
            "box_style": "",
            "children": [
              "IPY_MODEL_15ff3b7490c14ef884284daa0d7a1350",
              "IPY_MODEL_55da4272ef114710baff20a34a8e8091",
              "IPY_MODEL_8ca314488a424c3eaf69f17d508d4458"
            ],
            "layout": "IPY_MODEL_51fe387fe44545e3b7d716570236e6d5"
          }
        },
        "15ff3b7490c14ef884284daa0d7a1350": {
          "model_module": "@jupyter-widgets/controls",
          "model_name": "HTMLModel",
          "model_module_version": "1.5.0",
          "state": {
            "_dom_classes": [],
            "_model_module": "@jupyter-widgets/controls",
            "_model_module_version": "1.5.0",
            "_model_name": "HTMLModel",
            "_view_count": null,
            "_view_module": "@jupyter-widgets/controls",
            "_view_module_version": "1.5.0",
            "_view_name": "HTMLView",
            "description": "",
            "description_tooltip": null,
            "layout": "IPY_MODEL_b94c225d1c8e44b8befde5a8b48a0c24",
            "placeholder": "​",
            "style": "IPY_MODEL_21a9afffadf04fef929a594b18cec568",
            "value": "Map: 100%"
          }
        },
        "55da4272ef114710baff20a34a8e8091": {
          "model_module": "@jupyter-widgets/controls",
          "model_name": "FloatProgressModel",
          "model_module_version": "1.5.0",
          "state": {
            "_dom_classes": [],
            "_model_module": "@jupyter-widgets/controls",
            "_model_module_version": "1.5.0",
            "_model_name": "FloatProgressModel",
            "_view_count": null,
            "_view_module": "@jupyter-widgets/controls",
            "_view_module_version": "1.5.0",
            "_view_name": "ProgressView",
            "bar_style": "success",
            "description": "",
            "description_tooltip": null,
            "layout": "IPY_MODEL_fc873a5d3c9d4a6b8eb7437c9067d28d",
            "max": 1064,
            "min": 0,
            "orientation": "horizontal",
            "style": "IPY_MODEL_1aeaa8c83fa34e31b0b07991a50a7993",
            "value": 1064
          }
        },
        "8ca314488a424c3eaf69f17d508d4458": {
          "model_module": "@jupyter-widgets/controls",
          "model_name": "HTMLModel",
          "model_module_version": "1.5.0",
          "state": {
            "_dom_classes": [],
            "_model_module": "@jupyter-widgets/controls",
            "_model_module_version": "1.5.0",
            "_model_name": "HTMLModel",
            "_view_count": null,
            "_view_module": "@jupyter-widgets/controls",
            "_view_module_version": "1.5.0",
            "_view_name": "HTMLView",
            "description": "",
            "description_tooltip": null,
            "layout": "IPY_MODEL_7b93353c7e784ecc80a3b3ecec17b7c8",
            "placeholder": "​",
            "style": "IPY_MODEL_dd9e7185db3443cda41cb80de89440fd",
            "value": " 1064/1064 [00:00&lt;00:00, 10650.27 examples/s]"
          }
        },
        "51fe387fe44545e3b7d716570236e6d5": {
          "model_module": "@jupyter-widgets/base",
          "model_name": "LayoutModel",
          "model_module_version": "1.2.0",
          "state": {
            "_model_module": "@jupyter-widgets/base",
            "_model_module_version": "1.2.0",
            "_model_name": "LayoutModel",
            "_view_count": null,
            "_view_module": "@jupyter-widgets/base",
            "_view_module_version": "1.2.0",
            "_view_name": "LayoutView",
            "align_content": null,
            "align_items": null,
            "align_self": null,
            "border": null,
            "bottom": null,
            "display": null,
            "flex": null,
            "flex_flow": null,
            "grid_area": null,
            "grid_auto_columns": null,
            "grid_auto_flow": null,
            "grid_auto_rows": null,
            "grid_column": null,
            "grid_gap": null,
            "grid_row": null,
            "grid_template_areas": null,
            "grid_template_columns": null,
            "grid_template_rows": null,
            "height": null,
            "justify_content": null,
            "justify_items": null,
            "left": null,
            "margin": null,
            "max_height": null,
            "max_width": null,
            "min_height": null,
            "min_width": null,
            "object_fit": null,
            "object_position": null,
            "order": null,
            "overflow": null,
            "overflow_x": null,
            "overflow_y": null,
            "padding": null,
            "right": null,
            "top": null,
            "visibility": null,
            "width": null
          }
        },
        "b94c225d1c8e44b8befde5a8b48a0c24": {
          "model_module": "@jupyter-widgets/base",
          "model_name": "LayoutModel",
          "model_module_version": "1.2.0",
          "state": {
            "_model_module": "@jupyter-widgets/base",
            "_model_module_version": "1.2.0",
            "_model_name": "LayoutModel",
            "_view_count": null,
            "_view_module": "@jupyter-widgets/base",
            "_view_module_version": "1.2.0",
            "_view_name": "LayoutView",
            "align_content": null,
            "align_items": null,
            "align_self": null,
            "border": null,
            "bottom": null,
            "display": null,
            "flex": null,
            "flex_flow": null,
            "grid_area": null,
            "grid_auto_columns": null,
            "grid_auto_flow": null,
            "grid_auto_rows": null,
            "grid_column": null,
            "grid_gap": null,
            "grid_row": null,
            "grid_template_areas": null,
            "grid_template_columns": null,
            "grid_template_rows": null,
            "height": null,
            "justify_content": null,
            "justify_items": null,
            "left": null,
            "margin": null,
            "max_height": null,
            "max_width": null,
            "min_height": null,
            "min_width": null,
            "object_fit": null,
            "object_position": null,
            "order": null,
            "overflow": null,
            "overflow_x": null,
            "overflow_y": null,
            "padding": null,
            "right": null,
            "top": null,
            "visibility": null,
            "width": null
          }
        },
        "21a9afffadf04fef929a594b18cec568": {
          "model_module": "@jupyter-widgets/controls",
          "model_name": "DescriptionStyleModel",
          "model_module_version": "1.5.0",
          "state": {
            "_model_module": "@jupyter-widgets/controls",
            "_model_module_version": "1.5.0",
            "_model_name": "DescriptionStyleModel",
            "_view_count": null,
            "_view_module": "@jupyter-widgets/base",
            "_view_module_version": "1.2.0",
            "_view_name": "StyleView",
            "description_width": ""
          }
        },
        "fc873a5d3c9d4a6b8eb7437c9067d28d": {
          "model_module": "@jupyter-widgets/base",
          "model_name": "LayoutModel",
          "model_module_version": "1.2.0",
          "state": {
            "_model_module": "@jupyter-widgets/base",
            "_model_module_version": "1.2.0",
            "_model_name": "LayoutModel",
            "_view_count": null,
            "_view_module": "@jupyter-widgets/base",
            "_view_module_version": "1.2.0",
            "_view_name": "LayoutView",
            "align_content": null,
            "align_items": null,
            "align_self": null,
            "border": null,
            "bottom": null,
            "display": null,
            "flex": null,
            "flex_flow": null,
            "grid_area": null,
            "grid_auto_columns": null,
            "grid_auto_flow": null,
            "grid_auto_rows": null,
            "grid_column": null,
            "grid_gap": null,
            "grid_row": null,
            "grid_template_areas": null,
            "grid_template_columns": null,
            "grid_template_rows": null,
            "height": null,
            "justify_content": null,
            "justify_items": null,
            "left": null,
            "margin": null,
            "max_height": null,
            "max_width": null,
            "min_height": null,
            "min_width": null,
            "object_fit": null,
            "object_position": null,
            "order": null,
            "overflow": null,
            "overflow_x": null,
            "overflow_y": null,
            "padding": null,
            "right": null,
            "top": null,
            "visibility": null,
            "width": null
          }
        },
        "1aeaa8c83fa34e31b0b07991a50a7993": {
          "model_module": "@jupyter-widgets/controls",
          "model_name": "ProgressStyleModel",
          "model_module_version": "1.5.0",
          "state": {
            "_model_module": "@jupyter-widgets/controls",
            "_model_module_version": "1.5.0",
            "_model_name": "ProgressStyleModel",
            "_view_count": null,
            "_view_module": "@jupyter-widgets/base",
            "_view_module_version": "1.2.0",
            "_view_name": "StyleView",
            "bar_color": null,
            "description_width": ""
          }
        },
        "7b93353c7e784ecc80a3b3ecec17b7c8": {
          "model_module": "@jupyter-widgets/base",
          "model_name": "LayoutModel",
          "model_module_version": "1.2.0",
          "state": {
            "_model_module": "@jupyter-widgets/base",
            "_model_module_version": "1.2.0",
            "_model_name": "LayoutModel",
            "_view_count": null,
            "_view_module": "@jupyter-widgets/base",
            "_view_module_version": "1.2.0",
            "_view_name": "LayoutView",
            "align_content": null,
            "align_items": null,
            "align_self": null,
            "border": null,
            "bottom": null,
            "display": null,
            "flex": null,
            "flex_flow": null,
            "grid_area": null,
            "grid_auto_columns": null,
            "grid_auto_flow": null,
            "grid_auto_rows": null,
            "grid_column": null,
            "grid_gap": null,
            "grid_row": null,
            "grid_template_areas": null,
            "grid_template_columns": null,
            "grid_template_rows": null,
            "height": null,
            "justify_content": null,
            "justify_items": null,
            "left": null,
            "margin": null,
            "max_height": null,
            "max_width": null,
            "min_height": null,
            "min_width": null,
            "object_fit": null,
            "object_position": null,
            "order": null,
            "overflow": null,
            "overflow_x": null,
            "overflow_y": null,
            "padding": null,
            "right": null,
            "top": null,
            "visibility": null,
            "width": null
          }
        },
        "dd9e7185db3443cda41cb80de89440fd": {
          "model_module": "@jupyter-widgets/controls",
          "model_name": "DescriptionStyleModel",
          "model_module_version": "1.5.0",
          "state": {
            "_model_module": "@jupyter-widgets/controls",
            "_model_module_version": "1.5.0",
            "_model_name": "DescriptionStyleModel",
            "_view_count": null,
            "_view_module": "@jupyter-widgets/base",
            "_view_module_version": "1.2.0",
            "_view_name": "StyleView",
            "description_width": ""
          }
        },
        "2d42b3d58b694d0da7958a67793396a3": {
          "model_module": "@jupyter-widgets/controls",
          "model_name": "HBoxModel",
          "model_module_version": "1.5.0",
          "state": {
            "_dom_classes": [],
            "_model_module": "@jupyter-widgets/controls",
            "_model_module_version": "1.5.0",
            "_model_name": "HBoxModel",
            "_view_count": null,
            "_view_module": "@jupyter-widgets/controls",
            "_view_module_version": "1.5.0",
            "_view_name": "HBoxView",
            "box_style": "",
            "children": [
              "IPY_MODEL_e4962545d15c4963a419a40fe9d79c8a",
              "IPY_MODEL_dae2e7838e7c4d57b14aa68fd43a8fc3",
              "IPY_MODEL_dec44fd3cd4c495e8b4221967018827e"
            ],
            "layout": "IPY_MODEL_921a43c3f93a43eaa27d6752b038d7c1"
          }
        },
        "e4962545d15c4963a419a40fe9d79c8a": {
          "model_module": "@jupyter-widgets/controls",
          "model_name": "HTMLModel",
          "model_module_version": "1.5.0",
          "state": {
            "_dom_classes": [],
            "_model_module": "@jupyter-widgets/controls",
            "_model_module_version": "1.5.0",
            "_model_name": "HTMLModel",
            "_view_count": null,
            "_view_module": "@jupyter-widgets/controls",
            "_view_module_version": "1.5.0",
            "_view_name": "HTMLView",
            "description": "",
            "description_tooltip": null,
            "layout": "IPY_MODEL_131ded7649704d11a6f5ee8b733e0983",
            "placeholder": "​",
            "style": "IPY_MODEL_894f8c0dd0024e0ab4c39c89b776714b",
            "value": "Map: 100%"
          }
        },
        "dae2e7838e7c4d57b14aa68fd43a8fc3": {
          "model_module": "@jupyter-widgets/controls",
          "model_name": "FloatProgressModel",
          "model_module_version": "1.5.0",
          "state": {
            "_dom_classes": [],
            "_model_module": "@jupyter-widgets/controls",
            "_model_module_version": "1.5.0",
            "_model_name": "FloatProgressModel",
            "_view_count": null,
            "_view_module": "@jupyter-widgets/controls",
            "_view_module_version": "1.5.0",
            "_view_name": "ProgressView",
            "bar_style": "success",
            "description": "",
            "description_tooltip": null,
            "layout": "IPY_MODEL_057e2978227d4125b64ef07eaa1c28e5",
            "max": 1064,
            "min": 0,
            "orientation": "horizontal",
            "style": "IPY_MODEL_3e52875593fa45c19a506ac4cd1944ae",
            "value": 1064
          }
        },
        "dec44fd3cd4c495e8b4221967018827e": {
          "model_module": "@jupyter-widgets/controls",
          "model_name": "HTMLModel",
          "model_module_version": "1.5.0",
          "state": {
            "_dom_classes": [],
            "_model_module": "@jupyter-widgets/controls",
            "_model_module_version": "1.5.0",
            "_model_name": "HTMLModel",
            "_view_count": null,
            "_view_module": "@jupyter-widgets/controls",
            "_view_module_version": "1.5.0",
            "_view_name": "HTMLView",
            "description": "",
            "description_tooltip": null,
            "layout": "IPY_MODEL_19eabb8311d64548a3d96d51a518f0b1",
            "placeholder": "​",
            "style": "IPY_MODEL_7f4959f1665044ecacd55c953cac72b8",
            "value": " 1064/1064 [00:06&lt;00:00, 160.34 examples/s]"
          }
        },
        "921a43c3f93a43eaa27d6752b038d7c1": {
          "model_module": "@jupyter-widgets/base",
          "model_name": "LayoutModel",
          "model_module_version": "1.2.0",
          "state": {
            "_model_module": "@jupyter-widgets/base",
            "_model_module_version": "1.2.0",
            "_model_name": "LayoutModel",
            "_view_count": null,
            "_view_module": "@jupyter-widgets/base",
            "_view_module_version": "1.2.0",
            "_view_name": "LayoutView",
            "align_content": null,
            "align_items": null,
            "align_self": null,
            "border": null,
            "bottom": null,
            "display": null,
            "flex": null,
            "flex_flow": null,
            "grid_area": null,
            "grid_auto_columns": null,
            "grid_auto_flow": null,
            "grid_auto_rows": null,
            "grid_column": null,
            "grid_gap": null,
            "grid_row": null,
            "grid_template_areas": null,
            "grid_template_columns": null,
            "grid_template_rows": null,
            "height": null,
            "justify_content": null,
            "justify_items": null,
            "left": null,
            "margin": null,
            "max_height": null,
            "max_width": null,
            "min_height": null,
            "min_width": null,
            "object_fit": null,
            "object_position": null,
            "order": null,
            "overflow": null,
            "overflow_x": null,
            "overflow_y": null,
            "padding": null,
            "right": null,
            "top": null,
            "visibility": null,
            "width": null
          }
        },
        "131ded7649704d11a6f5ee8b733e0983": {
          "model_module": "@jupyter-widgets/base",
          "model_name": "LayoutModel",
          "model_module_version": "1.2.0",
          "state": {
            "_model_module": "@jupyter-widgets/base",
            "_model_module_version": "1.2.0",
            "_model_name": "LayoutModel",
            "_view_count": null,
            "_view_module": "@jupyter-widgets/base",
            "_view_module_version": "1.2.0",
            "_view_name": "LayoutView",
            "align_content": null,
            "align_items": null,
            "align_self": null,
            "border": null,
            "bottom": null,
            "display": null,
            "flex": null,
            "flex_flow": null,
            "grid_area": null,
            "grid_auto_columns": null,
            "grid_auto_flow": null,
            "grid_auto_rows": null,
            "grid_column": null,
            "grid_gap": null,
            "grid_row": null,
            "grid_template_areas": null,
            "grid_template_columns": null,
            "grid_template_rows": null,
            "height": null,
            "justify_content": null,
            "justify_items": null,
            "left": null,
            "margin": null,
            "max_height": null,
            "max_width": null,
            "min_height": null,
            "min_width": null,
            "object_fit": null,
            "object_position": null,
            "order": null,
            "overflow": null,
            "overflow_x": null,
            "overflow_y": null,
            "padding": null,
            "right": null,
            "top": null,
            "visibility": null,
            "width": null
          }
        },
        "894f8c0dd0024e0ab4c39c89b776714b": {
          "model_module": "@jupyter-widgets/controls",
          "model_name": "DescriptionStyleModel",
          "model_module_version": "1.5.0",
          "state": {
            "_model_module": "@jupyter-widgets/controls",
            "_model_module_version": "1.5.0",
            "_model_name": "DescriptionStyleModel",
            "_view_count": null,
            "_view_module": "@jupyter-widgets/base",
            "_view_module_version": "1.2.0",
            "_view_name": "StyleView",
            "description_width": ""
          }
        },
        "057e2978227d4125b64ef07eaa1c28e5": {
          "model_module": "@jupyter-widgets/base",
          "model_name": "LayoutModel",
          "model_module_version": "1.2.0",
          "state": {
            "_model_module": "@jupyter-widgets/base",
            "_model_module_version": "1.2.0",
            "_model_name": "LayoutModel",
            "_view_count": null,
            "_view_module": "@jupyter-widgets/base",
            "_view_module_version": "1.2.0",
            "_view_name": "LayoutView",
            "align_content": null,
            "align_items": null,
            "align_self": null,
            "border": null,
            "bottom": null,
            "display": null,
            "flex": null,
            "flex_flow": null,
            "grid_area": null,
            "grid_auto_columns": null,
            "grid_auto_flow": null,
            "grid_auto_rows": null,
            "grid_column": null,
            "grid_gap": null,
            "grid_row": null,
            "grid_template_areas": null,
            "grid_template_columns": null,
            "grid_template_rows": null,
            "height": null,
            "justify_content": null,
            "justify_items": null,
            "left": null,
            "margin": null,
            "max_height": null,
            "max_width": null,
            "min_height": null,
            "min_width": null,
            "object_fit": null,
            "object_position": null,
            "order": null,
            "overflow": null,
            "overflow_x": null,
            "overflow_y": null,
            "padding": null,
            "right": null,
            "top": null,
            "visibility": null,
            "width": null
          }
        },
        "3e52875593fa45c19a506ac4cd1944ae": {
          "model_module": "@jupyter-widgets/controls",
          "model_name": "ProgressStyleModel",
          "model_module_version": "1.5.0",
          "state": {
            "_model_module": "@jupyter-widgets/controls",
            "_model_module_version": "1.5.0",
            "_model_name": "ProgressStyleModel",
            "_view_count": null,
            "_view_module": "@jupyter-widgets/base",
            "_view_module_version": "1.2.0",
            "_view_name": "StyleView",
            "bar_color": null,
            "description_width": ""
          }
        },
        "19eabb8311d64548a3d96d51a518f0b1": {
          "model_module": "@jupyter-widgets/base",
          "model_name": "LayoutModel",
          "model_module_version": "1.2.0",
          "state": {
            "_model_module": "@jupyter-widgets/base",
            "_model_module_version": "1.2.0",
            "_model_name": "LayoutModel",
            "_view_count": null,
            "_view_module": "@jupyter-widgets/base",
            "_view_module_version": "1.2.0",
            "_view_name": "LayoutView",
            "align_content": null,
            "align_items": null,
            "align_self": null,
            "border": null,
            "bottom": null,
            "display": null,
            "flex": null,
            "flex_flow": null,
            "grid_area": null,
            "grid_auto_columns": null,
            "grid_auto_flow": null,
            "grid_auto_rows": null,
            "grid_column": null,
            "grid_gap": null,
            "grid_row": null,
            "grid_template_areas": null,
            "grid_template_columns": null,
            "grid_template_rows": null,
            "height": null,
            "justify_content": null,
            "justify_items": null,
            "left": null,
            "margin": null,
            "max_height": null,
            "max_width": null,
            "min_height": null,
            "min_width": null,
            "object_fit": null,
            "object_position": null,
            "order": null,
            "overflow": null,
            "overflow_x": null,
            "overflow_y": null,
            "padding": null,
            "right": null,
            "top": null,
            "visibility": null,
            "width": null
          }
        },
        "7f4959f1665044ecacd55c953cac72b8": {
          "model_module": "@jupyter-widgets/controls",
          "model_name": "DescriptionStyleModel",
          "model_module_version": "1.5.0",
          "state": {
            "_model_module": "@jupyter-widgets/controls",
            "_model_module_version": "1.5.0",
            "_model_name": "DescriptionStyleModel",
            "_view_count": null,
            "_view_module": "@jupyter-widgets/base",
            "_view_module_version": "1.2.0",
            "_view_name": "StyleView",
            "description_width": ""
          }
        },
        "cb5b42014255480aadf0b35626880c30": {
          "model_module": "@jupyter-widgets/controls",
          "model_name": "HBoxModel",
          "model_module_version": "1.5.0",
          "state": {
            "_dom_classes": [],
            "_model_module": "@jupyter-widgets/controls",
            "_model_module_version": "1.5.0",
            "_model_name": "HBoxModel",
            "_view_count": null,
            "_view_module": "@jupyter-widgets/controls",
            "_view_module_version": "1.5.0",
            "_view_name": "HBoxView",
            "box_style": "",
            "children": [
              "IPY_MODEL_a7a030bb7dec4531897cb24ce22e57fb",
              "IPY_MODEL_940f31613a2e4082a36656a3e450a1a7",
              "IPY_MODEL_57c06d8974f442f1ac79c2bfbe365a0b"
            ],
            "layout": "IPY_MODEL_c796cb7b040d42d39e8a00475aaf372c"
          }
        },
        "a7a030bb7dec4531897cb24ce22e57fb": {
          "model_module": "@jupyter-widgets/controls",
          "model_name": "HTMLModel",
          "model_module_version": "1.5.0",
          "state": {
            "_dom_classes": [],
            "_model_module": "@jupyter-widgets/controls",
            "_model_module_version": "1.5.0",
            "_model_name": "HTMLModel",
            "_view_count": null,
            "_view_module": "@jupyter-widgets/controls",
            "_view_module_version": "1.5.0",
            "_view_name": "HTMLView",
            "description": "",
            "description_tooltip": null,
            "layout": "IPY_MODEL_48d495c60ce74b27a1775199ac69e831",
            "placeholder": "​",
            "style": "IPY_MODEL_3b084796145946c684b2da44838312f3",
            "value": "Map: 100%"
          }
        },
        "940f31613a2e4082a36656a3e450a1a7": {
          "model_module": "@jupyter-widgets/controls",
          "model_name": "FloatProgressModel",
          "model_module_version": "1.5.0",
          "state": {
            "_dom_classes": [],
            "_model_module": "@jupyter-widgets/controls",
            "_model_module_version": "1.5.0",
            "_model_name": "FloatProgressModel",
            "_view_count": null,
            "_view_module": "@jupyter-widgets/controls",
            "_view_module_version": "1.5.0",
            "_view_name": "ProgressView",
            "bar_style": "success",
            "description": "",
            "description_tooltip": null,
            "layout": "IPY_MODEL_82b4ca24057c439783cf29279c2a4ac9",
            "max": 266,
            "min": 0,
            "orientation": "horizontal",
            "style": "IPY_MODEL_f5d359f980f14422ba3243d2ca7cc8e4",
            "value": 266
          }
        },
        "57c06d8974f442f1ac79c2bfbe365a0b": {
          "model_module": "@jupyter-widgets/controls",
          "model_name": "HTMLModel",
          "model_module_version": "1.5.0",
          "state": {
            "_dom_classes": [],
            "_model_module": "@jupyter-widgets/controls",
            "_model_module_version": "1.5.0",
            "_model_name": "HTMLModel",
            "_view_count": null,
            "_view_module": "@jupyter-widgets/controls",
            "_view_module_version": "1.5.0",
            "_view_name": "HTMLView",
            "description": "",
            "description_tooltip": null,
            "layout": "IPY_MODEL_844bfb1432bb4eafac12b82c5ed7040c",
            "placeholder": "​",
            "style": "IPY_MODEL_073974ea91f24aef8a7158de3c051736",
            "value": " 266/266 [00:00&lt;00:00, 280.72 examples/s]"
          }
        },
        "c796cb7b040d42d39e8a00475aaf372c": {
          "model_module": "@jupyter-widgets/base",
          "model_name": "LayoutModel",
          "model_module_version": "1.2.0",
          "state": {
            "_model_module": "@jupyter-widgets/base",
            "_model_module_version": "1.2.0",
            "_model_name": "LayoutModel",
            "_view_count": null,
            "_view_module": "@jupyter-widgets/base",
            "_view_module_version": "1.2.0",
            "_view_name": "LayoutView",
            "align_content": null,
            "align_items": null,
            "align_self": null,
            "border": null,
            "bottom": null,
            "display": null,
            "flex": null,
            "flex_flow": null,
            "grid_area": null,
            "grid_auto_columns": null,
            "grid_auto_flow": null,
            "grid_auto_rows": null,
            "grid_column": null,
            "grid_gap": null,
            "grid_row": null,
            "grid_template_areas": null,
            "grid_template_columns": null,
            "grid_template_rows": null,
            "height": null,
            "justify_content": null,
            "justify_items": null,
            "left": null,
            "margin": null,
            "max_height": null,
            "max_width": null,
            "min_height": null,
            "min_width": null,
            "object_fit": null,
            "object_position": null,
            "order": null,
            "overflow": null,
            "overflow_x": null,
            "overflow_y": null,
            "padding": null,
            "right": null,
            "top": null,
            "visibility": null,
            "width": null
          }
        },
        "48d495c60ce74b27a1775199ac69e831": {
          "model_module": "@jupyter-widgets/base",
          "model_name": "LayoutModel",
          "model_module_version": "1.2.0",
          "state": {
            "_model_module": "@jupyter-widgets/base",
            "_model_module_version": "1.2.0",
            "_model_name": "LayoutModel",
            "_view_count": null,
            "_view_module": "@jupyter-widgets/base",
            "_view_module_version": "1.2.0",
            "_view_name": "LayoutView",
            "align_content": null,
            "align_items": null,
            "align_self": null,
            "border": null,
            "bottom": null,
            "display": null,
            "flex": null,
            "flex_flow": null,
            "grid_area": null,
            "grid_auto_columns": null,
            "grid_auto_flow": null,
            "grid_auto_rows": null,
            "grid_column": null,
            "grid_gap": null,
            "grid_row": null,
            "grid_template_areas": null,
            "grid_template_columns": null,
            "grid_template_rows": null,
            "height": null,
            "justify_content": null,
            "justify_items": null,
            "left": null,
            "margin": null,
            "max_height": null,
            "max_width": null,
            "min_height": null,
            "min_width": null,
            "object_fit": null,
            "object_position": null,
            "order": null,
            "overflow": null,
            "overflow_x": null,
            "overflow_y": null,
            "padding": null,
            "right": null,
            "top": null,
            "visibility": null,
            "width": null
          }
        },
        "3b084796145946c684b2da44838312f3": {
          "model_module": "@jupyter-widgets/controls",
          "model_name": "DescriptionStyleModel",
          "model_module_version": "1.5.0",
          "state": {
            "_model_module": "@jupyter-widgets/controls",
            "_model_module_version": "1.5.0",
            "_model_name": "DescriptionStyleModel",
            "_view_count": null,
            "_view_module": "@jupyter-widgets/base",
            "_view_module_version": "1.2.0",
            "_view_name": "StyleView",
            "description_width": ""
          }
        },
        "82b4ca24057c439783cf29279c2a4ac9": {
          "model_module": "@jupyter-widgets/base",
          "model_name": "LayoutModel",
          "model_module_version": "1.2.0",
          "state": {
            "_model_module": "@jupyter-widgets/base",
            "_model_module_version": "1.2.0",
            "_model_name": "LayoutModel",
            "_view_count": null,
            "_view_module": "@jupyter-widgets/base",
            "_view_module_version": "1.2.0",
            "_view_name": "LayoutView",
            "align_content": null,
            "align_items": null,
            "align_self": null,
            "border": null,
            "bottom": null,
            "display": null,
            "flex": null,
            "flex_flow": null,
            "grid_area": null,
            "grid_auto_columns": null,
            "grid_auto_flow": null,
            "grid_auto_rows": null,
            "grid_column": null,
            "grid_gap": null,
            "grid_row": null,
            "grid_template_areas": null,
            "grid_template_columns": null,
            "grid_template_rows": null,
            "height": null,
            "justify_content": null,
            "justify_items": null,
            "left": null,
            "margin": null,
            "max_height": null,
            "max_width": null,
            "min_height": null,
            "min_width": null,
            "object_fit": null,
            "object_position": null,
            "order": null,
            "overflow": null,
            "overflow_x": null,
            "overflow_y": null,
            "padding": null,
            "right": null,
            "top": null,
            "visibility": null,
            "width": null
          }
        },
        "f5d359f980f14422ba3243d2ca7cc8e4": {
          "model_module": "@jupyter-widgets/controls",
          "model_name": "ProgressStyleModel",
          "model_module_version": "1.5.0",
          "state": {
            "_model_module": "@jupyter-widgets/controls",
            "_model_module_version": "1.5.0",
            "_model_name": "ProgressStyleModel",
            "_view_count": null,
            "_view_module": "@jupyter-widgets/base",
            "_view_module_version": "1.2.0",
            "_view_name": "StyleView",
            "bar_color": null,
            "description_width": ""
          }
        },
        "844bfb1432bb4eafac12b82c5ed7040c": {
          "model_module": "@jupyter-widgets/base",
          "model_name": "LayoutModel",
          "model_module_version": "1.2.0",
          "state": {
            "_model_module": "@jupyter-widgets/base",
            "_model_module_version": "1.2.0",
            "_model_name": "LayoutModel",
            "_view_count": null,
            "_view_module": "@jupyter-widgets/base",
            "_view_module_version": "1.2.0",
            "_view_name": "LayoutView",
            "align_content": null,
            "align_items": null,
            "align_self": null,
            "border": null,
            "bottom": null,
            "display": null,
            "flex": null,
            "flex_flow": null,
            "grid_area": null,
            "grid_auto_columns": null,
            "grid_auto_flow": null,
            "grid_auto_rows": null,
            "grid_column": null,
            "grid_gap": null,
            "grid_row": null,
            "grid_template_areas": null,
            "grid_template_columns": null,
            "grid_template_rows": null,
            "height": null,
            "justify_content": null,
            "justify_items": null,
            "left": null,
            "margin": null,
            "max_height": null,
            "max_width": null,
            "min_height": null,
            "min_width": null,
            "object_fit": null,
            "object_position": null,
            "order": null,
            "overflow": null,
            "overflow_x": null,
            "overflow_y": null,
            "padding": null,
            "right": null,
            "top": null,
            "visibility": null,
            "width": null
          }
        },
        "073974ea91f24aef8a7158de3c051736": {
          "model_module": "@jupyter-widgets/controls",
          "model_name": "DescriptionStyleModel",
          "model_module_version": "1.5.0",
          "state": {
            "_model_module": "@jupyter-widgets/controls",
            "_model_module_version": "1.5.0",
            "_model_name": "DescriptionStyleModel",
            "_view_count": null,
            "_view_module": "@jupyter-widgets/base",
            "_view_module_version": "1.2.0",
            "_view_name": "StyleView",
            "description_width": ""
          }
        },
        "503b04ce4b534555b361ee6f2294e354": {
          "model_module": "@jupyter-widgets/controls",
          "model_name": "HBoxModel",
          "model_module_version": "1.5.0",
          "state": {
            "_dom_classes": [],
            "_model_module": "@jupyter-widgets/controls",
            "_model_module_version": "1.5.0",
            "_model_name": "HBoxModel",
            "_view_count": null,
            "_view_module": "@jupyter-widgets/controls",
            "_view_module_version": "1.5.0",
            "_view_name": "HBoxView",
            "box_style": "",
            "children": [
              "IPY_MODEL_c9e92ae3ad534d11abb3a8c110125c30",
              "IPY_MODEL_04e2c03af5f34d52a1b522560aee9ea6",
              "IPY_MODEL_d6314f95ecd244278f83012e5cdfa652"
            ],
            "layout": "IPY_MODEL_29770112c49045efb42cb69ab3f947b0"
          }
        },
        "c9e92ae3ad534d11abb3a8c110125c30": {
          "model_module": "@jupyter-widgets/controls",
          "model_name": "HTMLModel",
          "model_module_version": "1.5.0",
          "state": {
            "_dom_classes": [],
            "_model_module": "@jupyter-widgets/controls",
            "_model_module_version": "1.5.0",
            "_model_name": "HTMLModel",
            "_view_count": null,
            "_view_module": "@jupyter-widgets/controls",
            "_view_module_version": "1.5.0",
            "_view_name": "HTMLView",
            "description": "",
            "description_tooltip": null,
            "layout": "IPY_MODEL_3b8ec1e1a3c247bb9ac89a12af49af57",
            "placeholder": "​",
            "style": "IPY_MODEL_a82e36413a734c68bbed411407712961",
            "value": "Map: 100%"
          }
        },
        "04e2c03af5f34d52a1b522560aee9ea6": {
          "model_module": "@jupyter-widgets/controls",
          "model_name": "FloatProgressModel",
          "model_module_version": "1.5.0",
          "state": {
            "_dom_classes": [],
            "_model_module": "@jupyter-widgets/controls",
            "_model_module_version": "1.5.0",
            "_model_name": "FloatProgressModel",
            "_view_count": null,
            "_view_module": "@jupyter-widgets/controls",
            "_view_module_version": "1.5.0",
            "_view_name": "ProgressView",
            "bar_style": "success",
            "description": "",
            "description_tooltip": null,
            "layout": "IPY_MODEL_dc7d2bd3f56149a2bcd4db0f9ff504a4",
            "max": 1064,
            "min": 0,
            "orientation": "horizontal",
            "style": "IPY_MODEL_0c32b8af9aff4141848c4eb155ea37b0",
            "value": 1064
          }
        },
        "d6314f95ecd244278f83012e5cdfa652": {
          "model_module": "@jupyter-widgets/controls",
          "model_name": "HTMLModel",
          "model_module_version": "1.5.0",
          "state": {
            "_dom_classes": [],
            "_model_module": "@jupyter-widgets/controls",
            "_model_module_version": "1.5.0",
            "_model_name": "HTMLModel",
            "_view_count": null,
            "_view_module": "@jupyter-widgets/controls",
            "_view_module_version": "1.5.0",
            "_view_name": "HTMLView",
            "description": "",
            "description_tooltip": null,
            "layout": "IPY_MODEL_6f69efbee6a847a69d5e4120d8617667",
            "placeholder": "​",
            "style": "IPY_MODEL_a3c7b93f5670438da078c19f2350c9c8",
            "value": " 1064/1064 [00:04&lt;00:00, 97.02 examples/s]"
          }
        },
        "29770112c49045efb42cb69ab3f947b0": {
          "model_module": "@jupyter-widgets/base",
          "model_name": "LayoutModel",
          "model_module_version": "1.2.0",
          "state": {
            "_model_module": "@jupyter-widgets/base",
            "_model_module_version": "1.2.0",
            "_model_name": "LayoutModel",
            "_view_count": null,
            "_view_module": "@jupyter-widgets/base",
            "_view_module_version": "1.2.0",
            "_view_name": "LayoutView",
            "align_content": null,
            "align_items": null,
            "align_self": null,
            "border": null,
            "bottom": null,
            "display": null,
            "flex": null,
            "flex_flow": null,
            "grid_area": null,
            "grid_auto_columns": null,
            "grid_auto_flow": null,
            "grid_auto_rows": null,
            "grid_column": null,
            "grid_gap": null,
            "grid_row": null,
            "grid_template_areas": null,
            "grid_template_columns": null,
            "grid_template_rows": null,
            "height": null,
            "justify_content": null,
            "justify_items": null,
            "left": null,
            "margin": null,
            "max_height": null,
            "max_width": null,
            "min_height": null,
            "min_width": null,
            "object_fit": null,
            "object_position": null,
            "order": null,
            "overflow": null,
            "overflow_x": null,
            "overflow_y": null,
            "padding": null,
            "right": null,
            "top": null,
            "visibility": null,
            "width": null
          }
        },
        "3b8ec1e1a3c247bb9ac89a12af49af57": {
          "model_module": "@jupyter-widgets/base",
          "model_name": "LayoutModel",
          "model_module_version": "1.2.0",
          "state": {
            "_model_module": "@jupyter-widgets/base",
            "_model_module_version": "1.2.0",
            "_model_name": "LayoutModel",
            "_view_count": null,
            "_view_module": "@jupyter-widgets/base",
            "_view_module_version": "1.2.0",
            "_view_name": "LayoutView",
            "align_content": null,
            "align_items": null,
            "align_self": null,
            "border": null,
            "bottom": null,
            "display": null,
            "flex": null,
            "flex_flow": null,
            "grid_area": null,
            "grid_auto_columns": null,
            "grid_auto_flow": null,
            "grid_auto_rows": null,
            "grid_column": null,
            "grid_gap": null,
            "grid_row": null,
            "grid_template_areas": null,
            "grid_template_columns": null,
            "grid_template_rows": null,
            "height": null,
            "justify_content": null,
            "justify_items": null,
            "left": null,
            "margin": null,
            "max_height": null,
            "max_width": null,
            "min_height": null,
            "min_width": null,
            "object_fit": null,
            "object_position": null,
            "order": null,
            "overflow": null,
            "overflow_x": null,
            "overflow_y": null,
            "padding": null,
            "right": null,
            "top": null,
            "visibility": null,
            "width": null
          }
        },
        "a82e36413a734c68bbed411407712961": {
          "model_module": "@jupyter-widgets/controls",
          "model_name": "DescriptionStyleModel",
          "model_module_version": "1.5.0",
          "state": {
            "_model_module": "@jupyter-widgets/controls",
            "_model_module_version": "1.5.0",
            "_model_name": "DescriptionStyleModel",
            "_view_count": null,
            "_view_module": "@jupyter-widgets/base",
            "_view_module_version": "1.2.0",
            "_view_name": "StyleView",
            "description_width": ""
          }
        },
        "dc7d2bd3f56149a2bcd4db0f9ff504a4": {
          "model_module": "@jupyter-widgets/base",
          "model_name": "LayoutModel",
          "model_module_version": "1.2.0",
          "state": {
            "_model_module": "@jupyter-widgets/base",
            "_model_module_version": "1.2.0",
            "_model_name": "LayoutModel",
            "_view_count": null,
            "_view_module": "@jupyter-widgets/base",
            "_view_module_version": "1.2.0",
            "_view_name": "LayoutView",
            "align_content": null,
            "align_items": null,
            "align_self": null,
            "border": null,
            "bottom": null,
            "display": null,
            "flex": null,
            "flex_flow": null,
            "grid_area": null,
            "grid_auto_columns": null,
            "grid_auto_flow": null,
            "grid_auto_rows": null,
            "grid_column": null,
            "grid_gap": null,
            "grid_row": null,
            "grid_template_areas": null,
            "grid_template_columns": null,
            "grid_template_rows": null,
            "height": null,
            "justify_content": null,
            "justify_items": null,
            "left": null,
            "margin": null,
            "max_height": null,
            "max_width": null,
            "min_height": null,
            "min_width": null,
            "object_fit": null,
            "object_position": null,
            "order": null,
            "overflow": null,
            "overflow_x": null,
            "overflow_y": null,
            "padding": null,
            "right": null,
            "top": null,
            "visibility": null,
            "width": null
          }
        },
        "0c32b8af9aff4141848c4eb155ea37b0": {
          "model_module": "@jupyter-widgets/controls",
          "model_name": "ProgressStyleModel",
          "model_module_version": "1.5.0",
          "state": {
            "_model_module": "@jupyter-widgets/controls",
            "_model_module_version": "1.5.0",
            "_model_name": "ProgressStyleModel",
            "_view_count": null,
            "_view_module": "@jupyter-widgets/base",
            "_view_module_version": "1.2.0",
            "_view_name": "StyleView",
            "bar_color": null,
            "description_width": ""
          }
        },
        "6f69efbee6a847a69d5e4120d8617667": {
          "model_module": "@jupyter-widgets/base",
          "model_name": "LayoutModel",
          "model_module_version": "1.2.0",
          "state": {
            "_model_module": "@jupyter-widgets/base",
            "_model_module_version": "1.2.0",
            "_model_name": "LayoutModel",
            "_view_count": null,
            "_view_module": "@jupyter-widgets/base",
            "_view_module_version": "1.2.0",
            "_view_name": "LayoutView",
            "align_content": null,
            "align_items": null,
            "align_self": null,
            "border": null,
            "bottom": null,
            "display": null,
            "flex": null,
            "flex_flow": null,
            "grid_area": null,
            "grid_auto_columns": null,
            "grid_auto_flow": null,
            "grid_auto_rows": null,
            "grid_column": null,
            "grid_gap": null,
            "grid_row": null,
            "grid_template_areas": null,
            "grid_template_columns": null,
            "grid_template_rows": null,
            "height": null,
            "justify_content": null,
            "justify_items": null,
            "left": null,
            "margin": null,
            "max_height": null,
            "max_width": null,
            "min_height": null,
            "min_width": null,
            "object_fit": null,
            "object_position": null,
            "order": null,
            "overflow": null,
            "overflow_x": null,
            "overflow_y": null,
            "padding": null,
            "right": null,
            "top": null,
            "visibility": null,
            "width": null
          }
        },
        "a3c7b93f5670438da078c19f2350c9c8": {
          "model_module": "@jupyter-widgets/controls",
          "model_name": "DescriptionStyleModel",
          "model_module_version": "1.5.0",
          "state": {
            "_model_module": "@jupyter-widgets/controls",
            "_model_module_version": "1.5.0",
            "_model_name": "DescriptionStyleModel",
            "_view_count": null,
            "_view_module": "@jupyter-widgets/base",
            "_view_module_version": "1.2.0",
            "_view_name": "StyleView",
            "description_width": ""
          }
        },
        "2265e538b547489a909e1a12c3715ace": {
          "model_module": "@jupyter-widgets/controls",
          "model_name": "HBoxModel",
          "model_module_version": "1.5.0",
          "state": {
            "_dom_classes": [],
            "_model_module": "@jupyter-widgets/controls",
            "_model_module_version": "1.5.0",
            "_model_name": "HBoxModel",
            "_view_count": null,
            "_view_module": "@jupyter-widgets/controls",
            "_view_module_version": "1.5.0",
            "_view_name": "HBoxView",
            "box_style": "",
            "children": [
              "IPY_MODEL_477a83dd618649aa8c650cec312f3c02",
              "IPY_MODEL_bf1329bd02ff4b23952b03b61954ba9a",
              "IPY_MODEL_16770f4155c74ba2afc1d5115efe8a02"
            ],
            "layout": "IPY_MODEL_d553846aa58741128cf058079fa88b3c"
          }
        },
        "477a83dd618649aa8c650cec312f3c02": {
          "model_module": "@jupyter-widgets/controls",
          "model_name": "HTMLModel",
          "model_module_version": "1.5.0",
          "state": {
            "_dom_classes": [],
            "_model_module": "@jupyter-widgets/controls",
            "_model_module_version": "1.5.0",
            "_model_name": "HTMLModel",
            "_view_count": null,
            "_view_module": "@jupyter-widgets/controls",
            "_view_module_version": "1.5.0",
            "_view_name": "HTMLView",
            "description": "",
            "description_tooltip": null,
            "layout": "IPY_MODEL_5ac2d3d8dab141a5bc79882f580a8ca7",
            "placeholder": "​",
            "style": "IPY_MODEL_3c3c6dec64bf4fe2bc646c6b15853887",
            "value": "Map: 100%"
          }
        },
        "bf1329bd02ff4b23952b03b61954ba9a": {
          "model_module": "@jupyter-widgets/controls",
          "model_name": "FloatProgressModel",
          "model_module_version": "1.5.0",
          "state": {
            "_dom_classes": [],
            "_model_module": "@jupyter-widgets/controls",
            "_model_module_version": "1.5.0",
            "_model_name": "FloatProgressModel",
            "_view_count": null,
            "_view_module": "@jupyter-widgets/controls",
            "_view_module_version": "1.5.0",
            "_view_name": "ProgressView",
            "bar_style": "success",
            "description": "",
            "description_tooltip": null,
            "layout": "IPY_MODEL_cb3ef0a6ded546a1af1f11b4793be8a3",
            "max": 266,
            "min": 0,
            "orientation": "horizontal",
            "style": "IPY_MODEL_be76bb574c4f43a0b6b2d8c915ffc7bc",
            "value": 266
          }
        },
        "16770f4155c74ba2afc1d5115efe8a02": {
          "model_module": "@jupyter-widgets/controls",
          "model_name": "HTMLModel",
          "model_module_version": "1.5.0",
          "state": {
            "_dom_classes": [],
            "_model_module": "@jupyter-widgets/controls",
            "_model_module_version": "1.5.0",
            "_model_name": "HTMLModel",
            "_view_count": null,
            "_view_module": "@jupyter-widgets/controls",
            "_view_module_version": "1.5.0",
            "_view_name": "HTMLView",
            "description": "",
            "description_tooltip": null,
            "layout": "IPY_MODEL_c2f9159c56cb47098c2df04eb2e9b75a",
            "placeholder": "​",
            "style": "IPY_MODEL_5e43a6ed7ff7465e97fbeb1bfb1b8a83",
            "value": " 266/266 [00:00&lt;00:00, 711.69 examples/s]"
          }
        },
        "d553846aa58741128cf058079fa88b3c": {
          "model_module": "@jupyter-widgets/base",
          "model_name": "LayoutModel",
          "model_module_version": "1.2.0",
          "state": {
            "_model_module": "@jupyter-widgets/base",
            "_model_module_version": "1.2.0",
            "_model_name": "LayoutModel",
            "_view_count": null,
            "_view_module": "@jupyter-widgets/base",
            "_view_module_version": "1.2.0",
            "_view_name": "LayoutView",
            "align_content": null,
            "align_items": null,
            "align_self": null,
            "border": null,
            "bottom": null,
            "display": null,
            "flex": null,
            "flex_flow": null,
            "grid_area": null,
            "grid_auto_columns": null,
            "grid_auto_flow": null,
            "grid_auto_rows": null,
            "grid_column": null,
            "grid_gap": null,
            "grid_row": null,
            "grid_template_areas": null,
            "grid_template_columns": null,
            "grid_template_rows": null,
            "height": null,
            "justify_content": null,
            "justify_items": null,
            "left": null,
            "margin": null,
            "max_height": null,
            "max_width": null,
            "min_height": null,
            "min_width": null,
            "object_fit": null,
            "object_position": null,
            "order": null,
            "overflow": null,
            "overflow_x": null,
            "overflow_y": null,
            "padding": null,
            "right": null,
            "top": null,
            "visibility": null,
            "width": null
          }
        },
        "5ac2d3d8dab141a5bc79882f580a8ca7": {
          "model_module": "@jupyter-widgets/base",
          "model_name": "LayoutModel",
          "model_module_version": "1.2.0",
          "state": {
            "_model_module": "@jupyter-widgets/base",
            "_model_module_version": "1.2.0",
            "_model_name": "LayoutModel",
            "_view_count": null,
            "_view_module": "@jupyter-widgets/base",
            "_view_module_version": "1.2.0",
            "_view_name": "LayoutView",
            "align_content": null,
            "align_items": null,
            "align_self": null,
            "border": null,
            "bottom": null,
            "display": null,
            "flex": null,
            "flex_flow": null,
            "grid_area": null,
            "grid_auto_columns": null,
            "grid_auto_flow": null,
            "grid_auto_rows": null,
            "grid_column": null,
            "grid_gap": null,
            "grid_row": null,
            "grid_template_areas": null,
            "grid_template_columns": null,
            "grid_template_rows": null,
            "height": null,
            "justify_content": null,
            "justify_items": null,
            "left": null,
            "margin": null,
            "max_height": null,
            "max_width": null,
            "min_height": null,
            "min_width": null,
            "object_fit": null,
            "object_position": null,
            "order": null,
            "overflow": null,
            "overflow_x": null,
            "overflow_y": null,
            "padding": null,
            "right": null,
            "top": null,
            "visibility": null,
            "width": null
          }
        },
        "3c3c6dec64bf4fe2bc646c6b15853887": {
          "model_module": "@jupyter-widgets/controls",
          "model_name": "DescriptionStyleModel",
          "model_module_version": "1.5.0",
          "state": {
            "_model_module": "@jupyter-widgets/controls",
            "_model_module_version": "1.5.0",
            "_model_name": "DescriptionStyleModel",
            "_view_count": null,
            "_view_module": "@jupyter-widgets/base",
            "_view_module_version": "1.2.0",
            "_view_name": "StyleView",
            "description_width": ""
          }
        },
        "cb3ef0a6ded546a1af1f11b4793be8a3": {
          "model_module": "@jupyter-widgets/base",
          "model_name": "LayoutModel",
          "model_module_version": "1.2.0",
          "state": {
            "_model_module": "@jupyter-widgets/base",
            "_model_module_version": "1.2.0",
            "_model_name": "LayoutModel",
            "_view_count": null,
            "_view_module": "@jupyter-widgets/base",
            "_view_module_version": "1.2.0",
            "_view_name": "LayoutView",
            "align_content": null,
            "align_items": null,
            "align_self": null,
            "border": null,
            "bottom": null,
            "display": null,
            "flex": null,
            "flex_flow": null,
            "grid_area": null,
            "grid_auto_columns": null,
            "grid_auto_flow": null,
            "grid_auto_rows": null,
            "grid_column": null,
            "grid_gap": null,
            "grid_row": null,
            "grid_template_areas": null,
            "grid_template_columns": null,
            "grid_template_rows": null,
            "height": null,
            "justify_content": null,
            "justify_items": null,
            "left": null,
            "margin": null,
            "max_height": null,
            "max_width": null,
            "min_height": null,
            "min_width": null,
            "object_fit": null,
            "object_position": null,
            "order": null,
            "overflow": null,
            "overflow_x": null,
            "overflow_y": null,
            "padding": null,
            "right": null,
            "top": null,
            "visibility": null,
            "width": null
          }
        },
        "be76bb574c4f43a0b6b2d8c915ffc7bc": {
          "model_module": "@jupyter-widgets/controls",
          "model_name": "ProgressStyleModel",
          "model_module_version": "1.5.0",
          "state": {
            "_model_module": "@jupyter-widgets/controls",
            "_model_module_version": "1.5.0",
            "_model_name": "ProgressStyleModel",
            "_view_count": null,
            "_view_module": "@jupyter-widgets/base",
            "_view_module_version": "1.2.0",
            "_view_name": "StyleView",
            "bar_color": null,
            "description_width": ""
          }
        },
        "c2f9159c56cb47098c2df04eb2e9b75a": {
          "model_module": "@jupyter-widgets/base",
          "model_name": "LayoutModel",
          "model_module_version": "1.2.0",
          "state": {
            "_model_module": "@jupyter-widgets/base",
            "_model_module_version": "1.2.0",
            "_model_name": "LayoutModel",
            "_view_count": null,
            "_view_module": "@jupyter-widgets/base",
            "_view_module_version": "1.2.0",
            "_view_name": "LayoutView",
            "align_content": null,
            "align_items": null,
            "align_self": null,
            "border": null,
            "bottom": null,
            "display": null,
            "flex": null,
            "flex_flow": null,
            "grid_area": null,
            "grid_auto_columns": null,
            "grid_auto_flow": null,
            "grid_auto_rows": null,
            "grid_column": null,
            "grid_gap": null,
            "grid_row": null,
            "grid_template_areas": null,
            "grid_template_columns": null,
            "grid_template_rows": null,
            "height": null,
            "justify_content": null,
            "justify_items": null,
            "left": null,
            "margin": null,
            "max_height": null,
            "max_width": null,
            "min_height": null,
            "min_width": null,
            "object_fit": null,
            "object_position": null,
            "order": null,
            "overflow": null,
            "overflow_x": null,
            "overflow_y": null,
            "padding": null,
            "right": null,
            "top": null,
            "visibility": null,
            "width": null
          }
        },
        "5e43a6ed7ff7465e97fbeb1bfb1b8a83": {
          "model_module": "@jupyter-widgets/controls",
          "model_name": "DescriptionStyleModel",
          "model_module_version": "1.5.0",
          "state": {
            "_model_module": "@jupyter-widgets/controls",
            "_model_module_version": "1.5.0",
            "_model_name": "DescriptionStyleModel",
            "_view_count": null,
            "_view_module": "@jupyter-widgets/base",
            "_view_module_version": "1.2.0",
            "_view_name": "StyleView",
            "description_width": ""
          }
        }
      }
    }
  },
  "nbformat": 4,
  "nbformat_minor": 0
}