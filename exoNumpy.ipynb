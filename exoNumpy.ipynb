{
  "nbformat": 4,
  "nbformat_minor": 0,
  "metadata": {
    "colab": {
      "provenance": [],
      "authorship_tag": "ABX9TyNMKdPMHqaeKMF7LRcaWEU4",
      "include_colab_link": true
    },
    "kernelspec": {
      "name": "python3",
      "display_name": "Python 3"
    },
    "language_info": {
      "name": "python"
    }
  },
  "cells": [
    {
      "cell_type": "markdown",
      "metadata": {
        "id": "view-in-github",
        "colab_type": "text"
      },
      "source": [
        "<a href=\"https://colab.research.google.com/github/amiraydin/Paris8M2/blob/main/exoNumpy.ipynb\" target=\"_parent\"><img src=\"https://colab.research.google.com/assets/colab-badge.svg\" alt=\"Open In Colab\"/></a>"
      ]
    },
    {
      "cell_type": "code",
      "source": [
        "import numpy as np\n",
        "np.__version__\n",
        "\n",
        "l = [5, 10, 15, 20, 25]\n",
        "lst = np.array(l, dtype=np.float64)\n",
        "lst"
      ],
      "metadata": {
        "colab": {
          "base_uri": "https://localhost:8080/"
        },
        "id": "VtDOpTtRdA9_",
        "outputId": "862bc529-4988-40aa-9178-4b9a5411f6bb"
      },
      "execution_count": 2,
      "outputs": [
        {
          "output_type": "execute_result",
          "data": {
            "text/plain": [
              "array([ 5., 10., 15., 20., 25.])"
            ]
          },
          "metadata": {},
          "execution_count": 2
        }
      ]
    },
    {
      "cell_type": "markdown",
      "source": [
        "Create a 2D NumPy array from the nested list [[1, 2, 3], [4, 5, 6], [7, 8, 9]]. Print the shape and size of the array."
      ],
      "metadata": {
        "id": "OICW5Kxed5DY"
      }
    },
    {
      "cell_type": "code",
      "source": [
        "nested_list = [[1, 2, 3], [4, 5, 6], [7, 8, 9]]\n",
        "array_2d = np.array(nested_list)\n",
        "\n",
        "array_shape = array_2d.shape\n",
        "array_size = array_2d.size\n",
        "\n",
        "print(\"2D Array:\\n\", array_2d)\n",
        "print(\"Shape of the array:\", array_shape)\n",
        "print(\"Size of the array:\", array_size)"
      ],
      "metadata": {
        "colab": {
          "base_uri": "https://localhost:8080/"
        },
        "id": "spxbOifgd6ML",
        "outputId": "17622d56-b586-445d-cb1a-d389c7289137"
      },
      "execution_count": 3,
      "outputs": [
        {
          "output_type": "stream",
          "name": "stdout",
          "text": [
            "2D Array:\n",
            " [[1 2 3]\n",
            " [4 5 6]\n",
            " [7 8 9]]\n",
            "Shape of the array: (3, 3)\n",
            "Size of the array: 9\n"
          ]
        }
      ]
    },
    {
      "cell_type": "markdown",
      "source": [
        "Create a 3D NumPy array with random values of shape (2, 3, 4). Print the number of dimensions and the shape of the array.\n"
      ],
      "metadata": {
        "id": "kCbaouFkh749"
      }
    },
    {
      "cell_type": "code",
      "source": [
        "array_3d = np.random.rand(2, 3, 4)\n",
        "\n",
        "array_ndim = array_3d.ndim\n",
        "array_shape = array_3d.shape\n",
        "\n",
        "print(\"3D Array:\\n\", array_3d)\n",
        "print(\"Number of dimensions:\", array_ndim)\n",
        "print(\"Shape of the array:\", array_shape)"
      ],
      "metadata": {
        "colab": {
          "base_uri": "https://localhost:8080/"
        },
        "id": "MtcRsZ2uhk_U",
        "outputId": "a36704e9-26af-42f5-97af-7933291f5d19"
      },
      "execution_count": 4,
      "outputs": [
        {
          "output_type": "stream",
          "name": "stdout",
          "text": [
            "3D Array:\n",
            " [[[0.04271347 0.87636106 0.0316017  0.73681282]\n",
            "  [0.77278761 0.10255851 0.54554762 0.81209034]\n",
            "  [0.70487061 0.6062742  0.70499015 0.88106586]]\n",
            "\n",
            " [[0.0458129  0.4425007  0.43410299 0.50532735]\n",
            "  [0.66502909 0.9221556  0.70662268 0.28396486]\n",
            "  [0.75862112 0.05240232 0.76317203 0.81094622]]]\n",
            "Number of dimensions: 3\n",
            "Shape of the array: (2, 3, 4)\n"
          ]
        }
      ]
    },
    {
      "cell_type": "markdown",
      "source": [
        "Create a 1D NumPy array with the numbers from 0 to 9. Reverse the array and print it.\n"
      ],
      "metadata": {
        "id": "otsx_3XAjH0I"
      }
    },
    {
      "cell_type": "code",
      "source": [
        "ex2 = np.arange(0, 10)\n",
        "ex2\n",
        "ex2[::-1]"
      ],
      "metadata": {
        "colab": {
          "base_uri": "https://localhost:8080/"
        },
        "id": "UPmXLV2rjPwP",
        "outputId": "81d782c3-7073-43a8-a2e8-769fb5ec6ce1"
      },
      "execution_count": null,
      "outputs": [
        {
          "output_type": "execute_result",
          "data": {
            "text/plain": [
              "array([9, 8, 7, 6, 5, 4, 3, 2, 1, 0])"
            ]
          },
          "metadata": {},
          "execution_count": 79
        }
      ]
    },
    {
      "cell_type": "markdown",
      "source": [
        "Create a 2D NumPy array with the numbers from 0 to 11, arranged in a 3x4 shape. Extract a subarray consisting of the first two rows and the last two columns, and print it."
      ],
      "metadata": {
        "id": "-srVHBHBlSed"
      }
    },
    {
      "cell_type": "code",
      "source": [
        "array_2d = np.arange(12).reshape(3, 4)\n",
        "subarray = array_2d[:2, -2:]\n",
        "\n",
        "print(\"Original 2D Array:\\n\", array_2d)\n",
        "print(\"Subarray (First two rows, last two columns):\\n\", subarray)"
      ],
      "metadata": {
        "colab": {
          "base_uri": "https://localhost:8080/"
        },
        "id": "rxhKQXeelZrf",
        "outputId": "6d53f444-37d0-41e4-fe6f-2ef285b1d631"
      },
      "execution_count": 7,
      "outputs": [
        {
          "output_type": "stream",
          "name": "stdout",
          "text": [
            "Original 2D Array:\n",
            " [[ 0  1  2  3]\n",
            " [ 4  5  6  7]\n",
            " [ 8  9 10 11]]\n",
            "Subarray (First two rows, last two columns):\n",
            " [[2 3]\n",
            " [6 7]]\n"
          ]
        }
      ]
    },
    {
      "cell_type": "markdown",
      "source": [
        "Create a 2D NumPy array of shape (5, 5) with random integers between 0 and 10. Replace all elements greater than 5 with 0 and print the modified array."
      ],
      "metadata": {
        "id": "oBqSHY-XFu45"
      }
    },
    {
      "cell_type": "code",
      "source": [
        "array_2d = np.random.randint(0, 11, size=(5, 5))\n",
        "# Replacing all elements greater than 5 with 0\n",
        "array_2d[array_2d > 5] = 0\n",
        "print(\"Modified 2D Array:\\n\", array_2d)"
      ],
      "metadata": {
        "id": "e5_T572inRY6",
        "colab": {
          "base_uri": "https://localhost:8080/"
        },
        "outputId": "f166a6e5-e5f7-4e1b-b3b0-ff0b1af9fa70"
      },
      "execution_count": 9,
      "outputs": [
        {
          "output_type": "stream",
          "name": "stdout",
          "text": [
            "Modified 2D Array:\n",
            " [[0 2 0 5 3]\n",
            " [1 1 0 0 4]\n",
            " [4 1 0 0 0]\n",
            " [0 0 0 0 0]\n",
            " [2 0 0 0 3]]\n"
          ]
        }
      ]
    },
    {
      "cell_type": "markdown",
      "source": [
        "Exercise 4: Array Initialization and Attributes,\n",
        "\n",
        "Create a 3x3 identity matrix using NumPy and print its attributes: ndim, shape, size, itemsize, and nbytes.\n"
      ],
      "metadata": {
        "id": "4u_8lD6JHvWI"
      }
    },
    {
      "cell_type": "code",
      "source": [
        "iden_matrix = np.eye(3)\n",
        "\n",
        "# Printing the attributes of the matrix\n",
        "print(\"Identity Matrix:\\n\", iden_matrix)\n",
        "print(\"Number of dimensions (ndim):\", iden_matrix.ndim)\n",
        "print(\"Shape of the matrix (shape):\", iden_matrix.shape)\n",
        "print(\"Size of the matrix (size):\", iden_matrix.size)\n",
        "print(\"Item size in bytes (itemsize):\", iden_matrix.itemsize)\n",
        "print(\"Total bytes consumed (nbytes):\", iden_matrix.nbytes)"
      ],
      "metadata": {
        "colab": {
          "base_uri": "https://localhost:8080/"
        },
        "id": "WERAMtw0HzMT",
        "outputId": "afff3af6-c612-400d-b2de-5badd7e41af7"
      },
      "execution_count": 11,
      "outputs": [
        {
          "output_type": "stream",
          "name": "stdout",
          "text": [
            "Identity Matrix:\n",
            " [[1. 0. 0.]\n",
            " [0. 1. 0.]\n",
            " [0. 0. 1.]]\n",
            "Number of dimensions (ndim): 2\n",
            "Shape of the matrix (shape): (3, 3)\n",
            "Size of the matrix (size): 9\n",
            "Item size in bytes (itemsize): 8\n",
            "Total bytes consumed (nbytes): 72\n"
          ]
        }
      ]
    },
    {
      "cell_type": "markdown",
      "source": [
        "Create an array of 10 evenly spaced numbers between 0 and 5 using numpy.linspace(). Print the array and its datatype.\n"
      ],
      "metadata": {
        "id": "C7Z3M8h6SMtA"
      }
    },
    {
      "cell_type": "code",
      "source": [
        "array_linspace = np.linspace(0, 5, 10)\n",
        "\n",
        "print(\"Array of evenly spaced numbers:\\n\", array_linspace)\n",
        "print(\"Data type of the array:\", array_linspace.dtype)"
      ],
      "metadata": {
        "colab": {
          "base_uri": "https://localhost:8080/"
        },
        "id": "Vq_9R-sdSOmh",
        "outputId": "e0d94810-0474-45d3-e23e-2cde9559f693"
      },
      "execution_count": 12,
      "outputs": [
        {
          "output_type": "stream",
          "name": "stdout",
          "text": [
            "Array of evenly spaced numbers:\n",
            " [0.         0.55555556 1.11111111 1.66666667 2.22222222 2.77777778\n",
            " 3.33333333 3.88888889 4.44444444 5.        ]\n",
            "Data type of the array: float64\n"
          ]
        }
      ]
    },
    {
      "cell_type": "markdown",
      "source": [
        "Create a 3D array of shape (2, 3, 4) with random values from a standard normal distribution. Print the array and the sum of all elements.\n"
      ],
      "metadata": {
        "id": "_tQFIahtTWpW"
      }
    },
    {
      "cell_type": "code",
      "source": [
        "arr_3d = np.random.randn(2, 3, 4)\n",
        "array_sum = np.sum(arr_3d)\n",
        "\n",
        "# Printing the array and the sum\n",
        "print(\"3D Array with random values from standard normal distribution:\\n\", arr_3d)\n",
        "print(\"\\nSum of all elements:\", array_sum)"
      ],
      "metadata": {
        "colab": {
          "base_uri": "https://localhost:8080/"
        },
        "id": "dGPhRIaMTZkc",
        "outputId": "5385f6ec-d3c6-4293-9a19-871b6a699495"
      },
      "execution_count": 16,
      "outputs": [
        {
          "output_type": "stream",
          "name": "stdout",
          "text": [
            "3D Array with random values from standard normal distribution:\n",
            " [[[ 0.06090404  2.12422247 -0.21286206 -0.66596001]\n",
            "  [-1.08850909 -0.28377861  0.62346966 -1.79599271]\n",
            "  [-1.00934809  0.11608337 -0.66156418 -1.20061371]]\n",
            "\n",
            " [[-1.38038394 -1.15840346 -0.32173915  0.35346431]\n",
            "  [ 0.52128144 -1.5179319  -0.9992209  -0.6812963 ]\n",
            "  [-0.34025018  1.94562164 -0.46762652  0.21972091]]]\n",
            "\n",
            "Sum of all elements: -7.820712971437446\n"
          ]
        }
      ]
    },
    {
      "cell_type": "markdown",
      "source": [
        "Exercise 5: Fancy Indexing and Masking\n",
        "Create a 1D NumPy array with random integers between 0 and 50 of size 20. Use fancy indexing to extract elements at indices [2, 5, 7, 10, 15] and print them."
      ],
      "metadata": {
        "id": "HPzF_uwKUii-"
      }
    },
    {
      "cell_type": "code",
      "source": [
        "arr = np.random.randint(0, 50, size=20)\n",
        "extracted_elements = arr[[2, 5, 7, 10, 15]]\n",
        "\n",
        "print(\"Original 1D Array:\\n\", arr)\n",
        "print(\"Extracted elements at indices [2, 5, 7, 10, 15]:\", extracted_elements)"
      ],
      "metadata": {
        "colab": {
          "base_uri": "https://localhost:8080/"
        },
        "id": "sI6yXC3UUc64",
        "outputId": "cbc8c247-83d4-42fe-e06c-933e0739011a"
      },
      "execution_count": 19,
      "outputs": [
        {
          "output_type": "stream",
          "name": "stdout",
          "text": [
            "Original 1D Array:\n",
            " [36 47 36  7 33 37 44  1 28  0 24 29 28  0 30 45 34 39  3 20]\n",
            "Extracted elements at indices [2, 5, 7, 10, 15]: [36 37  1 24 45]\n"
          ]
        }
      ]
    },
    {
      "cell_type": "markdown",
      "source": [
        "Create a 2D NumPy array with random integers between 0 and 30 of shape (4, 5). Use a boolean mask to select all elements greater than 15 and print them."
      ],
      "metadata": {
        "id": "eoetCel-VGrU"
      }
    },
    {
      "cell_type": "code",
      "source": [
        "arr_2d = np.random.randint(0, 30, size=(4, 5))\n",
        "\n",
        "# all elements greater than 15\n",
        "selected_elements = arr_2d[arr_2d > 15]\n",
        "print(\"Original 2D Array:\\n\", arr_2d)\n",
        "print(\"\\nElements greater than 15:\", selected_elements)"
      ],
      "metadata": {
        "colab": {
          "base_uri": "https://localhost:8080/"
        },
        "id": "zDIc0geyU8EZ",
        "outputId": "4196e06e-d0d9-48ef-d456-6110c32f75e8"
      },
      "execution_count": 22,
      "outputs": [
        {
          "output_type": "stream",
          "name": "stdout",
          "text": [
            "Original 2D Array:\n",
            " [[26 16  0 13 24]\n",
            " [29  4 21 29 21]\n",
            " [19  9 17  2  7]\n",
            " [24  8 17 29 14]]\n",
            "\n",
            "Elements greater than 15: [26 16 24 29 21 29 21 19 17 24 17 29]\n"
          ]
        }
      ]
    },
    {
      "cell_type": "markdown",
      "source": [
        "Create a 1D NumPy array of 10 random integers between -10 and 10. Use a boolean mask to set all negative values to zero and print the modified array."
      ],
      "metadata": {
        "id": "aKGeETncXazg"
      }
    },
    {
      "cell_type": "code",
      "source": [
        "random_array = np.random.randint(-10, 11, size=10)\n",
        "\n",
        "modified_array = np.where(random_array < 0, 0, random_array)\n",
        "print(\"Arrey original:\", random_array)\n",
        "print(\"Arrey modifié:\", modified_array)"
      ],
      "metadata": {
        "colab": {
          "base_uri": "https://localhost:8080/"
        },
        "id": "O-43xiFDXeUK",
        "outputId": "7c0bb216-c1b8-4ef9-f2c3-867f56f48b70"
      },
      "execution_count": 26,
      "outputs": [
        {
          "output_type": "stream",
          "name": "stdout",
          "text": [
            "Arrey original: [ 10   7 -10  -7   8  -3   2  -4  10   6]\n",
            "Arrey modifié: [10  7  0  0  8  0  2  0 10  6]\n"
          ]
        }
      ]
    },
    {
      "cell_type": "markdown",
      "source": [
        "Exercise 7: Combining and Splitting Arrays\n",
        "\n",
        "Create two 1D NumPy arrays of length 5 with random integers between 0 and 10. Concatenate the two arrays and print the result.\n"
      ],
      "metadata": {
        "id": "UgmnshJQdUmR"
      }
    },
    {
      "cell_type": "code",
      "source": [
        "array1 = np.random.randint(0, 11, size=5)\n",
        "array2 = np.random.randint(0, 11, size=5)\n",
        "result = np.concatenate((array1, array2))\n",
        "print(result)"
      ],
      "metadata": {
        "colab": {
          "base_uri": "https://localhost:8080/"
        },
        "id": "zFQG9J3PdZVi",
        "outputId": "3d85a389-f0a6-4446-b65b-61a4859891ed"
      },
      "execution_count": 27,
      "outputs": [
        {
          "output_type": "stream",
          "name": "stdout",
          "text": [
            "[9 4 5 1 3 7 9 9 7 4]\n"
          ]
        }
      ]
    },
    {
      "cell_type": "markdown",
      "source": [
        "Create a 2D NumPy array of shape (6, 4) with random integers between 0 and 10. Split the array into two equal parts along the row axis and print them.\n"
      ],
      "metadata": {
        "id": "lcR8bvpmdkft"
      }
    },
    {
      "cell_type": "code",
      "source": [
        "array_2d = np.random.randint(0, 11, size=(6, 4))\n",
        "part1, part2 = np.split(array_2d, 2, axis=0)\n",
        "print(\"Original Array:\\n\", array_2d)\n",
        "print(\"\\nPart 1:\\n\", part1)\n",
        "print(\"\\nPart 2:\\n\", part2)"
      ],
      "metadata": {
        "colab": {
          "base_uri": "https://localhost:8080/"
        },
        "id": "44YfGz6jdpeP",
        "outputId": "49b59bed-d5d0-45f6-9ba9-b27147f745b3"
      },
      "execution_count": 32,
      "outputs": [
        {
          "output_type": "stream",
          "name": "stdout",
          "text": [
            "Original Array:\n",
            " [[ 8  9  2  4]\n",
            " [ 8 10  7  6]\n",
            " [ 0  2  9  4]\n",
            " [ 1  3  6 10]\n",
            " [ 4  1  9  5]\n",
            " [ 7  1  6  2]]\n",
            "\n",
            "Part 1:\n",
            " [[ 8  9  2  4]\n",
            " [ 8 10  7  6]\n",
            " [ 0  2  9  4]]\n",
            "\n",
            "Part 2:\n",
            " [[ 1  3  6 10]\n",
            " [ 4  1  9  5]\n",
            " [ 7  1  6  2]]\n"
          ]
        }
      ]
    },
    {
      "cell_type": "markdown",
      "source": [
        "Create a 2D NumPy array of shape (3, 6) with random integers between 0 and 10. Split the array into three equal parts along the column axis and print them.\n",
        "\n"
      ],
      "metadata": {
        "id": "xzNjZrQZdxO7"
      }
    },
    {
      "cell_type": "code",
      "source": [
        "array_2d = np.random.randint(0, 11, size=(3, 6))\n",
        "\n",
        "# Split the array into three equal parts along the column axis\n",
        "part1, part2, part3 = np.split(array_2d, 3, axis=1)\n",
        "\n",
        "# Print the results\n",
        "print(\"Original Array:\\n\", array_2d)\n",
        "print(\"\\nPart 1:\\n\", part1)\n",
        "print(\"\\nPart 2:\\n\", part2)\n",
        "print(\"\\nPart 3:\\n\", part3)"
      ],
      "metadata": {
        "colab": {
          "base_uri": "https://localhost:8080/"
        },
        "id": "sijqzVmPd0Lq",
        "outputId": "bb70b5ba-494d-4926-b83b-8dfb83cf4dff"
      },
      "execution_count": 30,
      "outputs": [
        {
          "output_type": "stream",
          "name": "stdout",
          "text": [
            "Original Array:\n",
            " [[8 8 6 7 3 5]\n",
            " [5 8 2 4 2 0]\n",
            " [1 2 1 6 9 2]]\n",
            "\n",
            "Part 1:\n",
            " [[8 8]\n",
            " [5 8]\n",
            " [1 2]]\n",
            "\n",
            "Part 2:\n",
            " [[6 7]\n",
            " [2 4]\n",
            " [1 6]]\n",
            "\n",
            "Part 3:\n",
            " [[3 5]\n",
            " [2 0]\n",
            " [9 2]]\n"
          ]
        }
      ]
    },
    {
      "cell_type": "markdown",
      "source": [
        "Exercise 8: Mathematical Functions and Aggregations\n",
        "\n",
        "Create a 1D NumPy array with random integers between 1 and 100 of size 15. Compute and print the mean, median, standard deviation, and variance of the array.\n"
      ],
      "metadata": {
        "id": "AndQJzXlegrN"
      }
    },
    {
      "cell_type": "code",
      "source": [
        "array_1d = np.random.randint(1, 101, size=15)\n",
        "\n",
        "# Calculate statistics\n",
        "mean = np.mean(array_1d)\n",
        "median = np.median(array_1d)\n",
        "std_dev = np.std(array_1d)\n",
        "variance = np.var(array_1d)\n",
        "print(\"Array:\", array_1d)\n",
        "print(\"Mean:\", mean)\n",
        "print(\"Median:\", median)\n",
        "print(\"Standard Deviation:\", std_dev)\n",
        "print(\"Variance:\", variance)"
      ],
      "metadata": {
        "colab": {
          "base_uri": "https://localhost:8080/"
        },
        "id": "dEY90YP-emmj",
        "outputId": "33d02679-dfa9-4bb2-97cd-83b803b81165"
      },
      "execution_count": 33,
      "outputs": [
        {
          "output_type": "stream",
          "name": "stdout",
          "text": [
            "Array: [14 40 80 17 23 38 69 58 51  3 32 23 78 91 51]\n",
            "Mean: 44.53333333333333\n",
            "Median: 40.0\n",
            "Standard Deviation: 25.773026382031446\n",
            "Variance: 664.2488888888889\n"
          ]
        }
      ]
    },
    {
      "cell_type": "markdown",
      "source": [
        "Create a 2D NumPy array of shape (4, 4) with random integers between 1 and 50. Compute and print the sum of each row and each column.\n"
      ],
      "metadata": {
        "id": "ii5BuosLerZU"
      }
    },
    {
      "cell_type": "code",
      "source": [
        "array_2d = np.random.randint(1, 51, size=(4, 4))\n",
        "row_sums = np.sum(array_2d, axis=1)\n",
        "column_sums = np.sum(array_2d, axis=0)\n",
        "print(\"Array:\\n\", array_2d)\n",
        "print(\"\\n Sum of each row:\", row_sums)\n",
        "print(\"Sum of each column:\", column_sums)"
      ],
      "metadata": {
        "colab": {
          "base_uri": "https://localhost:8080/"
        },
        "id": "ZgclqbONevaK",
        "outputId": "019861e8-54ee-494e-a2e5-3dab2ddbb8a4"
      },
      "execution_count": 35,
      "outputs": [
        {
          "output_type": "stream",
          "name": "stdout",
          "text": [
            "Array:\n",
            " [[17  6 22  6]\n",
            " [35  5 28 24]\n",
            " [25 27 27 19]\n",
            " [32 49  4 25]]\n",
            "\n",
            " Sum of each row: [ 51  92  98 110]\n",
            "Sum of each column: [109  87  81  74]\n"
          ]
        }
      ]
    },
    {
      "cell_type": "markdown",
      "source": [
        "Create a 3D NumPy array of shape (2, 3, 4) with random integers between 1 and 20. Find the maximum and minimum values along each axis and print them."
      ],
      "metadata": {
        "id": "pvsU-sTqgagM"
      }
    },
    {
      "cell_type": "code",
      "source": [
        "array_3d = np.random.randint(1, 21, size=(2, 3, 4))\n",
        "\n",
        "max_values_axis0 = np.max(array_3d, axis=0)\n",
        "max_values_axis1 = np.max(array_3d, axis=1)\n",
        "max_values_axis2 = np.max(array_3d, axis=2)\n",
        "\n",
        "min_values_axis0 = np.min(array_3d, axis=0)\n",
        "min_values_axis1 = np.min(array_3d, axis=1)\n",
        "min_values_axis2 = np.min(array_3d, axis=2)\n",
        "print(\"3D Array:\\n\", array_3d)\n",
        "print(\"\\nMaximum values along axis 0:\\n\", max_values_axis0)\n",
        "print(\"Maximum values along axis 1:\\n\", max_values_axis1)\n",
        "print(\"Maximum values along axis 2:\\n\", max_values_axis2)\n",
        "\n",
        "print(\"\\nMinimum values along axis 0:\\n\", min_values_axis0)\n",
        "print(\"Minimum values along axis 1:\\n\", min_values_axis1)\n",
        "print(\"Minimum values along axis 2:\\n\", min_values_axis2)"
      ],
      "metadata": {
        "colab": {
          "base_uri": "https://localhost:8080/"
        },
        "id": "XIuctVekgb3f",
        "outputId": "ec952e94-947d-4b85-8f72-da10d40fac93"
      },
      "execution_count": 36,
      "outputs": [
        {
          "output_type": "stream",
          "name": "stdout",
          "text": [
            "3D Array:\n",
            " [[[11  4 20 12]\n",
            "  [ 3 16 14  2]\n",
            "  [15 14  6 13]]\n",
            "\n",
            " [[15 17 12 14]\n",
            "  [ 6  4 10 12]\n",
            "  [ 3  7 12  6]]]\n",
            "\n",
            "Maximum values along axis 0:\n",
            " [[15 17 20 14]\n",
            " [ 6 16 14 12]\n",
            " [15 14 12 13]]\n",
            "Maximum values along axis 1:\n",
            " [[15 16 20 13]\n",
            " [15 17 12 14]]\n",
            "Maximum values along axis 2:\n",
            " [[20 16 15]\n",
            " [17 12 12]]\n",
            "\n",
            "Minimum values along axis 0:\n",
            " [[11  4 12 12]\n",
            " [ 3  4 10  2]\n",
            " [ 3  7  6  6]]\n",
            "Minimum values along axis 1:\n",
            " [[ 3  4  6  2]\n",
            " [ 3  4 10  6]]\n",
            "Minimum values along axis 2:\n",
            " [[ 4  2  6]\n",
            " [12  4  3]]\n"
          ]
        }
      ]
    },
    {
      "cell_type": "markdown",
      "source": [
        "Exercise 9: Reshaping and Transposing Arrays\n",
        "\n",
        "Create a 1D NumPy array with the numbers from 1 to 12. Reshape the array to a 2D array of shape (3, 4) and print it.\n"
      ],
      "metadata": {
        "id": "rb7-hYoxgpS7"
      }
    },
    {
      "cell_type": "code",
      "source": [
        "array_1d = np.arange(1, 13)\n",
        "array_2d = array_1d.reshape((3, 4))\n",
        "print(\"Reshaped Array (3, 4):\\n\", array_2d)"
      ],
      "metadata": {
        "colab": {
          "base_uri": "https://localhost:8080/"
        },
        "id": "MUoJy9Esg8ja",
        "outputId": "c077b9e1-ae3a-43de-b903-3f0783fdb0ea"
      },
      "execution_count": 37,
      "outputs": [
        {
          "output_type": "stream",
          "name": "stdout",
          "text": [
            "Reshaped Array (3, 4):\n",
            " [[ 1  2  3  4]\n",
            " [ 5  6  7  8]\n",
            " [ 9 10 11 12]]\n"
          ]
        }
      ]
    },
    {
      "cell_type": "markdown",
      "source": [
        "Create a 2D NumPy array of shape (3, 4) with random integers between 1 and 10. Transpose the array and print the transposed array.\n"
      ],
      "metadata": {
        "id": "Z4XzYCDrhDP_"
      }
    },
    {
      "cell_type": "code",
      "source": [
        "array_2d = np.random.randint(1, 11, size=(3, 4))\n",
        "\n",
        "# Transpose the array\n",
        "transposed_array = array_2d.T\n",
        "\n",
        "# Print the transposed array\n",
        "print(\"Transposed Array:\\n\", transposed_array)"
      ],
      "metadata": {
        "colab": {
          "base_uri": "https://localhost:8080/"
        },
        "id": "SuD7RIqUhD1V",
        "outputId": "654f4369-ea1a-44b2-9fbb-7a8e0e6a0c84"
      },
      "execution_count": 38,
      "outputs": [
        {
          "output_type": "stream",
          "name": "stdout",
          "text": [
            "Transposed Array:\n",
            " [[ 5  7 10]\n",
            " [ 7  3 10]\n",
            " [10  8  7]\n",
            " [ 8  2  5]]\n"
          ]
        }
      ]
    },
    {
      "cell_type": "markdown",
      "source": [
        "Create a 2D NumPy array of shape (2, 3) with random integers between 1 and 10. Flatten the array to 1D and print the result.\n"
      ],
      "metadata": {
        "id": "6yFAClcWhcVu"
      }
    },
    {
      "cell_type": "code",
      "source": [
        "array_2d = np.random.randint(1, 11, size=(2, 3))\n",
        "flattened_array = array_2d.flatten()\n",
        "print(\"Flattened Array:\\n\", flattened_array)"
      ],
      "metadata": {
        "colab": {
          "base_uri": "https://localhost:8080/"
        },
        "id": "jP-5iIuZhdxy",
        "outputId": "bcf2a30d-3c4a-4b9a-b70b-be9e18509e65"
      },
      "execution_count": 39,
      "outputs": [
        {
          "output_type": "stream",
          "name": "stdout",
          "text": [
            "Flattened Array:\n",
            " [1 9 4 9 9 6]\n"
          ]
        }
      ]
    },
    {
      "cell_type": "markdown",
      "source": [
        "Exercise 10: Broadcasting and Vectorized Operations\n",
        "\n",
        "Create a 2D NumPy array of shape (3, 4) with random integers between 1 and 10. Subtract the mean of each column from the respective column elements and print the result.\n",
        "\n",
        "\n"
      ],
      "metadata": {
        "id": "Fk1hJZYphrKp"
      }
    },
    {
      "cell_type": "code",
      "source": [
        "array_2d = np.random.randint(1, 11, size=(3, 4))\n",
        "column_means = np.mean(array_2d, axis=0)\n",
        "result = array_2d - column_means\n",
        "print(\"Original Array:\\n\", array_2d)\n",
        "print(\"\\nResult after subtracting column means:\\n\", result)"
      ],
      "metadata": {
        "colab": {
          "base_uri": "https://localhost:8080/"
        },
        "id": "1M_-TNrVh-Zr",
        "outputId": "789d338c-19f3-41e4-8e38-c35196771bff"
      },
      "execution_count": 41,
      "outputs": [
        {
          "output_type": "stream",
          "name": "stdout",
          "text": [
            "Original Array:\n",
            " [[10 10  5  5]\n",
            " [ 2  4  6  9]\n",
            " [ 8  5  4 10]]\n",
            "\n",
            "Result after subtracting column means:\n",
            " [[ 3.33333333  3.66666667  0.         -3.        ]\n",
            " [-4.66666667 -2.33333333  1.          1.        ]\n",
            " [ 1.33333333 -1.33333333 -1.          2.        ]]\n"
          ]
        }
      ]
    },
    {
      "cell_type": "markdown",
      "source": [
        "Create two 1D NumPy arrays of length 4 with random integers between 1 and 5. Use broadcasting to compute and print the outer product of the two arrays.\n"
      ],
      "metadata": {
        "id": "J47dXK7aiDGQ"
      }
    },
    {
      "cell_type": "code",
      "source": [],
      "metadata": {
        "id": "6jzdd3_uiIQx"
      },
      "execution_count": null,
      "outputs": []
    }
  ]
}