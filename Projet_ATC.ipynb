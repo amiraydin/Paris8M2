{
  "nbformat": 4,
  "nbformat_minor": 0,
  "metadata": {
    "colab": {
      "provenance": [],
      "gpuType": "V28",
      "authorship_tag": "ABX9TyMlgUfkAeWCn1UD8tFqdVWS"
    },
    "kernelspec": {
      "name": "python3",
      "display_name": "Python 3"
    },
    "language_info": {
      "name": "python"
    },
    "accelerator": "TPU"
  },
  "cells": [
    {
      "cell_type": "code",
      "execution_count": 5,
      "metadata": {
        "colab": {
          "base_uri": "https://localhost:8080/"
        },
        "id": "UFo-TXjZs-ww",
        "outputId": "3bc0f6c0-0d05-4c46-9c98-74b62d402ff8"
      },
      "outputs": [
        {
          "output_type": "stream",
          "name": "stdout",
          "text": [
            "Drive already mounted at /content/drive; to attempt to forcibly remount, call drive.mount(\"/content/drive\", force_remount=True).\n"
          ]
        }
      ],
      "source": [
        "from google.colab import drive\n",
        "drive.mount('/content/drive')"
      ]
    },
    {
      "cell_type": "code",
      "source": [
        "import numpy as np\n",
        "import matplotlib.pyplot as plt\n",
        "import pandas as pd\n",
        "import keras\n",
        "from keras import layers\n",
        "import os\n",
        "import matplotlib.pyplot as plt\n",
        "#from imblearn.under_sampling import RandomUnderSampler\n",
        "#from tabulate import tabulate\n",
        "from itertools import islice\n",
        "from scipy.signal import resample\n",
        "from sklearn.preprocessing import StandardScaler\n",
        "import pickle\n",
        "import glob\n",
        "import random\n",
        "#import dask.dataframe as dd"
      ],
      "metadata": {
        "id": "0bLtpptMtTnp"
      },
      "execution_count": 6,
      "outputs": []
    },
    {
      "cell_type": "code",
      "source": [
        "data_path = '/content/drive/MyDrive/MovePort/'\n",
        "#Modified_Df_PATH = '/content/drive/MyDrive/MovePortModif/'\n",
        "participants = sorted([p for p in os.listdir(data_path) if p.isdigit()], key=int)\n",
        "print(\"Participants disponibles :\", participants)\n",
        "activities = ['back', 'forward', 'halfsquat', 'still']\n",
        "modalities = ['ips_1', 'emg_1', 'imu_1']"
      ],
      "metadata": {
        "colab": {
          "base_uri": "https://localhost:8080/"
        },
        "id": "AdV94p33tWt1",
        "outputId": "b541e4e2-57c7-4acb-fa4c-b585350a443f"
      },
      "execution_count": 7,
      "outputs": [
        {
          "output_type": "stream",
          "name": "stdout",
          "text": [
            "Participants disponibles : ['1', '2', '3', '4', '5', '6', '7', '8', '9', '10', '11', '12', '13', '14', '15', '16', '17', '18', '19', '20', '21', '22', '23', '24', '25']\n"
          ]
        }
      ]
    },
    {
      "cell_type": "code",
      "source": [
        "def list_missing_files(base_path, participants, activities, modalities):\n",
        "  missing_files = {}\n",
        "  for participant in participants:\n",
        "    participant_missing = {}\n",
        "    for activity in activities:\n",
        "      for modality in modalities:\n",
        "        file_path = os.path.join(base_path, str(participant), activity, f\"{modality}.csv\")\n",
        "        if not os.path.exists(file_path):\n",
        "          if activity not in participant_missing:\n",
        "            participant_missing[activity] = []\n",
        "          participant_missing[activity].append(modality)\n",
        "    if participant_missing:\n",
        "      missing_files[participant] = participant_missing\n",
        "  return missing_files"
      ],
      "metadata": {
        "id": "LmiFJOM8YDf5"
      },
      "execution_count": null,
      "outputs": []
    },
    {
      "cell_type": "code",
      "source": [
        "# Lister les fichiers manquants\n",
        "missing_files = list_missing_files(data_path, participants, activities, modalities)\n",
        "# Afficher les résultats\n",
        "participants_manque_files = []\n",
        "print(\"Participants avec des fichiers de modalités manquants :\")\n",
        "for participant, activities in missing_files.items():\n",
        "    print(f\"Participant {participant}:\")\n",
        "    participants_manque_files.append(participant)\n",
        "    for activity, modalities in activities.items():\n",
        "        print(f\"  Activité {activity}: Modalités manquantes: {', '.join(modalities)}\")"
      ],
      "metadata": {
        "colab": {
          "base_uri": "https://localhost:8080/"
        },
        "id": "0EHOITGebVHh",
        "outputId": "6562bc92-107d-4083-e835-57a58a2f5101"
      },
      "execution_count": null,
      "outputs": [
        {
          "output_type": "stream",
          "name": "stdout",
          "text": [
            "Participants avec des fichiers de modalités manquants :\n",
            "Participant 18:\n",
            "  Activité forward: Modalités manquantes: ips_1, emg_1, imu_1\n",
            "Participant 19:\n",
            "  Activité forward: Modalités manquantes: ips_1, emg_1, imu_1\n",
            "Participant 20:\n",
            "  Activité forward: Modalités manquantes: ips_1, emg_1, imu_1\n",
            "Participant 21:\n",
            "  Activité forward: Modalités manquantes: ips_1, emg_1, imu_1\n",
            "Participant 22:\n",
            "  Activité back: Modalités manquantes: ips_1, emg_1, imu_1\n",
            "Participant 23:\n",
            "  Activité forward: Modalités manquantes: ips_1, emg_1, imu_1\n",
            "  Activité halfsquat: Modalités manquantes: ips_1, emg_1, imu_1\n",
            "Participant 24:\n",
            "  Activité halfsquat: Modalités manquantes: ips_1, emg_1, imu_1\n"
          ]
        }
      ]
    },
    {
      "cell_type": "code",
      "source": [
        "#participants_manque_files"
      ],
      "metadata": {
        "id": "tDmYiIiIwDFj"
      },
      "execution_count": null,
      "outputs": []
    },
    {
      "cell_type": "code",
      "source": [
        "\"\"\"def get_column_structure_and_shape(base_path, participants, activities, modalities):\n",
        "\n",
        "  column_structure = {}\n",
        "  data_shapes = {}\n",
        "  for modality in modalities:\n",
        "      for participant in participants:\n",
        "          for activity in activities:\n",
        "              file_path = os.path.join(base_path, str(participant), activity, f\"{modality}.csv\")\n",
        "              if os.path.exists(file_path):\n",
        "                  df = pd.read_csv(file_path, header=0)\n",
        "                  column_structure[modality] = df.columns\n",
        "                  data_shapes[modality] = df.shape\n",
        "                  break\n",
        "          if modality in column_structure:\n",
        "              break\n",
        "      if modality not in column_structure:\n",
        "          raise ValueError(f\"Structure des colonnes introuvable pour la modalité {modality}\")\n",
        "\n",
        "  return column_structure, data_shapes\"\"\""
      ],
      "metadata": {
        "id": "D3HVjq33-vsG",
        "colab": {
          "base_uri": "https://localhost:8080/",
          "height": 89
        },
        "outputId": "21b57ea5-d0a4-42a4-a040-5710a5df392b"
      },
      "execution_count": null,
      "outputs": [
        {
          "output_type": "execute_result",
          "data": {
            "text/plain": [
              "'def get_column_structure_and_shape(base_path, participants, activities, modalities):\\n\\n  column_structure = {}\\n  data_shapes = {}\\n  for modality in modalities:\\n      for participant in participants:\\n          for activity in activities:\\n              file_path = os.path.join(base_path, str(participant), activity, f\"{modality}.csv\")\\n              if os.path.exists(file_path):\\n                  df = pd.read_csv(file_path, header=0)\\n                  column_structure[modality] = df.columns\\n                  data_shapes[modality] = df.shape\\n                  break\\n          if modality in column_structure:\\n              break\\n      if modality not in column_structure:\\n          raise ValueError(f\"Structure des colonnes introuvable pour la modalité {modality}\")\\n\\n  return column_structure, data_shapes'"
            ],
            "application/vnd.google.colaboratory.intrinsic+json": {
              "type": "string"
            }
          },
          "metadata": {},
          "execution_count": 6
        }
      ]
    },
    {
      "cell_type": "code",
      "source": [
        "\"\"\"def calculate_mean_structure(base_path, participants, activities, modalities):\n",
        "\n",
        "  mean_data = {modality: [] for modality in modalities}\n",
        "  for activity in activities:\n",
        "      for modality in modalities:\n",
        "          participant_pairs = random.sample(participants, 2)\n",
        "          modality_data = []\n",
        "          for participant in participant_pairs:\n",
        "              file_path = os.path.join(base_path, str(participant), activity, f\"{modality}.csv\")\n",
        "              if os.path.exists(file_path):\n",
        "                  try:\n",
        "                      df = pd.read_csv(file_path, header=0)\n",
        "                      numeric_df = df.apply(pd.to_numeric, errors='coerce')  # Convertir en numérique\n",
        "                      modality_data.append(numeric_df)\n",
        "                  except Exception as e:\n",
        "                      print(f\"Erreur lors du chargement de {file_path}: {e}\")\n",
        "          if modality_data:\n",
        "              combined_df = pd.concat(modality_data)\n",
        "              combined_df = combined_df.apply(pd.to_numeric, errors='coerce')\n",
        "              combined_df = combined_df.dropna(axis=1, how='all')  # Supprimer les colonnes entièrement non numériques\n",
        "              mean_df = combined_df.mean(axis=0).to_frame().transpose()  # Calculer uniquement les colonnes numériques\n",
        "              mean_df = round(mean_df, 3)\n",
        "              mean_data[modality].append(mean_df)\n",
        "\n",
        "  for modality in modalities:\n",
        "      mean_data[modality] = pd.concat(mean_data[modality], axis=0).mean(axis=0).to_frame().transpose()\n",
        "\n",
        "  return mean_data\"\"\""
      ],
      "metadata": {
        "id": "xSg-6dm1xY9O",
        "colab": {
          "base_uri": "https://localhost:8080/",
          "height": 89
        },
        "outputId": "57456a2c-bbd1-441d-90fd-6643a281c9cf"
      },
      "execution_count": null,
      "outputs": [
        {
          "output_type": "execute_result",
          "data": {
            "text/plain": [
              "'def calculate_mean_structure(base_path, participants, activities, modalities):\\n\\n  mean_data = {modality: [] for modality in modalities}\\n  for activity in activities:\\n      for modality in modalities:\\n          participant_pairs = random.sample(participants, 2)\\n          modality_data = []\\n          for participant in participant_pairs:\\n              file_path = os.path.join(base_path, str(participant), activity, f\"{modality}.csv\")\\n              if os.path.exists(file_path):\\n                  try:\\n                      df = pd.read_csv(file_path, header=0)\\n                      numeric_df = df.apply(pd.to_numeric, errors=\\'coerce\\')  # Convertir en numérique\\n                      modality_data.append(numeric_df)\\n                  except Exception as e:\\n                      print(f\"Erreur lors du chargement de {file_path}: {e}\")\\n          if modality_data:\\n              combined_df = pd.concat(modality_data)\\n              combined_df = combined_df.apply(pd.to_numeric, errors=\\'coerce\\')\\n              combined_df = combined_df.dropna(axis=1, how=\\'all\\')  # Supprimer les colonnes entièrement non numériques\\n              mean_df = combined_df.mean(axis=0).to_frame().transpose()  # Calculer uniquement les colonnes numériques\\n              mean_df = round(mean_df, 3)\\n              mean_data[modality].append(mean_df)\\n\\n  for modality in modalities:\\n      mean_data[modality] = pd.concat(mean_data[modality], axis=0).mean(axis=0).to_frame().transpose()\\n\\n  return mean_data'"
            ],
            "application/vnd.google.colaboratory.intrinsic+json": {
              "type": "string"
            }
          },
          "metadata": {},
          "execution_count": 7
        }
      ]
    },
    {
      "cell_type": "code",
      "source": [
        "\"\"\"def create_missing_files_with_mean(base_path, participant_id, activities, modalities, mean_data, column_structure, data_shapes):\n",
        "\n",
        "  participant_path = os.path.join(base_path, str(participant_id))\n",
        "  for activity in activities:\n",
        "      activity_path = os.path.join(participant_path, activity)\n",
        "      if not os.path.exists(activity_path):\n",
        "          os.makedirs(activity_path)  # Crée le dossier d'activité s'il n'existe pas\n",
        "      for modality in modalities:\n",
        "          file_path = os.path.join(activity_path, f\"{modality}.csv\")\n",
        "          if not os.path.exists(file_path):\n",
        "              print(f\"Création de {file_path} avec des données moyennes et structure correcte\")\n",
        "              shape = data_shapes[modality]\n",
        "              synthetic_data = pd.DataFrame(np.tile(mean_data[modality].values, (shape[0], 1)), columns=mean_data[modality].columns)\n",
        "              synthetic_data = synthetic_data.reindex(columns=column_structure[modality], fill_value=0)  # Alignement des colonnes\n",
        "              synthetic_data.to_csv(file_path, index=False)\"\"\""
      ],
      "metadata": {
        "id": "Z0db0faMB2M1",
        "colab": {
          "base_uri": "https://localhost:8080/",
          "height": 125
        },
        "outputId": "9a85d6e6-9b00-4b51-c19a-84f688cde88e"
      },
      "execution_count": null,
      "outputs": [
        {
          "output_type": "execute_result",
          "data": {
            "text/plain": [
              "'def create_missing_files_with_mean(base_path, participant_id, activities, modalities, mean_data, column_structure, data_shapes):\\n\\n  participant_path = os.path.join(base_path, str(participant_id))\\n  for activity in activities:\\n      activity_path = os.path.join(participant_path, activity)\\n      if not os.path.exists(activity_path):\\n          os.makedirs(activity_path)  # Crée le dossier d\\'activité s\\'il n\\'existe pas\\n      for modality in modalities:\\n          file_path = os.path.join(activity_path, f\"{modality}.csv\")\\n          if not os.path.exists(file_path):\\n              print(f\"Création de {file_path} avec des données moyennes et structure correcte\")\\n              shape = data_shapes[modality]\\n              synthetic_data = pd.DataFrame(np.tile(mean_data[modality].values, (shape[0], 1)), columns=mean_data[modality].columns)\\n              synthetic_data = synthetic_data.reindex(columns=column_structure[modality], fill_value=0)  # Alignement des colonnes\\n              synthetic_data.to_csv(file_path, index=False)'"
            ],
            "application/vnd.google.colaboratory.intrinsic+json": {
              "type": "string"
            }
          },
          "metadata": {},
          "execution_count": 8
        }
      ]
    },
    {
      "cell_type": "code",
      "source": [
        "# Calculer les moyennes à partir des participants 1 à 16\n",
        "existing_participants = list(range(1, 17))"
      ],
      "metadata": {
        "id": "urb2pUO2B6_2"
      },
      "execution_count": null,
      "outputs": []
    },
    {
      "cell_type": "code",
      "source": [
        "# Créer les fichiers manquants pour chaque participant de la liste\n",
        "#column_structure, data_shapes = get_column_structure_and_shape(data_path, existing_participants, activities, modalities)\n",
        "#for participant_id in participants_manque_files:\n",
        "    #mean_data = calculate_mean_structure(data_path, existing_participants, activities, modalities)\n",
        "    #create_missing_files_with_mean(data_path, participant_id, activities, modalities, mean_data, column_structure, data_shapes)\n",
        "\n",
        "print(\"Tous les dossiers et fichiers manquants ont été créés avec des valeurs moyennes et une structure correcte.\")"
      ],
      "metadata": {
        "colab": {
          "base_uri": "https://localhost:8080/"
        },
        "id": "eDhqrpY4CNT8",
        "outputId": "e711b30c-fe75-4e43-9098-5810b4336168"
      },
      "execution_count": null,
      "outputs": [
        {
          "output_type": "stream",
          "name": "stdout",
          "text": [
            "Tous les dossiers et fichiers manquants ont été créés avec des valeurs moyennes et une structure correcte.\n"
          ]
        }
      ]
    },
    {
      "cell_type": "code",
      "source": [
        "\"\"\"newFileips = pd.read_csv('/content/drive/MyDrive/MovePort/18/forward/ips_1.csv')\n",
        "newFileemg = pd.read_csv('/content/drive/MyDrive/MovePort/19/forward/emg_1.csv')\n",
        "newFileimu = pd.read_csv('/content/drive/MyDrive/MovePort/21/forward/imu_1.csv')\n",
        "print('shape of ips' ,newFileips.shape)\n",
        "print('shape of emg' ,newFileemg.shape)\n",
        "print('shape of imu' ,newFileimu.shape)\"\"\""
      ],
      "metadata": {
        "colab": {
          "base_uri": "https://localhost:8080/",
          "height": 71
        },
        "id": "Tq6y6clZCNOE",
        "outputId": "3b54de3c-eedc-41dc-e620-5790973e4a84"
      },
      "execution_count": null,
      "outputs": [
        {
          "output_type": "execute_result",
          "data": {
            "text/plain": [
              "\"newFileips = pd.read_csv('/content/drive/MyDrive/MovePort/18/forward/ips_1.csv')\\nnewFileemg = pd.read_csv('/content/drive/MyDrive/MovePort/19/forward/emg_1.csv')\\nnewFileimu = pd.read_csv('/content/drive/MyDrive/MovePort/21/forward/imu_1.csv')\\nprint('shape of ips' ,newFileips.shape)\\nprint('shape of emg' ,newFileemg.shape)\\nprint('shape of imu' ,newFileimu.shape)\""
            ],
            "application/vnd.google.colaboratory.intrinsic+json": {
              "type": "string"
            }
          },
          "metadata": {},
          "execution_count": 12
        }
      ]
    },
    {
      "cell_type": "code",
      "source": [
        "# justqu'au la c'est carré !"
      ],
      "metadata": {
        "id": "AqJpRxM2B2D8"
      },
      "execution_count": null,
      "outputs": []
    },
    {
      "cell_type": "code",
      "source": [
        "from sklearn.preprocessing import LabelEncoder\n",
        "# Encoder les catégories\n",
        "categories = ['back', 'forward', 'halfsquat', 'still']\n",
        "category_encoder = LabelEncoder()\n",
        "category_encoder.fit(categories)"
      ],
      "metadata": {
        "colab": {
          "base_uri": "https://localhost:8080/",
          "height": 80
        },
        "id": "FzMhfcKS-stE",
        "outputId": "ac621678-1910-4bc4-d6d0-002e25acb49c"
      },
      "execution_count": 9,
      "outputs": [
        {
          "output_type": "execute_result",
          "data": {
            "text/plain": [
              "LabelEncoder()"
            ],
            "text/html": [
              "<style>#sk-container-id-2 {\n",
              "  /* Definition of color scheme common for light and dark mode */\n",
              "  --sklearn-color-text: black;\n",
              "  --sklearn-color-line: gray;\n",
              "  /* Definition of color scheme for unfitted estimators */\n",
              "  --sklearn-color-unfitted-level-0: #fff5e6;\n",
              "  --sklearn-color-unfitted-level-1: #f6e4d2;\n",
              "  --sklearn-color-unfitted-level-2: #ffe0b3;\n",
              "  --sklearn-color-unfitted-level-3: chocolate;\n",
              "  /* Definition of color scheme for fitted estimators */\n",
              "  --sklearn-color-fitted-level-0: #f0f8ff;\n",
              "  --sklearn-color-fitted-level-1: #d4ebff;\n",
              "  --sklearn-color-fitted-level-2: #b3dbfd;\n",
              "  --sklearn-color-fitted-level-3: cornflowerblue;\n",
              "\n",
              "  /* Specific color for light theme */\n",
              "  --sklearn-color-text-on-default-background: var(--sg-text-color, var(--theme-code-foreground, var(--jp-content-font-color1, black)));\n",
              "  --sklearn-color-background: var(--sg-background-color, var(--theme-background, var(--jp-layout-color0, white)));\n",
              "  --sklearn-color-border-box: var(--sg-text-color, var(--theme-code-foreground, var(--jp-content-font-color1, black)));\n",
              "  --sklearn-color-icon: #696969;\n",
              "\n",
              "  @media (prefers-color-scheme: dark) {\n",
              "    /* Redefinition of color scheme for dark theme */\n",
              "    --sklearn-color-text-on-default-background: var(--sg-text-color, var(--theme-code-foreground, var(--jp-content-font-color1, white)));\n",
              "    --sklearn-color-background: var(--sg-background-color, var(--theme-background, var(--jp-layout-color0, #111)));\n",
              "    --sklearn-color-border-box: var(--sg-text-color, var(--theme-code-foreground, var(--jp-content-font-color1, white)));\n",
              "    --sklearn-color-icon: #878787;\n",
              "  }\n",
              "}\n",
              "\n",
              "#sk-container-id-2 {\n",
              "  color: var(--sklearn-color-text);\n",
              "}\n",
              "\n",
              "#sk-container-id-2 pre {\n",
              "  padding: 0;\n",
              "}\n",
              "\n",
              "#sk-container-id-2 input.sk-hidden--visually {\n",
              "  border: 0;\n",
              "  clip: rect(1px 1px 1px 1px);\n",
              "  clip: rect(1px, 1px, 1px, 1px);\n",
              "  height: 1px;\n",
              "  margin: -1px;\n",
              "  overflow: hidden;\n",
              "  padding: 0;\n",
              "  position: absolute;\n",
              "  width: 1px;\n",
              "}\n",
              "\n",
              "#sk-container-id-2 div.sk-dashed-wrapped {\n",
              "  border: 1px dashed var(--sklearn-color-line);\n",
              "  margin: 0 0.4em 0.5em 0.4em;\n",
              "  box-sizing: border-box;\n",
              "  padding-bottom: 0.4em;\n",
              "  background-color: var(--sklearn-color-background);\n",
              "}\n",
              "\n",
              "#sk-container-id-2 div.sk-container {\n",
              "  /* jupyter's `normalize.less` sets `[hidden] { display: none; }`\n",
              "     but bootstrap.min.css set `[hidden] { display: none !important; }`\n",
              "     so we also need the `!important` here to be able to override the\n",
              "     default hidden behavior on the sphinx rendered scikit-learn.org.\n",
              "     See: https://github.com/scikit-learn/scikit-learn/issues/21755 */\n",
              "  display: inline-block !important;\n",
              "  position: relative;\n",
              "}\n",
              "\n",
              "#sk-container-id-2 div.sk-text-repr-fallback {\n",
              "  display: none;\n",
              "}\n",
              "\n",
              "div.sk-parallel-item,\n",
              "div.sk-serial,\n",
              "div.sk-item {\n",
              "  /* draw centered vertical line to link estimators */\n",
              "  background-image: linear-gradient(var(--sklearn-color-text-on-default-background), var(--sklearn-color-text-on-default-background));\n",
              "  background-size: 2px 100%;\n",
              "  background-repeat: no-repeat;\n",
              "  background-position: center center;\n",
              "}\n",
              "\n",
              "/* Parallel-specific style estimator block */\n",
              "\n",
              "#sk-container-id-2 div.sk-parallel-item::after {\n",
              "  content: \"\";\n",
              "  width: 100%;\n",
              "  border-bottom: 2px solid var(--sklearn-color-text-on-default-background);\n",
              "  flex-grow: 1;\n",
              "}\n",
              "\n",
              "#sk-container-id-2 div.sk-parallel {\n",
              "  display: flex;\n",
              "  align-items: stretch;\n",
              "  justify-content: center;\n",
              "  background-color: var(--sklearn-color-background);\n",
              "  position: relative;\n",
              "}\n",
              "\n",
              "#sk-container-id-2 div.sk-parallel-item {\n",
              "  display: flex;\n",
              "  flex-direction: column;\n",
              "}\n",
              "\n",
              "#sk-container-id-2 div.sk-parallel-item:first-child::after {\n",
              "  align-self: flex-end;\n",
              "  width: 50%;\n",
              "}\n",
              "\n",
              "#sk-container-id-2 div.sk-parallel-item:last-child::after {\n",
              "  align-self: flex-start;\n",
              "  width: 50%;\n",
              "}\n",
              "\n",
              "#sk-container-id-2 div.sk-parallel-item:only-child::after {\n",
              "  width: 0;\n",
              "}\n",
              "\n",
              "/* Serial-specific style estimator block */\n",
              "\n",
              "#sk-container-id-2 div.sk-serial {\n",
              "  display: flex;\n",
              "  flex-direction: column;\n",
              "  align-items: center;\n",
              "  background-color: var(--sklearn-color-background);\n",
              "  padding-right: 1em;\n",
              "  padding-left: 1em;\n",
              "}\n",
              "\n",
              "\n",
              "/* Toggleable style: style used for estimator/Pipeline/ColumnTransformer box that is\n",
              "clickable and can be expanded/collapsed.\n",
              "- Pipeline and ColumnTransformer use this feature and define the default style\n",
              "- Estimators will overwrite some part of the style using the `sk-estimator` class\n",
              "*/\n",
              "\n",
              "/* Pipeline and ColumnTransformer style (default) */\n",
              "\n",
              "#sk-container-id-2 div.sk-toggleable {\n",
              "  /* Default theme specific background. It is overwritten whether we have a\n",
              "  specific estimator or a Pipeline/ColumnTransformer */\n",
              "  background-color: var(--sklearn-color-background);\n",
              "}\n",
              "\n",
              "/* Toggleable label */\n",
              "#sk-container-id-2 label.sk-toggleable__label {\n",
              "  cursor: pointer;\n",
              "  display: block;\n",
              "  width: 100%;\n",
              "  margin-bottom: 0;\n",
              "  padding: 0.5em;\n",
              "  box-sizing: border-box;\n",
              "  text-align: center;\n",
              "}\n",
              "\n",
              "#sk-container-id-2 label.sk-toggleable__label-arrow:before {\n",
              "  /* Arrow on the left of the label */\n",
              "  content: \"▸\";\n",
              "  float: left;\n",
              "  margin-right: 0.25em;\n",
              "  color: var(--sklearn-color-icon);\n",
              "}\n",
              "\n",
              "#sk-container-id-2 label.sk-toggleable__label-arrow:hover:before {\n",
              "  color: var(--sklearn-color-text);\n",
              "}\n",
              "\n",
              "/* Toggleable content - dropdown */\n",
              "\n",
              "#sk-container-id-2 div.sk-toggleable__content {\n",
              "  max-height: 0;\n",
              "  max-width: 0;\n",
              "  overflow: hidden;\n",
              "  text-align: left;\n",
              "  /* unfitted */\n",
              "  background-color: var(--sklearn-color-unfitted-level-0);\n",
              "}\n",
              "\n",
              "#sk-container-id-2 div.sk-toggleable__content.fitted {\n",
              "  /* fitted */\n",
              "  background-color: var(--sklearn-color-fitted-level-0);\n",
              "}\n",
              "\n",
              "#sk-container-id-2 div.sk-toggleable__content pre {\n",
              "  margin: 0.2em;\n",
              "  border-radius: 0.25em;\n",
              "  color: var(--sklearn-color-text);\n",
              "  /* unfitted */\n",
              "  background-color: var(--sklearn-color-unfitted-level-0);\n",
              "}\n",
              "\n",
              "#sk-container-id-2 div.sk-toggleable__content.fitted pre {\n",
              "  /* unfitted */\n",
              "  background-color: var(--sklearn-color-fitted-level-0);\n",
              "}\n",
              "\n",
              "#sk-container-id-2 input.sk-toggleable__control:checked~div.sk-toggleable__content {\n",
              "  /* Expand drop-down */\n",
              "  max-height: 200px;\n",
              "  max-width: 100%;\n",
              "  overflow: auto;\n",
              "}\n",
              "\n",
              "#sk-container-id-2 input.sk-toggleable__control:checked~label.sk-toggleable__label-arrow:before {\n",
              "  content: \"▾\";\n",
              "}\n",
              "\n",
              "/* Pipeline/ColumnTransformer-specific style */\n",
              "\n",
              "#sk-container-id-2 div.sk-label input.sk-toggleable__control:checked~label.sk-toggleable__label {\n",
              "  color: var(--sklearn-color-text);\n",
              "  background-color: var(--sklearn-color-unfitted-level-2);\n",
              "}\n",
              "\n",
              "#sk-container-id-2 div.sk-label.fitted input.sk-toggleable__control:checked~label.sk-toggleable__label {\n",
              "  background-color: var(--sklearn-color-fitted-level-2);\n",
              "}\n",
              "\n",
              "/* Estimator-specific style */\n",
              "\n",
              "/* Colorize estimator box */\n",
              "#sk-container-id-2 div.sk-estimator input.sk-toggleable__control:checked~label.sk-toggleable__label {\n",
              "  /* unfitted */\n",
              "  background-color: var(--sklearn-color-unfitted-level-2);\n",
              "}\n",
              "\n",
              "#sk-container-id-2 div.sk-estimator.fitted input.sk-toggleable__control:checked~label.sk-toggleable__label {\n",
              "  /* fitted */\n",
              "  background-color: var(--sklearn-color-fitted-level-2);\n",
              "}\n",
              "\n",
              "#sk-container-id-2 div.sk-label label.sk-toggleable__label,\n",
              "#sk-container-id-2 div.sk-label label {\n",
              "  /* The background is the default theme color */\n",
              "  color: var(--sklearn-color-text-on-default-background);\n",
              "}\n",
              "\n",
              "/* On hover, darken the color of the background */\n",
              "#sk-container-id-2 div.sk-label:hover label.sk-toggleable__label {\n",
              "  color: var(--sklearn-color-text);\n",
              "  background-color: var(--sklearn-color-unfitted-level-2);\n",
              "}\n",
              "\n",
              "/* Label box, darken color on hover, fitted */\n",
              "#sk-container-id-2 div.sk-label.fitted:hover label.sk-toggleable__label.fitted {\n",
              "  color: var(--sklearn-color-text);\n",
              "  background-color: var(--sklearn-color-fitted-level-2);\n",
              "}\n",
              "\n",
              "/* Estimator label */\n",
              "\n",
              "#sk-container-id-2 div.sk-label label {\n",
              "  font-family: monospace;\n",
              "  font-weight: bold;\n",
              "  display: inline-block;\n",
              "  line-height: 1.2em;\n",
              "}\n",
              "\n",
              "#sk-container-id-2 div.sk-label-container {\n",
              "  text-align: center;\n",
              "}\n",
              "\n",
              "/* Estimator-specific */\n",
              "#sk-container-id-2 div.sk-estimator {\n",
              "  font-family: monospace;\n",
              "  border: 1px dotted var(--sklearn-color-border-box);\n",
              "  border-radius: 0.25em;\n",
              "  box-sizing: border-box;\n",
              "  margin-bottom: 0.5em;\n",
              "  /* unfitted */\n",
              "  background-color: var(--sklearn-color-unfitted-level-0);\n",
              "}\n",
              "\n",
              "#sk-container-id-2 div.sk-estimator.fitted {\n",
              "  /* fitted */\n",
              "  background-color: var(--sklearn-color-fitted-level-0);\n",
              "}\n",
              "\n",
              "/* on hover */\n",
              "#sk-container-id-2 div.sk-estimator:hover {\n",
              "  /* unfitted */\n",
              "  background-color: var(--sklearn-color-unfitted-level-2);\n",
              "}\n",
              "\n",
              "#sk-container-id-2 div.sk-estimator.fitted:hover {\n",
              "  /* fitted */\n",
              "  background-color: var(--sklearn-color-fitted-level-2);\n",
              "}\n",
              "\n",
              "/* Specification for estimator info (e.g. \"i\" and \"?\") */\n",
              "\n",
              "/* Common style for \"i\" and \"?\" */\n",
              "\n",
              ".sk-estimator-doc-link,\n",
              "a:link.sk-estimator-doc-link,\n",
              "a:visited.sk-estimator-doc-link {\n",
              "  float: right;\n",
              "  font-size: smaller;\n",
              "  line-height: 1em;\n",
              "  font-family: monospace;\n",
              "  background-color: var(--sklearn-color-background);\n",
              "  border-radius: 1em;\n",
              "  height: 1em;\n",
              "  width: 1em;\n",
              "  text-decoration: none !important;\n",
              "  margin-left: 1ex;\n",
              "  /* unfitted */\n",
              "  border: var(--sklearn-color-unfitted-level-1) 1pt solid;\n",
              "  color: var(--sklearn-color-unfitted-level-1);\n",
              "}\n",
              "\n",
              ".sk-estimator-doc-link.fitted,\n",
              "a:link.sk-estimator-doc-link.fitted,\n",
              "a:visited.sk-estimator-doc-link.fitted {\n",
              "  /* fitted */\n",
              "  border: var(--sklearn-color-fitted-level-1) 1pt solid;\n",
              "  color: var(--sklearn-color-fitted-level-1);\n",
              "}\n",
              "\n",
              "/* On hover */\n",
              "div.sk-estimator:hover .sk-estimator-doc-link:hover,\n",
              ".sk-estimator-doc-link:hover,\n",
              "div.sk-label-container:hover .sk-estimator-doc-link:hover,\n",
              ".sk-estimator-doc-link:hover {\n",
              "  /* unfitted */\n",
              "  background-color: var(--sklearn-color-unfitted-level-3);\n",
              "  color: var(--sklearn-color-background);\n",
              "  text-decoration: none;\n",
              "}\n",
              "\n",
              "div.sk-estimator.fitted:hover .sk-estimator-doc-link.fitted:hover,\n",
              ".sk-estimator-doc-link.fitted:hover,\n",
              "div.sk-label-container:hover .sk-estimator-doc-link.fitted:hover,\n",
              ".sk-estimator-doc-link.fitted:hover {\n",
              "  /* fitted */\n",
              "  background-color: var(--sklearn-color-fitted-level-3);\n",
              "  color: var(--sklearn-color-background);\n",
              "  text-decoration: none;\n",
              "}\n",
              "\n",
              "/* Span, style for the box shown on hovering the info icon */\n",
              ".sk-estimator-doc-link span {\n",
              "  display: none;\n",
              "  z-index: 9999;\n",
              "  position: relative;\n",
              "  font-weight: normal;\n",
              "  right: .2ex;\n",
              "  padding: .5ex;\n",
              "  margin: .5ex;\n",
              "  width: min-content;\n",
              "  min-width: 20ex;\n",
              "  max-width: 50ex;\n",
              "  color: var(--sklearn-color-text);\n",
              "  box-shadow: 2pt 2pt 4pt #999;\n",
              "  /* unfitted */\n",
              "  background: var(--sklearn-color-unfitted-level-0);\n",
              "  border: .5pt solid var(--sklearn-color-unfitted-level-3);\n",
              "}\n",
              "\n",
              ".sk-estimator-doc-link.fitted span {\n",
              "  /* fitted */\n",
              "  background: var(--sklearn-color-fitted-level-0);\n",
              "  border: var(--sklearn-color-fitted-level-3);\n",
              "}\n",
              "\n",
              ".sk-estimator-doc-link:hover span {\n",
              "  display: block;\n",
              "}\n",
              "\n",
              "/* \"?\"-specific style due to the `<a>` HTML tag */\n",
              "\n",
              "#sk-container-id-2 a.estimator_doc_link {\n",
              "  float: right;\n",
              "  font-size: 1rem;\n",
              "  line-height: 1em;\n",
              "  font-family: monospace;\n",
              "  background-color: var(--sklearn-color-background);\n",
              "  border-radius: 1rem;\n",
              "  height: 1rem;\n",
              "  width: 1rem;\n",
              "  text-decoration: none;\n",
              "  /* unfitted */\n",
              "  color: var(--sklearn-color-unfitted-level-1);\n",
              "  border: var(--sklearn-color-unfitted-level-1) 1pt solid;\n",
              "}\n",
              "\n",
              "#sk-container-id-2 a.estimator_doc_link.fitted {\n",
              "  /* fitted */\n",
              "  border: var(--sklearn-color-fitted-level-1) 1pt solid;\n",
              "  color: var(--sklearn-color-fitted-level-1);\n",
              "}\n",
              "\n",
              "/* On hover */\n",
              "#sk-container-id-2 a.estimator_doc_link:hover {\n",
              "  /* unfitted */\n",
              "  background-color: var(--sklearn-color-unfitted-level-3);\n",
              "  color: var(--sklearn-color-background);\n",
              "  text-decoration: none;\n",
              "}\n",
              "\n",
              "#sk-container-id-2 a.estimator_doc_link.fitted:hover {\n",
              "  /* fitted */\n",
              "  background-color: var(--sklearn-color-fitted-level-3);\n",
              "}\n",
              "</style><div id=\"sk-container-id-2\" class=\"sk-top-container\"><div class=\"sk-text-repr-fallback\"><pre>LabelEncoder()</pre><b>In a Jupyter environment, please rerun this cell to show the HTML representation or trust the notebook. <br />On GitHub, the HTML representation is unable to render, please try loading this page with nbviewer.org.</b></div><div class=\"sk-container\" hidden><div class=\"sk-item\"><div class=\"sk-estimator fitted sk-toggleable\"><input class=\"sk-toggleable__control sk-hidden--visually\" id=\"sk-estimator-id-2\" type=\"checkbox\" checked><label for=\"sk-estimator-id-2\" class=\"sk-toggleable__label fitted sk-toggleable__label-arrow fitted\">&nbsp;&nbsp;LabelEncoder<a class=\"sk-estimator-doc-link fitted\" rel=\"noreferrer\" target=\"_blank\" href=\"https://scikit-learn.org/1.5/modules/generated/sklearn.preprocessing.LabelEncoder.html\">?<span>Documentation for LabelEncoder</span></a><span class=\"sk-estimator-doc-link fitted\">i<span>Fitted</span></span></label><div class=\"sk-toggleable__content fitted\"><pre>LabelEncoder()</pre></div> </div></div></div></div>"
            ]
          },
          "metadata": {},
          "execution_count": 9
        }
      ]
    },
    {
      "cell_type": "code",
      "source": [
        "def decode_categories(df, column_name='categorie'):\n",
        "  df[column_name] = category_encoder.inverse_transform(df[column_name])\n",
        "  return df"
      ],
      "metadata": {
        "id": "gzTUcgHn-6bL"
      },
      "execution_count": 10,
      "outputs": []
    },
    {
      "cell_type": "code",
      "source": [
        "def inverser_csv(file_path):\n",
        "  df = pd.read_csv(file_path, header=0)\n",
        "  df = df.transpose()\n",
        "  df.columns = df.iloc[0]  # Première ligne devient l'en-tête\n",
        "  #df.dropna(inplace=True)\n",
        "  df = df[1:].reset_index(drop=True)  # Supprimer la première ligne et réindexer\n",
        "  return df"
      ],
      "metadata": {
        "id": "9svHh3F9iaAm"
      },
      "execution_count": 11,
      "outputs": []
    },
    {
      "cell_type": "code",
      "source": [
        "def process_data_in_batch(participant_path, modality):\n",
        "  # Dictionnaire pour mapper les catégories aux valeurs numériques manuellement\n",
        "  # category_mapping = {'back': 0, 'forward': 1, 'halfsquat': 2, 'still': 3}\n",
        "  all_category_data = []\n",
        "\n",
        "  for category in categories:\n",
        "    # Chercher les fichiers spécifiques à la modalité\n",
        "    files = glob.glob(os.path.join(participant_path, category, f\"{modality}_1.csv\"))\n",
        "    print(f\"  Fichiers {modality.upper()} trouvés pour la catégorie '{category}': {files}\")\n",
        "    category_data = []  # Liste pour stocker les données de cette catégorie\n",
        "    for file in files:\n",
        "      print(f\"    Traitement du fichier {modality.upper()} : {file}\")\n",
        "      try:\n",
        "        df = inverser_csv(file)\n",
        "        df['categorie'] = category_encoder.transform([category])[0]\n",
        "        category_data.append(df)\n",
        "      except Exception as e:\n",
        "        print(f\"Erreur lors du traitement du fichier {file}: {e}\")\n",
        "    # Concaténer toutes les données de la catégorie pour ce participant\n",
        "    if category_data:\n",
        "      concatenated_category_data = pd.concat(category_data, ignore_index=True)\n",
        "      all_category_data.append(concatenated_category_data)\n",
        "  # Retourner toutes les données des catégories pour ce participant\n",
        "  if all_category_data:\n",
        "    return pd.concat(all_category_data, ignore_index=True)\n",
        "  else:\n",
        "    return None"
      ],
      "metadata": {
        "id": "ceC_KTZPjjIA"
      },
      "execution_count": 12,
      "outputs": []
    },
    {
      "cell_type": "code",
      "source": [
        "def process_participants(data_path, participants, modality, batch_size=5):\n",
        "\n",
        "  all_data = []  # Liste pour stocker toutes les données traitées\n",
        "  # Diviser les participants en lots (batchs)\n",
        "  participants_batches = [participants[i:i + batch_size] for i in range(0, len(participants), batch_size)]\n",
        "\n",
        "  for batch_idx, batch_participants in enumerate(participants_batches, start=1):\n",
        "    print(f\"Traitement du lot {batch_idx}/{len(participants_batches)} : Participants {batch_participants}\")\n",
        "    batch_data = []  # Liste pour stocker les données d'un batch\n",
        "    for participant_id in batch_participants:\n",
        "      participant_path = os.path.join(data_path, str(participant_id))\n",
        "      # Traiter les données pour ce participant\n",
        "      print(f\"Participant {participant_id}\")\n",
        "      participant_data = process_data_in_batch(participant_path, modality)\n",
        "      # Ajouter l'ID du participant aux données\n",
        "      if participant_data is not None:\n",
        "        participant_data['id'] = participant_id  # Ajouter l'ID du participant\n",
        "        batch_data.append(participant_data)\n",
        "    # Concaténer les données du lot\n",
        "    if batch_data:\n",
        "      batch_df = pd.concat(batch_data, ignore_index=True)\n",
        "      all_data.append(batch_df)\n",
        "  # Concaténer toutes les données traitées en un seul DataFrame\n",
        "  if all_data:\n",
        "    concatenated_data = pd.concat(all_data, ignore_index=True)\n",
        "    return concatenated_data\n",
        "  else:\n",
        "    print(\"Aucune donnée valide trouvée.\")\n",
        "    return None"
      ],
      "metadata": {
        "id": "3MIwZR5pjnct"
      },
      "execution_count": 13,
      "outputs": []
    },
    {
      "cell_type": "code",
      "source": [
        "batch_size = 5  # regroupe les participants en 5\n",
        "participants = [1, 2, 3, 4, 5, 6, 7, 8, 9, 10, 11, 12, 13, 14, 15, 16, 17, 18]\n",
        "#participants = participants"
      ],
      "metadata": {
        "id": "omjc2h-Gu1Md"
      },
      "execution_count": 14,
      "outputs": []
    },
    {
      "cell_type": "code",
      "source": [
        "modalityImu = 'imu'  # Modalité, ici imu\n",
        "modalityEmg = 'emg'  # Modalité, ici emg\n",
        "modalityIps = 'ips'  # Modalité, ici ips\n",
        "# Appel de la fonction pour traiter les données\n",
        "processed_dataImu = process_participants(data_path, participants, modalityImu, batch_size)\n",
        "processed_dataEmg = process_participants(data_path, participants, modalityEmg, batch_size)\n",
        "processed_dataIps = process_participants(data_path, participants, modalityIps, batch_size)"
      ],
      "metadata": {
        "id": "12Ij36yp2i01",
        "colab": {
          "base_uri": "https://localhost:8080/"
        },
        "outputId": "7cfe470e-ac05-4939-e31b-4d2e35d33a31"
      },
      "execution_count": 15,
      "outputs": [
        {
          "output_type": "stream",
          "name": "stdout",
          "text": [
            "Traitement du lot 1/4 : Participants [1, 2, 3, 4, 5]\n",
            "Participant 1\n",
            "  Fichiers IMU trouvés pour la catégorie 'back': ['/content/drive/MyDrive/MovePort/1/back/imu_1.csv']\n",
            "    Traitement du fichier IMU : /content/drive/MyDrive/MovePort/1/back/imu_1.csv\n",
            "  Fichiers IMU trouvés pour la catégorie 'forward': ['/content/drive/MyDrive/MovePort/1/forward/imu_1.csv']\n",
            "    Traitement du fichier IMU : /content/drive/MyDrive/MovePort/1/forward/imu_1.csv\n",
            "  Fichiers IMU trouvés pour la catégorie 'halfsquat': ['/content/drive/MyDrive/MovePort/1/halfsquat/imu_1.csv']\n",
            "    Traitement du fichier IMU : /content/drive/MyDrive/MovePort/1/halfsquat/imu_1.csv\n",
            "  Fichiers IMU trouvés pour la catégorie 'still': ['/content/drive/MyDrive/MovePort/1/still/imu_1.csv']\n",
            "    Traitement du fichier IMU : /content/drive/MyDrive/MovePort/1/still/imu_1.csv\n",
            "Participant 2\n",
            "  Fichiers IMU trouvés pour la catégorie 'back': ['/content/drive/MyDrive/MovePort/2/back/imu_1.csv']\n",
            "    Traitement du fichier IMU : /content/drive/MyDrive/MovePort/2/back/imu_1.csv\n",
            "  Fichiers IMU trouvés pour la catégorie 'forward': ['/content/drive/MyDrive/MovePort/2/forward/imu_1.csv']\n",
            "    Traitement du fichier IMU : /content/drive/MyDrive/MovePort/2/forward/imu_1.csv\n",
            "  Fichiers IMU trouvés pour la catégorie 'halfsquat': ['/content/drive/MyDrive/MovePort/2/halfsquat/imu_1.csv']\n",
            "    Traitement du fichier IMU : /content/drive/MyDrive/MovePort/2/halfsquat/imu_1.csv\n",
            "  Fichiers IMU trouvés pour la catégorie 'still': ['/content/drive/MyDrive/MovePort/2/still/imu_1.csv']\n",
            "    Traitement du fichier IMU : /content/drive/MyDrive/MovePort/2/still/imu_1.csv\n",
            "Participant 3\n",
            "  Fichiers IMU trouvés pour la catégorie 'back': ['/content/drive/MyDrive/MovePort/3/back/imu_1.csv']\n",
            "    Traitement du fichier IMU : /content/drive/MyDrive/MovePort/3/back/imu_1.csv\n",
            "  Fichiers IMU trouvés pour la catégorie 'forward': ['/content/drive/MyDrive/MovePort/3/forward/imu_1.csv']\n",
            "    Traitement du fichier IMU : /content/drive/MyDrive/MovePort/3/forward/imu_1.csv\n",
            "  Fichiers IMU trouvés pour la catégorie 'halfsquat': ['/content/drive/MyDrive/MovePort/3/halfsquat/imu_1.csv']\n",
            "    Traitement du fichier IMU : /content/drive/MyDrive/MovePort/3/halfsquat/imu_1.csv\n",
            "  Fichiers IMU trouvés pour la catégorie 'still': ['/content/drive/MyDrive/MovePort/3/still/imu_1.csv']\n",
            "    Traitement du fichier IMU : /content/drive/MyDrive/MovePort/3/still/imu_1.csv\n",
            "Participant 4\n",
            "  Fichiers IMU trouvés pour la catégorie 'back': ['/content/drive/MyDrive/MovePort/4/back/imu_1.csv']\n",
            "    Traitement du fichier IMU : /content/drive/MyDrive/MovePort/4/back/imu_1.csv\n",
            "  Fichiers IMU trouvés pour la catégorie 'forward': ['/content/drive/MyDrive/MovePort/4/forward/imu_1.csv']\n",
            "    Traitement du fichier IMU : /content/drive/MyDrive/MovePort/4/forward/imu_1.csv\n",
            "  Fichiers IMU trouvés pour la catégorie 'halfsquat': ['/content/drive/MyDrive/MovePort/4/halfsquat/imu_1.csv']\n",
            "    Traitement du fichier IMU : /content/drive/MyDrive/MovePort/4/halfsquat/imu_1.csv\n",
            "  Fichiers IMU trouvés pour la catégorie 'still': ['/content/drive/MyDrive/MovePort/4/still/imu_1.csv']\n",
            "    Traitement du fichier IMU : /content/drive/MyDrive/MovePort/4/still/imu_1.csv\n",
            "Participant 5\n",
            "  Fichiers IMU trouvés pour la catégorie 'back': ['/content/drive/MyDrive/MovePort/5/back/imu_1.csv']\n",
            "    Traitement du fichier IMU : /content/drive/MyDrive/MovePort/5/back/imu_1.csv\n",
            "  Fichiers IMU trouvés pour la catégorie 'forward': ['/content/drive/MyDrive/MovePort/5/forward/imu_1.csv']\n",
            "    Traitement du fichier IMU : /content/drive/MyDrive/MovePort/5/forward/imu_1.csv\n",
            "  Fichiers IMU trouvés pour la catégorie 'halfsquat': ['/content/drive/MyDrive/MovePort/5/halfsquat/imu_1.csv']\n",
            "    Traitement du fichier IMU : /content/drive/MyDrive/MovePort/5/halfsquat/imu_1.csv\n",
            "  Fichiers IMU trouvés pour la catégorie 'still': ['/content/drive/MyDrive/MovePort/5/still/imu_1.csv']\n",
            "    Traitement du fichier IMU : /content/drive/MyDrive/MovePort/5/still/imu_1.csv\n",
            "Traitement du lot 2/4 : Participants [6, 7, 8, 9, 10]\n",
            "Participant 6\n",
            "  Fichiers IMU trouvés pour la catégorie 'back': ['/content/drive/MyDrive/MovePort/6/back/imu_1.csv']\n",
            "    Traitement du fichier IMU : /content/drive/MyDrive/MovePort/6/back/imu_1.csv\n",
            "  Fichiers IMU trouvés pour la catégorie 'forward': ['/content/drive/MyDrive/MovePort/6/forward/imu_1.csv']\n",
            "    Traitement du fichier IMU : /content/drive/MyDrive/MovePort/6/forward/imu_1.csv\n",
            "  Fichiers IMU trouvés pour la catégorie 'halfsquat': ['/content/drive/MyDrive/MovePort/6/halfsquat/imu_1.csv']\n",
            "    Traitement du fichier IMU : /content/drive/MyDrive/MovePort/6/halfsquat/imu_1.csv\n",
            "  Fichiers IMU trouvés pour la catégorie 'still': ['/content/drive/MyDrive/MovePort/6/still/imu_1.csv']\n",
            "    Traitement du fichier IMU : /content/drive/MyDrive/MovePort/6/still/imu_1.csv\n",
            "Participant 7\n",
            "  Fichiers IMU trouvés pour la catégorie 'back': ['/content/drive/MyDrive/MovePort/7/back/imu_1.csv']\n",
            "    Traitement du fichier IMU : /content/drive/MyDrive/MovePort/7/back/imu_1.csv\n",
            "  Fichiers IMU trouvés pour la catégorie 'forward': ['/content/drive/MyDrive/MovePort/7/forward/imu_1.csv']\n",
            "    Traitement du fichier IMU : /content/drive/MyDrive/MovePort/7/forward/imu_1.csv\n",
            "  Fichiers IMU trouvés pour la catégorie 'halfsquat': ['/content/drive/MyDrive/MovePort/7/halfsquat/imu_1.csv']\n",
            "    Traitement du fichier IMU : /content/drive/MyDrive/MovePort/7/halfsquat/imu_1.csv\n",
            "  Fichiers IMU trouvés pour la catégorie 'still': ['/content/drive/MyDrive/MovePort/7/still/imu_1.csv']\n",
            "    Traitement du fichier IMU : /content/drive/MyDrive/MovePort/7/still/imu_1.csv\n",
            "Participant 8\n",
            "  Fichiers IMU trouvés pour la catégorie 'back': ['/content/drive/MyDrive/MovePort/8/back/imu_1.csv']\n",
            "    Traitement du fichier IMU : /content/drive/MyDrive/MovePort/8/back/imu_1.csv\n",
            "  Fichiers IMU trouvés pour la catégorie 'forward': ['/content/drive/MyDrive/MovePort/8/forward/imu_1.csv']\n",
            "    Traitement du fichier IMU : /content/drive/MyDrive/MovePort/8/forward/imu_1.csv\n",
            "  Fichiers IMU trouvés pour la catégorie 'halfsquat': ['/content/drive/MyDrive/MovePort/8/halfsquat/imu_1.csv']\n",
            "    Traitement du fichier IMU : /content/drive/MyDrive/MovePort/8/halfsquat/imu_1.csv\n",
            "  Fichiers IMU trouvés pour la catégorie 'still': ['/content/drive/MyDrive/MovePort/8/still/imu_1.csv']\n",
            "    Traitement du fichier IMU : /content/drive/MyDrive/MovePort/8/still/imu_1.csv\n",
            "Participant 9\n",
            "  Fichiers IMU trouvés pour la catégorie 'back': ['/content/drive/MyDrive/MovePort/9/back/imu_1.csv']\n",
            "    Traitement du fichier IMU : /content/drive/MyDrive/MovePort/9/back/imu_1.csv\n",
            "  Fichiers IMU trouvés pour la catégorie 'forward': ['/content/drive/MyDrive/MovePort/9/forward/imu_1.csv']\n",
            "    Traitement du fichier IMU : /content/drive/MyDrive/MovePort/9/forward/imu_1.csv\n",
            "  Fichiers IMU trouvés pour la catégorie 'halfsquat': ['/content/drive/MyDrive/MovePort/9/halfsquat/imu_1.csv']\n",
            "    Traitement du fichier IMU : /content/drive/MyDrive/MovePort/9/halfsquat/imu_1.csv\n",
            "  Fichiers IMU trouvés pour la catégorie 'still': ['/content/drive/MyDrive/MovePort/9/still/imu_1.csv']\n",
            "    Traitement du fichier IMU : /content/drive/MyDrive/MovePort/9/still/imu_1.csv\n",
            "Participant 10\n",
            "  Fichiers IMU trouvés pour la catégorie 'back': ['/content/drive/MyDrive/MovePort/10/back/imu_1.csv']\n",
            "    Traitement du fichier IMU : /content/drive/MyDrive/MovePort/10/back/imu_1.csv\n",
            "  Fichiers IMU trouvés pour la catégorie 'forward': ['/content/drive/MyDrive/MovePort/10/forward/imu_1.csv']\n",
            "    Traitement du fichier IMU : /content/drive/MyDrive/MovePort/10/forward/imu_1.csv\n",
            "  Fichiers IMU trouvés pour la catégorie 'halfsquat': ['/content/drive/MyDrive/MovePort/10/halfsquat/imu_1.csv']\n",
            "    Traitement du fichier IMU : /content/drive/MyDrive/MovePort/10/halfsquat/imu_1.csv\n",
            "  Fichiers IMU trouvés pour la catégorie 'still': ['/content/drive/MyDrive/MovePort/10/still/imu_1.csv']\n",
            "    Traitement du fichier IMU : /content/drive/MyDrive/MovePort/10/still/imu_1.csv\n",
            "Traitement du lot 3/4 : Participants [11, 12, 13, 14, 15]\n",
            "Participant 11\n",
            "  Fichiers IMU trouvés pour la catégorie 'back': ['/content/drive/MyDrive/MovePort/11/back/imu_1.csv']\n",
            "    Traitement du fichier IMU : /content/drive/MyDrive/MovePort/11/back/imu_1.csv\n",
            "  Fichiers IMU trouvés pour la catégorie 'forward': ['/content/drive/MyDrive/MovePort/11/forward/imu_1.csv']\n",
            "    Traitement du fichier IMU : /content/drive/MyDrive/MovePort/11/forward/imu_1.csv\n",
            "  Fichiers IMU trouvés pour la catégorie 'halfsquat': ['/content/drive/MyDrive/MovePort/11/halfsquat/imu_1.csv']\n",
            "    Traitement du fichier IMU : /content/drive/MyDrive/MovePort/11/halfsquat/imu_1.csv\n",
            "  Fichiers IMU trouvés pour la catégorie 'still': ['/content/drive/MyDrive/MovePort/11/still/imu_1.csv']\n",
            "    Traitement du fichier IMU : /content/drive/MyDrive/MovePort/11/still/imu_1.csv\n",
            "Participant 12\n",
            "  Fichiers IMU trouvés pour la catégorie 'back': ['/content/drive/MyDrive/MovePort/12/back/imu_1.csv']\n",
            "    Traitement du fichier IMU : /content/drive/MyDrive/MovePort/12/back/imu_1.csv\n",
            "  Fichiers IMU trouvés pour la catégorie 'forward': ['/content/drive/MyDrive/MovePort/12/forward/imu_1.csv']\n",
            "    Traitement du fichier IMU : /content/drive/MyDrive/MovePort/12/forward/imu_1.csv\n",
            "  Fichiers IMU trouvés pour la catégorie 'halfsquat': ['/content/drive/MyDrive/MovePort/12/halfsquat/imu_1.csv']\n",
            "    Traitement du fichier IMU : /content/drive/MyDrive/MovePort/12/halfsquat/imu_1.csv\n",
            "  Fichiers IMU trouvés pour la catégorie 'still': ['/content/drive/MyDrive/MovePort/12/still/imu_1.csv']\n",
            "    Traitement du fichier IMU : /content/drive/MyDrive/MovePort/12/still/imu_1.csv\n",
            "Participant 13\n",
            "  Fichiers IMU trouvés pour la catégorie 'back': ['/content/drive/MyDrive/MovePort/13/back/imu_1.csv']\n",
            "    Traitement du fichier IMU : /content/drive/MyDrive/MovePort/13/back/imu_1.csv\n",
            "  Fichiers IMU trouvés pour la catégorie 'forward': ['/content/drive/MyDrive/MovePort/13/forward/imu_1.csv']\n",
            "    Traitement du fichier IMU : /content/drive/MyDrive/MovePort/13/forward/imu_1.csv\n",
            "  Fichiers IMU trouvés pour la catégorie 'halfsquat': ['/content/drive/MyDrive/MovePort/13/halfsquat/imu_1.csv']\n",
            "    Traitement du fichier IMU : /content/drive/MyDrive/MovePort/13/halfsquat/imu_1.csv\n",
            "  Fichiers IMU trouvés pour la catégorie 'still': ['/content/drive/MyDrive/MovePort/13/still/imu_1.csv']\n",
            "    Traitement du fichier IMU : /content/drive/MyDrive/MovePort/13/still/imu_1.csv\n",
            "Participant 14\n",
            "  Fichiers IMU trouvés pour la catégorie 'back': ['/content/drive/MyDrive/MovePort/14/back/imu_1.csv']\n",
            "    Traitement du fichier IMU : /content/drive/MyDrive/MovePort/14/back/imu_1.csv\n",
            "  Fichiers IMU trouvés pour la catégorie 'forward': ['/content/drive/MyDrive/MovePort/14/forward/imu_1.csv']\n",
            "    Traitement du fichier IMU : /content/drive/MyDrive/MovePort/14/forward/imu_1.csv\n",
            "  Fichiers IMU trouvés pour la catégorie 'halfsquat': ['/content/drive/MyDrive/MovePort/14/halfsquat/imu_1.csv']\n",
            "    Traitement du fichier IMU : /content/drive/MyDrive/MovePort/14/halfsquat/imu_1.csv\n",
            "  Fichiers IMU trouvés pour la catégorie 'still': ['/content/drive/MyDrive/MovePort/14/still/imu_1.csv']\n",
            "    Traitement du fichier IMU : /content/drive/MyDrive/MovePort/14/still/imu_1.csv\n",
            "Participant 15\n",
            "  Fichiers IMU trouvés pour la catégorie 'back': ['/content/drive/MyDrive/MovePort/15/back/imu_1.csv']\n",
            "    Traitement du fichier IMU : /content/drive/MyDrive/MovePort/15/back/imu_1.csv\n",
            "  Fichiers IMU trouvés pour la catégorie 'forward': ['/content/drive/MyDrive/MovePort/15/forward/imu_1.csv']\n",
            "    Traitement du fichier IMU : /content/drive/MyDrive/MovePort/15/forward/imu_1.csv\n",
            "  Fichiers IMU trouvés pour la catégorie 'halfsquat': ['/content/drive/MyDrive/MovePort/15/halfsquat/imu_1.csv']\n",
            "    Traitement du fichier IMU : /content/drive/MyDrive/MovePort/15/halfsquat/imu_1.csv\n",
            "  Fichiers IMU trouvés pour la catégorie 'still': ['/content/drive/MyDrive/MovePort/15/still/imu_1.csv']\n",
            "    Traitement du fichier IMU : /content/drive/MyDrive/MovePort/15/still/imu_1.csv\n",
            "Traitement du lot 4/4 : Participants [16, 17, 18]\n",
            "Participant 16\n",
            "  Fichiers IMU trouvés pour la catégorie 'back': ['/content/drive/MyDrive/MovePort/16/back/imu_1.csv']\n",
            "    Traitement du fichier IMU : /content/drive/MyDrive/MovePort/16/back/imu_1.csv\n",
            "  Fichiers IMU trouvés pour la catégorie 'forward': ['/content/drive/MyDrive/MovePort/16/forward/imu_1.csv']\n",
            "    Traitement du fichier IMU : /content/drive/MyDrive/MovePort/16/forward/imu_1.csv\n",
            "  Fichiers IMU trouvés pour la catégorie 'halfsquat': ['/content/drive/MyDrive/MovePort/16/halfsquat/imu_1.csv']\n",
            "    Traitement du fichier IMU : /content/drive/MyDrive/MovePort/16/halfsquat/imu_1.csv\n",
            "  Fichiers IMU trouvés pour la catégorie 'still': ['/content/drive/MyDrive/MovePort/16/still/imu_1.csv']\n",
            "    Traitement du fichier IMU : /content/drive/MyDrive/MovePort/16/still/imu_1.csv\n",
            "Participant 17\n",
            "  Fichiers IMU trouvés pour la catégorie 'back': ['/content/drive/MyDrive/MovePort/17/back/imu_1.csv']\n",
            "    Traitement du fichier IMU : /content/drive/MyDrive/MovePort/17/back/imu_1.csv\n",
            "  Fichiers IMU trouvés pour la catégorie 'forward': ['/content/drive/MyDrive/MovePort/17/forward/imu_1.csv']\n",
            "    Traitement du fichier IMU : /content/drive/MyDrive/MovePort/17/forward/imu_1.csv\n",
            "  Fichiers IMU trouvés pour la catégorie 'halfsquat': ['/content/drive/MyDrive/MovePort/17/halfsquat/imu_1.csv']\n",
            "    Traitement du fichier IMU : /content/drive/MyDrive/MovePort/17/halfsquat/imu_1.csv\n",
            "  Fichiers IMU trouvés pour la catégorie 'still': ['/content/drive/MyDrive/MovePort/17/still/imu_1.csv']\n",
            "    Traitement du fichier IMU : /content/drive/MyDrive/MovePort/17/still/imu_1.csv\n",
            "Participant 18\n",
            "  Fichiers IMU trouvés pour la catégorie 'back': ['/content/drive/MyDrive/MovePort/18/back/imu_1.csv']\n",
            "    Traitement du fichier IMU : /content/drive/MyDrive/MovePort/18/back/imu_1.csv\n",
            "  Fichiers IMU trouvés pour la catégorie 'forward': []\n",
            "  Fichiers IMU trouvés pour la catégorie 'halfsquat': ['/content/drive/MyDrive/MovePort/18/halfsquat/imu_1.csv']\n",
            "    Traitement du fichier IMU : /content/drive/MyDrive/MovePort/18/halfsquat/imu_1.csv\n",
            "  Fichiers IMU trouvés pour la catégorie 'still': ['/content/drive/MyDrive/MovePort/18/still/imu_1.csv']\n",
            "    Traitement du fichier IMU : /content/drive/MyDrive/MovePort/18/still/imu_1.csv\n",
            "Traitement du lot 1/4 : Participants [1, 2, 3, 4, 5]\n",
            "Participant 1\n",
            "  Fichiers EMG trouvés pour la catégorie 'back': ['/content/drive/MyDrive/MovePort/1/back/emg_1.csv']\n",
            "    Traitement du fichier EMG : /content/drive/MyDrive/MovePort/1/back/emg_1.csv\n",
            "  Fichiers EMG trouvés pour la catégorie 'forward': ['/content/drive/MyDrive/MovePort/1/forward/emg_1.csv']\n",
            "    Traitement du fichier EMG : /content/drive/MyDrive/MovePort/1/forward/emg_1.csv\n",
            "  Fichiers EMG trouvés pour la catégorie 'halfsquat': ['/content/drive/MyDrive/MovePort/1/halfsquat/emg_1.csv']\n",
            "    Traitement du fichier EMG : /content/drive/MyDrive/MovePort/1/halfsquat/emg_1.csv\n",
            "  Fichiers EMG trouvés pour la catégorie 'still': ['/content/drive/MyDrive/MovePort/1/still/emg_1.csv']\n",
            "    Traitement du fichier EMG : /content/drive/MyDrive/MovePort/1/still/emg_1.csv\n",
            "Participant 2\n",
            "  Fichiers EMG trouvés pour la catégorie 'back': ['/content/drive/MyDrive/MovePort/2/back/emg_1.csv']\n",
            "    Traitement du fichier EMG : /content/drive/MyDrive/MovePort/2/back/emg_1.csv\n",
            "  Fichiers EMG trouvés pour la catégorie 'forward': ['/content/drive/MyDrive/MovePort/2/forward/emg_1.csv']\n",
            "    Traitement du fichier EMG : /content/drive/MyDrive/MovePort/2/forward/emg_1.csv\n",
            "  Fichiers EMG trouvés pour la catégorie 'halfsquat': ['/content/drive/MyDrive/MovePort/2/halfsquat/emg_1.csv']\n",
            "    Traitement du fichier EMG : /content/drive/MyDrive/MovePort/2/halfsquat/emg_1.csv\n",
            "  Fichiers EMG trouvés pour la catégorie 'still': ['/content/drive/MyDrive/MovePort/2/still/emg_1.csv']\n",
            "    Traitement du fichier EMG : /content/drive/MyDrive/MovePort/2/still/emg_1.csv\n",
            "Participant 3\n",
            "  Fichiers EMG trouvés pour la catégorie 'back': ['/content/drive/MyDrive/MovePort/3/back/emg_1.csv']\n",
            "    Traitement du fichier EMG : /content/drive/MyDrive/MovePort/3/back/emg_1.csv\n",
            "  Fichiers EMG trouvés pour la catégorie 'forward': ['/content/drive/MyDrive/MovePort/3/forward/emg_1.csv']\n",
            "    Traitement du fichier EMG : /content/drive/MyDrive/MovePort/3/forward/emg_1.csv\n",
            "  Fichiers EMG trouvés pour la catégorie 'halfsquat': ['/content/drive/MyDrive/MovePort/3/halfsquat/emg_1.csv']\n",
            "    Traitement du fichier EMG : /content/drive/MyDrive/MovePort/3/halfsquat/emg_1.csv\n",
            "  Fichiers EMG trouvés pour la catégorie 'still': ['/content/drive/MyDrive/MovePort/3/still/emg_1.csv']\n",
            "    Traitement du fichier EMG : /content/drive/MyDrive/MovePort/3/still/emg_1.csv\n",
            "Participant 4\n",
            "  Fichiers EMG trouvés pour la catégorie 'back': ['/content/drive/MyDrive/MovePort/4/back/emg_1.csv']\n",
            "    Traitement du fichier EMG : /content/drive/MyDrive/MovePort/4/back/emg_1.csv\n",
            "  Fichiers EMG trouvés pour la catégorie 'forward': ['/content/drive/MyDrive/MovePort/4/forward/emg_1.csv']\n",
            "    Traitement du fichier EMG : /content/drive/MyDrive/MovePort/4/forward/emg_1.csv\n",
            "  Fichiers EMG trouvés pour la catégorie 'halfsquat': ['/content/drive/MyDrive/MovePort/4/halfsquat/emg_1.csv']\n",
            "    Traitement du fichier EMG : /content/drive/MyDrive/MovePort/4/halfsquat/emg_1.csv\n",
            "  Fichiers EMG trouvés pour la catégorie 'still': ['/content/drive/MyDrive/MovePort/4/still/emg_1.csv']\n",
            "    Traitement du fichier EMG : /content/drive/MyDrive/MovePort/4/still/emg_1.csv\n",
            "Participant 5\n",
            "  Fichiers EMG trouvés pour la catégorie 'back': ['/content/drive/MyDrive/MovePort/5/back/emg_1.csv']\n",
            "    Traitement du fichier EMG : /content/drive/MyDrive/MovePort/5/back/emg_1.csv\n",
            "  Fichiers EMG trouvés pour la catégorie 'forward': ['/content/drive/MyDrive/MovePort/5/forward/emg_1.csv']\n",
            "    Traitement du fichier EMG : /content/drive/MyDrive/MovePort/5/forward/emg_1.csv\n",
            "  Fichiers EMG trouvés pour la catégorie 'halfsquat': ['/content/drive/MyDrive/MovePort/5/halfsquat/emg_1.csv']\n",
            "    Traitement du fichier EMG : /content/drive/MyDrive/MovePort/5/halfsquat/emg_1.csv\n",
            "  Fichiers EMG trouvés pour la catégorie 'still': ['/content/drive/MyDrive/MovePort/5/still/emg_1.csv']\n",
            "    Traitement du fichier EMG : /content/drive/MyDrive/MovePort/5/still/emg_1.csv\n",
            "Traitement du lot 2/4 : Participants [6, 7, 8, 9, 10]\n",
            "Participant 6\n",
            "  Fichiers EMG trouvés pour la catégorie 'back': ['/content/drive/MyDrive/MovePort/6/back/emg_1.csv']\n",
            "    Traitement du fichier EMG : /content/drive/MyDrive/MovePort/6/back/emg_1.csv\n",
            "  Fichiers EMG trouvés pour la catégorie 'forward': ['/content/drive/MyDrive/MovePort/6/forward/emg_1.csv']\n",
            "    Traitement du fichier EMG : /content/drive/MyDrive/MovePort/6/forward/emg_1.csv\n",
            "  Fichiers EMG trouvés pour la catégorie 'halfsquat': ['/content/drive/MyDrive/MovePort/6/halfsquat/emg_1.csv']\n",
            "    Traitement du fichier EMG : /content/drive/MyDrive/MovePort/6/halfsquat/emg_1.csv\n",
            "  Fichiers EMG trouvés pour la catégorie 'still': ['/content/drive/MyDrive/MovePort/6/still/emg_1.csv']\n",
            "    Traitement du fichier EMG : /content/drive/MyDrive/MovePort/6/still/emg_1.csv\n",
            "Participant 7\n",
            "  Fichiers EMG trouvés pour la catégorie 'back': ['/content/drive/MyDrive/MovePort/7/back/emg_1.csv']\n",
            "    Traitement du fichier EMG : /content/drive/MyDrive/MovePort/7/back/emg_1.csv\n",
            "  Fichiers EMG trouvés pour la catégorie 'forward': ['/content/drive/MyDrive/MovePort/7/forward/emg_1.csv']\n",
            "    Traitement du fichier EMG : /content/drive/MyDrive/MovePort/7/forward/emg_1.csv\n",
            "  Fichiers EMG trouvés pour la catégorie 'halfsquat': ['/content/drive/MyDrive/MovePort/7/halfsquat/emg_1.csv']\n",
            "    Traitement du fichier EMG : /content/drive/MyDrive/MovePort/7/halfsquat/emg_1.csv\n",
            "  Fichiers EMG trouvés pour la catégorie 'still': ['/content/drive/MyDrive/MovePort/7/still/emg_1.csv']\n",
            "    Traitement du fichier EMG : /content/drive/MyDrive/MovePort/7/still/emg_1.csv\n",
            "Participant 8\n",
            "  Fichiers EMG trouvés pour la catégorie 'back': ['/content/drive/MyDrive/MovePort/8/back/emg_1.csv']\n",
            "    Traitement du fichier EMG : /content/drive/MyDrive/MovePort/8/back/emg_1.csv\n",
            "  Fichiers EMG trouvés pour la catégorie 'forward': ['/content/drive/MyDrive/MovePort/8/forward/emg_1.csv']\n",
            "    Traitement du fichier EMG : /content/drive/MyDrive/MovePort/8/forward/emg_1.csv\n",
            "  Fichiers EMG trouvés pour la catégorie 'halfsquat': ['/content/drive/MyDrive/MovePort/8/halfsquat/emg_1.csv']\n",
            "    Traitement du fichier EMG : /content/drive/MyDrive/MovePort/8/halfsquat/emg_1.csv\n",
            "  Fichiers EMG trouvés pour la catégorie 'still': ['/content/drive/MyDrive/MovePort/8/still/emg_1.csv']\n",
            "    Traitement du fichier EMG : /content/drive/MyDrive/MovePort/8/still/emg_1.csv\n",
            "Participant 9\n",
            "  Fichiers EMG trouvés pour la catégorie 'back': ['/content/drive/MyDrive/MovePort/9/back/emg_1.csv']\n",
            "    Traitement du fichier EMG : /content/drive/MyDrive/MovePort/9/back/emg_1.csv\n",
            "  Fichiers EMG trouvés pour la catégorie 'forward': ['/content/drive/MyDrive/MovePort/9/forward/emg_1.csv']\n",
            "    Traitement du fichier EMG : /content/drive/MyDrive/MovePort/9/forward/emg_1.csv\n",
            "  Fichiers EMG trouvés pour la catégorie 'halfsquat': ['/content/drive/MyDrive/MovePort/9/halfsquat/emg_1.csv']\n",
            "    Traitement du fichier EMG : /content/drive/MyDrive/MovePort/9/halfsquat/emg_1.csv\n",
            "  Fichiers EMG trouvés pour la catégorie 'still': ['/content/drive/MyDrive/MovePort/9/still/emg_1.csv']\n",
            "    Traitement du fichier EMG : /content/drive/MyDrive/MovePort/9/still/emg_1.csv\n",
            "Participant 10\n",
            "  Fichiers EMG trouvés pour la catégorie 'back': ['/content/drive/MyDrive/MovePort/10/back/emg_1.csv']\n",
            "    Traitement du fichier EMG : /content/drive/MyDrive/MovePort/10/back/emg_1.csv\n",
            "  Fichiers EMG trouvés pour la catégorie 'forward': ['/content/drive/MyDrive/MovePort/10/forward/emg_1.csv']\n",
            "    Traitement du fichier EMG : /content/drive/MyDrive/MovePort/10/forward/emg_1.csv\n",
            "  Fichiers EMG trouvés pour la catégorie 'halfsquat': ['/content/drive/MyDrive/MovePort/10/halfsquat/emg_1.csv']\n",
            "    Traitement du fichier EMG : /content/drive/MyDrive/MovePort/10/halfsquat/emg_1.csv\n",
            "  Fichiers EMG trouvés pour la catégorie 'still': ['/content/drive/MyDrive/MovePort/10/still/emg_1.csv']\n",
            "    Traitement du fichier EMG : /content/drive/MyDrive/MovePort/10/still/emg_1.csv\n",
            "Traitement du lot 3/4 : Participants [11, 12, 13, 14, 15]\n",
            "Participant 11\n",
            "  Fichiers EMG trouvés pour la catégorie 'back': ['/content/drive/MyDrive/MovePort/11/back/emg_1.csv']\n",
            "    Traitement du fichier EMG : /content/drive/MyDrive/MovePort/11/back/emg_1.csv\n",
            "  Fichiers EMG trouvés pour la catégorie 'forward': ['/content/drive/MyDrive/MovePort/11/forward/emg_1.csv']\n",
            "    Traitement du fichier EMG : /content/drive/MyDrive/MovePort/11/forward/emg_1.csv\n",
            "  Fichiers EMG trouvés pour la catégorie 'halfsquat': ['/content/drive/MyDrive/MovePort/11/halfsquat/emg_1.csv']\n",
            "    Traitement du fichier EMG : /content/drive/MyDrive/MovePort/11/halfsquat/emg_1.csv\n",
            "  Fichiers EMG trouvés pour la catégorie 'still': ['/content/drive/MyDrive/MovePort/11/still/emg_1.csv']\n",
            "    Traitement du fichier EMG : /content/drive/MyDrive/MovePort/11/still/emg_1.csv\n",
            "Participant 12\n",
            "  Fichiers EMG trouvés pour la catégorie 'back': ['/content/drive/MyDrive/MovePort/12/back/emg_1.csv']\n",
            "    Traitement du fichier EMG : /content/drive/MyDrive/MovePort/12/back/emg_1.csv\n",
            "  Fichiers EMG trouvés pour la catégorie 'forward': ['/content/drive/MyDrive/MovePort/12/forward/emg_1.csv']\n",
            "    Traitement du fichier EMG : /content/drive/MyDrive/MovePort/12/forward/emg_1.csv\n",
            "  Fichiers EMG trouvés pour la catégorie 'halfsquat': ['/content/drive/MyDrive/MovePort/12/halfsquat/emg_1.csv']\n",
            "    Traitement du fichier EMG : /content/drive/MyDrive/MovePort/12/halfsquat/emg_1.csv\n",
            "  Fichiers EMG trouvés pour la catégorie 'still': ['/content/drive/MyDrive/MovePort/12/still/emg_1.csv']\n",
            "    Traitement du fichier EMG : /content/drive/MyDrive/MovePort/12/still/emg_1.csv\n",
            "Participant 13\n",
            "  Fichiers EMG trouvés pour la catégorie 'back': ['/content/drive/MyDrive/MovePort/13/back/emg_1.csv']\n",
            "    Traitement du fichier EMG : /content/drive/MyDrive/MovePort/13/back/emg_1.csv\n",
            "  Fichiers EMG trouvés pour la catégorie 'forward': ['/content/drive/MyDrive/MovePort/13/forward/emg_1.csv']\n",
            "    Traitement du fichier EMG : /content/drive/MyDrive/MovePort/13/forward/emg_1.csv\n",
            "  Fichiers EMG trouvés pour la catégorie 'halfsquat': ['/content/drive/MyDrive/MovePort/13/halfsquat/emg_1.csv']\n",
            "    Traitement du fichier EMG : /content/drive/MyDrive/MovePort/13/halfsquat/emg_1.csv\n",
            "  Fichiers EMG trouvés pour la catégorie 'still': ['/content/drive/MyDrive/MovePort/13/still/emg_1.csv']\n",
            "    Traitement du fichier EMG : /content/drive/MyDrive/MovePort/13/still/emg_1.csv\n",
            "Participant 14\n",
            "  Fichiers EMG trouvés pour la catégorie 'back': ['/content/drive/MyDrive/MovePort/14/back/emg_1.csv']\n",
            "    Traitement du fichier EMG : /content/drive/MyDrive/MovePort/14/back/emg_1.csv\n",
            "  Fichiers EMG trouvés pour la catégorie 'forward': ['/content/drive/MyDrive/MovePort/14/forward/emg_1.csv']\n",
            "    Traitement du fichier EMG : /content/drive/MyDrive/MovePort/14/forward/emg_1.csv\n",
            "  Fichiers EMG trouvés pour la catégorie 'halfsquat': ['/content/drive/MyDrive/MovePort/14/halfsquat/emg_1.csv']\n",
            "    Traitement du fichier EMG : /content/drive/MyDrive/MovePort/14/halfsquat/emg_1.csv\n",
            "  Fichiers EMG trouvés pour la catégorie 'still': ['/content/drive/MyDrive/MovePort/14/still/emg_1.csv']\n",
            "    Traitement du fichier EMG : /content/drive/MyDrive/MovePort/14/still/emg_1.csv\n",
            "Participant 15\n",
            "  Fichiers EMG trouvés pour la catégorie 'back': ['/content/drive/MyDrive/MovePort/15/back/emg_1.csv']\n",
            "    Traitement du fichier EMG : /content/drive/MyDrive/MovePort/15/back/emg_1.csv\n",
            "  Fichiers EMG trouvés pour la catégorie 'forward': ['/content/drive/MyDrive/MovePort/15/forward/emg_1.csv']\n",
            "    Traitement du fichier EMG : /content/drive/MyDrive/MovePort/15/forward/emg_1.csv\n",
            "  Fichiers EMG trouvés pour la catégorie 'halfsquat': ['/content/drive/MyDrive/MovePort/15/halfsquat/emg_1.csv']\n",
            "    Traitement du fichier EMG : /content/drive/MyDrive/MovePort/15/halfsquat/emg_1.csv\n",
            "  Fichiers EMG trouvés pour la catégorie 'still': ['/content/drive/MyDrive/MovePort/15/still/emg_1.csv']\n",
            "    Traitement du fichier EMG : /content/drive/MyDrive/MovePort/15/still/emg_1.csv\n",
            "Traitement du lot 4/4 : Participants [16, 17, 18]\n",
            "Participant 16\n",
            "  Fichiers EMG trouvés pour la catégorie 'back': ['/content/drive/MyDrive/MovePort/16/back/emg_1.csv']\n",
            "    Traitement du fichier EMG : /content/drive/MyDrive/MovePort/16/back/emg_1.csv\n",
            "  Fichiers EMG trouvés pour la catégorie 'forward': ['/content/drive/MyDrive/MovePort/16/forward/emg_1.csv']\n",
            "    Traitement du fichier EMG : /content/drive/MyDrive/MovePort/16/forward/emg_1.csv\n",
            "  Fichiers EMG trouvés pour la catégorie 'halfsquat': ['/content/drive/MyDrive/MovePort/16/halfsquat/emg_1.csv']\n",
            "    Traitement du fichier EMG : /content/drive/MyDrive/MovePort/16/halfsquat/emg_1.csv\n",
            "  Fichiers EMG trouvés pour la catégorie 'still': ['/content/drive/MyDrive/MovePort/16/still/emg_1.csv']\n",
            "    Traitement du fichier EMG : /content/drive/MyDrive/MovePort/16/still/emg_1.csv\n",
            "Participant 17\n",
            "  Fichiers EMG trouvés pour la catégorie 'back': ['/content/drive/MyDrive/MovePort/17/back/emg_1.csv']\n",
            "    Traitement du fichier EMG : /content/drive/MyDrive/MovePort/17/back/emg_1.csv\n",
            "  Fichiers EMG trouvés pour la catégorie 'forward': ['/content/drive/MyDrive/MovePort/17/forward/emg_1.csv']\n",
            "    Traitement du fichier EMG : /content/drive/MyDrive/MovePort/17/forward/emg_1.csv\n",
            "  Fichiers EMG trouvés pour la catégorie 'halfsquat': ['/content/drive/MyDrive/MovePort/17/halfsquat/emg_1.csv']\n",
            "    Traitement du fichier EMG : /content/drive/MyDrive/MovePort/17/halfsquat/emg_1.csv\n",
            "  Fichiers EMG trouvés pour la catégorie 'still': ['/content/drive/MyDrive/MovePort/17/still/emg_1.csv']\n",
            "    Traitement du fichier EMG : /content/drive/MyDrive/MovePort/17/still/emg_1.csv\n",
            "Participant 18\n",
            "  Fichiers EMG trouvés pour la catégorie 'back': ['/content/drive/MyDrive/MovePort/18/back/emg_1.csv']\n",
            "    Traitement du fichier EMG : /content/drive/MyDrive/MovePort/18/back/emg_1.csv\n",
            "  Fichiers EMG trouvés pour la catégorie 'forward': []\n",
            "  Fichiers EMG trouvés pour la catégorie 'halfsquat': ['/content/drive/MyDrive/MovePort/18/halfsquat/emg_1.csv']\n",
            "    Traitement du fichier EMG : /content/drive/MyDrive/MovePort/18/halfsquat/emg_1.csv\n",
            "  Fichiers EMG trouvés pour la catégorie 'still': ['/content/drive/MyDrive/MovePort/18/still/emg_1.csv']\n",
            "    Traitement du fichier EMG : /content/drive/MyDrive/MovePort/18/still/emg_1.csv\n",
            "Traitement du lot 1/4 : Participants [1, 2, 3, 4, 5]\n",
            "Participant 1\n",
            "  Fichiers IPS trouvés pour la catégorie 'back': ['/content/drive/MyDrive/MovePort/1/back/ips_1.csv']\n",
            "    Traitement du fichier IPS : /content/drive/MyDrive/MovePort/1/back/ips_1.csv\n",
            "  Fichiers IPS trouvés pour la catégorie 'forward': ['/content/drive/MyDrive/MovePort/1/forward/ips_1.csv']\n",
            "    Traitement du fichier IPS : /content/drive/MyDrive/MovePort/1/forward/ips_1.csv\n",
            "  Fichiers IPS trouvés pour la catégorie 'halfsquat': ['/content/drive/MyDrive/MovePort/1/halfsquat/ips_1.csv']\n",
            "    Traitement du fichier IPS : /content/drive/MyDrive/MovePort/1/halfsquat/ips_1.csv\n",
            "  Fichiers IPS trouvés pour la catégorie 'still': ['/content/drive/MyDrive/MovePort/1/still/ips_1.csv']\n",
            "    Traitement du fichier IPS : /content/drive/MyDrive/MovePort/1/still/ips_1.csv\n",
            "Participant 2\n",
            "  Fichiers IPS trouvés pour la catégorie 'back': ['/content/drive/MyDrive/MovePort/2/back/ips_1.csv']\n",
            "    Traitement du fichier IPS : /content/drive/MyDrive/MovePort/2/back/ips_1.csv\n",
            "  Fichiers IPS trouvés pour la catégorie 'forward': ['/content/drive/MyDrive/MovePort/2/forward/ips_1.csv']\n",
            "    Traitement du fichier IPS : /content/drive/MyDrive/MovePort/2/forward/ips_1.csv\n",
            "  Fichiers IPS trouvés pour la catégorie 'halfsquat': ['/content/drive/MyDrive/MovePort/2/halfsquat/ips_1.csv']\n",
            "    Traitement du fichier IPS : /content/drive/MyDrive/MovePort/2/halfsquat/ips_1.csv\n",
            "  Fichiers IPS trouvés pour la catégorie 'still': ['/content/drive/MyDrive/MovePort/2/still/ips_1.csv']\n",
            "    Traitement du fichier IPS : /content/drive/MyDrive/MovePort/2/still/ips_1.csv\n",
            "Participant 3\n",
            "  Fichiers IPS trouvés pour la catégorie 'back': ['/content/drive/MyDrive/MovePort/3/back/ips_1.csv']\n",
            "    Traitement du fichier IPS : /content/drive/MyDrive/MovePort/3/back/ips_1.csv\n",
            "  Fichiers IPS trouvés pour la catégorie 'forward': ['/content/drive/MyDrive/MovePort/3/forward/ips_1.csv']\n",
            "    Traitement du fichier IPS : /content/drive/MyDrive/MovePort/3/forward/ips_1.csv\n",
            "  Fichiers IPS trouvés pour la catégorie 'halfsquat': ['/content/drive/MyDrive/MovePort/3/halfsquat/ips_1.csv']\n",
            "    Traitement du fichier IPS : /content/drive/MyDrive/MovePort/3/halfsquat/ips_1.csv\n",
            "  Fichiers IPS trouvés pour la catégorie 'still': ['/content/drive/MyDrive/MovePort/3/still/ips_1.csv']\n",
            "    Traitement du fichier IPS : /content/drive/MyDrive/MovePort/3/still/ips_1.csv\n",
            "Participant 4\n",
            "  Fichiers IPS trouvés pour la catégorie 'back': ['/content/drive/MyDrive/MovePort/4/back/ips_1.csv']\n",
            "    Traitement du fichier IPS : /content/drive/MyDrive/MovePort/4/back/ips_1.csv\n",
            "  Fichiers IPS trouvés pour la catégorie 'forward': ['/content/drive/MyDrive/MovePort/4/forward/ips_1.csv']\n",
            "    Traitement du fichier IPS : /content/drive/MyDrive/MovePort/4/forward/ips_1.csv\n",
            "  Fichiers IPS trouvés pour la catégorie 'halfsquat': ['/content/drive/MyDrive/MovePort/4/halfsquat/ips_1.csv']\n",
            "    Traitement du fichier IPS : /content/drive/MyDrive/MovePort/4/halfsquat/ips_1.csv\n",
            "  Fichiers IPS trouvés pour la catégorie 'still': ['/content/drive/MyDrive/MovePort/4/still/ips_1.csv']\n",
            "    Traitement du fichier IPS : /content/drive/MyDrive/MovePort/4/still/ips_1.csv\n",
            "Participant 5\n",
            "  Fichiers IPS trouvés pour la catégorie 'back': ['/content/drive/MyDrive/MovePort/5/back/ips_1.csv']\n",
            "    Traitement du fichier IPS : /content/drive/MyDrive/MovePort/5/back/ips_1.csv\n",
            "  Fichiers IPS trouvés pour la catégorie 'forward': ['/content/drive/MyDrive/MovePort/5/forward/ips_1.csv']\n",
            "    Traitement du fichier IPS : /content/drive/MyDrive/MovePort/5/forward/ips_1.csv\n",
            "  Fichiers IPS trouvés pour la catégorie 'halfsquat': ['/content/drive/MyDrive/MovePort/5/halfsquat/ips_1.csv']\n",
            "    Traitement du fichier IPS : /content/drive/MyDrive/MovePort/5/halfsquat/ips_1.csv\n",
            "  Fichiers IPS trouvés pour la catégorie 'still': ['/content/drive/MyDrive/MovePort/5/still/ips_1.csv']\n",
            "    Traitement du fichier IPS : /content/drive/MyDrive/MovePort/5/still/ips_1.csv\n",
            "Traitement du lot 2/4 : Participants [6, 7, 8, 9, 10]\n",
            "Participant 6\n",
            "  Fichiers IPS trouvés pour la catégorie 'back': ['/content/drive/MyDrive/MovePort/6/back/ips_1.csv']\n",
            "    Traitement du fichier IPS : /content/drive/MyDrive/MovePort/6/back/ips_1.csv\n",
            "  Fichiers IPS trouvés pour la catégorie 'forward': ['/content/drive/MyDrive/MovePort/6/forward/ips_1.csv']\n",
            "    Traitement du fichier IPS : /content/drive/MyDrive/MovePort/6/forward/ips_1.csv\n",
            "  Fichiers IPS trouvés pour la catégorie 'halfsquat': ['/content/drive/MyDrive/MovePort/6/halfsquat/ips_1.csv']\n",
            "    Traitement du fichier IPS : /content/drive/MyDrive/MovePort/6/halfsquat/ips_1.csv\n",
            "  Fichiers IPS trouvés pour la catégorie 'still': ['/content/drive/MyDrive/MovePort/6/still/ips_1.csv']\n",
            "    Traitement du fichier IPS : /content/drive/MyDrive/MovePort/6/still/ips_1.csv\n",
            "Participant 7\n",
            "  Fichiers IPS trouvés pour la catégorie 'back': ['/content/drive/MyDrive/MovePort/7/back/ips_1.csv']\n",
            "    Traitement du fichier IPS : /content/drive/MyDrive/MovePort/7/back/ips_1.csv\n",
            "  Fichiers IPS trouvés pour la catégorie 'forward': ['/content/drive/MyDrive/MovePort/7/forward/ips_1.csv']\n",
            "    Traitement du fichier IPS : /content/drive/MyDrive/MovePort/7/forward/ips_1.csv\n",
            "  Fichiers IPS trouvés pour la catégorie 'halfsquat': ['/content/drive/MyDrive/MovePort/7/halfsquat/ips_1.csv']\n",
            "    Traitement du fichier IPS : /content/drive/MyDrive/MovePort/7/halfsquat/ips_1.csv\n",
            "  Fichiers IPS trouvés pour la catégorie 'still': ['/content/drive/MyDrive/MovePort/7/still/ips_1.csv']\n",
            "    Traitement du fichier IPS : /content/drive/MyDrive/MovePort/7/still/ips_1.csv\n",
            "Participant 8\n",
            "  Fichiers IPS trouvés pour la catégorie 'back': ['/content/drive/MyDrive/MovePort/8/back/ips_1.csv']\n",
            "    Traitement du fichier IPS : /content/drive/MyDrive/MovePort/8/back/ips_1.csv\n",
            "  Fichiers IPS trouvés pour la catégorie 'forward': ['/content/drive/MyDrive/MovePort/8/forward/ips_1.csv']\n",
            "    Traitement du fichier IPS : /content/drive/MyDrive/MovePort/8/forward/ips_1.csv\n",
            "  Fichiers IPS trouvés pour la catégorie 'halfsquat': ['/content/drive/MyDrive/MovePort/8/halfsquat/ips_1.csv']\n",
            "    Traitement du fichier IPS : /content/drive/MyDrive/MovePort/8/halfsquat/ips_1.csv\n",
            "  Fichiers IPS trouvés pour la catégorie 'still': ['/content/drive/MyDrive/MovePort/8/still/ips_1.csv']\n",
            "    Traitement du fichier IPS : /content/drive/MyDrive/MovePort/8/still/ips_1.csv\n",
            "Participant 9\n",
            "  Fichiers IPS trouvés pour la catégorie 'back': ['/content/drive/MyDrive/MovePort/9/back/ips_1.csv']\n",
            "    Traitement du fichier IPS : /content/drive/MyDrive/MovePort/9/back/ips_1.csv\n",
            "  Fichiers IPS trouvés pour la catégorie 'forward': ['/content/drive/MyDrive/MovePort/9/forward/ips_1.csv']\n",
            "    Traitement du fichier IPS : /content/drive/MyDrive/MovePort/9/forward/ips_1.csv\n",
            "  Fichiers IPS trouvés pour la catégorie 'halfsquat': ['/content/drive/MyDrive/MovePort/9/halfsquat/ips_1.csv']\n",
            "    Traitement du fichier IPS : /content/drive/MyDrive/MovePort/9/halfsquat/ips_1.csv\n",
            "  Fichiers IPS trouvés pour la catégorie 'still': ['/content/drive/MyDrive/MovePort/9/still/ips_1.csv']\n",
            "    Traitement du fichier IPS : /content/drive/MyDrive/MovePort/9/still/ips_1.csv\n",
            "Participant 10\n",
            "  Fichiers IPS trouvés pour la catégorie 'back': ['/content/drive/MyDrive/MovePort/10/back/ips_1.csv']\n",
            "    Traitement du fichier IPS : /content/drive/MyDrive/MovePort/10/back/ips_1.csv\n",
            "  Fichiers IPS trouvés pour la catégorie 'forward': ['/content/drive/MyDrive/MovePort/10/forward/ips_1.csv']\n",
            "    Traitement du fichier IPS : /content/drive/MyDrive/MovePort/10/forward/ips_1.csv\n",
            "  Fichiers IPS trouvés pour la catégorie 'halfsquat': ['/content/drive/MyDrive/MovePort/10/halfsquat/ips_1.csv']\n",
            "    Traitement du fichier IPS : /content/drive/MyDrive/MovePort/10/halfsquat/ips_1.csv\n",
            "  Fichiers IPS trouvés pour la catégorie 'still': ['/content/drive/MyDrive/MovePort/10/still/ips_1.csv']\n",
            "    Traitement du fichier IPS : /content/drive/MyDrive/MovePort/10/still/ips_1.csv\n",
            "Traitement du lot 3/4 : Participants [11, 12, 13, 14, 15]\n",
            "Participant 11\n",
            "  Fichiers IPS trouvés pour la catégorie 'back': ['/content/drive/MyDrive/MovePort/11/back/ips_1.csv']\n",
            "    Traitement du fichier IPS : /content/drive/MyDrive/MovePort/11/back/ips_1.csv\n",
            "  Fichiers IPS trouvés pour la catégorie 'forward': ['/content/drive/MyDrive/MovePort/11/forward/ips_1.csv']\n",
            "    Traitement du fichier IPS : /content/drive/MyDrive/MovePort/11/forward/ips_1.csv\n",
            "  Fichiers IPS trouvés pour la catégorie 'halfsquat': ['/content/drive/MyDrive/MovePort/11/halfsquat/ips_1.csv']\n",
            "    Traitement du fichier IPS : /content/drive/MyDrive/MovePort/11/halfsquat/ips_1.csv\n",
            "  Fichiers IPS trouvés pour la catégorie 'still': ['/content/drive/MyDrive/MovePort/11/still/ips_1.csv']\n",
            "    Traitement du fichier IPS : /content/drive/MyDrive/MovePort/11/still/ips_1.csv\n",
            "Participant 12\n",
            "  Fichiers IPS trouvés pour la catégorie 'back': ['/content/drive/MyDrive/MovePort/12/back/ips_1.csv']\n",
            "    Traitement du fichier IPS : /content/drive/MyDrive/MovePort/12/back/ips_1.csv\n",
            "  Fichiers IPS trouvés pour la catégorie 'forward': ['/content/drive/MyDrive/MovePort/12/forward/ips_1.csv']\n",
            "    Traitement du fichier IPS : /content/drive/MyDrive/MovePort/12/forward/ips_1.csv\n",
            "  Fichiers IPS trouvés pour la catégorie 'halfsquat': ['/content/drive/MyDrive/MovePort/12/halfsquat/ips_1.csv']\n",
            "    Traitement du fichier IPS : /content/drive/MyDrive/MovePort/12/halfsquat/ips_1.csv\n",
            "  Fichiers IPS trouvés pour la catégorie 'still': ['/content/drive/MyDrive/MovePort/12/still/ips_1.csv']\n",
            "    Traitement du fichier IPS : /content/drive/MyDrive/MovePort/12/still/ips_1.csv\n",
            "Participant 13\n",
            "  Fichiers IPS trouvés pour la catégorie 'back': ['/content/drive/MyDrive/MovePort/13/back/ips_1.csv']\n",
            "    Traitement du fichier IPS : /content/drive/MyDrive/MovePort/13/back/ips_1.csv\n",
            "  Fichiers IPS trouvés pour la catégorie 'forward': ['/content/drive/MyDrive/MovePort/13/forward/ips_1.csv']\n",
            "    Traitement du fichier IPS : /content/drive/MyDrive/MovePort/13/forward/ips_1.csv\n",
            "  Fichiers IPS trouvés pour la catégorie 'halfsquat': ['/content/drive/MyDrive/MovePort/13/halfsquat/ips_1.csv']\n",
            "    Traitement du fichier IPS : /content/drive/MyDrive/MovePort/13/halfsquat/ips_1.csv\n",
            "  Fichiers IPS trouvés pour la catégorie 'still': ['/content/drive/MyDrive/MovePort/13/still/ips_1.csv']\n",
            "    Traitement du fichier IPS : /content/drive/MyDrive/MovePort/13/still/ips_1.csv\n",
            "Participant 14\n",
            "  Fichiers IPS trouvés pour la catégorie 'back': ['/content/drive/MyDrive/MovePort/14/back/ips_1.csv']\n",
            "    Traitement du fichier IPS : /content/drive/MyDrive/MovePort/14/back/ips_1.csv\n",
            "  Fichiers IPS trouvés pour la catégorie 'forward': ['/content/drive/MyDrive/MovePort/14/forward/ips_1.csv']\n",
            "    Traitement du fichier IPS : /content/drive/MyDrive/MovePort/14/forward/ips_1.csv\n",
            "  Fichiers IPS trouvés pour la catégorie 'halfsquat': ['/content/drive/MyDrive/MovePort/14/halfsquat/ips_1.csv']\n",
            "    Traitement du fichier IPS : /content/drive/MyDrive/MovePort/14/halfsquat/ips_1.csv\n",
            "  Fichiers IPS trouvés pour la catégorie 'still': ['/content/drive/MyDrive/MovePort/14/still/ips_1.csv']\n",
            "    Traitement du fichier IPS : /content/drive/MyDrive/MovePort/14/still/ips_1.csv\n",
            "Participant 15\n",
            "  Fichiers IPS trouvés pour la catégorie 'back': ['/content/drive/MyDrive/MovePort/15/back/ips_1.csv']\n",
            "    Traitement du fichier IPS : /content/drive/MyDrive/MovePort/15/back/ips_1.csv\n",
            "  Fichiers IPS trouvés pour la catégorie 'forward': ['/content/drive/MyDrive/MovePort/15/forward/ips_1.csv']\n",
            "    Traitement du fichier IPS : /content/drive/MyDrive/MovePort/15/forward/ips_1.csv\n",
            "  Fichiers IPS trouvés pour la catégorie 'halfsquat': ['/content/drive/MyDrive/MovePort/15/halfsquat/ips_1.csv']\n",
            "    Traitement du fichier IPS : /content/drive/MyDrive/MovePort/15/halfsquat/ips_1.csv\n",
            "  Fichiers IPS trouvés pour la catégorie 'still': ['/content/drive/MyDrive/MovePort/15/still/ips_1.csv']\n",
            "    Traitement du fichier IPS : /content/drive/MyDrive/MovePort/15/still/ips_1.csv\n",
            "Traitement du lot 4/4 : Participants [16, 17, 18]\n",
            "Participant 16\n",
            "  Fichiers IPS trouvés pour la catégorie 'back': ['/content/drive/MyDrive/MovePort/16/back/ips_1.csv']\n",
            "    Traitement du fichier IPS : /content/drive/MyDrive/MovePort/16/back/ips_1.csv\n",
            "  Fichiers IPS trouvés pour la catégorie 'forward': ['/content/drive/MyDrive/MovePort/16/forward/ips_1.csv']\n",
            "    Traitement du fichier IPS : /content/drive/MyDrive/MovePort/16/forward/ips_1.csv\n",
            "  Fichiers IPS trouvés pour la catégorie 'halfsquat': ['/content/drive/MyDrive/MovePort/16/halfsquat/ips_1.csv']\n",
            "    Traitement du fichier IPS : /content/drive/MyDrive/MovePort/16/halfsquat/ips_1.csv\n",
            "  Fichiers IPS trouvés pour la catégorie 'still': ['/content/drive/MyDrive/MovePort/16/still/ips_1.csv']\n",
            "    Traitement du fichier IPS : /content/drive/MyDrive/MovePort/16/still/ips_1.csv\n",
            "Participant 17\n",
            "  Fichiers IPS trouvés pour la catégorie 'back': ['/content/drive/MyDrive/MovePort/17/back/ips_1.csv']\n",
            "    Traitement du fichier IPS : /content/drive/MyDrive/MovePort/17/back/ips_1.csv\n",
            "  Fichiers IPS trouvés pour la catégorie 'forward': ['/content/drive/MyDrive/MovePort/17/forward/ips_1.csv']\n",
            "    Traitement du fichier IPS : /content/drive/MyDrive/MovePort/17/forward/ips_1.csv\n",
            "  Fichiers IPS trouvés pour la catégorie 'halfsquat': ['/content/drive/MyDrive/MovePort/17/halfsquat/ips_1.csv']\n",
            "    Traitement du fichier IPS : /content/drive/MyDrive/MovePort/17/halfsquat/ips_1.csv\n",
            "  Fichiers IPS trouvés pour la catégorie 'still': ['/content/drive/MyDrive/MovePort/17/still/ips_1.csv']\n",
            "    Traitement du fichier IPS : /content/drive/MyDrive/MovePort/17/still/ips_1.csv\n",
            "Participant 18\n",
            "  Fichiers IPS trouvés pour la catégorie 'back': ['/content/drive/MyDrive/MovePort/18/back/ips_1.csv']\n",
            "    Traitement du fichier IPS : /content/drive/MyDrive/MovePort/18/back/ips_1.csv\n",
            "  Fichiers IPS trouvés pour la catégorie 'forward': []\n",
            "  Fichiers IPS trouvés pour la catégorie 'halfsquat': ['/content/drive/MyDrive/MovePort/18/halfsquat/ips_1.csv']\n",
            "    Traitement du fichier IPS : /content/drive/MyDrive/MovePort/18/halfsquat/ips_1.csv\n",
            "  Fichiers IPS trouvés pour la catégorie 'still': ['/content/drive/MyDrive/MovePort/18/still/ips_1.csv']\n",
            "    Traitement du fichier IPS : /content/drive/MyDrive/MovePort/18/still/ips_1.csv\n"
          ]
        }
      ]
    },
    {
      "cell_type": "code",
      "source": [
        "print(\"imu procces shape : \", processed_dataImu.shape)\n",
        "print(\"emg procces shape : \", processed_dataEmg.shape)\n",
        "print(\"ips procces shape : \", processed_dataIps.shape)"
      ],
      "metadata": {
        "colab": {
          "base_uri": "https://localhost:8080/"
        },
        "id": "z1U5E8oqJXPy",
        "outputId": "edd5a0e0-d3ea-42fe-cbee-e05d01634b73"
      },
      "execution_count": null,
      "outputs": [
        {
          "output_type": "stream",
          "name": "stdout",
          "text": [
            "imu procces shape :  (551504, 56)\n",
            "emg procces shape :  (11029891, 18)\n",
            "ips procces shape :  (343310, 684)\n"
          ]
        }
      ]
    },
    {
      "cell_type": "code",
      "source": [
        "\"\"\"print(\"imu procces nulls : \", processed_dataImu.isnull().sum())\n",
        "print(\"emg procces nulls : \", processed_dataEmg.isnull().sum())\n",
        "print(\"ips procces nulls : \", processed_dataIps.isnull().sum())\"\"\""
      ],
      "metadata": {
        "colab": {
          "base_uri": "https://localhost:8080/",
          "height": 35
        },
        "id": "NMW-SorbJ_qb",
        "outputId": "703eb4cb-1317-41e8-cda2-80f438ca37db"
      },
      "execution_count": null,
      "outputs": [
        {
          "output_type": "execute_result",
          "data": {
            "text/plain": [
              "'print(\"imu procces nulls : \", processed_dataImu.isnull().sum())\\nprint(\"emg procces nulls : \", processed_dataEmg.isnull().sum())\\nprint(\"ips procces nulls : \", processed_dataIps.isnull().sum())'"
            ],
            "application/vnd.google.colaboratory.intrinsic+json": {
              "type": "string"
            }
          },
          "metadata": {},
          "execution_count": 12
        }
      ]
    },
    {
      "cell_type": "code",
      "source": [
        "processed_dataImu.head(3)"
      ],
      "metadata": {
        "colab": {
          "base_uri": "https://localhost:8080/",
          "height": 210
        },
        "id": "NbS54uxamwUA",
        "outputId": "ed401cfb-5696-4bc9-ff10-7ae2c659c685"
      },
      "execution_count": null,
      "outputs": [
        {
          "output_type": "execute_result",
          "data": {
            "text/plain": [
              "Unnamed: 0 Head_Acc_X Head_Acc_Y Head_Acc_Z Head_Gyr_X Head_Gyr_Y Head_Gyr_Z  \\\n",
              "0            8.902975   0.412529   4.052022  -0.015015    0.01026  -0.009929   \n",
              "1            8.912331   0.391603   4.045956  -0.010874   0.014445  -0.006227   \n",
              "2             8.88999   0.384217   4.039017  -0.013686    0.01211  -0.005442   \n",
              "\n",
              "Unnamed: 0  Head_Roll Head_Pitch   Head_Yaw Waist_Acc_X  ... R_F_Acc_Y  \\\n",
              "0          -12.639535 -10.234849  30.077293    9.578385  ... -1.903201   \n",
              "1          -12.643968 -10.226859  30.069993    9.540294  ... -1.942165   \n",
              "2          -12.647921 -10.220573  30.063655    9.561864  ... -1.965231   \n",
              "\n",
              "Unnamed: 0 R_F_Acc_Z R_F_Gyr_X R_F_Gyr_Y R_F_Gyr_Z   R_F_Roll  R_F_Pitch  \\\n",
              "0           9.019931 -0.027493  0.009596 -0.008538  10.781965  35.531989   \n",
              "1           9.052294 -0.016795  0.007321 -0.009379  10.773012  35.535744   \n",
              "2           9.028006 -0.009752  0.004455 -0.011313   10.76855  35.536932   \n",
              "\n",
              "Unnamed: 0    R_F_Yaw categorie id  \n",
              "0          -17.776944         0  1  \n",
              "1          -17.793866         0  1  \n",
              "2          -17.806589         0  1  \n",
              "\n",
              "[3 rows x 56 columns]"
            ],
            "text/html": [
              "\n",
              "  <div id=\"df-54aa6f0b-e439-455e-b5a7-1fdd84c4cdc5\" class=\"colab-df-container\">\n",
              "    <div>\n",
              "<style scoped>\n",
              "    .dataframe tbody tr th:only-of-type {\n",
              "        vertical-align: middle;\n",
              "    }\n",
              "\n",
              "    .dataframe tbody tr th {\n",
              "        vertical-align: top;\n",
              "    }\n",
              "\n",
              "    .dataframe thead th {\n",
              "        text-align: right;\n",
              "    }\n",
              "</style>\n",
              "<table border=\"1\" class=\"dataframe\">\n",
              "  <thead>\n",
              "    <tr style=\"text-align: right;\">\n",
              "      <th>Unnamed: 0</th>\n",
              "      <th>Head_Acc_X</th>\n",
              "      <th>Head_Acc_Y</th>\n",
              "      <th>Head_Acc_Z</th>\n",
              "      <th>Head_Gyr_X</th>\n",
              "      <th>Head_Gyr_Y</th>\n",
              "      <th>Head_Gyr_Z</th>\n",
              "      <th>Head_Roll</th>\n",
              "      <th>Head_Pitch</th>\n",
              "      <th>Head_Yaw</th>\n",
              "      <th>Waist_Acc_X</th>\n",
              "      <th>...</th>\n",
              "      <th>R_F_Acc_Y</th>\n",
              "      <th>R_F_Acc_Z</th>\n",
              "      <th>R_F_Gyr_X</th>\n",
              "      <th>R_F_Gyr_Y</th>\n",
              "      <th>R_F_Gyr_Z</th>\n",
              "      <th>R_F_Roll</th>\n",
              "      <th>R_F_Pitch</th>\n",
              "      <th>R_F_Yaw</th>\n",
              "      <th>categorie</th>\n",
              "      <th>id</th>\n",
              "    </tr>\n",
              "  </thead>\n",
              "  <tbody>\n",
              "    <tr>\n",
              "      <th>0</th>\n",
              "      <td>8.902975</td>\n",
              "      <td>0.412529</td>\n",
              "      <td>4.052022</td>\n",
              "      <td>-0.015015</td>\n",
              "      <td>0.01026</td>\n",
              "      <td>-0.009929</td>\n",
              "      <td>-12.639535</td>\n",
              "      <td>-10.234849</td>\n",
              "      <td>30.077293</td>\n",
              "      <td>9.578385</td>\n",
              "      <td>...</td>\n",
              "      <td>-1.903201</td>\n",
              "      <td>9.019931</td>\n",
              "      <td>-0.027493</td>\n",
              "      <td>0.009596</td>\n",
              "      <td>-0.008538</td>\n",
              "      <td>10.781965</td>\n",
              "      <td>35.531989</td>\n",
              "      <td>-17.776944</td>\n",
              "      <td>0</td>\n",
              "      <td>1</td>\n",
              "    </tr>\n",
              "    <tr>\n",
              "      <th>1</th>\n",
              "      <td>8.912331</td>\n",
              "      <td>0.391603</td>\n",
              "      <td>4.045956</td>\n",
              "      <td>-0.010874</td>\n",
              "      <td>0.014445</td>\n",
              "      <td>-0.006227</td>\n",
              "      <td>-12.643968</td>\n",
              "      <td>-10.226859</td>\n",
              "      <td>30.069993</td>\n",
              "      <td>9.540294</td>\n",
              "      <td>...</td>\n",
              "      <td>-1.942165</td>\n",
              "      <td>9.052294</td>\n",
              "      <td>-0.016795</td>\n",
              "      <td>0.007321</td>\n",
              "      <td>-0.009379</td>\n",
              "      <td>10.773012</td>\n",
              "      <td>35.535744</td>\n",
              "      <td>-17.793866</td>\n",
              "      <td>0</td>\n",
              "      <td>1</td>\n",
              "    </tr>\n",
              "    <tr>\n",
              "      <th>2</th>\n",
              "      <td>8.88999</td>\n",
              "      <td>0.384217</td>\n",
              "      <td>4.039017</td>\n",
              "      <td>-0.013686</td>\n",
              "      <td>0.01211</td>\n",
              "      <td>-0.005442</td>\n",
              "      <td>-12.647921</td>\n",
              "      <td>-10.220573</td>\n",
              "      <td>30.063655</td>\n",
              "      <td>9.561864</td>\n",
              "      <td>...</td>\n",
              "      <td>-1.965231</td>\n",
              "      <td>9.028006</td>\n",
              "      <td>-0.009752</td>\n",
              "      <td>0.004455</td>\n",
              "      <td>-0.011313</td>\n",
              "      <td>10.76855</td>\n",
              "      <td>35.536932</td>\n",
              "      <td>-17.806589</td>\n",
              "      <td>0</td>\n",
              "      <td>1</td>\n",
              "    </tr>\n",
              "  </tbody>\n",
              "</table>\n",
              "<p>3 rows × 56 columns</p>\n",
              "</div>\n",
              "    <div class=\"colab-df-buttons\">\n",
              "\n",
              "  <div class=\"colab-df-container\">\n",
              "    <button class=\"colab-df-convert\" onclick=\"convertToInteractive('df-54aa6f0b-e439-455e-b5a7-1fdd84c4cdc5')\"\n",
              "            title=\"Convert this dataframe to an interactive table.\"\n",
              "            style=\"display:none;\">\n",
              "\n",
              "  <svg xmlns=\"http://www.w3.org/2000/svg\" height=\"24px\" viewBox=\"0 -960 960 960\">\n",
              "    <path d=\"M120-120v-720h720v720H120Zm60-500h600v-160H180v160Zm220 220h160v-160H400v160Zm0 220h160v-160H400v160ZM180-400h160v-160H180v160Zm440 0h160v-160H620v160ZM180-180h160v-160H180v160Zm440 0h160v-160H620v160Z\"/>\n",
              "  </svg>\n",
              "    </button>\n",
              "\n",
              "  <style>\n",
              "    .colab-df-container {\n",
              "      display:flex;\n",
              "      gap: 12px;\n",
              "    }\n",
              "\n",
              "    .colab-df-convert {\n",
              "      background-color: #E8F0FE;\n",
              "      border: none;\n",
              "      border-radius: 50%;\n",
              "      cursor: pointer;\n",
              "      display: none;\n",
              "      fill: #1967D2;\n",
              "      height: 32px;\n",
              "      padding: 0 0 0 0;\n",
              "      width: 32px;\n",
              "    }\n",
              "\n",
              "    .colab-df-convert:hover {\n",
              "      background-color: #E2EBFA;\n",
              "      box-shadow: 0px 1px 2px rgba(60, 64, 67, 0.3), 0px 1px 3px 1px rgba(60, 64, 67, 0.15);\n",
              "      fill: #174EA6;\n",
              "    }\n",
              "\n",
              "    .colab-df-buttons div {\n",
              "      margin-bottom: 4px;\n",
              "    }\n",
              "\n",
              "    [theme=dark] .colab-df-convert {\n",
              "      background-color: #3B4455;\n",
              "      fill: #D2E3FC;\n",
              "    }\n",
              "\n",
              "    [theme=dark] .colab-df-convert:hover {\n",
              "      background-color: #434B5C;\n",
              "      box-shadow: 0px 1px 3px 1px rgba(0, 0, 0, 0.15);\n",
              "      filter: drop-shadow(0px 1px 2px rgba(0, 0, 0, 0.3));\n",
              "      fill: #FFFFFF;\n",
              "    }\n",
              "  </style>\n",
              "\n",
              "    <script>\n",
              "      const buttonEl =\n",
              "        document.querySelector('#df-54aa6f0b-e439-455e-b5a7-1fdd84c4cdc5 button.colab-df-convert');\n",
              "      buttonEl.style.display =\n",
              "        google.colab.kernel.accessAllowed ? 'block' : 'none';\n",
              "\n",
              "      async function convertToInteractive(key) {\n",
              "        const element = document.querySelector('#df-54aa6f0b-e439-455e-b5a7-1fdd84c4cdc5');\n",
              "        const dataTable =\n",
              "          await google.colab.kernel.invokeFunction('convertToInteractive',\n",
              "                                                    [key], {});\n",
              "        if (!dataTable) return;\n",
              "\n",
              "        const docLinkHtml = 'Like what you see? Visit the ' +\n",
              "          '<a target=\"_blank\" href=https://colab.research.google.com/notebooks/data_table.ipynb>data table notebook</a>'\n",
              "          + ' to learn more about interactive tables.';\n",
              "        element.innerHTML = '';\n",
              "        dataTable['output_type'] = 'display_data';\n",
              "        await google.colab.output.renderOutput(dataTable, element);\n",
              "        const docLink = document.createElement('div');\n",
              "        docLink.innerHTML = docLinkHtml;\n",
              "        element.appendChild(docLink);\n",
              "      }\n",
              "    </script>\n",
              "  </div>\n",
              "\n",
              "\n",
              "<div id=\"df-ba4dc27e-a9a9-4bae-8bca-aaa53cf4c462\">\n",
              "  <button class=\"colab-df-quickchart\" onclick=\"quickchart('df-ba4dc27e-a9a9-4bae-8bca-aaa53cf4c462')\"\n",
              "            title=\"Suggest charts\"\n",
              "            style=\"display:none;\">\n",
              "\n",
              "<svg xmlns=\"http://www.w3.org/2000/svg\" height=\"24px\"viewBox=\"0 0 24 24\"\n",
              "     width=\"24px\">\n",
              "    <g>\n",
              "        <path d=\"M19 3H5c-1.1 0-2 .9-2 2v14c0 1.1.9 2 2 2h14c1.1 0 2-.9 2-2V5c0-1.1-.9-2-2-2zM9 17H7v-7h2v7zm4 0h-2V7h2v10zm4 0h-2v-4h2v4z\"/>\n",
              "    </g>\n",
              "</svg>\n",
              "  </button>\n",
              "\n",
              "<style>\n",
              "  .colab-df-quickchart {\n",
              "      --bg-color: #E8F0FE;\n",
              "      --fill-color: #1967D2;\n",
              "      --hover-bg-color: #E2EBFA;\n",
              "      --hover-fill-color: #174EA6;\n",
              "      --disabled-fill-color: #AAA;\n",
              "      --disabled-bg-color: #DDD;\n",
              "  }\n",
              "\n",
              "  [theme=dark] .colab-df-quickchart {\n",
              "      --bg-color: #3B4455;\n",
              "      --fill-color: #D2E3FC;\n",
              "      --hover-bg-color: #434B5C;\n",
              "      --hover-fill-color: #FFFFFF;\n",
              "      --disabled-bg-color: #3B4455;\n",
              "      --disabled-fill-color: #666;\n",
              "  }\n",
              "\n",
              "  .colab-df-quickchart {\n",
              "    background-color: var(--bg-color);\n",
              "    border: none;\n",
              "    border-radius: 50%;\n",
              "    cursor: pointer;\n",
              "    display: none;\n",
              "    fill: var(--fill-color);\n",
              "    height: 32px;\n",
              "    padding: 0;\n",
              "    width: 32px;\n",
              "  }\n",
              "\n",
              "  .colab-df-quickchart:hover {\n",
              "    background-color: var(--hover-bg-color);\n",
              "    box-shadow: 0 1px 2px rgba(60, 64, 67, 0.3), 0 1px 3px 1px rgba(60, 64, 67, 0.15);\n",
              "    fill: var(--button-hover-fill-color);\n",
              "  }\n",
              "\n",
              "  .colab-df-quickchart-complete:disabled,\n",
              "  .colab-df-quickchart-complete:disabled:hover {\n",
              "    background-color: var(--disabled-bg-color);\n",
              "    fill: var(--disabled-fill-color);\n",
              "    box-shadow: none;\n",
              "  }\n",
              "\n",
              "  .colab-df-spinner {\n",
              "    border: 2px solid var(--fill-color);\n",
              "    border-color: transparent;\n",
              "    border-bottom-color: var(--fill-color);\n",
              "    animation:\n",
              "      spin 1s steps(1) infinite;\n",
              "  }\n",
              "\n",
              "  @keyframes spin {\n",
              "    0% {\n",
              "      border-color: transparent;\n",
              "      border-bottom-color: var(--fill-color);\n",
              "      border-left-color: var(--fill-color);\n",
              "    }\n",
              "    20% {\n",
              "      border-color: transparent;\n",
              "      border-left-color: var(--fill-color);\n",
              "      border-top-color: var(--fill-color);\n",
              "    }\n",
              "    30% {\n",
              "      border-color: transparent;\n",
              "      border-left-color: var(--fill-color);\n",
              "      border-top-color: var(--fill-color);\n",
              "      border-right-color: var(--fill-color);\n",
              "    }\n",
              "    40% {\n",
              "      border-color: transparent;\n",
              "      border-right-color: var(--fill-color);\n",
              "      border-top-color: var(--fill-color);\n",
              "    }\n",
              "    60% {\n",
              "      border-color: transparent;\n",
              "      border-right-color: var(--fill-color);\n",
              "    }\n",
              "    80% {\n",
              "      border-color: transparent;\n",
              "      border-right-color: var(--fill-color);\n",
              "      border-bottom-color: var(--fill-color);\n",
              "    }\n",
              "    90% {\n",
              "      border-color: transparent;\n",
              "      border-bottom-color: var(--fill-color);\n",
              "    }\n",
              "  }\n",
              "</style>\n",
              "\n",
              "  <script>\n",
              "    async function quickchart(key) {\n",
              "      const quickchartButtonEl =\n",
              "        document.querySelector('#' + key + ' button');\n",
              "      quickchartButtonEl.disabled = true;  // To prevent multiple clicks.\n",
              "      quickchartButtonEl.classList.add('colab-df-spinner');\n",
              "      try {\n",
              "        const charts = await google.colab.kernel.invokeFunction(\n",
              "            'suggestCharts', [key], {});\n",
              "      } catch (error) {\n",
              "        console.error('Error during call to suggestCharts:', error);\n",
              "      }\n",
              "      quickchartButtonEl.classList.remove('colab-df-spinner');\n",
              "      quickchartButtonEl.classList.add('colab-df-quickchart-complete');\n",
              "    }\n",
              "    (() => {\n",
              "      let quickchartButtonEl =\n",
              "        document.querySelector('#df-ba4dc27e-a9a9-4bae-8bca-aaa53cf4c462 button');\n",
              "      quickchartButtonEl.style.display =\n",
              "        google.colab.kernel.accessAllowed ? 'block' : 'none';\n",
              "    })();\n",
              "  </script>\n",
              "</div>\n",
              "\n",
              "    </div>\n",
              "  </div>\n"
            ],
            "application/vnd.google.colaboratory.intrinsic+json": {
              "type": "dataframe",
              "variable_name": "processed_dataImu"
            }
          },
          "metadata": {},
          "execution_count": 14
        }
      ]
    },
    {
      "cell_type": "code",
      "source": [
        "processed_dataEmg.head(3)"
      ],
      "metadata": {
        "colab": {
          "base_uri": "https://localhost:8080/",
          "height": 181
        },
        "id": "OfOxnN-RmwIi",
        "outputId": "d9b428bb-5d49-439f-deed-50948fac2c94"
      },
      "execution_count": null,
      "outputs": [
        {
          "output_type": "execute_result",
          "data": {
            "text/plain": [
              "Unnamed: 0    R_Vlat      R_RF      R_ST       R_TA    L_Vlat      L_RF  \\\n",
              "0          -0.704956  1.309204 -2.316284  -20.24231 -6.747437  2.920532   \n",
              "1            2.01416  1.309204 -2.316284 -16.415405 -1.208496  2.618408   \n",
              "2          -0.704956  1.309204 -2.316284 -16.314697 -1.107788  1.107788   \n",
              "\n",
              "Unnamed: 0      L_ST      L_TA      R_MG       R_LG      R_SOL    R_IL  \\\n",
              "0          -1.208496 -6.948853 -0.906372 -12.387085  54.180908 -2.5177   \n",
              "1          -1.208496 -6.948853 -0.906372 -12.387085  54.180908 -2.5177   \n",
              "2          -1.208496 -6.948853 -0.906372 -12.387085  54.180908 -2.5177   \n",
              "\n",
              "Unnamed: 0      L_MG       L_LG    L_SOL     L_IL  categorie  id  \n",
              "0          -0.704956  10.876465 -3.52478 -3.52478          0   1  \n",
              "1          -0.704956  10.876465 -3.52478 -3.52478          0   1  \n",
              "2          -0.704956  10.876465 -3.52478 -3.52478          0   1  "
            ],
            "text/html": [
              "\n",
              "  <div id=\"df-3cb9b60a-b802-4a3b-b1b7-06360a9ea681\" class=\"colab-df-container\">\n",
              "    <div>\n",
              "<style scoped>\n",
              "    .dataframe tbody tr th:only-of-type {\n",
              "        vertical-align: middle;\n",
              "    }\n",
              "\n",
              "    .dataframe tbody tr th {\n",
              "        vertical-align: top;\n",
              "    }\n",
              "\n",
              "    .dataframe thead th {\n",
              "        text-align: right;\n",
              "    }\n",
              "</style>\n",
              "<table border=\"1\" class=\"dataframe\">\n",
              "  <thead>\n",
              "    <tr style=\"text-align: right;\">\n",
              "      <th>Unnamed: 0</th>\n",
              "      <th>R_Vlat</th>\n",
              "      <th>R_RF</th>\n",
              "      <th>R_ST</th>\n",
              "      <th>R_TA</th>\n",
              "      <th>L_Vlat</th>\n",
              "      <th>L_RF</th>\n",
              "      <th>L_ST</th>\n",
              "      <th>L_TA</th>\n",
              "      <th>R_MG</th>\n",
              "      <th>R_LG</th>\n",
              "      <th>R_SOL</th>\n",
              "      <th>R_IL</th>\n",
              "      <th>L_MG</th>\n",
              "      <th>L_LG</th>\n",
              "      <th>L_SOL</th>\n",
              "      <th>L_IL</th>\n",
              "      <th>categorie</th>\n",
              "      <th>id</th>\n",
              "    </tr>\n",
              "  </thead>\n",
              "  <tbody>\n",
              "    <tr>\n",
              "      <th>0</th>\n",
              "      <td>-0.704956</td>\n",
              "      <td>1.309204</td>\n",
              "      <td>-2.316284</td>\n",
              "      <td>-20.24231</td>\n",
              "      <td>-6.747437</td>\n",
              "      <td>2.920532</td>\n",
              "      <td>-1.208496</td>\n",
              "      <td>-6.948853</td>\n",
              "      <td>-0.906372</td>\n",
              "      <td>-12.387085</td>\n",
              "      <td>54.180908</td>\n",
              "      <td>-2.5177</td>\n",
              "      <td>-0.704956</td>\n",
              "      <td>10.876465</td>\n",
              "      <td>-3.52478</td>\n",
              "      <td>-3.52478</td>\n",
              "      <td>0</td>\n",
              "      <td>1</td>\n",
              "    </tr>\n",
              "    <tr>\n",
              "      <th>1</th>\n",
              "      <td>2.01416</td>\n",
              "      <td>1.309204</td>\n",
              "      <td>-2.316284</td>\n",
              "      <td>-16.415405</td>\n",
              "      <td>-1.208496</td>\n",
              "      <td>2.618408</td>\n",
              "      <td>-1.208496</td>\n",
              "      <td>-6.948853</td>\n",
              "      <td>-0.906372</td>\n",
              "      <td>-12.387085</td>\n",
              "      <td>54.180908</td>\n",
              "      <td>-2.5177</td>\n",
              "      <td>-0.704956</td>\n",
              "      <td>10.876465</td>\n",
              "      <td>-3.52478</td>\n",
              "      <td>-3.52478</td>\n",
              "      <td>0</td>\n",
              "      <td>1</td>\n",
              "    </tr>\n",
              "    <tr>\n",
              "      <th>2</th>\n",
              "      <td>-0.704956</td>\n",
              "      <td>1.309204</td>\n",
              "      <td>-2.316284</td>\n",
              "      <td>-16.314697</td>\n",
              "      <td>-1.107788</td>\n",
              "      <td>1.107788</td>\n",
              "      <td>-1.208496</td>\n",
              "      <td>-6.948853</td>\n",
              "      <td>-0.906372</td>\n",
              "      <td>-12.387085</td>\n",
              "      <td>54.180908</td>\n",
              "      <td>-2.5177</td>\n",
              "      <td>-0.704956</td>\n",
              "      <td>10.876465</td>\n",
              "      <td>-3.52478</td>\n",
              "      <td>-3.52478</td>\n",
              "      <td>0</td>\n",
              "      <td>1</td>\n",
              "    </tr>\n",
              "  </tbody>\n",
              "</table>\n",
              "</div>\n",
              "    <div class=\"colab-df-buttons\">\n",
              "\n",
              "  <div class=\"colab-df-container\">\n",
              "    <button class=\"colab-df-convert\" onclick=\"convertToInteractive('df-3cb9b60a-b802-4a3b-b1b7-06360a9ea681')\"\n",
              "            title=\"Convert this dataframe to an interactive table.\"\n",
              "            style=\"display:none;\">\n",
              "\n",
              "  <svg xmlns=\"http://www.w3.org/2000/svg\" height=\"24px\" viewBox=\"0 -960 960 960\">\n",
              "    <path d=\"M120-120v-720h720v720H120Zm60-500h600v-160H180v160Zm220 220h160v-160H400v160Zm0 220h160v-160H400v160ZM180-400h160v-160H180v160Zm440 0h160v-160H620v160ZM180-180h160v-160H180v160Zm440 0h160v-160H620v160Z\"/>\n",
              "  </svg>\n",
              "    </button>\n",
              "\n",
              "  <style>\n",
              "    .colab-df-container {\n",
              "      display:flex;\n",
              "      gap: 12px;\n",
              "    }\n",
              "\n",
              "    .colab-df-convert {\n",
              "      background-color: #E8F0FE;\n",
              "      border: none;\n",
              "      border-radius: 50%;\n",
              "      cursor: pointer;\n",
              "      display: none;\n",
              "      fill: #1967D2;\n",
              "      height: 32px;\n",
              "      padding: 0 0 0 0;\n",
              "      width: 32px;\n",
              "    }\n",
              "\n",
              "    .colab-df-convert:hover {\n",
              "      background-color: #E2EBFA;\n",
              "      box-shadow: 0px 1px 2px rgba(60, 64, 67, 0.3), 0px 1px 3px 1px rgba(60, 64, 67, 0.15);\n",
              "      fill: #174EA6;\n",
              "    }\n",
              "\n",
              "    .colab-df-buttons div {\n",
              "      margin-bottom: 4px;\n",
              "    }\n",
              "\n",
              "    [theme=dark] .colab-df-convert {\n",
              "      background-color: #3B4455;\n",
              "      fill: #D2E3FC;\n",
              "    }\n",
              "\n",
              "    [theme=dark] .colab-df-convert:hover {\n",
              "      background-color: #434B5C;\n",
              "      box-shadow: 0px 1px 3px 1px rgba(0, 0, 0, 0.15);\n",
              "      filter: drop-shadow(0px 1px 2px rgba(0, 0, 0, 0.3));\n",
              "      fill: #FFFFFF;\n",
              "    }\n",
              "  </style>\n",
              "\n",
              "    <script>\n",
              "      const buttonEl =\n",
              "        document.querySelector('#df-3cb9b60a-b802-4a3b-b1b7-06360a9ea681 button.colab-df-convert');\n",
              "      buttonEl.style.display =\n",
              "        google.colab.kernel.accessAllowed ? 'block' : 'none';\n",
              "\n",
              "      async function convertToInteractive(key) {\n",
              "        const element = document.querySelector('#df-3cb9b60a-b802-4a3b-b1b7-06360a9ea681');\n",
              "        const dataTable =\n",
              "          await google.colab.kernel.invokeFunction('convertToInteractive',\n",
              "                                                    [key], {});\n",
              "        if (!dataTable) return;\n",
              "\n",
              "        const docLinkHtml = 'Like what you see? Visit the ' +\n",
              "          '<a target=\"_blank\" href=https://colab.research.google.com/notebooks/data_table.ipynb>data table notebook</a>'\n",
              "          + ' to learn more about interactive tables.';\n",
              "        element.innerHTML = '';\n",
              "        dataTable['output_type'] = 'display_data';\n",
              "        await google.colab.output.renderOutput(dataTable, element);\n",
              "        const docLink = document.createElement('div');\n",
              "        docLink.innerHTML = docLinkHtml;\n",
              "        element.appendChild(docLink);\n",
              "      }\n",
              "    </script>\n",
              "  </div>\n",
              "\n",
              "\n",
              "<div id=\"df-b2738a71-7a60-4b19-a192-964b64e32365\">\n",
              "  <button class=\"colab-df-quickchart\" onclick=\"quickchart('df-b2738a71-7a60-4b19-a192-964b64e32365')\"\n",
              "            title=\"Suggest charts\"\n",
              "            style=\"display:none;\">\n",
              "\n",
              "<svg xmlns=\"http://www.w3.org/2000/svg\" height=\"24px\"viewBox=\"0 0 24 24\"\n",
              "     width=\"24px\">\n",
              "    <g>\n",
              "        <path d=\"M19 3H5c-1.1 0-2 .9-2 2v14c0 1.1.9 2 2 2h14c1.1 0 2-.9 2-2V5c0-1.1-.9-2-2-2zM9 17H7v-7h2v7zm4 0h-2V7h2v10zm4 0h-2v-4h2v4z\"/>\n",
              "    </g>\n",
              "</svg>\n",
              "  </button>\n",
              "\n",
              "<style>\n",
              "  .colab-df-quickchart {\n",
              "      --bg-color: #E8F0FE;\n",
              "      --fill-color: #1967D2;\n",
              "      --hover-bg-color: #E2EBFA;\n",
              "      --hover-fill-color: #174EA6;\n",
              "      --disabled-fill-color: #AAA;\n",
              "      --disabled-bg-color: #DDD;\n",
              "  }\n",
              "\n",
              "  [theme=dark] .colab-df-quickchart {\n",
              "      --bg-color: #3B4455;\n",
              "      --fill-color: #D2E3FC;\n",
              "      --hover-bg-color: #434B5C;\n",
              "      --hover-fill-color: #FFFFFF;\n",
              "      --disabled-bg-color: #3B4455;\n",
              "      --disabled-fill-color: #666;\n",
              "  }\n",
              "\n",
              "  .colab-df-quickchart {\n",
              "    background-color: var(--bg-color);\n",
              "    border: none;\n",
              "    border-radius: 50%;\n",
              "    cursor: pointer;\n",
              "    display: none;\n",
              "    fill: var(--fill-color);\n",
              "    height: 32px;\n",
              "    padding: 0;\n",
              "    width: 32px;\n",
              "  }\n",
              "\n",
              "  .colab-df-quickchart:hover {\n",
              "    background-color: var(--hover-bg-color);\n",
              "    box-shadow: 0 1px 2px rgba(60, 64, 67, 0.3), 0 1px 3px 1px rgba(60, 64, 67, 0.15);\n",
              "    fill: var(--button-hover-fill-color);\n",
              "  }\n",
              "\n",
              "  .colab-df-quickchart-complete:disabled,\n",
              "  .colab-df-quickchart-complete:disabled:hover {\n",
              "    background-color: var(--disabled-bg-color);\n",
              "    fill: var(--disabled-fill-color);\n",
              "    box-shadow: none;\n",
              "  }\n",
              "\n",
              "  .colab-df-spinner {\n",
              "    border: 2px solid var(--fill-color);\n",
              "    border-color: transparent;\n",
              "    border-bottom-color: var(--fill-color);\n",
              "    animation:\n",
              "      spin 1s steps(1) infinite;\n",
              "  }\n",
              "\n",
              "  @keyframes spin {\n",
              "    0% {\n",
              "      border-color: transparent;\n",
              "      border-bottom-color: var(--fill-color);\n",
              "      border-left-color: var(--fill-color);\n",
              "    }\n",
              "    20% {\n",
              "      border-color: transparent;\n",
              "      border-left-color: var(--fill-color);\n",
              "      border-top-color: var(--fill-color);\n",
              "    }\n",
              "    30% {\n",
              "      border-color: transparent;\n",
              "      border-left-color: var(--fill-color);\n",
              "      border-top-color: var(--fill-color);\n",
              "      border-right-color: var(--fill-color);\n",
              "    }\n",
              "    40% {\n",
              "      border-color: transparent;\n",
              "      border-right-color: var(--fill-color);\n",
              "      border-top-color: var(--fill-color);\n",
              "    }\n",
              "    60% {\n",
              "      border-color: transparent;\n",
              "      border-right-color: var(--fill-color);\n",
              "    }\n",
              "    80% {\n",
              "      border-color: transparent;\n",
              "      border-right-color: var(--fill-color);\n",
              "      border-bottom-color: var(--fill-color);\n",
              "    }\n",
              "    90% {\n",
              "      border-color: transparent;\n",
              "      border-bottom-color: var(--fill-color);\n",
              "    }\n",
              "  }\n",
              "</style>\n",
              "\n",
              "  <script>\n",
              "    async function quickchart(key) {\n",
              "      const quickchartButtonEl =\n",
              "        document.querySelector('#' + key + ' button');\n",
              "      quickchartButtonEl.disabled = true;  // To prevent multiple clicks.\n",
              "      quickchartButtonEl.classList.add('colab-df-spinner');\n",
              "      try {\n",
              "        const charts = await google.colab.kernel.invokeFunction(\n",
              "            'suggestCharts', [key], {});\n",
              "      } catch (error) {\n",
              "        console.error('Error during call to suggestCharts:', error);\n",
              "      }\n",
              "      quickchartButtonEl.classList.remove('colab-df-spinner');\n",
              "      quickchartButtonEl.classList.add('colab-df-quickchart-complete');\n",
              "    }\n",
              "    (() => {\n",
              "      let quickchartButtonEl =\n",
              "        document.querySelector('#df-b2738a71-7a60-4b19-a192-964b64e32365 button');\n",
              "      quickchartButtonEl.style.display =\n",
              "        google.colab.kernel.accessAllowed ? 'block' : 'none';\n",
              "    })();\n",
              "  </script>\n",
              "</div>\n",
              "\n",
              "    </div>\n",
              "  </div>\n"
            ],
            "application/vnd.google.colaboratory.intrinsic+json": {
              "type": "dataframe",
              "variable_name": "processed_dataEmg"
            }
          },
          "metadata": {},
          "execution_count": 15
        }
      ]
    },
    {
      "cell_type": "code",
      "source": [
        "processed_dataIps.head(3)"
      ],
      "metadata": {
        "colab": {
          "base_uri": "https://localhost:8080/",
          "height": 173
        },
        "id": "-euMsKgsmv9G",
        "outputId": "69268b62-5c0a-44b9-b6ff-0c134d7ec870"
      },
      "execution_count": null,
      "outputs": [
        {
          "output_type": "execute_result",
          "data": {
            "text/plain": [
              "NaN  0.0  1.0  2.0  3.0  4.0  5.0  6.0   7.0  8.0  9.0  ...  674.0  675.0  \\\n",
              "0    0.0  0.0  0.0  0.0  0.0  0.0  0.0  1.68  0.0  0.0  ...    0.0    0.0   \n",
              "1    0.0  0.0  0.0  0.0  0.0  0.0  0.0  1.46  0.0  0.0  ...    0.0    0.0   \n",
              "2    0.0  0.0  0.0  0.0  0.0  0.0  0.0  1.68  0.0  0.0  ...    0.0    0.0   \n",
              "\n",
              "NaN  676.0  677.0  678.0  679.0  680.0  681.0  categorie  id  \n",
              "0      0.0    0.0    0.0   1.12    0.0    0.0          0   1  \n",
              "1      0.0    0.0    0.0   1.12    0.0    0.0          0   1  \n",
              "2      0.0    0.0    0.0   1.12    0.0    0.0          0   1  \n",
              "\n",
              "[3 rows x 684 columns]"
            ],
            "text/html": [
              "\n",
              "  <div id=\"df-6c8ca58b-6b5e-454c-9924-30f85b9c5a61\" class=\"colab-df-container\">\n",
              "    <div>\n",
              "<style scoped>\n",
              "    .dataframe tbody tr th:only-of-type {\n",
              "        vertical-align: middle;\n",
              "    }\n",
              "\n",
              "    .dataframe tbody tr th {\n",
              "        vertical-align: top;\n",
              "    }\n",
              "\n",
              "    .dataframe thead th {\n",
              "        text-align: right;\n",
              "    }\n",
              "</style>\n",
              "<table border=\"1\" class=\"dataframe\">\n",
              "  <thead>\n",
              "    <tr style=\"text-align: right;\">\n",
              "      <th>NaN</th>\n",
              "      <th>0.0</th>\n",
              "      <th>1.0</th>\n",
              "      <th>2.0</th>\n",
              "      <th>3.0</th>\n",
              "      <th>4.0</th>\n",
              "      <th>5.0</th>\n",
              "      <th>6.0</th>\n",
              "      <th>7.0</th>\n",
              "      <th>8.0</th>\n",
              "      <th>9.0</th>\n",
              "      <th>...</th>\n",
              "      <th>674.0</th>\n",
              "      <th>675.0</th>\n",
              "      <th>676.0</th>\n",
              "      <th>677.0</th>\n",
              "      <th>678.0</th>\n",
              "      <th>679.0</th>\n",
              "      <th>680.0</th>\n",
              "      <th>681.0</th>\n",
              "      <th>categorie</th>\n",
              "      <th>id</th>\n",
              "    </tr>\n",
              "  </thead>\n",
              "  <tbody>\n",
              "    <tr>\n",
              "      <th>0</th>\n",
              "      <td>0.0</td>\n",
              "      <td>0.0</td>\n",
              "      <td>0.0</td>\n",
              "      <td>0.0</td>\n",
              "      <td>0.0</td>\n",
              "      <td>0.0</td>\n",
              "      <td>0.0</td>\n",
              "      <td>1.68</td>\n",
              "      <td>0.0</td>\n",
              "      <td>0.0</td>\n",
              "      <td>...</td>\n",
              "      <td>0.0</td>\n",
              "      <td>0.0</td>\n",
              "      <td>0.0</td>\n",
              "      <td>0.0</td>\n",
              "      <td>0.0</td>\n",
              "      <td>1.12</td>\n",
              "      <td>0.0</td>\n",
              "      <td>0.0</td>\n",
              "      <td>0</td>\n",
              "      <td>1</td>\n",
              "    </tr>\n",
              "    <tr>\n",
              "      <th>1</th>\n",
              "      <td>0.0</td>\n",
              "      <td>0.0</td>\n",
              "      <td>0.0</td>\n",
              "      <td>0.0</td>\n",
              "      <td>0.0</td>\n",
              "      <td>0.0</td>\n",
              "      <td>0.0</td>\n",
              "      <td>1.46</td>\n",
              "      <td>0.0</td>\n",
              "      <td>0.0</td>\n",
              "      <td>...</td>\n",
              "      <td>0.0</td>\n",
              "      <td>0.0</td>\n",
              "      <td>0.0</td>\n",
              "      <td>0.0</td>\n",
              "      <td>0.0</td>\n",
              "      <td>1.12</td>\n",
              "      <td>0.0</td>\n",
              "      <td>0.0</td>\n",
              "      <td>0</td>\n",
              "      <td>1</td>\n",
              "    </tr>\n",
              "    <tr>\n",
              "      <th>2</th>\n",
              "      <td>0.0</td>\n",
              "      <td>0.0</td>\n",
              "      <td>0.0</td>\n",
              "      <td>0.0</td>\n",
              "      <td>0.0</td>\n",
              "      <td>0.0</td>\n",
              "      <td>0.0</td>\n",
              "      <td>1.68</td>\n",
              "      <td>0.0</td>\n",
              "      <td>0.0</td>\n",
              "      <td>...</td>\n",
              "      <td>0.0</td>\n",
              "      <td>0.0</td>\n",
              "      <td>0.0</td>\n",
              "      <td>0.0</td>\n",
              "      <td>0.0</td>\n",
              "      <td>1.12</td>\n",
              "      <td>0.0</td>\n",
              "      <td>0.0</td>\n",
              "      <td>0</td>\n",
              "      <td>1</td>\n",
              "    </tr>\n",
              "  </tbody>\n",
              "</table>\n",
              "<p>3 rows × 684 columns</p>\n",
              "</div>\n",
              "    <div class=\"colab-df-buttons\">\n",
              "\n",
              "  <div class=\"colab-df-container\">\n",
              "    <button class=\"colab-df-convert\" onclick=\"convertToInteractive('df-6c8ca58b-6b5e-454c-9924-30f85b9c5a61')\"\n",
              "            title=\"Convert this dataframe to an interactive table.\"\n",
              "            style=\"display:none;\">\n",
              "\n",
              "  <svg xmlns=\"http://www.w3.org/2000/svg\" height=\"24px\" viewBox=\"0 -960 960 960\">\n",
              "    <path d=\"M120-120v-720h720v720H120Zm60-500h600v-160H180v160Zm220 220h160v-160H400v160Zm0 220h160v-160H400v160ZM180-400h160v-160H180v160Zm440 0h160v-160H620v160ZM180-180h160v-160H180v160Zm440 0h160v-160H620v160Z\"/>\n",
              "  </svg>\n",
              "    </button>\n",
              "\n",
              "  <style>\n",
              "    .colab-df-container {\n",
              "      display:flex;\n",
              "      gap: 12px;\n",
              "    }\n",
              "\n",
              "    .colab-df-convert {\n",
              "      background-color: #E8F0FE;\n",
              "      border: none;\n",
              "      border-radius: 50%;\n",
              "      cursor: pointer;\n",
              "      display: none;\n",
              "      fill: #1967D2;\n",
              "      height: 32px;\n",
              "      padding: 0 0 0 0;\n",
              "      width: 32px;\n",
              "    }\n",
              "\n",
              "    .colab-df-convert:hover {\n",
              "      background-color: #E2EBFA;\n",
              "      box-shadow: 0px 1px 2px rgba(60, 64, 67, 0.3), 0px 1px 3px 1px rgba(60, 64, 67, 0.15);\n",
              "      fill: #174EA6;\n",
              "    }\n",
              "\n",
              "    .colab-df-buttons div {\n",
              "      margin-bottom: 4px;\n",
              "    }\n",
              "\n",
              "    [theme=dark] .colab-df-convert {\n",
              "      background-color: #3B4455;\n",
              "      fill: #D2E3FC;\n",
              "    }\n",
              "\n",
              "    [theme=dark] .colab-df-convert:hover {\n",
              "      background-color: #434B5C;\n",
              "      box-shadow: 0px 1px 3px 1px rgba(0, 0, 0, 0.15);\n",
              "      filter: drop-shadow(0px 1px 2px rgba(0, 0, 0, 0.3));\n",
              "      fill: #FFFFFF;\n",
              "    }\n",
              "  </style>\n",
              "\n",
              "    <script>\n",
              "      const buttonEl =\n",
              "        document.querySelector('#df-6c8ca58b-6b5e-454c-9924-30f85b9c5a61 button.colab-df-convert');\n",
              "      buttonEl.style.display =\n",
              "        google.colab.kernel.accessAllowed ? 'block' : 'none';\n",
              "\n",
              "      async function convertToInteractive(key) {\n",
              "        const element = document.querySelector('#df-6c8ca58b-6b5e-454c-9924-30f85b9c5a61');\n",
              "        const dataTable =\n",
              "          await google.colab.kernel.invokeFunction('convertToInteractive',\n",
              "                                                    [key], {});\n",
              "        if (!dataTable) return;\n",
              "\n",
              "        const docLinkHtml = 'Like what you see? Visit the ' +\n",
              "          '<a target=\"_blank\" href=https://colab.research.google.com/notebooks/data_table.ipynb>data table notebook</a>'\n",
              "          + ' to learn more about interactive tables.';\n",
              "        element.innerHTML = '';\n",
              "        dataTable['output_type'] = 'display_data';\n",
              "        await google.colab.output.renderOutput(dataTable, element);\n",
              "        const docLink = document.createElement('div');\n",
              "        docLink.innerHTML = docLinkHtml;\n",
              "        element.appendChild(docLink);\n",
              "      }\n",
              "    </script>\n",
              "  </div>\n",
              "\n",
              "\n",
              "<div id=\"df-821f186f-862a-4be9-ab95-202bf2207129\">\n",
              "  <button class=\"colab-df-quickchart\" onclick=\"quickchart('df-821f186f-862a-4be9-ab95-202bf2207129')\"\n",
              "            title=\"Suggest charts\"\n",
              "            style=\"display:none;\">\n",
              "\n",
              "<svg xmlns=\"http://www.w3.org/2000/svg\" height=\"24px\"viewBox=\"0 0 24 24\"\n",
              "     width=\"24px\">\n",
              "    <g>\n",
              "        <path d=\"M19 3H5c-1.1 0-2 .9-2 2v14c0 1.1.9 2 2 2h14c1.1 0 2-.9 2-2V5c0-1.1-.9-2-2-2zM9 17H7v-7h2v7zm4 0h-2V7h2v10zm4 0h-2v-4h2v4z\"/>\n",
              "    </g>\n",
              "</svg>\n",
              "  </button>\n",
              "\n",
              "<style>\n",
              "  .colab-df-quickchart {\n",
              "      --bg-color: #E8F0FE;\n",
              "      --fill-color: #1967D2;\n",
              "      --hover-bg-color: #E2EBFA;\n",
              "      --hover-fill-color: #174EA6;\n",
              "      --disabled-fill-color: #AAA;\n",
              "      --disabled-bg-color: #DDD;\n",
              "  }\n",
              "\n",
              "  [theme=dark] .colab-df-quickchart {\n",
              "      --bg-color: #3B4455;\n",
              "      --fill-color: #D2E3FC;\n",
              "      --hover-bg-color: #434B5C;\n",
              "      --hover-fill-color: #FFFFFF;\n",
              "      --disabled-bg-color: #3B4455;\n",
              "      --disabled-fill-color: #666;\n",
              "  }\n",
              "\n",
              "  .colab-df-quickchart {\n",
              "    background-color: var(--bg-color);\n",
              "    border: none;\n",
              "    border-radius: 50%;\n",
              "    cursor: pointer;\n",
              "    display: none;\n",
              "    fill: var(--fill-color);\n",
              "    height: 32px;\n",
              "    padding: 0;\n",
              "    width: 32px;\n",
              "  }\n",
              "\n",
              "  .colab-df-quickchart:hover {\n",
              "    background-color: var(--hover-bg-color);\n",
              "    box-shadow: 0 1px 2px rgba(60, 64, 67, 0.3), 0 1px 3px 1px rgba(60, 64, 67, 0.15);\n",
              "    fill: var(--button-hover-fill-color);\n",
              "  }\n",
              "\n",
              "  .colab-df-quickchart-complete:disabled,\n",
              "  .colab-df-quickchart-complete:disabled:hover {\n",
              "    background-color: var(--disabled-bg-color);\n",
              "    fill: var(--disabled-fill-color);\n",
              "    box-shadow: none;\n",
              "  }\n",
              "\n",
              "  .colab-df-spinner {\n",
              "    border: 2px solid var(--fill-color);\n",
              "    border-color: transparent;\n",
              "    border-bottom-color: var(--fill-color);\n",
              "    animation:\n",
              "      spin 1s steps(1) infinite;\n",
              "  }\n",
              "\n",
              "  @keyframes spin {\n",
              "    0% {\n",
              "      border-color: transparent;\n",
              "      border-bottom-color: var(--fill-color);\n",
              "      border-left-color: var(--fill-color);\n",
              "    }\n",
              "    20% {\n",
              "      border-color: transparent;\n",
              "      border-left-color: var(--fill-color);\n",
              "      border-top-color: var(--fill-color);\n",
              "    }\n",
              "    30% {\n",
              "      border-color: transparent;\n",
              "      border-left-color: var(--fill-color);\n",
              "      border-top-color: var(--fill-color);\n",
              "      border-right-color: var(--fill-color);\n",
              "    }\n",
              "    40% {\n",
              "      border-color: transparent;\n",
              "      border-right-color: var(--fill-color);\n",
              "      border-top-color: var(--fill-color);\n",
              "    }\n",
              "    60% {\n",
              "      border-color: transparent;\n",
              "      border-right-color: var(--fill-color);\n",
              "    }\n",
              "    80% {\n",
              "      border-color: transparent;\n",
              "      border-right-color: var(--fill-color);\n",
              "      border-bottom-color: var(--fill-color);\n",
              "    }\n",
              "    90% {\n",
              "      border-color: transparent;\n",
              "      border-bottom-color: var(--fill-color);\n",
              "    }\n",
              "  }\n",
              "</style>\n",
              "\n",
              "  <script>\n",
              "    async function quickchart(key) {\n",
              "      const quickchartButtonEl =\n",
              "        document.querySelector('#' + key + ' button');\n",
              "      quickchartButtonEl.disabled = true;  // To prevent multiple clicks.\n",
              "      quickchartButtonEl.classList.add('colab-df-spinner');\n",
              "      try {\n",
              "        const charts = await google.colab.kernel.invokeFunction(\n",
              "            'suggestCharts', [key], {});\n",
              "      } catch (error) {\n",
              "        console.error('Error during call to suggestCharts:', error);\n",
              "      }\n",
              "      quickchartButtonEl.classList.remove('colab-df-spinner');\n",
              "      quickchartButtonEl.classList.add('colab-df-quickchart-complete');\n",
              "    }\n",
              "    (() => {\n",
              "      let quickchartButtonEl =\n",
              "        document.querySelector('#df-821f186f-862a-4be9-ab95-202bf2207129 button');\n",
              "      quickchartButtonEl.style.display =\n",
              "        google.colab.kernel.accessAllowed ? 'block' : 'none';\n",
              "    })();\n",
              "  </script>\n",
              "</div>\n",
              "\n",
              "    </div>\n",
              "  </div>\n"
            ],
            "application/vnd.google.colaboratory.intrinsic+json": {
              "type": "dataframe",
              "variable_name": "processed_dataIps"
            }
          },
          "metadata": {},
          "execution_count": 16
        }
      ]
    },
    {
      "cell_type": "code",
      "source": [
        "def convert_object_to_numeric(data):\n",
        "  for col in data.columns:\n",
        "      if data[col].dtype == 'object':\n",
        "          data[col] = pd.to_numeric(data[col], errors='coerce')\n",
        "  return data"
      ],
      "metadata": {
        "id": "cmzmsrcIjkfH"
      },
      "execution_count": 16,
      "outputs": []
    },
    {
      "cell_type": "code",
      "source": [
        "\"\"\"print(\"imu procces types : \", processed_dataImu.dtypes)\n",
        "print(\"emg procces types : \", processed_dataEmg.dtypes)\n",
        "print(\"ips procces types : \", processed_dataIps.dtypes)\"\"\""
      ],
      "metadata": {
        "colab": {
          "base_uri": "https://localhost:8080/",
          "height": 35
        },
        "id": "iAXpf9K0KfLm",
        "outputId": "dfd9c7e9-9530-4034-aa17-ee4ca044641e"
      },
      "execution_count": null,
      "outputs": [
        {
          "output_type": "execute_result",
          "data": {
            "text/plain": [
              "'print(\"imu procces types : \", processed_dataImu.dtypes)\\nprint(\"emg procces types : \", processed_dataEmg.dtypes)\\nprint(\"ips procces types : \", processed_dataIps.dtypes)'"
            ],
            "application/vnd.google.colaboratory.intrinsic+json": {
              "type": "string"
            }
          },
          "metadata": {},
          "execution_count": 14
        }
      ]
    },
    {
      "cell_type": "code",
      "source": [
        "numeric_dataImu = convert_object_to_numeric(processed_dataImu)\n",
        "numeric_dataEmg = convert_object_to_numeric(processed_dataEmg)\n",
        "numeric_dataIps = convert_object_to_numeric(processed_dataIps)"
      ],
      "metadata": {
        "id": "usQbF1ugKZvl"
      },
      "execution_count": 17,
      "outputs": []
    },
    {
      "cell_type": "code",
      "source": [
        "numeric_dataImu.head(3)"
      ],
      "metadata": {
        "colab": {
          "base_uri": "https://localhost:8080/",
          "height": 210
        },
        "id": "1Wc1F-SanO6W",
        "outputId": "df294709-043f-44f5-8c9f-1d16096813b0"
      },
      "execution_count": null,
      "outputs": [
        {
          "output_type": "execute_result",
          "data": {
            "text/plain": [
              "Unnamed: 0  Head_Acc_X  Head_Acc_Y  Head_Acc_Z  Head_Gyr_X  Head_Gyr_Y  \\\n",
              "0             8.902975    0.412529    4.052022   -0.015015    0.010260   \n",
              "1             8.912331    0.391603    4.045956   -0.010874    0.014445   \n",
              "2             8.889990    0.384217    4.039017   -0.013686    0.012110   \n",
              "\n",
              "Unnamed: 0  Head_Gyr_Z  Head_Roll  Head_Pitch   Head_Yaw  Waist_Acc_X  ...  \\\n",
              "0            -0.009929 -12.639535  -10.234849  30.077293     9.578385  ...   \n",
              "1            -0.006227 -12.643968  -10.226859  30.069993     9.540294  ...   \n",
              "2            -0.005442 -12.647921  -10.220573  30.063655     9.561864  ...   \n",
              "\n",
              "Unnamed: 0  R_F_Acc_Y  R_F_Acc_Z  R_F_Gyr_X  R_F_Gyr_Y  R_F_Gyr_Z   R_F_Roll  \\\n",
              "0           -1.903201   9.019931  -0.027493   0.009596  -0.008538  10.781965   \n",
              "1           -1.942165   9.052294  -0.016795   0.007321  -0.009379  10.773012   \n",
              "2           -1.965231   9.028006  -0.009752   0.004455  -0.011313  10.768550   \n",
              "\n",
              "Unnamed: 0  R_F_Pitch    R_F_Yaw  categorie  id  \n",
              "0           35.531989 -17.776944          0   1  \n",
              "1           35.535744 -17.793866          0   1  \n",
              "2           35.536932 -17.806589          0   1  \n",
              "\n",
              "[3 rows x 56 columns]"
            ],
            "text/html": [
              "\n",
              "  <div id=\"df-f705122b-148b-448e-9344-f9b0efef8775\" class=\"colab-df-container\">\n",
              "    <div>\n",
              "<style scoped>\n",
              "    .dataframe tbody tr th:only-of-type {\n",
              "        vertical-align: middle;\n",
              "    }\n",
              "\n",
              "    .dataframe tbody tr th {\n",
              "        vertical-align: top;\n",
              "    }\n",
              "\n",
              "    .dataframe thead th {\n",
              "        text-align: right;\n",
              "    }\n",
              "</style>\n",
              "<table border=\"1\" class=\"dataframe\">\n",
              "  <thead>\n",
              "    <tr style=\"text-align: right;\">\n",
              "      <th>Unnamed: 0</th>\n",
              "      <th>Head_Acc_X</th>\n",
              "      <th>Head_Acc_Y</th>\n",
              "      <th>Head_Acc_Z</th>\n",
              "      <th>Head_Gyr_X</th>\n",
              "      <th>Head_Gyr_Y</th>\n",
              "      <th>Head_Gyr_Z</th>\n",
              "      <th>Head_Roll</th>\n",
              "      <th>Head_Pitch</th>\n",
              "      <th>Head_Yaw</th>\n",
              "      <th>Waist_Acc_X</th>\n",
              "      <th>...</th>\n",
              "      <th>R_F_Acc_Y</th>\n",
              "      <th>R_F_Acc_Z</th>\n",
              "      <th>R_F_Gyr_X</th>\n",
              "      <th>R_F_Gyr_Y</th>\n",
              "      <th>R_F_Gyr_Z</th>\n",
              "      <th>R_F_Roll</th>\n",
              "      <th>R_F_Pitch</th>\n",
              "      <th>R_F_Yaw</th>\n",
              "      <th>categorie</th>\n",
              "      <th>id</th>\n",
              "    </tr>\n",
              "  </thead>\n",
              "  <tbody>\n",
              "    <tr>\n",
              "      <th>0</th>\n",
              "      <td>8.902975</td>\n",
              "      <td>0.412529</td>\n",
              "      <td>4.052022</td>\n",
              "      <td>-0.015015</td>\n",
              "      <td>0.010260</td>\n",
              "      <td>-0.009929</td>\n",
              "      <td>-12.639535</td>\n",
              "      <td>-10.234849</td>\n",
              "      <td>30.077293</td>\n",
              "      <td>9.578385</td>\n",
              "      <td>...</td>\n",
              "      <td>-1.903201</td>\n",
              "      <td>9.019931</td>\n",
              "      <td>-0.027493</td>\n",
              "      <td>0.009596</td>\n",
              "      <td>-0.008538</td>\n",
              "      <td>10.781965</td>\n",
              "      <td>35.531989</td>\n",
              "      <td>-17.776944</td>\n",
              "      <td>0</td>\n",
              "      <td>1</td>\n",
              "    </tr>\n",
              "    <tr>\n",
              "      <th>1</th>\n",
              "      <td>8.912331</td>\n",
              "      <td>0.391603</td>\n",
              "      <td>4.045956</td>\n",
              "      <td>-0.010874</td>\n",
              "      <td>0.014445</td>\n",
              "      <td>-0.006227</td>\n",
              "      <td>-12.643968</td>\n",
              "      <td>-10.226859</td>\n",
              "      <td>30.069993</td>\n",
              "      <td>9.540294</td>\n",
              "      <td>...</td>\n",
              "      <td>-1.942165</td>\n",
              "      <td>9.052294</td>\n",
              "      <td>-0.016795</td>\n",
              "      <td>0.007321</td>\n",
              "      <td>-0.009379</td>\n",
              "      <td>10.773012</td>\n",
              "      <td>35.535744</td>\n",
              "      <td>-17.793866</td>\n",
              "      <td>0</td>\n",
              "      <td>1</td>\n",
              "    </tr>\n",
              "    <tr>\n",
              "      <th>2</th>\n",
              "      <td>8.889990</td>\n",
              "      <td>0.384217</td>\n",
              "      <td>4.039017</td>\n",
              "      <td>-0.013686</td>\n",
              "      <td>0.012110</td>\n",
              "      <td>-0.005442</td>\n",
              "      <td>-12.647921</td>\n",
              "      <td>-10.220573</td>\n",
              "      <td>30.063655</td>\n",
              "      <td>9.561864</td>\n",
              "      <td>...</td>\n",
              "      <td>-1.965231</td>\n",
              "      <td>9.028006</td>\n",
              "      <td>-0.009752</td>\n",
              "      <td>0.004455</td>\n",
              "      <td>-0.011313</td>\n",
              "      <td>10.768550</td>\n",
              "      <td>35.536932</td>\n",
              "      <td>-17.806589</td>\n",
              "      <td>0</td>\n",
              "      <td>1</td>\n",
              "    </tr>\n",
              "  </tbody>\n",
              "</table>\n",
              "<p>3 rows × 56 columns</p>\n",
              "</div>\n",
              "    <div class=\"colab-df-buttons\">\n",
              "\n",
              "  <div class=\"colab-df-container\">\n",
              "    <button class=\"colab-df-convert\" onclick=\"convertToInteractive('df-f705122b-148b-448e-9344-f9b0efef8775')\"\n",
              "            title=\"Convert this dataframe to an interactive table.\"\n",
              "            style=\"display:none;\">\n",
              "\n",
              "  <svg xmlns=\"http://www.w3.org/2000/svg\" height=\"24px\" viewBox=\"0 -960 960 960\">\n",
              "    <path d=\"M120-120v-720h720v720H120Zm60-500h600v-160H180v160Zm220 220h160v-160H400v160Zm0 220h160v-160H400v160ZM180-400h160v-160H180v160Zm440 0h160v-160H620v160ZM180-180h160v-160H180v160Zm440 0h160v-160H620v160Z\"/>\n",
              "  </svg>\n",
              "    </button>\n",
              "\n",
              "  <style>\n",
              "    .colab-df-container {\n",
              "      display:flex;\n",
              "      gap: 12px;\n",
              "    }\n",
              "\n",
              "    .colab-df-convert {\n",
              "      background-color: #E8F0FE;\n",
              "      border: none;\n",
              "      border-radius: 50%;\n",
              "      cursor: pointer;\n",
              "      display: none;\n",
              "      fill: #1967D2;\n",
              "      height: 32px;\n",
              "      padding: 0 0 0 0;\n",
              "      width: 32px;\n",
              "    }\n",
              "\n",
              "    .colab-df-convert:hover {\n",
              "      background-color: #E2EBFA;\n",
              "      box-shadow: 0px 1px 2px rgba(60, 64, 67, 0.3), 0px 1px 3px 1px rgba(60, 64, 67, 0.15);\n",
              "      fill: #174EA6;\n",
              "    }\n",
              "\n",
              "    .colab-df-buttons div {\n",
              "      margin-bottom: 4px;\n",
              "    }\n",
              "\n",
              "    [theme=dark] .colab-df-convert {\n",
              "      background-color: #3B4455;\n",
              "      fill: #D2E3FC;\n",
              "    }\n",
              "\n",
              "    [theme=dark] .colab-df-convert:hover {\n",
              "      background-color: #434B5C;\n",
              "      box-shadow: 0px 1px 3px 1px rgba(0, 0, 0, 0.15);\n",
              "      filter: drop-shadow(0px 1px 2px rgba(0, 0, 0, 0.3));\n",
              "      fill: #FFFFFF;\n",
              "    }\n",
              "  </style>\n",
              "\n",
              "    <script>\n",
              "      const buttonEl =\n",
              "        document.querySelector('#df-f705122b-148b-448e-9344-f9b0efef8775 button.colab-df-convert');\n",
              "      buttonEl.style.display =\n",
              "        google.colab.kernel.accessAllowed ? 'block' : 'none';\n",
              "\n",
              "      async function convertToInteractive(key) {\n",
              "        const element = document.querySelector('#df-f705122b-148b-448e-9344-f9b0efef8775');\n",
              "        const dataTable =\n",
              "          await google.colab.kernel.invokeFunction('convertToInteractive',\n",
              "                                                    [key], {});\n",
              "        if (!dataTable) return;\n",
              "\n",
              "        const docLinkHtml = 'Like what you see? Visit the ' +\n",
              "          '<a target=\"_blank\" href=https://colab.research.google.com/notebooks/data_table.ipynb>data table notebook</a>'\n",
              "          + ' to learn more about interactive tables.';\n",
              "        element.innerHTML = '';\n",
              "        dataTable['output_type'] = 'display_data';\n",
              "        await google.colab.output.renderOutput(dataTable, element);\n",
              "        const docLink = document.createElement('div');\n",
              "        docLink.innerHTML = docLinkHtml;\n",
              "        element.appendChild(docLink);\n",
              "      }\n",
              "    </script>\n",
              "  </div>\n",
              "\n",
              "\n",
              "<div id=\"df-a4008f30-09f9-488d-8855-d53bf2feb34f\">\n",
              "  <button class=\"colab-df-quickchart\" onclick=\"quickchart('df-a4008f30-09f9-488d-8855-d53bf2feb34f')\"\n",
              "            title=\"Suggest charts\"\n",
              "            style=\"display:none;\">\n",
              "\n",
              "<svg xmlns=\"http://www.w3.org/2000/svg\" height=\"24px\"viewBox=\"0 0 24 24\"\n",
              "     width=\"24px\">\n",
              "    <g>\n",
              "        <path d=\"M19 3H5c-1.1 0-2 .9-2 2v14c0 1.1.9 2 2 2h14c1.1 0 2-.9 2-2V5c0-1.1-.9-2-2-2zM9 17H7v-7h2v7zm4 0h-2V7h2v10zm4 0h-2v-4h2v4z\"/>\n",
              "    </g>\n",
              "</svg>\n",
              "  </button>\n",
              "\n",
              "<style>\n",
              "  .colab-df-quickchart {\n",
              "      --bg-color: #E8F0FE;\n",
              "      --fill-color: #1967D2;\n",
              "      --hover-bg-color: #E2EBFA;\n",
              "      --hover-fill-color: #174EA6;\n",
              "      --disabled-fill-color: #AAA;\n",
              "      --disabled-bg-color: #DDD;\n",
              "  }\n",
              "\n",
              "  [theme=dark] .colab-df-quickchart {\n",
              "      --bg-color: #3B4455;\n",
              "      --fill-color: #D2E3FC;\n",
              "      --hover-bg-color: #434B5C;\n",
              "      --hover-fill-color: #FFFFFF;\n",
              "      --disabled-bg-color: #3B4455;\n",
              "      --disabled-fill-color: #666;\n",
              "  }\n",
              "\n",
              "  .colab-df-quickchart {\n",
              "    background-color: var(--bg-color);\n",
              "    border: none;\n",
              "    border-radius: 50%;\n",
              "    cursor: pointer;\n",
              "    display: none;\n",
              "    fill: var(--fill-color);\n",
              "    height: 32px;\n",
              "    padding: 0;\n",
              "    width: 32px;\n",
              "  }\n",
              "\n",
              "  .colab-df-quickchart:hover {\n",
              "    background-color: var(--hover-bg-color);\n",
              "    box-shadow: 0 1px 2px rgba(60, 64, 67, 0.3), 0 1px 3px 1px rgba(60, 64, 67, 0.15);\n",
              "    fill: var(--button-hover-fill-color);\n",
              "  }\n",
              "\n",
              "  .colab-df-quickchart-complete:disabled,\n",
              "  .colab-df-quickchart-complete:disabled:hover {\n",
              "    background-color: var(--disabled-bg-color);\n",
              "    fill: var(--disabled-fill-color);\n",
              "    box-shadow: none;\n",
              "  }\n",
              "\n",
              "  .colab-df-spinner {\n",
              "    border: 2px solid var(--fill-color);\n",
              "    border-color: transparent;\n",
              "    border-bottom-color: var(--fill-color);\n",
              "    animation:\n",
              "      spin 1s steps(1) infinite;\n",
              "  }\n",
              "\n",
              "  @keyframes spin {\n",
              "    0% {\n",
              "      border-color: transparent;\n",
              "      border-bottom-color: var(--fill-color);\n",
              "      border-left-color: var(--fill-color);\n",
              "    }\n",
              "    20% {\n",
              "      border-color: transparent;\n",
              "      border-left-color: var(--fill-color);\n",
              "      border-top-color: var(--fill-color);\n",
              "    }\n",
              "    30% {\n",
              "      border-color: transparent;\n",
              "      border-left-color: var(--fill-color);\n",
              "      border-top-color: var(--fill-color);\n",
              "      border-right-color: var(--fill-color);\n",
              "    }\n",
              "    40% {\n",
              "      border-color: transparent;\n",
              "      border-right-color: var(--fill-color);\n",
              "      border-top-color: var(--fill-color);\n",
              "    }\n",
              "    60% {\n",
              "      border-color: transparent;\n",
              "      border-right-color: var(--fill-color);\n",
              "    }\n",
              "    80% {\n",
              "      border-color: transparent;\n",
              "      border-right-color: var(--fill-color);\n",
              "      border-bottom-color: var(--fill-color);\n",
              "    }\n",
              "    90% {\n",
              "      border-color: transparent;\n",
              "      border-bottom-color: var(--fill-color);\n",
              "    }\n",
              "  }\n",
              "</style>\n",
              "\n",
              "  <script>\n",
              "    async function quickchart(key) {\n",
              "      const quickchartButtonEl =\n",
              "        document.querySelector('#' + key + ' button');\n",
              "      quickchartButtonEl.disabled = true;  // To prevent multiple clicks.\n",
              "      quickchartButtonEl.classList.add('colab-df-spinner');\n",
              "      try {\n",
              "        const charts = await google.colab.kernel.invokeFunction(\n",
              "            'suggestCharts', [key], {});\n",
              "      } catch (error) {\n",
              "        console.error('Error during call to suggestCharts:', error);\n",
              "      }\n",
              "      quickchartButtonEl.classList.remove('colab-df-spinner');\n",
              "      quickchartButtonEl.classList.add('colab-df-quickchart-complete');\n",
              "    }\n",
              "    (() => {\n",
              "      let quickchartButtonEl =\n",
              "        document.querySelector('#df-a4008f30-09f9-488d-8855-d53bf2feb34f button');\n",
              "      quickchartButtonEl.style.display =\n",
              "        google.colab.kernel.accessAllowed ? 'block' : 'none';\n",
              "    })();\n",
              "  </script>\n",
              "</div>\n",
              "\n",
              "    </div>\n",
              "  </div>\n"
            ],
            "application/vnd.google.colaboratory.intrinsic+json": {
              "type": "dataframe",
              "variable_name": "numeric_dataImu"
            }
          },
          "metadata": {},
          "execution_count": 45
        }
      ]
    },
    {
      "cell_type": "code",
      "source": [
        "print(\"imu procces types : \", numeric_dataImu.dtypes)\n",
        "print(\"emg procces types : \", numeric_dataEmg.dtypes)\n",
        "print(\"ips procces types : \", numeric_dataIps.dtypes)"
      ],
      "metadata": {
        "colab": {
          "base_uri": "https://localhost:8080/"
        },
        "id": "qJF4X2JoK2WU",
        "outputId": "be7828b3-7276-49a2-dca6-4be6dcc55a9a"
      },
      "execution_count": null,
      "outputs": [
        {
          "output_type": "stream",
          "name": "stdout",
          "text": [
            "imu procces types :  Unnamed: 0\n",
            "Head_Acc_X     float32\n",
            "Head_Acc_Y     float32\n",
            "Head_Acc_Z     float32\n",
            "Head_Gyr_X     float32\n",
            "Head_Gyr_Y     float32\n",
            "Head_Gyr_Z     float32\n",
            "Head_Roll      float32\n",
            "Head_Pitch     float32\n",
            "Head_Yaw       float32\n",
            "Waist_Acc_X    float32\n",
            "Waist_Acc_Y    float32\n",
            "Waist_Acc_Z    float32\n",
            "Waist_Gyr_X    float32\n",
            "Waist_Gyr_Y    float32\n",
            "Waist_Gyr_Z    float32\n",
            "Waist_Roll     float32\n",
            "Waist_Pitch    float32\n",
            "Waist_Yaw      float32\n",
            "L_H_Acc_X      float32\n",
            "L_H_Acc_Y      float32\n",
            "L_H_Acc_Z      float32\n",
            "L_H_Gyr_X      float32\n",
            "L_H_Gyr_Y      float32\n",
            "L_H_Gyr_Z      float32\n",
            "L_H_Roll       float32\n",
            "L_H_Pitch      float32\n",
            "L_H_Yaw        float32\n",
            "R_H_Acc_X      float32\n",
            "R_H_Acc_Y      float32\n",
            "R_H_Acc_Z      float32\n",
            "R_H_Gyr_X      float32\n",
            "R_H_Gyr_Y      float32\n",
            "R_H_Gyr_Z      float32\n",
            "R_H_Roll       float32\n",
            "R_H_Pitch      float32\n",
            "R_H_Yaw        float32\n",
            "L_F_Acc_X      float32\n",
            "L_F_Acc_Y      float32\n",
            "L_F_Acc_Z      float32\n",
            "L_F_Gyr_X      float32\n",
            "L_F_Gyr_Y      float32\n",
            "L_F_Gyr_Z      float32\n",
            "L_F_Roll       float32\n",
            "L_F_Pitch      float32\n",
            "L_F_Yaw        float32\n",
            "R_F_Acc_X      float32\n",
            "R_F_Acc_Y      float32\n",
            "R_F_Acc_Z      float32\n",
            "R_F_Gyr_X      float32\n",
            "R_F_Gyr_Y      float32\n",
            "R_F_Gyr_Z      float32\n",
            "R_F_Roll       float32\n",
            "R_F_Pitch      float32\n",
            "R_F_Yaw        float32\n",
            "categorie        int32\n",
            "id               int32\n",
            "dtype: object\n",
            "emg procces types :  Unnamed: 0\n",
            "R_Vlat       float32\n",
            "R_RF         float32\n",
            "R_ST         float32\n",
            "R_TA         float32\n",
            "L_Vlat       float32\n",
            "L_RF         float32\n",
            "L_ST         float32\n",
            "L_TA         float32\n",
            "R_MG         float32\n",
            "R_LG         float32\n",
            "R_SOL        float32\n",
            "R_IL         float32\n",
            "L_MG         float32\n",
            "L_LG         float32\n",
            "L_SOL        float32\n",
            "L_IL         float32\n",
            "categorie      int32\n",
            "id             int32\n",
            "dtype: object\n",
            "ips procces types :  NaN\n",
            "0.0          float32\n",
            "1.0          float32\n",
            "2.0          float32\n",
            "3.0          float32\n",
            "4.0          float32\n",
            "              ...   \n",
            "679.0        float32\n",
            "680.0        float32\n",
            "681.0        float32\n",
            "categorie      int32\n",
            "id             int32\n",
            "Length: 684, dtype: object\n"
          ]
        }
      ]
    },
    {
      "cell_type": "code",
      "source": [
        "processed_dataImu.head(3)"
      ],
      "metadata": {
        "colab": {
          "base_uri": "https://localhost:8080/",
          "height": 210
        },
        "id": "w4r4vKmFn3fB",
        "outputId": "e2ba13da-e416-4c36-b385-9d7ec6b2ec89"
      },
      "execution_count": null,
      "outputs": [
        {
          "output_type": "execute_result",
          "data": {
            "text/plain": [
              "Unnamed: 0  Head_Acc_X  Head_Acc_Y  Head_Acc_Z  Head_Gyr_X  Head_Gyr_Y  \\\n",
              "0             8.902975    0.412529    4.052022   -0.015015    0.010260   \n",
              "1             8.912331    0.391603    4.045956   -0.010874    0.014445   \n",
              "2             8.889990    0.384217    4.039017   -0.013686    0.012110   \n",
              "\n",
              "Unnamed: 0  Head_Gyr_Z  Head_Roll  Head_Pitch   Head_Yaw  Waist_Acc_X  ...  \\\n",
              "0            -0.009929 -12.639535  -10.234849  30.077293     9.578385  ...   \n",
              "1            -0.006227 -12.643968  -10.226859  30.069992     9.540294  ...   \n",
              "2            -0.005442 -12.647921  -10.220573  30.063656     9.561864  ...   \n",
              "\n",
              "Unnamed: 0  R_F_Acc_Y  R_F_Acc_Z  R_F_Gyr_X  R_F_Gyr_Y  R_F_Gyr_Z   R_F_Roll  \\\n",
              "0           -1.903201   9.019931  -0.027493   0.009596  -0.008538  10.781965   \n",
              "1           -1.942165   9.052294  -0.016795   0.007321  -0.009379  10.773012   \n",
              "2           -1.965231   9.028006  -0.009752   0.004455  -0.011313  10.768550   \n",
              "\n",
              "Unnamed: 0  R_F_Pitch    R_F_Yaw  categorie  id  \n",
              "0           35.531990 -17.776943          0   1  \n",
              "1           35.535744 -17.793865          0   1  \n",
              "2           35.536934 -17.806589          0   1  \n",
              "\n",
              "[3 rows x 56 columns]"
            ],
            "text/html": [
              "\n",
              "  <div id=\"df-27d3c45e-c9ad-4abe-b289-d043dc7fc593\" class=\"colab-df-container\">\n",
              "    <div>\n",
              "<style scoped>\n",
              "    .dataframe tbody tr th:only-of-type {\n",
              "        vertical-align: middle;\n",
              "    }\n",
              "\n",
              "    .dataframe tbody tr th {\n",
              "        vertical-align: top;\n",
              "    }\n",
              "\n",
              "    .dataframe thead th {\n",
              "        text-align: right;\n",
              "    }\n",
              "</style>\n",
              "<table border=\"1\" class=\"dataframe\">\n",
              "  <thead>\n",
              "    <tr style=\"text-align: right;\">\n",
              "      <th>Unnamed: 0</th>\n",
              "      <th>Head_Acc_X</th>\n",
              "      <th>Head_Acc_Y</th>\n",
              "      <th>Head_Acc_Z</th>\n",
              "      <th>Head_Gyr_X</th>\n",
              "      <th>Head_Gyr_Y</th>\n",
              "      <th>Head_Gyr_Z</th>\n",
              "      <th>Head_Roll</th>\n",
              "      <th>Head_Pitch</th>\n",
              "      <th>Head_Yaw</th>\n",
              "      <th>Waist_Acc_X</th>\n",
              "      <th>...</th>\n",
              "      <th>R_F_Acc_Y</th>\n",
              "      <th>R_F_Acc_Z</th>\n",
              "      <th>R_F_Gyr_X</th>\n",
              "      <th>R_F_Gyr_Y</th>\n",
              "      <th>R_F_Gyr_Z</th>\n",
              "      <th>R_F_Roll</th>\n",
              "      <th>R_F_Pitch</th>\n",
              "      <th>R_F_Yaw</th>\n",
              "      <th>categorie</th>\n",
              "      <th>id</th>\n",
              "    </tr>\n",
              "  </thead>\n",
              "  <tbody>\n",
              "    <tr>\n",
              "      <th>0</th>\n",
              "      <td>8.902975</td>\n",
              "      <td>0.412529</td>\n",
              "      <td>4.052022</td>\n",
              "      <td>-0.015015</td>\n",
              "      <td>0.010260</td>\n",
              "      <td>-0.009929</td>\n",
              "      <td>-12.639535</td>\n",
              "      <td>-10.234849</td>\n",
              "      <td>30.077293</td>\n",
              "      <td>9.578385</td>\n",
              "      <td>...</td>\n",
              "      <td>-1.903201</td>\n",
              "      <td>9.019931</td>\n",
              "      <td>-0.027493</td>\n",
              "      <td>0.009596</td>\n",
              "      <td>-0.008538</td>\n",
              "      <td>10.781965</td>\n",
              "      <td>35.531990</td>\n",
              "      <td>-17.776943</td>\n",
              "      <td>0</td>\n",
              "      <td>1</td>\n",
              "    </tr>\n",
              "    <tr>\n",
              "      <th>1</th>\n",
              "      <td>8.912331</td>\n",
              "      <td>0.391603</td>\n",
              "      <td>4.045956</td>\n",
              "      <td>-0.010874</td>\n",
              "      <td>0.014445</td>\n",
              "      <td>-0.006227</td>\n",
              "      <td>-12.643968</td>\n",
              "      <td>-10.226859</td>\n",
              "      <td>30.069992</td>\n",
              "      <td>9.540294</td>\n",
              "      <td>...</td>\n",
              "      <td>-1.942165</td>\n",
              "      <td>9.052294</td>\n",
              "      <td>-0.016795</td>\n",
              "      <td>0.007321</td>\n",
              "      <td>-0.009379</td>\n",
              "      <td>10.773012</td>\n",
              "      <td>35.535744</td>\n",
              "      <td>-17.793865</td>\n",
              "      <td>0</td>\n",
              "      <td>1</td>\n",
              "    </tr>\n",
              "    <tr>\n",
              "      <th>2</th>\n",
              "      <td>8.889990</td>\n",
              "      <td>0.384217</td>\n",
              "      <td>4.039017</td>\n",
              "      <td>-0.013686</td>\n",
              "      <td>0.012110</td>\n",
              "      <td>-0.005442</td>\n",
              "      <td>-12.647921</td>\n",
              "      <td>-10.220573</td>\n",
              "      <td>30.063656</td>\n",
              "      <td>9.561864</td>\n",
              "      <td>...</td>\n",
              "      <td>-1.965231</td>\n",
              "      <td>9.028006</td>\n",
              "      <td>-0.009752</td>\n",
              "      <td>0.004455</td>\n",
              "      <td>-0.011313</td>\n",
              "      <td>10.768550</td>\n",
              "      <td>35.536934</td>\n",
              "      <td>-17.806589</td>\n",
              "      <td>0</td>\n",
              "      <td>1</td>\n",
              "    </tr>\n",
              "  </tbody>\n",
              "</table>\n",
              "<p>3 rows × 56 columns</p>\n",
              "</div>\n",
              "    <div class=\"colab-df-buttons\">\n",
              "\n",
              "  <div class=\"colab-df-container\">\n",
              "    <button class=\"colab-df-convert\" onclick=\"convertToInteractive('df-27d3c45e-c9ad-4abe-b289-d043dc7fc593')\"\n",
              "            title=\"Convert this dataframe to an interactive table.\"\n",
              "            style=\"display:none;\">\n",
              "\n",
              "  <svg xmlns=\"http://www.w3.org/2000/svg\" height=\"24px\" viewBox=\"0 -960 960 960\">\n",
              "    <path d=\"M120-120v-720h720v720H120Zm60-500h600v-160H180v160Zm220 220h160v-160H400v160Zm0 220h160v-160H400v160ZM180-400h160v-160H180v160Zm440 0h160v-160H620v160ZM180-180h160v-160H180v160Zm440 0h160v-160H620v160Z\"/>\n",
              "  </svg>\n",
              "    </button>\n",
              "\n",
              "  <style>\n",
              "    .colab-df-container {\n",
              "      display:flex;\n",
              "      gap: 12px;\n",
              "    }\n",
              "\n",
              "    .colab-df-convert {\n",
              "      background-color: #E8F0FE;\n",
              "      border: none;\n",
              "      border-radius: 50%;\n",
              "      cursor: pointer;\n",
              "      display: none;\n",
              "      fill: #1967D2;\n",
              "      height: 32px;\n",
              "      padding: 0 0 0 0;\n",
              "      width: 32px;\n",
              "    }\n",
              "\n",
              "    .colab-df-convert:hover {\n",
              "      background-color: #E2EBFA;\n",
              "      box-shadow: 0px 1px 2px rgba(60, 64, 67, 0.3), 0px 1px 3px 1px rgba(60, 64, 67, 0.15);\n",
              "      fill: #174EA6;\n",
              "    }\n",
              "\n",
              "    .colab-df-buttons div {\n",
              "      margin-bottom: 4px;\n",
              "    }\n",
              "\n",
              "    [theme=dark] .colab-df-convert {\n",
              "      background-color: #3B4455;\n",
              "      fill: #D2E3FC;\n",
              "    }\n",
              "\n",
              "    [theme=dark] .colab-df-convert:hover {\n",
              "      background-color: #434B5C;\n",
              "      box-shadow: 0px 1px 3px 1px rgba(0, 0, 0, 0.15);\n",
              "      filter: drop-shadow(0px 1px 2px rgba(0, 0, 0, 0.3));\n",
              "      fill: #FFFFFF;\n",
              "    }\n",
              "  </style>\n",
              "\n",
              "    <script>\n",
              "      const buttonEl =\n",
              "        document.querySelector('#df-27d3c45e-c9ad-4abe-b289-d043dc7fc593 button.colab-df-convert');\n",
              "      buttonEl.style.display =\n",
              "        google.colab.kernel.accessAllowed ? 'block' : 'none';\n",
              "\n",
              "      async function convertToInteractive(key) {\n",
              "        const element = document.querySelector('#df-27d3c45e-c9ad-4abe-b289-d043dc7fc593');\n",
              "        const dataTable =\n",
              "          await google.colab.kernel.invokeFunction('convertToInteractive',\n",
              "                                                    [key], {});\n",
              "        if (!dataTable) return;\n",
              "\n",
              "        const docLinkHtml = 'Like what you see? Visit the ' +\n",
              "          '<a target=\"_blank\" href=https://colab.research.google.com/notebooks/data_table.ipynb>data table notebook</a>'\n",
              "          + ' to learn more about interactive tables.';\n",
              "        element.innerHTML = '';\n",
              "        dataTable['output_type'] = 'display_data';\n",
              "        await google.colab.output.renderOutput(dataTable, element);\n",
              "        const docLink = document.createElement('div');\n",
              "        docLink.innerHTML = docLinkHtml;\n",
              "        element.appendChild(docLink);\n",
              "      }\n",
              "    </script>\n",
              "  </div>\n",
              "\n",
              "\n",
              "<div id=\"df-dd014539-25f4-456a-bbf8-e3024c698e16\">\n",
              "  <button class=\"colab-df-quickchart\" onclick=\"quickchart('df-dd014539-25f4-456a-bbf8-e3024c698e16')\"\n",
              "            title=\"Suggest charts\"\n",
              "            style=\"display:none;\">\n",
              "\n",
              "<svg xmlns=\"http://www.w3.org/2000/svg\" height=\"24px\"viewBox=\"0 0 24 24\"\n",
              "     width=\"24px\">\n",
              "    <g>\n",
              "        <path d=\"M19 3H5c-1.1 0-2 .9-2 2v14c0 1.1.9 2 2 2h14c1.1 0 2-.9 2-2V5c0-1.1-.9-2-2-2zM9 17H7v-7h2v7zm4 0h-2V7h2v10zm4 0h-2v-4h2v4z\"/>\n",
              "    </g>\n",
              "</svg>\n",
              "  </button>\n",
              "\n",
              "<style>\n",
              "  .colab-df-quickchart {\n",
              "      --bg-color: #E8F0FE;\n",
              "      --fill-color: #1967D2;\n",
              "      --hover-bg-color: #E2EBFA;\n",
              "      --hover-fill-color: #174EA6;\n",
              "      --disabled-fill-color: #AAA;\n",
              "      --disabled-bg-color: #DDD;\n",
              "  }\n",
              "\n",
              "  [theme=dark] .colab-df-quickchart {\n",
              "      --bg-color: #3B4455;\n",
              "      --fill-color: #D2E3FC;\n",
              "      --hover-bg-color: #434B5C;\n",
              "      --hover-fill-color: #FFFFFF;\n",
              "      --disabled-bg-color: #3B4455;\n",
              "      --disabled-fill-color: #666;\n",
              "  }\n",
              "\n",
              "  .colab-df-quickchart {\n",
              "    background-color: var(--bg-color);\n",
              "    border: none;\n",
              "    border-radius: 50%;\n",
              "    cursor: pointer;\n",
              "    display: none;\n",
              "    fill: var(--fill-color);\n",
              "    height: 32px;\n",
              "    padding: 0;\n",
              "    width: 32px;\n",
              "  }\n",
              "\n",
              "  .colab-df-quickchart:hover {\n",
              "    background-color: var(--hover-bg-color);\n",
              "    box-shadow: 0 1px 2px rgba(60, 64, 67, 0.3), 0 1px 3px 1px rgba(60, 64, 67, 0.15);\n",
              "    fill: var(--button-hover-fill-color);\n",
              "  }\n",
              "\n",
              "  .colab-df-quickchart-complete:disabled,\n",
              "  .colab-df-quickchart-complete:disabled:hover {\n",
              "    background-color: var(--disabled-bg-color);\n",
              "    fill: var(--disabled-fill-color);\n",
              "    box-shadow: none;\n",
              "  }\n",
              "\n",
              "  .colab-df-spinner {\n",
              "    border: 2px solid var(--fill-color);\n",
              "    border-color: transparent;\n",
              "    border-bottom-color: var(--fill-color);\n",
              "    animation:\n",
              "      spin 1s steps(1) infinite;\n",
              "  }\n",
              "\n",
              "  @keyframes spin {\n",
              "    0% {\n",
              "      border-color: transparent;\n",
              "      border-bottom-color: var(--fill-color);\n",
              "      border-left-color: var(--fill-color);\n",
              "    }\n",
              "    20% {\n",
              "      border-color: transparent;\n",
              "      border-left-color: var(--fill-color);\n",
              "      border-top-color: var(--fill-color);\n",
              "    }\n",
              "    30% {\n",
              "      border-color: transparent;\n",
              "      border-left-color: var(--fill-color);\n",
              "      border-top-color: var(--fill-color);\n",
              "      border-right-color: var(--fill-color);\n",
              "    }\n",
              "    40% {\n",
              "      border-color: transparent;\n",
              "      border-right-color: var(--fill-color);\n",
              "      border-top-color: var(--fill-color);\n",
              "    }\n",
              "    60% {\n",
              "      border-color: transparent;\n",
              "      border-right-color: var(--fill-color);\n",
              "    }\n",
              "    80% {\n",
              "      border-color: transparent;\n",
              "      border-right-color: var(--fill-color);\n",
              "      border-bottom-color: var(--fill-color);\n",
              "    }\n",
              "    90% {\n",
              "      border-color: transparent;\n",
              "      border-bottom-color: var(--fill-color);\n",
              "    }\n",
              "  }\n",
              "</style>\n",
              "\n",
              "  <script>\n",
              "    async function quickchart(key) {\n",
              "      const quickchartButtonEl =\n",
              "        document.querySelector('#' + key + ' button');\n",
              "      quickchartButtonEl.disabled = true;  // To prevent multiple clicks.\n",
              "      quickchartButtonEl.classList.add('colab-df-spinner');\n",
              "      try {\n",
              "        const charts = await google.colab.kernel.invokeFunction(\n",
              "            'suggestCharts', [key], {});\n",
              "      } catch (error) {\n",
              "        console.error('Error during call to suggestCharts:', error);\n",
              "      }\n",
              "      quickchartButtonEl.classList.remove('colab-df-spinner');\n",
              "      quickchartButtonEl.classList.add('colab-df-quickchart-complete');\n",
              "    }\n",
              "    (() => {\n",
              "      let quickchartButtonEl =\n",
              "        document.querySelector('#df-dd014539-25f4-456a-bbf8-e3024c698e16 button');\n",
              "      quickchartButtonEl.style.display =\n",
              "        google.colab.kernel.accessAllowed ? 'block' : 'none';\n",
              "    })();\n",
              "  </script>\n",
              "</div>\n",
              "\n",
              "    </div>\n",
              "  </div>\n"
            ],
            "application/vnd.google.colaboratory.intrinsic+json": {
              "type": "dataframe",
              "variable_name": "processed_dataImu"
            }
          },
          "metadata": {},
          "execution_count": 25
        }
      ]
    },
    {
      "cell_type": "code",
      "source": [
        "print(\"imu procces types : \", processed_dataImu.dtypes)\n",
        "print(\"emg procces types : \", processed_dataEmg.dtypes)\n",
        "print(\"ips procces types : \", processed_dataIps.dtypes)"
      ],
      "metadata": {
        "colab": {
          "base_uri": "https://localhost:8080/"
        },
        "id": "j6avMLKRc7o0",
        "outputId": "960c96d0-8a4d-4a93-f6a4-a5c387ab4509"
      },
      "execution_count": null,
      "outputs": [
        {
          "output_type": "stream",
          "name": "stdout",
          "text": [
            "imu procces types :  Unnamed: 0\n",
            "Head_Acc_X     float32\n",
            "Head_Acc_Y     float32\n",
            "Head_Acc_Z     float32\n",
            "Head_Gyr_X     float32\n",
            "Head_Gyr_Y     float32\n",
            "Head_Gyr_Z     float32\n",
            "Head_Roll      float32\n",
            "Head_Pitch     float32\n",
            "Head_Yaw       float32\n",
            "Waist_Acc_X    float32\n",
            "Waist_Acc_Y    float32\n",
            "Waist_Acc_Z    float32\n",
            "Waist_Gyr_X    float32\n",
            "Waist_Gyr_Y    float32\n",
            "Waist_Gyr_Z    float32\n",
            "Waist_Roll     float32\n",
            "Waist_Pitch    float32\n",
            "Waist_Yaw      float32\n",
            "L_H_Acc_X      float32\n",
            "L_H_Acc_Y      float32\n",
            "L_H_Acc_Z      float32\n",
            "L_H_Gyr_X      float32\n",
            "L_H_Gyr_Y      float32\n",
            "L_H_Gyr_Z      float32\n",
            "L_H_Roll       float32\n",
            "L_H_Pitch      float32\n",
            "L_H_Yaw        float32\n",
            "R_H_Acc_X      float32\n",
            "R_H_Acc_Y      float32\n",
            "R_H_Acc_Z      float32\n",
            "R_H_Gyr_X      float32\n",
            "R_H_Gyr_Y      float32\n",
            "R_H_Gyr_Z      float32\n",
            "R_H_Roll       float32\n",
            "R_H_Pitch      float32\n",
            "R_H_Yaw        float32\n",
            "L_F_Acc_X      float32\n",
            "L_F_Acc_Y      float32\n",
            "L_F_Acc_Z      float32\n",
            "L_F_Gyr_X      float32\n",
            "L_F_Gyr_Y      float32\n",
            "L_F_Gyr_Z      float32\n",
            "L_F_Roll       float32\n",
            "L_F_Pitch      float32\n",
            "L_F_Yaw        float32\n",
            "R_F_Acc_X      float32\n",
            "R_F_Acc_Y      float32\n",
            "R_F_Acc_Z      float32\n",
            "R_F_Gyr_X      float32\n",
            "R_F_Gyr_Y      float32\n",
            "R_F_Gyr_Z      float32\n",
            "R_F_Roll       float32\n",
            "R_F_Pitch      float32\n",
            "R_F_Yaw        float32\n",
            "categorie        int32\n",
            "id               int32\n",
            "dtype: object\n",
            "emg procces types :  Unnamed: 0\n",
            "R_Vlat       float32\n",
            "R_RF         float32\n",
            "R_ST         float32\n",
            "R_TA         float32\n",
            "L_Vlat       float32\n",
            "L_RF         float32\n",
            "L_ST         float32\n",
            "L_TA         float32\n",
            "R_MG         float32\n",
            "R_LG         float32\n",
            "R_SOL        float32\n",
            "R_IL         float32\n",
            "L_MG         float32\n",
            "L_LG         float32\n",
            "L_SOL        float32\n",
            "L_IL         float32\n",
            "categorie      int32\n",
            "id             int32\n",
            "dtype: object\n",
            "ips procces types :  NaN\n",
            "0.0          float32\n",
            "1.0          float32\n",
            "2.0          float32\n",
            "3.0          float32\n",
            "4.0          float32\n",
            "              ...   \n",
            "679.0        float32\n",
            "680.0        float32\n",
            "681.0        float32\n",
            "categorie      int32\n",
            "id             int32\n",
            "Length: 684, dtype: object\n"
          ]
        }
      ]
    },
    {
      "cell_type": "code",
      "source": [
        "def clean_missing_values(processed_data, threshold=0.5):\n",
        "\n",
        "  zero_threshold = (processed_data == 0).mean(axis=1)  # Calcul du pourcentage de zéros par ligne\n",
        "  rows_to_delete = zero_threshold[zero_threshold >= threshold]\n",
        "  #print(f\"Lignes supprimées (trop de zéros):\\n{rows_to_delete}\")\n",
        "  processed_data = processed_data.loc[zero_threshold < threshold]\n",
        "  print(f\"Nombre de lignes avant suppression: {len(zero_threshold)}\")\n",
        "  print(f\"Nombre de lignes après suppression: {len(processed_data)}\")\n",
        "  numeric_cols = processed_data.select_dtypes(include=[np.number])\n",
        "  non_numeric_cols = processed_data.select_dtypes(exclude=[np.number])\n",
        "  missing_percentage = numeric_cols.isna().mean()\n",
        "  numeric_cols_cleaned = numeric_cols.loc[:, missing_percentage < threshold]\n",
        "  numeric_cols_cleaned = numeric_cols_cleaned.apply(lambda col: col.fillna(col.median()), axis=0)\n",
        "  processed_data_cleaned = pd.concat([non_numeric_cols, numeric_cols_cleaned], axis=1)\n",
        "\n",
        "  return processed_data_cleaned"
      ],
      "metadata": {
        "id": "K9w3WA7CtmJ4"
      },
      "execution_count": 18,
      "outputs": []
    },
    {
      "cell_type": "code",
      "source": [
        "#cleaned_data = clean_missing_values(processed_data, porcentage 0.5)\n",
        "cleaned_dataImu = clean_missing_values(numeric_dataImu, threshold=0.5)\n",
        "cleaned_dataEmg = clean_missing_values(numeric_dataEmg, threshold=0.5)\n",
        "cleaned_dataIps = clean_missing_values(numeric_dataIps, threshold=0.5)"
      ],
      "metadata": {
        "id": "rhqmPOrltmFY",
        "colab": {
          "base_uri": "https://localhost:8080/"
        },
        "outputId": "09f28c5d-e063-4123-bace-717bf1f0905a"
      },
      "execution_count": 19,
      "outputs": [
        {
          "output_type": "stream",
          "name": "stdout",
          "text": [
            "Nombre de lignes avant suppression: 431931\n",
            "Nombre de lignes après suppression: 431854\n",
            "Nombre de lignes avant suppression: 8638506\n",
            "Nombre de lignes après suppression: 8638506\n",
            "Nombre de lignes avant suppression: 265682\n",
            "Nombre de lignes après suppression: 129151\n"
          ]
        }
      ]
    },
    {
      "cell_type": "code",
      "source": [
        "cleaned_dataEmg.head(3)"
      ],
      "metadata": {
        "colab": {
          "base_uri": "https://localhost:8080/",
          "height": 181
        },
        "id": "yT7VO5wu0Fwb",
        "outputId": "53375e17-3b4f-4c64-dc09-3444d5c9a7c3"
      },
      "execution_count": null,
      "outputs": [
        {
          "output_type": "execute_result",
          "data": {
            "text/plain": [
              "Unnamed: 0    R_Vlat      R_RF      R_ST       R_TA    L_Vlat      L_RF  \\\n",
              "0          -0.704956  1.309204 -2.316284 -20.242310 -6.747437  2.920532   \n",
              "1           2.014160  1.309204 -2.316284 -16.415405 -1.208496  2.618408   \n",
              "2          -0.704956  1.309204 -2.316284 -16.314697 -1.107788  1.107788   \n",
              "\n",
              "Unnamed: 0      L_ST      L_TA      R_MG       R_LG      R_SOL    R_IL  \\\n",
              "0          -1.208496 -6.948853 -0.906372 -12.387085  54.180908 -2.5177   \n",
              "1          -1.208496 -6.948853 -0.906372 -12.387085  54.180908 -2.5177   \n",
              "2          -1.208496 -6.948853 -0.906372 -12.387085  54.180908 -2.5177   \n",
              "\n",
              "Unnamed: 0      L_MG       L_LG    L_SOL     L_IL  categorie  id  \n",
              "0          -0.704956  10.876465 -3.52478 -3.52478          0   1  \n",
              "1          -0.704956  10.876465 -3.52478 -3.52478          0   1  \n",
              "2          -0.704956  10.876465 -3.52478 -3.52478          0   1  "
            ],
            "text/html": [
              "\n",
              "  <div id=\"df-7223fe5c-5e11-4b70-84da-86089b655873\" class=\"colab-df-container\">\n",
              "    <div>\n",
              "<style scoped>\n",
              "    .dataframe tbody tr th:only-of-type {\n",
              "        vertical-align: middle;\n",
              "    }\n",
              "\n",
              "    .dataframe tbody tr th {\n",
              "        vertical-align: top;\n",
              "    }\n",
              "\n",
              "    .dataframe thead th {\n",
              "        text-align: right;\n",
              "    }\n",
              "</style>\n",
              "<table border=\"1\" class=\"dataframe\">\n",
              "  <thead>\n",
              "    <tr style=\"text-align: right;\">\n",
              "      <th>Unnamed: 0</th>\n",
              "      <th>R_Vlat</th>\n",
              "      <th>R_RF</th>\n",
              "      <th>R_ST</th>\n",
              "      <th>R_TA</th>\n",
              "      <th>L_Vlat</th>\n",
              "      <th>L_RF</th>\n",
              "      <th>L_ST</th>\n",
              "      <th>L_TA</th>\n",
              "      <th>R_MG</th>\n",
              "      <th>R_LG</th>\n",
              "      <th>R_SOL</th>\n",
              "      <th>R_IL</th>\n",
              "      <th>L_MG</th>\n",
              "      <th>L_LG</th>\n",
              "      <th>L_SOL</th>\n",
              "      <th>L_IL</th>\n",
              "      <th>categorie</th>\n",
              "      <th>id</th>\n",
              "    </tr>\n",
              "  </thead>\n",
              "  <tbody>\n",
              "    <tr>\n",
              "      <th>0</th>\n",
              "      <td>-0.704956</td>\n",
              "      <td>1.309204</td>\n",
              "      <td>-2.316284</td>\n",
              "      <td>-20.242310</td>\n",
              "      <td>-6.747437</td>\n",
              "      <td>2.920532</td>\n",
              "      <td>-1.208496</td>\n",
              "      <td>-6.948853</td>\n",
              "      <td>-0.906372</td>\n",
              "      <td>-12.387085</td>\n",
              "      <td>54.180908</td>\n",
              "      <td>-2.5177</td>\n",
              "      <td>-0.704956</td>\n",
              "      <td>10.876465</td>\n",
              "      <td>-3.52478</td>\n",
              "      <td>-3.52478</td>\n",
              "      <td>0</td>\n",
              "      <td>1</td>\n",
              "    </tr>\n",
              "    <tr>\n",
              "      <th>1</th>\n",
              "      <td>2.014160</td>\n",
              "      <td>1.309204</td>\n",
              "      <td>-2.316284</td>\n",
              "      <td>-16.415405</td>\n",
              "      <td>-1.208496</td>\n",
              "      <td>2.618408</td>\n",
              "      <td>-1.208496</td>\n",
              "      <td>-6.948853</td>\n",
              "      <td>-0.906372</td>\n",
              "      <td>-12.387085</td>\n",
              "      <td>54.180908</td>\n",
              "      <td>-2.5177</td>\n",
              "      <td>-0.704956</td>\n",
              "      <td>10.876465</td>\n",
              "      <td>-3.52478</td>\n",
              "      <td>-3.52478</td>\n",
              "      <td>0</td>\n",
              "      <td>1</td>\n",
              "    </tr>\n",
              "    <tr>\n",
              "      <th>2</th>\n",
              "      <td>-0.704956</td>\n",
              "      <td>1.309204</td>\n",
              "      <td>-2.316284</td>\n",
              "      <td>-16.314697</td>\n",
              "      <td>-1.107788</td>\n",
              "      <td>1.107788</td>\n",
              "      <td>-1.208496</td>\n",
              "      <td>-6.948853</td>\n",
              "      <td>-0.906372</td>\n",
              "      <td>-12.387085</td>\n",
              "      <td>54.180908</td>\n",
              "      <td>-2.5177</td>\n",
              "      <td>-0.704956</td>\n",
              "      <td>10.876465</td>\n",
              "      <td>-3.52478</td>\n",
              "      <td>-3.52478</td>\n",
              "      <td>0</td>\n",
              "      <td>1</td>\n",
              "    </tr>\n",
              "  </tbody>\n",
              "</table>\n",
              "</div>\n",
              "    <div class=\"colab-df-buttons\">\n",
              "\n",
              "  <div class=\"colab-df-container\">\n",
              "    <button class=\"colab-df-convert\" onclick=\"convertToInteractive('df-7223fe5c-5e11-4b70-84da-86089b655873')\"\n",
              "            title=\"Convert this dataframe to an interactive table.\"\n",
              "            style=\"display:none;\">\n",
              "\n",
              "  <svg xmlns=\"http://www.w3.org/2000/svg\" height=\"24px\" viewBox=\"0 -960 960 960\">\n",
              "    <path d=\"M120-120v-720h720v720H120Zm60-500h600v-160H180v160Zm220 220h160v-160H400v160Zm0 220h160v-160H400v160ZM180-400h160v-160H180v160Zm440 0h160v-160H620v160ZM180-180h160v-160H180v160Zm440 0h160v-160H620v160Z\"/>\n",
              "  </svg>\n",
              "    </button>\n",
              "\n",
              "  <style>\n",
              "    .colab-df-container {\n",
              "      display:flex;\n",
              "      gap: 12px;\n",
              "    }\n",
              "\n",
              "    .colab-df-convert {\n",
              "      background-color: #E8F0FE;\n",
              "      border: none;\n",
              "      border-radius: 50%;\n",
              "      cursor: pointer;\n",
              "      display: none;\n",
              "      fill: #1967D2;\n",
              "      height: 32px;\n",
              "      padding: 0 0 0 0;\n",
              "      width: 32px;\n",
              "    }\n",
              "\n",
              "    .colab-df-convert:hover {\n",
              "      background-color: #E2EBFA;\n",
              "      box-shadow: 0px 1px 2px rgba(60, 64, 67, 0.3), 0px 1px 3px 1px rgba(60, 64, 67, 0.15);\n",
              "      fill: #174EA6;\n",
              "    }\n",
              "\n",
              "    .colab-df-buttons div {\n",
              "      margin-bottom: 4px;\n",
              "    }\n",
              "\n",
              "    [theme=dark] .colab-df-convert {\n",
              "      background-color: #3B4455;\n",
              "      fill: #D2E3FC;\n",
              "    }\n",
              "\n",
              "    [theme=dark] .colab-df-convert:hover {\n",
              "      background-color: #434B5C;\n",
              "      box-shadow: 0px 1px 3px 1px rgba(0, 0, 0, 0.15);\n",
              "      filter: drop-shadow(0px 1px 2px rgba(0, 0, 0, 0.3));\n",
              "      fill: #FFFFFF;\n",
              "    }\n",
              "  </style>\n",
              "\n",
              "    <script>\n",
              "      const buttonEl =\n",
              "        document.querySelector('#df-7223fe5c-5e11-4b70-84da-86089b655873 button.colab-df-convert');\n",
              "      buttonEl.style.display =\n",
              "        google.colab.kernel.accessAllowed ? 'block' : 'none';\n",
              "\n",
              "      async function convertToInteractive(key) {\n",
              "        const element = document.querySelector('#df-7223fe5c-5e11-4b70-84da-86089b655873');\n",
              "        const dataTable =\n",
              "          await google.colab.kernel.invokeFunction('convertToInteractive',\n",
              "                                                    [key], {});\n",
              "        if (!dataTable) return;\n",
              "\n",
              "        const docLinkHtml = 'Like what you see? Visit the ' +\n",
              "          '<a target=\"_blank\" href=https://colab.research.google.com/notebooks/data_table.ipynb>data table notebook</a>'\n",
              "          + ' to learn more about interactive tables.';\n",
              "        element.innerHTML = '';\n",
              "        dataTable['output_type'] = 'display_data';\n",
              "        await google.colab.output.renderOutput(dataTable, element);\n",
              "        const docLink = document.createElement('div');\n",
              "        docLink.innerHTML = docLinkHtml;\n",
              "        element.appendChild(docLink);\n",
              "      }\n",
              "    </script>\n",
              "  </div>\n",
              "\n",
              "\n",
              "<div id=\"df-c21a6a08-b3cc-4484-b789-f6970d19eec3\">\n",
              "  <button class=\"colab-df-quickchart\" onclick=\"quickchart('df-c21a6a08-b3cc-4484-b789-f6970d19eec3')\"\n",
              "            title=\"Suggest charts\"\n",
              "            style=\"display:none;\">\n",
              "\n",
              "<svg xmlns=\"http://www.w3.org/2000/svg\" height=\"24px\"viewBox=\"0 0 24 24\"\n",
              "     width=\"24px\">\n",
              "    <g>\n",
              "        <path d=\"M19 3H5c-1.1 0-2 .9-2 2v14c0 1.1.9 2 2 2h14c1.1 0 2-.9 2-2V5c0-1.1-.9-2-2-2zM9 17H7v-7h2v7zm4 0h-2V7h2v10zm4 0h-2v-4h2v4z\"/>\n",
              "    </g>\n",
              "</svg>\n",
              "  </button>\n",
              "\n",
              "<style>\n",
              "  .colab-df-quickchart {\n",
              "      --bg-color: #E8F0FE;\n",
              "      --fill-color: #1967D2;\n",
              "      --hover-bg-color: #E2EBFA;\n",
              "      --hover-fill-color: #174EA6;\n",
              "      --disabled-fill-color: #AAA;\n",
              "      --disabled-bg-color: #DDD;\n",
              "  }\n",
              "\n",
              "  [theme=dark] .colab-df-quickchart {\n",
              "      --bg-color: #3B4455;\n",
              "      --fill-color: #D2E3FC;\n",
              "      --hover-bg-color: #434B5C;\n",
              "      --hover-fill-color: #FFFFFF;\n",
              "      --disabled-bg-color: #3B4455;\n",
              "      --disabled-fill-color: #666;\n",
              "  }\n",
              "\n",
              "  .colab-df-quickchart {\n",
              "    background-color: var(--bg-color);\n",
              "    border: none;\n",
              "    border-radius: 50%;\n",
              "    cursor: pointer;\n",
              "    display: none;\n",
              "    fill: var(--fill-color);\n",
              "    height: 32px;\n",
              "    padding: 0;\n",
              "    width: 32px;\n",
              "  }\n",
              "\n",
              "  .colab-df-quickchart:hover {\n",
              "    background-color: var(--hover-bg-color);\n",
              "    box-shadow: 0 1px 2px rgba(60, 64, 67, 0.3), 0 1px 3px 1px rgba(60, 64, 67, 0.15);\n",
              "    fill: var(--button-hover-fill-color);\n",
              "  }\n",
              "\n",
              "  .colab-df-quickchart-complete:disabled,\n",
              "  .colab-df-quickchart-complete:disabled:hover {\n",
              "    background-color: var(--disabled-bg-color);\n",
              "    fill: var(--disabled-fill-color);\n",
              "    box-shadow: none;\n",
              "  }\n",
              "\n",
              "  .colab-df-spinner {\n",
              "    border: 2px solid var(--fill-color);\n",
              "    border-color: transparent;\n",
              "    border-bottom-color: var(--fill-color);\n",
              "    animation:\n",
              "      spin 1s steps(1) infinite;\n",
              "  }\n",
              "\n",
              "  @keyframes spin {\n",
              "    0% {\n",
              "      border-color: transparent;\n",
              "      border-bottom-color: var(--fill-color);\n",
              "      border-left-color: var(--fill-color);\n",
              "    }\n",
              "    20% {\n",
              "      border-color: transparent;\n",
              "      border-left-color: var(--fill-color);\n",
              "      border-top-color: var(--fill-color);\n",
              "    }\n",
              "    30% {\n",
              "      border-color: transparent;\n",
              "      border-left-color: var(--fill-color);\n",
              "      border-top-color: var(--fill-color);\n",
              "      border-right-color: var(--fill-color);\n",
              "    }\n",
              "    40% {\n",
              "      border-color: transparent;\n",
              "      border-right-color: var(--fill-color);\n",
              "      border-top-color: var(--fill-color);\n",
              "    }\n",
              "    60% {\n",
              "      border-color: transparent;\n",
              "      border-right-color: var(--fill-color);\n",
              "    }\n",
              "    80% {\n",
              "      border-color: transparent;\n",
              "      border-right-color: var(--fill-color);\n",
              "      border-bottom-color: var(--fill-color);\n",
              "    }\n",
              "    90% {\n",
              "      border-color: transparent;\n",
              "      border-bottom-color: var(--fill-color);\n",
              "    }\n",
              "  }\n",
              "</style>\n",
              "\n",
              "  <script>\n",
              "    async function quickchart(key) {\n",
              "      const quickchartButtonEl =\n",
              "        document.querySelector('#' + key + ' button');\n",
              "      quickchartButtonEl.disabled = true;  // To prevent multiple clicks.\n",
              "      quickchartButtonEl.classList.add('colab-df-spinner');\n",
              "      try {\n",
              "        const charts = await google.colab.kernel.invokeFunction(\n",
              "            'suggestCharts', [key], {});\n",
              "      } catch (error) {\n",
              "        console.error('Error during call to suggestCharts:', error);\n",
              "      }\n",
              "      quickchartButtonEl.classList.remove('colab-df-spinner');\n",
              "      quickchartButtonEl.classList.add('colab-df-quickchart-complete');\n",
              "    }\n",
              "    (() => {\n",
              "      let quickchartButtonEl =\n",
              "        document.querySelector('#df-c21a6a08-b3cc-4484-b789-f6970d19eec3 button');\n",
              "      quickchartButtonEl.style.display =\n",
              "        google.colab.kernel.accessAllowed ? 'block' : 'none';\n",
              "    })();\n",
              "  </script>\n",
              "</div>\n",
              "\n",
              "    </div>\n",
              "  </div>\n"
            ],
            "application/vnd.google.colaboratory.intrinsic+json": {
              "type": "dataframe",
              "variable_name": "cleaned_dataEmg"
            }
          },
          "metadata": {},
          "execution_count": 46
        }
      ]
    },
    {
      "cell_type": "code",
      "source": [
        "cleaned_dataImu.head(3)"
      ],
      "metadata": {
        "colab": {
          "base_uri": "https://localhost:8080/",
          "height": 210
        },
        "id": "pLkzGQrFL2NI",
        "outputId": "575d8841-5fec-4d9a-ea8a-584f77387aa8"
      },
      "execution_count": null,
      "outputs": [
        {
          "output_type": "execute_result",
          "data": {
            "text/plain": [
              "Unnamed: 0  Head_Acc_X  Head_Acc_Y  Head_Acc_Z  Head_Gyr_X  Head_Gyr_Y  \\\n",
              "0             8.902975    0.412529    4.052022   -0.015015    0.010260   \n",
              "1             8.912331    0.391603    4.045956   -0.010874    0.014445   \n",
              "2             8.889990    0.384217    4.039017   -0.013686    0.012110   \n",
              "\n",
              "Unnamed: 0  Head_Gyr_Z  Head_Roll  Head_Pitch   Head_Yaw  Waist_Acc_X  ...  \\\n",
              "0            -0.009929 -12.639535  -10.234849  30.077293     9.578385  ...   \n",
              "1            -0.006227 -12.643968  -10.226859  30.069992     9.540294  ...   \n",
              "2            -0.005442 -12.647921  -10.220573  30.063656     9.561864  ...   \n",
              "\n",
              "Unnamed: 0  R_F_Acc_Y  R_F_Acc_Z  R_F_Gyr_X  R_F_Gyr_Y  R_F_Gyr_Z   R_F_Roll  \\\n",
              "0           -1.903201   9.019931  -0.027493   0.009596  -0.008538  10.781965   \n",
              "1           -1.942165   9.052294  -0.016795   0.007321  -0.009379  10.773012   \n",
              "2           -1.965231   9.028006  -0.009752   0.004455  -0.011313  10.768550   \n",
              "\n",
              "Unnamed: 0  R_F_Pitch    R_F_Yaw  categorie  id  \n",
              "0           35.531990 -17.776943          0   1  \n",
              "1           35.535744 -17.793865          0   1  \n",
              "2           35.536934 -17.806589          0   1  \n",
              "\n",
              "[3 rows x 56 columns]"
            ],
            "text/html": [
              "\n",
              "  <div id=\"df-f83059d8-549a-42dc-b423-f658b70c3f00\" class=\"colab-df-container\">\n",
              "    <div>\n",
              "<style scoped>\n",
              "    .dataframe tbody tr th:only-of-type {\n",
              "        vertical-align: middle;\n",
              "    }\n",
              "\n",
              "    .dataframe tbody tr th {\n",
              "        vertical-align: top;\n",
              "    }\n",
              "\n",
              "    .dataframe thead th {\n",
              "        text-align: right;\n",
              "    }\n",
              "</style>\n",
              "<table border=\"1\" class=\"dataframe\">\n",
              "  <thead>\n",
              "    <tr style=\"text-align: right;\">\n",
              "      <th>Unnamed: 0</th>\n",
              "      <th>Head_Acc_X</th>\n",
              "      <th>Head_Acc_Y</th>\n",
              "      <th>Head_Acc_Z</th>\n",
              "      <th>Head_Gyr_X</th>\n",
              "      <th>Head_Gyr_Y</th>\n",
              "      <th>Head_Gyr_Z</th>\n",
              "      <th>Head_Roll</th>\n",
              "      <th>Head_Pitch</th>\n",
              "      <th>Head_Yaw</th>\n",
              "      <th>Waist_Acc_X</th>\n",
              "      <th>...</th>\n",
              "      <th>R_F_Acc_Y</th>\n",
              "      <th>R_F_Acc_Z</th>\n",
              "      <th>R_F_Gyr_X</th>\n",
              "      <th>R_F_Gyr_Y</th>\n",
              "      <th>R_F_Gyr_Z</th>\n",
              "      <th>R_F_Roll</th>\n",
              "      <th>R_F_Pitch</th>\n",
              "      <th>R_F_Yaw</th>\n",
              "      <th>categorie</th>\n",
              "      <th>id</th>\n",
              "    </tr>\n",
              "  </thead>\n",
              "  <tbody>\n",
              "    <tr>\n",
              "      <th>0</th>\n",
              "      <td>8.902975</td>\n",
              "      <td>0.412529</td>\n",
              "      <td>4.052022</td>\n",
              "      <td>-0.015015</td>\n",
              "      <td>0.010260</td>\n",
              "      <td>-0.009929</td>\n",
              "      <td>-12.639535</td>\n",
              "      <td>-10.234849</td>\n",
              "      <td>30.077293</td>\n",
              "      <td>9.578385</td>\n",
              "      <td>...</td>\n",
              "      <td>-1.903201</td>\n",
              "      <td>9.019931</td>\n",
              "      <td>-0.027493</td>\n",
              "      <td>0.009596</td>\n",
              "      <td>-0.008538</td>\n",
              "      <td>10.781965</td>\n",
              "      <td>35.531990</td>\n",
              "      <td>-17.776943</td>\n",
              "      <td>0</td>\n",
              "      <td>1</td>\n",
              "    </tr>\n",
              "    <tr>\n",
              "      <th>1</th>\n",
              "      <td>8.912331</td>\n",
              "      <td>0.391603</td>\n",
              "      <td>4.045956</td>\n",
              "      <td>-0.010874</td>\n",
              "      <td>0.014445</td>\n",
              "      <td>-0.006227</td>\n",
              "      <td>-12.643968</td>\n",
              "      <td>-10.226859</td>\n",
              "      <td>30.069992</td>\n",
              "      <td>9.540294</td>\n",
              "      <td>...</td>\n",
              "      <td>-1.942165</td>\n",
              "      <td>9.052294</td>\n",
              "      <td>-0.016795</td>\n",
              "      <td>0.007321</td>\n",
              "      <td>-0.009379</td>\n",
              "      <td>10.773012</td>\n",
              "      <td>35.535744</td>\n",
              "      <td>-17.793865</td>\n",
              "      <td>0</td>\n",
              "      <td>1</td>\n",
              "    </tr>\n",
              "    <tr>\n",
              "      <th>2</th>\n",
              "      <td>8.889990</td>\n",
              "      <td>0.384217</td>\n",
              "      <td>4.039017</td>\n",
              "      <td>-0.013686</td>\n",
              "      <td>0.012110</td>\n",
              "      <td>-0.005442</td>\n",
              "      <td>-12.647921</td>\n",
              "      <td>-10.220573</td>\n",
              "      <td>30.063656</td>\n",
              "      <td>9.561864</td>\n",
              "      <td>...</td>\n",
              "      <td>-1.965231</td>\n",
              "      <td>9.028006</td>\n",
              "      <td>-0.009752</td>\n",
              "      <td>0.004455</td>\n",
              "      <td>-0.011313</td>\n",
              "      <td>10.768550</td>\n",
              "      <td>35.536934</td>\n",
              "      <td>-17.806589</td>\n",
              "      <td>0</td>\n",
              "      <td>1</td>\n",
              "    </tr>\n",
              "  </tbody>\n",
              "</table>\n",
              "<p>3 rows × 56 columns</p>\n",
              "</div>\n",
              "    <div class=\"colab-df-buttons\">\n",
              "\n",
              "  <div class=\"colab-df-container\">\n",
              "    <button class=\"colab-df-convert\" onclick=\"convertToInteractive('df-f83059d8-549a-42dc-b423-f658b70c3f00')\"\n",
              "            title=\"Convert this dataframe to an interactive table.\"\n",
              "            style=\"display:none;\">\n",
              "\n",
              "  <svg xmlns=\"http://www.w3.org/2000/svg\" height=\"24px\" viewBox=\"0 -960 960 960\">\n",
              "    <path d=\"M120-120v-720h720v720H120Zm60-500h600v-160H180v160Zm220 220h160v-160H400v160Zm0 220h160v-160H400v160ZM180-400h160v-160H180v160Zm440 0h160v-160H620v160ZM180-180h160v-160H180v160Zm440 0h160v-160H620v160Z\"/>\n",
              "  </svg>\n",
              "    </button>\n",
              "\n",
              "  <style>\n",
              "    .colab-df-container {\n",
              "      display:flex;\n",
              "      gap: 12px;\n",
              "    }\n",
              "\n",
              "    .colab-df-convert {\n",
              "      background-color: #E8F0FE;\n",
              "      border: none;\n",
              "      border-radius: 50%;\n",
              "      cursor: pointer;\n",
              "      display: none;\n",
              "      fill: #1967D2;\n",
              "      height: 32px;\n",
              "      padding: 0 0 0 0;\n",
              "      width: 32px;\n",
              "    }\n",
              "\n",
              "    .colab-df-convert:hover {\n",
              "      background-color: #E2EBFA;\n",
              "      box-shadow: 0px 1px 2px rgba(60, 64, 67, 0.3), 0px 1px 3px 1px rgba(60, 64, 67, 0.15);\n",
              "      fill: #174EA6;\n",
              "    }\n",
              "\n",
              "    .colab-df-buttons div {\n",
              "      margin-bottom: 4px;\n",
              "    }\n",
              "\n",
              "    [theme=dark] .colab-df-convert {\n",
              "      background-color: #3B4455;\n",
              "      fill: #D2E3FC;\n",
              "    }\n",
              "\n",
              "    [theme=dark] .colab-df-convert:hover {\n",
              "      background-color: #434B5C;\n",
              "      box-shadow: 0px 1px 3px 1px rgba(0, 0, 0, 0.15);\n",
              "      filter: drop-shadow(0px 1px 2px rgba(0, 0, 0, 0.3));\n",
              "      fill: #FFFFFF;\n",
              "    }\n",
              "  </style>\n",
              "\n",
              "    <script>\n",
              "      const buttonEl =\n",
              "        document.querySelector('#df-f83059d8-549a-42dc-b423-f658b70c3f00 button.colab-df-convert');\n",
              "      buttonEl.style.display =\n",
              "        google.colab.kernel.accessAllowed ? 'block' : 'none';\n",
              "\n",
              "      async function convertToInteractive(key) {\n",
              "        const element = document.querySelector('#df-f83059d8-549a-42dc-b423-f658b70c3f00');\n",
              "        const dataTable =\n",
              "          await google.colab.kernel.invokeFunction('convertToInteractive',\n",
              "                                                    [key], {});\n",
              "        if (!dataTable) return;\n",
              "\n",
              "        const docLinkHtml = 'Like what you see? Visit the ' +\n",
              "          '<a target=\"_blank\" href=https://colab.research.google.com/notebooks/data_table.ipynb>data table notebook</a>'\n",
              "          + ' to learn more about interactive tables.';\n",
              "        element.innerHTML = '';\n",
              "        dataTable['output_type'] = 'display_data';\n",
              "        await google.colab.output.renderOutput(dataTable, element);\n",
              "        const docLink = document.createElement('div');\n",
              "        docLink.innerHTML = docLinkHtml;\n",
              "        element.appendChild(docLink);\n",
              "      }\n",
              "    </script>\n",
              "  </div>\n",
              "\n",
              "\n",
              "<div id=\"df-782bbd47-3000-4e13-b8f7-eb58e4a29926\">\n",
              "  <button class=\"colab-df-quickchart\" onclick=\"quickchart('df-782bbd47-3000-4e13-b8f7-eb58e4a29926')\"\n",
              "            title=\"Suggest charts\"\n",
              "            style=\"display:none;\">\n",
              "\n",
              "<svg xmlns=\"http://www.w3.org/2000/svg\" height=\"24px\"viewBox=\"0 0 24 24\"\n",
              "     width=\"24px\">\n",
              "    <g>\n",
              "        <path d=\"M19 3H5c-1.1 0-2 .9-2 2v14c0 1.1.9 2 2 2h14c1.1 0 2-.9 2-2V5c0-1.1-.9-2-2-2zM9 17H7v-7h2v7zm4 0h-2V7h2v10zm4 0h-2v-4h2v4z\"/>\n",
              "    </g>\n",
              "</svg>\n",
              "  </button>\n",
              "\n",
              "<style>\n",
              "  .colab-df-quickchart {\n",
              "      --bg-color: #E8F0FE;\n",
              "      --fill-color: #1967D2;\n",
              "      --hover-bg-color: #E2EBFA;\n",
              "      --hover-fill-color: #174EA6;\n",
              "      --disabled-fill-color: #AAA;\n",
              "      --disabled-bg-color: #DDD;\n",
              "  }\n",
              "\n",
              "  [theme=dark] .colab-df-quickchart {\n",
              "      --bg-color: #3B4455;\n",
              "      --fill-color: #D2E3FC;\n",
              "      --hover-bg-color: #434B5C;\n",
              "      --hover-fill-color: #FFFFFF;\n",
              "      --disabled-bg-color: #3B4455;\n",
              "      --disabled-fill-color: #666;\n",
              "  }\n",
              "\n",
              "  .colab-df-quickchart {\n",
              "    background-color: var(--bg-color);\n",
              "    border: none;\n",
              "    border-radius: 50%;\n",
              "    cursor: pointer;\n",
              "    display: none;\n",
              "    fill: var(--fill-color);\n",
              "    height: 32px;\n",
              "    padding: 0;\n",
              "    width: 32px;\n",
              "  }\n",
              "\n",
              "  .colab-df-quickchart:hover {\n",
              "    background-color: var(--hover-bg-color);\n",
              "    box-shadow: 0 1px 2px rgba(60, 64, 67, 0.3), 0 1px 3px 1px rgba(60, 64, 67, 0.15);\n",
              "    fill: var(--button-hover-fill-color);\n",
              "  }\n",
              "\n",
              "  .colab-df-quickchart-complete:disabled,\n",
              "  .colab-df-quickchart-complete:disabled:hover {\n",
              "    background-color: var(--disabled-bg-color);\n",
              "    fill: var(--disabled-fill-color);\n",
              "    box-shadow: none;\n",
              "  }\n",
              "\n",
              "  .colab-df-spinner {\n",
              "    border: 2px solid var(--fill-color);\n",
              "    border-color: transparent;\n",
              "    border-bottom-color: var(--fill-color);\n",
              "    animation:\n",
              "      spin 1s steps(1) infinite;\n",
              "  }\n",
              "\n",
              "  @keyframes spin {\n",
              "    0% {\n",
              "      border-color: transparent;\n",
              "      border-bottom-color: var(--fill-color);\n",
              "      border-left-color: var(--fill-color);\n",
              "    }\n",
              "    20% {\n",
              "      border-color: transparent;\n",
              "      border-left-color: var(--fill-color);\n",
              "      border-top-color: var(--fill-color);\n",
              "    }\n",
              "    30% {\n",
              "      border-color: transparent;\n",
              "      border-left-color: var(--fill-color);\n",
              "      border-top-color: var(--fill-color);\n",
              "      border-right-color: var(--fill-color);\n",
              "    }\n",
              "    40% {\n",
              "      border-color: transparent;\n",
              "      border-right-color: var(--fill-color);\n",
              "      border-top-color: var(--fill-color);\n",
              "    }\n",
              "    60% {\n",
              "      border-color: transparent;\n",
              "      border-right-color: var(--fill-color);\n",
              "    }\n",
              "    80% {\n",
              "      border-color: transparent;\n",
              "      border-right-color: var(--fill-color);\n",
              "      border-bottom-color: var(--fill-color);\n",
              "    }\n",
              "    90% {\n",
              "      border-color: transparent;\n",
              "      border-bottom-color: var(--fill-color);\n",
              "    }\n",
              "  }\n",
              "</style>\n",
              "\n",
              "  <script>\n",
              "    async function quickchart(key) {\n",
              "      const quickchartButtonEl =\n",
              "        document.querySelector('#' + key + ' button');\n",
              "      quickchartButtonEl.disabled = true;  // To prevent multiple clicks.\n",
              "      quickchartButtonEl.classList.add('colab-df-spinner');\n",
              "      try {\n",
              "        const charts = await google.colab.kernel.invokeFunction(\n",
              "            'suggestCharts', [key], {});\n",
              "      } catch (error) {\n",
              "        console.error('Error during call to suggestCharts:', error);\n",
              "      }\n",
              "      quickchartButtonEl.classList.remove('colab-df-spinner');\n",
              "      quickchartButtonEl.classList.add('colab-df-quickchart-complete');\n",
              "    }\n",
              "    (() => {\n",
              "      let quickchartButtonEl =\n",
              "        document.querySelector('#df-782bbd47-3000-4e13-b8f7-eb58e4a29926 button');\n",
              "      quickchartButtonEl.style.display =\n",
              "        google.colab.kernel.accessAllowed ? 'block' : 'none';\n",
              "    })();\n",
              "  </script>\n",
              "</div>\n",
              "\n",
              "    </div>\n",
              "  </div>\n"
            ],
            "application/vnd.google.colaboratory.intrinsic+json": {
              "type": "dataframe",
              "variable_name": "cleaned_dataImu"
            }
          },
          "metadata": {},
          "execution_count": 36
        }
      ]
    },
    {
      "cell_type": "code",
      "source": [
        "print(\"Catégories dans IPS:\", cleaned_dataIps['categorie'].unique())\n",
        "print(\"Catégories dans IMU:\", cleaned_dataImu['categorie'].unique())\n",
        "print(\"Catégories dans EMG:\", cleaned_dataEmg['categorie'].unique())"
      ],
      "metadata": {
        "colab": {
          "base_uri": "https://localhost:8080/"
        },
        "id": "S3Tj1nGrVoZF",
        "outputId": "fb7efaf2-7832-4bb4-e40e-5e6595462cd1"
      },
      "execution_count": 20,
      "outputs": [
        {
          "output_type": "stream",
          "name": "stdout",
          "text": [
            "Catégories dans IPS: [0 1 2 3]\n",
            "Catégories dans IMU: [0 1 2 3]\n",
            "Catégories dans EMG: [0 1 2 3]\n"
          ]
        }
      ]
    },
    {
      "cell_type": "code",
      "source": [
        "print(\"imu cleaned shape : \", cleaned_dataImu.shape)\n",
        "print(\"emg cleaned shape : \", cleaned_dataEmg.shape)\n",
        "print(\"ips cleaned shape : \", cleaned_dataIps.shape)"
      ],
      "metadata": {
        "colab": {
          "base_uri": "https://localhost:8080/"
        },
        "id": "i32UvMU4yR4f",
        "outputId": "ee3e2c5c-6971-460f-f922-a1f08e892054"
      },
      "execution_count": null,
      "outputs": [
        {
          "output_type": "stream",
          "name": "stdout",
          "text": [
            "imu cleaned shape :  (548712, 56)\n",
            "emg cleaned shape :  (11029891, 18)\n",
            "ips cleaned shape :  (171743, 684)\n"
          ]
        }
      ]
    },
    {
      "cell_type": "code",
      "source": [
        "print(\"index of EMG : \" , cleaned_dataEmg.index)\n",
        "print(\"index of IMU : \" , cleaned_dataImu.index)"
      ],
      "metadata": {
        "colab": {
          "base_uri": "https://localhost:8080/"
        },
        "id": "8eMlBiVlyHXG",
        "outputId": "13f8a42a-05e9-4135-be59-897b36d36871"
      },
      "execution_count": null,
      "outputs": [
        {
          "output_type": "stream",
          "name": "stdout",
          "text": [
            "index of EMG :  Index([       0,        1,        2,        3,        4,        5,        6,\n",
            "              7,        8,        9,\n",
            "       ...\n",
            "       11029881, 11029882, 11029883, 11029884, 11029885, 11029886, 11029887,\n",
            "       11029888, 11029889, 11029890],\n",
            "      dtype='int64', length=11029891)\n",
            "index of IMU :  Index([     0,      1,      2,      3,      4,      5,      6,      7,      8,\n",
            "            9,\n",
            "       ...\n",
            "       551494, 551495, 551496, 551497, 551498, 551499, 551500, 551501, 551502,\n",
            "       551503],\n",
            "      dtype='int64', length=548712)\n"
          ]
        }
      ]
    },
    {
      "cell_type": "code",
      "source": [
        "processed_data_path = '/content/drive/MyDrive/MovePort/processedData'\n",
        "\n",
        "emg_cleaned = pd.DataFrame(cleaned_dataEmg)\n",
        "imu_cleaned = pd.DataFrame(cleaned_dataImu)\n",
        "ips_cleaned = pd.DataFrame(cleaned_dataIps)"
      ],
      "metadata": {
        "id": "KIeBUbPZQ_ya"
      },
      "execution_count": 22,
      "outputs": []
    },
    {
      "cell_type": "code",
      "source": [
        "emg_cleaned.to_csv(os.path.join(processed_data_path, 'emg_cleaned.csv'), index=False)\n",
        "imu_cleaned.to_csv(os.path.join(processed_data_path, 'imu_cleaned.csv'), index=False)\n",
        "ips_cleaned.to_csv(os.path.join(processed_data_path, 'ips_cleaned.csv'), index=False)"
      ],
      "metadata": {
        "id": "7c3IDLalRT7O"
      },
      "execution_count": 23,
      "outputs": []
    },
    {
      "cell_type": "code",
      "source": [
        "# juste for test\n",
        "\"\"\"def estimate_frequency(sample_count, duration_seconds):\n",
        "\n",
        "    freq_hz = sample_count / duration_seconds\n",
        "    return freq_hz\n",
        "emg_sample_count = cleaned_dataEmg.shape[0]\n",
        "imu_sample_count = cleaned_dataImu.shape[0]\n",
        "ips_sample_count = cleaned_dataIps.shape[0]\n",
        "\n",
        "emg_freq = estimate_frequency(emg_sample_count, 2000)\n",
        "imu_freq = estimate_frequency(imu_sample_count, 100)\n",
        "ips_freq = estimate_frequency(ips_sample_count, 35)\n",
        "\n",
        "print(f\"EMG Frequency: {emg_freq:.2f} Hz\")\n",
        "print(f\"IMU Frequency: {imu_freq:.2f} Hz\")\n",
        "print(f\"IPS Frequency: {ips_freq:.2f} Hz\")\"\"\"\n"
      ],
      "metadata": {
        "colab": {
          "base_uri": "https://localhost:8080/",
          "height": 89
        },
        "id": "klWQM4pSEBDW",
        "outputId": "ffcc4f30-b4fc-44ba-c5ff-8ab1e4d080bb"
      },
      "execution_count": null,
      "outputs": [
        {
          "output_type": "execute_result",
          "data": {
            "text/plain": [
              "'def estimate_frequency(sample_count, duration_seconds):\\n\\n    freq_hz = sample_count / duration_seconds\\n    return freq_hz\\nemg_sample_count = cleaned_dataEmg.shape[0]\\nimu_sample_count = cleaned_dataImu.shape[0]\\nips_sample_count = cleaned_dataIps.shape[0]\\n\\nemg_freq = estimate_frequency(emg_sample_count, 2000)\\nimu_freq = estimate_frequency(imu_sample_count, 100)\\nips_freq = estimate_frequency(ips_sample_count, 35)\\n\\nprint(f\"EMG Frequency: {emg_freq:.2f} Hz\")\\nprint(f\"IMU Frequency: {imu_freq:.2f} Hz\")\\nprint(f\"IPS Frequency: {ips_freq:.2f} Hz\")'"
            ],
            "application/vnd.google.colaboratory.intrinsic+json": {
              "type": "string"
            }
          },
          "metadata": {},
          "execution_count": 33
        }
      ]
    },
    {
      "cell_type": "code",
      "source": [
        "\"\"\"def plot_data_comparison(original_df, resampled_df, modality_name):\n",
        "\n",
        "  plt.figure(figsize=(14, 6))\n",
        "  # Comparaison de la première colonne\n",
        "  original_column = original_df.columns[0]\n",
        "  resampled_column = resampled_df.columns[0]\n",
        "  # Plot des données originales\n",
        "  plt.subplot(1, 2, 1)\n",
        "  plt.plot(original_df.index, original_df[original_column], label='Original')\n",
        "  plt.title(f'{modality_name} - Original Data')\n",
        "  plt.xlabel('Time Index')\n",
        "  plt.ylabel('Value')\n",
        "  plt.legend()\n",
        "  # Plot des données rééchantillonnées\n",
        "  plt.subplot(1, 2, 2)\n",
        "  plt.plot(resampled_df.index, resampled_df[resampled_column], label='Resampled', color='orange')\n",
        "  plt.title(f'{modality_name} - Resampled Data')\n",
        "  plt.xlabel('Time Index')\n",
        "  plt.ylabel('Value')\n",
        "  plt.legend()\n",
        "\n",
        "  plt.tight_layout()\n",
        "  plt.show()\"\"\""
      ],
      "metadata": {
        "id": "39DH2gnW3laV",
        "colab": {
          "base_uri": "https://localhost:8080/",
          "height": 89
        },
        "outputId": "0f76a851-d888-487f-9911-644f286c3cd0"
      },
      "execution_count": null,
      "outputs": [
        {
          "output_type": "execute_result",
          "data": {
            "text/plain": [
              "\"def plot_data_comparison(original_df, resampled_df, modality_name):\\n\\n  plt.figure(figsize=(14, 6))\\n  # Comparaison de la première colonne\\n  original_column = original_df.columns[0]\\n  resampled_column = resampled_df.columns[0]\\n  # Plot des données originales\\n  plt.subplot(1, 2, 1)\\n  plt.plot(original_df.index, original_df[original_column], label='Original')\\n  plt.title(f'{modality_name} - Original Data')\\n  plt.xlabel('Time Index')\\n  plt.ylabel('Value')\\n  plt.legend()\\n  # Plot des données rééchantillonnées\\n  plt.subplot(1, 2, 2)\\n  plt.plot(resampled_df.index, resampled_df[resampled_column], label='Resampled', color='orange')\\n  plt.title(f'{modality_name} - Resampled Data')\\n  plt.xlabel('Time Index')\\n  plt.ylabel('Value')\\n  plt.legend()\\n\\n  plt.tight_layout()\\n  plt.show()\""
            ],
            "application/vnd.google.colaboratory.intrinsic+json": {
              "type": "string"
            }
          },
          "metadata": {},
          "execution_count": 52
        }
      ]
    },
    {
      "cell_type": "code",
      "source": [
        "\"\"\"def resampling(dataset, target_duration, original_freq, desired_frequency, debug=False):\n",
        "  # Si les fréquences sont déjà égales, renvoyer le dataset original\n",
        "  if original_freq == desired_frequency:\n",
        "    return dataset\n",
        "\n",
        "  # Vérifier et gérer les colonnes ignorées\n",
        "  \"\"\"ignore_columns=['categorie', 'id']\n",
        "  ignore_columns = [col for col in ignore_columns if col in dataset.columns]\n",
        "  if ignore_columns in dataset.columns :\n",
        "    dataset = dataset.drop(columns=ignore_columns)\"\"\"\n",
        "  # Ajout d'une colonne temporelle au dataset d'origine\n",
        "  dataset['time'] = pd.date_range(\n",
        "    start='00:00:00',\n",
        "    periods=len(dataset),\n",
        "    freq=f'{int(1e6 / original_freq)}us'\n",
        "  )\n",
        "  # Durée totale de l'enregistrement\n",
        "  total_duration = target_duration  # en secondes\n",
        "\n",
        "  # Crée une série temporelle alignée avec la fréquence cible\n",
        "  desired_points = int(total_duration * desired_frequency)  # Nombre de points nécessaires à la fréquence cible\n",
        "  desired_time = pd.date_range(\n",
        "    start='00:00:00',\n",
        "    periods=desired_points,\n",
        "    freq=f'{int(1e6 / desired_frequency)}us'\n",
        "  )\n",
        "\n",
        "  # Définir 'time' comme index pour le rééchantillonnage\n",
        "  dataset.set_index('time', inplace=True)\n",
        "  # Rééchantillonner en interpolant les valeurs pour correspondre à la série temporelle cible\n",
        "  resampled_df = dataset.reindex(desired_time).interpolate(method='linear')\n",
        "  # Supprimer l'index temporel après rééchantillonnage\n",
        "  resampled_df.reset_index(drop=True, inplace=True)\n",
        "  # Debug : afficher des informations sur le rééchantillonnage\n",
        "  if debug:\n",
        "    print(f\"Nombre de points avant rééchantillonnage : {len(dataset)} à {original_freq} Hz\")\n",
        "    print(f\"Nombre de points après rééchantillonnage : {len(resampled_df)} à {desired_frequency} Hz\")\n",
        "\n",
        "  return resampled_df\"\"\""
      ],
      "metadata": {
        "id": "EmckFSqk1iu1"
      },
      "execution_count": 29,
      "outputs": []
    },
    {
      "cell_type": "code",
      "source": [
        "# Durée totale (en secondes) basée sur les données IPS à 60 Hz\n",
        "total_duration = len(cleaned_dataIps) / 60  # IPS déjà à 60 Hz\n",
        "\n",
        "ips_resampled = resampling(cleaned_dataIps.copy(), total_duration, original_freq=60, desired_frequency=60, debug=True)\n",
        "imu_resampled = resampling(cleaned_dataImu.copy(), total_duration, original_freq=100, desired_frequency=60, debug=True)\n",
        "emg_resampled = resampling(cleaned_dataEmg.copy(), total_duration, original_freq=2000, desired_frequency=60, debug=True)"
      ],
      "metadata": {
        "id": "KIZcesNgCUQB",
        "colab": {
          "base_uri": "https://localhost:8080/"
        },
        "outputId": "be33e1c8-ad96-461e-fe70-91920115be50"
      },
      "execution_count": 30,
      "outputs": [
        {
          "output_type": "stream",
          "name": "stdout",
          "text": [
            "Nombre de points avant rééchantillonnage : 431854 à 100 Hz\n",
            "Nombre de points après rééchantillonnage : 129151 à 60 Hz\n",
            "Nombre de points avant rééchantillonnage : 8638506 à 2000 Hz\n",
            "Nombre de points après rééchantillonnage : 129151 à 60 Hz\n"
          ]
        }
      ]
    },
    {
      "cell_type": "code",
      "source": [
        "print(\"imu resampled shape : \", imu_resampled.shape)\n",
        "print(\"emg resampled shape : \", emg_resampled.shape)\n",
        "print(\"ips resampled shape : \", ips_resampled.shape)"
      ],
      "metadata": {
        "colab": {
          "base_uri": "https://localhost:8080/"
        },
        "id": "5V_S3e1yoAkL",
        "outputId": "c06c82ef-f79d-4d84-c737-c60dd89b61b7"
      },
      "execution_count": 31,
      "outputs": [
        {
          "output_type": "stream",
          "name": "stdout",
          "text": [
            "imu resampled shape :  (129151, 56)\n",
            "emg resampled shape :  (129151, 18)\n",
            "ips resampled shape :  (129151, 684)\n"
          ]
        }
      ]
    },
    {
      "cell_type": "code",
      "source": [
        "imu_resampled.head(3)"
      ],
      "metadata": {
        "colab": {
          "base_uri": "https://localhost:8080/",
          "height": 210
        },
        "id": "U5D9F2H-x8VF",
        "outputId": "b505f882-a613-4c3f-b08d-068c47303508"
      },
      "execution_count": null,
      "outputs": [
        {
          "output_type": "execute_result",
          "data": {
            "text/plain": [
              "Unnamed: 0  Head_Acc_X  Head_Acc_Y  Head_Acc_Z  Head_Gyr_X  Head_Gyr_Y  \\\n",
              "0             8.902975    0.412529    4.052022   -0.015015    0.010260   \n",
              "1             8.902772    0.412443    4.052364   -0.015010    0.010255   \n",
              "2             8.902568    0.412356    4.052706   -0.015005    0.010250   \n",
              "\n",
              "Unnamed: 0  Head_Gyr_Z  Head_Roll  Head_Pitch   Head_Yaw  Waist_Acc_X  ...  \\\n",
              "0            -0.009929 -12.639535  -10.234849  30.077293     9.578385  ...   \n",
              "1            -0.009926 -12.641062  -10.232953  30.077219     9.578046  ...   \n",
              "2            -0.009923 -12.642589  -10.231056  30.077147     9.577707  ...   \n",
              "\n",
              "Unnamed: 0  R_F_Acc_Y  R_F_Acc_Z  R_F_Gyr_X  R_F_Gyr_Y  R_F_Gyr_Z   R_F_Roll  \\\n",
              "0           -1.903201   9.019931  -0.027493   0.009596  -0.008538  10.781965   \n",
              "1           -1.903192   9.019924  -0.027488   0.009595  -0.008536  10.782005   \n",
              "2           -1.903184   9.019917  -0.027483   0.009593  -0.008533  10.782044   \n",
              "\n",
              "Unnamed: 0  R_F_Pitch    R_F_Yaw  categorie   id  \n",
              "0           35.531990 -17.776943     0.0000  1.0  \n",
              "1           35.531818 -17.774742     0.0002  1.0  \n",
              "2           35.531651 -17.772543     0.0004  1.0  \n",
              "\n",
              "[3 rows x 56 columns]"
            ],
            "text/html": [
              "\n",
              "  <div id=\"df-8ac27457-5d13-4e59-9ac2-cbffbb8e71e8\" class=\"colab-df-container\">\n",
              "    <div>\n",
              "<style scoped>\n",
              "    .dataframe tbody tr th:only-of-type {\n",
              "        vertical-align: middle;\n",
              "    }\n",
              "\n",
              "    .dataframe tbody tr th {\n",
              "        vertical-align: top;\n",
              "    }\n",
              "\n",
              "    .dataframe thead th {\n",
              "        text-align: right;\n",
              "    }\n",
              "</style>\n",
              "<table border=\"1\" class=\"dataframe\">\n",
              "  <thead>\n",
              "    <tr style=\"text-align: right;\">\n",
              "      <th>Unnamed: 0</th>\n",
              "      <th>Head_Acc_X</th>\n",
              "      <th>Head_Acc_Y</th>\n",
              "      <th>Head_Acc_Z</th>\n",
              "      <th>Head_Gyr_X</th>\n",
              "      <th>Head_Gyr_Y</th>\n",
              "      <th>Head_Gyr_Z</th>\n",
              "      <th>Head_Roll</th>\n",
              "      <th>Head_Pitch</th>\n",
              "      <th>Head_Yaw</th>\n",
              "      <th>Waist_Acc_X</th>\n",
              "      <th>...</th>\n",
              "      <th>R_F_Acc_Y</th>\n",
              "      <th>R_F_Acc_Z</th>\n",
              "      <th>R_F_Gyr_X</th>\n",
              "      <th>R_F_Gyr_Y</th>\n",
              "      <th>R_F_Gyr_Z</th>\n",
              "      <th>R_F_Roll</th>\n",
              "      <th>R_F_Pitch</th>\n",
              "      <th>R_F_Yaw</th>\n",
              "      <th>categorie</th>\n",
              "      <th>id</th>\n",
              "    </tr>\n",
              "  </thead>\n",
              "  <tbody>\n",
              "    <tr>\n",
              "      <th>0</th>\n",
              "      <td>8.902975</td>\n",
              "      <td>0.412529</td>\n",
              "      <td>4.052022</td>\n",
              "      <td>-0.015015</td>\n",
              "      <td>0.010260</td>\n",
              "      <td>-0.009929</td>\n",
              "      <td>-12.639535</td>\n",
              "      <td>-10.234849</td>\n",
              "      <td>30.077293</td>\n",
              "      <td>9.578385</td>\n",
              "      <td>...</td>\n",
              "      <td>-1.903201</td>\n",
              "      <td>9.019931</td>\n",
              "      <td>-0.027493</td>\n",
              "      <td>0.009596</td>\n",
              "      <td>-0.008538</td>\n",
              "      <td>10.781965</td>\n",
              "      <td>35.531990</td>\n",
              "      <td>-17.776943</td>\n",
              "      <td>0.0000</td>\n",
              "      <td>1.0</td>\n",
              "    </tr>\n",
              "    <tr>\n",
              "      <th>1</th>\n",
              "      <td>8.902772</td>\n",
              "      <td>0.412443</td>\n",
              "      <td>4.052364</td>\n",
              "      <td>-0.015010</td>\n",
              "      <td>0.010255</td>\n",
              "      <td>-0.009926</td>\n",
              "      <td>-12.641062</td>\n",
              "      <td>-10.232953</td>\n",
              "      <td>30.077219</td>\n",
              "      <td>9.578046</td>\n",
              "      <td>...</td>\n",
              "      <td>-1.903192</td>\n",
              "      <td>9.019924</td>\n",
              "      <td>-0.027488</td>\n",
              "      <td>0.009595</td>\n",
              "      <td>-0.008536</td>\n",
              "      <td>10.782005</td>\n",
              "      <td>35.531818</td>\n",
              "      <td>-17.774742</td>\n",
              "      <td>0.0002</td>\n",
              "      <td>1.0</td>\n",
              "    </tr>\n",
              "    <tr>\n",
              "      <th>2</th>\n",
              "      <td>8.902568</td>\n",
              "      <td>0.412356</td>\n",
              "      <td>4.052706</td>\n",
              "      <td>-0.015005</td>\n",
              "      <td>0.010250</td>\n",
              "      <td>-0.009923</td>\n",
              "      <td>-12.642589</td>\n",
              "      <td>-10.231056</td>\n",
              "      <td>30.077147</td>\n",
              "      <td>9.577707</td>\n",
              "      <td>...</td>\n",
              "      <td>-1.903184</td>\n",
              "      <td>9.019917</td>\n",
              "      <td>-0.027483</td>\n",
              "      <td>0.009593</td>\n",
              "      <td>-0.008533</td>\n",
              "      <td>10.782044</td>\n",
              "      <td>35.531651</td>\n",
              "      <td>-17.772543</td>\n",
              "      <td>0.0004</td>\n",
              "      <td>1.0</td>\n",
              "    </tr>\n",
              "  </tbody>\n",
              "</table>\n",
              "<p>3 rows × 56 columns</p>\n",
              "</div>\n",
              "    <div class=\"colab-df-buttons\">\n",
              "\n",
              "  <div class=\"colab-df-container\">\n",
              "    <button class=\"colab-df-convert\" onclick=\"convertToInteractive('df-8ac27457-5d13-4e59-9ac2-cbffbb8e71e8')\"\n",
              "            title=\"Convert this dataframe to an interactive table.\"\n",
              "            style=\"display:none;\">\n",
              "\n",
              "  <svg xmlns=\"http://www.w3.org/2000/svg\" height=\"24px\" viewBox=\"0 -960 960 960\">\n",
              "    <path d=\"M120-120v-720h720v720H120Zm60-500h600v-160H180v160Zm220 220h160v-160H400v160Zm0 220h160v-160H400v160ZM180-400h160v-160H180v160Zm440 0h160v-160H620v160ZM180-180h160v-160H180v160Zm440 0h160v-160H620v160Z\"/>\n",
              "  </svg>\n",
              "    </button>\n",
              "\n",
              "  <style>\n",
              "    .colab-df-container {\n",
              "      display:flex;\n",
              "      gap: 12px;\n",
              "    }\n",
              "\n",
              "    .colab-df-convert {\n",
              "      background-color: #E8F0FE;\n",
              "      border: none;\n",
              "      border-radius: 50%;\n",
              "      cursor: pointer;\n",
              "      display: none;\n",
              "      fill: #1967D2;\n",
              "      height: 32px;\n",
              "      padding: 0 0 0 0;\n",
              "      width: 32px;\n",
              "    }\n",
              "\n",
              "    .colab-df-convert:hover {\n",
              "      background-color: #E2EBFA;\n",
              "      box-shadow: 0px 1px 2px rgba(60, 64, 67, 0.3), 0px 1px 3px 1px rgba(60, 64, 67, 0.15);\n",
              "      fill: #174EA6;\n",
              "    }\n",
              "\n",
              "    .colab-df-buttons div {\n",
              "      margin-bottom: 4px;\n",
              "    }\n",
              "\n",
              "    [theme=dark] .colab-df-convert {\n",
              "      background-color: #3B4455;\n",
              "      fill: #D2E3FC;\n",
              "    }\n",
              "\n",
              "    [theme=dark] .colab-df-convert:hover {\n",
              "      background-color: #434B5C;\n",
              "      box-shadow: 0px 1px 3px 1px rgba(0, 0, 0, 0.15);\n",
              "      filter: drop-shadow(0px 1px 2px rgba(0, 0, 0, 0.3));\n",
              "      fill: #FFFFFF;\n",
              "    }\n",
              "  </style>\n",
              "\n",
              "    <script>\n",
              "      const buttonEl =\n",
              "        document.querySelector('#df-8ac27457-5d13-4e59-9ac2-cbffbb8e71e8 button.colab-df-convert');\n",
              "      buttonEl.style.display =\n",
              "        google.colab.kernel.accessAllowed ? 'block' : 'none';\n",
              "\n",
              "      async function convertToInteractive(key) {\n",
              "        const element = document.querySelector('#df-8ac27457-5d13-4e59-9ac2-cbffbb8e71e8');\n",
              "        const dataTable =\n",
              "          await google.colab.kernel.invokeFunction('convertToInteractive',\n",
              "                                                    [key], {});\n",
              "        if (!dataTable) return;\n",
              "\n",
              "        const docLinkHtml = 'Like what you see? Visit the ' +\n",
              "          '<a target=\"_blank\" href=https://colab.research.google.com/notebooks/data_table.ipynb>data table notebook</a>'\n",
              "          + ' to learn more about interactive tables.';\n",
              "        element.innerHTML = '';\n",
              "        dataTable['output_type'] = 'display_data';\n",
              "        await google.colab.output.renderOutput(dataTable, element);\n",
              "        const docLink = document.createElement('div');\n",
              "        docLink.innerHTML = docLinkHtml;\n",
              "        element.appendChild(docLink);\n",
              "      }\n",
              "    </script>\n",
              "  </div>\n",
              "\n",
              "\n",
              "<div id=\"df-dedbc005-b8de-488e-bfa1-2b9e3544e49c\">\n",
              "  <button class=\"colab-df-quickchart\" onclick=\"quickchart('df-dedbc005-b8de-488e-bfa1-2b9e3544e49c')\"\n",
              "            title=\"Suggest charts\"\n",
              "            style=\"display:none;\">\n",
              "\n",
              "<svg xmlns=\"http://www.w3.org/2000/svg\" height=\"24px\"viewBox=\"0 0 24 24\"\n",
              "     width=\"24px\">\n",
              "    <g>\n",
              "        <path d=\"M19 3H5c-1.1 0-2 .9-2 2v14c0 1.1.9 2 2 2h14c1.1 0 2-.9 2-2V5c0-1.1-.9-2-2-2zM9 17H7v-7h2v7zm4 0h-2V7h2v10zm4 0h-2v-4h2v4z\"/>\n",
              "    </g>\n",
              "</svg>\n",
              "  </button>\n",
              "\n",
              "<style>\n",
              "  .colab-df-quickchart {\n",
              "      --bg-color: #E8F0FE;\n",
              "      --fill-color: #1967D2;\n",
              "      --hover-bg-color: #E2EBFA;\n",
              "      --hover-fill-color: #174EA6;\n",
              "      --disabled-fill-color: #AAA;\n",
              "      --disabled-bg-color: #DDD;\n",
              "  }\n",
              "\n",
              "  [theme=dark] .colab-df-quickchart {\n",
              "      --bg-color: #3B4455;\n",
              "      --fill-color: #D2E3FC;\n",
              "      --hover-bg-color: #434B5C;\n",
              "      --hover-fill-color: #FFFFFF;\n",
              "      --disabled-bg-color: #3B4455;\n",
              "      --disabled-fill-color: #666;\n",
              "  }\n",
              "\n",
              "  .colab-df-quickchart {\n",
              "    background-color: var(--bg-color);\n",
              "    border: none;\n",
              "    border-radius: 50%;\n",
              "    cursor: pointer;\n",
              "    display: none;\n",
              "    fill: var(--fill-color);\n",
              "    height: 32px;\n",
              "    padding: 0;\n",
              "    width: 32px;\n",
              "  }\n",
              "\n",
              "  .colab-df-quickchart:hover {\n",
              "    background-color: var(--hover-bg-color);\n",
              "    box-shadow: 0 1px 2px rgba(60, 64, 67, 0.3), 0 1px 3px 1px rgba(60, 64, 67, 0.15);\n",
              "    fill: var(--button-hover-fill-color);\n",
              "  }\n",
              "\n",
              "  .colab-df-quickchart-complete:disabled,\n",
              "  .colab-df-quickchart-complete:disabled:hover {\n",
              "    background-color: var(--disabled-bg-color);\n",
              "    fill: var(--disabled-fill-color);\n",
              "    box-shadow: none;\n",
              "  }\n",
              "\n",
              "  .colab-df-spinner {\n",
              "    border: 2px solid var(--fill-color);\n",
              "    border-color: transparent;\n",
              "    border-bottom-color: var(--fill-color);\n",
              "    animation:\n",
              "      spin 1s steps(1) infinite;\n",
              "  }\n",
              "\n",
              "  @keyframes spin {\n",
              "    0% {\n",
              "      border-color: transparent;\n",
              "      border-bottom-color: var(--fill-color);\n",
              "      border-left-color: var(--fill-color);\n",
              "    }\n",
              "    20% {\n",
              "      border-color: transparent;\n",
              "      border-left-color: var(--fill-color);\n",
              "      border-top-color: var(--fill-color);\n",
              "    }\n",
              "    30% {\n",
              "      border-color: transparent;\n",
              "      border-left-color: var(--fill-color);\n",
              "      border-top-color: var(--fill-color);\n",
              "      border-right-color: var(--fill-color);\n",
              "    }\n",
              "    40% {\n",
              "      border-color: transparent;\n",
              "      border-right-color: var(--fill-color);\n",
              "      border-top-color: var(--fill-color);\n",
              "    }\n",
              "    60% {\n",
              "      border-color: transparent;\n",
              "      border-right-color: var(--fill-color);\n",
              "    }\n",
              "    80% {\n",
              "      border-color: transparent;\n",
              "      border-right-color: var(--fill-color);\n",
              "      border-bottom-color: var(--fill-color);\n",
              "    }\n",
              "    90% {\n",
              "      border-color: transparent;\n",
              "      border-bottom-color: var(--fill-color);\n",
              "    }\n",
              "  }\n",
              "</style>\n",
              "\n",
              "  <script>\n",
              "    async function quickchart(key) {\n",
              "      const quickchartButtonEl =\n",
              "        document.querySelector('#' + key + ' button');\n",
              "      quickchartButtonEl.disabled = true;  // To prevent multiple clicks.\n",
              "      quickchartButtonEl.classList.add('colab-df-spinner');\n",
              "      try {\n",
              "        const charts = await google.colab.kernel.invokeFunction(\n",
              "            'suggestCharts', [key], {});\n",
              "      } catch (error) {\n",
              "        console.error('Error during call to suggestCharts:', error);\n",
              "      }\n",
              "      quickchartButtonEl.classList.remove('colab-df-spinner');\n",
              "      quickchartButtonEl.classList.add('colab-df-quickchart-complete');\n",
              "    }\n",
              "    (() => {\n",
              "      let quickchartButtonEl =\n",
              "        document.querySelector('#df-dedbc005-b8de-488e-bfa1-2b9e3544e49c button');\n",
              "      quickchartButtonEl.style.display =\n",
              "        google.colab.kernel.accessAllowed ? 'block' : 'none';\n",
              "    })();\n",
              "  </script>\n",
              "</div>\n",
              "\n",
              "    </div>\n",
              "  </div>\n"
            ],
            "application/vnd.google.colaboratory.intrinsic+json": {
              "type": "dataframe",
              "variable_name": "imu_resampled"
            }
          },
          "metadata": {},
          "execution_count": 54
        }
      ]
    },
    {
      "cell_type": "code",
      "source": [
        "emg_resampled.head(3)"
      ],
      "metadata": {
        "colab": {
          "base_uri": "https://localhost:8080/",
          "height": 181
        },
        "id": "tawvX0pF9QBr",
        "outputId": "89bd3487-a4de-480c-9eb5-a0e8132cdc3f"
      },
      "execution_count": null,
      "outputs": [
        {
          "output_type": "execute_result",
          "data": {
            "text/plain": [
              "Unnamed: 0    R_Vlat      R_RF      R_ST       R_TA    L_Vlat      L_RF  \\\n",
              "0          -0.704956  1.309204 -2.316284 -20.242310 -6.747437  2.920532   \n",
              "1          -0.719861  1.338611 -2.321118 -20.124683 -6.777246  2.865344   \n",
              "2          -0.734766  1.368018 -2.325952 -20.007055 -6.807055  2.810156   \n",
              "\n",
              "Unnamed: 0      L_ST      L_TA      R_MG       R_LG      R_SOL      R_IL  \\\n",
              "0          -1.208496 -6.948853 -0.906372 -12.387085  54.180908 -2.517700   \n",
              "1          -1.194397 -7.264673 -0.937793 -12.321020  53.984730 -2.537842   \n",
              "2          -1.180298 -7.580493 -0.969214 -12.254956  53.788551 -2.557983   \n",
              "\n",
              "Unnamed: 0      L_MG       L_LG     L_SOL      L_IL  categorie   id  \n",
              "0          -0.704956  10.876465 -3.524780 -3.524780        0.0  1.0  \n",
              "1          -0.694482  10.852697 -3.522766 -3.511084        0.0  1.0  \n",
              "2          -0.684009  10.828931 -3.520752 -3.497388        0.0  1.0  "
            ],
            "text/html": [
              "\n",
              "  <div id=\"df-849d3f60-8906-43b4-9e62-5be82216737e\" class=\"colab-df-container\">\n",
              "    <div>\n",
              "<style scoped>\n",
              "    .dataframe tbody tr th:only-of-type {\n",
              "        vertical-align: middle;\n",
              "    }\n",
              "\n",
              "    .dataframe tbody tr th {\n",
              "        vertical-align: top;\n",
              "    }\n",
              "\n",
              "    .dataframe thead th {\n",
              "        text-align: right;\n",
              "    }\n",
              "</style>\n",
              "<table border=\"1\" class=\"dataframe\">\n",
              "  <thead>\n",
              "    <tr style=\"text-align: right;\">\n",
              "      <th>Unnamed: 0</th>\n",
              "      <th>R_Vlat</th>\n",
              "      <th>R_RF</th>\n",
              "      <th>R_ST</th>\n",
              "      <th>R_TA</th>\n",
              "      <th>L_Vlat</th>\n",
              "      <th>L_RF</th>\n",
              "      <th>L_ST</th>\n",
              "      <th>L_TA</th>\n",
              "      <th>R_MG</th>\n",
              "      <th>R_LG</th>\n",
              "      <th>R_SOL</th>\n",
              "      <th>R_IL</th>\n",
              "      <th>L_MG</th>\n",
              "      <th>L_LG</th>\n",
              "      <th>L_SOL</th>\n",
              "      <th>L_IL</th>\n",
              "      <th>categorie</th>\n",
              "      <th>id</th>\n",
              "    </tr>\n",
              "  </thead>\n",
              "  <tbody>\n",
              "    <tr>\n",
              "      <th>0</th>\n",
              "      <td>-0.704956</td>\n",
              "      <td>1.309204</td>\n",
              "      <td>-2.316284</td>\n",
              "      <td>-20.242310</td>\n",
              "      <td>-6.747437</td>\n",
              "      <td>2.920532</td>\n",
              "      <td>-1.208496</td>\n",
              "      <td>-6.948853</td>\n",
              "      <td>-0.906372</td>\n",
              "      <td>-12.387085</td>\n",
              "      <td>54.180908</td>\n",
              "      <td>-2.517700</td>\n",
              "      <td>-0.704956</td>\n",
              "      <td>10.876465</td>\n",
              "      <td>-3.524780</td>\n",
              "      <td>-3.524780</td>\n",
              "      <td>0.0</td>\n",
              "      <td>1.0</td>\n",
              "    </tr>\n",
              "    <tr>\n",
              "      <th>1</th>\n",
              "      <td>-0.719861</td>\n",
              "      <td>1.338611</td>\n",
              "      <td>-2.321118</td>\n",
              "      <td>-20.124683</td>\n",
              "      <td>-6.777246</td>\n",
              "      <td>2.865344</td>\n",
              "      <td>-1.194397</td>\n",
              "      <td>-7.264673</td>\n",
              "      <td>-0.937793</td>\n",
              "      <td>-12.321020</td>\n",
              "      <td>53.984730</td>\n",
              "      <td>-2.537842</td>\n",
              "      <td>-0.694482</td>\n",
              "      <td>10.852697</td>\n",
              "      <td>-3.522766</td>\n",
              "      <td>-3.511084</td>\n",
              "      <td>0.0</td>\n",
              "      <td>1.0</td>\n",
              "    </tr>\n",
              "    <tr>\n",
              "      <th>2</th>\n",
              "      <td>-0.734766</td>\n",
              "      <td>1.368018</td>\n",
              "      <td>-2.325952</td>\n",
              "      <td>-20.007055</td>\n",
              "      <td>-6.807055</td>\n",
              "      <td>2.810156</td>\n",
              "      <td>-1.180298</td>\n",
              "      <td>-7.580493</td>\n",
              "      <td>-0.969214</td>\n",
              "      <td>-12.254956</td>\n",
              "      <td>53.788551</td>\n",
              "      <td>-2.557983</td>\n",
              "      <td>-0.684009</td>\n",
              "      <td>10.828931</td>\n",
              "      <td>-3.520752</td>\n",
              "      <td>-3.497388</td>\n",
              "      <td>0.0</td>\n",
              "      <td>1.0</td>\n",
              "    </tr>\n",
              "  </tbody>\n",
              "</table>\n",
              "</div>\n",
              "    <div class=\"colab-df-buttons\">\n",
              "\n",
              "  <div class=\"colab-df-container\">\n",
              "    <button class=\"colab-df-convert\" onclick=\"convertToInteractive('df-849d3f60-8906-43b4-9e62-5be82216737e')\"\n",
              "            title=\"Convert this dataframe to an interactive table.\"\n",
              "            style=\"display:none;\">\n",
              "\n",
              "  <svg xmlns=\"http://www.w3.org/2000/svg\" height=\"24px\" viewBox=\"0 -960 960 960\">\n",
              "    <path d=\"M120-120v-720h720v720H120Zm60-500h600v-160H180v160Zm220 220h160v-160H400v160Zm0 220h160v-160H400v160ZM180-400h160v-160H180v160Zm440 0h160v-160H620v160ZM180-180h160v-160H180v160Zm440 0h160v-160H620v160Z\"/>\n",
              "  </svg>\n",
              "    </button>\n",
              "\n",
              "  <style>\n",
              "    .colab-df-container {\n",
              "      display:flex;\n",
              "      gap: 12px;\n",
              "    }\n",
              "\n",
              "    .colab-df-convert {\n",
              "      background-color: #E8F0FE;\n",
              "      border: none;\n",
              "      border-radius: 50%;\n",
              "      cursor: pointer;\n",
              "      display: none;\n",
              "      fill: #1967D2;\n",
              "      height: 32px;\n",
              "      padding: 0 0 0 0;\n",
              "      width: 32px;\n",
              "    }\n",
              "\n",
              "    .colab-df-convert:hover {\n",
              "      background-color: #E2EBFA;\n",
              "      box-shadow: 0px 1px 2px rgba(60, 64, 67, 0.3), 0px 1px 3px 1px rgba(60, 64, 67, 0.15);\n",
              "      fill: #174EA6;\n",
              "    }\n",
              "\n",
              "    .colab-df-buttons div {\n",
              "      margin-bottom: 4px;\n",
              "    }\n",
              "\n",
              "    [theme=dark] .colab-df-convert {\n",
              "      background-color: #3B4455;\n",
              "      fill: #D2E3FC;\n",
              "    }\n",
              "\n",
              "    [theme=dark] .colab-df-convert:hover {\n",
              "      background-color: #434B5C;\n",
              "      box-shadow: 0px 1px 3px 1px rgba(0, 0, 0, 0.15);\n",
              "      filter: drop-shadow(0px 1px 2px rgba(0, 0, 0, 0.3));\n",
              "      fill: #FFFFFF;\n",
              "    }\n",
              "  </style>\n",
              "\n",
              "    <script>\n",
              "      const buttonEl =\n",
              "        document.querySelector('#df-849d3f60-8906-43b4-9e62-5be82216737e button.colab-df-convert');\n",
              "      buttonEl.style.display =\n",
              "        google.colab.kernel.accessAllowed ? 'block' : 'none';\n",
              "\n",
              "      async function convertToInteractive(key) {\n",
              "        const element = document.querySelector('#df-849d3f60-8906-43b4-9e62-5be82216737e');\n",
              "        const dataTable =\n",
              "          await google.colab.kernel.invokeFunction('convertToInteractive',\n",
              "                                                    [key], {});\n",
              "        if (!dataTable) return;\n",
              "\n",
              "        const docLinkHtml = 'Like what you see? Visit the ' +\n",
              "          '<a target=\"_blank\" href=https://colab.research.google.com/notebooks/data_table.ipynb>data table notebook</a>'\n",
              "          + ' to learn more about interactive tables.';\n",
              "        element.innerHTML = '';\n",
              "        dataTable['output_type'] = 'display_data';\n",
              "        await google.colab.output.renderOutput(dataTable, element);\n",
              "        const docLink = document.createElement('div');\n",
              "        docLink.innerHTML = docLinkHtml;\n",
              "        element.appendChild(docLink);\n",
              "      }\n",
              "    </script>\n",
              "  </div>\n",
              "\n",
              "\n",
              "<div id=\"df-e3b6442b-f9f1-449b-ac2c-76c3fb9cdaa6\">\n",
              "  <button class=\"colab-df-quickchart\" onclick=\"quickchart('df-e3b6442b-f9f1-449b-ac2c-76c3fb9cdaa6')\"\n",
              "            title=\"Suggest charts\"\n",
              "            style=\"display:none;\">\n",
              "\n",
              "<svg xmlns=\"http://www.w3.org/2000/svg\" height=\"24px\"viewBox=\"0 0 24 24\"\n",
              "     width=\"24px\">\n",
              "    <g>\n",
              "        <path d=\"M19 3H5c-1.1 0-2 .9-2 2v14c0 1.1.9 2 2 2h14c1.1 0 2-.9 2-2V5c0-1.1-.9-2-2-2zM9 17H7v-7h2v7zm4 0h-2V7h2v10zm4 0h-2v-4h2v4z\"/>\n",
              "    </g>\n",
              "</svg>\n",
              "  </button>\n",
              "\n",
              "<style>\n",
              "  .colab-df-quickchart {\n",
              "      --bg-color: #E8F0FE;\n",
              "      --fill-color: #1967D2;\n",
              "      --hover-bg-color: #E2EBFA;\n",
              "      --hover-fill-color: #174EA6;\n",
              "      --disabled-fill-color: #AAA;\n",
              "      --disabled-bg-color: #DDD;\n",
              "  }\n",
              "\n",
              "  [theme=dark] .colab-df-quickchart {\n",
              "      --bg-color: #3B4455;\n",
              "      --fill-color: #D2E3FC;\n",
              "      --hover-bg-color: #434B5C;\n",
              "      --hover-fill-color: #FFFFFF;\n",
              "      --disabled-bg-color: #3B4455;\n",
              "      --disabled-fill-color: #666;\n",
              "  }\n",
              "\n",
              "  .colab-df-quickchart {\n",
              "    background-color: var(--bg-color);\n",
              "    border: none;\n",
              "    border-radius: 50%;\n",
              "    cursor: pointer;\n",
              "    display: none;\n",
              "    fill: var(--fill-color);\n",
              "    height: 32px;\n",
              "    padding: 0;\n",
              "    width: 32px;\n",
              "  }\n",
              "\n",
              "  .colab-df-quickchart:hover {\n",
              "    background-color: var(--hover-bg-color);\n",
              "    box-shadow: 0 1px 2px rgba(60, 64, 67, 0.3), 0 1px 3px 1px rgba(60, 64, 67, 0.15);\n",
              "    fill: var(--button-hover-fill-color);\n",
              "  }\n",
              "\n",
              "  .colab-df-quickchart-complete:disabled,\n",
              "  .colab-df-quickchart-complete:disabled:hover {\n",
              "    background-color: var(--disabled-bg-color);\n",
              "    fill: var(--disabled-fill-color);\n",
              "    box-shadow: none;\n",
              "  }\n",
              "\n",
              "  .colab-df-spinner {\n",
              "    border: 2px solid var(--fill-color);\n",
              "    border-color: transparent;\n",
              "    border-bottom-color: var(--fill-color);\n",
              "    animation:\n",
              "      spin 1s steps(1) infinite;\n",
              "  }\n",
              "\n",
              "  @keyframes spin {\n",
              "    0% {\n",
              "      border-color: transparent;\n",
              "      border-bottom-color: var(--fill-color);\n",
              "      border-left-color: var(--fill-color);\n",
              "    }\n",
              "    20% {\n",
              "      border-color: transparent;\n",
              "      border-left-color: var(--fill-color);\n",
              "      border-top-color: var(--fill-color);\n",
              "    }\n",
              "    30% {\n",
              "      border-color: transparent;\n",
              "      border-left-color: var(--fill-color);\n",
              "      border-top-color: var(--fill-color);\n",
              "      border-right-color: var(--fill-color);\n",
              "    }\n",
              "    40% {\n",
              "      border-color: transparent;\n",
              "      border-right-color: var(--fill-color);\n",
              "      border-top-color: var(--fill-color);\n",
              "    }\n",
              "    60% {\n",
              "      border-color: transparent;\n",
              "      border-right-color: var(--fill-color);\n",
              "    }\n",
              "    80% {\n",
              "      border-color: transparent;\n",
              "      border-right-color: var(--fill-color);\n",
              "      border-bottom-color: var(--fill-color);\n",
              "    }\n",
              "    90% {\n",
              "      border-color: transparent;\n",
              "      border-bottom-color: var(--fill-color);\n",
              "    }\n",
              "  }\n",
              "</style>\n",
              "\n",
              "  <script>\n",
              "    async function quickchart(key) {\n",
              "      const quickchartButtonEl =\n",
              "        document.querySelector('#' + key + ' button');\n",
              "      quickchartButtonEl.disabled = true;  // To prevent multiple clicks.\n",
              "      quickchartButtonEl.classList.add('colab-df-spinner');\n",
              "      try {\n",
              "        const charts = await google.colab.kernel.invokeFunction(\n",
              "            'suggestCharts', [key], {});\n",
              "      } catch (error) {\n",
              "        console.error('Error during call to suggestCharts:', error);\n",
              "      }\n",
              "      quickchartButtonEl.classList.remove('colab-df-spinner');\n",
              "      quickchartButtonEl.classList.add('colab-df-quickchart-complete');\n",
              "    }\n",
              "    (() => {\n",
              "      let quickchartButtonEl =\n",
              "        document.querySelector('#df-e3b6442b-f9f1-449b-ac2c-76c3fb9cdaa6 button');\n",
              "      quickchartButtonEl.style.display =\n",
              "        google.colab.kernel.accessAllowed ? 'block' : 'none';\n",
              "    })();\n",
              "  </script>\n",
              "</div>\n",
              "\n",
              "    </div>\n",
              "  </div>\n"
            ],
            "application/vnd.google.colaboratory.intrinsic+json": {
              "type": "dataframe",
              "variable_name": "emg_resampled"
            }
          },
          "metadata": {},
          "execution_count": 55
        }
      ]
    },
    {
      "cell_type": "code",
      "source": [
        "ips_resampled.head(3)"
      ],
      "metadata": {
        "colab": {
          "base_uri": "https://localhost:8080/",
          "height": 173
        },
        "id": "XvzgkBaL-DFO",
        "outputId": "1c24b84f-a873-4bda-fbe4-45f99cc8add8"
      },
      "execution_count": null,
      "outputs": [
        {
          "output_type": "execute_result",
          "data": {
            "text/plain": [
              "NaN  0.0  1.0  2.0  3.0  4.0  5.0  6.0   7.0  8.0  9.0  ...  674.0  675.0  \\\n",
              "0    0.0  0.0  0.0  0.0  0.0  0.0  0.0  1.68  0.0  0.0  ...    0.0    0.0   \n",
              "1    0.0  0.0  0.0  0.0  0.0  0.0  0.0  1.46  0.0  0.0  ...    0.0    0.0   \n",
              "2    0.0  0.0  0.0  0.0  0.0  0.0  0.0  1.68  0.0  0.0  ...    0.0    0.0   \n",
              "\n",
              "NaN  676.0  677.0  678.0  679.0  680.0  681.0  categorie  id  \n",
              "0      0.0    0.0    0.0   1.12    0.0    0.0          0   1  \n",
              "1      0.0    0.0    0.0   1.12    0.0    0.0          0   1  \n",
              "2      0.0    0.0    0.0   1.12    0.0    0.0          0   1  \n",
              "\n",
              "[3 rows x 684 columns]"
            ],
            "text/html": [
              "\n",
              "  <div id=\"df-01460766-0cd3-404d-868e-ce3fb7b2d015\" class=\"colab-df-container\">\n",
              "    <div>\n",
              "<style scoped>\n",
              "    .dataframe tbody tr th:only-of-type {\n",
              "        vertical-align: middle;\n",
              "    }\n",
              "\n",
              "    .dataframe tbody tr th {\n",
              "        vertical-align: top;\n",
              "    }\n",
              "\n",
              "    .dataframe thead th {\n",
              "        text-align: right;\n",
              "    }\n",
              "</style>\n",
              "<table border=\"1\" class=\"dataframe\">\n",
              "  <thead>\n",
              "    <tr style=\"text-align: right;\">\n",
              "      <th>NaN</th>\n",
              "      <th>0.0</th>\n",
              "      <th>1.0</th>\n",
              "      <th>2.0</th>\n",
              "      <th>3.0</th>\n",
              "      <th>4.0</th>\n",
              "      <th>5.0</th>\n",
              "      <th>6.0</th>\n",
              "      <th>7.0</th>\n",
              "      <th>8.0</th>\n",
              "      <th>9.0</th>\n",
              "      <th>...</th>\n",
              "      <th>674.0</th>\n",
              "      <th>675.0</th>\n",
              "      <th>676.0</th>\n",
              "      <th>677.0</th>\n",
              "      <th>678.0</th>\n",
              "      <th>679.0</th>\n",
              "      <th>680.0</th>\n",
              "      <th>681.0</th>\n",
              "      <th>categorie</th>\n",
              "      <th>id</th>\n",
              "    </tr>\n",
              "  </thead>\n",
              "  <tbody>\n",
              "    <tr>\n",
              "      <th>0</th>\n",
              "      <td>0.0</td>\n",
              "      <td>0.0</td>\n",
              "      <td>0.0</td>\n",
              "      <td>0.0</td>\n",
              "      <td>0.0</td>\n",
              "      <td>0.0</td>\n",
              "      <td>0.0</td>\n",
              "      <td>1.68</td>\n",
              "      <td>0.0</td>\n",
              "      <td>0.0</td>\n",
              "      <td>...</td>\n",
              "      <td>0.0</td>\n",
              "      <td>0.0</td>\n",
              "      <td>0.0</td>\n",
              "      <td>0.0</td>\n",
              "      <td>0.0</td>\n",
              "      <td>1.12</td>\n",
              "      <td>0.0</td>\n",
              "      <td>0.0</td>\n",
              "      <td>0</td>\n",
              "      <td>1</td>\n",
              "    </tr>\n",
              "    <tr>\n",
              "      <th>1</th>\n",
              "      <td>0.0</td>\n",
              "      <td>0.0</td>\n",
              "      <td>0.0</td>\n",
              "      <td>0.0</td>\n",
              "      <td>0.0</td>\n",
              "      <td>0.0</td>\n",
              "      <td>0.0</td>\n",
              "      <td>1.46</td>\n",
              "      <td>0.0</td>\n",
              "      <td>0.0</td>\n",
              "      <td>...</td>\n",
              "      <td>0.0</td>\n",
              "      <td>0.0</td>\n",
              "      <td>0.0</td>\n",
              "      <td>0.0</td>\n",
              "      <td>0.0</td>\n",
              "      <td>1.12</td>\n",
              "      <td>0.0</td>\n",
              "      <td>0.0</td>\n",
              "      <td>0</td>\n",
              "      <td>1</td>\n",
              "    </tr>\n",
              "    <tr>\n",
              "      <th>2</th>\n",
              "      <td>0.0</td>\n",
              "      <td>0.0</td>\n",
              "      <td>0.0</td>\n",
              "      <td>0.0</td>\n",
              "      <td>0.0</td>\n",
              "      <td>0.0</td>\n",
              "      <td>0.0</td>\n",
              "      <td>1.68</td>\n",
              "      <td>0.0</td>\n",
              "      <td>0.0</td>\n",
              "      <td>...</td>\n",
              "      <td>0.0</td>\n",
              "      <td>0.0</td>\n",
              "      <td>0.0</td>\n",
              "      <td>0.0</td>\n",
              "      <td>0.0</td>\n",
              "      <td>1.12</td>\n",
              "      <td>0.0</td>\n",
              "      <td>0.0</td>\n",
              "      <td>0</td>\n",
              "      <td>1</td>\n",
              "    </tr>\n",
              "  </tbody>\n",
              "</table>\n",
              "<p>3 rows × 684 columns</p>\n",
              "</div>\n",
              "    <div class=\"colab-df-buttons\">\n",
              "\n",
              "  <div class=\"colab-df-container\">\n",
              "    <button class=\"colab-df-convert\" onclick=\"convertToInteractive('df-01460766-0cd3-404d-868e-ce3fb7b2d015')\"\n",
              "            title=\"Convert this dataframe to an interactive table.\"\n",
              "            style=\"display:none;\">\n",
              "\n",
              "  <svg xmlns=\"http://www.w3.org/2000/svg\" height=\"24px\" viewBox=\"0 -960 960 960\">\n",
              "    <path d=\"M120-120v-720h720v720H120Zm60-500h600v-160H180v160Zm220 220h160v-160H400v160Zm0 220h160v-160H400v160ZM180-400h160v-160H180v160Zm440 0h160v-160H620v160ZM180-180h160v-160H180v160Zm440 0h160v-160H620v160Z\"/>\n",
              "  </svg>\n",
              "    </button>\n",
              "\n",
              "  <style>\n",
              "    .colab-df-container {\n",
              "      display:flex;\n",
              "      gap: 12px;\n",
              "    }\n",
              "\n",
              "    .colab-df-convert {\n",
              "      background-color: #E8F0FE;\n",
              "      border: none;\n",
              "      border-radius: 50%;\n",
              "      cursor: pointer;\n",
              "      display: none;\n",
              "      fill: #1967D2;\n",
              "      height: 32px;\n",
              "      padding: 0 0 0 0;\n",
              "      width: 32px;\n",
              "    }\n",
              "\n",
              "    .colab-df-convert:hover {\n",
              "      background-color: #E2EBFA;\n",
              "      box-shadow: 0px 1px 2px rgba(60, 64, 67, 0.3), 0px 1px 3px 1px rgba(60, 64, 67, 0.15);\n",
              "      fill: #174EA6;\n",
              "    }\n",
              "\n",
              "    .colab-df-buttons div {\n",
              "      margin-bottom: 4px;\n",
              "    }\n",
              "\n",
              "    [theme=dark] .colab-df-convert {\n",
              "      background-color: #3B4455;\n",
              "      fill: #D2E3FC;\n",
              "    }\n",
              "\n",
              "    [theme=dark] .colab-df-convert:hover {\n",
              "      background-color: #434B5C;\n",
              "      box-shadow: 0px 1px 3px 1px rgba(0, 0, 0, 0.15);\n",
              "      filter: drop-shadow(0px 1px 2px rgba(0, 0, 0, 0.3));\n",
              "      fill: #FFFFFF;\n",
              "    }\n",
              "  </style>\n",
              "\n",
              "    <script>\n",
              "      const buttonEl =\n",
              "        document.querySelector('#df-01460766-0cd3-404d-868e-ce3fb7b2d015 button.colab-df-convert');\n",
              "      buttonEl.style.display =\n",
              "        google.colab.kernel.accessAllowed ? 'block' : 'none';\n",
              "\n",
              "      async function convertToInteractive(key) {\n",
              "        const element = document.querySelector('#df-01460766-0cd3-404d-868e-ce3fb7b2d015');\n",
              "        const dataTable =\n",
              "          await google.colab.kernel.invokeFunction('convertToInteractive',\n",
              "                                                    [key], {});\n",
              "        if (!dataTable) return;\n",
              "\n",
              "        const docLinkHtml = 'Like what you see? Visit the ' +\n",
              "          '<a target=\"_blank\" href=https://colab.research.google.com/notebooks/data_table.ipynb>data table notebook</a>'\n",
              "          + ' to learn more about interactive tables.';\n",
              "        element.innerHTML = '';\n",
              "        dataTable['output_type'] = 'display_data';\n",
              "        await google.colab.output.renderOutput(dataTable, element);\n",
              "        const docLink = document.createElement('div');\n",
              "        docLink.innerHTML = docLinkHtml;\n",
              "        element.appendChild(docLink);\n",
              "      }\n",
              "    </script>\n",
              "  </div>\n",
              "\n",
              "\n",
              "<div id=\"df-317310bb-d59f-43de-bb5e-3ff957e51a07\">\n",
              "  <button class=\"colab-df-quickchart\" onclick=\"quickchart('df-317310bb-d59f-43de-bb5e-3ff957e51a07')\"\n",
              "            title=\"Suggest charts\"\n",
              "            style=\"display:none;\">\n",
              "\n",
              "<svg xmlns=\"http://www.w3.org/2000/svg\" height=\"24px\"viewBox=\"0 0 24 24\"\n",
              "     width=\"24px\">\n",
              "    <g>\n",
              "        <path d=\"M19 3H5c-1.1 0-2 .9-2 2v14c0 1.1.9 2 2 2h14c1.1 0 2-.9 2-2V5c0-1.1-.9-2-2-2zM9 17H7v-7h2v7zm4 0h-2V7h2v10zm4 0h-2v-4h2v4z\"/>\n",
              "    </g>\n",
              "</svg>\n",
              "  </button>\n",
              "\n",
              "<style>\n",
              "  .colab-df-quickchart {\n",
              "      --bg-color: #E8F0FE;\n",
              "      --fill-color: #1967D2;\n",
              "      --hover-bg-color: #E2EBFA;\n",
              "      --hover-fill-color: #174EA6;\n",
              "      --disabled-fill-color: #AAA;\n",
              "      --disabled-bg-color: #DDD;\n",
              "  }\n",
              "\n",
              "  [theme=dark] .colab-df-quickchart {\n",
              "      --bg-color: #3B4455;\n",
              "      --fill-color: #D2E3FC;\n",
              "      --hover-bg-color: #434B5C;\n",
              "      --hover-fill-color: #FFFFFF;\n",
              "      --disabled-bg-color: #3B4455;\n",
              "      --disabled-fill-color: #666;\n",
              "  }\n",
              "\n",
              "  .colab-df-quickchart {\n",
              "    background-color: var(--bg-color);\n",
              "    border: none;\n",
              "    border-radius: 50%;\n",
              "    cursor: pointer;\n",
              "    display: none;\n",
              "    fill: var(--fill-color);\n",
              "    height: 32px;\n",
              "    padding: 0;\n",
              "    width: 32px;\n",
              "  }\n",
              "\n",
              "  .colab-df-quickchart:hover {\n",
              "    background-color: var(--hover-bg-color);\n",
              "    box-shadow: 0 1px 2px rgba(60, 64, 67, 0.3), 0 1px 3px 1px rgba(60, 64, 67, 0.15);\n",
              "    fill: var(--button-hover-fill-color);\n",
              "  }\n",
              "\n",
              "  .colab-df-quickchart-complete:disabled,\n",
              "  .colab-df-quickchart-complete:disabled:hover {\n",
              "    background-color: var(--disabled-bg-color);\n",
              "    fill: var(--disabled-fill-color);\n",
              "    box-shadow: none;\n",
              "  }\n",
              "\n",
              "  .colab-df-spinner {\n",
              "    border: 2px solid var(--fill-color);\n",
              "    border-color: transparent;\n",
              "    border-bottom-color: var(--fill-color);\n",
              "    animation:\n",
              "      spin 1s steps(1) infinite;\n",
              "  }\n",
              "\n",
              "  @keyframes spin {\n",
              "    0% {\n",
              "      border-color: transparent;\n",
              "      border-bottom-color: var(--fill-color);\n",
              "      border-left-color: var(--fill-color);\n",
              "    }\n",
              "    20% {\n",
              "      border-color: transparent;\n",
              "      border-left-color: var(--fill-color);\n",
              "      border-top-color: var(--fill-color);\n",
              "    }\n",
              "    30% {\n",
              "      border-color: transparent;\n",
              "      border-left-color: var(--fill-color);\n",
              "      border-top-color: var(--fill-color);\n",
              "      border-right-color: var(--fill-color);\n",
              "    }\n",
              "    40% {\n",
              "      border-color: transparent;\n",
              "      border-right-color: var(--fill-color);\n",
              "      border-top-color: var(--fill-color);\n",
              "    }\n",
              "    60% {\n",
              "      border-color: transparent;\n",
              "      border-right-color: var(--fill-color);\n",
              "    }\n",
              "    80% {\n",
              "      border-color: transparent;\n",
              "      border-right-color: var(--fill-color);\n",
              "      border-bottom-color: var(--fill-color);\n",
              "    }\n",
              "    90% {\n",
              "      border-color: transparent;\n",
              "      border-bottom-color: var(--fill-color);\n",
              "    }\n",
              "  }\n",
              "</style>\n",
              "\n",
              "  <script>\n",
              "    async function quickchart(key) {\n",
              "      const quickchartButtonEl =\n",
              "        document.querySelector('#' + key + ' button');\n",
              "      quickchartButtonEl.disabled = true;  // To prevent multiple clicks.\n",
              "      quickchartButtonEl.classList.add('colab-df-spinner');\n",
              "      try {\n",
              "        const charts = await google.colab.kernel.invokeFunction(\n",
              "            'suggestCharts', [key], {});\n",
              "      } catch (error) {\n",
              "        console.error('Error during call to suggestCharts:', error);\n",
              "      }\n",
              "      quickchartButtonEl.classList.remove('colab-df-spinner');\n",
              "      quickchartButtonEl.classList.add('colab-df-quickchart-complete');\n",
              "    }\n",
              "    (() => {\n",
              "      let quickchartButtonEl =\n",
              "        document.querySelector('#df-317310bb-d59f-43de-bb5e-3ff957e51a07 button');\n",
              "      quickchartButtonEl.style.display =\n",
              "        google.colab.kernel.accessAllowed ? 'block' : 'none';\n",
              "    })();\n",
              "  </script>\n",
              "</div>\n",
              "\n",
              "    </div>\n",
              "  </div>\n"
            ],
            "application/vnd.google.colaboratory.intrinsic+json": {
              "type": "dataframe",
              "variable_name": "ips_resampled"
            }
          },
          "metadata": {},
          "execution_count": 56
        }
      ]
    },
    {
      "cell_type": "code",
      "source": [
        "#cleaned_data.shape\n",
        "print(\"cleaned_cleaned Imu : \", cleaned_dataImu.shape)\n",
        "print(\"cleaned_cleaned Emg : \", cleaned_dataEmg.shape)\n",
        "print(\"cleaned_cleaned ips : \", cleaned_dataIps.shape)"
      ],
      "metadata": {
        "colab": {
          "base_uri": "https://localhost:8080/"
        },
        "id": "oiUw4990x1o7",
        "outputId": "f6875bc9-8b34-46f5-c255-a1bc7fd55df3"
      },
      "execution_count": null,
      "outputs": [
        {
          "output_type": "stream",
          "name": "stdout",
          "text": [
            "cleaned_cleaned Imu :  (548712, 56)\n",
            "cleaned_cleaned Emg :  (11029891, 18)\n",
            "cleaned_cleaned ips :  (171743, 684)\n"
          ]
        }
      ]
    },
    {
      "cell_type": "code",
      "source": [
        "print(\"rééchantillonné Imu : \", imu_resampled.shape)\n",
        "print(\"rééchantillonné Emg : \", emg_resampled.shape)\n",
        "print(\"rééchantillonné ips : \", ips_resampled.shape)"
      ],
      "metadata": {
        "colab": {
          "base_uri": "https://localhost:8080/"
        },
        "id": "Qq98xJejRBWq",
        "outputId": "dd758203-6f81-4c09-d3b0-fe5f7a1b0fef"
      },
      "execution_count": null,
      "outputs": [
        {
          "output_type": "stream",
          "name": "stdout",
          "text": [
            "rééchantillonné Imu :  (171743, 56)\n",
            "rééchantillonné Emg :  (171743, 18)\n",
            "rééchantillonné ips :  (171743, 684)\n"
          ]
        }
      ]
    },
    {
      "cell_type": "code",
      "source": [
        "print(\"Catégories dans IPS:\", ips_resampled['categorie'].unique())\n",
        "print(\"Catégories dans IMU:\", imu_resampled['categorie'].unique())\n",
        "print(\"Catégories dans EMG:\", emg_resampled['categorie'].unique())"
      ],
      "metadata": {
        "colab": {
          "base_uri": "https://localhost:8080/"
        },
        "id": "Esb7uJjsV_Ti",
        "outputId": "75879ec4-66e3-44f2-8f12-50ba55c33f83"
      },
      "execution_count": null,
      "outputs": [
        {
          "output_type": "stream",
          "name": "stdout",
          "text": [
            "Catégories dans IPS: [0 1 2 3]\n",
            "Catégories dans IMU: [0.0000e+00 2.0000e-04 4.0000e-04 ... 2.9888e+00 2.9964e+00 2.9968e+00]\n",
            "Catégories dans EMG: [0.    0.004 0.008 0.012 0.016 0.02  0.024 0.028 0.032 0.036 0.04  0.044\n",
            " 0.048 0.052 0.056 0.06  0.064 0.068 0.072 0.076 0.08  0.084 0.088 0.092\n",
            " 0.096 0.1   0.104 0.108 0.112 0.116 0.12  0.124 0.128 0.132 0.136 0.14\n",
            " 0.144 0.148 0.152 0.156 0.16  0.164 0.168 0.172 0.176 0.18  0.184 0.188\n",
            " 0.192 0.196 0.2   0.204 0.208 0.212 0.216 0.22  0.224 0.228 0.232 0.236\n",
            " 0.24  0.244 0.248 0.252 0.256 0.26  0.264 0.268 0.272 0.276 0.28  0.284\n",
            " 0.288 0.292 0.296 0.3   0.304 0.308 0.312 0.316 0.32  0.324 0.328 0.332\n",
            " 0.336 0.34  0.344 0.348 0.352 0.356 0.36  0.364 0.368 0.372 0.376 0.38\n",
            " 0.384 0.388 0.392 0.396 0.4   0.404 0.408 0.412 0.416 0.42  0.424 0.428\n",
            " 0.432 0.436 0.44  0.444 0.448 0.452 0.456 0.46  0.464 0.468 0.472 0.476\n",
            " 0.48  0.484 0.488 0.492 0.496 0.5   0.504 0.508 0.512 0.516 0.52  0.524\n",
            " 0.528 0.532 0.536 0.54  0.544 0.548 0.552 0.556 0.56  0.564 0.568 0.572\n",
            " 0.576 0.58  0.584 0.588 0.592 0.596 0.6   0.604 0.608 0.612 0.616 0.62\n",
            " 0.624 0.628 0.632 0.636 0.64  0.644 0.648 0.652 0.656 0.66  0.664 0.668\n",
            " 0.672 0.676 0.68  0.684 0.688 0.692 0.696 0.7   0.704 0.708 0.712 0.716\n",
            " 0.72  0.724 0.728 0.732 0.736 0.74  0.744 0.748 0.752 0.756 0.76  0.764\n",
            " 0.768 0.772 0.776 0.78  0.784 0.788 0.792 0.796 0.8   0.804 0.808 0.812\n",
            " 0.816 0.82  0.824 0.828 0.832 0.836 0.84  0.844 0.848 0.852 0.856 0.86\n",
            " 0.864 0.868 0.872 0.876 0.88  0.884 0.888 0.892 0.896 0.9   0.904 0.908\n",
            " 0.912 0.916 0.92  0.924 0.928 0.932 0.936 0.94  0.944 0.948 0.952 0.956\n",
            " 0.96  0.964 0.968 0.972 0.976 0.98  0.984 0.988 0.992 0.996 1.    1.004\n",
            " 1.008 1.012 1.016 1.02  1.024 1.028 1.032 1.036 1.04  1.044 1.048 1.052\n",
            " 1.056 1.06  1.064 1.068 1.072 1.076 1.08  1.084 1.088 1.092 1.096 1.1\n",
            " 1.104 1.108 1.112 1.116 1.12  1.124 1.128 1.132 1.136 1.14  1.144 1.148\n",
            " 1.152 1.156 1.16  1.164 1.168 1.172 1.176 1.18  1.184 1.188 1.192 1.196\n",
            " 1.2   1.204 1.208 1.212 1.216 1.22  1.224 1.228 1.232 1.236 1.24  1.244\n",
            " 1.248 1.252 1.256 1.26  1.264 1.268 1.272 1.276 1.28  1.284 1.288 1.292\n",
            " 1.296 1.3   1.304 1.308 1.312 1.316 1.32  1.324 1.328 1.332 1.336 1.34\n",
            " 1.344 1.348 1.352 1.356 1.36  1.364 1.368 1.372 1.376 1.38  1.384 1.388\n",
            " 1.392 1.396 1.4   1.404 1.408 1.412 1.416 1.42  1.424 1.428 1.432 1.436\n",
            " 1.44  1.444 1.448 1.452 1.456 1.46  1.464 1.468 1.472 1.476 1.48  1.484\n",
            " 1.488 1.492 1.496 1.5   1.504 1.508 1.512 1.516 1.52  1.524 1.528 1.532\n",
            " 1.536 1.54  1.544 1.548 1.552 1.556 1.56  1.564 1.568 1.572 1.576 1.58\n",
            " 1.584 1.588 1.592 1.596 1.6   1.604 1.608 1.612 1.616 1.62  1.624 1.628\n",
            " 1.632 1.636 1.64  1.644 1.648 1.652 1.656 1.66  1.664 1.668 1.672 1.676\n",
            " 1.68  1.684 1.688 1.692 1.696 1.7   1.704 1.708 1.712 1.716 1.72  1.724\n",
            " 1.728 1.732 1.736 1.74  1.744 1.748 1.752 1.756 1.76  1.764 1.768 1.772\n",
            " 1.776 1.78  1.784 1.788 1.792 1.796 1.8   1.804 1.808 1.812 1.816 1.82\n",
            " 1.824 1.828 1.832 1.836 1.84  1.844 1.848 1.852 1.856 1.86  1.864 1.868\n",
            " 1.872 1.876 1.88  1.884 1.888 1.892 1.896 1.9   1.904 1.908 1.912 1.916\n",
            " 1.92  1.924 1.928 1.932 1.936 1.94  1.944 1.948 1.952 1.956 1.96  1.964\n",
            " 1.968 1.972 1.976 1.98  1.984 1.988 1.992 1.996 2.    2.004 2.008 2.012\n",
            " 2.016 2.02  2.024 2.028 2.032 2.036 2.04  2.044 2.048 2.052 2.056 2.06\n",
            " 2.064 2.068 2.072 2.076 2.08  2.084 2.088 2.092 2.096 2.1   2.104 2.108\n",
            " 2.112 2.116 2.12  2.124 2.128 2.132 2.136 2.14  2.144 2.148 2.152 2.156\n",
            " 2.16  2.164 2.168 2.172 2.176 2.18  2.184 2.188 2.192 2.196 2.2   2.204\n",
            " 2.208 2.212 2.216 2.22  2.224 2.228 2.232 2.236 2.24  2.244 2.248 2.252\n",
            " 2.256 2.26  2.264 2.268 2.272 2.276 2.28  2.284 2.288 2.292 2.296 2.3\n",
            " 2.304 2.308 2.312 2.316 2.32  2.324 2.328 2.332 2.336 2.34  2.344 2.348\n",
            " 2.352 2.356 2.36  2.364 2.368 2.372 2.376 2.38  2.384 2.388 2.392 2.396\n",
            " 2.4   2.404 2.408 2.412 2.416 2.42  2.424 2.428 2.432 2.436 2.44  2.444\n",
            " 2.448 2.452 2.456 2.46  2.464 2.468 2.472 2.476 2.48  2.484 2.488 2.492\n",
            " 2.496 2.5   2.504 2.508 2.512 2.516 2.52  2.524 2.528 2.532 2.536 2.54\n",
            " 2.544 2.548 2.552 2.556 2.56  2.564 2.568 2.572 2.576 2.58  2.584 2.588\n",
            " 2.592 2.596 2.6   2.604 2.608 2.612 2.616 2.62  2.624 2.628 2.632 2.636\n",
            " 2.64  2.644 2.648 2.652 2.656 2.66  2.664 2.668 2.672 2.676 2.68  2.684\n",
            " 2.688 2.692 2.696 2.7   2.704 2.708 2.712 2.716 2.72  2.724 2.728 2.732\n",
            " 2.736 2.74  2.744 2.748 2.752 2.756 2.76  2.764 2.768 2.772 2.776 2.78\n",
            " 2.784 2.788 2.792 2.796 2.8   2.804 2.808 2.812 2.816 2.82  2.824 2.828\n",
            " 2.832 2.836 2.84  2.844 2.848 2.852 2.856 2.86  2.864 2.868 2.872 2.876\n",
            " 2.88  2.884 2.888 2.892 2.896 2.9   2.904 2.908 2.912 2.916 2.92  2.924\n",
            " 2.928 2.932 2.936 2.94  2.944 2.948 2.952 2.956 2.96  2.964 2.968 2.972\n",
            " 2.976 2.98  2.984 2.988 2.992 2.996 3.    2.82  2.796 2.772 2.22  2.196\n",
            " 2.172 1.836 1.692 1.68  1.668 1.656 1.644 1.632 1.62  1.608 1.596 1.344\n",
            " 1.14  1.128 1.116 1.104 1.092 0.948 0.936 0.924 0.912 0.9   0.888 0.876\n",
            " 0.864 0.852 0.84  0.828 0.816 0.804 0.792 0.78  0.768 0.756 0.744 0.732\n",
            " 0.72  0.708 0.696 0.684 0.672 0.66  0.648 0.636 0.624 0.612 0.6   0.588\n",
            " 0.468 0.456 0.444 0.432 0.42  0.408 0.396 0.384 0.372 0.36  0.348 0.336\n",
            " 0.324 0.312 0.3   0.288 0.276 0.264 0.252 0.24  0.228 0.216 0.204 0.192\n",
            " 0.18  0.168 0.156 0.144 0.132 0.12  0.108 0.096 0.084 0.072 0.06  0.048\n",
            " 0.036 0.024 0.012]\n"
          ]
        }
      ]
    },
    {
      "cell_type": "code",
      "source": [
        "\"\"\"plot_data_comparison(cleaned_dataEmg, emg_resampled, 'EMG')\n",
        "plot_data_comparison(cleaned_dataImu, imu_resampled, 'IMU')\n",
        "plot_data_comparison(cleaned_dataIps, ips_resampled, 'IPS')\"\"\""
      ],
      "metadata": {
        "colab": {
          "base_uri": "https://localhost:8080/",
          "height": 53
        },
        "id": "QE8FsgZuQqoR",
        "outputId": "14c4d8e4-6bac-4290-d4fd-c65d768c7434"
      },
      "execution_count": null,
      "outputs": [
        {
          "output_type": "execute_result",
          "data": {
            "text/plain": [
              "\"plot_data_comparison(cleaned_dataEmg, emg_resampled, 'EMG')\\nplot_data_comparison(cleaned_dataImu, imu_resampled, 'IMU')\\nplot_data_comparison(cleaned_dataIps, ips_resampled, 'IPS')\""
            ],
            "application/vnd.google.colaboratory.intrinsic+json": {
              "type": "string"
            }
          },
          "metadata": {},
          "execution_count": 38
        }
      ]
    },
    {
      "cell_type": "code",
      "source": [],
      "metadata": {
        "id": "ICGnBdMytmBw"
      },
      "execution_count": null,
      "outputs": []
    },
    {
      "cell_type": "code",
      "source": [],
      "metadata": {
        "id": "sKqGdPlctl8J"
      },
      "execution_count": null,
      "outputs": []
    },
    {
      "cell_type": "markdown",
      "source": [
        "sauvgarder les modalities !!"
      ],
      "metadata": {
        "id": "wDczfdqNz9pB"
      }
    },
    {
      "cell_type": "code",
      "source": [
        "processed_data_path = '/content/drive/MyDrive/MovePort/processedData'\n",
        "if not os.path.exists(processed_data_path): os.makedirs(processed_data_path)"
      ],
      "metadata": {
        "id": "ie0DjHtCz3ds"
      },
      "execution_count": null,
      "outputs": []
    },
    {
      "cell_type": "code",
      "source": [
        "emg_aligned.to_csv(os.path.join(processed_data_path, 'emg_aligned.csv'), index=False)\n",
        "imu_aligned.to_csv(os.path.join(processed_data_path, 'imu_aligned.csv'), index=False)\n",
        "ips_aligned.to_csv(os.path.join(processed_data_path, 'ips_aligned.csv'), index=False)"
      ],
      "metadata": {
        "id": "Yk3rN5ZgQgo2"
      },
      "execution_count": null,
      "outputs": []
    },
    {
      "cell_type": "code",
      "source": [],
      "metadata": {
        "id": "6g5GE6-40Teg"
      },
      "execution_count": null,
      "outputs": []
    },
    {
      "cell_type": "code",
      "source": [
        "emg_normalized.to_csv(os.path.join(processed_data_path, 'emg_normalized.csv'), index=False)\n",
        "imu_normalized.to_csv(os.path.join(processed_data_path, 'imu_normalized.csv'), index=False)\n",
        "ips_normalized.to_csv(os.path.join(processed_data_path, 'ips_normalized.csv'), index=False)"
      ],
      "metadata": {
        "id": "NcV5zn-R0qG-"
      },
      "execution_count": null,
      "outputs": []
    },
    {
      "cell_type": "code",
      "source": [
        "emg_normalized = pd.read_csv(f\"{processed_data_path}/emg_normalized.csv\")\n",
        "imu_normalized = pd.read_csv(f\"{processed_data_path}/imu_normalized.csv\")\n",
        "ips_normalized = pd.read_csv(f\"{processed_data_path}/ips_normalized.csv\")"
      ],
      "metadata": {
        "id": "-FSIXexXUhp1"
      },
      "execution_count": null,
      "outputs": []
    },
    {
      "cell_type": "code",
      "source": [
        "#imu_normalized.value_counts()"
      ],
      "metadata": {
        "id": "qXkkMI5CW7_x"
      },
      "execution_count": null,
      "outputs": []
    },
    {
      "cell_type": "code",
      "source": [
        "emg_normalized.head(3)"
      ],
      "metadata": {
        "colab": {
          "base_uri": "https://localhost:8080/",
          "height": 163
        },
        "id": "7SucKjA3V-A1",
        "outputId": "30a6dbe9-3b4b-4f1f-d356-2c65d7a4d3d1"
      },
      "execution_count": null,
      "outputs": [
        {
          "output_type": "execute_result",
          "data": {
            "text/plain": [
              "     R_Vlat      R_RF      R_ST      R_TA    L_Vlat      L_RF      L_ST  \\\n",
              "0  0.040085  0.086058  0.086466 -0.414007 -0.138624  0.119031  0.109122   \n",
              "1  0.039749  0.087394  0.086233 -0.410660 -0.139202  0.116897  0.109923   \n",
              "2  0.039412  0.088730  0.085999 -0.407312 -0.139780  0.114764  0.110724   \n",
              "\n",
              "       L_TA      R_MG      R_LG     R_SOL      R_IL      L_MG      L_LG  \\\n",
              "0 -0.073721  0.081198 -1.547513  2.521937 -0.187355  0.045367  0.578955   \n",
              "1 -0.079790  0.080053 -1.539252  2.512969 -0.189012  0.045670  0.577939   \n",
              "2 -0.085860  0.078908 -1.530991  2.504000 -0.190669  0.045973  0.576922   \n",
              "\n",
              "      L_SOL      L_IL  categorie  id  \n",
              "0 -0.360731  0.364890          0   1  \n",
              "1 -0.360563  0.364903          0   1  \n",
              "2 -0.360394  0.364916          0   1  "
            ],
            "text/html": [
              "\n",
              "  <div id=\"df-faf9624f-25b7-4e95-94be-da7befad83c6\" class=\"colab-df-container\">\n",
              "    <div>\n",
              "<style scoped>\n",
              "    .dataframe tbody tr th:only-of-type {\n",
              "        vertical-align: middle;\n",
              "    }\n",
              "\n",
              "    .dataframe tbody tr th {\n",
              "        vertical-align: top;\n",
              "    }\n",
              "\n",
              "    .dataframe thead th {\n",
              "        text-align: right;\n",
              "    }\n",
              "</style>\n",
              "<table border=\"1\" class=\"dataframe\">\n",
              "  <thead>\n",
              "    <tr style=\"text-align: right;\">\n",
              "      <th></th>\n",
              "      <th>R_Vlat</th>\n",
              "      <th>R_RF</th>\n",
              "      <th>R_ST</th>\n",
              "      <th>R_TA</th>\n",
              "      <th>L_Vlat</th>\n",
              "      <th>L_RF</th>\n",
              "      <th>L_ST</th>\n",
              "      <th>L_TA</th>\n",
              "      <th>R_MG</th>\n",
              "      <th>R_LG</th>\n",
              "      <th>R_SOL</th>\n",
              "      <th>R_IL</th>\n",
              "      <th>L_MG</th>\n",
              "      <th>L_LG</th>\n",
              "      <th>L_SOL</th>\n",
              "      <th>L_IL</th>\n",
              "      <th>categorie</th>\n",
              "      <th>id</th>\n",
              "    </tr>\n",
              "  </thead>\n",
              "  <tbody>\n",
              "    <tr>\n",
              "      <th>0</th>\n",
              "      <td>0.040085</td>\n",
              "      <td>0.086058</td>\n",
              "      <td>0.086466</td>\n",
              "      <td>-0.414007</td>\n",
              "      <td>-0.138624</td>\n",
              "      <td>0.119031</td>\n",
              "      <td>0.109122</td>\n",
              "      <td>-0.073721</td>\n",
              "      <td>0.081198</td>\n",
              "      <td>-1.547513</td>\n",
              "      <td>2.521937</td>\n",
              "      <td>-0.187355</td>\n",
              "      <td>0.045367</td>\n",
              "      <td>0.578955</td>\n",
              "      <td>-0.360731</td>\n",
              "      <td>0.364890</td>\n",
              "      <td>0</td>\n",
              "      <td>1</td>\n",
              "    </tr>\n",
              "    <tr>\n",
              "      <th>1</th>\n",
              "      <td>0.039749</td>\n",
              "      <td>0.087394</td>\n",
              "      <td>0.086233</td>\n",
              "      <td>-0.410660</td>\n",
              "      <td>-0.139202</td>\n",
              "      <td>0.116897</td>\n",
              "      <td>0.109923</td>\n",
              "      <td>-0.079790</td>\n",
              "      <td>0.080053</td>\n",
              "      <td>-1.539252</td>\n",
              "      <td>2.512969</td>\n",
              "      <td>-0.189012</td>\n",
              "      <td>0.045670</td>\n",
              "      <td>0.577939</td>\n",
              "      <td>-0.360563</td>\n",
              "      <td>0.364903</td>\n",
              "      <td>0</td>\n",
              "      <td>1</td>\n",
              "    </tr>\n",
              "    <tr>\n",
              "      <th>2</th>\n",
              "      <td>0.039412</td>\n",
              "      <td>0.088730</td>\n",
              "      <td>0.085999</td>\n",
              "      <td>-0.407312</td>\n",
              "      <td>-0.139780</td>\n",
              "      <td>0.114764</td>\n",
              "      <td>0.110724</td>\n",
              "      <td>-0.085860</td>\n",
              "      <td>0.078908</td>\n",
              "      <td>-1.530991</td>\n",
              "      <td>2.504000</td>\n",
              "      <td>-0.190669</td>\n",
              "      <td>0.045973</td>\n",
              "      <td>0.576922</td>\n",
              "      <td>-0.360394</td>\n",
              "      <td>0.364916</td>\n",
              "      <td>0</td>\n",
              "      <td>1</td>\n",
              "    </tr>\n",
              "  </tbody>\n",
              "</table>\n",
              "</div>\n",
              "    <div class=\"colab-df-buttons\">\n",
              "\n",
              "  <div class=\"colab-df-container\">\n",
              "    <button class=\"colab-df-convert\" onclick=\"convertToInteractive('df-faf9624f-25b7-4e95-94be-da7befad83c6')\"\n",
              "            title=\"Convert this dataframe to an interactive table.\"\n",
              "            style=\"display:none;\">\n",
              "\n",
              "  <svg xmlns=\"http://www.w3.org/2000/svg\" height=\"24px\" viewBox=\"0 -960 960 960\">\n",
              "    <path d=\"M120-120v-720h720v720H120Zm60-500h600v-160H180v160Zm220 220h160v-160H400v160Zm0 220h160v-160H400v160ZM180-400h160v-160H180v160Zm440 0h160v-160H620v160ZM180-180h160v-160H180v160Zm440 0h160v-160H620v160Z\"/>\n",
              "  </svg>\n",
              "    </button>\n",
              "\n",
              "  <style>\n",
              "    .colab-df-container {\n",
              "      display:flex;\n",
              "      gap: 12px;\n",
              "    }\n",
              "\n",
              "    .colab-df-convert {\n",
              "      background-color: #E8F0FE;\n",
              "      border: none;\n",
              "      border-radius: 50%;\n",
              "      cursor: pointer;\n",
              "      display: none;\n",
              "      fill: #1967D2;\n",
              "      height: 32px;\n",
              "      padding: 0 0 0 0;\n",
              "      width: 32px;\n",
              "    }\n",
              "\n",
              "    .colab-df-convert:hover {\n",
              "      background-color: #E2EBFA;\n",
              "      box-shadow: 0px 1px 2px rgba(60, 64, 67, 0.3), 0px 1px 3px 1px rgba(60, 64, 67, 0.15);\n",
              "      fill: #174EA6;\n",
              "    }\n",
              "\n",
              "    .colab-df-buttons div {\n",
              "      margin-bottom: 4px;\n",
              "    }\n",
              "\n",
              "    [theme=dark] .colab-df-convert {\n",
              "      background-color: #3B4455;\n",
              "      fill: #D2E3FC;\n",
              "    }\n",
              "\n",
              "    [theme=dark] .colab-df-convert:hover {\n",
              "      background-color: #434B5C;\n",
              "      box-shadow: 0px 1px 3px 1px rgba(0, 0, 0, 0.15);\n",
              "      filter: drop-shadow(0px 1px 2px rgba(0, 0, 0, 0.3));\n",
              "      fill: #FFFFFF;\n",
              "    }\n",
              "  </style>\n",
              "\n",
              "    <script>\n",
              "      const buttonEl =\n",
              "        document.querySelector('#df-faf9624f-25b7-4e95-94be-da7befad83c6 button.colab-df-convert');\n",
              "      buttonEl.style.display =\n",
              "        google.colab.kernel.accessAllowed ? 'block' : 'none';\n",
              "\n",
              "      async function convertToInteractive(key) {\n",
              "        const element = document.querySelector('#df-faf9624f-25b7-4e95-94be-da7befad83c6');\n",
              "        const dataTable =\n",
              "          await google.colab.kernel.invokeFunction('convertToInteractive',\n",
              "                                                    [key], {});\n",
              "        if (!dataTable) return;\n",
              "\n",
              "        const docLinkHtml = 'Like what you see? Visit the ' +\n",
              "          '<a target=\"_blank\" href=https://colab.research.google.com/notebooks/data_table.ipynb>data table notebook</a>'\n",
              "          + ' to learn more about interactive tables.';\n",
              "        element.innerHTML = '';\n",
              "        dataTable['output_type'] = 'display_data';\n",
              "        await google.colab.output.renderOutput(dataTable, element);\n",
              "        const docLink = document.createElement('div');\n",
              "        docLink.innerHTML = docLinkHtml;\n",
              "        element.appendChild(docLink);\n",
              "      }\n",
              "    </script>\n",
              "  </div>\n",
              "\n",
              "\n",
              "<div id=\"df-ea8affdd-edea-4df7-95c9-5b3ff82e8787\">\n",
              "  <button class=\"colab-df-quickchart\" onclick=\"quickchart('df-ea8affdd-edea-4df7-95c9-5b3ff82e8787')\"\n",
              "            title=\"Suggest charts\"\n",
              "            style=\"display:none;\">\n",
              "\n",
              "<svg xmlns=\"http://www.w3.org/2000/svg\" height=\"24px\"viewBox=\"0 0 24 24\"\n",
              "     width=\"24px\">\n",
              "    <g>\n",
              "        <path d=\"M19 3H5c-1.1 0-2 .9-2 2v14c0 1.1.9 2 2 2h14c1.1 0 2-.9 2-2V5c0-1.1-.9-2-2-2zM9 17H7v-7h2v7zm4 0h-2V7h2v10zm4 0h-2v-4h2v4z\"/>\n",
              "    </g>\n",
              "</svg>\n",
              "  </button>\n",
              "\n",
              "<style>\n",
              "  .colab-df-quickchart {\n",
              "      --bg-color: #E8F0FE;\n",
              "      --fill-color: #1967D2;\n",
              "      --hover-bg-color: #E2EBFA;\n",
              "      --hover-fill-color: #174EA6;\n",
              "      --disabled-fill-color: #AAA;\n",
              "      --disabled-bg-color: #DDD;\n",
              "  }\n",
              "\n",
              "  [theme=dark] .colab-df-quickchart {\n",
              "      --bg-color: #3B4455;\n",
              "      --fill-color: #D2E3FC;\n",
              "      --hover-bg-color: #434B5C;\n",
              "      --hover-fill-color: #FFFFFF;\n",
              "      --disabled-bg-color: #3B4455;\n",
              "      --disabled-fill-color: #666;\n",
              "  }\n",
              "\n",
              "  .colab-df-quickchart {\n",
              "    background-color: var(--bg-color);\n",
              "    border: none;\n",
              "    border-radius: 50%;\n",
              "    cursor: pointer;\n",
              "    display: none;\n",
              "    fill: var(--fill-color);\n",
              "    height: 32px;\n",
              "    padding: 0;\n",
              "    width: 32px;\n",
              "  }\n",
              "\n",
              "  .colab-df-quickchart:hover {\n",
              "    background-color: var(--hover-bg-color);\n",
              "    box-shadow: 0 1px 2px rgba(60, 64, 67, 0.3), 0 1px 3px 1px rgba(60, 64, 67, 0.15);\n",
              "    fill: var(--button-hover-fill-color);\n",
              "  }\n",
              "\n",
              "  .colab-df-quickchart-complete:disabled,\n",
              "  .colab-df-quickchart-complete:disabled:hover {\n",
              "    background-color: var(--disabled-bg-color);\n",
              "    fill: var(--disabled-fill-color);\n",
              "    box-shadow: none;\n",
              "  }\n",
              "\n",
              "  .colab-df-spinner {\n",
              "    border: 2px solid var(--fill-color);\n",
              "    border-color: transparent;\n",
              "    border-bottom-color: var(--fill-color);\n",
              "    animation:\n",
              "      spin 1s steps(1) infinite;\n",
              "  }\n",
              "\n",
              "  @keyframes spin {\n",
              "    0% {\n",
              "      border-color: transparent;\n",
              "      border-bottom-color: var(--fill-color);\n",
              "      border-left-color: var(--fill-color);\n",
              "    }\n",
              "    20% {\n",
              "      border-color: transparent;\n",
              "      border-left-color: var(--fill-color);\n",
              "      border-top-color: var(--fill-color);\n",
              "    }\n",
              "    30% {\n",
              "      border-color: transparent;\n",
              "      border-left-color: var(--fill-color);\n",
              "      border-top-color: var(--fill-color);\n",
              "      border-right-color: var(--fill-color);\n",
              "    }\n",
              "    40% {\n",
              "      border-color: transparent;\n",
              "      border-right-color: var(--fill-color);\n",
              "      border-top-color: var(--fill-color);\n",
              "    }\n",
              "    60% {\n",
              "      border-color: transparent;\n",
              "      border-right-color: var(--fill-color);\n",
              "    }\n",
              "    80% {\n",
              "      border-color: transparent;\n",
              "      border-right-color: var(--fill-color);\n",
              "      border-bottom-color: var(--fill-color);\n",
              "    }\n",
              "    90% {\n",
              "      border-color: transparent;\n",
              "      border-bottom-color: var(--fill-color);\n",
              "    }\n",
              "  }\n",
              "</style>\n",
              "\n",
              "  <script>\n",
              "    async function quickchart(key) {\n",
              "      const quickchartButtonEl =\n",
              "        document.querySelector('#' + key + ' button');\n",
              "      quickchartButtonEl.disabled = true;  // To prevent multiple clicks.\n",
              "      quickchartButtonEl.classList.add('colab-df-spinner');\n",
              "      try {\n",
              "        const charts = await google.colab.kernel.invokeFunction(\n",
              "            'suggestCharts', [key], {});\n",
              "      } catch (error) {\n",
              "        console.error('Error during call to suggestCharts:', error);\n",
              "      }\n",
              "      quickchartButtonEl.classList.remove('colab-df-spinner');\n",
              "      quickchartButtonEl.classList.add('colab-df-quickchart-complete');\n",
              "    }\n",
              "    (() => {\n",
              "      let quickchartButtonEl =\n",
              "        document.querySelector('#df-ea8affdd-edea-4df7-95c9-5b3ff82e8787 button');\n",
              "      quickchartButtonEl.style.display =\n",
              "        google.colab.kernel.accessAllowed ? 'block' : 'none';\n",
              "    })();\n",
              "  </script>\n",
              "</div>\n",
              "\n",
              "    </div>\n",
              "  </div>\n"
            ],
            "application/vnd.google.colaboratory.intrinsic+json": {
              "type": "dataframe",
              "variable_name": "emg_normalized",
              "summary": "{\n  \"name\": \"emg_normalized\",\n  \"rows\": 89879,\n  \"fields\": [\n    {\n      \"column\": \"R_Vlat\",\n      \"properties\": {\n        \"dtype\": \"number\",\n        \"std\": 1.0000055632764266,\n        \"min\": -6.453856,\n        \"max\": 6.0404425,\n        \"num_unique_values\": 63127,\n        \"samples\": [\n          0.22455435,\n          0.17088322,\n          0.73629975\n        ],\n        \"semantic_type\": \"\",\n        \"description\": \"\"\n      }\n    },\n    {\n      \"column\": \"R_RF\",\n      \"properties\": {\n        \"dtype\": \"number\",\n        \"std\": 1.0000055629066626,\n        \"min\": -7.2006726,\n        \"max\": 7.8759537,\n        \"num_unique_values\": 56486,\n        \"samples\": [\n          -0.19582346,\n          -0.1082912,\n          -0.54055494\n        ],\n        \"semantic_type\": \"\",\n        \"description\": \"\"\n      }\n    },\n    {\n      \"column\": \"R_ST\",\n      \"properties\": {\n        \"dtype\": \"number\",\n        \"std\": 1.0000055626354967,\n        \"min\": -7.8575516,\n        \"max\": 6.5370293,\n        \"num_unique_values\": 52534,\n        \"samples\": [\n          2.0992754,\n          0.50743616,\n          0.6901535\n        ],\n        \"semantic_type\": \"\",\n        \"description\": \"\"\n      }\n    },\n    {\n      \"column\": \"R_TA\",\n      \"properties\": {\n        \"dtype\": \"number\",\n        \"std\": 1.0000055690202743,\n        \"min\": -9.757103,\n        \"max\": 5.9112115,\n        \"num_unique_values\": 54652,\n        \"samples\": [\n          1.1159908,\n          0.08828463,\n          -0.38805276\n        ],\n        \"semantic_type\": \"\",\n        \"description\": \"\"\n      }\n    },\n    {\n      \"column\": \"L_Vlat\",\n      \"properties\": {\n        \"dtype\": \"number\",\n        \"std\": 1.0000055586119916,\n        \"min\": -5.2865725,\n        \"max\": 10.379907,\n        \"num_unique_values\": 63492,\n        \"samples\": [\n          -5.1514606,\n          -0.38641322,\n          -0.5896283\n        ],\n        \"semantic_type\": \"\",\n        \"description\": \"\"\n      }\n    },\n    {\n      \"column\": \"L_RF\",\n      \"properties\": {\n        \"dtype\": \"number\",\n        \"std\": 1.0000055582770753,\n        \"min\": -6.017199,\n        \"max\": 4.549887,\n        \"num_unique_values\": 54390,\n        \"samples\": [\n          -2.7032614,\n          -1.6537789,\n          -0.19631526\n        ],\n        \"semantic_type\": \"\",\n        \"description\": \"\"\n      }\n    },\n    {\n      \"column\": \"L_ST\",\n      \"properties\": {\n        \"dtype\": \"number\",\n        \"std\": 1.000005563004681,\n        \"min\": -7.5060916,\n        \"max\": 6.5972147,\n        \"num_unique_values\": 52992,\n        \"samples\": [\n          -0.27503738,\n          -0.7799872,\n          0.088272944\n        ],\n        \"semantic_type\": \"\",\n        \"description\": \"\"\n      }\n    },\n    {\n      \"column\": \"L_TA\",\n      \"properties\": {\n        \"dtype\": \"number\",\n        \"std\": 1.000005568740984,\n        \"min\": -4.120628,\n        \"max\": 19.386658,\n        \"num_unique_values\": 53542,\n        \"samples\": [\n          -0.027658602,\n          0.18576106,\n          -0.12407215\n        ],\n        \"semantic_type\": \"\",\n        \"description\": \"\"\n      }\n    },\n    {\n      \"column\": \"R_MG\",\n      \"properties\": {\n        \"dtype\": \"number\",\n        \"std\": 1.000005562003775,\n        \"min\": -9.153651,\n        \"max\": 10.658897,\n        \"num_unique_values\": 47786,\n        \"samples\": [\n          -5.157533,\n          -0.10688923,\n          -0.37595832\n        ],\n        \"semantic_type\": \"\",\n        \"description\": \"\"\n      }\n    },\n    {\n      \"column\": \"R_LG\",\n      \"properties\": {\n        \"dtype\": \"number\",\n        \"std\": 1.000005563734141,\n        \"min\": -6.282519,\n        \"max\": 4.9127483,\n        \"num_unique_values\": 43569,\n        \"samples\": [\n          0.12792364,\n          0.14298499,\n          -0.46425438\n        ],\n        \"semantic_type\": \"\",\n        \"description\": \"\"\n      }\n    },\n    {\n      \"column\": \"R_SOL\",\n      \"properties\": {\n        \"dtype\": \"number\",\n        \"std\": 1.000005573565521,\n        \"min\": -8.541272,\n        \"max\": 4.4417696,\n        \"num_unique_values\": 59171,\n        \"samples\": [\n          -0.06338239,\n          0.9135869,\n          -0.8571526\n        ],\n        \"semantic_type\": \"\",\n        \"description\": \"\"\n      }\n    },\n    {\n      \"column\": \"R_IL\",\n      \"properties\": {\n        \"dtype\": \"number\",\n        \"std\": 1.0000055629627573,\n        \"min\": -4.619819,\n        \"max\": 6.7968817,\n        \"num_unique_values\": 48573,\n        \"samples\": [\n          0.23647098,\n          -0.19196182,\n          -0.785796\n        ],\n        \"semantic_type\": \"\",\n        \"description\": \"\"\n      }\n    },\n    {\n      \"column\": \"L_MG\",\n      \"properties\": {\n        \"dtype\": \"number\",\n        \"std\": 1.0000055633593572,\n        \"min\": -13.175406,\n        \"max\": 3.9158556,\n        \"num_unique_values\": 54309,\n        \"samples\": [\n          0.28020415,\n          0.11353451,\n          -0.007643793\n        ],\n        \"semantic_type\": \"\",\n        \"description\": \"\"\n      }\n    },\n    {\n      \"column\": \"L_LG\",\n      \"properties\": {\n        \"dtype\": \"number\",\n        \"std\": 1.0000055611265757,\n        \"min\": -8.156198,\n        \"max\": 6.8589616,\n        \"num_unique_values\": 58149,\n        \"samples\": [\n          1.0018605,\n          -2.0619383,\n          0.20734066\n        ],\n        \"semantic_type\": \"\",\n        \"description\": \"\"\n      }\n    },\n    {\n      \"column\": \"L_SOL\",\n      \"properties\": {\n        \"dtype\": \"number\",\n        \"std\": 1.00000556503935,\n        \"min\": -8.471448,\n        \"max\": 8.255851,\n        \"num_unique_values\": 44772,\n        \"samples\": [\n          0.071885176,\n          -0.31537202,\n          0.74381\n        ],\n        \"semantic_type\": \"\",\n        \"description\": \"\"\n      }\n    },\n    {\n      \"column\": \"L_IL\",\n      \"properties\": {\n        \"dtype\": \"number\",\n        \"std\": 1.0000055317216006,\n        \"min\": -2.7617764,\n        \"max\": 0.5130464,\n        \"num_unique_values\": 41289,\n        \"samples\": [\n          0.36518174,\n          0.37827495,\n          0.36814907\n        ],\n        \"semantic_type\": \"\",\n        \"description\": \"\"\n      }\n    },\n    {\n      \"column\": \"categorie\",\n      \"properties\": {\n        \"dtype\": \"number\",\n        \"std\": 1,\n        \"min\": 0,\n        \"max\": 3,\n        \"num_unique_values\": 4,\n        \"samples\": [\n          1,\n          3,\n          0\n        ],\n        \"semantic_type\": \"\",\n        \"description\": \"\"\n      }\n    },\n    {\n      \"column\": \"id\",\n      \"properties\": {\n        \"dtype\": \"number\",\n        \"std\": 1,\n        \"min\": 1,\n        \"max\": 6,\n        \"num_unique_values\": 6,\n        \"samples\": [\n          1,\n          2,\n          6\n        ],\n        \"semantic_type\": \"\",\n        \"description\": \"\"\n      }\n    }\n  ]\n}"
            }
          },
          "metadata": {},
          "execution_count": 138
        }
      ]
    },
    {
      "cell_type": "code",
      "source": [
        "print(\"Valeurs uniques dans EMG avant conversion :\", emg_normalized['categorie'].unique())\n",
        "print(\"Valeurs uniques dans EMG après conversion :\", emg_normalized['categorie'].astype(int).unique())"
      ],
      "metadata": {
        "colab": {
          "base_uri": "https://localhost:8080/"
        },
        "id": "awXQkGaqUurD",
        "outputId": "54d96768-8d5b-44ea-cd47-9659efd0e888"
      },
      "execution_count": null,
      "outputs": [
        {
          "output_type": "stream",
          "name": "stdout",
          "text": [
            "Valeurs uniques dans EMG avant conversion : [0 1 2 3]\n",
            "Valeurs uniques dans EMG après conversion : [0 1 2 3]\n"
          ]
        }
      ]
    },
    {
      "cell_type": "code",
      "source": [
        "print(\"Distribution des catégories EMG avant conversion :\")\n",
        "print(emg_normalized['categorie'].value_counts())\n",
        "print(\"Distribution des catégories EMG après conversion :\")\n",
        "print(emg_normalized['categorie'].astype(int).value_counts())\n"
      ],
      "metadata": {
        "colab": {
          "base_uri": "https://localhost:8080/"
        },
        "id": "O1c8NXtWU29C",
        "outputId": "d647fc54-1d98-4385-aa1b-440e7d1466e4"
      },
      "execution_count": null,
      "outputs": [
        {
          "output_type": "stream",
          "name": "stdout",
          "text": [
            "Distribution des catégories EMG avant conversion :\n",
            "categorie\n",
            "0    88874\n",
            "3    84129\n",
            "2    82874\n",
            "1    75033\n",
            "Name: count, dtype: int64\n",
            "Distribution des catégories EMG après conversion :\n",
            "categorie\n",
            "0    88874\n",
            "3    84129\n",
            "2    82874\n",
            "1    75033\n",
            "Name: count, dtype: int64\n"
          ]
        }
      ]
    },
    {
      "cell_type": "code",
      "source": [
        "\"\"\"print(\"Lignes avec categorie = 2 dans EMG :\")\n",
        "print(emg_normalized[emg_normalized['categorie'] == 2])\n",
        "print(\"Lignes avec categorie = 3 dans EMG :\")\n",
        "print(emg_normalized[emg_normalized['categorie'] == 3])\"\"\""
      ],
      "metadata": {
        "colab": {
          "base_uri": "https://localhost:8080/",
          "height": 35
        },
        "id": "w0yOaSf2U8V6",
        "outputId": "553ec617-fcdc-4ba2-88d9-32c86eb7ff80"
      },
      "execution_count": null,
      "outputs": [
        {
          "output_type": "execute_result",
          "data": {
            "text/plain": [
              "'print(\"Lignes avec categorie = 2 dans EMG :\")\\nprint(emg_normalized[emg_normalized[\\'categorie\\'] == 2])\\nprint(\"Lignes avec categorie = 3 dans EMG :\")\\nprint(emg_normalized[emg_normalized[\\'categorie\\'] == 3])'"
            ],
            "application/vnd.google.colaboratory.intrinsic+json": {
              "type": "string"
            }
          },
          "metadata": {},
          "execution_count": 10
        }
      ]
    },
    {
      "cell_type": "code",
      "source": [
        "print(\"Catégories dans IPS:\", ips_normalized['categorie'].unique())\n",
        "print(\"Catégories dans IMU:\", imu_normalized['categorie'].unique())\n",
        "print(\"Catégories dans EMG:\", emg_normalized['categorie'].unique())"
      ],
      "metadata": {
        "colab": {
          "base_uri": "https://localhost:8080/"
        },
        "id": "u_xeRmgPSZ2z",
        "outputId": "222e13fa-5e96-493a-cf3f-be4b06e94c2c"
      },
      "execution_count": null,
      "outputs": [
        {
          "output_type": "stream",
          "name": "stdout",
          "text": [
            "Catégories dans IPS: [0 1 2 3]\n",
            "Catégories dans IMU: [0 1 2 3]\n",
            "Catégories dans EMG: [0 1 2 3]\n"
          ]
        }
      ]
    },
    {
      "cell_type": "code",
      "source": [
        "print(\"Type de 'categorie' dans IPS:\", ips_normalized['categorie'].dtype)\n",
        "print(\"Type de 'categorie' dans IMU:\", imu_normalized['categorie'].dtype)\n",
        "print(\"Type de 'categorie' dans EMG:\", emg_normalized['categorie'].dtype)"
      ],
      "metadata": {
        "colab": {
          "base_uri": "https://localhost:8080/"
        },
        "id": "RMaNL6leUaZD",
        "outputId": "fc920390-42a2-4ed2-e4ec-f33665e1aff8"
      },
      "execution_count": null,
      "outputs": [
        {
          "output_type": "stream",
          "name": "stdout",
          "text": [
            "Type de 'categorie' dans IPS: int64\n",
            "Type de 'categorie' dans IMU: int64\n",
            "Type de 'categorie' dans EMG: int64\n"
          ]
        }
      ]
    },
    {
      "cell_type": "code",
      "source": [
        "\"\"\"# Corriger le type de 'categorie' après le rééchantillonnage\n",
        "ips_normalized['categorie'] = ips_normalized['categorie'].astype(int)\n",
        "imu_normalized['categorie'] = imu_normalized['categorie'].astype(int)\n",
        "emg_normalized['categorie'] = emg_normalized['categorie'].astype(int)\"\"\""
      ],
      "metadata": {
        "colab": {
          "base_uri": "https://localhost:8080/",
          "height": 53
        },
        "id": "dpSy6ohfUl6A",
        "outputId": "39029cd8-80f5-4ff7-818a-b651a1d3c88d"
      },
      "execution_count": null,
      "outputs": [
        {
          "output_type": "execute_result",
          "data": {
            "text/plain": [
              "\"# Corriger le type de 'categorie' après le rééchantillonnage\\nips_normalized['categorie'] = ips_normalized['categorie'].astype(int)\\nimu_normalized['categorie'] = imu_normalized['categorie'].astype(int)\\nemg_normalized['categorie'] = emg_normalized['categorie'].astype(int)\""
            ],
            "application/vnd.google.colaboratory.intrinsic+json": {
              "type": "string"
            }
          },
          "metadata": {},
          "execution_count": 107
        }
      ]
    },
    {
      "cell_type": "code",
      "source": [
        "# Compter les catégories dans chaque modalité avant normalisation ou autre traitement\n",
        "print(\"Avant traitement :\")\n",
        "print(\"IPS Categories Count:\", ips_normalized['categorie'].value_counts())\n",
        "print(\"IMU Categories Count:\", imu_normalized['categorie'].value_counts())\n",
        "print(\"EMG Categories Count:\", emg_normalized['categorie'].value_counts())"
      ],
      "metadata": {
        "colab": {
          "base_uri": "https://localhost:8080/"
        },
        "id": "xrH-bt-jSiQs",
        "outputId": "4e9ba16a-5496-43fa-f417-3eb081706a75"
      },
      "execution_count": null,
      "outputs": [
        {
          "output_type": "stream",
          "name": "stdout",
          "text": [
            "Avant traitement :\n",
            "IPS Categories Count: categorie\n",
            "3    67075\n",
            "2    46403\n",
            "1    45407\n",
            "0    12858\n",
            "Name: count, dtype: int64\n",
            "IMU Categories Count: categorie\n",
            "0    88450\n",
            "3    84117\n",
            "2    81650\n",
            "1    75023\n",
            "Name: count, dtype: int64\n",
            "EMG Categories Count: categorie\n",
            "0    88874\n",
            "3    84129\n",
            "2    82874\n",
            "1    75033\n",
            "Name: count, dtype: int64\n"
          ]
        }
      ]
    },
    {
      "cell_type": "code",
      "source": [
        "def calculate_category_distribution(modality_data, target_column='categorie'):\n",
        "  return modality_data[target_column].value_counts()\n",
        "\n",
        "ips_distribution = calculate_category_distribution(ips_normalized, target_column='categorie')\n",
        "imu_distribution = calculate_category_distribution(imu_normalized, target_column='categorie')\n",
        "emg_distribution = calculate_category_distribution(emg_normalized, target_column='categorie')\n",
        "\n",
        "distribution_table = pd.DataFrame({\n",
        "  'ips': ips_distribution,\n",
        "  'imu': imu_distribution,\n",
        "  'emg': emg_distribution\n",
        "}).fillna(0).astype(int)\n",
        "\n",
        "print(distribution_table)\n"
      ],
      "metadata": {
        "colab": {
          "base_uri": "https://localhost:8080/"
        },
        "id": "LeZFue_tXLzC",
        "outputId": "82161909-404e-4527-bc6f-a138a06ba419"
      },
      "execution_count": null,
      "outputs": [
        {
          "output_type": "stream",
          "name": "stdout",
          "text": [
            "             ips    imu    emg\n",
            "categorie                     \n",
            "0          12858  88450  88874\n",
            "1          45407  75023  75033\n",
            "2          46403  81650  82874\n",
            "3          67075  84117  84129\n"
          ]
        }
      ]
    },
    {
      "cell_type": "code",
      "source": [
        "numbreMean = pd.DataFrame(distribution_table, index=[0, 1, 2, 3])\n",
        "numbreMean"
      ],
      "metadata": {
        "colab": {
          "base_uri": "https://localhost:8080/",
          "height": 175
        },
        "id": "izDbAp9Df17N",
        "outputId": "69d61dae-321d-44e2-ef74-7edb18916268"
      },
      "execution_count": null,
      "outputs": [
        {
          "output_type": "execute_result",
          "data": {
            "text/plain": [
              "     ips    imu    emg\n",
              "0  12858  88450  88874\n",
              "1  45407  75023  75033\n",
              "2  46403  81650  82874\n",
              "3  67075  84117  84129"
            ],
            "text/html": [
              "\n",
              "  <div id=\"df-e01e88fd-9fba-4e8f-b423-713ac5a154df\" class=\"colab-df-container\">\n",
              "    <div>\n",
              "<style scoped>\n",
              "    .dataframe tbody tr th:only-of-type {\n",
              "        vertical-align: middle;\n",
              "    }\n",
              "\n",
              "    .dataframe tbody tr th {\n",
              "        vertical-align: top;\n",
              "    }\n",
              "\n",
              "    .dataframe thead th {\n",
              "        text-align: right;\n",
              "    }\n",
              "</style>\n",
              "<table border=\"1\" class=\"dataframe\">\n",
              "  <thead>\n",
              "    <tr style=\"text-align: right;\">\n",
              "      <th></th>\n",
              "      <th>ips</th>\n",
              "      <th>imu</th>\n",
              "      <th>emg</th>\n",
              "    </tr>\n",
              "  </thead>\n",
              "  <tbody>\n",
              "    <tr>\n",
              "      <th>0</th>\n",
              "      <td>12858</td>\n",
              "      <td>88450</td>\n",
              "      <td>88874</td>\n",
              "    </tr>\n",
              "    <tr>\n",
              "      <th>1</th>\n",
              "      <td>45407</td>\n",
              "      <td>75023</td>\n",
              "      <td>75033</td>\n",
              "    </tr>\n",
              "    <tr>\n",
              "      <th>2</th>\n",
              "      <td>46403</td>\n",
              "      <td>81650</td>\n",
              "      <td>82874</td>\n",
              "    </tr>\n",
              "    <tr>\n",
              "      <th>3</th>\n",
              "      <td>67075</td>\n",
              "      <td>84117</td>\n",
              "      <td>84129</td>\n",
              "    </tr>\n",
              "  </tbody>\n",
              "</table>\n",
              "</div>\n",
              "    <div class=\"colab-df-buttons\">\n",
              "\n",
              "  <div class=\"colab-df-container\">\n",
              "    <button class=\"colab-df-convert\" onclick=\"convertToInteractive('df-e01e88fd-9fba-4e8f-b423-713ac5a154df')\"\n",
              "            title=\"Convert this dataframe to an interactive table.\"\n",
              "            style=\"display:none;\">\n",
              "\n",
              "  <svg xmlns=\"http://www.w3.org/2000/svg\" height=\"24px\" viewBox=\"0 -960 960 960\">\n",
              "    <path d=\"M120-120v-720h720v720H120Zm60-500h600v-160H180v160Zm220 220h160v-160H400v160Zm0 220h160v-160H400v160ZM180-400h160v-160H180v160Zm440 0h160v-160H620v160ZM180-180h160v-160H180v160Zm440 0h160v-160H620v160Z\"/>\n",
              "  </svg>\n",
              "    </button>\n",
              "\n",
              "  <style>\n",
              "    .colab-df-container {\n",
              "      display:flex;\n",
              "      gap: 12px;\n",
              "    }\n",
              "\n",
              "    .colab-df-convert {\n",
              "      background-color: #E8F0FE;\n",
              "      border: none;\n",
              "      border-radius: 50%;\n",
              "      cursor: pointer;\n",
              "      display: none;\n",
              "      fill: #1967D2;\n",
              "      height: 32px;\n",
              "      padding: 0 0 0 0;\n",
              "      width: 32px;\n",
              "    }\n",
              "\n",
              "    .colab-df-convert:hover {\n",
              "      background-color: #E2EBFA;\n",
              "      box-shadow: 0px 1px 2px rgba(60, 64, 67, 0.3), 0px 1px 3px 1px rgba(60, 64, 67, 0.15);\n",
              "      fill: #174EA6;\n",
              "    }\n",
              "\n",
              "    .colab-df-buttons div {\n",
              "      margin-bottom: 4px;\n",
              "    }\n",
              "\n",
              "    [theme=dark] .colab-df-convert {\n",
              "      background-color: #3B4455;\n",
              "      fill: #D2E3FC;\n",
              "    }\n",
              "\n",
              "    [theme=dark] .colab-df-convert:hover {\n",
              "      background-color: #434B5C;\n",
              "      box-shadow: 0px 1px 3px 1px rgba(0, 0, 0, 0.15);\n",
              "      filter: drop-shadow(0px 1px 2px rgba(0, 0, 0, 0.3));\n",
              "      fill: #FFFFFF;\n",
              "    }\n",
              "  </style>\n",
              "\n",
              "    <script>\n",
              "      const buttonEl =\n",
              "        document.querySelector('#df-e01e88fd-9fba-4e8f-b423-713ac5a154df button.colab-df-convert');\n",
              "      buttonEl.style.display =\n",
              "        google.colab.kernel.accessAllowed ? 'block' : 'none';\n",
              "\n",
              "      async function convertToInteractive(key) {\n",
              "        const element = document.querySelector('#df-e01e88fd-9fba-4e8f-b423-713ac5a154df');\n",
              "        const dataTable =\n",
              "          await google.colab.kernel.invokeFunction('convertToInteractive',\n",
              "                                                    [key], {});\n",
              "        if (!dataTable) return;\n",
              "\n",
              "        const docLinkHtml = 'Like what you see? Visit the ' +\n",
              "          '<a target=\"_blank\" href=https://colab.research.google.com/notebooks/data_table.ipynb>data table notebook</a>'\n",
              "          + ' to learn more about interactive tables.';\n",
              "        element.innerHTML = '';\n",
              "        dataTable['output_type'] = 'display_data';\n",
              "        await google.colab.output.renderOutput(dataTable, element);\n",
              "        const docLink = document.createElement('div');\n",
              "        docLink.innerHTML = docLinkHtml;\n",
              "        element.appendChild(docLink);\n",
              "      }\n",
              "    </script>\n",
              "  </div>\n",
              "\n",
              "\n",
              "<div id=\"df-2f73a082-f579-46f0-89d7-595c4948007c\">\n",
              "  <button class=\"colab-df-quickchart\" onclick=\"quickchart('df-2f73a082-f579-46f0-89d7-595c4948007c')\"\n",
              "            title=\"Suggest charts\"\n",
              "            style=\"display:none;\">\n",
              "\n",
              "<svg xmlns=\"http://www.w3.org/2000/svg\" height=\"24px\"viewBox=\"0 0 24 24\"\n",
              "     width=\"24px\">\n",
              "    <g>\n",
              "        <path d=\"M19 3H5c-1.1 0-2 .9-2 2v14c0 1.1.9 2 2 2h14c1.1 0 2-.9 2-2V5c0-1.1-.9-2-2-2zM9 17H7v-7h2v7zm4 0h-2V7h2v10zm4 0h-2v-4h2v4z\"/>\n",
              "    </g>\n",
              "</svg>\n",
              "  </button>\n",
              "\n",
              "<style>\n",
              "  .colab-df-quickchart {\n",
              "      --bg-color: #E8F0FE;\n",
              "      --fill-color: #1967D2;\n",
              "      --hover-bg-color: #E2EBFA;\n",
              "      --hover-fill-color: #174EA6;\n",
              "      --disabled-fill-color: #AAA;\n",
              "      --disabled-bg-color: #DDD;\n",
              "  }\n",
              "\n",
              "  [theme=dark] .colab-df-quickchart {\n",
              "      --bg-color: #3B4455;\n",
              "      --fill-color: #D2E3FC;\n",
              "      --hover-bg-color: #434B5C;\n",
              "      --hover-fill-color: #FFFFFF;\n",
              "      --disabled-bg-color: #3B4455;\n",
              "      --disabled-fill-color: #666;\n",
              "  }\n",
              "\n",
              "  .colab-df-quickchart {\n",
              "    background-color: var(--bg-color);\n",
              "    border: none;\n",
              "    border-radius: 50%;\n",
              "    cursor: pointer;\n",
              "    display: none;\n",
              "    fill: var(--fill-color);\n",
              "    height: 32px;\n",
              "    padding: 0;\n",
              "    width: 32px;\n",
              "  }\n",
              "\n",
              "  .colab-df-quickchart:hover {\n",
              "    background-color: var(--hover-bg-color);\n",
              "    box-shadow: 0 1px 2px rgba(60, 64, 67, 0.3), 0 1px 3px 1px rgba(60, 64, 67, 0.15);\n",
              "    fill: var(--button-hover-fill-color);\n",
              "  }\n",
              "\n",
              "  .colab-df-quickchart-complete:disabled,\n",
              "  .colab-df-quickchart-complete:disabled:hover {\n",
              "    background-color: var(--disabled-bg-color);\n",
              "    fill: var(--disabled-fill-color);\n",
              "    box-shadow: none;\n",
              "  }\n",
              "\n",
              "  .colab-df-spinner {\n",
              "    border: 2px solid var(--fill-color);\n",
              "    border-color: transparent;\n",
              "    border-bottom-color: var(--fill-color);\n",
              "    animation:\n",
              "      spin 1s steps(1) infinite;\n",
              "  }\n",
              "\n",
              "  @keyframes spin {\n",
              "    0% {\n",
              "      border-color: transparent;\n",
              "      border-bottom-color: var(--fill-color);\n",
              "      border-left-color: var(--fill-color);\n",
              "    }\n",
              "    20% {\n",
              "      border-color: transparent;\n",
              "      border-left-color: var(--fill-color);\n",
              "      border-top-color: var(--fill-color);\n",
              "    }\n",
              "    30% {\n",
              "      border-color: transparent;\n",
              "      border-left-color: var(--fill-color);\n",
              "      border-top-color: var(--fill-color);\n",
              "      border-right-color: var(--fill-color);\n",
              "    }\n",
              "    40% {\n",
              "      border-color: transparent;\n",
              "      border-right-color: var(--fill-color);\n",
              "      border-top-color: var(--fill-color);\n",
              "    }\n",
              "    60% {\n",
              "      border-color: transparent;\n",
              "      border-right-color: var(--fill-color);\n",
              "    }\n",
              "    80% {\n",
              "      border-color: transparent;\n",
              "      border-right-color: var(--fill-color);\n",
              "      border-bottom-color: var(--fill-color);\n",
              "    }\n",
              "    90% {\n",
              "      border-color: transparent;\n",
              "      border-bottom-color: var(--fill-color);\n",
              "    }\n",
              "  }\n",
              "</style>\n",
              "\n",
              "  <script>\n",
              "    async function quickchart(key) {\n",
              "      const quickchartButtonEl =\n",
              "        document.querySelector('#' + key + ' button');\n",
              "      quickchartButtonEl.disabled = true;  // To prevent multiple clicks.\n",
              "      quickchartButtonEl.classList.add('colab-df-spinner');\n",
              "      try {\n",
              "        const charts = await google.colab.kernel.invokeFunction(\n",
              "            'suggestCharts', [key], {});\n",
              "      } catch (error) {\n",
              "        console.error('Error during call to suggestCharts:', error);\n",
              "      }\n",
              "      quickchartButtonEl.classList.remove('colab-df-spinner');\n",
              "      quickchartButtonEl.classList.add('colab-df-quickchart-complete');\n",
              "    }\n",
              "    (() => {\n",
              "      let quickchartButtonEl =\n",
              "        document.querySelector('#df-2f73a082-f579-46f0-89d7-595c4948007c button');\n",
              "      quickchartButtonEl.style.display =\n",
              "        google.colab.kernel.accessAllowed ? 'block' : 'none';\n",
              "    })();\n",
              "  </script>\n",
              "</div>\n",
              "\n",
              "  <div id=\"id_9f51ee1f-6a51-4b62-8bb7-35258a25a769\">\n",
              "    <style>\n",
              "      .colab-df-generate {\n",
              "        background-color: #E8F0FE;\n",
              "        border: none;\n",
              "        border-radius: 50%;\n",
              "        cursor: pointer;\n",
              "        display: none;\n",
              "        fill: #1967D2;\n",
              "        height: 32px;\n",
              "        padding: 0 0 0 0;\n",
              "        width: 32px;\n",
              "      }\n",
              "\n",
              "      .colab-df-generate:hover {\n",
              "        background-color: #E2EBFA;\n",
              "        box-shadow: 0px 1px 2px rgba(60, 64, 67, 0.3), 0px 1px 3px 1px rgba(60, 64, 67, 0.15);\n",
              "        fill: #174EA6;\n",
              "      }\n",
              "\n",
              "      [theme=dark] .colab-df-generate {\n",
              "        background-color: #3B4455;\n",
              "        fill: #D2E3FC;\n",
              "      }\n",
              "\n",
              "      [theme=dark] .colab-df-generate:hover {\n",
              "        background-color: #434B5C;\n",
              "        box-shadow: 0px 1px 3px 1px rgba(0, 0, 0, 0.15);\n",
              "        filter: drop-shadow(0px 1px 2px rgba(0, 0, 0, 0.3));\n",
              "        fill: #FFFFFF;\n",
              "      }\n",
              "    </style>\n",
              "    <button class=\"colab-df-generate\" onclick=\"generateWithVariable('numbreMean')\"\n",
              "            title=\"Generate code using this dataframe.\"\n",
              "            style=\"display:none;\">\n",
              "\n",
              "  <svg xmlns=\"http://www.w3.org/2000/svg\" height=\"24px\"viewBox=\"0 0 24 24\"\n",
              "       width=\"24px\">\n",
              "    <path d=\"M7,19H8.4L18.45,9,17,7.55,7,17.6ZM5,21V16.75L18.45,3.32a2,2,0,0,1,2.83,0l1.4,1.43a1.91,1.91,0,0,1,.58,1.4,1.91,1.91,0,0,1-.58,1.4L9.25,21ZM18.45,9,17,7.55Zm-12,3A5.31,5.31,0,0,0,4.9,8.1,5.31,5.31,0,0,0,1,6.5,5.31,5.31,0,0,0,4.9,4.9,5.31,5.31,0,0,0,6.5,1,5.31,5.31,0,0,0,8.1,4.9,5.31,5.31,0,0,0,12,6.5,5.46,5.46,0,0,0,6.5,12Z\"/>\n",
              "  </svg>\n",
              "    </button>\n",
              "    <script>\n",
              "      (() => {\n",
              "      const buttonEl =\n",
              "        document.querySelector('#id_9f51ee1f-6a51-4b62-8bb7-35258a25a769 button.colab-df-generate');\n",
              "      buttonEl.style.display =\n",
              "        google.colab.kernel.accessAllowed ? 'block' : 'none';\n",
              "\n",
              "      buttonEl.onclick = () => {\n",
              "        google.colab.notebook.generateWithVariable('numbreMean');\n",
              "      }\n",
              "      })();\n",
              "    </script>\n",
              "  </div>\n",
              "\n",
              "    </div>\n",
              "  </div>\n"
            ],
            "application/vnd.google.colaboratory.intrinsic+json": {
              "type": "dataframe",
              "variable_name": "numbreMean",
              "summary": "{\n  \"name\": \"numbreMean\",\n  \"rows\": 4,\n  \"fields\": [\n    {\n      \"column\": \"ips\",\n      \"properties\": {\n        \"dtype\": \"number\",\n        \"std\": 22401,\n        \"min\": 12858,\n        \"max\": 67075,\n        \"num_unique_values\": 4,\n        \"samples\": [\n          45407,\n          67075,\n          12858\n        ],\n        \"semantic_type\": \"\",\n        \"description\": \"\"\n      }\n    },\n    {\n      \"column\": \"imu\",\n      \"properties\": {\n        \"dtype\": \"number\",\n        \"std\": 5612,\n        \"min\": 75023,\n        \"max\": 88450,\n        \"num_unique_values\": 4,\n        \"samples\": [\n          75023,\n          84117,\n          88450\n        ],\n        \"semantic_type\": \"\",\n        \"description\": \"\"\n      }\n    },\n    {\n      \"column\": \"emg\",\n      \"properties\": {\n        \"dtype\": \"number\",\n        \"std\": 5743,\n        \"min\": 75033,\n        \"max\": 88874,\n        \"num_unique_values\": 4,\n        \"samples\": [\n          75033,\n          84129,\n          88874\n        ],\n        \"semantic_type\": \"\",\n        \"description\": \"\"\n      }\n    }\n  ]\n}"
            }
          },
          "metadata": {},
          "execution_count": 74
        }
      ]
    },
    {
      "cell_type": "code",
      "source": [
        "moyenne_min = numbreMean.mean().min()\n",
        "moyenne_min"
      ],
      "metadata": {
        "colab": {
          "base_uri": "https://localhost:8080/"
        },
        "id": "pTYlCwrmgBm5",
        "outputId": "70406522-9b40-42f7-f705-91d7e62968cb"
      },
      "execution_count": null,
      "outputs": [
        {
          "output_type": "execute_result",
          "data": {
            "text/plain": [
              "42935.75"
            ]
          },
          "metadata": {},
          "execution_count": 75
        }
      ]
    },
    {
      "cell_type": "code",
      "source": [
        "valeur_arrondie = int(round(moyenne_min, -3))  # Arrondir à la centaine la plus proche\n",
        "print(\"Valeur arrondie la plus proche:\", valeur_arrondie)"
      ],
      "metadata": {
        "colab": {
          "base_uri": "https://localhost:8080/"
        },
        "id": "2zAfK_KEfkLw",
        "outputId": "c014bf59-d174-4aa6-bbba-fc63f0bf9ddc"
      },
      "execution_count": null,
      "outputs": [
        {
          "output_type": "stream",
          "name": "stdout",
          "text": [
            "Valeur arrondie la plus proche: 43000\n"
          ]
        }
      ]
    },
    {
      "cell_type": "code",
      "source": [
        "from sklearn.utils import resample\n",
        "def align_modalities_to_target(data, target_column, target_size, random_state=42):\n",
        "\n",
        "  aligned_data = []\n",
        "  # Parcourir chaque catégorie\n",
        "  for category in data[target_column].unique():\n",
        "    category_data = data[data[target_column] == category]\n",
        "    current_size = len(category_data)\n",
        "\n",
        "    if current_size > target_size:\n",
        "      # Réduire si la catégorie a plus de données que la cible\n",
        "      reduced_data = category_data.sample(n=target_size, random_state=random_state)\n",
        "      aligned_data.append(reduced_data)\n",
        "    elif current_size < target_size:\n",
        "      # Augmenter si la catégorie a moins de données que la cible\n",
        "      increased_data = resample(\n",
        "        category_data,\n",
        "        replace=True,  # Over-sampling\n",
        "        n_samples=target_size,\n",
        "        random_state=random_state\n",
        "      )\n",
        "      aligned_data.append(increased_data)\n",
        "    else:\n",
        "      # Si déjà aligné, conserver tel quel\n",
        "      aligned_data.append(category_data)\n",
        "\n",
        "  return pd.concat(aligned_data).reset_index(drop=True)"
      ],
      "metadata": {
        "id": "Fjo7Sv3oaYl8"
      },
      "execution_count": null,
      "outputs": []
    },
    {
      "cell_type": "code",
      "source": [
        "print(\"normilized Imu : \", imu_normalized.shape)\n",
        "print(\"normilized Emg : \", emg_normalized.shape)\n",
        "print(\"normilized ips : \", ips_normalized.shape)"
      ],
      "metadata": {
        "colab": {
          "base_uri": "https://localhost:8080/"
        },
        "id": "3aI9jURL5LYC",
        "outputId": "7cae26ee-920a-44ba-b784-b4d97c41e0ef"
      },
      "execution_count": null,
      "outputs": [
        {
          "output_type": "stream",
          "name": "stdout",
          "text": [
            "normilized Imu :  (329240, 56)\n",
            "normilized Emg :  (330910, 18)\n",
            "normilized ips :  (171743, 684)\n"
          ]
        }
      ]
    },
    {
      "cell_type": "code",
      "source": [
        "ips_aligned = align_modalities_to_target(ips_normalized, target_column='categorie', target_size=valeur_arrondie)\n",
        "imu_aligned = align_modalities_to_target(imu_normalized, target_column='categorie', target_size=valeur_arrondie)\n",
        "emg_aligned = align_modalities_to_target(emg_normalized, target_column='categorie', target_size=valeur_arrondie)"
      ],
      "metadata": {
        "id": "1nMAqsCXektN"
      },
      "execution_count": null,
      "outputs": []
    },
    {
      "cell_type": "code",
      "source": [
        "print(\"aligned Imu : \", imu_aligned.shape)\n",
        "print(\"aligned Emg : \", emg_aligned.shape)\n",
        "print(\"aligned ips : \", ips_aligned.shape)"
      ],
      "metadata": {
        "colab": {
          "base_uri": "https://localhost:8080/"
        },
        "id": "Ik8WRZyYekm8",
        "outputId": "399d2f59-e612-4293-965d-74ecb17f956b"
      },
      "execution_count": null,
      "outputs": [
        {
          "output_type": "stream",
          "name": "stdout",
          "text": [
            "aligned Imu :  (172000, 56)\n",
            "aligned Emg :  (172000, 18)\n",
            "aligned ips :  (172000, 684)\n"
          ]
        }
      ]
    },
    {
      "cell_type": "code",
      "source": [
        "ips_distribution = calculate_category_distribution(ips_aligned, target_column='categorie')\n",
        "imu_distribution = calculate_category_distribution(imu_aligned, target_column='categorie')\n",
        "emg_distribution = calculate_category_distribution(emg_aligned, target_column='categorie')\n",
        "\n",
        "distribution_table = pd.DataFrame({\n",
        "    'ips': ips_distribution,\n",
        "    'imu': imu_distribution,\n",
        "    'emg': emg_distribution\n",
        "}).fillna(0).astype(int)\n",
        "\n",
        "print(distribution_table)"
      ],
      "metadata": {
        "colab": {
          "base_uri": "https://localhost:8080/"
        },
        "id": "zp0VGYVKekgO",
        "outputId": "ece61268-aa9b-4b26-d06b-1a662f79be76"
      },
      "execution_count": null,
      "outputs": [
        {
          "output_type": "stream",
          "name": "stdout",
          "text": [
            "             ips    imu    emg\n",
            "categorie                     \n",
            "0          43000  43000  43000\n",
            "1          43000  43000  43000\n",
            "2          43000  43000  43000\n",
            "3          43000  43000  43000\n"
          ]
        }
      ]
    },
    {
      "cell_type": "code",
      "source": [
        "# 'id' et 'categorie' à part\n",
        "categories = emg_aligned[['id', 'categorie']]\n",
        "# Supprimer les colonnes redondantes des DataFrames individuels\n",
        "emg_data = emg_aligned.drop(columns=['id', 'categorie'])\n",
        "ips_data = ips_aligned.drop(columns=['id', 'categorie'])\n",
        "imu_data = imu_aligned.drop(columns=['id', 'categorie'])\n",
        "# Concaténer les données sans les colonnes dupliquées\n",
        "all_aligned_data = pd.concat([emg_data, ips_data, imu_data, categories], axis=1)"
      ],
      "metadata": {
        "id": "g-XW9MX99zv9"
      },
      "execution_count": null,
      "outputs": []
    },
    {
      "cell_type": "code",
      "source": [
        "# Vérifier la forme du DataFrame résultant\n",
        "print(\"Shape de all_aligned_data :\", all_aligned_data.shape)\n",
        "\n",
        "# Vérifier les premières lignes pour s'assurer que les données sont correctes\n",
        "print(all_aligned_data.head())"
      ],
      "metadata": {
        "colab": {
          "base_uri": "https://localhost:8080/"
        },
        "id": "lyZdpwNn-FJI",
        "outputId": "f6597daf-0bfd-47bd-bd83-f5dec03a5757"
      },
      "execution_count": null,
      "outputs": [
        {
          "output_type": "stream",
          "name": "stdout",
          "text": [
            "Shape de all_aligned_data : (172000, 754)\n",
            "     R_Vlat      R_RF      R_ST      R_TA    L_Vlat      L_RF      L_ST  \\\n",
            "0 -1.255556  0.646434 -0.536403  0.857758  0.216019 -0.022277  0.104132   \n",
            "1  0.494693 -0.159464 -0.085246 -1.986042 -0.941090 -1.427089 -0.549837   \n",
            "2 -0.758321 -0.656587 -0.295860 -5.564186  1.393137 -2.057526  0.131601   \n",
            "3 -0.985203  0.227583 -0.996253 -0.136097 -0.523258  0.491972  0.070631   \n",
            "4  0.144257  0.588693  0.085851 -3.120032  0.359972 -0.046455  0.121175   \n",
            "\n",
            "       L_TA      R_MG      R_LG  ...  R_F_Acc_Y  R_F_Acc_Z  R_F_Gyr_X  \\\n",
            "0  0.081469 -0.036459  0.368538  ...   0.307654   0.099212  -1.213839   \n",
            "1  2.560845 -0.069939 -0.533157  ...  -1.252182   0.441247   0.810265   \n",
            "2 -1.027288  0.189120  0.029485  ...   0.130687   0.366296   0.129835   \n",
            "3 -1.310905  0.123376 -0.168818  ...  -0.852217   0.573079   0.239303   \n",
            "4  4.379372 -0.421386 -1.026465  ...  -1.178759   0.441207   0.173372   \n",
            "\n",
            "   R_F_Gyr_Y  R_F_Gyr_Z  R_F_Roll  R_F_Pitch   R_F_Yaw  id  categorie  \n",
            "0  -0.200806  -0.181458 -0.067642  -0.095305  0.359882   4          0  \n",
            "1  -0.103103  -3.800289 -2.687247  -1.302106 -2.410492   5          0  \n",
            "2   0.146836   0.632775 -0.295644   0.035273  0.340898   8          0  \n",
            "3   0.195799  -0.066288 -0.255152   0.048118  0.541032   3          0  \n",
            "4   0.150642  -0.271123  1.287298   1.724755  0.499601  19          0  \n",
            "\n",
            "[5 rows x 754 columns]\n"
          ]
        }
      ]
    },
    {
      "cell_type": "code",
      "source": [
        "\"\"\"# Concaténation des modalités alignées\n",
        "all_aligned_data = pd.concat([emg_aligned, ips_aligned ,imu_aligned], axis=0)\n",
        "# Vérification des distributions\n",
        "\"\"\""
      ],
      "metadata": {
        "id": "xI0WYzlWBGMl",
        "colab": {
          "base_uri": "https://localhost:8080/",
          "height": 35
        },
        "outputId": "f284c9a9-68c8-4746-dfe6-2b37af83ab62"
      },
      "execution_count": null,
      "outputs": [
        {
          "output_type": "execute_result",
          "data": {
            "text/plain": [
              "'# Concaténation des modalités alignées\\nall_aligned_data = pd.concat([emg_aligned, ips_aligned ,imu_aligned], axis=0)\\n# Vérification des distributions\\n'"
            ],
            "application/vnd.google.colaboratory.intrinsic+json": {
              "type": "string"
            }
          },
          "metadata": {},
          "execution_count": 82
        }
      ]
    },
    {
      "cell_type": "code",
      "source": [
        "print(\"Final Category Distribution Across Modalities:\")\n",
        "print(all_aligned_data['categorie'].value_counts())"
      ],
      "metadata": {
        "colab": {
          "base_uri": "https://localhost:8080/"
        },
        "id": "ZNE02ILZ-KXT",
        "outputId": "dd4fe88b-ab82-4267-8554-5b8096d090a3"
      },
      "execution_count": null,
      "outputs": [
        {
          "output_type": "stream",
          "name": "stdout",
          "text": [
            "Final Category Distribution Across Modalities:\n",
            "categorie\n",
            "0    43000\n",
            "1    43000\n",
            "2    43000\n",
            "3    43000\n",
            "Name: count, dtype: int64\n"
          ]
        }
      ]
    },
    {
      "cell_type": "code",
      "source": [
        "emg_aligned.to_csv(os.path.join(processed_data_path, 'emg_aligned.csv'), index=False)\n",
        "imu_aligned.to_csv(os.path.join(processed_data_path, 'imu_aligned.csv'), index=False)\n",
        "ips_aligned.to_csv(os.path.join(processed_data_path, 'ips_aligned.csv'), index=False)"
      ],
      "metadata": {
        "id": "cUX5lrOlK3_W"
      },
      "execution_count": null,
      "outputs": []
    },
    {
      "cell_type": "code",
      "source": [
        "all_aligned_data.to_csv(os.path.join(processed_data_path, 'all_aligned_data.csv'), index=False)"
      ],
      "metadata": {
        "id": "ay-oauz_83bx"
      },
      "execution_count": null,
      "outputs": []
    },
    {
      "cell_type": "code",
      "source": [
        "processed_data_path = '/content/drive/MyDrive/MovePort/processedData'\n",
        "\n",
        "emg_aligned = pd.read_csv(f\"{processed_data_path}/emg_aligned.csv\")\n",
        "imu_aligned = pd.read_csv(f\"{processed_data_path}/imu_aligned.csv\")\n",
        "ips_aligned = pd.read_csv(f\"{processed_data_path}/ips_aligned.csv\")"
      ],
      "metadata": {
        "id": "bfAi3RijNQlc"
      },
      "execution_count": null,
      "outputs": []
    },
    {
      "cell_type": "code",
      "source": [
        "processed_data_path = '/content/drive/MyDrive/MovePort/processedData'\n",
        "all_aligned_data = pd.read_csv(f\"{processed_data_path}/all_aligned_data.csv\")"
      ],
      "metadata": {
        "id": "xTCAl0lxufLR"
      },
      "execution_count": null,
      "outputs": []
    },
    {
      "cell_type": "code",
      "source": [
        "print(\"Shape de all_aligned_data :\", all_aligned_data.shape)\n",
        "print(\"Colonnes :\", all_aligned_data.columns)\n",
        "print(\"Valeurs uniques dans 'categorie' :\", all_aligned_data['categorie'].unique())\n",
        "print(\"Valeurs uniques dans 'id' :\", all_aligned_data['id'].unique())\n"
      ],
      "metadata": {
        "colab": {
          "base_uri": "https://localhost:8080/"
        },
        "id": "yGtJkD2iP4Yn",
        "outputId": "06e90bfb-882f-468d-a601-218904f01748"
      },
      "execution_count": null,
      "outputs": [
        {
          "output_type": "stream",
          "name": "stdout",
          "text": [
            "Shape de all_aligned_data : (172000, 754)\n",
            "Colonnes : Index(['R_Vlat', 'R_RF', 'R_ST', 'R_TA', 'L_Vlat', 'L_RF', 'L_ST', 'L_TA',\n",
            "       'R_MG', 'R_LG',\n",
            "       ...\n",
            "       'R_F_Acc_Y', 'R_F_Acc_Z', 'R_F_Gyr_X', 'R_F_Gyr_Y', 'R_F_Gyr_Z',\n",
            "       'R_F_Roll', 'R_F_Pitch', 'R_F_Yaw', 'id', 'categorie'],\n",
            "      dtype='object', length=754)\n",
            "Valeurs uniques dans 'categorie' : [0 1 2 3]\n",
            "Valeurs uniques dans 'id' : [ 4  5  8  3 19 14 13  7  6 20 17 23 21  9 24 18  1 25  2 11 12 16 10 15\n",
            " 22]\n"
          ]
        }
      ]
    },
    {
      "cell_type": "code",
      "source": [
        "\"\"\"# set id and categorie to end of columns (comme ça on sait qu'ils sont en fin)\n",
        "def move_columns_to_end(df, columns_to_move):\n",
        "  remaining_columns = [col for col in df.columns if col not in columns_to_move]\n",
        "  return df[remaining_columns + columns_to_move]\"\"\""
      ],
      "metadata": {
        "id": "gdZ0DahUcdQY",
        "colab": {
          "base_uri": "https://localhost:8080/",
          "height": 53
        },
        "outputId": "ece0f752-17a4-4616-bc8f-794bc0792946"
      },
      "execution_count": null,
      "outputs": [
        {
          "output_type": "execute_result",
          "data": {
            "text/plain": [
              "\"# set id and categorie to end of columns (comme ça on sait qu'ils sont en fin)\\ndef move_columns_to_end(df, columns_to_move):\\n  remaining_columns = [col for col in df.columns if col not in columns_to_move]\\n  return df[remaining_columns + columns_to_move]\""
            ],
            "application/vnd.google.colaboratory.intrinsic+json": {
              "type": "string"
            }
          },
          "metadata": {},
          "execution_count": 7
        }
      ]
    },
    {
      "cell_type": "code",
      "source": [
        "#print(\"Colonnes dans les données fusionnées :\", all_aligned_data.columns == 'categorie')"
      ],
      "metadata": {
        "id": "Y7imjEgmRemq"
      },
      "execution_count": null,
      "outputs": []
    },
    {
      "cell_type": "code",
      "source": [
        "\"\"\"# Réorganiser les colonnes pour s'assurer que 'categorie' et 'id' sont à la fin\n",
        "cols = [col for col in all_aligned_data.columns if col not in ['categorie', 'id']]\n",
        "cols += ['categorie', 'id']\n",
        "all_aligned_data = all_aligned_data[cols]\"\"\""
      ],
      "metadata": {
        "colab": {
          "base_uri": "https://localhost:8080/",
          "height": 53
        },
        "id": "ktmwbwFbXEON",
        "outputId": "470e7775-ff30-4a1f-f2b5-4d626bc37e8b"
      },
      "execution_count": null,
      "outputs": [
        {
          "output_type": "execute_result",
          "data": {
            "text/plain": [
              "\"# Réorganiser les colonnes pour s'assurer que 'categorie' et 'id' sont à la fin\\ncols = [col for col in all_aligned_data.columns if col not in ['categorie', 'id']]\\ncols += ['categorie', 'id']\\nall_aligned_data = all_aligned_data[cols]\""
            ],
            "application/vnd.google.colaboratory.intrinsic+json": {
              "type": "string"
            }
          },
          "metadata": {},
          "execution_count": 52
        }
      ]
    },
    {
      "cell_type": "code",
      "source": [
        "#all_aligned_data = move_columns_to_end(all_aligned_data, ['id', 'categorie'])"
      ],
      "metadata": {
        "id": "OosFIPy7cxcl"
      },
      "execution_count": null,
      "outputs": []
    },
    {
      "cell_type": "code",
      "source": [
        "def segment_data(df, window_size, step_size):\n",
        "\n",
        "  if window_size <= 0 or step_size <= 0:\n",
        "    raise ValueError(\"Les paramètres 'window_size' et 'step_size' doivent être positifs.\")\n",
        "  if 'categorie' not in df.columns or 'id' not in df.columns:\n",
        "    raise KeyError(\"Les colonnes 'categorie' et 'id' doivent exister dans les données.\")\n",
        "  if len(df) < window_size:\n",
        "    raise ValueError(\"La taille des données est inférieure à 'window_size'.\")\n",
        "\n",
        "  segments = []\n",
        "  targets = []\n",
        "\n",
        "  # Segmentation\n",
        "  for start in range(0, len(df) - window_size + 1, step_size):\n",
        "    # Fenêtre des données\n",
        "    window = df.iloc[start:start + window_size].drop(columns=['categorie', 'id'], axis=1).values\n",
        "    segments.append(window)\n",
        "    # La cible associée (par convention, on prend la catégorie de la dernière ligne de la fenêtre)\n",
        "    target = df.iloc[start + window_size - 1]['categorie']\n",
        "    targets.append(int(target))\n",
        "\n",
        "  # Conversion en tableaux NumPy\n",
        "  segments_array = np.array(segments)\n",
        "  targets_array = np.array(targets)\n",
        "\n",
        "  return segments_array, targets_array\n"
      ],
      "metadata": {
        "id": "Zxh8XjxHe6cM"
      },
      "execution_count": null,
      "outputs": []
    },
    {
      "cell_type": "code",
      "source": [
        "print(\"imu aligned types : \", imu_aligned.dtypes)\n",
        "print(\"emg aligned types : \", emg_aligned.dtypes)\n",
        "print(\"ips aligned types : \", ips_aligned.dtypes)"
      ],
      "metadata": {
        "colab": {
          "base_uri": "https://localhost:8080/"
        },
        "id": "N7B6Mmoahv3r",
        "outputId": "1df83ab1-954c-41f7-dad1-37cccf4fbbe8"
      },
      "execution_count": null,
      "outputs": [
        {
          "output_type": "stream",
          "name": "stdout",
          "text": [
            "imu aligned types :  Head_Acc_X     float64\n",
            "Head_Acc_Y     float64\n",
            "Head_Acc_Z     float64\n",
            "Head_Gyr_X     float64\n",
            "Head_Gyr_Y     float64\n",
            "Head_Gyr_Z     float64\n",
            "Head_Roll      float64\n",
            "Head_Pitch     float64\n",
            "Head_Yaw       float64\n",
            "Waist_Acc_X    float64\n",
            "Waist_Acc_Y    float64\n",
            "Waist_Acc_Z    float64\n",
            "Waist_Gyr_X    float64\n",
            "Waist_Gyr_Y    float64\n",
            "Waist_Gyr_Z    float64\n",
            "Waist_Roll     float64\n",
            "Waist_Pitch    float64\n",
            "Waist_Yaw      float64\n",
            "L_H_Acc_X      float64\n",
            "L_H_Acc_Y      float64\n",
            "L_H_Acc_Z      float64\n",
            "L_H_Gyr_X      float64\n",
            "L_H_Gyr_Y      float64\n",
            "L_H_Gyr_Z      float64\n",
            "L_H_Roll       float64\n",
            "L_H_Pitch      float64\n",
            "L_H_Yaw        float64\n",
            "R_H_Acc_X      float64\n",
            "R_H_Acc_Y      float64\n",
            "R_H_Acc_Z      float64\n",
            "R_H_Gyr_X      float64\n",
            "R_H_Gyr_Y      float64\n",
            "R_H_Gyr_Z      float64\n",
            "R_H_Roll       float64\n",
            "R_H_Pitch      float64\n",
            "R_H_Yaw        float64\n",
            "L_F_Acc_X      float64\n",
            "L_F_Acc_Y      float64\n",
            "L_F_Acc_Z      float64\n",
            "L_F_Gyr_X      float64\n",
            "L_F_Gyr_Y      float64\n",
            "L_F_Gyr_Z      float64\n",
            "L_F_Roll       float64\n",
            "L_F_Pitch      float64\n",
            "L_F_Yaw        float64\n",
            "R_F_Acc_X      float64\n",
            "R_F_Acc_Y      float64\n",
            "R_F_Acc_Z      float64\n",
            "R_F_Gyr_X      float64\n",
            "R_F_Gyr_Y      float64\n",
            "R_F_Gyr_Z      float64\n",
            "R_F_Roll       float64\n",
            "R_F_Pitch      float64\n",
            "R_F_Yaw        float64\n",
            "categorie        int64\n",
            "id               int64\n",
            "dtype: object\n",
            "emg aligned types :  R_Vlat       float64\n",
            "R_RF         float64\n",
            "R_ST         float64\n",
            "R_TA         float64\n",
            "L_Vlat       float64\n",
            "L_RF         float64\n",
            "L_ST         float64\n",
            "L_TA         float64\n",
            "R_MG         float64\n",
            "R_LG         float64\n",
            "R_SOL        float64\n",
            "R_IL         float64\n",
            "L_MG         float64\n",
            "L_LG         float64\n",
            "L_SOL        float64\n",
            "L_IL         float64\n",
            "categorie      int64\n",
            "id             int64\n",
            "dtype: object\n",
            "ips aligned types :  0.0          float64\n",
            "1.0          float64\n",
            "2.0          float64\n",
            "3.0          float64\n",
            "4.0          float64\n",
            "              ...   \n",
            "679.0        float64\n",
            "680.0        float64\n",
            "681.0        float64\n",
            "categorie      int64\n",
            "id             int64\n",
            "Length: 684, dtype: object\n"
          ]
        }
      ]
    },
    {
      "cell_type": "code",
      "source": [
        "print(\"emg procces nulls : \", emg_aligned.isnull().sum())\n",
        "print(\"imu procces nulls : \", imu_aligned.isnull().sum())\n",
        "print(\"ips procces nulls : \", ips_aligned.isnull().sum())"
      ],
      "metadata": {
        "colab": {
          "base_uri": "https://localhost:8080/"
        },
        "id": "pZZYQlhojLAj",
        "outputId": "5c4be3a6-de46-4165-cfa1-d96274dbeca5"
      },
      "execution_count": null,
      "outputs": [
        {
          "output_type": "stream",
          "name": "stdout",
          "text": [
            "emg procces nulls :  R_Vlat       0\n",
            "R_RF         0\n",
            "R_ST         0\n",
            "R_TA         0\n",
            "L_Vlat       0\n",
            "L_RF         0\n",
            "L_ST         0\n",
            "L_TA         0\n",
            "R_MG         0\n",
            "R_LG         0\n",
            "R_SOL        0\n",
            "R_IL         0\n",
            "L_MG         0\n",
            "L_LG         0\n",
            "L_SOL        0\n",
            "L_IL         0\n",
            "categorie    0\n",
            "id           0\n",
            "dtype: int64\n",
            "imu procces nulls :  Head_Acc_X     0\n",
            "Head_Acc_Y     0\n",
            "Head_Acc_Z     0\n",
            "Head_Gyr_X     0\n",
            "Head_Gyr_Y     0\n",
            "Head_Gyr_Z     0\n",
            "Head_Roll      0\n",
            "Head_Pitch     0\n",
            "Head_Yaw       0\n",
            "Waist_Acc_X    0\n",
            "Waist_Acc_Y    0\n",
            "Waist_Acc_Z    0\n",
            "Waist_Gyr_X    0\n",
            "Waist_Gyr_Y    0\n",
            "Waist_Gyr_Z    0\n",
            "Waist_Roll     0\n",
            "Waist_Pitch    0\n",
            "Waist_Yaw      0\n",
            "L_H_Acc_X      0\n",
            "L_H_Acc_Y      0\n",
            "L_H_Acc_Z      0\n",
            "L_H_Gyr_X      0\n",
            "L_H_Gyr_Y      0\n",
            "L_H_Gyr_Z      0\n",
            "L_H_Roll       0\n",
            "L_H_Pitch      0\n",
            "L_H_Yaw        0\n",
            "R_H_Acc_X      0\n",
            "R_H_Acc_Y      0\n",
            "R_H_Acc_Z      0\n",
            "R_H_Gyr_X      0\n",
            "R_H_Gyr_Y      0\n",
            "R_H_Gyr_Z      0\n",
            "R_H_Roll       0\n",
            "R_H_Pitch      0\n",
            "R_H_Yaw        0\n",
            "L_F_Acc_X      0\n",
            "L_F_Acc_Y      0\n",
            "L_F_Acc_Z      0\n",
            "L_F_Gyr_X      0\n",
            "L_F_Gyr_Y      0\n",
            "L_F_Gyr_Z      0\n",
            "L_F_Roll       0\n",
            "L_F_Pitch      0\n",
            "L_F_Yaw        0\n",
            "R_F_Acc_X      0\n",
            "R_F_Acc_Y      0\n",
            "R_F_Acc_Z      0\n",
            "R_F_Gyr_X      0\n",
            "R_F_Gyr_Y      0\n",
            "R_F_Gyr_Z      0\n",
            "R_F_Roll       0\n",
            "R_F_Pitch      0\n",
            "R_F_Yaw        0\n",
            "categorie      0\n",
            "id             0\n",
            "dtype: int64\n",
            "ips procces nulls :  0.0          0\n",
            "1.0          0\n",
            "2.0          0\n",
            "3.0          0\n",
            "4.0          0\n",
            "            ..\n",
            "679.0        0\n",
            "680.0        0\n",
            "681.0        0\n",
            "categorie    0\n",
            "id           0\n",
            "Length: 684, dtype: int64\n"
          ]
        }
      ]
    },
    {
      "cell_type": "code",
      "source": [
        "# la segmentation pour chaque modalities\n",
        "segmented_dataImu, target_Imu = segment_data(imu_aligned, window_size=60, step_size=60)\n",
        "segmented_dataEmg, target_Emg = segment_data(emg_aligned, window_size=60, step_size=60)\n",
        "segmented_dataIps, target_Ips = segment_data(ips_aligned, window_size=60, step_size=60)"
      ],
      "metadata": {
        "id": "9RBshbuzRrHH"
      },
      "execution_count": null,
      "outputs": []
    },
    {
      "cell_type": "code",
      "source": [
        "print(\"non segmenté Imu : \", imu_aligned.shape)\n",
        "print(\"non segmenté Emg : \", emg_aligned.shape)\n",
        "print(\"non segmenté ips : \", ips_aligned.shape)\n",
        "print(\"segmented data Imu : \", segmented_dataImu.shape)\n",
        "print(\"segmented data Emg : \", segmented_dataEmg.shape)\n",
        "print(\"segmented data ips : \", segmented_dataIps.shape)"
      ],
      "metadata": {
        "colab": {
          "base_uri": "https://localhost:8080/"
        },
        "id": "rVcVfUWbORoW",
        "outputId": "54e391ed-a589-4c94-b18c-0521a8c8e66e"
      },
      "execution_count": null,
      "outputs": [
        {
          "output_type": "stream",
          "name": "stdout",
          "text": [
            "non segmenté Imu :  (172000, 56)\n",
            "non segmenté Emg :  (172000, 18)\n",
            "non segmenté ips :  (172000, 684)\n",
            "segmented data Imu :  (2866, 60, 54)\n",
            "segmented data Emg :  (2866, 60, 16)\n",
            "segmented data ips :  (2866, 60, 682)\n"
          ]
        }
      ]
    },
    {
      "cell_type": "code",
      "source": [
        "print(\"segmented data Imu : \", target_Imu.shape)\n",
        "print(\"segmented data Emg : \", target_Emg.shape)\n",
        "print(\"segmented data ips : \", target_Ips.shape)"
      ],
      "metadata": {
        "colab": {
          "base_uri": "https://localhost:8080/"
        },
        "id": "oBFWGsdQnyo-",
        "outputId": "491142b2-3ef0-4a9d-8db1-799f0f619f20"
      },
      "execution_count": null,
      "outputs": [
        {
          "output_type": "stream",
          "name": "stdout",
          "text": [
            "segmented data Imu :  (6879,)\n",
            "segmented data Emg :  (6879,)\n",
            "segmented data ips :  (6879,)\n"
          ]
        }
      ]
    },
    {
      "cell_type": "code",
      "source": [
        "\"\"\"segmented_dataEmg = pd.DataFrame(segmented_dataEmg[0])\n",
        "segmented_dataEmg.head(3)\"\"\""
      ],
      "metadata": {
        "colab": {
          "base_uri": "https://localhost:8080/",
          "height": 35
        },
        "id": "nCRqiOS0ORiV",
        "outputId": "7a988f76-8e36-4b54-98d4-b97215c8d8a5"
      },
      "execution_count": null,
      "outputs": [
        {
          "output_type": "execute_result",
          "data": {
            "text/plain": [
              "'segmented_dataEmg = pd.DataFrame(segmented_dataEmg[0])\\nsegmented_dataEmg.head(3)'"
            ],
            "application/vnd.google.colaboratory.intrinsic+json": {
              "type": "string"
            }
          },
          "metadata": {},
          "execution_count": 20
        }
      ]
    },
    {
      "cell_type": "code",
      "source": [
        "segmented_all_data, target_all_data = segment_data(all_aligned_data, window_size=60, step_size=60)"
      ],
      "metadata": {
        "id": "RpTsUVn9ORbk"
      },
      "execution_count": null,
      "outputs": []
    },
    {
      "cell_type": "code",
      "source": [
        "print(\"Shape not segmented all_data : \", all_aligned_data.shape)\n",
        "print(\"Shape de segmented_all_data :\", segmented_all_data.shape)\n",
        "print(\"Shape de target_all_data :\", target_all_data.shape)\n",
        "print(\"Valeurs uniques dans target_all_data :\", np.unique(target_all_data))"
      ],
      "metadata": {
        "colab": {
          "base_uri": "https://localhost:8080/"
        },
        "id": "MqLJIcgbTnGw",
        "outputId": "a55c1254-64f9-440e-f5a7-7c8485a40541"
      },
      "execution_count": null,
      "outputs": [
        {
          "output_type": "stream",
          "name": "stdout",
          "text": [
            "Shape not segmented all_data :  (172000, 754)\n",
            "Shape de segmented_all_data : (2866, 60, 752)\n",
            "Shape de target_all_data : (2866,)\n",
            "Valeurs uniques dans target_all_data : [0 1 2 3]\n"
          ]
        }
      ]
    },
    {
      "cell_type": "code",
      "source": [
        "def normalize_data(data, ignore_columns=['id', 'categorie']):\n",
        "  # Vérification des colonnes à ignorer\n",
        "  ignore_columns = [col for col in ignore_columns if col in data.columns]\n",
        "  if len(ignore_columns) < len(set(ignore_columns)):\n",
        "    print(\"alert : certaines colonnes dans 'ignore_columns' n'existent pas dans le DataFrame.\")\n",
        "  # Séparer les colonnes à ignorer (id, categorie, etc.)\n",
        "  to_ignore = data[ignore_columns]\n",
        "  to_normalize = data.drop(columns=ignore_columns)\n",
        "  numeric_cols = to_normalize.select_dtypes(include=[float, int]).drop(columns=['categorie'], errors='ignore')\n",
        "  if 'categorie' in numeric_cols.columns:\n",
        "    numeric_cols['categorie'] = numeric_cols['categorie'].astype('object')\n",
        "  # Normalisation des colonnes numériques\n",
        "  scaler = StandardScaler()\n",
        "  normalized_numeric = pd.DataFrame(\n",
        "      scaler.fit_transform(numeric_cols),\n",
        "      columns=numeric_cols.columns,\n",
        "      index=numeric_cols.index\n",
        "  )\n",
        "  # Réintégration des colonnes non numériques ignorées\n",
        "  non_numeric_cols = to_normalize.select_dtypes(exclude=[float, int])\n",
        "  if not non_numeric_cols.empty:\n",
        "    print(\"Notif : Les colonnes non numériques ont été exclues de la normalisation.\")\n",
        "  # Reconstruction du DataFrame final\n",
        "  normalized_data = pd.concat([normalized_numeric.reset_index(drop=True), non_numeric_cols.reset_index(drop=True), to_ignore.reset_index(drop=True)], axis=1)\n",
        "  # Restaurer l'ordre original des colonnes\n",
        "  normalized_data = normalized_data[data.columns]\n",
        "\n",
        "  return normalized_data"
      ],
      "metadata": {
        "id": "ZZSCd_l7BsMi"
      },
      "execution_count": null,
      "outputs": []
    },
    {
      "cell_type": "code",
      "source": [
        "normalized_dataImu = normalize_data(imu_resampled)\n",
        "normalized_dataEmg = normalize_data(emg_resampled)\n",
        "normalized_dataIps = normalize_data(ips_resampled)"
      ],
      "metadata": {
        "id": "A0H_UFUKQIp0"
      },
      "execution_count": null,
      "outputs": []
    },
    {
      "cell_type": "code",
      "source": [
        "\"\"\"# Mapping des colonnes\n",
        "#column_names = list(all_aligned_data.columns) + ['categorie', 'id']\n",
        "column_names = list(all_aligned_data.columns)\n",
        "column_indices = {name: idx for idx, name in enumerate(column_names)}\"\"\""
      ],
      "metadata": {
        "id": "xkHjTBdMQZCB",
        "colab": {
          "base_uri": "https://localhost:8080/",
          "height": 35
        },
        "outputId": "aafafa61-7b44-4df5-8018-8fed1fa61723"
      },
      "execution_count": null,
      "outputs": [
        {
          "output_type": "execute_result",
          "data": {
            "text/plain": [
              "\"# Mapping des colonnes\\n#column_names = list(all_aligned_data.columns) + ['categorie', 'id']\\ncolumn_names = list(all_aligned_data.columns)\\ncolumn_indices = {name: idx for idx, name in enumerate(column_names)}\""
            ],
            "application/vnd.google.colaboratory.intrinsic+json": {
              "type": "string"
            }
          },
          "metadata": {},
          "execution_count": 67
        }
      ]
    },
    {
      "cell_type": "code",
      "source": [
        "\"\"\"print(\"Colonnes réelles dans segmented_all_aligned_data :\", segmented_all_data[0, 0, :])\n",
        "\"\"\""
      ],
      "metadata": {
        "colab": {
          "base_uri": "https://localhost:8080/",
          "height": 35
        },
        "id": "qtvtHPO9YdMc",
        "outputId": "e3509a5c-80c1-4afd-d197-54f5cc821b14"
      },
      "execution_count": null,
      "outputs": [
        {
          "output_type": "execute_result",
          "data": {
            "text/plain": [
              "'print(\"Colonnes réelles dans segmented_all_aligned_data :\", segmented_all_data[0, 0, :])\\n'"
            ],
            "application/vnd.google.colaboratory.intrinsic+json": {
              "type": "string"
            }
          },
          "metadata": {},
          "execution_count": 68
        }
      ]
    },
    {
      "cell_type": "code",
      "source": [
        "\"\"\"print(\"Shape :\", segmented_all_data.shape)\n",
        "print(\"Exemple de données :\", segmented_all_data[0, :, :])\"\"\""
      ],
      "metadata": {
        "colab": {
          "base_uri": "https://localhost:8080/",
          "height": 35
        },
        "id": "_o95uXMXYtrV",
        "outputId": "3e1e926c-ae42-40cf-a687-d03defb527c7"
      },
      "execution_count": null,
      "outputs": [
        {
          "output_type": "execute_result",
          "data": {
            "text/plain": [
              "'print(\"Shape :\", segmented_all_data.shape)\\nprint(\"Exemple de données :\", segmented_all_data[0, :, :])'"
            ],
            "application/vnd.google.colaboratory.intrinsic+json": {
              "type": "string"
            }
          },
          "metadata": {},
          "execution_count": 71
        }
      ]
    },
    {
      "cell_type": "code",
      "source": [
        "\"\"\"print(\"noms des colonnes :\", column_names)\n",
        "print(\"indices des colonnes :\", column_indices)\"\"\""
      ],
      "metadata": {
        "colab": {
          "base_uri": "https://localhost:8080/",
          "height": 35
        },
        "id": "djqfB7k2aUCm",
        "outputId": "55b2009f-33f4-40af-c632-27f3c71b5025"
      },
      "execution_count": null,
      "outputs": [
        {
          "output_type": "execute_result",
          "data": {
            "text/plain": [
              "'print(\"noms des colonnes :\", column_names)\\nprint(\"indices des colonnes :\", column_indices)'"
            ],
            "application/vnd.google.colaboratory.intrinsic+json": {
              "type": "string"
            }
          },
          "metadata": {},
          "execution_count": 72
        }
      ]
    },
    {
      "cell_type": "code",
      "source": [
        "print(\"Valeurs uniques dans la colonne 'categorie' avant toute transformation :\")\n",
        "print(np.unique(target_all_data))"
      ],
      "metadata": {
        "colab": {
          "base_uri": "https://localhost:8080/"
        },
        "id": "dV3XKDhwaJCK",
        "outputId": "53afa7b7-61dc-4065-b3e1-1419ec1a839b"
      },
      "execution_count": null,
      "outputs": [
        {
          "output_type": "stream",
          "name": "stdout",
          "text": [
            "Valeurs uniques dans la colonne 'categorie' avant toute transformation :\n",
            "[0 1 2 3]\n"
          ]
        }
      ]
    },
    {
      "cell_type": "code",
      "source": [
        "from sklearn.model_selection import train_test_split\n",
        "\n",
        "# Architecture unifiée\n",
        "X_unified = segmented_all_data\n",
        "y_unified = target_all_data"
      ],
      "metadata": {
        "id": "h-zLxvoTM7_3"
      },
      "execution_count": null,
      "outputs": []
    },
    {
      "cell_type": "code",
      "source": [
        "print(\"Shape de X_unified :\", X_unified.shape)  # (n_samples, timesteps, features)\n",
        "print(\"Shape de y_unified :\", y_unified.shape)  # (n_samples,)"
      ],
      "metadata": {
        "colab": {
          "base_uri": "https://localhost:8080/"
        },
        "id": "1F-SiQWGrwRz",
        "outputId": "707c89b7-38b1-49c6-fde3-909d612c661c"
      },
      "execution_count": null,
      "outputs": [
        {
          "output_type": "stream",
          "name": "stdout",
          "text": [
            "Shape de X_unified : (2866, 60, 752)\n",
            "Shape de y_unified : (2866,)\n"
          ]
        }
      ]
    },
    {
      "cell_type": "code",
      "source": [
        "from collections import Counter\n",
        "print(\"Distribution des classes dans y_unified :\", Counter(y_unified))"
      ],
      "metadata": {
        "colab": {
          "base_uri": "https://localhost:8080/"
        },
        "id": "b5wRot4JLHkH",
        "outputId": "396969c2-31f8-49b3-a7b3-b3cd670754b4"
      },
      "execution_count": null,
      "outputs": [
        {
          "output_type": "stream",
          "name": "stdout",
          "text": [
            "Distribution des classes dans y_unified : Counter({1: 717, 2: 717, 0: 716, 3: 716})\n"
          ]
        }
      ]
    },
    {
      "cell_type": "code",
      "source": [
        "import numpy as np\n",
        "print(\"Valeurs uniques dans y :\", np.unique(y_unified))"
      ],
      "metadata": {
        "colab": {
          "base_uri": "https://localhost:8080/"
        },
        "id": "WcmVerBnwrrk",
        "outputId": "024cea6e-5605-4180-ccdc-e2fd0770ff96"
      },
      "execution_count": null,
      "outputs": [
        {
          "output_type": "stream",
          "name": "stdout",
          "text": [
            "Valeurs uniques dans y : [0 1 2 3]\n"
          ]
        }
      ]
    },
    {
      "cell_type": "code",
      "source": [
        "print(\"Nombre de classes uniques :\", len(np.unique(target_all_data)))"
      ],
      "metadata": {
        "colab": {
          "base_uri": "https://localhost:8080/"
        },
        "id": "t-k2lByArxCS",
        "outputId": "bc3e64ac-6ed5-4849-9d3b-631e5a92afa8"
      },
      "execution_count": null,
      "outputs": [
        {
          "output_type": "stream",
          "name": "stdout",
          "text": [
            "Nombre de classes uniques : 4\n"
          ]
        }
      ]
    },
    {
      "cell_type": "code",
      "source": [
        "!pip install keras\n",
        "!pip install --upgrade tensorflow\n"
      ],
      "metadata": {
        "colab": {
          "base_uri": "https://localhost:8080/"
        },
        "id": "RULd9Yl_uvCf",
        "outputId": "f0fa4e64-69ce-429f-edd0-c86eeb525cda"
      },
      "execution_count": null,
      "outputs": [
        {
          "output_type": "stream",
          "name": "stdout",
          "text": [
            "Requirement already satisfied: keras in /usr/local/lib/python3.10/dist-packages (3.7.0)\n",
            "Requirement already satisfied: absl-py in /usr/local/lib/python3.10/dist-packages (from keras) (1.4.0)\n",
            "Requirement already satisfied: numpy in /usr/local/lib/python3.10/dist-packages (from keras) (1.26.4)\n",
            "Requirement already satisfied: rich in /usr/local/lib/python3.10/dist-packages (from keras) (13.9.4)\n",
            "Requirement already satisfied: namex in /usr/local/lib/python3.10/dist-packages (from keras) (0.0.8)\n",
            "Requirement already satisfied: h5py in /usr/local/lib/python3.10/dist-packages (from keras) (3.12.1)\n",
            "Requirement already satisfied: optree in /usr/local/lib/python3.10/dist-packages (from keras) (0.13.1)\n",
            "Requirement already satisfied: ml-dtypes in /usr/local/lib/python3.10/dist-packages (from keras) (0.4.1)\n",
            "Requirement already satisfied: packaging in /usr/local/lib/python3.10/dist-packages (from keras) (24.2)\n",
            "Requirement already satisfied: typing-extensions>=4.5.0 in /usr/local/lib/python3.10/dist-packages (from optree->keras) (4.12.2)\n",
            "Requirement already satisfied: markdown-it-py>=2.2.0 in /usr/local/lib/python3.10/dist-packages (from rich->keras) (3.0.0)\n",
            "Requirement already satisfied: pygments<3.0.0,>=2.13.0 in /usr/local/lib/python3.10/dist-packages (from rich->keras) (2.18.0)\n",
            "Requirement already satisfied: mdurl~=0.1 in /usr/local/lib/python3.10/dist-packages (from markdown-it-py>=2.2.0->rich->keras) (0.1.2)\n",
            "Requirement already satisfied: tensorflow in /usr/local/lib/python3.10/dist-packages (2.18.0)\n",
            "Requirement already satisfied: absl-py>=1.0.0 in /usr/local/lib/python3.10/dist-packages (from tensorflow) (1.4.0)\n",
            "Requirement already satisfied: astunparse>=1.6.0 in /usr/local/lib/python3.10/dist-packages (from tensorflow) (1.6.3)\n",
            "Requirement already satisfied: flatbuffers>=24.3.25 in /usr/local/lib/python3.10/dist-packages (from tensorflow) (24.3.25)\n",
            "Requirement already satisfied: gast!=0.5.0,!=0.5.1,!=0.5.2,>=0.2.1 in /usr/local/lib/python3.10/dist-packages (from tensorflow) (0.6.0)\n",
            "Requirement already satisfied: google-pasta>=0.1.1 in /usr/local/lib/python3.10/dist-packages (from tensorflow) (0.2.0)\n",
            "Requirement already satisfied: libclang>=13.0.0 in /usr/local/lib/python3.10/dist-packages (from tensorflow) (18.1.1)\n",
            "Requirement already satisfied: opt-einsum>=2.3.2 in /usr/local/lib/python3.10/dist-packages (from tensorflow) (3.4.0)\n",
            "Requirement already satisfied: packaging in /usr/local/lib/python3.10/dist-packages (from tensorflow) (24.2)\n",
            "Requirement already satisfied: protobuf!=4.21.0,!=4.21.1,!=4.21.2,!=4.21.3,!=4.21.4,!=4.21.5,<6.0.0dev,>=3.20.3 in /usr/local/lib/python3.10/dist-packages (from tensorflow) (4.25.5)\n",
            "Requirement already satisfied: requests<3,>=2.21.0 in /usr/local/lib/python3.10/dist-packages (from tensorflow) (2.32.3)\n",
            "Requirement already satisfied: setuptools in /usr/local/lib/python3.10/dist-packages (from tensorflow) (75.1.0)\n",
            "Requirement already satisfied: six>=1.12.0 in /usr/local/lib/python3.10/dist-packages (from tensorflow) (1.16.0)\n",
            "Requirement already satisfied: termcolor>=1.1.0 in /usr/local/lib/python3.10/dist-packages (from tensorflow) (2.5.0)\n",
            "Requirement already satisfied: typing-extensions>=3.6.6 in /usr/local/lib/python3.10/dist-packages (from tensorflow) (4.12.2)\n",
            "Requirement already satisfied: wrapt>=1.11.0 in /usr/local/lib/python3.10/dist-packages (from tensorflow) (1.14.1)\n",
            "Requirement already satisfied: grpcio<2.0,>=1.24.3 in /usr/local/lib/python3.10/dist-packages (from tensorflow) (1.68.0)\n",
            "Requirement already satisfied: tensorboard<2.19,>=2.18 in /usr/local/lib/python3.10/dist-packages (from tensorflow) (2.18.0)\n",
            "Requirement already satisfied: keras>=3.5.0 in /usr/local/lib/python3.10/dist-packages (from tensorflow) (3.7.0)\n",
            "Requirement already satisfied: numpy<2.1.0,>=1.26.0 in /usr/local/lib/python3.10/dist-packages (from tensorflow) (1.26.4)\n",
            "Requirement already satisfied: h5py>=3.11.0 in /usr/local/lib/python3.10/dist-packages (from tensorflow) (3.12.1)\n",
            "Requirement already satisfied: ml-dtypes<0.5.0,>=0.4.0 in /usr/local/lib/python3.10/dist-packages (from tensorflow) (0.4.1)\n",
            "Requirement already satisfied: tensorflow-io-gcs-filesystem>=0.23.1 in /usr/local/lib/python3.10/dist-packages (from tensorflow) (0.37.1)\n",
            "Requirement already satisfied: wheel<1.0,>=0.23.0 in /usr/local/lib/python3.10/dist-packages (from astunparse>=1.6.0->tensorflow) (0.45.0)\n",
            "Requirement already satisfied: rich in /usr/local/lib/python3.10/dist-packages (from keras>=3.5.0->tensorflow) (13.9.4)\n",
            "Requirement already satisfied: namex in /usr/local/lib/python3.10/dist-packages (from keras>=3.5.0->tensorflow) (0.0.8)\n",
            "Requirement already satisfied: optree in /usr/local/lib/python3.10/dist-packages (from keras>=3.5.0->tensorflow) (0.13.1)\n",
            "Requirement already satisfied: charset-normalizer<4,>=2 in /usr/local/lib/python3.10/dist-packages (from requests<3,>=2.21.0->tensorflow) (3.4.0)\n",
            "Requirement already satisfied: idna<4,>=2.5 in /usr/local/lib/python3.10/dist-packages (from requests<3,>=2.21.0->tensorflow) (3.10)\n",
            "Requirement already satisfied: urllib3<3,>=1.21.1 in /usr/local/lib/python3.10/dist-packages (from requests<3,>=2.21.0->tensorflow) (2.2.3)\n",
            "Requirement already satisfied: certifi>=2017.4.17 in /usr/local/lib/python3.10/dist-packages (from requests<3,>=2.21.0->tensorflow) (2024.8.30)\n",
            "Requirement already satisfied: markdown>=2.6.8 in /usr/local/lib/python3.10/dist-packages (from tensorboard<2.19,>=2.18->tensorflow) (3.7)\n",
            "Requirement already satisfied: tensorboard-data-server<0.8.0,>=0.7.0 in /usr/local/lib/python3.10/dist-packages (from tensorboard<2.19,>=2.18->tensorflow) (0.7.2)\n",
            "Requirement already satisfied: werkzeug>=1.0.1 in /usr/local/lib/python3.10/dist-packages (from tensorboard<2.19,>=2.18->tensorflow) (3.1.3)\n",
            "Requirement already satisfied: MarkupSafe>=2.1.1 in /usr/local/lib/python3.10/dist-packages (from werkzeug>=1.0.1->tensorboard<2.19,>=2.18->tensorflow) (3.0.2)\n",
            "Requirement already satisfied: markdown-it-py>=2.2.0 in /usr/local/lib/python3.10/dist-packages (from rich->keras>=3.5.0->tensorflow) (3.0.0)\n",
            "Requirement already satisfied: pygments<3.0.0,>=2.13.0 in /usr/local/lib/python3.10/dist-packages (from rich->keras>=3.5.0->tensorflow) (2.18.0)\n",
            "Requirement already satisfied: mdurl~=0.1 in /usr/local/lib/python3.10/dist-packages (from markdown-it-py>=2.2.0->rich->keras>=3.5.0->tensorflow) (0.1.2)\n"
          ]
        }
      ]
    },
    {
      "cell_type": "code",
      "source": [
        "!pip install scikeras"
      ],
      "metadata": {
        "colab": {
          "base_uri": "https://localhost:8080/"
        },
        "id": "Nv8a8kBKyOsK",
        "outputId": "5350f47d-98d7-4683-83e0-20de2973fea8"
      },
      "execution_count": null,
      "outputs": [
        {
          "output_type": "stream",
          "name": "stdout",
          "text": [
            "Requirement already satisfied: scikeras in /usr/local/lib/python3.10/dist-packages (0.13.0)\n",
            "Requirement already satisfied: keras>=3.2.0 in /usr/local/lib/python3.10/dist-packages (from scikeras) (3.7.0)\n",
            "Requirement already satisfied: scikit-learn>=1.4.2 in /usr/local/lib/python3.10/dist-packages (from scikeras) (1.5.2)\n",
            "Requirement already satisfied: absl-py in /usr/local/lib/python3.10/dist-packages (from keras>=3.2.0->scikeras) (1.4.0)\n",
            "Requirement already satisfied: numpy in /usr/local/lib/python3.10/dist-packages (from keras>=3.2.0->scikeras) (1.26.4)\n",
            "Requirement already satisfied: rich in /usr/local/lib/python3.10/dist-packages (from keras>=3.2.0->scikeras) (13.9.4)\n",
            "Requirement already satisfied: namex in /usr/local/lib/python3.10/dist-packages (from keras>=3.2.0->scikeras) (0.0.8)\n",
            "Requirement already satisfied: h5py in /usr/local/lib/python3.10/dist-packages (from keras>=3.2.0->scikeras) (3.12.1)\n",
            "Requirement already satisfied: optree in /usr/local/lib/python3.10/dist-packages (from keras>=3.2.0->scikeras) (0.13.1)\n",
            "Requirement already satisfied: ml-dtypes in /usr/local/lib/python3.10/dist-packages (from keras>=3.2.0->scikeras) (0.4.1)\n",
            "Requirement already satisfied: packaging in /usr/local/lib/python3.10/dist-packages (from keras>=3.2.0->scikeras) (24.2)\n",
            "Requirement already satisfied: scipy>=1.6.0 in /usr/local/lib/python3.10/dist-packages (from scikit-learn>=1.4.2->scikeras) (1.13.1)\n",
            "Requirement already satisfied: joblib>=1.2.0 in /usr/local/lib/python3.10/dist-packages (from scikit-learn>=1.4.2->scikeras) (1.4.2)\n",
            "Requirement already satisfied: threadpoolctl>=3.1.0 in /usr/local/lib/python3.10/dist-packages (from scikit-learn>=1.4.2->scikeras) (3.5.0)\n",
            "Requirement already satisfied: typing-extensions>=4.5.0 in /usr/local/lib/python3.10/dist-packages (from optree->keras>=3.2.0->scikeras) (4.12.2)\n",
            "Requirement already satisfied: markdown-it-py>=2.2.0 in /usr/local/lib/python3.10/dist-packages (from rich->keras>=3.2.0->scikeras) (3.0.0)\n",
            "Requirement already satisfied: pygments<3.0.0,>=2.13.0 in /usr/local/lib/python3.10/dist-packages (from rich->keras>=3.2.0->scikeras) (2.18.0)\n",
            "Requirement already satisfied: mdurl~=0.1 in /usr/local/lib/python3.10/dist-packages (from markdown-it-py>=2.2.0->rich->keras>=3.2.0->scikeras) (0.1.2)\n"
          ]
        }
      ]
    },
    {
      "cell_type": "code",
      "source": [
        "\"\"\"from scikeras.wrappers import KerasClassifier\n",
        "from sklearn.model_selection import GridSearchCV\n",
        "from tensorflow.keras.models import Sequential\n",
        "from tensorflow.keras.layers import Conv1D, MaxPooling1D, LSTM, Dense, Dropout\n",
        "\n",
        "# Fonction pour créer le modèle\n",
        "def create_model(dropout_rate=0.5, lstm_units=50):\n",
        "  model = Sequential()\n",
        "  model.add(Conv1D(filters=55, kernel_size=3, activation='relu', input_shape=(X_unified.shape[1], X_unified.shape[2])))\n",
        "  model.add(MaxPooling1D(pool_size=2))\n",
        "  model.add(Dropout(dropout_rate))\n",
        "  model.add(LSTM(lstm_units, activation='tanh'))\n",
        "  model.add(Dense(len(np.unique(y_unified)), activation='softmax'))\n",
        "  model.compile(optimizer='adam', loss='sparse_categorical_crossentropy', metrics=['accuracy'])\n",
        "  return model\n",
        "\n",
        "# KerasClassifier avec scikeras\n",
        "model = KerasClassifier(model=create_model, verbose=0, batch_size=32, epochs=10)\n",
        "\n",
        "# Grid Search\n",
        "param_grid = {\n",
        "    \"model__dropout_rate\": [0.3, 0.5, 0.7],\n",
        "    \"model__lstm_units\": [25, 50, 100],\n",
        "}\n",
        "grid = GridSearchCV(estimator=model, param_grid=param_grid, cv=3)\n",
        "grid_result = grid.fit(X_unified, y_unified)\n",
        "\n",
        "# Afficher les meilleurs paramètres\n",
        "print(\"Meilleurs paramètres :\", grid_result.best_params_)\n",
        "\"\"\""
      ],
      "metadata": {
        "colab": {
          "base_uri": "https://localhost:8080/",
          "height": 107
        },
        "id": "8O9_-ryGtPHM",
        "outputId": "e21440ae-e524-4d3b-e586-b6d872b17bc5"
      },
      "execution_count": null,
      "outputs": [
        {
          "output_type": "execute_result",
          "data": {
            "text/plain": [
              "'from scikeras.wrappers import KerasClassifier\\nfrom sklearn.model_selection import GridSearchCV\\nfrom tensorflow.keras.models import Sequential\\nfrom tensorflow.keras.layers import Conv1D, MaxPooling1D, LSTM, Dense, Dropout\\n\\n# Fonction pour créer le modèle\\ndef create_model(dropout_rate=0.5, lstm_units=50):\\n  model = Sequential()\\n  model.add(Conv1D(filters=55, kernel_size=3, activation=\\'relu\\', input_shape=(X_unified.shape[1], X_unified.shape[2])))\\n  model.add(MaxPooling1D(pool_size=2))\\n  model.add(Dropout(dropout_rate))\\n  model.add(LSTM(lstm_units, activation=\\'tanh\\'))\\n  model.add(Dense(len(np.unique(y_unified)), activation=\\'softmax\\'))\\n  model.compile(optimizer=\\'adam\\', loss=\\'sparse_categorical_crossentropy\\', metrics=[\\'accuracy\\'])\\n  return model\\n\\n# KerasClassifier avec scikeras\\nmodel = KerasClassifier(model=create_model, verbose=0, batch_size=32, epochs=10)\\n\\n# Grid Search\\nparam_grid = {\\n    \"model__dropout_rate\": [0.3, 0.5, 0.7],\\n    \"model__lstm_units\": [25, 50, 100],\\n}\\ngrid = GridSearchCV(estimator=model, param_grid=param_grid, cv=3)\\ngrid_result = grid.fit(X_unified, y_unified)\\n\\n# Afficher les meilleurs paramètres\\nprint(\"Meilleurs paramètres :\", grid_result.best_params_)\\n'"
            ],
            "application/vnd.google.colaboratory.intrinsic+json": {
              "type": "string"
            }
          },
          "metadata": {},
          "execution_count": 17
        }
      ]
    },
    {
      "cell_type": "code",
      "source": [
        "\"\"\"# Function to create the CNN-LSTM model\n",
        "def create_cnn_lstm_model(input_shape, filters=32, kernel_size=3, lstm_units=64, dropout_rate=0.2):\n",
        "    model = Sequential()\n",
        "    model.add(Conv1D(filters, kernel_size=kernel_size, activation='relu', input_shape=input_shape))\n",
        "    model.add(MaxPooling1D(pool_size=2))\n",
        "    model.add(Dropout(dropout_rate))\n",
        "    model.add(LSTM(lstm_units, activation='relu', return_sequences=False))\n",
        "    model.add(Dropout(dropout_rate))\n",
        "    model.add(Dense(4, activation='softmax'))  # 4 classes to predict\n",
        "    model.compile(optimizer='adam', loss='categorical_crossentropy', metrics=['accuracy'])\n",
        "    return model\"\"\""
      ],
      "metadata": {
        "id": "Wo4tUFcs54YX"
      },
      "execution_count": null,
      "outputs": []
    },
    {
      "cell_type": "code",
      "source": [
        "from tensorflow.keras.models import Sequential\n",
        "from tensorflow.keras.layers import (\n",
        "    Input, Conv1D, MaxPooling1D, LSTM, Dense, Dropout, BatchNormalization\n",
        ")\n",
        "from tensorflow.keras.optimizers import Adam\n",
        "from tensorflow.keras.callbacks import ReduceLROnPlateau, EarlyStopping\n",
        "import numpy as np\n",
        "\n",
        "def create_unified_model(input_shape, num_classes, filters=32, kernel_size=3, lstm_units=64, dropout_rate=0.2, use_batch_norm=False):\n",
        "\n",
        "  model = Sequential()\n",
        "\n",
        "  # CNN Layer\n",
        "  model.add(Input(shape=input_shape))\n",
        "  model.add(Conv1D(filters=filters, kernel_size=kernel_size, activation='relu'))\n",
        "  if use_batch_norm:\n",
        "      model.add(BatchNormalization())\n",
        "  model.add(MaxPooling1D(pool_size=2))\n",
        "  model.add(Dropout(dropout_rate))\n",
        "\n",
        "  # LSTM Layer\n",
        "  model.add(LSTM(lstm_units, activation='tanh', return_sequences=False))\n",
        "  model.add(Dropout(dropout_rate))\n",
        "\n",
        "  # Output Dense Layer\n",
        "  model.add(Dense(num_classes, activation='softmax'))\n",
        "\n",
        "  # Compile the model\n",
        "  model.compile(optimizer=Adam(), loss='categorical_crossentropy', metrics=['accuracy'])\n",
        "\n",
        "  return model\n",
        "\n",
        "input_shape = (X_unified.shape[1], X_unified.shape[2])  # Timesteps and features\n",
        "num_classes = len(np.unique(y_unified))  # Dynamic number of classes\n",
        "model_unified = create_unified_model(input_shape, num_classes, use_batch_norm=True)\n",
        "# 6. Callbacks\n",
        "reduce_lr = ReduceLROnPlateau(monitor='val_loss', factor=0.5, patience=5, verbose=1)\n",
        "early_stopping = EarlyStopping(monitor='val_loss', patience=5, verbose=1, restore_best_weights=True)\n",
        "# Print model summary\n",
        "model_unified.summary()"
      ],
      "metadata": {
        "colab": {
          "base_uri": "https://localhost:8080/",
          "height": 369
        },
        "id": "ZP5OiwN97_uJ",
        "outputId": "d458a133-c8e2-4487-b0dd-dad3a4346269"
      },
      "execution_count": null,
      "outputs": [
        {
          "output_type": "display_data",
          "data": {
            "text/plain": [
              "\u001b[1mModel: \"sequential_3\"\u001b[0m\n"
            ],
            "text/html": [
              "<pre style=\"white-space:pre;overflow-x:auto;line-height:normal;font-family:Menlo,'DejaVu Sans Mono',consolas,'Courier New',monospace\"><span style=\"font-weight: bold\">Model: \"sequential_3\"</span>\n",
              "</pre>\n"
            ]
          },
          "metadata": {}
        },
        {
          "output_type": "display_data",
          "data": {
            "text/plain": [
              "┏━━━━━━━━━━━━━━━━━━━━━━━━━━━━━━━━━━━━━━┳━━━━━━━━━━━━━━━━━━━━━━━━━━━━━┳━━━━━━━━━━━━━━━━━┓\n",
              "┃\u001b[1m \u001b[0m\u001b[1mLayer (type)                        \u001b[0m\u001b[1m \u001b[0m┃\u001b[1m \u001b[0m\u001b[1mOutput Shape               \u001b[0m\u001b[1m \u001b[0m┃\u001b[1m \u001b[0m\u001b[1m        Param #\u001b[0m\u001b[1m \u001b[0m┃\n",
              "┡━━━━━━━━━━━━━━━━━━━━━━━━━━━━━━━━━━━━━━╇━━━━━━━━━━━━━━━━━━━━━━━━━━━━━╇━━━━━━━━━━━━━━━━━┩\n",
              "│ conv1d_3 (\u001b[38;5;33mConv1D\u001b[0m)                    │ (\u001b[38;5;45mNone\u001b[0m, \u001b[38;5;34m58\u001b[0m, \u001b[38;5;34m32\u001b[0m)              │          \u001b[38;5;34m72,224\u001b[0m │\n",
              "├──────────────────────────────────────┼─────────────────────────────┼─────────────────┤\n",
              "│ batch_normalization_3                │ (\u001b[38;5;45mNone\u001b[0m, \u001b[38;5;34m58\u001b[0m, \u001b[38;5;34m32\u001b[0m)              │             \u001b[38;5;34m128\u001b[0m │\n",
              "│ (\u001b[38;5;33mBatchNormalization\u001b[0m)                 │                             │                 │\n",
              "├──────────────────────────────────────┼─────────────────────────────┼─────────────────┤\n",
              "│ max_pooling1d_3 (\u001b[38;5;33mMaxPooling1D\u001b[0m)       │ (\u001b[38;5;45mNone\u001b[0m, \u001b[38;5;34m29\u001b[0m, \u001b[38;5;34m32\u001b[0m)              │               \u001b[38;5;34m0\u001b[0m │\n",
              "├──────────────────────────────────────┼─────────────────────────────┼─────────────────┤\n",
              "│ dropout_6 (\u001b[38;5;33mDropout\u001b[0m)                  │ (\u001b[38;5;45mNone\u001b[0m, \u001b[38;5;34m29\u001b[0m, \u001b[38;5;34m32\u001b[0m)              │               \u001b[38;5;34m0\u001b[0m │\n",
              "├──────────────────────────────────────┼─────────────────────────────┼─────────────────┤\n",
              "│ lstm_3 (\u001b[38;5;33mLSTM\u001b[0m)                        │ (\u001b[38;5;45mNone\u001b[0m, \u001b[38;5;34m64\u001b[0m)                  │          \u001b[38;5;34m24,832\u001b[0m │\n",
              "├──────────────────────────────────────┼─────────────────────────────┼─────────────────┤\n",
              "│ dropout_7 (\u001b[38;5;33mDropout\u001b[0m)                  │ (\u001b[38;5;45mNone\u001b[0m, \u001b[38;5;34m64\u001b[0m)                  │               \u001b[38;5;34m0\u001b[0m │\n",
              "├──────────────────────────────────────┼─────────────────────────────┼─────────────────┤\n",
              "│ dense_3 (\u001b[38;5;33mDense\u001b[0m)                      │ (\u001b[38;5;45mNone\u001b[0m, \u001b[38;5;34m4\u001b[0m)                   │             \u001b[38;5;34m260\u001b[0m │\n",
              "└──────────────────────────────────────┴─────────────────────────────┴─────────────────┘\n"
            ],
            "text/html": [
              "<pre style=\"white-space:pre;overflow-x:auto;line-height:normal;font-family:Menlo,'DejaVu Sans Mono',consolas,'Courier New',monospace\">┏━━━━━━━━━━━━━━━━━━━━━━━━━━━━━━━━━━━━━━┳━━━━━━━━━━━━━━━━━━━━━━━━━━━━━┳━━━━━━━━━━━━━━━━━┓\n",
              "┃<span style=\"font-weight: bold\"> Layer (type)                         </span>┃<span style=\"font-weight: bold\"> Output Shape                </span>┃<span style=\"font-weight: bold\">         Param # </span>┃\n",
              "┡━━━━━━━━━━━━━━━━━━━━━━━━━━━━━━━━━━━━━━╇━━━━━━━━━━━━━━━━━━━━━━━━━━━━━╇━━━━━━━━━━━━━━━━━┩\n",
              "│ conv1d_3 (<span style=\"color: #0087ff; text-decoration-color: #0087ff\">Conv1D</span>)                    │ (<span style=\"color: #00d7ff; text-decoration-color: #00d7ff\">None</span>, <span style=\"color: #00af00; text-decoration-color: #00af00\">58</span>, <span style=\"color: #00af00; text-decoration-color: #00af00\">32</span>)              │          <span style=\"color: #00af00; text-decoration-color: #00af00\">72,224</span> │\n",
              "├──────────────────────────────────────┼─────────────────────────────┼─────────────────┤\n",
              "│ batch_normalization_3                │ (<span style=\"color: #00d7ff; text-decoration-color: #00d7ff\">None</span>, <span style=\"color: #00af00; text-decoration-color: #00af00\">58</span>, <span style=\"color: #00af00; text-decoration-color: #00af00\">32</span>)              │             <span style=\"color: #00af00; text-decoration-color: #00af00\">128</span> │\n",
              "│ (<span style=\"color: #0087ff; text-decoration-color: #0087ff\">BatchNormalization</span>)                 │                             │                 │\n",
              "├──────────────────────────────────────┼─────────────────────────────┼─────────────────┤\n",
              "│ max_pooling1d_3 (<span style=\"color: #0087ff; text-decoration-color: #0087ff\">MaxPooling1D</span>)       │ (<span style=\"color: #00d7ff; text-decoration-color: #00d7ff\">None</span>, <span style=\"color: #00af00; text-decoration-color: #00af00\">29</span>, <span style=\"color: #00af00; text-decoration-color: #00af00\">32</span>)              │               <span style=\"color: #00af00; text-decoration-color: #00af00\">0</span> │\n",
              "├──────────────────────────────────────┼─────────────────────────────┼─────────────────┤\n",
              "│ dropout_6 (<span style=\"color: #0087ff; text-decoration-color: #0087ff\">Dropout</span>)                  │ (<span style=\"color: #00d7ff; text-decoration-color: #00d7ff\">None</span>, <span style=\"color: #00af00; text-decoration-color: #00af00\">29</span>, <span style=\"color: #00af00; text-decoration-color: #00af00\">32</span>)              │               <span style=\"color: #00af00; text-decoration-color: #00af00\">0</span> │\n",
              "├──────────────────────────────────────┼─────────────────────────────┼─────────────────┤\n",
              "│ lstm_3 (<span style=\"color: #0087ff; text-decoration-color: #0087ff\">LSTM</span>)                        │ (<span style=\"color: #00d7ff; text-decoration-color: #00d7ff\">None</span>, <span style=\"color: #00af00; text-decoration-color: #00af00\">64</span>)                  │          <span style=\"color: #00af00; text-decoration-color: #00af00\">24,832</span> │\n",
              "├──────────────────────────────────────┼─────────────────────────────┼─────────────────┤\n",
              "│ dropout_7 (<span style=\"color: #0087ff; text-decoration-color: #0087ff\">Dropout</span>)                  │ (<span style=\"color: #00d7ff; text-decoration-color: #00d7ff\">None</span>, <span style=\"color: #00af00; text-decoration-color: #00af00\">64</span>)                  │               <span style=\"color: #00af00; text-decoration-color: #00af00\">0</span> │\n",
              "├──────────────────────────────────────┼─────────────────────────────┼─────────────────┤\n",
              "│ dense_3 (<span style=\"color: #0087ff; text-decoration-color: #0087ff\">Dense</span>)                      │ (<span style=\"color: #00d7ff; text-decoration-color: #00d7ff\">None</span>, <span style=\"color: #00af00; text-decoration-color: #00af00\">4</span>)                   │             <span style=\"color: #00af00; text-decoration-color: #00af00\">260</span> │\n",
              "└──────────────────────────────────────┴─────────────────────────────┴─────────────────┘\n",
              "</pre>\n"
            ]
          },
          "metadata": {}
        },
        {
          "output_type": "display_data",
          "data": {
            "text/plain": [
              "\u001b[1m Total params: \u001b[0m\u001b[38;5;34m97,444\u001b[0m (380.64 KB)\n"
            ],
            "text/html": [
              "<pre style=\"white-space:pre;overflow-x:auto;line-height:normal;font-family:Menlo,'DejaVu Sans Mono',consolas,'Courier New',monospace\"><span style=\"font-weight: bold\"> Total params: </span><span style=\"color: #00af00; text-decoration-color: #00af00\">97,444</span> (380.64 KB)\n",
              "</pre>\n"
            ]
          },
          "metadata": {}
        },
        {
          "output_type": "display_data",
          "data": {
            "text/plain": [
              "\u001b[1m Trainable params: \u001b[0m\u001b[38;5;34m97,380\u001b[0m (380.39 KB)\n"
            ],
            "text/html": [
              "<pre style=\"white-space:pre;overflow-x:auto;line-height:normal;font-family:Menlo,'DejaVu Sans Mono',consolas,'Courier New',monospace\"><span style=\"font-weight: bold\"> Trainable params: </span><span style=\"color: #00af00; text-decoration-color: #00af00\">97,380</span> (380.39 KB)\n",
              "</pre>\n"
            ]
          },
          "metadata": {}
        },
        {
          "output_type": "display_data",
          "data": {
            "text/plain": [
              "\u001b[1m Non-trainable params: \u001b[0m\u001b[38;5;34m64\u001b[0m (256.00 B)\n"
            ],
            "text/html": [
              "<pre style=\"white-space:pre;overflow-x:auto;line-height:normal;font-family:Menlo,'DejaVu Sans Mono',consolas,'Courier New',monospace\"><span style=\"font-weight: bold\"> Non-trainable params: </span><span style=\"color: #00af00; text-decoration-color: #00af00\">64</span> (256.00 B)\n",
              "</pre>\n"
            ]
          },
          "metadata": {}
        }
      ]
    },
    {
      "cell_type": "code",
      "source": [
        "\"\"\"from tensorflow.keras.models import Sequential\n",
        "from tensorflow.keras.layers import (\n",
        "    Input, Conv1D, MaxPooling1D, LSTM, Dense, Dropout, BatchNormalization\n",
        ")\n",
        "from tensorflow.keras.optimizers import Adam\n",
        "from tensorflow.keras.callbacks import ReduceLROnPlateau, EarlyStopping\n",
        "\n",
        "model_unified = Sequential()\n",
        "\n",
        "# Couche CNN\n",
        "model_unified.add(Input(shape=(X_unified.shape[1], X_unified.shape[2])))\n",
        "model_unified.add(Conv1D(filters=32, kernel_size=3, activation='relu'))\n",
        "model_unified.add(MaxPooling1D(pool_size=2))\n",
        "model_unified.add(Dropout(0.2))\n",
        "#model_unified.add(BatchNormalization())  #  pour stabiliser l'entraînement\n",
        "#model_unified.add(MaxPooling1D(pool_size=2))\n",
        "\n",
        "# Couche LSTM\n",
        "model_unified.add(LSTM(64, activation='tanh', return_sequences=False))\n",
        "model_unified.add(Dropout(0.2))\n",
        "#model_unified.add(LSTM(50, activation='tanh'))\n",
        "\n",
        "\n",
        "# Couche Dense\n",
        "#model_unified.add(Dense(100, activation='relu'))\n",
        "#model_unified.add(Dropout(0.2))\n",
        "model_unified.add(Dense(len(np.unique(y_unified)), activation='softmax'))\n",
        "#model_unified.compile(optimizer='adam', loss='categorical_crossentropy', metrics=['accuracy'])\"\"\""
      ],
      "metadata": {
        "id": "U6J6SEOGt1em"
      },
      "execution_count": null,
      "outputs": []
    },
    {
      "cell_type": "code",
      "source": [
        "\"\"\"# Compilation\n",
        "#model_unified.compile(optimizer=Adam(learning_rate=0.001), loss='sparse_categorical_crossentropy', metrics=['accuracy'])\n",
        "model_unified.compile(optimizer='adam', loss='sparse_categorical_crossentropy', metrics=['accuracy'])\n",
        "# 6. Callbacks\n",
        "#reduce_lr = ReduceLROnPlateau(monitor='val_loss', factor=0.5, patience=5, verbose=1)\n",
        "reduce_lr = ReduceLROnPlateau(monitor='val_loss', factor=0.5, patience=5, min_lr=1e-6)\n",
        "early_stopping = EarlyStopping(monitor='val_loss', patience=10, verbose=1, restore_best_weights=True)\"\"\""
      ],
      "metadata": {
        "id": "QaCgq6AusFHy"
      },
      "execution_count": null,
      "outputs": []
    },
    {
      "cell_type": "code",
      "source": [
        "\"\"\"from tensorflow.keras.models import Sequential\n",
        "from tensorflow.keras.layers import Dense, Conv1D, MaxPooling1D, LSTM, Flatten, Dropout\n",
        "\n",
        "# Modèle CNN + LSTM pour architecture unifiée\n",
        "model_unified = Sequential()\n",
        "\n",
        "# Couche CNN\n",
        "model_unified.add(Conv1D(filters=64, kernel_size=3, activation='relu', input_shape=(X_unified.shape[1], X_unified.shape[2])))\n",
        "model_unified.add(MaxPooling1D(pool_size=2))\n",
        "model_unified.add(Dropout(0.2))\n",
        "\n",
        "# Couche LSTM\n",
        "model_unified.add(LSTM(50, activation='relu', return_sequences=True))\n",
        "model_unified.add(LSTM(50, activation='relu'))\n",
        "\n",
        "# Couche Dense finale\n",
        "model_unified.add(Dense(100, activation='relu'))\n",
        "model_unified.add(Dense(len(set(y_unified)), activation='softmax'))  # Softmax pour classification\n",
        "\n",
        "# Compilation\n",
        "model_unified.compile(optimizer='adam', loss='sparse_categorical_crossentropy', metrics=['accuracy'])\n",
        "\n",
        "# Résumé du modèle\n",
        "model_unified.summary()\n",
        "\"\"\""
      ],
      "metadata": {
        "colab": {
          "base_uri": "https://localhost:8080/",
          "height": 107
        },
        "id": "OCaD6hSGnoZ-",
        "outputId": "37f89dfb-afef-4135-d72b-2e96f877add3"
      },
      "execution_count": null,
      "outputs": [
        {
          "output_type": "execute_result",
          "data": {
            "text/plain": [
              "\"from tensorflow.keras.models import Sequential\\nfrom tensorflow.keras.layers import Dense, Conv1D, MaxPooling1D, LSTM, Flatten, Dropout\\n\\n# Modèle CNN + LSTM pour architecture unifiée\\nmodel_unified = Sequential()\\n\\n# Couche CNN\\nmodel_unified.add(Conv1D(filters=64, kernel_size=3, activation='relu', input_shape=(X_unified.shape[1], X_unified.shape[2])))\\nmodel_unified.add(MaxPooling1D(pool_size=2))\\nmodel_unified.add(Dropout(0.2))\\n\\n# Couche LSTM\\nmodel_unified.add(LSTM(50, activation='relu', return_sequences=True))\\nmodel_unified.add(LSTM(50, activation='relu'))\\n\\n# Couche Dense finale\\nmodel_unified.add(Dense(100, activation='relu'))\\nmodel_unified.add(Dense(len(set(y_unified)), activation='softmax'))  # Softmax pour classification\\n\\n# Compilation\\nmodel_unified.compile(optimizer='adam', loss='sparse_categorical_crossentropy', metrics=['accuracy'])\\n\\n# Résumé du modèle\\nmodel_unified.summary()\\n\""
            ],
            "application/vnd.google.colaboratory.intrinsic+json": {
              "type": "string"
            }
          },
          "metadata": {},
          "execution_count": 52
        }
      ]
    },
    {
      "cell_type": "code",
      "source": [
        "# Résumé\n",
        "model_unified.summary()"
      ],
      "metadata": {
        "colab": {
          "base_uri": "https://localhost:8080/",
          "height": 369
        },
        "id": "MJZLh1CusE7U",
        "outputId": "37c9b408-51e7-4b92-9b37-b4c7c926cfd2"
      },
      "execution_count": null,
      "outputs": [
        {
          "output_type": "display_data",
          "data": {
            "text/plain": [
              "\u001b[1mModel: \"sequential_1\"\u001b[0m\n"
            ],
            "text/html": [
              "<pre style=\"white-space:pre;overflow-x:auto;line-height:normal;font-family:Menlo,'DejaVu Sans Mono',consolas,'Courier New',monospace\"><span style=\"font-weight: bold\">Model: \"sequential_1\"</span>\n",
              "</pre>\n"
            ]
          },
          "metadata": {}
        },
        {
          "output_type": "display_data",
          "data": {
            "text/plain": [
              "┏━━━━━━━━━━━━━━━━━━━━━━━━━━━━━━━━━━━━━━┳━━━━━━━━━━━━━━━━━━━━━━━━━━━━━┳━━━━━━━━━━━━━━━━━┓\n",
              "┃\u001b[1m \u001b[0m\u001b[1mLayer (type)                        \u001b[0m\u001b[1m \u001b[0m┃\u001b[1m \u001b[0m\u001b[1mOutput Shape               \u001b[0m\u001b[1m \u001b[0m┃\u001b[1m \u001b[0m\u001b[1m        Param #\u001b[0m\u001b[1m \u001b[0m┃\n",
              "┡━━━━━━━━━━━━━━━━━━━━━━━━━━━━━━━━━━━━━━╇━━━━━━━━━━━━━━━━━━━━━━━━━━━━━╇━━━━━━━━━━━━━━━━━┩\n",
              "│ conv1d_1 (\u001b[38;5;33mConv1D\u001b[0m)                    │ (\u001b[38;5;45mNone\u001b[0m, \u001b[38;5;34m58\u001b[0m, \u001b[38;5;34m32\u001b[0m)              │          \u001b[38;5;34m72,224\u001b[0m │\n",
              "├──────────────────────────────────────┼─────────────────────────────┼─────────────────┤\n",
              "│ batch_normalization_1                │ (\u001b[38;5;45mNone\u001b[0m, \u001b[38;5;34m58\u001b[0m, \u001b[38;5;34m32\u001b[0m)              │             \u001b[38;5;34m128\u001b[0m │\n",
              "│ (\u001b[38;5;33mBatchNormalization\u001b[0m)                 │                             │                 │\n",
              "├──────────────────────────────────────┼─────────────────────────────┼─────────────────┤\n",
              "│ max_pooling1d_1 (\u001b[38;5;33mMaxPooling1D\u001b[0m)       │ (\u001b[38;5;45mNone\u001b[0m, \u001b[38;5;34m29\u001b[0m, \u001b[38;5;34m32\u001b[0m)              │               \u001b[38;5;34m0\u001b[0m │\n",
              "├──────────────────────────────────────┼─────────────────────────────┼─────────────────┤\n",
              "│ dropout_2 (\u001b[38;5;33mDropout\u001b[0m)                  │ (\u001b[38;5;45mNone\u001b[0m, \u001b[38;5;34m29\u001b[0m, \u001b[38;5;34m32\u001b[0m)              │               \u001b[38;5;34m0\u001b[0m │\n",
              "├──────────────────────────────────────┼─────────────────────────────┼─────────────────┤\n",
              "│ lstm_1 (\u001b[38;5;33mLSTM\u001b[0m)                        │ (\u001b[38;5;45mNone\u001b[0m, \u001b[38;5;34m64\u001b[0m)                  │          \u001b[38;5;34m24,832\u001b[0m │\n",
              "├──────────────────────────────────────┼─────────────────────────────┼─────────────────┤\n",
              "│ dropout_3 (\u001b[38;5;33mDropout\u001b[0m)                  │ (\u001b[38;5;45mNone\u001b[0m, \u001b[38;5;34m64\u001b[0m)                  │               \u001b[38;5;34m0\u001b[0m │\n",
              "├──────────────────────────────────────┼─────────────────────────────┼─────────────────┤\n",
              "│ dense_1 (\u001b[38;5;33mDense\u001b[0m)                      │ (\u001b[38;5;45mNone\u001b[0m, \u001b[38;5;34m4\u001b[0m)                   │             \u001b[38;5;34m260\u001b[0m │\n",
              "└──────────────────────────────────────┴─────────────────────────────┴─────────────────┘\n"
            ],
            "text/html": [
              "<pre style=\"white-space:pre;overflow-x:auto;line-height:normal;font-family:Menlo,'DejaVu Sans Mono',consolas,'Courier New',monospace\">┏━━━━━━━━━━━━━━━━━━━━━━━━━━━━━━━━━━━━━━┳━━━━━━━━━━━━━━━━━━━━━━━━━━━━━┳━━━━━━━━━━━━━━━━━┓\n",
              "┃<span style=\"font-weight: bold\"> Layer (type)                         </span>┃<span style=\"font-weight: bold\"> Output Shape                </span>┃<span style=\"font-weight: bold\">         Param # </span>┃\n",
              "┡━━━━━━━━━━━━━━━━━━━━━━━━━━━━━━━━━━━━━━╇━━━━━━━━━━━━━━━━━━━━━━━━━━━━━╇━━━━━━━━━━━━━━━━━┩\n",
              "│ conv1d_1 (<span style=\"color: #0087ff; text-decoration-color: #0087ff\">Conv1D</span>)                    │ (<span style=\"color: #00d7ff; text-decoration-color: #00d7ff\">None</span>, <span style=\"color: #00af00; text-decoration-color: #00af00\">58</span>, <span style=\"color: #00af00; text-decoration-color: #00af00\">32</span>)              │          <span style=\"color: #00af00; text-decoration-color: #00af00\">72,224</span> │\n",
              "├──────────────────────────────────────┼─────────────────────────────┼─────────────────┤\n",
              "│ batch_normalization_1                │ (<span style=\"color: #00d7ff; text-decoration-color: #00d7ff\">None</span>, <span style=\"color: #00af00; text-decoration-color: #00af00\">58</span>, <span style=\"color: #00af00; text-decoration-color: #00af00\">32</span>)              │             <span style=\"color: #00af00; text-decoration-color: #00af00\">128</span> │\n",
              "│ (<span style=\"color: #0087ff; text-decoration-color: #0087ff\">BatchNormalization</span>)                 │                             │                 │\n",
              "├──────────────────────────────────────┼─────────────────────────────┼─────────────────┤\n",
              "│ max_pooling1d_1 (<span style=\"color: #0087ff; text-decoration-color: #0087ff\">MaxPooling1D</span>)       │ (<span style=\"color: #00d7ff; text-decoration-color: #00d7ff\">None</span>, <span style=\"color: #00af00; text-decoration-color: #00af00\">29</span>, <span style=\"color: #00af00; text-decoration-color: #00af00\">32</span>)              │               <span style=\"color: #00af00; text-decoration-color: #00af00\">0</span> │\n",
              "├──────────────────────────────────────┼─────────────────────────────┼─────────────────┤\n",
              "│ dropout_2 (<span style=\"color: #0087ff; text-decoration-color: #0087ff\">Dropout</span>)                  │ (<span style=\"color: #00d7ff; text-decoration-color: #00d7ff\">None</span>, <span style=\"color: #00af00; text-decoration-color: #00af00\">29</span>, <span style=\"color: #00af00; text-decoration-color: #00af00\">32</span>)              │               <span style=\"color: #00af00; text-decoration-color: #00af00\">0</span> │\n",
              "├──────────────────────────────────────┼─────────────────────────────┼─────────────────┤\n",
              "│ lstm_1 (<span style=\"color: #0087ff; text-decoration-color: #0087ff\">LSTM</span>)                        │ (<span style=\"color: #00d7ff; text-decoration-color: #00d7ff\">None</span>, <span style=\"color: #00af00; text-decoration-color: #00af00\">64</span>)                  │          <span style=\"color: #00af00; text-decoration-color: #00af00\">24,832</span> │\n",
              "├──────────────────────────────────────┼─────────────────────────────┼─────────────────┤\n",
              "│ dropout_3 (<span style=\"color: #0087ff; text-decoration-color: #0087ff\">Dropout</span>)                  │ (<span style=\"color: #00d7ff; text-decoration-color: #00d7ff\">None</span>, <span style=\"color: #00af00; text-decoration-color: #00af00\">64</span>)                  │               <span style=\"color: #00af00; text-decoration-color: #00af00\">0</span> │\n",
              "├──────────────────────────────────────┼─────────────────────────────┼─────────────────┤\n",
              "│ dense_1 (<span style=\"color: #0087ff; text-decoration-color: #0087ff\">Dense</span>)                      │ (<span style=\"color: #00d7ff; text-decoration-color: #00d7ff\">None</span>, <span style=\"color: #00af00; text-decoration-color: #00af00\">4</span>)                   │             <span style=\"color: #00af00; text-decoration-color: #00af00\">260</span> │\n",
              "└──────────────────────────────────────┴─────────────────────────────┴─────────────────┘\n",
              "</pre>\n"
            ]
          },
          "metadata": {}
        },
        {
          "output_type": "display_data",
          "data": {
            "text/plain": [
              "\u001b[1m Total params: \u001b[0m\u001b[38;5;34m97,444\u001b[0m (380.64 KB)\n"
            ],
            "text/html": [
              "<pre style=\"white-space:pre;overflow-x:auto;line-height:normal;font-family:Menlo,'DejaVu Sans Mono',consolas,'Courier New',monospace\"><span style=\"font-weight: bold\"> Total params: </span><span style=\"color: #00af00; text-decoration-color: #00af00\">97,444</span> (380.64 KB)\n",
              "</pre>\n"
            ]
          },
          "metadata": {}
        },
        {
          "output_type": "display_data",
          "data": {
            "text/plain": [
              "\u001b[1m Trainable params: \u001b[0m\u001b[38;5;34m97,380\u001b[0m (380.39 KB)\n"
            ],
            "text/html": [
              "<pre style=\"white-space:pre;overflow-x:auto;line-height:normal;font-family:Menlo,'DejaVu Sans Mono',consolas,'Courier New',monospace\"><span style=\"font-weight: bold\"> Trainable params: </span><span style=\"color: #00af00; text-decoration-color: #00af00\">97,380</span> (380.39 KB)\n",
              "</pre>\n"
            ]
          },
          "metadata": {}
        },
        {
          "output_type": "display_data",
          "data": {
            "text/plain": [
              "\u001b[1m Non-trainable params: \u001b[0m\u001b[38;5;34m64\u001b[0m (256.00 B)\n"
            ],
            "text/html": [
              "<pre style=\"white-space:pre;overflow-x:auto;line-height:normal;font-family:Menlo,'DejaVu Sans Mono',consolas,'Courier New',monospace\"><span style=\"font-weight: bold\"> Non-trainable params: </span><span style=\"color: #00af00; text-decoration-color: #00af00\">64</span> (256.00 B)\n",
              "</pre>\n"
            ]
          },
          "metadata": {}
        }
      ]
    },
    {
      "cell_type": "code",
      "source": [
        "!pip install pydot\n",
        "!pip install graphviz"
      ],
      "metadata": {
        "colab": {
          "base_uri": "https://localhost:8080/"
        },
        "id": "RFHUSjHImDUE",
        "outputId": "3f314c04-3acf-4309-9dcd-02d29c1e1f0a"
      },
      "execution_count": null,
      "outputs": [
        {
          "output_type": "stream",
          "name": "stdout",
          "text": [
            "Requirement already satisfied: pydot in /usr/local/lib/python3.10/dist-packages (3.0.2)\n",
            "Requirement already satisfied: pyparsing>=3.0.9 in /usr/local/lib/python3.10/dist-packages (from pydot) (3.2.0)\n",
            "Collecting graphviz\n",
            "  Downloading graphviz-0.20.3-py3-none-any.whl.metadata (12 kB)\n",
            "Downloading graphviz-0.20.3-py3-none-any.whl (47 kB)\n",
            "\u001b[2K   \u001b[90m━━━━━━━━━━━━━━━━━━━━━━━━━━━━━━━━━━━━━━━━\u001b[0m \u001b[32m47.1/47.1 kB\u001b[0m \u001b[31m1.7 MB/s\u001b[0m eta \u001b[36m0:00:00\u001b[0m\n",
            "\u001b[?25hInstalling collected packages: graphviz\n",
            "Successfully installed graphviz-0.20.3\n"
          ]
        }
      ]
    },
    {
      "cell_type": "code",
      "source": [
        "keras.utils.plot_model(model_unified)"
      ],
      "metadata": {
        "colab": {
          "base_uri": "https://localhost:8080/",
          "height": 1000
        },
        "id": "hTRCJJRPlrI8",
        "outputId": "f9d75124-5e72-4f60-e94e-d03be6ab6df9"
      },
      "execution_count": null,
      "outputs": [
        {
          "output_type": "execute_result",
          "data": {
            "image/png": "[encoded data removed]",
            "text/plain": [
              "<IPython.core.display.Image object>"
            ]
          },
          "metadata": {},
          "execution_count": 43
        }
      ]
    },
    {
      "cell_type": "code",
      "source": [
        "from sklearn.model_selection import train_test_split\n",
        "\n",
        "# Diviser en entraînement et test\n",
        "X_train, X_test, y_train, y_test = train_test_split(X_unified, y_unified, test_size=0.2, random_state=42)"
      ],
      "metadata": {
        "id": "4NQIZ5vPt4GR"
      },
      "execution_count": null,
      "outputs": []
    },
    {
      "cell_type": "code",
      "source": [
        "from tensorflow.keras.utils import to_categorical\n",
        "\n",
        "y_train = to_categorical(y_train, num_classes=num_classes)\n",
        "y_test = to_categorical(y_test, num_classes=num_classes)"
      ],
      "metadata": {
        "id": "kh2zBuWuM5L4"
      },
      "execution_count": null,
      "outputs": []
    },
    {
      "cell_type": "code",
      "source": [
        "print(\"Train categories:\", np.unique(y_train, return_counts=True))\n",
        "print(\"Test categories:\", np.unique(y_test, return_counts=True))"
      ],
      "metadata": {
        "colab": {
          "base_uri": "https://localhost:8080/"
        },
        "id": "Ls42uBRiMzwf",
        "outputId": "c88ddfa6-a8bc-48ca-a599-c1378aeb97a5"
      },
      "execution_count": null,
      "outputs": [
        {
          "output_type": "stream",
          "name": "stdout",
          "text": [
            "Train categories: (array([0., 1.]), array([6876, 2292]))\n",
            "Test categories: (array([0., 1.]), array([1722,  574]))\n"
          ]
        }
      ]
    },
    {
      "cell_type": "code",
      "source": [
        "print(\"Distribution in Train set:\", np.unique(np.argmax(y_train, axis=1), return_counts=True))\n",
        "print(\"Distribution in Test set:\", np.unique(np.argmax(y_test, axis=1), return_counts=True))"
      ],
      "metadata": {
        "colab": {
          "base_uri": "https://localhost:8080/"
        },
        "id": "8rwwMxquNaPl",
        "outputId": "699c323e-de3d-4b67-ba28-587c88584daf"
      },
      "execution_count": null,
      "outputs": [
        {
          "output_type": "stream",
          "name": "stdout",
          "text": [
            "Distribution in Train set: (array([0, 1, 2, 3]), array([566, 582, 574, 570]))\n",
            "Distribution in Test set: (array([0, 1, 2, 3]), array([150, 135, 143, 146]))\n"
          ]
        }
      ]
    },
    {
      "cell_type": "code",
      "source": [
        "print(X_train.shape, y_train.shape, y_test.shape)"
      ],
      "metadata": {
        "colab": {
          "base_uri": "https://localhost:8080/"
        },
        "id": "N1FASuHZA8dY",
        "outputId": "6955f663-d34f-40e3-f848-8f289c9a4303"
      },
      "execution_count": null,
      "outputs": [
        {
          "output_type": "stream",
          "name": "stdout",
          "text": [
            "(2292, 60, 752) (2292, 4) (574, 4)\n"
          ]
        }
      ]
    },
    {
      "cell_type": "code",
      "source": [
        "print(\"X_train NaN :\", np.isnan(X_train).any())\n",
        "print(\"X_test NaN :\", np.isnan(X_test).any())\n",
        "print(\"X_train inf :\", np.isinf(X_train).any())\n",
        "print(\"X_test inf :\", np.isinf(X_test).any())\n",
        "print(\"X_train max :\", np.max(X_train), \"X_train min :\", np.min(X_train))"
      ],
      "metadata": {
        "colab": {
          "base_uri": "https://localhost:8080/"
        },
        "id": "EvDuzWxCCEGj",
        "outputId": "ff322f4b-30e7-4836-f876-6c764e7415cf"
      },
      "execution_count": null,
      "outputs": [
        {
          "output_type": "stream",
          "name": "stdout",
          "text": [
            "X_train NaN : False\n",
            "X_test NaN : False\n",
            "X_train inf : False\n",
            "X_test inf : False\n",
            "X_train max : 20.88246093720473 X_train min : -22.43074652186307\n"
          ]
        }
      ]
    },
    {
      "cell_type": "code",
      "source": [
        "print(\"y_train max :\", np.max(y_train), \"y_train min :\", np.min(y_train))\n",
        "print(\"y_test max :\", np.max(y_test), \"y_test min :\", np.min(y_test))"
      ],
      "metadata": {
        "colab": {
          "base_uri": "https://localhost:8080/"
        },
        "id": "z-i_u9wPC6Wu",
        "outputId": "7e047181-f510-462a-e45c-8fd4b01d6b80"
      },
      "execution_count": null,
      "outputs": [
        {
          "output_type": "stream",
          "name": "stdout",
          "text": [
            "y_train max : 1.0 y_train min : 0.0\n",
            "y_test max : 1.0 y_test min : 0.0\n"
          ]
        }
      ]
    },
    {
      "cell_type": "code",
      "source": [
        "\"\"\"from sklearn.preprocessing import StandardScaler\n",
        "scaler = StandardScaler()\n",
        "X_train = scaler.fit_transform(X_train.reshape(-1, X_train.shape[-1])).reshape(X_train.shape)\n",
        "X_test = scaler.transform(X_test.reshape(-1, X_test.shape[-1])).reshape(X_test.shape)\"\"\""
      ],
      "metadata": {
        "colab": {
          "base_uri": "https://localhost:8080/",
          "height": 53
        },
        "id": "1TGNxLPNCgWN",
        "outputId": "3546f15e-545b-4803-bbf8-cc7c7ef9f35a"
      },
      "execution_count": null,
      "outputs": [
        {
          "output_type": "execute_result",
          "data": {
            "text/plain": [
              "'from sklearn.preprocessing import StandardScaler\\nscaler = StandardScaler()\\nX_train = scaler.fit_transform(X_train.reshape(-1, X_train.shape[-1])).reshape(X_train.shape)\\nX_test = scaler.transform(X_test.reshape(-1, X_test.shape[-1])).reshape(X_test.shape)'"
            ],
            "application/vnd.google.colaboratory.intrinsic+json": {
              "type": "string"
            }
          },
          "metadata": {},
          "execution_count": 59
        }
      ]
    },
    {
      "cell_type": "code",
      "source": [
        "history = model_unified.fit(X_train, y_train, validation_data=(X_test, y_test), epochs=10, batch_size=32, callbacks=[reduce_lr, early_stopping])\n",
        "#validation_data=(X_test, y_test)"
      ],
      "metadata": {
        "colab": {
          "base_uri": "https://localhost:8080/",
          "height": 383
        },
        "id": "8e0umOO4xX4Q",
        "outputId": "de15bdda-596d-4c9d-9c45-414e9ae948e3"
      },
      "execution_count": null,
      "outputs": [
        {
          "output_type": "stream",
          "name": "stdout",
          "text": [
            "Epoch 1/10\n",
            "\u001b[1m72/72\u001b[0m \u001b[32m━━━━━━━━━━━━━━━━━━━━\u001b[0m\u001b[37m\u001b[0m \u001b[1m4s\u001b[0m 51ms/step - accuracy: 1.0000 - loss: 0.0020 - val_accuracy: 1.0000 - val_loss: 9.2956e-04 - learning_rate: 0.0010\n",
            "Epoch 2/10\n",
            "\u001b[1m57/72\u001b[0m \u001b[32m━━━━━━━━━━━━━━━\u001b[0m\u001b[37m━━━━━\u001b[0m \u001b[1m0s\u001b[0m 47ms/step - accuracy: 1.0000 - loss: 0.0014"
          ]
        },
        {
          "output_type": "error",
          "ename": "KeyboardInterrupt",
          "evalue": "",
          "traceback": [
            "\u001b[0;31m---------------------------------------------------------------------------\u001b[0m",
            "\u001b[0;31mKeyboardInterrupt\u001b[0m                         Traceback (most recent call last)",
            "\u001b[0;32m<ipython-input-47-ec7ed61e85c2>\u001b[0m in \u001b[0;36m<cell line: 1>\u001b[0;34m()\u001b[0m\n\u001b[0;32m----> 1\u001b[0;31m \u001b[0mhistory\u001b[0m \u001b[0;34m=\u001b[0m \u001b[0mmodel_unified\u001b[0m\u001b[0;34m.\u001b[0m\u001b[0mfit\u001b[0m\u001b[0;34m(\u001b[0m\u001b[0mX_train\u001b[0m\u001b[0;34m,\u001b[0m \u001b[0my_train\u001b[0m\u001b[0;34m,\u001b[0m \u001b[0mvalidation_data\u001b[0m\u001b[0;34m=\u001b[0m\u001b[0;34m(\u001b[0m\u001b[0mX_test\u001b[0m\u001b[0;34m,\u001b[0m \u001b[0my_test\u001b[0m\u001b[0;34m)\u001b[0m\u001b[0;34m,\u001b[0m \u001b[0mepochs\u001b[0m\u001b[0;34m=\u001b[0m\u001b[0;36m10\u001b[0m\u001b[0;34m,\u001b[0m \u001b[0mbatch_size\u001b[0m\u001b[0;34m=\u001b[0m\u001b[0;36m32\u001b[0m\u001b[0;34m,\u001b[0m \u001b[0mcallbacks\u001b[0m\u001b[0;34m=\u001b[0m\u001b[0;34m[\u001b[0m\u001b[0mreduce_lr\u001b[0m\u001b[0;34m,\u001b[0m \u001b[0mearly_stopping\u001b[0m\u001b[0;34m]\u001b[0m\u001b[0;34m)\u001b[0m\u001b[0;34m\u001b[0m\u001b[0;34m\u001b[0m\u001b[0m\n\u001b[0m\u001b[1;32m      2\u001b[0m \u001b[0;31m#validation_data=(X_test, y_test)\u001b[0m\u001b[0;34m\u001b[0m\u001b[0;34m\u001b[0m\u001b[0m\n",
            "\u001b[0;32m/usr/local/lib/python3.10/dist-packages/keras/src/utils/traceback_utils.py\u001b[0m in \u001b[0;36merror_handler\u001b[0;34m(*args, **kwargs)\u001b[0m\n\u001b[1;32m    115\u001b[0m         \u001b[0mfiltered_tb\u001b[0m \u001b[0;34m=\u001b[0m \u001b[0;32mNone\u001b[0m\u001b[0;34m\u001b[0m\u001b[0;34m\u001b[0m\u001b[0m\n\u001b[1;32m    116\u001b[0m         \u001b[0;32mtry\u001b[0m\u001b[0;34m:\u001b[0m\u001b[0;34m\u001b[0m\u001b[0;34m\u001b[0m\u001b[0m\n\u001b[0;32m--> 117\u001b[0;31m             \u001b[0;32mreturn\u001b[0m \u001b[0mfn\u001b[0m\u001b[0;34m(\u001b[0m\u001b[0;34m*\u001b[0m\u001b[0margs\u001b[0m\u001b[0;34m,\u001b[0m \u001b[0;34m**\u001b[0m\u001b[0mkwargs\u001b[0m\u001b[0;34m)\u001b[0m\u001b[0;34m\u001b[0m\u001b[0;34m\u001b[0m\u001b[0m\n\u001b[0m\u001b[1;32m    118\u001b[0m         \u001b[0;32mexcept\u001b[0m \u001b[0mException\u001b[0m \u001b[0;32mas\u001b[0m \u001b[0me\u001b[0m\u001b[0;34m:\u001b[0m\u001b[0;34m\u001b[0m\u001b[0;34m\u001b[0m\u001b[0m\n\u001b[1;32m    119\u001b[0m             \u001b[0mfiltered_tb\u001b[0m \u001b[0;34m=\u001b[0m \u001b[0m_process_traceback_frames\u001b[0m\u001b[0;34m(\u001b[0m\u001b[0me\u001b[0m\u001b[0;34m.\u001b[0m\u001b[0m__traceback__\u001b[0m\u001b[0;34m)\u001b[0m\u001b[0;34m\u001b[0m\u001b[0;34m\u001b[0m\u001b[0m\n",
            "\u001b[0;32m/usr/local/lib/python3.10/dist-packages/keras/src/backend/tensorflow/trainer.py\u001b[0m in \u001b[0;36mfit\u001b[0;34m(self, x, y, batch_size, epochs, verbose, callbacks, validation_split, validation_data, shuffle, class_weight, sample_weight, initial_epoch, steps_per_epoch, validation_steps, validation_batch_size, validation_freq)\u001b[0m\n\u001b[1;32m    318\u001b[0m                 \u001b[0;32mfor\u001b[0m \u001b[0mstep\u001b[0m\u001b[0;34m,\u001b[0m \u001b[0miterator\u001b[0m \u001b[0;32min\u001b[0m \u001b[0mepoch_iterator\u001b[0m\u001b[0;34m.\u001b[0m\u001b[0menumerate_epoch\u001b[0m\u001b[0;34m(\u001b[0m\u001b[0;34m)\u001b[0m\u001b[0;34m:\u001b[0m\u001b[0;34m\u001b[0m\u001b[0;34m\u001b[0m\u001b[0m\n\u001b[1;32m    319\u001b[0m                     \u001b[0mcallbacks\u001b[0m\u001b[0;34m.\u001b[0m\u001b[0mon_train_batch_begin\u001b[0m\u001b[0;34m(\u001b[0m\u001b[0mstep\u001b[0m\u001b[0;34m)\u001b[0m\u001b[0;34m\u001b[0m\u001b[0;34m\u001b[0m\u001b[0m\n\u001b[0;32m--> 320\u001b[0;31m                     \u001b[0mlogs\u001b[0m \u001b[0;34m=\u001b[0m \u001b[0mself\u001b[0m\u001b[0;34m.\u001b[0m\u001b[0mtrain_function\u001b[0m\u001b[0;34m(\u001b[0m\u001b[0miterator\u001b[0m\u001b[0;34m)\u001b[0m\u001b[0;34m\u001b[0m\u001b[0;34m\u001b[0m\u001b[0m\n\u001b[0m\u001b[1;32m    321\u001b[0m                     \u001b[0mlogs\u001b[0m \u001b[0;34m=\u001b[0m \u001b[0mself\u001b[0m\u001b[0;34m.\u001b[0m\u001b[0m_pythonify_logs\u001b[0m\u001b[0;34m(\u001b[0m\u001b[0mlogs\u001b[0m\u001b[0;34m)\u001b[0m\u001b[0;34m\u001b[0m\u001b[0;34m\u001b[0m\u001b[0m\n\u001b[1;32m    322\u001b[0m                     \u001b[0mcallbacks\u001b[0m\u001b[0;34m.\u001b[0m\u001b[0mon_train_batch_end\u001b[0m\u001b[0;34m(\u001b[0m\u001b[0mstep\u001b[0m\u001b[0;34m,\u001b[0m \u001b[0mlogs\u001b[0m\u001b[0;34m)\u001b[0m\u001b[0;34m\u001b[0m\u001b[0;34m\u001b[0m\u001b[0m\n",
            "\u001b[0;32m/usr/local/lib/python3.10/dist-packages/tensorflow/python/util/traceback_utils.py\u001b[0m in \u001b[0;36merror_handler\u001b[0;34m(*args, **kwargs)\u001b[0m\n\u001b[1;32m    148\u001b[0m     \u001b[0mfiltered_tb\u001b[0m \u001b[0;34m=\u001b[0m \u001b[0;32mNone\u001b[0m\u001b[0;34m\u001b[0m\u001b[0;34m\u001b[0m\u001b[0m\n\u001b[1;32m    149\u001b[0m     \u001b[0;32mtry\u001b[0m\u001b[0;34m:\u001b[0m\u001b[0;34m\u001b[0m\u001b[0;34m\u001b[0m\u001b[0m\n\u001b[0;32m--> 150\u001b[0;31m       \u001b[0;32mreturn\u001b[0m \u001b[0mfn\u001b[0m\u001b[0;34m(\u001b[0m\u001b[0;34m*\u001b[0m\u001b[0margs\u001b[0m\u001b[0;34m,\u001b[0m \u001b[0;34m**\u001b[0m\u001b[0mkwargs\u001b[0m\u001b[0;34m)\u001b[0m\u001b[0;34m\u001b[0m\u001b[0;34m\u001b[0m\u001b[0m\n\u001b[0m\u001b[1;32m    151\u001b[0m     \u001b[0;32mexcept\u001b[0m \u001b[0mException\u001b[0m \u001b[0;32mas\u001b[0m \u001b[0me\u001b[0m\u001b[0;34m:\u001b[0m\u001b[0;34m\u001b[0m\u001b[0;34m\u001b[0m\u001b[0m\n\u001b[1;32m    152\u001b[0m       \u001b[0mfiltered_tb\u001b[0m \u001b[0;34m=\u001b[0m \u001b[0m_process_traceback_frames\u001b[0m\u001b[0;34m(\u001b[0m\u001b[0me\u001b[0m\u001b[0;34m.\u001b[0m\u001b[0m__traceback__\u001b[0m\u001b[0;34m)\u001b[0m\u001b[0;34m\u001b[0m\u001b[0;34m\u001b[0m\u001b[0m\n",
            "\u001b[0;32m/usr/local/lib/python3.10/dist-packages/tensorflow/python/eager/polymorphic_function/polymorphic_function.py\u001b[0m in \u001b[0;36m__call__\u001b[0;34m(self, *args, **kwds)\u001b[0m\n\u001b[1;32m    831\u001b[0m \u001b[0;34m\u001b[0m\u001b[0m\n\u001b[1;32m    832\u001b[0m       \u001b[0;32mwith\u001b[0m \u001b[0mOptionalXlaContext\u001b[0m\u001b[0;34m(\u001b[0m\u001b[0mself\u001b[0m\u001b[0;34m.\u001b[0m\u001b[0m_jit_compile\u001b[0m\u001b[0;34m)\u001b[0m\u001b[0;34m:\u001b[0m\u001b[0;34m\u001b[0m\u001b[0;34m\u001b[0m\u001b[0m\n\u001b[0;32m--> 833\u001b[0;31m         \u001b[0mresult\u001b[0m \u001b[0;34m=\u001b[0m \u001b[0mself\u001b[0m\u001b[0;34m.\u001b[0m\u001b[0m_call\u001b[0m\u001b[0;34m(\u001b[0m\u001b[0;34m*\u001b[0m\u001b[0margs\u001b[0m\u001b[0;34m,\u001b[0m \u001b[0;34m**\u001b[0m\u001b[0mkwds\u001b[0m\u001b[0;34m)\u001b[0m\u001b[0;34m\u001b[0m\u001b[0;34m\u001b[0m\u001b[0m\n\u001b[0m\u001b[1;32m    834\u001b[0m \u001b[0;34m\u001b[0m\u001b[0m\n\u001b[1;32m    835\u001b[0m       \u001b[0mnew_tracing_count\u001b[0m \u001b[0;34m=\u001b[0m \u001b[0mself\u001b[0m\u001b[0;34m.\u001b[0m\u001b[0mexperimental_get_tracing_count\u001b[0m\u001b[0;34m(\u001b[0m\u001b[0;34m)\u001b[0m\u001b[0;34m\u001b[0m\u001b[0;34m\u001b[0m\u001b[0m\n",
            "\u001b[0;32m/usr/local/lib/python3.10/dist-packages/tensorflow/python/eager/polymorphic_function/polymorphic_function.py\u001b[0m in \u001b[0;36m_call\u001b[0;34m(self, *args, **kwds)\u001b[0m\n\u001b[1;32m    876\u001b[0m       \u001b[0;31m# In this case we have not created variables on the first call. So we can\u001b[0m\u001b[0;34m\u001b[0m\u001b[0;34m\u001b[0m\u001b[0m\n\u001b[1;32m    877\u001b[0m       \u001b[0;31m# run the first trace but we should fail if variables are created.\u001b[0m\u001b[0;34m\u001b[0m\u001b[0;34m\u001b[0m\u001b[0m\n\u001b[0;32m--> 878\u001b[0;31m       results = tracing_compilation.call_function(\n\u001b[0m\u001b[1;32m    879\u001b[0m           \u001b[0margs\u001b[0m\u001b[0;34m,\u001b[0m \u001b[0mkwds\u001b[0m\u001b[0;34m,\u001b[0m \u001b[0mself\u001b[0m\u001b[0;34m.\u001b[0m\u001b[0m_variable_creation_config\u001b[0m\u001b[0;34m\u001b[0m\u001b[0;34m\u001b[0m\u001b[0m\n\u001b[1;32m    880\u001b[0m       )\n",
            "\u001b[0;32m/usr/local/lib/python3.10/dist-packages/tensorflow/python/eager/polymorphic_function/tracing_compilation.py\u001b[0m in \u001b[0;36mcall_function\u001b[0;34m(args, kwargs, tracing_options)\u001b[0m\n\u001b[1;32m    137\u001b[0m   \u001b[0mbound_args\u001b[0m \u001b[0;34m=\u001b[0m \u001b[0mfunction\u001b[0m\u001b[0;34m.\u001b[0m\u001b[0mfunction_type\u001b[0m\u001b[0;34m.\u001b[0m\u001b[0mbind\u001b[0m\u001b[0;34m(\u001b[0m\u001b[0;34m*\u001b[0m\u001b[0margs\u001b[0m\u001b[0;34m,\u001b[0m \u001b[0;34m**\u001b[0m\u001b[0mkwargs\u001b[0m\u001b[0;34m)\u001b[0m\u001b[0;34m\u001b[0m\u001b[0;34m\u001b[0m\u001b[0m\n\u001b[1;32m    138\u001b[0m   \u001b[0mflat_inputs\u001b[0m \u001b[0;34m=\u001b[0m \u001b[0mfunction\u001b[0m\u001b[0;34m.\u001b[0m\u001b[0mfunction_type\u001b[0m\u001b[0;34m.\u001b[0m\u001b[0munpack_inputs\u001b[0m\u001b[0;34m(\u001b[0m\u001b[0mbound_args\u001b[0m\u001b[0;34m)\u001b[0m\u001b[0;34m\u001b[0m\u001b[0;34m\u001b[0m\u001b[0m\n\u001b[0;32m--> 139\u001b[0;31m   return function._call_flat(  # pylint: disable=protected-access\n\u001b[0m\u001b[1;32m    140\u001b[0m       \u001b[0mflat_inputs\u001b[0m\u001b[0;34m,\u001b[0m \u001b[0mcaptured_inputs\u001b[0m\u001b[0;34m=\u001b[0m\u001b[0mfunction\u001b[0m\u001b[0;34m.\u001b[0m\u001b[0mcaptured_inputs\u001b[0m\u001b[0;34m\u001b[0m\u001b[0;34m\u001b[0m\u001b[0m\n\u001b[1;32m    141\u001b[0m   )\n",
            "\u001b[0;32m/usr/local/lib/python3.10/dist-packages/tensorflow/python/eager/polymorphic_function/concrete_function.py\u001b[0m in \u001b[0;36m_call_flat\u001b[0;34m(self, tensor_inputs, captured_inputs)\u001b[0m\n\u001b[1;32m   1320\u001b[0m         and executing_eagerly):\n\u001b[1;32m   1321\u001b[0m       \u001b[0;31m# No tape is watching; skip to running the function.\u001b[0m\u001b[0;34m\u001b[0m\u001b[0;34m\u001b[0m\u001b[0m\n\u001b[0;32m-> 1322\u001b[0;31m       \u001b[0;32mreturn\u001b[0m \u001b[0mself\u001b[0m\u001b[0;34m.\u001b[0m\u001b[0m_inference_function\u001b[0m\u001b[0;34m.\u001b[0m\u001b[0mcall_preflattened\u001b[0m\u001b[0;34m(\u001b[0m\u001b[0margs\u001b[0m\u001b[0;34m)\u001b[0m\u001b[0;34m\u001b[0m\u001b[0;34m\u001b[0m\u001b[0m\n\u001b[0m\u001b[1;32m   1323\u001b[0m     forward_backward = self._select_forward_and_backward_functions(\n\u001b[1;32m   1324\u001b[0m         \u001b[0margs\u001b[0m\u001b[0;34m,\u001b[0m\u001b[0;34m\u001b[0m\u001b[0;34m\u001b[0m\u001b[0m\n",
            "\u001b[0;32m/usr/local/lib/python3.10/dist-packages/tensorflow/python/eager/polymorphic_function/atomic_function.py\u001b[0m in \u001b[0;36mcall_preflattened\u001b[0;34m(self, args)\u001b[0m\n\u001b[1;32m    214\u001b[0m   \u001b[0;32mdef\u001b[0m \u001b[0mcall_preflattened\u001b[0m\u001b[0;34m(\u001b[0m\u001b[0mself\u001b[0m\u001b[0;34m,\u001b[0m \u001b[0margs\u001b[0m\u001b[0;34m:\u001b[0m \u001b[0mSequence\u001b[0m\u001b[0;34m[\u001b[0m\u001b[0mcore\u001b[0m\u001b[0;34m.\u001b[0m\u001b[0mTensor\u001b[0m\u001b[0;34m]\u001b[0m\u001b[0;34m)\u001b[0m \u001b[0;34m->\u001b[0m \u001b[0mAny\u001b[0m\u001b[0;34m:\u001b[0m\u001b[0;34m\u001b[0m\u001b[0;34m\u001b[0m\u001b[0m\n\u001b[1;32m    215\u001b[0m     \u001b[0;34m\"\"\"Calls with flattened tensor inputs and returns the structured output.\"\"\"\u001b[0m\u001b[0;34m\u001b[0m\u001b[0;34m\u001b[0m\u001b[0m\n\u001b[0;32m--> 216\u001b[0;31m     \u001b[0mflat_outputs\u001b[0m \u001b[0;34m=\u001b[0m \u001b[0mself\u001b[0m\u001b[0;34m.\u001b[0m\u001b[0mcall_flat\u001b[0m\u001b[0;34m(\u001b[0m\u001b[0;34m*\u001b[0m\u001b[0margs\u001b[0m\u001b[0;34m)\u001b[0m\u001b[0;34m\u001b[0m\u001b[0;34m\u001b[0m\u001b[0m\n\u001b[0m\u001b[1;32m    217\u001b[0m     \u001b[0;32mreturn\u001b[0m \u001b[0mself\u001b[0m\u001b[0;34m.\u001b[0m\u001b[0mfunction_type\u001b[0m\u001b[0;34m.\u001b[0m\u001b[0mpack_output\u001b[0m\u001b[0;34m(\u001b[0m\u001b[0mflat_outputs\u001b[0m\u001b[0;34m)\u001b[0m\u001b[0;34m\u001b[0m\u001b[0;34m\u001b[0m\u001b[0m\n\u001b[1;32m    218\u001b[0m \u001b[0;34m\u001b[0m\u001b[0m\n",
            "\u001b[0;32m/usr/local/lib/python3.10/dist-packages/tensorflow/python/eager/polymorphic_function/atomic_function.py\u001b[0m in \u001b[0;36mcall_flat\u001b[0;34m(self, *args)\u001b[0m\n\u001b[1;32m    249\u001b[0m         \u001b[0;32mwith\u001b[0m \u001b[0mrecord\u001b[0m\u001b[0;34m.\u001b[0m\u001b[0mstop_recording\u001b[0m\u001b[0;34m(\u001b[0m\u001b[0;34m)\u001b[0m\u001b[0;34m:\u001b[0m\u001b[0;34m\u001b[0m\u001b[0;34m\u001b[0m\u001b[0m\n\u001b[1;32m    250\u001b[0m           \u001b[0;32mif\u001b[0m \u001b[0mself\u001b[0m\u001b[0;34m.\u001b[0m\u001b[0m_bound_context\u001b[0m\u001b[0;34m.\u001b[0m\u001b[0mexecuting_eagerly\u001b[0m\u001b[0;34m(\u001b[0m\u001b[0;34m)\u001b[0m\u001b[0;34m:\u001b[0m\u001b[0;34m\u001b[0m\u001b[0;34m\u001b[0m\u001b[0m\n\u001b[0;32m--> 251\u001b[0;31m             outputs = self._bound_context.call_function(\n\u001b[0m\u001b[1;32m    252\u001b[0m                 \u001b[0mself\u001b[0m\u001b[0;34m.\u001b[0m\u001b[0mname\u001b[0m\u001b[0;34m,\u001b[0m\u001b[0;34m\u001b[0m\u001b[0;34m\u001b[0m\u001b[0m\n\u001b[1;32m    253\u001b[0m                 \u001b[0mlist\u001b[0m\u001b[0;34m(\u001b[0m\u001b[0margs\u001b[0m\u001b[0;34m)\u001b[0m\u001b[0;34m,\u001b[0m\u001b[0;34m\u001b[0m\u001b[0;34m\u001b[0m\u001b[0m\n",
            "\u001b[0;32m/usr/local/lib/python3.10/dist-packages/tensorflow/python/eager/context.py\u001b[0m in \u001b[0;36mcall_function\u001b[0;34m(self, name, tensor_inputs, num_outputs)\u001b[0m\n\u001b[1;32m   1550\u001b[0m     \u001b[0mcancellation_context\u001b[0m \u001b[0;34m=\u001b[0m \u001b[0mcancellation\u001b[0m\u001b[0;34m.\u001b[0m\u001b[0mcontext\u001b[0m\u001b[0;34m(\u001b[0m\u001b[0;34m)\u001b[0m\u001b[0;34m\u001b[0m\u001b[0;34m\u001b[0m\u001b[0m\n\u001b[1;32m   1551\u001b[0m     \u001b[0;32mif\u001b[0m \u001b[0mcancellation_context\u001b[0m \u001b[0;32mis\u001b[0m \u001b[0;32mNone\u001b[0m\u001b[0;34m:\u001b[0m\u001b[0;34m\u001b[0m\u001b[0;34m\u001b[0m\u001b[0m\n\u001b[0;32m-> 1552\u001b[0;31m       outputs = execute.execute(\n\u001b[0m\u001b[1;32m   1553\u001b[0m           \u001b[0mname\u001b[0m\u001b[0;34m.\u001b[0m\u001b[0mdecode\u001b[0m\u001b[0;34m(\u001b[0m\u001b[0;34m\"utf-8\"\u001b[0m\u001b[0;34m)\u001b[0m\u001b[0;34m,\u001b[0m\u001b[0;34m\u001b[0m\u001b[0;34m\u001b[0m\u001b[0m\n\u001b[1;32m   1554\u001b[0m           \u001b[0mnum_outputs\u001b[0m\u001b[0;34m=\u001b[0m\u001b[0mnum_outputs\u001b[0m\u001b[0;34m,\u001b[0m\u001b[0;34m\u001b[0m\u001b[0;34m\u001b[0m\u001b[0m\n",
            "\u001b[0;32m/usr/local/lib/python3.10/dist-packages/tensorflow/python/eager/execute.py\u001b[0m in \u001b[0;36mquick_execute\u001b[0;34m(op_name, num_outputs, inputs, attrs, ctx, name)\u001b[0m\n\u001b[1;32m     51\u001b[0m   \u001b[0;32mtry\u001b[0m\u001b[0;34m:\u001b[0m\u001b[0;34m\u001b[0m\u001b[0;34m\u001b[0m\u001b[0m\n\u001b[1;32m     52\u001b[0m     \u001b[0mctx\u001b[0m\u001b[0;34m.\u001b[0m\u001b[0mensure_initialized\u001b[0m\u001b[0;34m(\u001b[0m\u001b[0;34m)\u001b[0m\u001b[0;34m\u001b[0m\u001b[0;34m\u001b[0m\u001b[0m\n\u001b[0;32m---> 53\u001b[0;31m     tensors = pywrap_tfe.TFE_Py_Execute(ctx._handle, device_name, op_name,\n\u001b[0m\u001b[1;32m     54\u001b[0m                                         inputs, attrs, num_outputs)\n\u001b[1;32m     55\u001b[0m   \u001b[0;32mexcept\u001b[0m \u001b[0mcore\u001b[0m\u001b[0;34m.\u001b[0m\u001b[0m_NotOkStatusException\u001b[0m \u001b[0;32mas\u001b[0m \u001b[0me\u001b[0m\u001b[0;34m:\u001b[0m\u001b[0;34m\u001b[0m\u001b[0;34m\u001b[0m\u001b[0m\n",
            "\u001b[0;31mKeyboardInterrupt\u001b[0m: "
          ]
        }
      ]
    },
    {
      "cell_type": "code",
      "source": [
        "\"\"\"import matplotlib.pyplot as plt\n",
        "plt.plot(history.history['loss'], label='Loss')\n",
        "plt.plot(history.history['val_loss'], label='Validation Loss')\n",
        "plt.legend()\n",
        "plt.show()\"\"\""
      ],
      "metadata": {
        "colab": {
          "base_uri": "https://localhost:8080/",
          "height": 35
        },
        "id": "cb4POJ2ZDk7y",
        "outputId": "da781935-640d-4fe6-8248-fb38b9a771a4"
      },
      "execution_count": null,
      "outputs": [
        {
          "output_type": "execute_result",
          "data": {
            "text/plain": [
              "\"import matplotlib.pyplot as plt\\nplt.plot(history.history['loss'], label='Loss')\\nplt.plot(history.history['val_loss'], label='Validation Loss')\\nplt.legend()\\nplt.show()\""
            ],
            "application/vnd.google.colaboratory.intrinsic+json": {
              "type": "string"
            }
          },
          "metadata": {},
          "execution_count": 48
        }
      ]
    },
    {
      "cell_type": "code",
      "source": [
        "import matplotlib.pyplot as plt\n",
        "\n",
        "# Plot training & validation accuracy values\n",
        "plt.plot(history.history['accuracy'], label='Train Accuracy')\n",
        "plt.plot(history.history['val_accuracy'], label='Validation Accuracy')\n",
        "plt.title('Model Accuracy')\n",
        "plt.ylabel('Accuracy')\n",
        "plt.xlabel('Epoch')\n",
        "plt.legend()\n",
        "plt.show()\n"
      ],
      "metadata": {
        "colab": {
          "base_uri": "https://localhost:8080/",
          "height": 472
        },
        "id": "lKVpcrhi-As7",
        "outputId": "93f2ea9c-0661-4af9-d77c-bdc7e7444646"
      },
      "execution_count": null,
      "outputs": [
        {
          "output_type": "display_data",
          "data": {
            "text/plain": [
              "<Figure size 640x480 with 1 Axes>"
            ],
            "image/png": "[encoded data removed]"
          },
          "metadata": {}
        }
      ]
    },
    {
      "cell_type": "code",
      "source": [
        "D#history = model_unified.fit(X_train, y_train, epochs=20, batch_size=64, validation_data=(X_test, y_test))\n",
        "#history = model_unified.fit(X_train, y_train, epochs=20)"
      ],
      "metadata": {
        "id": "SedRuvRkuDV7"
      },
      "execution_count": null,
      "outputs": []
    },
    {
      "cell_type": "code",
      "source": [
        "loss, accuracy = model_unified.evaluate(X_test, y_test)\n",
        "print(f\"Unified Model - Test Accuracy: {accuracy:.2f}\")"
      ],
      "metadata": {
        "colab": {
          "base_uri": "https://localhost:8080/"
        },
        "id": "8poXT1karxWA",
        "outputId": "b00ca500-4e68-4083-b9cd-de8bd131af40"
      },
      "execution_count": null,
      "outputs": [
        {
          "output_type": "stream",
          "name": "stdout",
          "text": [
            "\u001b[1m9/9\u001b[0m \u001b[32m━━━━━━━━━━━━━━━━━━━━\u001b[0m\u001b[37m\u001b[0m \u001b[1m0s\u001b[0m 34ms/step - accuracy: 1.0000 - loss: 3.4972e-04\n",
            "Unified Model - Test Accuracy: 1.00\n"
          ]
        }
      ]
    },
    {
      "cell_type": "code",
      "source": [
        "from sklearn.metrics import confusion_matrix, ConfusionMatrixDisplay, f1_score, accuracy_score, classification_report"
      ],
      "metadata": {
        "id": "ycJFrJqKvi9h"
      },
      "execution_count": null,
      "outputs": []
    },
    {
      "cell_type": "code",
      "source": [
        "predictions = model_unified.predict(X_test)"
      ],
      "metadata": {
        "id": "cs_HPx4Hvivg",
        "colab": {
          "base_uri": "https://localhost:8080/"
        },
        "outputId": "38975273-18bb-4a56-ecbf-fb7a70f3c06c"
      },
      "execution_count": null,
      "outputs": [
        {
          "output_type": "stream",
          "name": "stdout",
          "text": [
            "\u001b[1m9/9\u001b[0m \u001b[32m━━━━━━━━━━━━━━━━━━━━\u001b[0m\u001b[37m\u001b[0m \u001b[1m1s\u001b[0m 71ms/step\n"
          ]
        }
      ]
    },
    {
      "cell_type": "code",
      "source": [
        "predictions = np.argmax(predictions, axis=-1)"
      ],
      "metadata": {
        "id": "UXTvgq9rviho"
      },
      "execution_count": null,
      "outputs": []
    },
    {
      "cell_type": "code",
      "source": [
        "print(\"Accuracy : \", accuracy_score(y_test, predictions))\n",
        "print(\"F1 score : \", f1_score(y_test, predictions, average='weighted'))\n",
        "print(\"classification rapport : \\n \", classification_report(y_test, predictions))"
      ],
      "metadata": {
        "colab": {
          "base_uri": "https://localhost:8080/"
        },
        "id": "tYs6aA_RZpSp",
        "outputId": "663b2601-c18f-4258-80db-00c8a5cb5771"
      },
      "execution_count": null,
      "outputs": [
        {
          "output_type": "stream",
          "name": "stdout",
          "text": [
            "Accuracy :  1.0\n",
            "F1 score :  1.0\n",
            "classification rapport : \n",
            "                precision    recall  f1-score   support\n",
            "\n",
            "           0       1.00      1.00      1.00        70\n",
            "           1       1.00      1.00      1.00        74\n",
            "           2       1.00      1.00      1.00        70\n",
            "           3       1.00      1.00      1.00        73\n",
            "\n",
            "    accuracy                           1.00       287\n",
            "   macro avg       1.00      1.00      1.00       287\n",
            "weighted avg       1.00      1.00      1.00       287\n",
            "\n"
          ]
        }
      ]
    },
    {
      "cell_type": "code",
      "source": [
        "from sklearn.metrics import roc_curve, auc\n",
        "import matplotlib.pyplot as plt\n",
        "\n",
        "y_prob = model_unified.predict(X_test)  # Probabilités des prédictions\n",
        "n_classes = len(np.unique(y_test))\n",
        "\n",
        "# Binariser les labels pour ROC-AUC\n",
        "from sklearn.preprocessing import label_binarize\n",
        "y_test_bin = label_binarize(y_test, classes=np.arange(n_classes))\n",
        "\n",
        "# Calcul des courbes ROC\n",
        "for i in range(n_classes):\n",
        "    fpr, tpr, _ = roc_curve(y_test_bin[:, i], y_prob[:, i])\n",
        "    roc_auc = auc(fpr, tpr)\n",
        "    plt.plot(fpr, tpr, label=f\"Classe {i} (AUC = {roc_auc:.2f})\")\n",
        "\n",
        "plt.xlabel(\"Taux de Faux Positifs\")\n",
        "plt.ylabel(\"Taux de Vrais Positifs\")\n",
        "plt.title(\"Courbe ROC\")\n",
        "plt.legend()\n",
        "plt.show()\n"
      ],
      "metadata": {
        "colab": {
          "base_uri": "https://localhost:8080/",
          "height": 490
        },
        "id": "DhaJTjDGtMuD",
        "outputId": "48bd39bb-e91f-47e9-c4e1-ef707aa78b62"
      },
      "execution_count": null,
      "outputs": [
        {
          "output_type": "stream",
          "name": "stdout",
          "text": [
            "\u001b[1m9/9\u001b[0m \u001b[32m━━━━━━━━━━━━━━━━━━━━\u001b[0m\u001b[37m\u001b[0m \u001b[1m0s\u001b[0m 39ms/step\n"
          ]
        },
        {
          "output_type": "display_data",
          "data": {
            "text/plain": [
              "<Figure size 640x480 with 1 Axes>"
            ],
            "image/png": "[encoded data removed]"
          },
          "metadata": {}
        }
      ]
    },
    {
      "cell_type": "code",
      "source": [
        "from sklearn.metrics import precision_recall_curve\n",
        "\n",
        "for i in range(n_classes):\n",
        "    precision, recall, _ = precision_recall_curve(y_test_bin[:, i], y_prob[:, i])\n",
        "    plt.plot(recall, precision, label=f\"Classe {i}\")\n",
        "\n",
        "plt.xlabel(\"Rappel\")\n",
        "plt.ylabel(\"Précision\")\n",
        "plt.title(\"Courbe Précision-Rappel\")\n",
        "plt.legend()\n",
        "plt.show()\n"
      ],
      "metadata": {
        "colab": {
          "base_uri": "https://localhost:8080/",
          "height": 472
        },
        "id": "ByBluvv_tsZi",
        "outputId": "ebc606e4-c578-437e-8089-9cde196bb10d"
      },
      "execution_count": null,
      "outputs": [
        {
          "output_type": "display_data",
          "data": {
            "text/plain": [
              "<Figure size 640x480 with 1 Axes>"
            ],
            "image/png": "[encoded data removed]"
          },
          "metadata": {}
        }
      ]
    },
    {
      "cell_type": "code",
      "source": [
        "from sklearn.model_selection import KFold, cross_val_score\n",
        "\n",
        "# Supposons que X et y soient tes données et tes labels respectifs\n",
        "kf = KFold(n_splits=5)\n",
        "model = ...  # Défini ton modèle ici\n",
        "\n",
        "scores = cross_val_score(model, X, y, cv=kf, scoring='accuracy')\n",
        "print(\"Scores de validation croisée :\", scores)\n",
        "print(\"Précision moyenne :\", scores.mean())\n"
      ],
      "metadata": {
        "id": "O572iqJeb4ay"
      },
      "execution_count": null,
      "outputs": []
    },
    {
      "cell_type": "code",
      "source": [
        "# Architecture multi-modale : données séparées\n",
        "X_ips = segmented_dataIps.drop(columns=['categorie', 'id']).values\n",
        "X_imu = segmented_dataImu.drop(columns=['categorie', 'id']).values\n",
        "X_emg = segmented_dataEmg.drop(columns=['categorie', 'id']).values\n",
        "y_multimodal = segmented_dataEmg['categorie'].values\n",
        "\n",
        "# Séparer les données en train/test pour les deux architectures\n",
        "X_unified_train, X_unified_test, y_unified_train, y_unified_test = train_test_split(X_unified, y_unified, test_size=0.2, random_state=42)\n",
        "\n",
        "X_ips_train, X_ips_test, y_ips_train, y_ips_test = train_test_split(X_ips, y_multimodal, test_size=0.2, random_state=42)\n",
        "X_imu_train, X_imu_test, y_imu_train, y_imu_test = train_test_split(X_imu, y_multimodal, test_size=0.2, random_state=42)\n",
        "X_emg_train, X_emg_test, y_emg_train, y_emg_test = train_test_split(X_emg, y_multimodal, test_size=0.2, random_state=42)"
      ],
      "metadata": {
        "id": "N71PPTUXrxR-"
      },
      "execution_count": null,
      "outputs": []
    },
    {
      "cell_type": "code",
      "source": [
        "print(\"Forme des données unifiées :\", X_unified.shape)\n",
        "print(\"Forme des données IPS :\", X_ips.shape)\n",
        "print(\"Forme des données IMU :\", X_imu.shape)\n",
        "print(\"Forme des données EMG :\", X_emg.shape)\n"
      ],
      "metadata": {
        "colab": {
          "base_uri": "https://localhost:8080/",
          "height": 198
        },
        "id": "hsazUg61NDZn",
        "outputId": "66004164-581c-418d-88d8-7a1090f0f7c1"
      },
      "execution_count": null,
      "outputs": [
        {
          "output_type": "error",
          "ename": "NameError",
          "evalue": "name 'X_unified' is not defined",
          "traceback": [
            "\u001b[0;31m---------------------------------------------------------------------------\u001b[0m",
            "\u001b[0;31mNameError\u001b[0m                                 Traceback (most recent call last)",
            "\u001b[0;32m<ipython-input-25-991bd7d2289a>\u001b[0m in \u001b[0;36m<cell line: 1>\u001b[0;34m()\u001b[0m\n\u001b[0;32m----> 1\u001b[0;31m \u001b[0mprint\u001b[0m\u001b[0;34m(\u001b[0m\u001b[0;34m\"Forme des données unifiées :\"\u001b[0m\u001b[0;34m,\u001b[0m \u001b[0mX_unified\u001b[0m\u001b[0;34m.\u001b[0m\u001b[0mshape\u001b[0m\u001b[0;34m)\u001b[0m\u001b[0;34m\u001b[0m\u001b[0;34m\u001b[0m\u001b[0m\n\u001b[0m\u001b[1;32m      2\u001b[0m \u001b[0mprint\u001b[0m\u001b[0;34m(\u001b[0m\u001b[0;34m\"Forme des données IPS :\"\u001b[0m\u001b[0;34m,\u001b[0m \u001b[0mX_ips\u001b[0m\u001b[0;34m.\u001b[0m\u001b[0mshape\u001b[0m\u001b[0;34m)\u001b[0m\u001b[0;34m\u001b[0m\u001b[0;34m\u001b[0m\u001b[0m\n\u001b[1;32m      3\u001b[0m \u001b[0mprint\u001b[0m\u001b[0;34m(\u001b[0m\u001b[0;34m\"Forme des données IMU :\"\u001b[0m\u001b[0;34m,\u001b[0m \u001b[0mX_imu\u001b[0m\u001b[0;34m.\u001b[0m\u001b[0mshape\u001b[0m\u001b[0;34m)\u001b[0m\u001b[0;34m\u001b[0m\u001b[0;34m\u001b[0m\u001b[0m\n\u001b[1;32m      4\u001b[0m \u001b[0mprint\u001b[0m\u001b[0;34m(\u001b[0m\u001b[0;34m\"Forme des données EMG :\"\u001b[0m\u001b[0;34m,\u001b[0m \u001b[0mX_emg\u001b[0m\u001b[0;34m.\u001b[0m\u001b[0mshape\u001b[0m\u001b[0;34m)\u001b[0m\u001b[0;34m\u001b[0m\u001b[0;34m\u001b[0m\u001b[0m\n",
            "\u001b[0;31mNameError\u001b[0m: name 'X_unified' is not defined"
          ]
        }
      ]
    },
    {
      "cell_type": "code",
      "source": [],
      "metadata": {
        "id": "oDYYfMlVV0Zl"
      },
      "execution_count": null,
      "outputs": []
    },
    {
      "cell_type": "code",
      "source": [],
      "metadata": {
        "id": "Gz6pO4eSRrEr",
        "colab": {
          "base_uri": "https://localhost:8080/",
          "height": 89
        },
        "outputId": "e821f898-4ad4-4859-d012-05d2cbc94e53"
      },
      "execution_count": null,
      "outputs": [
        {
          "output_type": "execute_result",
          "data": {
            "text/plain": [
              "'def align_data_to_median(modalities):\\n\\n  # Obtenir le nombre de fenêtres pour chaque modalité\\n  window_counts = [modality.shape[0] for modality in modalities]\\n  # Calculer la médiane des nombres de fenêtres\\n  median_windows = int(np.median(window_counts))\\n  print(f\"Médiane des fenêtres : {median_windows}\")\\n\\n  aligned_modalities = []\\n  for modality in modalities:\\n      num_windows = modality.shape[0]\\n      if num_windows > median_windows:\\n          # Tronquer si le nombre de fenêtres est supérieur à la médiane\\n          aligned_modality = modality[:median_windows]\\n      elif num_windows < median_windows:\\n          # Compléter si le nombre de fenêtres est inférieur à la médiane\\n          padding_needed = median_windows - num_windows\\n          # Répéter les dernières fenêtres pour compléter\\n          padding = np.tile(modality[-1:], (padding_needed, 1, 1))\\n          aligned_modality = np.concatenate([modality, padding], axis=0)\\n      else:\\n          # Pas de changement si le nombre de fenêtres est égal à la médiane\\n          aligned_modality = modality\\n      aligned_modalities.append(aligned_modality)\\n\\n  return aligned_modalities'"
            ],
            "application/vnd.google.colaboratory.intrinsic+json": {
              "type": "string"
            }
          },
          "metadata": {},
          "execution_count": 114
        }
      ]
    },
    {
      "cell_type": "code",
      "source": [
        "\"\"\"# Données segmentées\n",
        "modalities = [segmented_dataImu, segmented_dataEmg, segmented_dataIps]\n",
        "\n",
        "# Aligner les données à la médiane\n",
        "aligned_modalities = align_data_to_median(modalities)\n",
        "\n",
        "# Vérifier les dimensions après alignement\n",
        "for i, aligned_modality in enumerate(aligned_modalities):\n",
        "    print(f\"Modalité {i + 1} après alignement : {aligned_modality.shape}\")\n",
        "\n",
        "\"\"\""
      ],
      "metadata": {
        "id": "cm1ZMXT5OTeC"
      },
      "execution_count": null,
      "outputs": []
    },
    {
      "cell_type": "code",
      "source": [],
      "metadata": {
        "id": "XaE9I5xujGQA"
      },
      "execution_count": null,
      "outputs": []
    },
    {
      "cell_type": "code",
      "source": [],
      "metadata": {
        "id": "qs55JqFLjGMV"
      },
      "execution_count": null,
      "outputs": []
    },
    {
      "cell_type": "code",
      "source": [],
      "metadata": {
        "id": "pjykm57rjGIp"
      },
      "execution_count": null,
      "outputs": []
    },
    {
      "cell_type": "code",
      "source": [],
      "metadata": {
        "id": "1om8n5ZrjGEi"
      },
      "execution_count": null,
      "outputs": []
    },
    {
      "cell_type": "code",
      "source": [],
      "metadata": {
        "id": "lJg_UQG4jGAr"
      },
      "execution_count": null,
      "outputs": []
    },
    {
      "cell_type": "code",
      "source": [
        "\"\"\"merged_results = []\n",
        "\n",
        "for participant_id in normalized_dataEmg['id'].unique():\n",
        "    emg_participant = normalized_dataEmg[normalized_dataEmg['id'] == participant_id]\n",
        "    imu_participant = normalized_dataImu[normalized_dataImu['id'] == participant_id]\n",
        "    ips_participant = normalized_dataIps[normalized_dataIps['id'] == participant_id]\n",
        "\n",
        "    # Fusionner pour le participant actuel\n",
        "    merged_participant = merge_modalities(emg_participant, imu_participant, ips_participant)\n",
        "\n",
        "    # Sauvegarder les résultats pour éviter de surcharger la RAM\n",
        "    merged_results.append(merged_participant)\n",
        "\n",
        "    # Optionnel : Sauvegarder temporairement sur disque pour libérer de la mémoire\n",
        "    merged_participant.to_csv(f\"merged_participant_{participant_id}.csv\", index=False)\n",
        "\"\"\""
      ],
      "metadata": {
        "id": "3FAlTjjbYhol"
      },
      "execution_count": null,
      "outputs": []
    },
    {
      "cell_type": "code",
      "source": [
        "\"\"\"1 -> back -> ips_1.csv , emg_1.csv, imu_1.csv\n",
        "1 -> forward -> ips_1.csv , emg_1.csv, imu_1.csv\n",
        "1 -> halfsquat -> ips_1.csv , emg_1.csv, imu_1.csv\n",
        "1 -> still -> ips_1.csv , emg_1.csv, imu_1.csv\n",
        "2 -> back -> ips_1.csv , emg_1.csv, imu_1.csv\n",
        "2 -> forward -> ips_1.csv , emg_1.csv, imu_1.csv\n",
        "2 -> halfsquat -> ips_1.csv , emg_1.csv, imu_1.csv\n",
        "2 -> still -> ips_1.csv , emg_1.csv, imu_1.csv\n",
        "3 -> back -> ips_1.csv , emg_1.csv, imu_1.csv\n",
        "3 -> forward -> ips_1.csv , emg_1.csv, imu_1.csv\n",
        "3 -> halfsquat -> ips_1.csv , emg_1.csv, imu_1.csv\n",
        "3 -> still -> ips_1.csv , emg_1.csv, imu_1.csv\n",
        "...\n",
        "25 -> back -> ips_1.csv , emg_1.csv, imu_1.csv\n",
        "25 -> forward -> ips_1.csv , emg_1.csv, imu_1.csv\n",
        "25 -> halfsquat -> ips_1.csv , emg_1.csv, imu_1.csv\n",
        "25 -> still -> ips_1.csv , emg_1.csv, imu_1.csv\"\"\"\n"
      ],
      "metadata": {
        "id": "FBRcP2PdaCVQ"
      },
      "execution_count": null,
      "outputs": []
    }
  ]
}