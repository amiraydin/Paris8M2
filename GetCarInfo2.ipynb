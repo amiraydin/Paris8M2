{
  "nbformat": 4,
  "nbformat_minor": 0,
  "metadata": {
    "colab": {
      "provenance": [],
      "authorship_tag": "ABX9TyPGYP4fLCN+m2B9+s3w47hr"
    },
    "kernelspec": {
      "name": "python3",
      "display_name": "Python 3"
    },
    "language_info": {
      "name": "python"
    }
  },
  "cells": [
    {
      "cell_type": "code",
      "source": [
        "!pip install faker"
      ],
      "metadata": {
        "colab": {
          "base_uri": "https://localhost:8080/"
        },
        "id": "J1gTkEUlGRYO",
        "outputId": "d9839904-5c52-4d43-ef7e-11261afa3b7e"
      },
      "execution_count": 11,
      "outputs": [
        {
          "output_type": "stream",
          "name": "stdout",
          "text": [
            "Collecting faker\n",
            "  Downloading Faker-33.1.0-py3-none-any.whl.metadata (15 kB)\n",
            "Requirement already satisfied: python-dateutil>=2.4 in /usr/local/lib/python3.10/dist-packages (from faker) (2.8.2)\n",
            "Requirement already satisfied: typing-extensions in /usr/local/lib/python3.10/dist-packages (from faker) (4.12.2)\n",
            "Requirement already satisfied: six>=1.5 in /usr/local/lib/python3.10/dist-packages (from python-dateutil>=2.4->faker) (1.17.0)\n",
            "Downloading Faker-33.1.0-py3-none-any.whl (1.9 MB)\n",
            "\u001b[2K   \u001b[90m━━━━━━━━━━━━━━━━━━━━━━━━━━━━━━━━━━━━━━━━\u001b[0m \u001b[32m1.9/1.9 MB\u001b[0m \u001b[31m19.5 MB/s\u001b[0m eta \u001b[36m0:00:00\u001b[0m\n",
            "\u001b[?25hInstalling collected packages: faker\n",
            "Successfully installed faker-33.1.0\n"
          ]
        }
      ]
    },
    {
      "cell_type": "code",
      "source": [
        "import pandas as pd\n",
        "import random\n",
        "from faker import Faker\n",
        "from datetime import date\n",
        "import calendar"
      ],
      "metadata": {
        "id": "MpLjAwoW9hp9"
      },
      "execution_count": 12,
      "outputs": []
    },
    {
      "cell_type": "code",
      "source": [
        "#fake = Faker()\n",
        "\n",
        "carburants = [\"Essence\", \"Diesel\", \"Électrique\", \"Hybride\"]\n",
        "boites_vitesse = [\"Manuelle\", \"Automatique\"]\n",
        "types_vehicules = [\"Berline\", \"Break\", \"SUV\", \"Coupé\", \"Monospace\", \"Pick-up\"]\n",
        "pays_origine = [\"France\", \"Allemagne\", \"Japon\", \"Italie\", \"Espagne\", \"Belgique\", \"Royaume-Uni\", \"États-Unis\"]\n",
        "couleurs = [\"Noir\", \"Blanc\", \"Gris\", \"Bleu\", \"Rouge\", \"Vert\", \"Jaune\", \"Argent\", \"Orange\"]\n",
        "critaires_air = [\"Euro 4\", \"Euro 5\", \"Euro 6\", \"Euro 6d\", \"Euro 7\", \"Euro 8\"]\n",
        "classes_co2 = [\"A\", \"B\", \"C\", \"D\", \"E\"]\n",
        "types_puissance = [\"65\", \"75\", \"90\", \"95\", \"110\", \"120\", \"130\", \"150\", \"200\"]\n",
        "\n",
        "\n",
        "# Dictionnaire des marques et de leurs modèles\n",
        "marques_modeles = {\n",
        "    \"Renault\": [\"Clio\", \"Megane\", \"Talisman\", \"Captur\"],\n",
        "    \"Peugeot\": [\"208\", \"3008\", \"5008\", \"308\"],\n",
        "    \"BMW\": [\"Serie 1\", \"Serie 3\", \"GTR\", \"X5\"],\n",
        "    \"Audi\": [\"A3\", \"A4\", \"Q5\", \"A6\"],\n",
        "    \"Mercedes\": [\"Classe A\", \"Classe C\", \"Classe E\", \"GLC\"],\n",
        "    \"Volkswagen\": [\"Golf\", \"Passat\", \"Tiguan\", \"Arteon\"],\n",
        "    \"Toyota\": [\"Yaris\", \"Corolla\", \"Hilux\", \"RAV4\"]\n",
        "}\n",
        "\n",
        "# Dictionnaire des prix de base par marque et modèle\n",
        "prix_de_base = {\n",
        "    \"Renault\": {\"Clio\": 49000, \"Megane\": 58000, \"Talisman\": 45000, \"Captur\": 45000},\n",
        "    \"Peugeot\": {\"208\": 36000, \"3008\": 55000, \"5008\": 57000, \"308\": 39000},\n",
        "    \"BMW\": {\"Serie 1\": 45000, \"Serie 3\": 45000, \"GTR\": 65000, \"X5\": 60000},\n",
        "    \"Audi\": {\"A3\": 28000, \"A4\": 35000, \"Q5\": 63000, \"A6\": 55000},\n",
        "    \"Mercedes\": {\"Classe A\": 39000, \"Classe C\": 45000, \"Classe E\": 55000, \"GLC\": 60000},\n",
        "    \"Volkswagen\": {\"Golf\": 49000, \"Passat\": 37000, \"Tiguan\": 45000, \"Arteon\": 45000},\n",
        "    \"Toyota\": {\"Yaris\": 46000, \"Corolla\": 55000, \"Hilux\": 49000, \"RAV4\": 50000}\n",
        "}\n",
        "# Fonction pour calculer le prix de la voiture en fonction de la marque et du modèle\n",
        "def calculer_prix(annee_modele, km, marque, modele):\n",
        "    # Vérifier si la marque et le modèle sont dans le dictionnaire\n",
        "    if marque not in prix_de_base or modele not in prix_de_base[marque]:\n",
        "        print(f\"Marque ou modèle inconnu : {marque} {modele}\")\n",
        "        return None\n",
        "\n",
        "    prix_initial = prix_de_base[marque][modele]  # Valeur de base par marque et modèle\n",
        "    # Calcul de la perte annuelle de valeur (environ 7% par an)\n",
        "    age_voiture = 2024 - annee_modele\n",
        "    perte_annuelle = prix_initial * 0.07 * age_voiture\n",
        "    # Calcul de la perte en fonction des kilomètres (1% par tranche de 10 000 km)\n",
        "    perte_km = (km // 10000) * 0.01 * prix_initial\n",
        "    # Calcul du prix final\n",
        "    prix_final = prix_initial - perte_annuelle - perte_km\n",
        "    # Retourner le prix final avec un prix minimum de 1000€\n",
        "    return max(prix_final, 1000)  # Le prix ne doit pas descendre en dessous de 1000€\n",
        "\n",
        "# Exemple d'utilisation\n",
        "#prix_voiture = calculer_prix(2018, 60000, \"Peugeot\", \"3008\")\n",
        "#print(f\"Prix estimé de la voiture : {prix_voiture}€\")\n",
        "\n",
        "# Nombre de voitures à générer\n",
        "n_voitures = 7000\n",
        "\n",
        "# Générer les données\n",
        "data = []\n",
        "for _ in range(n_voitures):\n",
        "    marque = random.choice(list(marques_modeles.keys()))\n",
        "    modele = random.choice(marques_modeles[marque])\n",
        "    annee_modele = random.randint(2005, 2024)\n",
        "    km = random.randint(10000, 250000)\n",
        "\n",
        "    # L'année de mise en circulation : 1-3 ans après l'année du modèle\n",
        "    annee_mise_en_circulation = random.randint(annee_modele, annee_modele + 3)\n",
        "    # Générer un mois et un jour aléatoires en fonction de l'année de mise en circulation\n",
        "    mois = random.randint(1, 12)\n",
        "    jour = random.randint(1, calendar.monthrange(annee_mise_en_circulation, mois)[1])\n",
        "    # Formatage du mois et du jour pour avoir des valeurs à 2 chiffres\n",
        "    mois = str(mois).zfill(2)  # Ajouter un zéro devant si le mois est inférieur à 10\n",
        "    jour = str(jour).zfill(2)\n",
        "    # Créer la date de mise en circulation\n",
        "    #date_mise_en_circulation = date(annee_mise_en_circulation, mois, jour)\n",
        "    date_mise_en_circulation = f\"{annee_mise_en_circulation}-{mois}-{jour}\"\n",
        "\n",
        "    carburant = random.choice(carburants)\n",
        "    boite_vitesse = random.choice(boites_vitesse)\n",
        "    puissance = random.choice(types_puissance)\n",
        "    critere_air = random.choice(critaires_air)\n",
        "    classe_co2 = random.choice(classes_co2)\n",
        "    couleur = random.choice(couleurs)\n",
        "    type_vehicule = random.choice(types_vehicules)\n",
        "    pays = random.choice(pays_origine)\n",
        "    # Calculer le prix de la voiture\n",
        "    prix = calculer_prix(annee_modele, km, marque, modele)\n",
        "\n",
        "    # Ajouter toutes les données dans la liste\n",
        "    data.append({\n",
        "        \"Marque\": marque,\n",
        "        \"Modele\": modele,\n",
        "        \"Annee modele\": annee_modele,\n",
        "        \"Km\": km,\n",
        "        \"Date de premiere mise en circulation\": date_mise_en_circulation,\n",
        "        \"Carburant\": carburant,\n",
        "        \"Boite de vitesse\": boite_vitesse,\n",
        "        \"Puissance\": puissance,\n",
        "        \"Critere air\": critere_air,\n",
        "        \"Classe emission CO2\": classe_co2,\n",
        "        \"Couleur\": couleur,\n",
        "        \"Type de vehicule\": type_vehicule,\n",
        "        \"Pays\": pays,\n",
        "        \"Prix\": prix\n",
        "    })\n",
        "# Créer le DataFrame\n",
        "df = pd.DataFrame(data)\n",
        "\n",
        "# Afficher les premières lignes du dataset\n",
        "print(df.head())\n",
        "\n",
        "# Sauvegarder le dataset en fichier CSV\n",
        "df.to_csv(\"dataset_voitures_avec_prix.csv\", index=False)\n",
        "\n",
        "# Si tu veux sauvegarder en Excel, tu peux utiliser cette ligne :\n",
        "# df.to_excel(\"dataset_voitures_avec_prix.xlsx\", index=False)\n"
      ],
      "metadata": {
        "colab": {
          "base_uri": "https://localhost:8080/"
        },
        "id": "HLC6eqmu-jsU",
        "outputId": "c0f3a098-ee50-4424-dd95-b042ae1fc922"
      },
      "execution_count": 18,
      "outputs": [
        {
          "output_type": "stream",
          "name": "stdout",
          "text": [
            "     Marque    Modele  Annee modele      Km  \\\n",
            "0   Peugeot       208          2016  190748   \n",
            "1    Toyota      RAV4          2011   90709   \n",
            "2   Renault  Talisman          2006  212685   \n",
            "3  Mercedes  Classe E          2014   70045   \n",
            "4      Audi        A4          2007  202052   \n",
            "\n",
            "  Date de premiere mise en circulation   Carburant Boite de vitesse Puissance  \\\n",
            "0                           2016-05-29      Diesel         Manuelle       120   \n",
            "1                           2011-09-28  Électrique      Automatique        65   \n",
            "2                           2007-03-21  Électrique      Automatique       150   \n",
            "3                           2014-06-28     Hybride         Manuelle        65   \n",
            "4                           2010-01-06     Essence      Automatique        75   \n",
            "\n",
            "  Critere air Classe emission CO2 Couleur Type de vehicule         Pays  \\\n",
            "0      Euro 7                   A   Blanc        Monospace  Royaume-Uni   \n",
            "1      Euro 6                   C   Rouge          Pick-up      Espagne   \n",
            "2     Euro 6d                   B   Blanc              SUV   États-Unis   \n",
            "3      Euro 7                   C    Bleu          Pick-up      Espagne   \n",
            "4      Euro 7                   A   Rouge          Berline       France   \n",
            "\n",
            "      Prix  \n",
            "0   9000.0  \n",
            "1   1000.0  \n",
            "2   1000.0  \n",
            "3  12650.0  \n",
            "4   1000.0  \n"
          ]
        }
      ]
    }
  ]
}