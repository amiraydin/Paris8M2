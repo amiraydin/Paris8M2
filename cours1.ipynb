{
  "nbformat": 4,
  "nbformat_minor": 0,
  "metadata": {
    "colab": {
      "provenance": [],
      "authorship_tag": "ABX9TyNZzJ0pTsnVkiL0+eabPDzB",
      "include_colab_link": true
    },
    "kernelspec": {
      "name": "python3",
      "display_name": "Python 3"
    },
    "language_info": {
      "name": "python"
    }
  },
  "cells": [
    {
      "cell_type": "markdown",
      "metadata": {
        "id": "view-in-github",
        "colab_type": "text"
      },
      "source": [
        "<a href=\"https://colab.research.google.com/github/amiraydin/Paris8M2/blob/main/cours1.ipynb\" target=\"_parent\"><img src=\"https://colab.research.google.com/assets/colab-badge.svg\" alt=\"Open In Colab\"/></a>"
      ]
    },
    {
      "cell_type": "code",
      "source": [
        "import numpy as np\n",
        "np.__version__\n",
        "\n",
        "l = [5, 10, 15, 20, 25]\n",
        "lst = np.array(l, dtype=np.float64)\n",
        "lst"
      ],
      "metadata": {
        "colab": {
          "base_uri": "https://localhost:8080/"
        },
        "id": "VtDOpTtRdA9_",
        "outputId": "87d30aca-eea1-4a6e-a309-a6e4370e1535"
      },
      "execution_count": 51,
      "outputs": [
        {
          "output_type": "execute_result",
          "data": {
            "text/plain": [
              "array([ 5., 10., 15., 20., 25.])"
            ]
          },
          "metadata": {},
          "execution_count": 51
        }
      ]
    },
    {
      "cell_type": "code",
      "source": [],
      "metadata": {
        "id": "4rKVUv6ndw81"
      },
      "execution_count": null,
      "outputs": []
    },
    {
      "cell_type": "markdown",
      "source": [
        "Create a 2D NumPy array from the nested list [[1, 2, 3], [4, 5, 6], [7, 8, 9]]. Print the shape and size of the array."
      ],
      "metadata": {
        "id": "OICW5Kxed5DY"
      }
    },
    {
      "cell_type": "code",
      "source": [
        "la = [[1, 2, 3], [4, 5, 6], [7, 8, 9]]\n",
        "lan = np.array(la).reshape(3, -1)\n",
        "lan\n",
        "lan.shape\n",
        "print(\"the shape of the array is: \", lan.shape)\n",
        "lan.size\n",
        "print(\"total number of items is: \", lan.size)"
      ],
      "metadata": {
        "colab": {
          "base_uri": "https://localhost:8080/"
        },
        "id": "spxbOifgd6ML",
        "outputId": "13a90077-c3b8-4088-9fd3-341bc1bd75b9"
      },
      "execution_count": 69,
      "outputs": [
        {
          "output_type": "stream",
          "name": "stdout",
          "text": [
            "the shape of the array is:  (3, 3)\n",
            "total number of items is:  9\n"
          ]
        }
      ]
    },
    {
      "cell_type": "markdown",
      "source": [
        "Create a 3D NumPy array with random values of shape (2, 3, 4). Print the number of dimensions and the shape of the array.\n"
      ],
      "metadata": {
        "id": "kCbaouFkh749"
      }
    },
    {
      "cell_type": "code",
      "source": [
        "ex3 = np.random.randn(2 * 3 * 4).reshape(2, 3, 4)\n",
        "ex3\n",
        "ex3.shape\n",
        "print(\"the shape of the array is: \", ex3.shape)\n",
        "ex3.size\n",
        "print(\"total number of items is: \", ex3.size)"
      ],
      "metadata": {
        "colab": {
          "base_uri": "https://localhost:8080/"
        },
        "id": "MtcRsZ2uhk_U",
        "outputId": "c0065c4f-8ecf-4e9d-bbd8-e0c016361d21"
      },
      "execution_count": 72,
      "outputs": [
        {
          "output_type": "stream",
          "name": "stdout",
          "text": [
            "the shape of the array is:  (2, 3, 4)\n",
            "total number of items is:  24\n"
          ]
        }
      ]
    },
    {
      "cell_type": "markdown",
      "source": [
        "Create a 1D NumPy array with the numbers from 0 to 9. Reverse the array and print it.\n"
      ],
      "metadata": {
        "id": "otsx_3XAjH0I"
      }
    },
    {
      "cell_type": "code",
      "source": [
        "ex2 = np.arange(0, 10)\n",
        "ex2\n",
        "ex2[::-1]"
      ],
      "metadata": {
        "colab": {
          "base_uri": "https://localhost:8080/"
        },
        "id": "UPmXLV2rjPwP",
        "outputId": "81d782c3-7073-43a8-a2e8-769fb5ec6ce1"
      },
      "execution_count": 79,
      "outputs": [
        {
          "output_type": "execute_result",
          "data": {
            "text/plain": [
              "array([9, 8, 7, 6, 5, 4, 3, 2, 1, 0])"
            ]
          },
          "metadata": {},
          "execution_count": 79
        }
      ]
    },
    {
      "cell_type": "markdown",
      "source": [
        "Create a 2D NumPy array with the numbers from 0 to 11, arranged in a 3x4 shape. Extract a subarray consisting of the first two rows and the last two columns, and print it."
      ],
      "metadata": {
        "id": "-srVHBHBlSed"
      }
    },
    {
      "cell_type": "code",
      "source": [
        "ex22 = np.arange(0, 12).reshape(3 * 4)\n",
        "ex22"
      ],
      "metadata": {
        "colab": {
          "base_uri": "https://localhost:8080/"
        },
        "id": "rxhKQXeelZrf",
        "outputId": "9d082cc2-f3f2-468f-f3ba-73962ad4b04b"
      },
      "execution_count": 80,
      "outputs": [
        {
          "output_type": "execute_result",
          "data": {
            "text/plain": [
              "array([ 0,  1,  2,  3,  4,  5,  6,  7,  8,  9, 10, 11])"
            ]
          },
          "metadata": {},
          "execution_count": 80
        }
      ]
    },
    {
      "cell_type": "code",
      "source": [],
      "metadata": {
        "id": "e5_T572inRY6"
      },
      "execution_count": null,
      "outputs": []
    }
  ]
}